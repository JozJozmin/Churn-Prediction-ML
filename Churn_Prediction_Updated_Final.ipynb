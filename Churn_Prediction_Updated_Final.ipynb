{
  "nbformat": 4,
  "nbformat_minor": 0,
  "metadata": {
    "colab": {
      "provenance": [],
      "collapsed_sections": [],
      "authorship_tag": "ABX9TyP0cBcc7fYGDoDWWa5m6/q5",
      "include_colab_link": true
    },
    "kernelspec": {
      "name": "python3",
      "display_name": "Python 3"
    },
    "language_info": {
      "name": "python"
    }
  },
  "cells": [
    {
      "cell_type": "markdown",
      "metadata": {
        "id": "view-in-github",
        "colab_type": "text"
      },
      "source": [
        "<a href=\"https://colab.research.google.com/github/JozJozmin/Churn-Prediction-ML/blob/main/Churn_Prediction_Updated_Final.ipynb\" target=\"_parent\"><img src=\"https://colab.research.google.com/assets/colab-badge.svg\" alt=\"Open In Colab\"/></a>"
      ]
    },
    {
      "cell_type": "code",
      "execution_count": null,
      "metadata": {
        "id": "2pb_2wuwZFGg"
      },
      "outputs": [],
      "source": [
        "### IMPORTING REQUIRED LIBRARIES FOR PLOTING AND BASIC OPERATIONS\n",
        "import pandas as pd\n",
        "import matplotlib.pyplot as plt \n",
        "import seaborn as sns\n",
        "import plotly.express as px\n",
        "import numpy as np\n",
        "\n",
        "import plotly.express as px\n",
        "import matplotlib.pyplot as plt\n",
        "import seaborn as sns\n",
        "%matplotlib inline\n",
        "\n",
        "sns.set_style('darkgrid')\n",
        "plt.rcParams['font.size'] = 11\n",
        "plt.rcParams['figure.figsize'] = (10, 6)\n",
        "\n",
        "from sklearn.model_selection import cross_val_score\n",
        "from sklearn.model_selection import KFold\n",
        "from sklearn import model_selection\n",
        "from sklearn.metrics import f1_score\n",
        "from sklearn.linear_model import LogisticRegression\n",
        "from sklearn.metrics import confusion_matrix"
      ]
    },
    {
      "cell_type": "code",
      "source": [
        "%matplotlib inline"
      ],
      "metadata": {
        "id": "_Y7H3o8ihMQj"
      },
      "execution_count": null,
      "outputs": []
    },
    {
      "cell_type": "code",
      "source": [
        "import warnings\n",
        "warnings.filterwarnings(\"ignore\")"
      ],
      "metadata": {
        "id": "OfGmh-j_ZsVz"
      },
      "execution_count": null,
      "outputs": []
    },
    {
      "cell_type": "code",
      "source": [
        "### mounting google drive\n",
        "from google.colab import drive\n",
        "drive.mount('/content/drive')"
      ],
      "metadata": {
        "colab": {
          "base_uri": "https://localhost:8080/"
        },
        "id": "II6LUtDyZ-9h",
        "outputId": "0ac8c7a0-01ba-4b2f-e2d6-b3e8120c4975"
      },
      "execution_count": null,
      "outputs": [
        {
          "output_type": "stream",
          "name": "stdout",
          "text": [
            "Drive already mounted at /content/drive; to attempt to forcibly remount, call drive.mount(\"/content/drive\", force_remount=True).\n"
          ]
        }
      ]
    },
    {
      "cell_type": "markdown",
      "source": [
        "##   **Data Preparation and Cleaning** <br>\n",
        "\n",
        "*   Loading the dataset into pandas dataframe. <br>\n",
        "*   Checking the info. about data and columns \n",
        "*   Fixing the missing & incorrect values."
      ],
      "metadata": {
        "id": "Q4N36bfwc6mV"
      }
    },
    {
      "cell_type": "markdown",
      "source": [
        "### 1. Loading the dataset into pandas dataframe"
      ],
      "metadata": {
        "id": "FfZOA2ANdB6M"
      }
    },
    {
      "cell_type": "code",
      "source": [
        "### Importing both the test and train data\n",
        "test_df = pd.read_csv('/content/drive/MyDrive/Personal Projects /Churn Prediction improved model /test_lTY72QC.csv')\n",
        "train_df = pd.read_csv('/content/drive/MyDrive/Personal Projects /Churn Prediction improved model /train_PDjVQMB.csv')"
      ],
      "metadata": {
        "id": "YYoRd4D3aBsU"
      },
      "execution_count": null,
      "outputs": []
    },
    {
      "cell_type": "code",
      "source": [
        "train_df.head()"
      ],
      "metadata": {
        "colab": {
          "base_uri": "https://localhost:8080/",
          "height": 206
        },
        "id": "pr2yTukDa2Qf",
        "outputId": "2182b5cf-f4a9-426b-928d-1ab42d2a042b"
      },
      "execution_count": null,
      "outputs": [
        {
          "output_type": "execute_result",
          "data": {
            "text/plain": [
              "         ID  Age  Gender         Income     Balance  Vintage  \\\n",
              "0  84e2fcc9   36  Female       5L - 10L   563266.44        4   \n",
              "1  57fea15e   53  Female   Less than 5L   875572.11        2   \n",
              "2  8df34ef3   35  Female  More than 15L   701607.06        2   \n",
              "3  c5c0788b   43  Female  More than 15L  1393922.16        0   \n",
              "4  951d69c4   39  Female  More than 15L   893146.23        1   \n",
              "\n",
              "   Transaction_Status Product_Holdings  Credit_Card Credit_Category  Is_Churn  \n",
              "0                   0                1            0         Average         1  \n",
              "1                   1                1            1            Poor         0  \n",
              "2                   1                2            0            Poor         0  \n",
              "3                   1                2            1            Poor         1  \n",
              "4                   1                1            1            Good         1  "
            ],
            "text/html": [
              "\n",
              "  <div id=\"df-97309197-1821-4879-ba67-516058cc6c8d\">\n",
              "    <div class=\"colab-df-container\">\n",
              "      <div>\n",
              "<style scoped>\n",
              "    .dataframe tbody tr th:only-of-type {\n",
              "        vertical-align: middle;\n",
              "    }\n",
              "\n",
              "    .dataframe tbody tr th {\n",
              "        vertical-align: top;\n",
              "    }\n",
              "\n",
              "    .dataframe thead th {\n",
              "        text-align: right;\n",
              "    }\n",
              "</style>\n",
              "<table border=\"1\" class=\"dataframe\">\n",
              "  <thead>\n",
              "    <tr style=\"text-align: right;\">\n",
              "      <th></th>\n",
              "      <th>ID</th>\n",
              "      <th>Age</th>\n",
              "      <th>Gender</th>\n",
              "      <th>Income</th>\n",
              "      <th>Balance</th>\n",
              "      <th>Vintage</th>\n",
              "      <th>Transaction_Status</th>\n",
              "      <th>Product_Holdings</th>\n",
              "      <th>Credit_Card</th>\n",
              "      <th>Credit_Category</th>\n",
              "      <th>Is_Churn</th>\n",
              "    </tr>\n",
              "  </thead>\n",
              "  <tbody>\n",
              "    <tr>\n",
              "      <th>0</th>\n",
              "      <td>84e2fcc9</td>\n",
              "      <td>36</td>\n",
              "      <td>Female</td>\n",
              "      <td>5L - 10L</td>\n",
              "      <td>563266.44</td>\n",
              "      <td>4</td>\n",
              "      <td>0</td>\n",
              "      <td>1</td>\n",
              "      <td>0</td>\n",
              "      <td>Average</td>\n",
              "      <td>1</td>\n",
              "    </tr>\n",
              "    <tr>\n",
              "      <th>1</th>\n",
              "      <td>57fea15e</td>\n",
              "      <td>53</td>\n",
              "      <td>Female</td>\n",
              "      <td>Less than 5L</td>\n",
              "      <td>875572.11</td>\n",
              "      <td>2</td>\n",
              "      <td>1</td>\n",
              "      <td>1</td>\n",
              "      <td>1</td>\n",
              "      <td>Poor</td>\n",
              "      <td>0</td>\n",
              "    </tr>\n",
              "    <tr>\n",
              "      <th>2</th>\n",
              "      <td>8df34ef3</td>\n",
              "      <td>35</td>\n",
              "      <td>Female</td>\n",
              "      <td>More than 15L</td>\n",
              "      <td>701607.06</td>\n",
              "      <td>2</td>\n",
              "      <td>1</td>\n",
              "      <td>2</td>\n",
              "      <td>0</td>\n",
              "      <td>Poor</td>\n",
              "      <td>0</td>\n",
              "    </tr>\n",
              "    <tr>\n",
              "      <th>3</th>\n",
              "      <td>c5c0788b</td>\n",
              "      <td>43</td>\n",
              "      <td>Female</td>\n",
              "      <td>More than 15L</td>\n",
              "      <td>1393922.16</td>\n",
              "      <td>0</td>\n",
              "      <td>1</td>\n",
              "      <td>2</td>\n",
              "      <td>1</td>\n",
              "      <td>Poor</td>\n",
              "      <td>1</td>\n",
              "    </tr>\n",
              "    <tr>\n",
              "      <th>4</th>\n",
              "      <td>951d69c4</td>\n",
              "      <td>39</td>\n",
              "      <td>Female</td>\n",
              "      <td>More than 15L</td>\n",
              "      <td>893146.23</td>\n",
              "      <td>1</td>\n",
              "      <td>1</td>\n",
              "      <td>1</td>\n",
              "      <td>1</td>\n",
              "      <td>Good</td>\n",
              "      <td>1</td>\n",
              "    </tr>\n",
              "  </tbody>\n",
              "</table>\n",
              "</div>\n",
              "      <button class=\"colab-df-convert\" onclick=\"convertToInteractive('df-97309197-1821-4879-ba67-516058cc6c8d')\"\n",
              "              title=\"Convert this dataframe to an interactive table.\"\n",
              "              style=\"display:none;\">\n",
              "        \n",
              "  <svg xmlns=\"http://www.w3.org/2000/svg\" height=\"24px\"viewBox=\"0 0 24 24\"\n",
              "       width=\"24px\">\n",
              "    <path d=\"M0 0h24v24H0V0z\" fill=\"none\"/>\n",
              "    <path d=\"M18.56 5.44l.94 2.06.94-2.06 2.06-.94-2.06-.94-.94-2.06-.94 2.06-2.06.94zm-11 1L8.5 8.5l.94-2.06 2.06-.94-2.06-.94L8.5 2.5l-.94 2.06-2.06.94zm10 10l.94 2.06.94-2.06 2.06-.94-2.06-.94-.94-2.06-.94 2.06-2.06.94z\"/><path d=\"M17.41 7.96l-1.37-1.37c-.4-.4-.92-.59-1.43-.59-.52 0-1.04.2-1.43.59L10.3 9.45l-7.72 7.72c-.78.78-.78 2.05 0 2.83L4 21.41c.39.39.9.59 1.41.59.51 0 1.02-.2 1.41-.59l7.78-7.78 2.81-2.81c.8-.78.8-2.07 0-2.86zM5.41 20L4 18.59l7.72-7.72 1.47 1.35L5.41 20z\"/>\n",
              "  </svg>\n",
              "      </button>\n",
              "      \n",
              "  <style>\n",
              "    .colab-df-container {\n",
              "      display:flex;\n",
              "      flex-wrap:wrap;\n",
              "      gap: 12px;\n",
              "    }\n",
              "\n",
              "    .colab-df-convert {\n",
              "      background-color: #E8F0FE;\n",
              "      border: none;\n",
              "      border-radius: 50%;\n",
              "      cursor: pointer;\n",
              "      display: none;\n",
              "      fill: #1967D2;\n",
              "      height: 32px;\n",
              "      padding: 0 0 0 0;\n",
              "      width: 32px;\n",
              "    }\n",
              "\n",
              "    .colab-df-convert:hover {\n",
              "      background-color: #E2EBFA;\n",
              "      box-shadow: 0px 1px 2px rgba(60, 64, 67, 0.3), 0px 1px 3px 1px rgba(60, 64, 67, 0.15);\n",
              "      fill: #174EA6;\n",
              "    }\n",
              "\n",
              "    [theme=dark] .colab-df-convert {\n",
              "      background-color: #3B4455;\n",
              "      fill: #D2E3FC;\n",
              "    }\n",
              "\n",
              "    [theme=dark] .colab-df-convert:hover {\n",
              "      background-color: #434B5C;\n",
              "      box-shadow: 0px 1px 3px 1px rgba(0, 0, 0, 0.15);\n",
              "      filter: drop-shadow(0px 1px 2px rgba(0, 0, 0, 0.3));\n",
              "      fill: #FFFFFF;\n",
              "    }\n",
              "  </style>\n",
              "\n",
              "      <script>\n",
              "        const buttonEl =\n",
              "          document.querySelector('#df-97309197-1821-4879-ba67-516058cc6c8d button.colab-df-convert');\n",
              "        buttonEl.style.display =\n",
              "          google.colab.kernel.accessAllowed ? 'block' : 'none';\n",
              "\n",
              "        async function convertToInteractive(key) {\n",
              "          const element = document.querySelector('#df-97309197-1821-4879-ba67-516058cc6c8d');\n",
              "          const dataTable =\n",
              "            await google.colab.kernel.invokeFunction('convertToInteractive',\n",
              "                                                     [key], {});\n",
              "          if (!dataTable) return;\n",
              "\n",
              "          const docLinkHtml = 'Like what you see? Visit the ' +\n",
              "            '<a target=\"_blank\" href=https://colab.research.google.com/notebooks/data_table.ipynb>data table notebook</a>'\n",
              "            + ' to learn more about interactive tables.';\n",
              "          element.innerHTML = '';\n",
              "          dataTable['output_type'] = 'display_data';\n",
              "          await google.colab.output.renderOutput(dataTable, element);\n",
              "          const docLink = document.createElement('div');\n",
              "          docLink.innerHTML = docLinkHtml;\n",
              "          element.appendChild(docLink);\n",
              "        }\n",
              "      </script>\n",
              "    </div>\n",
              "  </div>\n",
              "  "
            ]
          },
          "metadata": {},
          "execution_count": 170
        }
      ]
    },
    {
      "cell_type": "markdown",
      "source": [
        "### 2. Checking the info. about data and columns"
      ],
      "metadata": {
        "id": "0Aynz4yMdKKd"
      }
    },
    {
      "cell_type": "code",
      "source": [
        "print(f' The shape of test data is;{test_df.shape}')\n",
        "print(f' The shape of train data is;{train_df.shape}')"
      ],
      "metadata": {
        "colab": {
          "base_uri": "https://localhost:8080/"
        },
        "id": "vsuFYsAfafDH",
        "outputId": "3fc6bfc5-d849-46a0-e81d-69fef80e463d"
      },
      "execution_count": null,
      "outputs": [
        {
          "output_type": "stream",
          "name": "stdout",
          "text": [
            " The shape of test data is;(2851, 10)\n",
            " The shape of train data is;(6650, 11)\n"
          ]
        }
      ]
    },
    {
      "cell_type": "code",
      "source": [
        "train_df.columns"
      ],
      "metadata": {
        "colab": {
          "base_uri": "https://localhost:8080/"
        },
        "id": "DOkZkMvOapCK",
        "outputId": "10c16e7c-35bd-4814-b086-70cf724209d3"
      },
      "execution_count": null,
      "outputs": [
        {
          "output_type": "execute_result",
          "data": {
            "text/plain": [
              "Index(['ID', 'Age', 'Gender', 'Income', 'Balance', 'Vintage',\n",
              "       'Transaction_Status', 'Product_Holdings', 'Credit_Card',\n",
              "       'Credit_Category', 'Is_Churn'],\n",
              "      dtype='object')"
            ]
          },
          "metadata": {},
          "execution_count": 172
        }
      ]
    },
    {
      "cell_type": "code",
      "source": [
        "### checking the quantiy of no.s of zeros and ones in the target column of train_df data\n",
        "train_df['Is_Churn'].value_counts()"
      ],
      "metadata": {
        "colab": {
          "base_uri": "https://localhost:8080/"
        },
        "id": "P0Uix4Xfa9r6",
        "outputId": "20461ddc-da0d-4b87-b953-6f33ba90eae6"
      },
      "execution_count": null,
      "outputs": [
        {
          "output_type": "execute_result",
          "data": {
            "text/plain": [
              "0    5113\n",
              "1    1537\n",
              "Name: Is_Churn, dtype: int64"
            ]
          },
          "metadata": {},
          "execution_count": 173
        }
      ]
    },
    {
      "cell_type": "code",
      "source": [
        "sns.countplot('Is_Churn', data=train_df)\n",
        "plt.title('Class Distributions \\n (0: No leaving || 1: leaving)') "
      ],
      "metadata": {
        "colab": {
          "base_uri": "https://localhost:8080/",
          "height": 328
        },
        "id": "9Mi1fyR4bAt8",
        "outputId": "956ede8f-84bb-49e8-d0c8-32f9be261569"
      },
      "execution_count": null,
      "outputs": [
        {
          "output_type": "execute_result",
          "data": {
            "text/plain": [
              "Text(0.5, 1.0, 'Class Distributions \\n (0: No leaving || 1: leaving)')"
            ]
          },
          "metadata": {},
          "execution_count": 174
        },
        {
          "output_type": "display_data",
          "data": {
            "text/plain": [
              "<Figure size 432x288 with 1 Axes>"
            ],
            "image/png": "[encoded data removed]"
          },
          "metadata": {
            "needs_background": "light"
          }
        }
      ]
    },
    {
      "cell_type": "markdown",
      "source": [
        "As we can see, this is an imbalanced dataset."
      ],
      "metadata": {
        "id": "_eTVRNLKcmPv"
      }
    },
    {
      "cell_type": "code",
      "source": [
        "train_df.info()"
      ],
      "metadata": {
        "colab": {
          "base_uri": "https://localhost:8080/"
        },
        "id": "fmwG1GxMbIy6",
        "outputId": "9f14f36d-92cc-439c-a64e-09fb72cfbdf8"
      },
      "execution_count": null,
      "outputs": [
        {
          "output_type": "stream",
          "name": "stdout",
          "text": [
            "<class 'pandas.core.frame.DataFrame'>\n",
            "RangeIndex: 6650 entries, 0 to 6649\n",
            "Data columns (total 11 columns):\n",
            " #   Column              Non-Null Count  Dtype  \n",
            "---  ------              --------------  -----  \n",
            " 0   ID                  6650 non-null   object \n",
            " 1   Age                 6650 non-null   int64  \n",
            " 2   Gender              6650 non-null   object \n",
            " 3   Income              6650 non-null   object \n",
            " 4   Balance             6650 non-null   float64\n",
            " 5   Vintage             6650 non-null   int64  \n",
            " 6   Transaction_Status  6650 non-null   int64  \n",
            " 7   Product_Holdings    6650 non-null   object \n",
            " 8   Credit_Card         6650 non-null   int64  \n",
            " 9   Credit_Category     6650 non-null   object \n",
            " 10  Is_Churn            6650 non-null   int64  \n",
            "dtypes: float64(1), int64(5), object(5)\n",
            "memory usage: 571.6+ KB\n"
          ]
        }
      ]
    },
    {
      "cell_type": "code",
      "source": [
        "test_df.info()"
      ],
      "metadata": {
        "colab": {
          "base_uri": "https://localhost:8080/"
        },
        "id": "12rdpzO2bxCa",
        "outputId": "22c35db8-306b-4493-8625-ecb6d565a6aa"
      },
      "execution_count": null,
      "outputs": [
        {
          "output_type": "stream",
          "name": "stdout",
          "text": [
            "<class 'pandas.core.frame.DataFrame'>\n",
            "RangeIndex: 2851 entries, 0 to 2850\n",
            "Data columns (total 10 columns):\n",
            " #   Column              Non-Null Count  Dtype  \n",
            "---  ------              --------------  -----  \n",
            " 0   ID                  2851 non-null   object \n",
            " 1   Age                 2851 non-null   int64  \n",
            " 2   Gender              2851 non-null   object \n",
            " 3   Income              2851 non-null   object \n",
            " 4   Balance             2851 non-null   float64\n",
            " 5   Vintage             2851 non-null   int64  \n",
            " 6   Transaction_Status  2851 non-null   int64  \n",
            " 7   Product_Holdings    2851 non-null   object \n",
            " 8   Credit_Card         2851 non-null   int64  \n",
            " 9   Credit_Category     2851 non-null   object \n",
            "dtypes: float64(1), int64(4), object(5)\n",
            "memory usage: 222.9+ KB\n"
          ]
        }
      ]
    },
    {
      "cell_type": "code",
      "source": [
        "#### checking the range of details of each featurs in the given train_data\n",
        "train_df.describe(include =['int64','float64'])"
      ],
      "metadata": {
        "colab": {
          "base_uri": "https://localhost:8080/",
          "height": 300
        },
        "id": "yhfrCzwtbgtS",
        "outputId": "57954729-a5a5-4ca8-eb56-6ab4b2c5db92"
      },
      "execution_count": null,
      "outputs": [
        {
          "output_type": "execute_result",
          "data": {
            "text/plain": [
              "               Age       Balance      Vintage  Transaction_Status  \\\n",
              "count  6650.000000  6.650000e+03  6650.000000         6650.000000   \n",
              "mean     41.130226  8.045954e+05     2.250226            0.515789   \n",
              "std       9.685747  5.157549e+05     1.458795            0.499788   \n",
              "min      21.000000  6.300000e+01     0.000000            0.000000   \n",
              "25%      34.000000  3.922642e+05     1.000000            0.000000   \n",
              "50%      40.000000  7.649386e+05     2.000000            1.000000   \n",
              "75%      47.000000  1.147124e+06     3.000000            1.000000   \n",
              "max      72.000000  2.436616e+06     5.000000            1.000000   \n",
              "\n",
              "       Credit_Card     Is_Churn  \n",
              "count  6650.000000  6650.000000  \n",
              "mean      0.664361     0.231128  \n",
              "std       0.472249     0.421586  \n",
              "min       0.000000     0.000000  \n",
              "25%       0.000000     0.000000  \n",
              "50%       1.000000     0.000000  \n",
              "75%       1.000000     0.000000  \n",
              "max       1.000000     1.000000  "
            ],
            "text/html": [
              "\n",
              "  <div id=\"df-16fc968c-1e3b-4ceb-8051-100ef5087aec\">\n",
              "    <div class=\"colab-df-container\">\n",
              "      <div>\n",
              "<style scoped>\n",
              "    .dataframe tbody tr th:only-of-type {\n",
              "        vertical-align: middle;\n",
              "    }\n",
              "\n",
              "    .dataframe tbody tr th {\n",
              "        vertical-align: top;\n",
              "    }\n",
              "\n",
              "    .dataframe thead th {\n",
              "        text-align: right;\n",
              "    }\n",
              "</style>\n",
              "<table border=\"1\" class=\"dataframe\">\n",
              "  <thead>\n",
              "    <tr style=\"text-align: right;\">\n",
              "      <th></th>\n",
              "      <th>Age</th>\n",
              "      <th>Balance</th>\n",
              "      <th>Vintage</th>\n",
              "      <th>Transaction_Status</th>\n",
              "      <th>Credit_Card</th>\n",
              "      <th>Is_Churn</th>\n",
              "    </tr>\n",
              "  </thead>\n",
              "  <tbody>\n",
              "    <tr>\n",
              "      <th>count</th>\n",
              "      <td>6650.000000</td>\n",
              "      <td>6.650000e+03</td>\n",
              "      <td>6650.000000</td>\n",
              "      <td>6650.000000</td>\n",
              "      <td>6650.000000</td>\n",
              "      <td>6650.000000</td>\n",
              "    </tr>\n",
              "    <tr>\n",
              "      <th>mean</th>\n",
              "      <td>41.130226</td>\n",
              "      <td>8.045954e+05</td>\n",
              "      <td>2.250226</td>\n",
              "      <td>0.515789</td>\n",
              "      <td>0.664361</td>\n",
              "      <td>0.231128</td>\n",
              "    </tr>\n",
              "    <tr>\n",
              "      <th>std</th>\n",
              "      <td>9.685747</td>\n",
              "      <td>5.157549e+05</td>\n",
              "      <td>1.458795</td>\n",
              "      <td>0.499788</td>\n",
              "      <td>0.472249</td>\n",
              "      <td>0.421586</td>\n",
              "    </tr>\n",
              "    <tr>\n",
              "      <th>min</th>\n",
              "      <td>21.000000</td>\n",
              "      <td>6.300000e+01</td>\n",
              "      <td>0.000000</td>\n",
              "      <td>0.000000</td>\n",
              "      <td>0.000000</td>\n",
              "      <td>0.000000</td>\n",
              "    </tr>\n",
              "    <tr>\n",
              "      <th>25%</th>\n",
              "      <td>34.000000</td>\n",
              "      <td>3.922642e+05</td>\n",
              "      <td>1.000000</td>\n",
              "      <td>0.000000</td>\n",
              "      <td>0.000000</td>\n",
              "      <td>0.000000</td>\n",
              "    </tr>\n",
              "    <tr>\n",
              "      <th>50%</th>\n",
              "      <td>40.000000</td>\n",
              "      <td>7.649386e+05</td>\n",
              "      <td>2.000000</td>\n",
              "      <td>1.000000</td>\n",
              "      <td>1.000000</td>\n",
              "      <td>0.000000</td>\n",
              "    </tr>\n",
              "    <tr>\n",
              "      <th>75%</th>\n",
              "      <td>47.000000</td>\n",
              "      <td>1.147124e+06</td>\n",
              "      <td>3.000000</td>\n",
              "      <td>1.000000</td>\n",
              "      <td>1.000000</td>\n",
              "      <td>0.000000</td>\n",
              "    </tr>\n",
              "    <tr>\n",
              "      <th>max</th>\n",
              "      <td>72.000000</td>\n",
              "      <td>2.436616e+06</td>\n",
              "      <td>5.000000</td>\n",
              "      <td>1.000000</td>\n",
              "      <td>1.000000</td>\n",
              "      <td>1.000000</td>\n",
              "    </tr>\n",
              "  </tbody>\n",
              "</table>\n",
              "</div>\n",
              "      <button class=\"colab-df-convert\" onclick=\"convertToInteractive('df-16fc968c-1e3b-4ceb-8051-100ef5087aec')\"\n",
              "              title=\"Convert this dataframe to an interactive table.\"\n",
              "              style=\"display:none;\">\n",
              "        \n",
              "  <svg xmlns=\"http://www.w3.org/2000/svg\" height=\"24px\"viewBox=\"0 0 24 24\"\n",
              "       width=\"24px\">\n",
              "    <path d=\"M0 0h24v24H0V0z\" fill=\"none\"/>\n",
              "    <path d=\"M18.56 5.44l.94 2.06.94-2.06 2.06-.94-2.06-.94-.94-2.06-.94 2.06-2.06.94zm-11 1L8.5 8.5l.94-2.06 2.06-.94-2.06-.94L8.5 2.5l-.94 2.06-2.06.94zm10 10l.94 2.06.94-2.06 2.06-.94-2.06-.94-.94-2.06-.94 2.06-2.06.94z\"/><path d=\"M17.41 7.96l-1.37-1.37c-.4-.4-.92-.59-1.43-.59-.52 0-1.04.2-1.43.59L10.3 9.45l-7.72 7.72c-.78.78-.78 2.05 0 2.83L4 21.41c.39.39.9.59 1.41.59.51 0 1.02-.2 1.41-.59l7.78-7.78 2.81-2.81c.8-.78.8-2.07 0-2.86zM5.41 20L4 18.59l7.72-7.72 1.47 1.35L5.41 20z\"/>\n",
              "  </svg>\n",
              "      </button>\n",
              "      \n",
              "  <style>\n",
              "    .colab-df-container {\n",
              "      display:flex;\n",
              "      flex-wrap:wrap;\n",
              "      gap: 12px;\n",
              "    }\n",
              "\n",
              "    .colab-df-convert {\n",
              "      background-color: #E8F0FE;\n",
              "      border: none;\n",
              "      border-radius: 50%;\n",
              "      cursor: pointer;\n",
              "      display: none;\n",
              "      fill: #1967D2;\n",
              "      height: 32px;\n",
              "      padding: 0 0 0 0;\n",
              "      width: 32px;\n",
              "    }\n",
              "\n",
              "    .colab-df-convert:hover {\n",
              "      background-color: #E2EBFA;\n",
              "      box-shadow: 0px 1px 2px rgba(60, 64, 67, 0.3), 0px 1px 3px 1px rgba(60, 64, 67, 0.15);\n",
              "      fill: #174EA6;\n",
              "    }\n",
              "\n",
              "    [theme=dark] .colab-df-convert {\n",
              "      background-color: #3B4455;\n",
              "      fill: #D2E3FC;\n",
              "    }\n",
              "\n",
              "    [theme=dark] .colab-df-convert:hover {\n",
              "      background-color: #434B5C;\n",
              "      box-shadow: 0px 1px 3px 1px rgba(0, 0, 0, 0.15);\n",
              "      filter: drop-shadow(0px 1px 2px rgba(0, 0, 0, 0.3));\n",
              "      fill: #FFFFFF;\n",
              "    }\n",
              "  </style>\n",
              "\n",
              "      <script>\n",
              "        const buttonEl =\n",
              "          document.querySelector('#df-16fc968c-1e3b-4ceb-8051-100ef5087aec button.colab-df-convert');\n",
              "        buttonEl.style.display =\n",
              "          google.colab.kernel.accessAllowed ? 'block' : 'none';\n",
              "\n",
              "        async function convertToInteractive(key) {\n",
              "          const element = document.querySelector('#df-16fc968c-1e3b-4ceb-8051-100ef5087aec');\n",
              "          const dataTable =\n",
              "            await google.colab.kernel.invokeFunction('convertToInteractive',\n",
              "                                                     [key], {});\n",
              "          if (!dataTable) return;\n",
              "\n",
              "          const docLinkHtml = 'Like what you see? Visit the ' +\n",
              "            '<a target=\"_blank\" href=https://colab.research.google.com/notebooks/data_table.ipynb>data table notebook</a>'\n",
              "            + ' to learn more about interactive tables.';\n",
              "          element.innerHTML = '';\n",
              "          dataTable['output_type'] = 'display_data';\n",
              "          await google.colab.output.renderOutput(dataTable, element);\n",
              "          const docLink = document.createElement('div');\n",
              "          docLink.innerHTML = docLinkHtml;\n",
              "          element.appendChild(docLink);\n",
              "        }\n",
              "      </script>\n",
              "    </div>\n",
              "  </div>\n",
              "  "
            ]
          },
          "metadata": {},
          "execution_count": 177
        }
      ]
    },
    {
      "cell_type": "code",
      "source": [
        "train_df.describe(include =['int64','float64'])"
      ],
      "metadata": {
        "colab": {
          "base_uri": "https://localhost:8080/",
          "height": 300
        },
        "id": "Bj3EncR0bmuo",
        "outputId": "30b1d91e-2f7e-4902-b422-46d04fc74c0f"
      },
      "execution_count": null,
      "outputs": [
        {
          "output_type": "execute_result",
          "data": {
            "text/plain": [
              "               Age       Balance      Vintage  Transaction_Status  \\\n",
              "count  6650.000000  6.650000e+03  6650.000000         6650.000000   \n",
              "mean     41.130226  8.045954e+05     2.250226            0.515789   \n",
              "std       9.685747  5.157549e+05     1.458795            0.499788   \n",
              "min      21.000000  6.300000e+01     0.000000            0.000000   \n",
              "25%      34.000000  3.922642e+05     1.000000            0.000000   \n",
              "50%      40.000000  7.649386e+05     2.000000            1.000000   \n",
              "75%      47.000000  1.147124e+06     3.000000            1.000000   \n",
              "max      72.000000  2.436616e+06     5.000000            1.000000   \n",
              "\n",
              "       Credit_Card     Is_Churn  \n",
              "count  6650.000000  6650.000000  \n",
              "mean      0.664361     0.231128  \n",
              "std       0.472249     0.421586  \n",
              "min       0.000000     0.000000  \n",
              "25%       0.000000     0.000000  \n",
              "50%       1.000000     0.000000  \n",
              "75%       1.000000     0.000000  \n",
              "max       1.000000     1.000000  "
            ],
            "text/html": [
              "\n",
              "  <div id=\"df-fe0371fa-6c2d-428b-b849-9cdd1b7c391a\">\n",
              "    <div class=\"colab-df-container\">\n",
              "      <div>\n",
              "<style scoped>\n",
              "    .dataframe tbody tr th:only-of-type {\n",
              "        vertical-align: middle;\n",
              "    }\n",
              "\n",
              "    .dataframe tbody tr th {\n",
              "        vertical-align: top;\n",
              "    }\n",
              "\n",
              "    .dataframe thead th {\n",
              "        text-align: right;\n",
              "    }\n",
              "</style>\n",
              "<table border=\"1\" class=\"dataframe\">\n",
              "  <thead>\n",
              "    <tr style=\"text-align: right;\">\n",
              "      <th></th>\n",
              "      <th>Age</th>\n",
              "      <th>Balance</th>\n",
              "      <th>Vintage</th>\n",
              "      <th>Transaction_Status</th>\n",
              "      <th>Credit_Card</th>\n",
              "      <th>Is_Churn</th>\n",
              "    </tr>\n",
              "  </thead>\n",
              "  <tbody>\n",
              "    <tr>\n",
              "      <th>count</th>\n",
              "      <td>6650.000000</td>\n",
              "      <td>6.650000e+03</td>\n",
              "      <td>6650.000000</td>\n",
              "      <td>6650.000000</td>\n",
              "      <td>6650.000000</td>\n",
              "      <td>6650.000000</td>\n",
              "    </tr>\n",
              "    <tr>\n",
              "      <th>mean</th>\n",
              "      <td>41.130226</td>\n",
              "      <td>8.045954e+05</td>\n",
              "      <td>2.250226</td>\n",
              "      <td>0.515789</td>\n",
              "      <td>0.664361</td>\n",
              "      <td>0.231128</td>\n",
              "    </tr>\n",
              "    <tr>\n",
              "      <th>std</th>\n",
              "      <td>9.685747</td>\n",
              "      <td>5.157549e+05</td>\n",
              "      <td>1.458795</td>\n",
              "      <td>0.499788</td>\n",
              "      <td>0.472249</td>\n",
              "      <td>0.421586</td>\n",
              "    </tr>\n",
              "    <tr>\n",
              "      <th>min</th>\n",
              "      <td>21.000000</td>\n",
              "      <td>6.300000e+01</td>\n",
              "      <td>0.000000</td>\n",
              "      <td>0.000000</td>\n",
              "      <td>0.000000</td>\n",
              "      <td>0.000000</td>\n",
              "    </tr>\n",
              "    <tr>\n",
              "      <th>25%</th>\n",
              "      <td>34.000000</td>\n",
              "      <td>3.922642e+05</td>\n",
              "      <td>1.000000</td>\n",
              "      <td>0.000000</td>\n",
              "      <td>0.000000</td>\n",
              "      <td>0.000000</td>\n",
              "    </tr>\n",
              "    <tr>\n",
              "      <th>50%</th>\n",
              "      <td>40.000000</td>\n",
              "      <td>7.649386e+05</td>\n",
              "      <td>2.000000</td>\n",
              "      <td>1.000000</td>\n",
              "      <td>1.000000</td>\n",
              "      <td>0.000000</td>\n",
              "    </tr>\n",
              "    <tr>\n",
              "      <th>75%</th>\n",
              "      <td>47.000000</td>\n",
              "      <td>1.147124e+06</td>\n",
              "      <td>3.000000</td>\n",
              "      <td>1.000000</td>\n",
              "      <td>1.000000</td>\n",
              "      <td>0.000000</td>\n",
              "    </tr>\n",
              "    <tr>\n",
              "      <th>max</th>\n",
              "      <td>72.000000</td>\n",
              "      <td>2.436616e+06</td>\n",
              "      <td>5.000000</td>\n",
              "      <td>1.000000</td>\n",
              "      <td>1.000000</td>\n",
              "      <td>1.000000</td>\n",
              "    </tr>\n",
              "  </tbody>\n",
              "</table>\n",
              "</div>\n",
              "      <button class=\"colab-df-convert\" onclick=\"convertToInteractive('df-fe0371fa-6c2d-428b-b849-9cdd1b7c391a')\"\n",
              "              title=\"Convert this dataframe to an interactive table.\"\n",
              "              style=\"display:none;\">\n",
              "        \n",
              "  <svg xmlns=\"http://www.w3.org/2000/svg\" height=\"24px\"viewBox=\"0 0 24 24\"\n",
              "       width=\"24px\">\n",
              "    <path d=\"M0 0h24v24H0V0z\" fill=\"none\"/>\n",
              "    <path d=\"M18.56 5.44l.94 2.06.94-2.06 2.06-.94-2.06-.94-.94-2.06-.94 2.06-2.06.94zm-11 1L8.5 8.5l.94-2.06 2.06-.94-2.06-.94L8.5 2.5l-.94 2.06-2.06.94zm10 10l.94 2.06.94-2.06 2.06-.94-2.06-.94-.94-2.06-.94 2.06-2.06.94z\"/><path d=\"M17.41 7.96l-1.37-1.37c-.4-.4-.92-.59-1.43-.59-.52 0-1.04.2-1.43.59L10.3 9.45l-7.72 7.72c-.78.78-.78 2.05 0 2.83L4 21.41c.39.39.9.59 1.41.59.51 0 1.02-.2 1.41-.59l7.78-7.78 2.81-2.81c.8-.78.8-2.07 0-2.86zM5.41 20L4 18.59l7.72-7.72 1.47 1.35L5.41 20z\"/>\n",
              "  </svg>\n",
              "      </button>\n",
              "      \n",
              "  <style>\n",
              "    .colab-df-container {\n",
              "      display:flex;\n",
              "      flex-wrap:wrap;\n",
              "      gap: 12px;\n",
              "    }\n",
              "\n",
              "    .colab-df-convert {\n",
              "      background-color: #E8F0FE;\n",
              "      border: none;\n",
              "      border-radius: 50%;\n",
              "      cursor: pointer;\n",
              "      display: none;\n",
              "      fill: #1967D2;\n",
              "      height: 32px;\n",
              "      padding: 0 0 0 0;\n",
              "      width: 32px;\n",
              "    }\n",
              "\n",
              "    .colab-df-convert:hover {\n",
              "      background-color: #E2EBFA;\n",
              "      box-shadow: 0px 1px 2px rgba(60, 64, 67, 0.3), 0px 1px 3px 1px rgba(60, 64, 67, 0.15);\n",
              "      fill: #174EA6;\n",
              "    }\n",
              "\n",
              "    [theme=dark] .colab-df-convert {\n",
              "      background-color: #3B4455;\n",
              "      fill: #D2E3FC;\n",
              "    }\n",
              "\n",
              "    [theme=dark] .colab-df-convert:hover {\n",
              "      background-color: #434B5C;\n",
              "      box-shadow: 0px 1px 3px 1px rgba(0, 0, 0, 0.15);\n",
              "      filter: drop-shadow(0px 1px 2px rgba(0, 0, 0, 0.3));\n",
              "      fill: #FFFFFF;\n",
              "    }\n",
              "  </style>\n",
              "\n",
              "      <script>\n",
              "        const buttonEl =\n",
              "          document.querySelector('#df-fe0371fa-6c2d-428b-b849-9cdd1b7c391a button.colab-df-convert');\n",
              "        buttonEl.style.display =\n",
              "          google.colab.kernel.accessAllowed ? 'block' : 'none';\n",
              "\n",
              "        async function convertToInteractive(key) {\n",
              "          const element = document.querySelector('#df-fe0371fa-6c2d-428b-b849-9cdd1b7c391a');\n",
              "          const dataTable =\n",
              "            await google.colab.kernel.invokeFunction('convertToInteractive',\n",
              "                                                     [key], {});\n",
              "          if (!dataTable) return;\n",
              "\n",
              "          const docLinkHtml = 'Like what you see? Visit the ' +\n",
              "            '<a target=\"_blank\" href=https://colab.research.google.com/notebooks/data_table.ipynb>data table notebook</a>'\n",
              "            + ' to learn more about interactive tables.';\n",
              "          element.innerHTML = '';\n",
              "          dataTable['output_type'] = 'display_data';\n",
              "          await google.colab.output.renderOutput(dataTable, element);\n",
              "          const docLink = document.createElement('div');\n",
              "          docLink.innerHTML = docLinkHtml;\n",
              "          element.appendChild(docLink);\n",
              "        }\n",
              "      </script>\n",
              "    </div>\n",
              "  </div>\n",
              "  "
            ]
          },
          "metadata": {},
          "execution_count": 178
        }
      ]
    },
    {
      "cell_type": "code",
      "source": [
        "### checking the details of test_df\n",
        "test_df.describe(include =['int64','float64'])"
      ],
      "metadata": {
        "colab": {
          "base_uri": "https://localhost:8080/",
          "height": 300
        },
        "id": "LQjXKDwecR6Y",
        "outputId": "342a3d4f-7689-4edc-ec6d-e429a7250d92"
      },
      "execution_count": null,
      "outputs": [
        {
          "output_type": "execute_result",
          "data": {
            "text/plain": [
              "               Age       Balance      Vintage  Transaction_Status  Credit_Card\n",
              "count  2851.000000  2.851000e+03  2851.000000         2851.000000  2851.000000\n",
              "mean     41.252192  8.098990e+05     2.220975            0.506840     0.668888\n",
              "std       9.616756  5.252003e+05     1.489941            0.500041     0.470696\n",
              "min      21.000000  1.503000e+03     0.000000            0.000000     0.000000\n",
              "25%      34.000000  4.009684e+05     1.000000            0.000000     0.000000\n",
              "50%      40.000000  7.659125e+05     2.000000            1.000000     1.000000\n",
              "75%      47.000000  1.154238e+06     3.000000            1.000000     1.000000\n",
              "max      72.000000  2.434834e+06     5.000000            1.000000     1.000000"
            ],
            "text/html": [
              "\n",
              "  <div id=\"df-58aeff91-c475-4c1f-8429-374fbf0dae84\">\n",
              "    <div class=\"colab-df-container\">\n",
              "      <div>\n",
              "<style scoped>\n",
              "    .dataframe tbody tr th:only-of-type {\n",
              "        vertical-align: middle;\n",
              "    }\n",
              "\n",
              "    .dataframe tbody tr th {\n",
              "        vertical-align: top;\n",
              "    }\n",
              "\n",
              "    .dataframe thead th {\n",
              "        text-align: right;\n",
              "    }\n",
              "</style>\n",
              "<table border=\"1\" class=\"dataframe\">\n",
              "  <thead>\n",
              "    <tr style=\"text-align: right;\">\n",
              "      <th></th>\n",
              "      <th>Age</th>\n",
              "      <th>Balance</th>\n",
              "      <th>Vintage</th>\n",
              "      <th>Transaction_Status</th>\n",
              "      <th>Credit_Card</th>\n",
              "    </tr>\n",
              "  </thead>\n",
              "  <tbody>\n",
              "    <tr>\n",
              "      <th>count</th>\n",
              "      <td>2851.000000</td>\n",
              "      <td>2.851000e+03</td>\n",
              "      <td>2851.000000</td>\n",
              "      <td>2851.000000</td>\n",
              "      <td>2851.000000</td>\n",
              "    </tr>\n",
              "    <tr>\n",
              "      <th>mean</th>\n",
              "      <td>41.252192</td>\n",
              "      <td>8.098990e+05</td>\n",
              "      <td>2.220975</td>\n",
              "      <td>0.506840</td>\n",
              "      <td>0.668888</td>\n",
              "    </tr>\n",
              "    <tr>\n",
              "      <th>std</th>\n",
              "      <td>9.616756</td>\n",
              "      <td>5.252003e+05</td>\n",
              "      <td>1.489941</td>\n",
              "      <td>0.500041</td>\n",
              "      <td>0.470696</td>\n",
              "    </tr>\n",
              "    <tr>\n",
              "      <th>min</th>\n",
              "      <td>21.000000</td>\n",
              "      <td>1.503000e+03</td>\n",
              "      <td>0.000000</td>\n",
              "      <td>0.000000</td>\n",
              "      <td>0.000000</td>\n",
              "    </tr>\n",
              "    <tr>\n",
              "      <th>25%</th>\n",
              "      <td>34.000000</td>\n",
              "      <td>4.009684e+05</td>\n",
              "      <td>1.000000</td>\n",
              "      <td>0.000000</td>\n",
              "      <td>0.000000</td>\n",
              "    </tr>\n",
              "    <tr>\n",
              "      <th>50%</th>\n",
              "      <td>40.000000</td>\n",
              "      <td>7.659125e+05</td>\n",
              "      <td>2.000000</td>\n",
              "      <td>1.000000</td>\n",
              "      <td>1.000000</td>\n",
              "    </tr>\n",
              "    <tr>\n",
              "      <th>75%</th>\n",
              "      <td>47.000000</td>\n",
              "      <td>1.154238e+06</td>\n",
              "      <td>3.000000</td>\n",
              "      <td>1.000000</td>\n",
              "      <td>1.000000</td>\n",
              "    </tr>\n",
              "    <tr>\n",
              "      <th>max</th>\n",
              "      <td>72.000000</td>\n",
              "      <td>2.434834e+06</td>\n",
              "      <td>5.000000</td>\n",
              "      <td>1.000000</td>\n",
              "      <td>1.000000</td>\n",
              "    </tr>\n",
              "  </tbody>\n",
              "</table>\n",
              "</div>\n",
              "      <button class=\"colab-df-convert\" onclick=\"convertToInteractive('df-58aeff91-c475-4c1f-8429-374fbf0dae84')\"\n",
              "              title=\"Convert this dataframe to an interactive table.\"\n",
              "              style=\"display:none;\">\n",
              "        \n",
              "  <svg xmlns=\"http://www.w3.org/2000/svg\" height=\"24px\"viewBox=\"0 0 24 24\"\n",
              "       width=\"24px\">\n",
              "    <path d=\"M0 0h24v24H0V0z\" fill=\"none\"/>\n",
              "    <path d=\"M18.56 5.44l.94 2.06.94-2.06 2.06-.94-2.06-.94-.94-2.06-.94 2.06-2.06.94zm-11 1L8.5 8.5l.94-2.06 2.06-.94-2.06-.94L8.5 2.5l-.94 2.06-2.06.94zm10 10l.94 2.06.94-2.06 2.06-.94-2.06-.94-.94-2.06-.94 2.06-2.06.94z\"/><path d=\"M17.41 7.96l-1.37-1.37c-.4-.4-.92-.59-1.43-.59-.52 0-1.04.2-1.43.59L10.3 9.45l-7.72 7.72c-.78.78-.78 2.05 0 2.83L4 21.41c.39.39.9.59 1.41.59.51 0 1.02-.2 1.41-.59l7.78-7.78 2.81-2.81c.8-.78.8-2.07 0-2.86zM5.41 20L4 18.59l7.72-7.72 1.47 1.35L5.41 20z\"/>\n",
              "  </svg>\n",
              "      </button>\n",
              "      \n",
              "  <style>\n",
              "    .colab-df-container {\n",
              "      display:flex;\n",
              "      flex-wrap:wrap;\n",
              "      gap: 12px;\n",
              "    }\n",
              "\n",
              "    .colab-df-convert {\n",
              "      background-color: #E8F0FE;\n",
              "      border: none;\n",
              "      border-radius: 50%;\n",
              "      cursor: pointer;\n",
              "      display: none;\n",
              "      fill: #1967D2;\n",
              "      height: 32px;\n",
              "      padding: 0 0 0 0;\n",
              "      width: 32px;\n",
              "    }\n",
              "\n",
              "    .colab-df-convert:hover {\n",
              "      background-color: #E2EBFA;\n",
              "      box-shadow: 0px 1px 2px rgba(60, 64, 67, 0.3), 0px 1px 3px 1px rgba(60, 64, 67, 0.15);\n",
              "      fill: #174EA6;\n",
              "    }\n",
              "\n",
              "    [theme=dark] .colab-df-convert {\n",
              "      background-color: #3B4455;\n",
              "      fill: #D2E3FC;\n",
              "    }\n",
              "\n",
              "    [theme=dark] .colab-df-convert:hover {\n",
              "      background-color: #434B5C;\n",
              "      box-shadow: 0px 1px 3px 1px rgba(0, 0, 0, 0.15);\n",
              "      filter: drop-shadow(0px 1px 2px rgba(0, 0, 0, 0.3));\n",
              "      fill: #FFFFFF;\n",
              "    }\n",
              "  </style>\n",
              "\n",
              "      <script>\n",
              "        const buttonEl =\n",
              "          document.querySelector('#df-58aeff91-c475-4c1f-8429-374fbf0dae84 button.colab-df-convert');\n",
              "        buttonEl.style.display =\n",
              "          google.colab.kernel.accessAllowed ? 'block' : 'none';\n",
              "\n",
              "        async function convertToInteractive(key) {\n",
              "          const element = document.querySelector('#df-58aeff91-c475-4c1f-8429-374fbf0dae84');\n",
              "          const dataTable =\n",
              "            await google.colab.kernel.invokeFunction('convertToInteractive',\n",
              "                                                     [key], {});\n",
              "          if (!dataTable) return;\n",
              "\n",
              "          const docLinkHtml = 'Like what you see? Visit the ' +\n",
              "            '<a target=\"_blank\" href=https://colab.research.google.com/notebooks/data_table.ipynb>data table notebook</a>'\n",
              "            + ' to learn more about interactive tables.';\n",
              "          element.innerHTML = '';\n",
              "          dataTable['output_type'] = 'display_data';\n",
              "          await google.colab.output.renderOutput(dataTable, element);\n",
              "          const docLink = document.createElement('div');\n",
              "          docLink.innerHTML = docLinkHtml;\n",
              "          element.appendChild(docLink);\n",
              "        }\n",
              "      </script>\n",
              "    </div>\n",
              "  </div>\n",
              "  "
            ]
          },
          "metadata": {},
          "execution_count": 179
        }
      ]
    },
    {
      "cell_type": "code",
      "source": [
        "test_df.describe(include =['object'])"
      ],
      "metadata": {
        "colab": {
          "base_uri": "https://localhost:8080/",
          "height": 175
        },
        "id": "rT-hb5ggcevX",
        "outputId": "8bd58d5f-bd2b-4af5-a49c-5441c1eeb963"
      },
      "execution_count": null,
      "outputs": [
        {
          "output_type": "execute_result",
          "data": {
            "text/plain": [
              "              ID Gender     Income Product_Holdings Credit_Category\n",
              "count       2851   2851       2851             2851            2851\n",
              "unique      2851      2          4                3               3\n",
              "top     55480787   Male  10L - 15L                2            Poor\n",
              "freq           1   1545        844             1359            1270"
            ],
            "text/html": [
              "\n",
              "  <div id=\"df-99f29983-d5b4-459f-830b-2be9bed45db1\">\n",
              "    <div class=\"colab-df-container\">\n",
              "      <div>\n",
              "<style scoped>\n",
              "    .dataframe tbody tr th:only-of-type {\n",
              "        vertical-align: middle;\n",
              "    }\n",
              "\n",
              "    .dataframe tbody tr th {\n",
              "        vertical-align: top;\n",
              "    }\n",
              "\n",
              "    .dataframe thead th {\n",
              "        text-align: right;\n",
              "    }\n",
              "</style>\n",
              "<table border=\"1\" class=\"dataframe\">\n",
              "  <thead>\n",
              "    <tr style=\"text-align: right;\">\n",
              "      <th></th>\n",
              "      <th>ID</th>\n",
              "      <th>Gender</th>\n",
              "      <th>Income</th>\n",
              "      <th>Product_Holdings</th>\n",
              "      <th>Credit_Category</th>\n",
              "    </tr>\n",
              "  </thead>\n",
              "  <tbody>\n",
              "    <tr>\n",
              "      <th>count</th>\n",
              "      <td>2851</td>\n",
              "      <td>2851</td>\n",
              "      <td>2851</td>\n",
              "      <td>2851</td>\n",
              "      <td>2851</td>\n",
              "    </tr>\n",
              "    <tr>\n",
              "      <th>unique</th>\n",
              "      <td>2851</td>\n",
              "      <td>2</td>\n",
              "      <td>4</td>\n",
              "      <td>3</td>\n",
              "      <td>3</td>\n",
              "    </tr>\n",
              "    <tr>\n",
              "      <th>top</th>\n",
              "      <td>55480787</td>\n",
              "      <td>Male</td>\n",
              "      <td>10L - 15L</td>\n",
              "      <td>2</td>\n",
              "      <td>Poor</td>\n",
              "    </tr>\n",
              "    <tr>\n",
              "      <th>freq</th>\n",
              "      <td>1</td>\n",
              "      <td>1545</td>\n",
              "      <td>844</td>\n",
              "      <td>1359</td>\n",
              "      <td>1270</td>\n",
              "    </tr>\n",
              "  </tbody>\n",
              "</table>\n",
              "</div>\n",
              "      <button class=\"colab-df-convert\" onclick=\"convertToInteractive('df-99f29983-d5b4-459f-830b-2be9bed45db1')\"\n",
              "              title=\"Convert this dataframe to an interactive table.\"\n",
              "              style=\"display:none;\">\n",
              "        \n",
              "  <svg xmlns=\"http://www.w3.org/2000/svg\" height=\"24px\"viewBox=\"0 0 24 24\"\n",
              "       width=\"24px\">\n",
              "    <path d=\"M0 0h24v24H0V0z\" fill=\"none\"/>\n",
              "    <path d=\"M18.56 5.44l.94 2.06.94-2.06 2.06-.94-2.06-.94-.94-2.06-.94 2.06-2.06.94zm-11 1L8.5 8.5l.94-2.06 2.06-.94-2.06-.94L8.5 2.5l-.94 2.06-2.06.94zm10 10l.94 2.06.94-2.06 2.06-.94-2.06-.94-.94-2.06-.94 2.06-2.06.94z\"/><path d=\"M17.41 7.96l-1.37-1.37c-.4-.4-.92-.59-1.43-.59-.52 0-1.04.2-1.43.59L10.3 9.45l-7.72 7.72c-.78.78-.78 2.05 0 2.83L4 21.41c.39.39.9.59 1.41.59.51 0 1.02-.2 1.41-.59l7.78-7.78 2.81-2.81c.8-.78.8-2.07 0-2.86zM5.41 20L4 18.59l7.72-7.72 1.47 1.35L5.41 20z\"/>\n",
              "  </svg>\n",
              "      </button>\n",
              "      \n",
              "  <style>\n",
              "    .colab-df-container {\n",
              "      display:flex;\n",
              "      flex-wrap:wrap;\n",
              "      gap: 12px;\n",
              "    }\n",
              "\n",
              "    .colab-df-convert {\n",
              "      background-color: #E8F0FE;\n",
              "      border: none;\n",
              "      border-radius: 50%;\n",
              "      cursor: pointer;\n",
              "      display: none;\n",
              "      fill: #1967D2;\n",
              "      height: 32px;\n",
              "      padding: 0 0 0 0;\n",
              "      width: 32px;\n",
              "    }\n",
              "\n",
              "    .colab-df-convert:hover {\n",
              "      background-color: #E2EBFA;\n",
              "      box-shadow: 0px 1px 2px rgba(60, 64, 67, 0.3), 0px 1px 3px 1px rgba(60, 64, 67, 0.15);\n",
              "      fill: #174EA6;\n",
              "    }\n",
              "\n",
              "    [theme=dark] .colab-df-convert {\n",
              "      background-color: #3B4455;\n",
              "      fill: #D2E3FC;\n",
              "    }\n",
              "\n",
              "    [theme=dark] .colab-df-convert:hover {\n",
              "      background-color: #434B5C;\n",
              "      box-shadow: 0px 1px 3px 1px rgba(0, 0, 0, 0.15);\n",
              "      filter: drop-shadow(0px 1px 2px rgba(0, 0, 0, 0.3));\n",
              "      fill: #FFFFFF;\n",
              "    }\n",
              "  </style>\n",
              "\n",
              "      <script>\n",
              "        const buttonEl =\n",
              "          document.querySelector('#df-99f29983-d5b4-459f-830b-2be9bed45db1 button.colab-df-convert');\n",
              "        buttonEl.style.display =\n",
              "          google.colab.kernel.accessAllowed ? 'block' : 'none';\n",
              "\n",
              "        async function convertToInteractive(key) {\n",
              "          const element = document.querySelector('#df-99f29983-d5b4-459f-830b-2be9bed45db1');\n",
              "          const dataTable =\n",
              "            await google.colab.kernel.invokeFunction('convertToInteractive',\n",
              "                                                     [key], {});\n",
              "          if (!dataTable) return;\n",
              "\n",
              "          const docLinkHtml = 'Like what you see? Visit the ' +\n",
              "            '<a target=\"_blank\" href=https://colab.research.google.com/notebooks/data_table.ipynb>data table notebook</a>'\n",
              "            + ' to learn more about interactive tables.';\n",
              "          element.innerHTML = '';\n",
              "          dataTable['output_type'] = 'display_data';\n",
              "          await google.colab.output.renderOutput(dataTable, element);\n",
              "          const docLink = document.createElement('div');\n",
              "          docLink.innerHTML = docLinkHtml;\n",
              "          element.appendChild(docLink);\n",
              "        }\n",
              "      </script>\n",
              "    </div>\n",
              "  </div>\n",
              "  "
            ]
          },
          "metadata": {},
          "execution_count": 180
        }
      ]
    },
    {
      "cell_type": "markdown",
      "source": [
        "### Missing Values"
      ],
      "metadata": {
        "id": "EPZ2Mn-dcwve"
      }
    },
    {
      "cell_type": "code",
      "source": [
        "train_df.isna().sum()"
      ],
      "metadata": {
        "colab": {
          "base_uri": "https://localhost:8080/"
        },
        "id": "crGxA5IdcjzF",
        "outputId": "ec2c9f92-95c9-418a-d726-53737f1d9ef1"
      },
      "execution_count": null,
      "outputs": [
        {
          "output_type": "execute_result",
          "data": {
            "text/plain": [
              "ID                    0\n",
              "Age                   0\n",
              "Gender                0\n",
              "Income                0\n",
              "Balance               0\n",
              "Vintage               0\n",
              "Transaction_Status    0\n",
              "Product_Holdings      0\n",
              "Credit_Card           0\n",
              "Credit_Category       0\n",
              "Is_Churn              0\n",
              "dtype: int64"
            ]
          },
          "metadata": {},
          "execution_count": 181
        }
      ]
    },
    {
      "cell_type": "code",
      "source": [
        "test_df.isna().sum()"
      ],
      "metadata": {
        "colab": {
          "base_uri": "https://localhost:8080/"
        },
        "id": "qIY1w7FAef52",
        "outputId": "4b15457c-ae58-455c-de26-abdd2936a4ac"
      },
      "execution_count": null,
      "outputs": [
        {
          "output_type": "execute_result",
          "data": {
            "text/plain": [
              "ID                    0\n",
              "Age                   0\n",
              "Gender                0\n",
              "Income                0\n",
              "Balance               0\n",
              "Vintage               0\n",
              "Transaction_Status    0\n",
              "Product_Holdings      0\n",
              "Credit_Card           0\n",
              "Credit_Category       0\n",
              "dtype: int64"
            ]
          },
          "metadata": {},
          "execution_count": 182
        }
      ]
    },
    {
      "cell_type": "markdown",
      "source": [
        "Great! we don't have any missing values in the given dataset"
      ],
      "metadata": {
        "id": "JHTOIvc1elId"
      }
    },
    {
      "cell_type": "markdown",
      "source": [
        "## **Exploratory Analysis and Visualisation**\n",
        "1. Univariate analysis \n",
        "2. Multivariate Analysis "
      ],
      "metadata": {
        "id": "60XAqLtdf2WV"
      }
    },
    {
      "cell_type": "markdown",
      "source": [
        "#### Univariate Analysis "
      ],
      "metadata": {
        "id": "7Q3XMT6PhUq7"
      }
    },
    {
      "cell_type": "code",
      "source": [
        "### plotting the catagorical columns.\n",
        "fig, axs = plt.subplots(nrows = 2 , ncols = 3,figsize=(18, 12))\n",
        "sns.countplot(x= 'Gender', data=train_df, ax = axs[0,0])\n",
        "sns.countplot(x= 'Income', data=train_df, ax = axs[0,1])\n",
        "sns.countplot(x= 'Product_Holdings', data=train_df, ax = axs[0,2])\n",
        "sns.countplot(x= 'Credit_Category', data=train_df, ax = axs[1,0])\n",
        "sns.countplot(x= 'Product_Holdings', data=train_df, ax = axs[1,1])\n",
        "sns.countplot(x= 'Credit_Card', data=train_df, ax = axs[1,2])\n",
        "plt.show()"
      ],
      "metadata": {
        "colab": {
          "base_uri": "https://localhost:8080/",
          "height": 715
        },
        "id": "6AGLo1bUuiZW",
        "outputId": "54537c27-083b-482b-80df-36056e5c0877"
      },
      "execution_count": null,
      "outputs": [
        {
          "output_type": "display_data",
          "data": {
            "text/plain": [
              "<Figure size 1296x864 with 6 Axes>"
            ],
            "image/png": "[encoded data removed]"
          },
          "metadata": {
            "needs_background": "light"
          }
        }
      ]
    },
    {
      "cell_type": "code",
      "source": [
        "### plotting histograms & boxplot for both 'Age'& 'Balance' columns\n",
        "fig, axs = plt.subplots(nrows = 3 , ncols = 2,figsize=(18, 16))\n",
        "sns.histplot(x= 'Age', data=train_df,kde= True , ax = axs[0,0])\n",
        "sns.histplot(x= 'Balance', data=train_df, kde=True,ax = axs[1,0])\n",
        "sns.boxplot (x= 'Age', data=train_df, ax = axs[0,1])\n",
        "sns.boxplot(x= 'Balance', data=train_df, ax = axs[1,1])\n",
        "sns.histplot(x= 'Vintage', data=train_df, ax = axs[2,0])\n",
        "sns.boxplot(x= 'Vintage', data=train_df, ax = axs[2,1])\n",
        "plt.show()"
      ],
      "metadata": {
        "colab": {
          "base_uri": "https://localhost:8080/",
          "height": 932
        },
        "id": "XPTScYi4wudu",
        "outputId": "b4071585-17e4-48e3-8238-bea59d11d21c"
      },
      "execution_count": null,
      "outputs": [
        {
          "output_type": "display_data",
          "data": {
            "text/plain": [
              "<Figure size 1296x1152 with 6 Axes>"
            ],
            "image/png": "[encoded data removed]"
          },
          "metadata": {
            "needs_background": "light"
          }
        }
      ]
    },
    {
      "cell_type": "markdown",
      "source": [
        "As we  can see in the plot there are outliers present in both the age and balance columns. And the balance column showing a right skewed distribution.<br>\n",
        "\n",
        "### Multivariate Analysis\n",
        "\n"
      ],
      "metadata": {
        "id": "OQCwj8BIy94a"
      }
    },
    {
      "cell_type": "code",
      "source": [
        "px.histogram(train_df, x='Age',marginal='box', title='Age vs Is_Churn ', color='Is_Churn',width=800, height=550)"
      ],
      "metadata": {
        "colab": {
          "base_uri": "https://localhost:8080/",
          "height": 567
        },
        "id": "K8iCAqdL13V_",
        "outputId": "22f90a8f-5e21-4b41-d84c-6c9827d4bb03"
      },
      "execution_count": null,
      "outputs": [
        {
          "output_type": "display_data",
          "data": {
            "text/html": [
              "<html>\n",
              "<head><meta charset=\"utf-8\" /></head>\n",
              "<body>\n",
              "    <div>            <script src=\"https://cdnjs.cloudflare.com/ajax/libs/mathjax/2.7.5/MathJax.js?config=TeX-AMS-MML_SVG\"></script><script type=\"text/javascript\">if (window.MathJax) {MathJax.Hub.Config({SVG: {font: \"STIX-Web\"}});}</script>                <script type=\"text/javascript\">window.PlotlyConfig = {MathJaxConfig: 'local'};</script>\n",
              "        <script src=\"https://cdn.plot.ly/plotly-2.8.3.min.js\"></script>                <div id=\"57447cb9-e767-4577-9027-38e5d9336813\" class=\"plotly-graph-div\" style=\"height:550px; width:800px;\"></div>            <script type=\"text/javascript\">                                    window.PLOTLYENV=window.PLOTLYENV || {};                                    if (document.getElementById(\"57447cb9-e767-4577-9027-38e5d9336813\")) {                    Plotly.newPlot(                        \"57447cb9-e767-4577-9027-38e5d9336813\",                        [{\"alignmentgroup\":\"True\",\"bingroup\":\"x\",\"hovertemplate\":\"Is_Churn=1<br>Age=%{x}<br>count=%{y}<extra></extra>\",\"legendgroup\":\"1\",\"marker\":{\"color\":\"#636efa\",\"pattern\":{\"shape\":\"\"}},\"name\":\"1\",\"offsetgroup\":\"1\",\"orientation\":\"v\",\"showlegend\":true,\"x\":[36,43,39,41,60,40,47,35,41,34,47,54,34,68,37,58,59,45,38,47,28,58,48,49,31,54,49,40,55,37,31,28,58,59,52,55,41,43,46,42,36,49,65,41,35,57,23,46,34,45,50,52,35,67,50,51,44,52,31,41,39,38,41,47,60,32,37,50,54,58,43,45,41,35,59,42,51,41,42,71,46,47,44,41,59,56,46,57,48,39,42,58,48,49,58,40,44,44,43,52,47,37,41,51,58,41,65,39,44,36,33,35,48,39,56,57,33,26,27,55,40,46,23,42,38,49,43,55,59,56,46,40,43,62,47,52,36,52,50,37,31,39,49,44,63,57,40,55,56,43,61,40,35,62,30,31,37,33,48,38,43,40,53,33,47,41,52,40,36,48,55,45,39,42,54,35,65,34,49,56,46,41,36,44,41,60,34,60,33,53,52,36,52,45,34,40,57,27,47,40,38,46,49,54,50,49,49,49,52,47,37,51,49,36,27,49,38,46,38,47,37,58,36,54,64,29,36,40,50,39,49,41,40,59,55,40,33,45,47,35,35,45,37,39,25,44,42,41,43,52,44,38,36,53,40,55,36,44,33,38,54,41,33,67,47,43,35,37,44,54,37,48,41,58,45,28,67,55,54,43,38,41,54,24,49,49,52,47,28,32,53,37,40,36,38,68,50,67,37,35,35,41,56,43,34,50,34,29,43,62,61,29,31,41,62,50,45,42,67,39,33,34,59,60,68,44,45,31,39,32,63,27,48,45,32,39,53,50,35,26,35,39,36,41,35,40,54,39,42,42,55,39,45,33,47,41,42,44,31,35,47,58,41,64,37,35,55,56,45,60,55,62,45,53,42,45,34,38,44,33,41,34,52,39,34,50,35,36,64,47,42,36,50,36,40,36,54,44,41,63,41,47,47,36,39,56,58,61,42,33,30,62,36,34,44,54,40,63,37,43,56,41,40,41,49,36,66,40,40,39,56,38,39,43,68,38,47,30,38,39,31,39,69,39,61,49,46,48,39,36,33,52,39,51,38,46,32,38,42,38,41,46,64,44,47,65,53,40,45,58,44,42,46,35,45,47,64,34,59,38,51,36,33,39,50,60,49,38,33,43,42,34,41,48,52,63,46,38,38,40,51,43,39,47,38,49,57,42,33,40,37,41,46,46,47,48,46,34,70,30,61,55,42,36,52,46,29,43,45,53,36,45,58,49,40,52,32,36,65,56,36,47,30,32,48,39,52,47,55,56,31,48,35,44,27,42,28,40,37,34,39,29,71,32,45,64,30,41,39,69,51,36,32,47,56,48,38,51,45,58,55,43,51,34,33,35,37,62,56,36,50,42,39,27,64,45,53,35,41,69,52,43,48,42,43,44,45,34,46,55,63,56,42,50,65,33,55,35,49,28,61,34,34,57,51,22,50,36,52,48,38,64,41,53,55,49,66,54,33,53,41,38,43,28,43,40,30,64,34,46,36,29,37,59,44,43,42,31,37,52,40,69,31,32,22,38,31,33,42,45,50,55,43,33,39,27,41,43,71,37,37,56,46,67,59,49,55,45,37,53,37,45,39,40,63,35,34,45,48,56,51,32,36,38,61,56,50,30,58,38,29,57,45,38,49,35,38,39,38,49,37,46,64,35,64,48,40,55,46,45,51,41,30,54,51,65,45,47,48,42,36,45,34,36,42,66,61,53,53,49,55,32,66,58,44,48,38,41,59,32,43,40,51,46,37,46,49,33,49,39,33,44,53,33,42,63,38,39,45,53,36,28,62,50,37,42,58,33,65,27,57,45,33,40,54,24,38,51,44,33,37,34,43,31,61,53,33,29,51,34,36,51,36,35,59,38,47,33,39,36,50,29,48,40,62,52,33,30,49,42,33,56,53,41,61,44,53,61,30,44,42,28,50,51,42,53,32,37,44,33,58,30,40,60,36,53,40,39,44,32,36,28,48,48,43,52,50,38,50,27,45,28,30,65,45,45,66,30,39,43,42,33,43,49,39,31,35,39,45,44,25,28,39,46,55,34,41,47,31,33,56,48,29,48,43,55,33,44,33,58,49,46,51,39,30,54,26,38,66,41,38,59,30,40,60,32,36,31,38,34,24,28,41,28,42,44,65,29,51,54,43,38,40,43,55,36,43,37,45,40,51,62,34,43,41,48,37,40,53,51,42,49,65,40,39,38,33,56,56,44,37,40,40,57,44,62,52,46,32,40,34,45,38,31,43,54,34,35,38,51,35,48,65,45,33,52,48,35,45,30,48,61,28,48,41,52,51,43,45,33,24,33,23,71,71,41,47,62,44,70,34,47,50,36,55,39,54,50,33,43,42,54,45,38,55,47,31,39,48,58,35,54,33,32,47,38,40,36,51,49,39,53,46,57,54,35,56,53,54,56,60,51,42,38,43,28,32,55,53,51,54,52,48,60,64,38,47,29,57,46,38,37,40,34,58,54,39,35,44,58,40,46,47,51,35,45,43,43,37,50,52,59,49,52,57,50,51,36,45,42,45,46,61,53,36,40,48,50,66,55,42,46,36,38,42,39,36,66,38,40,57,35,57,55,50,40,39,48,57,59,49,32,30,41,43,54,60,63,30,64,46,35,49,57,55,32,45,38,36,66,42,44,37,39,27,45,39,46,28,39,49,54,60,66,38,60,45,42,44,34,50,51,54,39,52,50,66,47,35,37,27,59,55,39,65,33,34,57,60,41,45,48,41,53,68,35,68,44,49,45,41,47,55,51,49,46,58,56,43,51,54,40,33,65,59,45,59,59,66,44,47,50,40,45,46,50,55,44,39,38,37,47,41,72,62,41,51,39,65,64,46,42,59,44,39,38,36,58,54,26,44,39,35,54,42,39,30,38,30,36,36,38,40,56,64,42,34,32,42,54,34,41,38,32,28,49,40,42,41,36,50,42,44,52,34,40,49,28,35,42,60,47,44,54,37,58,50,44,68,54,35,31,51,39,50,30,43,60,45,36,54,35,67,43,51,38,42,42,57,37,53,48,56,53,34,51,52,57,41,41,37,32,32,52,47,40,49,27,31,51,37,60,31,54,60,35,32,53,37,49,58,54,65,29,42,26,45,44,39,44,50,43,39,44,61,42,57,39,51,46,55,44,52,37,40,34,41,45,48,34,60,29,48,49,27,46,30,45,66,33,32,32,52,49,33,46,58,49,49,41,55,44,37,31,55,40,70,43,66,40,52,33,43,51,68,45,35,37,25,40,48,58,56,34,38,34,38,42,44,41,60,33,38,43,38,36,38,63,53,50,51,34,33,52,37,38,37,53,35,60,47,48,45,43,47,40,56,42,38,44,47,40,60,61,59,24,38,40,40,50,43,52,53,65,35,47,33,50,36,40,40,32,47,32,32,53,35,52,33,36,59,38,44,32,35,41,42,30,43,58,48,56,39,65,52,41,65,46,53,35,44,37,50,54,53,51,53,44,31,55,44,38,43,52,38,61,66],\"xaxis\":\"x\",\"yaxis\":\"y\",\"type\":\"histogram\"},{\"alignmentgroup\":\"True\",\"hovertemplate\":\"Is_Churn=1<br>Age=%{x}<extra></extra>\",\"legendgroup\":\"1\",\"marker\":{\"color\":\"#636efa\"},\"name\":\"1\",\"notched\":true,\"offsetgroup\":\"1\",\"showlegend\":false,\"x\":[36,43,39,41,60,40,47,35,41,34,47,54,34,68,37,58,59,45,38,47,28,58,48,49,31,54,49,40,55,37,31,28,58,59,52,55,41,43,46,42,36,49,65,41,35,57,23,46,34,45,50,52,35,67,50,51,44,52,31,41,39,38,41,47,60,32,37,50,54,58,43,45,41,35,59,42,51,41,42,71,46,47,44,41,59,56,46,57,48,39,42,58,48,49,58,40,44,44,43,52,47,37,41,51,58,41,65,39,44,36,33,35,48,39,56,57,33,26,27,55,40,46,23,42,38,49,43,55,59,56,46,40,43,62,47,52,36,52,50,37,31,39,49,44,63,57,40,55,56,43,61,40,35,62,30,31,37,33,48,38,43,40,53,33,47,41,52,40,36,48,55,45,39,42,54,35,65,34,49,56,46,41,36,44,41,60,34,60,33,53,52,36,52,45,34,40,57,27,47,40,38,46,49,54,50,49,49,49,52,47,37,51,49,36,27,49,38,46,38,47,37,58,36,54,64,29,36,40,50,39,49,41,40,59,55,40,33,45,47,35,35,45,37,39,25,44,42,41,43,52,44,38,36,53,40,55,36,44,33,38,54,41,33,67,47,43,35,37,44,54,37,48,41,58,45,28,67,55,54,43,38,41,54,24,49,49,52,47,28,32,53,37,40,36,38,68,50,67,37,35,35,41,56,43,34,50,34,29,43,62,61,29,31,41,62,50,45,42,67,39,33,34,59,60,68,44,45,31,39,32,63,27,48,45,32,39,53,50,35,26,35,39,36,41,35,40,54,39,42,42,55,39,45,33,47,41,42,44,31,35,47,58,41,64,37,35,55,56,45,60,55,62,45,53,42,45,34,38,44,33,41,34,52,39,34,50,35,36,64,47,42,36,50,36,40,36,54,44,41,63,41,47,47,36,39,56,58,61,42,33,30,62,36,34,44,54,40,63,37,43,56,41,40,41,49,36,66,40,40,39,56,38,39,43,68,38,47,30,38,39,31,39,69,39,61,49,46,48,39,36,33,52,39,51,38,46,32,38,42,38,41,46,64,44,47,65,53,40,45,58,44,42,46,35,45,47,64,34,59,38,51,36,33,39,50,60,49,38,33,43,42,34,41,48,52,63,46,38,38,40,51,43,39,47,38,49,57,42,33,40,37,41,46,46,47,48,46,34,70,30,61,55,42,36,52,46,29,43,45,53,36,45,58,49,40,52,32,36,65,56,36,47,30,32,48,39,52,47,55,56,31,48,35,44,27,42,28,40,37,34,39,29,71,32,45,64,30,41,39,69,51,36,32,47,56,48,38,51,45,58,55,43,51,34,33,35,37,62,56,36,50,42,39,27,64,45,53,35,41,69,52,43,48,42,43,44,45,34,46,55,63,56,42,50,65,33,55,35,49,28,61,34,34,57,51,22,50,36,52,48,38,64,41,53,55,49,66,54,33,53,41,38,43,28,43,40,30,64,34,46,36,29,37,59,44,43,42,31,37,52,40,69,31,32,22,38,31,33,42,45,50,55,43,33,39,27,41,43,71,37,37,56,46,67,59,49,55,45,37,53,37,45,39,40,63,35,34,45,48,56,51,32,36,38,61,56,50,30,58,38,29,57,45,38,49,35,38,39,38,49,37,46,64,35,64,48,40,55,46,45,51,41,30,54,51,65,45,47,48,42,36,45,34,36,42,66,61,53,53,49,55,32,66,58,44,48,38,41,59,32,43,40,51,46,37,46,49,33,49,39,33,44,53,33,42,63,38,39,45,53,36,28,62,50,37,42,58,33,65,27,57,45,33,40,54,24,38,51,44,33,37,34,43,31,61,53,33,29,51,34,36,51,36,35,59,38,47,33,39,36,50,29,48,40,62,52,33,30,49,42,33,56,53,41,61,44,53,61,30,44,42,28,50,51,42,53,32,37,44,33,58,30,40,60,36,53,40,39,44,32,36,28,48,48,43,52,50,38,50,27,45,28,30,65,45,45,66,30,39,43,42,33,43,49,39,31,35,39,45,44,25,28,39,46,55,34,41,47,31,33,56,48,29,48,43,55,33,44,33,58,49,46,51,39,30,54,26,38,66,41,38,59,30,40,60,32,36,31,38,34,24,28,41,28,42,44,65,29,51,54,43,38,40,43,55,36,43,37,45,40,51,62,34,43,41,48,37,40,53,51,42,49,65,40,39,38,33,56,56,44,37,40,40,57,44,62,52,46,32,40,34,45,38,31,43,54,34,35,38,51,35,48,65,45,33,52,48,35,45,30,48,61,28,48,41,52,51,43,45,33,24,33,23,71,71,41,47,62,44,70,34,47,50,36,55,39,54,50,33,43,42,54,45,38,55,47,31,39,48,58,35,54,33,32,47,38,40,36,51,49,39,53,46,57,54,35,56,53,54,56,60,51,42,38,43,28,32,55,53,51,54,52,48,60,64,38,47,29,57,46,38,37,40,34,58,54,39,35,44,58,40,46,47,51,35,45,43,43,37,50,52,59,49,52,57,50,51,36,45,42,45,46,61,53,36,40,48,50,66,55,42,46,36,38,42,39,36,66,38,40,57,35,57,55,50,40,39,48,57,59,49,32,30,41,43,54,60,63,30,64,46,35,49,57,55,32,45,38,36,66,42,44,37,39,27,45,39,46,28,39,49,54,60,66,38,60,45,42,44,34,50,51,54,39,52,50,66,47,35,37,27,59,55,39,65,33,34,57,60,41,45,48,41,53,68,35,68,44,49,45,41,47,55,51,49,46,58,56,43,51,54,40,33,65,59,45,59,59,66,44,47,50,40,45,46,50,55,44,39,38,37,47,41,72,62,41,51,39,65,64,46,42,59,44,39,38,36,58,54,26,44,39,35,54,42,39,30,38,30,36,36,38,40,56,64,42,34,32,42,54,34,41,38,32,28,49,40,42,41,36,50,42,44,52,34,40,49,28,35,42,60,47,44,54,37,58,50,44,68,54,35,31,51,39,50,30,43,60,45,36,54,35,67,43,51,38,42,42,57,37,53,48,56,53,34,51,52,57,41,41,37,32,32,52,47,40,49,27,31,51,37,60,31,54,60,35,32,53,37,49,58,54,65,29,42,26,45,44,39,44,50,43,39,44,61,42,57,39,51,46,55,44,52,37,40,34,41,45,48,34,60,29,48,49,27,46,30,45,66,33,32,32,52,49,33,46,58,49,49,41,55,44,37,31,55,40,70,43,66,40,52,33,43,51,68,45,35,37,25,40,48,58,56,34,38,34,38,42,44,41,60,33,38,43,38,36,38,63,53,50,51,34,33,52,37,38,37,53,35,60,47,48,45,43,47,40,56,42,38,44,47,40,60,61,59,24,38,40,40,50,43,52,53,65,35,47,33,50,36,40,40,32,47,32,32,53,35,52,33,36,59,38,44,32,35,41,42,30,43,58,48,56,39,65,52,41,65,46,53,35,44,37,50,54,53,51,53,44,31,55,44,38,43,52,38,61,66],\"xaxis\":\"x2\",\"yaxis\":\"y2\",\"type\":\"box\"},{\"alignmentgroup\":\"True\",\"bingroup\":\"x\",\"hovertemplate\":\"Is_Churn=0<br>Age=%{x}<br>count=%{y}<extra></extra>\",\"legendgroup\":\"0\",\"marker\":{\"color\":\"#EF553B\",\"pattern\":{\"shape\":\"\"}},\"name\":\"0\",\"offsetgroup\":\"0\",\"orientation\":\"v\",\"showlegend\":true,\"x\":[53,35,31,56,32,33,37,32,33,28,30,45,66,41,28,40,62,36,42,38,47,32,52,27,35,41,40,35,30,32,38,31,40,43,56,47,25,45,31,26,40,40,47,48,37,40,48,29,44,34,33,59,39,33,37,45,67,40,29,37,42,37,31,56,42,33,63,34,38,31,42,41,30,26,38,40,39,34,40,37,55,27,46,55,62,34,56,26,31,27,34,45,44,37,59,25,27,44,41,35,55,46,27,31,47,49,25,31,29,44,28,28,41,63,31,38,39,35,68,26,30,45,44,32,28,42,33,33,31,45,40,37,40,33,39,29,29,50,38,45,49,34,57,28,45,27,28,41,46,32,37,44,33,37,44,42,60,59,39,50,36,28,26,38,39,41,29,35,65,42,48,35,39,35,42,50,33,36,34,35,51,30,34,32,63,33,48,32,48,35,35,28,49,42,47,42,35,42,40,25,38,52,33,45,36,57,49,33,32,30,34,52,46,34,30,36,36,40,30,34,36,51,29,33,40,40,60,54,40,26,33,42,35,42,44,40,38,43,38,32,29,32,30,37,39,29,25,50,44,30,29,46,44,34,48,53,41,33,53,49,45,45,43,39,25,29,39,32,33,37,49,51,39,37,53,33,32,29,35,41,26,47,36,41,47,42,33,65,41,47,46,35,40,29,44,38,43,53,50,46,55,39,39,30,44,46,31,35,33,42,68,39,32,45,30,47,40,31,47,37,45,40,37,30,32,27,35,39,26,38,46,31,51,52,53,38,43,40,29,49,33,36,63,53,34,46,37,42,44,63,37,28,29,41,39,32,33,29,53,46,36,45,44,50,47,42,37,41,31,27,27,37,38,33,45,37,42,33,55,31,41,33,43,39,47,53,41,48,65,60,34,51,48,56,39,34,37,36,41,35,45,42,66,50,42,42,23,29,26,29,35,27,41,39,33,28,36,58,28,45,41,31,41,62,46,58,42,43,65,38,48,43,66,36,37,50,34,29,48,45,57,40,29,56,33,55,43,28,42,28,32,32,36,59,43,32,37,40,27,44,31,42,36,41,53,43,47,53,37,36,34,40,48,39,52,45,27,41,41,36,32,32,59,35,37,30,30,41,46,42,62,33,41,44,39,34,25,32,57,54,27,44,35,47,41,38,43,31,69,56,71,34,42,46,41,46,41,25,30,30,43,65,47,46,40,35,40,39,38,43,41,38,37,34,32,50,29,34,33,48,53,42,51,33,44,39,33,37,29,29,38,27,36,43,44,64,37,33,43,39,53,36,40,41,55,63,39,30,34,26,56,41,34,33,40,37,40,27,32,30,35,30,51,32,34,37,25,37,32,37,33,46,38,32,36,45,31,34,36,30,41,36,41,38,43,31,39,44,35,28,52,30,55,35,64,23,26,43,54,38,33,36,39,52,35,29,36,39,43,43,43,33,41,25,34,42,38,35,47,36,38,45,38,28,39,31,38,61,38,23,60,53,37,38,33,51,64,54,49,36,52,53,32,33,41,25,41,43,43,27,36,28,51,54,31,35,37,46,45,40,36,63,54,51,28,54,46,52,36,33,46,40,49,45,33,27,28,39,37,62,27,33,45,52,42,66,33,45,51,36,44,36,51,45,51,29,34,26,28,23,31,49,41,37,49,43,43,30,45,47,52,37,47,28,46,40,26,33,44,35,51,26,31,51,40,39,42,45,38,38,51,41,60,57,31,24,34,49,28,35,39,26,36,30,43,38,35,45,38,49,38,69,27,28,45,25,46,43,34,35,27,41,33,30,40,36,41,49,46,37,37,51,44,33,46,35,52,45,44,33,40,43,71,50,47,34,32,28,44,35,33,55,29,33,39,36,41,47,40,31,34,28,26,50,25,42,59,26,49,39,48,34,26,35,42,54,40,31,54,42,49,48,52,40,38,35,24,41,49,40,32,31,40,41,39,42,49,43,46,40,32,23,39,44,47,44,39,30,36,29,36,68,47,45,32,33,43,32,39,27,29,48,30,35,38,45,38,47,46,31,30,54,33,42,49,23,41,30,30,55,33,36,35,29,36,29,43,37,60,35,45,51,52,50,42,31,39,47,51,31,40,29,38,43,43,41,32,43,38,47,57,37,33,46,41,66,31,26,36,35,30,55,26,62,31,58,31,35,38,43,46,29,44,42,41,34,34,44,33,51,36,48,48,27,34,46,50,26,57,36,35,57,46,40,22,31,28,34,36,57,55,44,34,27,36,38,40,35,41,39,41,47,43,35,31,59,42,47,28,33,62,26,44,40,46,32,31,43,48,47,62,40,31,38,48,64,28,35,59,34,49,27,30,23,32,27,56,57,39,46,37,39,46,27,34,38,30,45,31,35,48,34,35,47,39,35,32,46,30,53,35,37,39,40,47,53,36,42,45,45,42,39,64,42,29,43,36,32,35,45,28,44,28,33,59,37,36,37,29,42,52,56,36,47,26,53,45,36,32,60,39,38,28,45,30,33,25,37,46,34,36,36,40,53,41,34,37,47,33,29,47,41,31,54,41,28,36,37,34,34,46,57,39,32,39,55,37,34,44,31,42,31,42,32,35,43,56,48,42,40,40,65,36,37,28,31,31,34,41,49,38,50,40,42,41,53,51,32,44,50,46,60,62,33,37,38,46,25,32,51,43,37,60,36,39,39,34,30,42,50,43,50,28,50,44,39,23,30,35,45,35,48,34,27,59,48,29,36,47,49,36,63,28,28,42,24,42,30,31,48,30,41,67,34,54,56,40,27,41,63,29,51,36,31,47,44,47,38,52,46,39,59,32,46,43,60,33,33,35,43,34,61,39,41,34,58,55,38,52,57,52,40,55,27,58,54,36,44,30,28,24,46,45,32,66,49,32,38,38,43,39,38,38,42,37,31,37,30,35,34,57,68,41,50,43,35,42,30,39,34,43,47,49,39,43,32,42,23,49,36,35,40,25,39,42,35,44,27,38,40,31,52,28,48,31,54,45,57,48,38,43,35,44,39,62,42,44,50,52,35,30,33,47,29,65,34,35,27,48,42,31,23,63,44,51,34,48,46,46,54,44,69,37,32,65,37,34,39,30,26,31,30,43,39,34,24,31,31,44,44,49,35,35,36,29,34,31,37,34,33,42,49,33,46,54,31,46,43,45,35,37,24,47,39,54,57,58,30,35,30,47,43,27,30,44,45,41,38,50,42,29,52,27,47,30,57,46,36,51,36,37,53,45,33,60,24,29,42,49,27,25,26,54,66,36,50,35,45,29,59,24,32,46,32,40,50,34,32,39,35,45,37,40,53,64,44,39,42,34,47,45,37,36,32,43,35,51,47,46,40,26,52,57,42,35,36,31,45,38,54,32,36,58,40,37,44,47,41,38,41,30,39,61,49,33,46,45,37,51,43,47,42,56,50,34,43,34,28,40,27,40,45,35,31,31,29,45,52,41,41,42,31,39,25,45,47,30,40,48,43,47,45,25,34,52,40,37,55,50,44,46,45,27,37,30,46,38,27,30,29,46,47,35,48,45,22,26,30,31,65,43,39,57,35,37,41,44,31,35,44,46,55,40,46,46,36,25,46,54,37,60,28,38,46,27,49,41,34,27,28,30,52,37,50,37,45,37,28,39,62,32,42,43,48,44,44,46,58,30,46,38,37,42,42,64,31,43,30,30,39,33,34,29,47,32,34,28,41,37,41,67,37,55,48,38,31,24,44,43,35,42,51,37,32,54,37,27,52,44,35,52,46,53,33,62,45,28,32,36,47,39,30,38,27,43,27,35,36,36,37,41,48,34,51,27,48,32,36,49,49,60,40,44,47,32,35,28,26,39,37,30,43,43,33,53,22,35,41,46,27,33,47,42,39,57,61,52,33,29,38,44,41,32,43,36,33,33,29,56,26,39,40,62,37,38,28,36,49,47,42,38,33,36,35,44,40,32,45,39,35,47,49,48,30,24,45,50,45,55,34,42,43,29,51,34,39,33,45,30,41,33,45,29,24,35,55,59,55,46,30,36,42,49,31,37,28,40,70,37,28,49,43,40,31,38,51,40,37,45,30,44,42,30,37,62,43,36,38,55,38,57,31,51,45,53,42,27,53,38,32,36,33,37,36,47,29,37,47,45,48,43,28,37,30,39,35,30,37,41,26,35,41,39,31,55,35,37,39,36,56,29,53,39,44,38,38,33,31,45,37,43,38,29,36,35,45,40,31,38,35,51,40,46,43,27,30,32,29,44,53,32,59,30,37,34,26,48,28,42,36,40,51,50,26,52,27,42,33,39,27,49,26,41,42,40,43,35,32,48,27,23,41,46,42,43,34,46,51,44,46,30,27,31,45,34,30,42,28,39,50,29,38,38,41,43,47,49,40,27,41,44,30,57,49,42,25,54,34,45,50,41,45,45,40,45,40,38,26,42,38,38,45,37,44,55,47,30,48,37,39,29,33,42,32,50,41,25,36,32,37,33,49,44,47,50,32,39,26,35,34,34,45,50,42,61,63,47,50,26,30,39,51,55,61,35,40,23,33,32,55,24,34,59,41,41,38,31,32,37,42,34,48,36,39,34,50,46,30,35,39,22,29,39,46,46,37,44,33,38,31,31,24,26,36,50,25,30,55,34,36,37,39,36,36,43,51,41,29,33,41,71,43,50,45,30,43,45,36,40,43,42,48,30,43,36,29,44,35,49,36,49,40,36,31,61,32,34,40,37,47,51,29,57,26,56,36,40,24,59,56,44,34,27,35,31,63,53,43,36,38,43,34,34,46,37,37,36,38,38,33,27,39,32,50,57,40,50,66,50,39,40,39,42,30,31,54,41,56,50,42,34,43,49,32,41,45,47,52,40,35,44,36,29,40,36,27,57,26,40,44,32,41,43,43,29,42,48,34,38,51,28,39,31,32,28,39,50,29,29,32,54,43,37,56,42,39,45,55,38,64,45,43,43,42,56,35,40,45,30,40,32,33,35,46,27,39,38,39,29,41,42,27,36,38,37,38,29,51,43,32,31,35,35,40,41,45,26,48,41,43,59,28,33,31,29,38,27,33,44,31,34,43,48,42,38,29,45,29,50,35,43,56,43,45,50,27,41,31,34,61,61,41,38,39,36,41,62,64,54,30,42,35,36,41,44,44,38,31,40,46,56,41,40,56,27,38,52,39,38,38,27,52,34,47,38,51,46,36,37,35,33,46,60,43,43,32,41,54,31,34,43,34,38,28,26,51,36,57,58,59,56,47,51,34,45,37,30,37,53,35,38,55,45,29,31,48,35,37,50,40,34,33,33,26,26,34,26,48,45,56,35,38,27,37,28,32,36,30,36,54,34,37,33,38,34,42,45,34,34,34,38,52,34,31,33,28,39,31,31,48,30,52,28,26,30,50,38,45,36,42,35,23,32,36,47,40,44,53,52,42,32,48,33,31,36,35,26,39,36,38,35,34,48,36,48,36,53,44,37,42,45,37,35,52,57,44,34,47,49,35,32,38,65,41,29,39,48,29,58,32,44,41,29,34,47,46,31,33,41,62,43,27,38,40,34,48,37,32,44,53,56,34,44,39,28,44,38,61,33,56,57,32,52,50,43,31,45,30,36,34,28,61,39,43,30,28,36,38,26,34,31,33,50,37,57,36,42,48,34,56,44,46,49,38,55,52,25,43,33,47,29,36,52,47,43,44,32,29,35,51,39,57,43,40,38,48,26,53,34,31,31,41,50,28,43,51,44,33,36,51,44,42,50,34,40,26,34,44,32,29,31,38,38,39,23,40,31,34,41,29,35,30,48,34,33,29,32,45,33,33,28,47,44,50,35,36,59,40,34,57,35,35,32,36,35,34,30,40,47,36,41,38,49,39,32,29,42,41,26,48,47,37,38,41,48,53,51,32,32,56,29,45,36,40,41,29,61,34,36,30,42,39,39,40,65,24,51,32,47,34,45,34,49,42,40,58,38,58,59,45,33,34,30,39,31,34,45,37,43,35,29,52,46,29,28,36,36,31,44,39,40,44,42,35,42,29,26,47,42,28,23,48,36,46,44,40,57,44,30,59,43,33,35,38,38,29,53,29,27,60,41,35,63,42,62,32,30,30,63,48,38,62,39,48,38,46,37,25,57,56,33,61,38,41,51,39,45,53,28,45,27,31,51,41,33,51,66,45,39,32,47,41,35,34,44,44,33,35,35,36,30,35,40,46,33,41,27,34,49,53,53,41,52,53,31,53,39,31,25,52,40,60,40,28,54,30,36,37,45,48,34,42,39,30,40,36,41,27,39,49,28,51,40,47,50,55,49,40,49,45,34,52,55,37,35,36,33,35,33,60,36,48,47,36,43,36,52,50,43,24,36,30,62,47,56,33,35,33,39,38,59,26,34,33,66,27,51,51,39,36,35,39,52,39,39,33,32,56,45,50,30,40,49,39,44,30,32,44,31,25,55,40,37,29,26,47,30,31,48,40,44,39,39,26,45,29,38,67,37,53,45,37,39,35,31,46,42,46,47,58,40,36,40,45,31,39,37,52,55,29,51,31,40,45,58,65,33,33,38,45,34,44,31,43,42,35,25,42,50,28,44,50,34,39,33,31,32,33,41,31,60,29,50,43,32,39,52,34,36,34,30,43,34,36,42,27,45,31,40,30,38,39,30,36,44,31,44,39,24,56,50,54,46,54,44,42,49,33,54,52,46,53,33,34,39,48,46,40,35,47,28,54,44,44,43,36,50,45,42,46,43,28,31,48,51,29,36,41,41,52,48,31,43,40,26,57,45,32,40,31,39,39,45,40,46,29,28,32,26,44,43,40,30,35,52,60,49,44,32,39,26,27,29,55,39,39,32,30,35,44,45,37,51,46,60,63,48,35,35,53,39,55,28,34,46,55,27,44,40,31,27,33,39,41,60,36,41,41,41,36,31,30,41,32,50,38,42,65,32,27,56,35,39,51,44,37,67,29,46,51,30,65,32,52,25,39,39,51,44,48,28,71,49,30,35,31,29,33,31,40,27,63,26,32,41,48,40,26,26,63,56,50,36,47,29,41,29,63,41,43,45,28,52,29,32,48,52,37,38,44,57,34,42,51,49,42,36,48,35,33,46,39,50,38,30,52,39,38,33,33,65,43,31,47,34,30,41,27,51,51,31,37,35,40,33,48,32,23,40,34,44,33,43,40,41,30,31,37,33,46,29,43,47,31,42,68,46,46,27,25,33,30,50,32,49,43,29,42,41,45,44,32,60,47,43,41,57,46,53,27,50,35,47,39,40,30,40,30,41,43,44,37,53,36,64,50,46,31,38,44,55,34,35,42,48,32,41,43,33,50,34,29,36,34,40,34,52,31,50,45,56,57,42,32,34,34,32,38,28,40,38,35,32,57,30,32,55,50,35,48,44,37,47,47,54,26,36,38,56,36,31,48,34,33,39,52,64,46,40,33,47,27,47,49,40,52,53,30,35,28,33,39,24,35,37,34,26,39,47,40,35,45,45,35,54,31,42,31,54,46,46,30,37,39,37,32,41,33,36,34,39,37,35,42,56,40,56,30,53,35,45,31,32,38,51,41,39,59,30,45,33,41,57,36,39,40,31,32,50,30,27,46,33,43,41,31,31,30,39,50,37,66,23,49,52,40,30,42,39,45,37,33,37,56,63,64,38,39,53,29,31,49,42,59,46,41,42,43,50,38,36,37,60,38,60,33,55,60,54,52,37,37,40,31,42,43,30,30,46,56,36,29,39,48,50,37,24,31,33,38,37,36,35,26,50,47,34,36,60,41,36,43,48,33,36,34,41,31,34,33,46,37,35,41,55,68,32,50,34,36,41,33,48,47,51,27,41,36,37,33,36,32,35,36,30,26,34,25,42,56,40,40,29,32,33,40,69,47,50,35,36,40,26,33,32,35,42,33,38,42,29,41,45,33,46,28,42,41,47,33,44,37,35,38,56,40,41,40,28,30,50,46,37,29,30,29,31,51,38,39,40,42,26,27,46,25,48,41,41,49,66,52,38,31,66,49,53,29,41,35,29,42,50,43,25,44,25,33,57,42,38,39,32,42,53,38,40,34,56,49,47,26,56,32,39,50,32,62,42,42,40,60,39,50,54,45,42,36,30,35,39,30,39,29,37,36,55,39,46,31,50,39,49,33,47,37,32,46,38,33,31,37,49,39,30,37,37,57,43,33,37,44,40,58,31,27,31,32,43,34,42,45,43,34,49,27,40,34,35,47,35,38,36,35,39,49,39,34,36,37,52,44,43,32,46,44,51,56,54,43,37,28,32,28,33,38,36,34,50,38,41,32,40,31,28,43,41,43,28,37,41,57,36,30,33,43,26,30,32,53,38,29,36,29,38,31,28,29,28,43,38,26,63,32,47,41,28,30,46,40,33,39,34,29,42,37,44,42,36,33,48,33,55,51,54,32,64,52,40,35,40,29,43,46,49,35,47,41,30,60,54,32,52,42,55,42,34,36,41,43,47,50,42,36,32,45,44,46,30,47,37,42,53,37,41,43,36,39,53,40,44,51,38,47,53,47,52,55,29,35,48,36,33,49,39,52,34,47,28,58,28,40,40,35,37,31,38,29,44,32,26,39,24,33,39,33,42,46,43,33,64,45,31,30,29,24,33,52,38,23,25,44,35,53,49,33,30,38,56,51,53,33,43,27,35,37,60,30,47,39,32,32,28,30,35,41,44,40,34,51,48,32,53,32,51,32,43,57,42,54,38,27,37,36,38,62,38,47,33,34,32,37,38,35,35,28,34,31,30,33,26,37,39,39,36,28,32,47,33,48,36,35,36,48,60,46,23,38,30,64,44,30,41,43,38,35,40,26,39,27,26,30,35,53,38,32,29,33,48,52,43,29,52,36,36,31,39,41,40,39,68,33,30,40,26,33,47,35,52,27,33,60,31,28,29,48,38,32,26,34,32,49,31,64,51,31,56,38,27,38,24,39,39,42,36,34,47,39,43,41,52,28,42,40,38,46,40,36,48,29,31,24,44,38,32,54,32,63,46,37,35,61,36,59,29,36,48,30,51,27,48,32,44,36,43,49,32,47,45,35,29,49,31,57,36,46,39,24,33,57,39,45,44,53,39,35,32,44,37,38,32,39,72,31,34,48,54,41,48,37,48,50,34,41,37,33,34,31,38,39,24,38,40,35,27,47,32,22,52,49,39,30,40,29,29,41,40,47,36,54,27,50,31,38,34,24,34,29,37,36,40,29,47,42,47,35,32,59,40,39,34,27,29,49,64,34,39,36,44,37,55,32,43,49,50,34,27,57,50,53,39,30,21,31,47,26,29,36,31,31,26,29,39,33,47,39,43,33,36,34,49,44,35,39,29,38,55,36,28,42,51,28,41,29,41,24,36,25,53,43,39,31,29,40,33,46,33,47,58,46,36,56,29,36,38,34,40,42,42,42,37,35,33,33,28,42,41,41,41,57,35,44,29,43,39,34,28,37,35,48,53,40,35,42,38,38,39,37,39,45,28,25,30,28,45,27,38,39,26,33,63,38,28,48,26,37,36,39,51,41,33,31,33,49,26,54,33,35,42,63,39,67,26,49,40,39,40,39,32,46,40,52,38,34,40,49,33,52,32,58,33,43,33,38,29,42,39,28,29,57,41,32,41,34,25,60,46,54,31,31,36,33,40,47,34,33,38,32,39,51,41,38,45,52,47,41,52,38,28,42,27,54,33,25,46,34,37,32,32,32,28,28,40,48,65,29,46,45,29,51,25,49,35,52,40,39,50,39,66,29,51,54,46,35,45,49,60,29,56,38,41,42,38,27,46,35,35,37,55,37,67,36,26,38,39,33,30,30,32,30,48,34,36,45,47,45,28,39,31,52,40,44,35,38,46,51,41,48,36,32,46,39,39,53,39,43,30,31,52,59,27,46,38,55,33,40,49,47,53,30,26,31,28,27,40,41,26,32,29,41,43,45,34,31,34,45,46,39,40,28,32,35,40,39,35,27,36,35,55,50,51,62,33,61,47,58,32,36,41,33,43,44,26,33,31,34,28,42,30,38,60,40,58,48,31,42,34,53,41,37,34,34,49,39,45,37,44,62,51,53,54,61,27,51,50,49,45,71,26,25,28,30,34,40,28,33,44,40,39,46,46,46,39,40,33,42,40,34,43,50,36,42,45,43,46,72,38,46,31,55,27,31,30,40,34,38,40,28,40,36,37,55,33,43,40,44,32,44,39,53,49,39,52,45,41,29,44,50,47,32,28,34,60,36,27,30,35,52,53,59,31,35,38,39,29,44,27,46,49,42,31,63,43,37,60,48,29,39,44,59,39,30,29,34,37,69,45,39,48,45,23,27,27,52,58,49,52,35,39,40,43,37,28,33,58,52,37,32,32,39,58,33,49,57,33,41,49,43,56,37,38,50,46,54,35,43,64,44,46,38,31,39,51,41,62,31,55,64,31,34,45,33,24,37,56,35,37,48,31,52,68,48,34,47,46,49,44,37,51,28,45,43,47,36,40,52,37,27,39,41,51,50,22,40,44,32,28,33,53,38,50,59,29,42,62,40,40,30,22,36,34,32,39,32,29,33,31,38,31,39,47,32,40,58,27,47,38,31,35,28,35,34,56,39,47,27,42,36,39,35,31,32,33,31,29,55,32,47,35,36,29,49,50,67,27,35,66,31,32,32,35,40,36,30,42,59,44,51,30,40,37,41,47,47,51,25,33,42,48,31,28,26,26,54,33,38,43,25,31,38,34,31,38,63,34,28,45,47,36,46,40,42,37,42,28,33,39,44,26,30,31,33,29,35,38,36,34,42,44,47,45,55,39,59,48,38,29,52,37,30,43,34,41,56,36,35,47,29,41,34,44,50,35,55,35,47,49,23,41,36,46,50,37,57,33,41,32,26,40,31,56,36,38,39,41,48,31,38,37,59,59,50,40,32,31,34,41,45,44,39,47,42,44,35,46,51,26,47,29,40,25,52,60,27,27,47,42,45,27,37,31,34,27,32,31,30,36,56,44,34,27,34,33,49,52,41,56,46,33,51,45,33,41,33,46,30,40,39,37,30,46,50,35,35,34,35,28,43,38,35,37,44,57,21,32,45,29,36,28,54,38,33,31,43,45,46,50,34,26,35,42,36,50,45,39,41,51,30,54,53,43,26,46,41,32,35,22,53,38,37,34,39,26,42,46,55,40,52,33,33,22,40,35,32,41,41,28,53,35,51,45,37,35,32,37,44,54,36,39,30,47,23,36,37,28,41,29,38,46,29,49,49,38,47,50,58,45,60,34,27,29,52,29,28,29,36,28,22,30,25,32,52,34,40,36,40,45,43,36,28,60,50,32,36,41,34,38,29,39,45,30,35,41,41,34,32,53,43,35,54,38,44,46,26,43,37,26,43,35,39,36,32,50,59,42,49,38,46,50,34,38,34,43,39,43,48,58,49,35,45,59,28,46,44,30,35,42,36,36,55,37,37,28,36,49,28,41,27,56,49,38,29,47,32,38,30,30,33,49,31,36,39,39,28,36,39,42,38,48,31,44,29,32,48,38,62,29,35,51,62,50,25,57,44,55,45,28,40,57,38,42,29,37],\"xaxis\":\"x\",\"yaxis\":\"y\",\"type\":\"histogram\"},{\"alignmentgroup\":\"True\",\"hovertemplate\":\"Is_Churn=0<br>Age=%{x}<extra></extra>\",\"legendgroup\":\"0\",\"marker\":{\"color\":\"#EF553B\"},\"name\":\"0\",\"notched\":true,\"offsetgroup\":\"0\",\"showlegend\":false,\"x\":[53,35,31,56,32,33,37,32,33,28,30,45,66,41,28,40,62,36,42,38,47,32,52,27,35,41,40,35,30,32,38,31,40,43,56,47,25,45,31,26,40,40,47,48,37,40,48,29,44,34,33,59,39,33,37,45,67,40,29,37,42,37,31,56,42,33,63,34,38,31,42,41,30,26,38,40,39,34,40,37,55,27,46,55,62,34,56,26,31,27,34,45,44,37,59,25,27,44,41,35,55,46,27,31,47,49,25,31,29,44,28,28,41,63,31,38,39,35,68,26,30,45,44,32,28,42,33,33,31,45,40,37,40,33,39,29,29,50,38,45,49,34,57,28,45,27,28,41,46,32,37,44,33,37,44,42,60,59,39,50,36,28,26,38,39,41,29,35,65,42,48,35,39,35,42,50,33,36,34,35,51,30,34,32,63,33,48,32,48,35,35,28,49,42,47,42,35,42,40,25,38,52,33,45,36,57,49,33,32,30,34,52,46,34,30,36,36,40,30,34,36,51,29,33,40,40,60,54,40,26,33,42,35,42,44,40,38,43,38,32,29,32,30,37,39,29,25,50,44,30,29,46,44,34,48,53,41,33,53,49,45,45,43,39,25,29,39,32,33,37,49,51,39,37,53,33,32,29,35,41,26,47,36,41,47,42,33,65,41,47,46,35,40,29,44,38,43,53,50,46,55,39,39,30,44,46,31,35,33,42,68,39,32,45,30,47,40,31,47,37,45,40,37,30,32,27,35,39,26,38,46,31,51,52,53,38,43,40,29,49,33,36,63,53,34,46,37,42,44,63,37,28,29,41,39,32,33,29,53,46,36,45,44,50,47,42,37,41,31,27,27,37,38,33,45,37,42,33,55,31,41,33,43,39,47,53,41,48,65,60,34,51,48,56,39,34,37,36,41,35,45,42,66,50,42,42,23,29,26,29,35,27,41,39,33,28,36,58,28,45,41,31,41,62,46,58,42,43,65,38,48,43,66,36,37,50,34,29,48,45,57,40,29,56,33,55,43,28,42,28,32,32,36,59,43,32,37,40,27,44,31,42,36,41,53,43,47,53,37,36,34,40,48,39,52,45,27,41,41,36,32,32,59,35,37,30,30,41,46,42,62,33,41,44,39,34,25,32,57,54,27,44,35,47,41,38,43,31,69,56,71,34,42,46,41,46,41,25,30,30,43,65,47,46,40,35,40,39,38,43,41,38,37,34,32,50,29,34,33,48,53,42,51,33,44,39,33,37,29,29,38,27,36,43,44,64,37,33,43,39,53,36,40,41,55,63,39,30,34,26,56,41,34,33,40,37,40,27,32,30,35,30,51,32,34,37,25,37,32,37,33,46,38,32,36,45,31,34,36,30,41,36,41,38,43,31,39,44,35,28,52,30,55,35,64,23,26,43,54,38,33,36,39,52,35,29,36,39,43,43,43,33,41,25,34,42,38,35,47,36,38,45,38,28,39,31,38,61,38,23,60,53,37,38,33,51,64,54,49,36,52,53,32,33,41,25,41,43,43,27,36,28,51,54,31,35,37,46,45,40,36,63,54,51,28,54,46,52,36,33,46,40,49,45,33,27,28,39,37,62,27,33,45,52,42,66,33,45,51,36,44,36,51,45,51,29,34,26,28,23,31,49,41,37,49,43,43,30,45,47,52,37,47,28,46,40,26,33,44,35,51,26,31,51,40,39,42,45,38,38,51,41,60,57,31,24,34,49,28,35,39,26,36,30,43,38,35,45,38,49,38,69,27,28,45,25,46,43,34,35,27,41,33,30,40,36,41,49,46,37,37,51,44,33,46,35,52,45,44,33,40,43,71,50,47,34,32,28,44,35,33,55,29,33,39,36,41,47,40,31,34,28,26,50,25,42,59,26,49,39,48,34,26,35,42,54,40,31,54,42,49,48,52,40,38,35,24,41,49,40,32,31,40,41,39,42,49,43,46,40,32,23,39,44,47,44,39,30,36,29,36,68,47,45,32,33,43,32,39,27,29,48,30,35,38,45,38,47,46,31,30,54,33,42,49,23,41,30,30,55,33,36,35,29,36,29,43,37,60,35,45,51,52,50,42,31,39,47,51,31,40,29,38,43,43,41,32,43,38,47,57,37,33,46,41,66,31,26,36,35,30,55,26,62,31,58,31,35,38,43,46,29,44,42,41,34,34,44,33,51,36,48,48,27,34,46,50,26,57,36,35,57,46,40,22,31,28,34,36,57,55,44,34,27,36,38,40,35,41,39,41,47,43,35,31,59,42,47,28,33,62,26,44,40,46,32,31,43,48,47,62,40,31,38,48,64,28,35,59,34,49,27,30,23,32,27,56,57,39,46,37,39,46,27,34,38,30,45,31,35,48,34,35,47,39,35,32,46,30,53,35,37,39,40,47,53,36,42,45,45,42,39,64,42,29,43,36,32,35,45,28,44,28,33,59,37,36,37,29,42,52,56,36,47,26,53,45,36,32,60,39,38,28,45,30,33,25,37,46,34,36,36,40,53,41,34,37,47,33,29,47,41,31,54,41,28,36,37,34,34,46,57,39,32,39,55,37,34,44,31,42,31,42,32,35,43,56,48,42,40,40,65,36,37,28,31,31,34,41,49,38,50,40,42,41,53,51,32,44,50,46,60,62,33,37,38,46,25,32,51,43,37,60,36,39,39,34,30,42,50,43,50,28,50,44,39,23,30,35,45,35,48,34,27,59,48,29,36,47,49,36,63,28,28,42,24,42,30,31,48,30,41,67,34,54,56,40,27,41,63,29,51,36,31,47,44,47,38,52,46,39,59,32,46,43,60,33,33,35,43,34,61,39,41,34,58,55,38,52,57,52,40,55,27,58,54,36,44,30,28,24,46,45,32,66,49,32,38,38,43,39,38,38,42,37,31,37,30,35,34,57,68,41,50,43,35,42,30,39,34,43,47,49,39,43,32,42,23,49,36,35,40,25,39,42,35,44,27,38,40,31,52,28,48,31,54,45,57,48,38,43,35,44,39,62,42,44,50,52,35,30,33,47,29,65,34,35,27,48,42,31,23,63,44,51,34,48,46,46,54,44,69,37,32,65,37,34,39,30,26,31,30,43,39,34,24,31,31,44,44,49,35,35,36,29,34,31,37,34,33,42,49,33,46,54,31,46,43,45,35,37,24,47,39,54,57,58,30,35,30,47,43,27,30,44,45,41,38,50,42,29,52,27,47,30,57,46,36,51,36,37,53,45,33,60,24,29,42,49,27,25,26,54,66,36,50,35,45,29,59,24,32,46,32,40,50,34,32,39,35,45,37,40,53,64,44,39,42,34,47,45,37,36,32,43,35,51,47,46,40,26,52,57,42,35,36,31,45,38,54,32,36,58,40,37,44,47,41,38,41,30,39,61,49,33,46,45,37,51,43,47,42,56,50,34,43,34,28,40,27,40,45,35,31,31,29,45,52,41,41,42,31,39,25,45,47,30,40,48,43,47,45,25,34,52,40,37,55,50,44,46,45,27,37,30,46,38,27,30,29,46,47,35,48,45,22,26,30,31,65,43,39,57,35,37,41,44,31,35,44,46,55,40,46,46,36,25,46,54,37,60,28,38,46,27,49,41,34,27,28,30,52,37,50,37,45,37,28,39,62,32,42,43,48,44,44,46,58,30,46,38,37,42,42,64,31,43,30,30,39,33,34,29,47,32,34,28,41,37,41,67,37,55,48,38,31,24,44,43,35,42,51,37,32,54,37,27,52,44,35,52,46,53,33,62,45,28,32,36,47,39,30,38,27,43,27,35,36,36,37,41,48,34,51,27,48,32,36,49,49,60,40,44,47,32,35,28,26,39,37,30,43,43,33,53,22,35,41,46,27,33,47,42,39,57,61,52,33,29,38,44,41,32,43,36,33,33,29,56,26,39,40,62,37,38,28,36,49,47,42,38,33,36,35,44,40,32,45,39,35,47,49,48,30,24,45,50,45,55,34,42,43,29,51,34,39,33,45,30,41,33,45,29,24,35,55,59,55,46,30,36,42,49,31,37,28,40,70,37,28,49,43,40,31,38,51,40,37,45,30,44,42,30,37,62,43,36,38,55,38,57,31,51,45,53,42,27,53,38,32,36,33,37,36,47,29,37,47,45,48,43,28,37,30,39,35,30,37,41,26,35,41,39,31,55,35,37,39,36,56,29,53,39,44,38,38,33,31,45,37,43,38,29,36,35,45,40,31,38,35,51,40,46,43,27,30,32,29,44,53,32,59,30,37,34,26,48,28,42,36,40,51,50,26,52,27,42,33,39,27,49,26,41,42,40,43,35,32,48,27,23,41,46,42,43,34,46,51,44,46,30,27,31,45,34,30,42,28,39,50,29,38,38,41,43,47,49,40,27,41,44,30,57,49,42,25,54,34,45,50,41,45,45,40,45,40,38,26,42,38,38,45,37,44,55,47,30,48,37,39,29,33,42,32,50,41,25,36,32,37,33,49,44,47,50,32,39,26,35,34,34,45,50,42,61,63,47,50,26,30,39,51,55,61,35,40,23,33,32,55,24,34,59,41,41,38,31,32,37,42,34,48,36,39,34,50,46,30,35,39,22,29,39,46,46,37,44,33,38,31,31,24,26,36,50,25,30,55,34,36,37,39,36,36,43,51,41,29,33,41,71,43,50,45,30,43,45,36,40,43,42,48,30,43,36,29,44,35,49,36,49,40,36,31,61,32,34,40,37,47,51,29,57,26,56,36,40,24,59,56,44,34,27,35,31,63,53,43,36,38,43,34,34,46,37,37,36,38,38,33,27,39,32,50,57,40,50,66,50,39,40,39,42,30,31,54,41,56,50,42,34,43,49,32,41,45,47,52,40,35,44,36,29,40,36,27,57,26,40,44,32,41,43,43,29,42,48,34,38,51,28,39,31,32,28,39,50,29,29,32,54,43,37,56,42,39,45,55,38,64,45,43,43,42,56,35,40,45,30,40,32,33,35,46,27,39,38,39,29,41,42,27,36,38,37,38,29,51,43,32,31,35,35,40,41,45,26,48,41,43,59,28,33,31,29,38,27,33,44,31,34,43,48,42,38,29,45,29,50,35,43,56,43,45,50,27,41,31,34,61,61,41,38,39,36,41,62,64,54,30,42,35,36,41,44,44,38,31,40,46,56,41,40,56,27,38,52,39,38,38,27,52,34,47,38,51,46,36,37,35,33,46,60,43,43,32,41,54,31,34,43,34,38,28,26,51,36,57,58,59,56,47,51,34,45,37,30,37,53,35,38,55,45,29,31,48,35,37,50,40,34,33,33,26,26,34,26,48,45,56,35,38,27,37,28,32,36,30,36,54,34,37,33,38,34,42,45,34,34,34,38,52,34,31,33,28,39,31,31,48,30,52,28,26,30,50,38,45,36,42,35,23,32,36,47,40,44,53,52,42,32,48,33,31,36,35,26,39,36,38,35,34,48,36,48,36,53,44,37,42,45,37,35,52,57,44,34,47,49,35,32,38,65,41,29,39,48,29,58,32,44,41,29,34,47,46,31,33,41,62,43,27,38,40,34,48,37,32,44,53,56,34,44,39,28,44,38,61,33,56,57,32,52,50,43,31,45,30,36,34,28,61,39,43,30,28,36,38,26,34,31,33,50,37,57,36,42,48,34,56,44,46,49,38,55,52,25,43,33,47,29,36,52,47,43,44,32,29,35,51,39,57,43,40,38,48,26,53,34,31,31,41,50,28,43,51,44,33,36,51,44,42,50,34,40,26,34,44,32,29,31,38,38,39,23,40,31,34,41,29,35,30,48,34,33,29,32,45,33,33,28,47,44,50,35,36,59,40,34,57,35,35,32,36,35,34,30,40,47,36,41,38,49,39,32,29,42,41,26,48,47,37,38,41,48,53,51,32,32,56,29,45,36,40,41,29,61,34,36,30,42,39,39,40,65,24,51,32,47,34,45,34,49,42,40,58,38,58,59,45,33,34,30,39,31,34,45,37,43,35,29,52,46,29,28,36,36,31,44,39,40,44,42,35,42,29,26,47,42,28,23,48,36,46,44,40,57,44,30,59,43,33,35,38,38,29,53,29,27,60,41,35,63,42,62,32,30,30,63,48,38,62,39,48,38,46,37,25,57,56,33,61,38,41,51,39,45,53,28,45,27,31,51,41,33,51,66,45,39,32,47,41,35,34,44,44,33,35,35,36,30,35,40,46,33,41,27,34,49,53,53,41,52,53,31,53,39,31,25,52,40,60,40,28,54,30,36,37,45,48,34,42,39,30,40,36,41,27,39,49,28,51,40,47,50,55,49,40,49,45,34,52,55,37,35,36,33,35,33,60,36,48,47,36,43,36,52,50,43,24,36,30,62,47,56,33,35,33,39,38,59,26,34,33,66,27,51,51,39,36,35,39,52,39,39,33,32,56,45,50,30,40,49,39,44,30,32,44,31,25,55,40,37,29,26,47,30,31,48,40,44,39,39,26,45,29,38,67,37,53,45,37,39,35,31,46,42,46,47,58,40,36,40,45,31,39,37,52,55,29,51,31,40,45,58,65,33,33,38,45,34,44,31,43,42,35,25,42,50,28,44,50,34,39,33,31,32,33,41,31,60,29,50,43,32,39,52,34,36,34,30,43,34,36,42,27,45,31,40,30,38,39,30,36,44,31,44,39,24,56,50,54,46,54,44,42,49,33,54,52,46,53,33,34,39,48,46,40,35,47,28,54,44,44,43,36,50,45,42,46,43,28,31,48,51,29,36,41,41,52,48,31,43,40,26,57,45,32,40,31,39,39,45,40,46,29,28,32,26,44,43,40,30,35,52,60,49,44,32,39,26,27,29,55,39,39,32,30,35,44,45,37,51,46,60,63,48,35,35,53,39,55,28,34,46,55,27,44,40,31,27,33,39,41,60,36,41,41,41,36,31,30,41,32,50,38,42,65,32,27,56,35,39,51,44,37,67,29,46,51,30,65,32,52,25,39,39,51,44,48,28,71,49,30,35,31,29,33,31,40,27,63,26,32,41,48,40,26,26,63,56,50,36,47,29,41,29,63,41,43,45,28,52,29,32,48,52,37,38,44,57,34,42,51,49,42,36,48,35,33,46,39,50,38,30,52,39,38,33,33,65,43,31,47,34,30,41,27,51,51,31,37,35,40,33,48,32,23,40,34,44,33,43,40,41,30,31,37,33,46,29,43,47,31,42,68,46,46,27,25,33,30,50,32,49,43,29,42,41,45,44,32,60,47,43,41,57,46,53,27,50,35,47,39,40,30,40,30,41,43,44,37,53,36,64,50,46,31,38,44,55,34,35,42,48,32,41,43,33,50,34,29,36,34,40,34,52,31,50,45,56,57,42,32,34,34,32,38,28,40,38,35,32,57,30,32,55,50,35,48,44,37,47,47,54,26,36,38,56,36,31,48,34,33,39,52,64,46,40,33,47,27,47,49,40,52,53,30,35,28,33,39,24,35,37,34,26,39,47,40,35,45,45,35,54,31,42,31,54,46,46,30,37,39,37,32,41,33,36,34,39,37,35,42,56,40,56,30,53,35,45,31,32,38,51,41,39,59,30,45,33,41,57,36,39,40,31,32,50,30,27,46,33,43,41,31,31,30,39,50,37,66,23,49,52,40,30,42,39,45,37,33,37,56,63,64,38,39,53,29,31,49,42,59,46,41,42,43,50,38,36,37,60,38,60,33,55,60,54,52,37,37,40,31,42,43,30,30,46,56,36,29,39,48,50,37,24,31,33,38,37,36,35,26,50,47,34,36,60,41,36,43,48,33,36,34,41,31,34,33,46,37,35,41,55,68,32,50,34,36,41,33,48,47,51,27,41,36,37,33,36,32,35,36,30,26,34,25,42,56,40,40,29,32,33,40,69,47,50,35,36,40,26,33,32,35,42,33,38,42,29,41,45,33,46,28,42,41,47,33,44,37,35,38,56,40,41,40,28,30,50,46,37,29,30,29,31,51,38,39,40,42,26,27,46,25,48,41,41,49,66,52,38,31,66,49,53,29,41,35,29,42,50,43,25,44,25,33,57,42,38,39,32,42,53,38,40,34,56,49,47,26,56,32,39,50,32,62,42,42,40,60,39,50,54,45,42,36,30,35,39,30,39,29,37,36,55,39,46,31,50,39,49,33,47,37,32,46,38,33,31,37,49,39,30,37,37,57,43,33,37,44,40,58,31,27,31,32,43,34,42,45,43,34,49,27,40,34,35,47,35,38,36,35,39,49,39,34,36,37,52,44,43,32,46,44,51,56,54,43,37,28,32,28,33,38,36,34,50,38,41,32,40,31,28,43,41,43,28,37,41,57,36,30,33,43,26,30,32,53,38,29,36,29,38,31,28,29,28,43,38,26,63,32,47,41,28,30,46,40,33,39,34,29,42,37,44,42,36,33,48,33,55,51,54,32,64,52,40,35,40,29,43,46,49,35,47,41,30,60,54,32,52,42,55,42,34,36,41,43,47,50,42,36,32,45,44,46,30,47,37,42,53,37,41,43,36,39,53,40,44,51,38,47,53,47,52,55,29,35,48,36,33,49,39,52,34,47,28,58,28,40,40,35,37,31,38,29,44,32,26,39,24,33,39,33,42,46,43,33,64,45,31,30,29,24,33,52,38,23,25,44,35,53,49,33,30,38,56,51,53,33,43,27,35,37,60,30,47,39,32,32,28,30,35,41,44,40,34,51,48,32,53,32,51,32,43,57,42,54,38,27,37,36,38,62,38,47,33,34,32,37,38,35,35,28,34,31,30,33,26,37,39,39,36,28,32,47,33,48,36,35,36,48,60,46,23,38,30,64,44,30,41,43,38,35,40,26,39,27,26,30,35,53,38,32,29,33,48,52,43,29,52,36,36,31,39,41,40,39,68,33,30,40,26,33,47,35,52,27,33,60,31,28,29,48,38,32,26,34,32,49,31,64,51,31,56,38,27,38,24,39,39,42,36,34,47,39,43,41,52,28,42,40,38,46,40,36,48,29,31,24,44,38,32,54,32,63,46,37,35,61,36,59,29,36,48,30,51,27,48,32,44,36,43,49,32,47,45,35,29,49,31,57,36,46,39,24,33,57,39,45,44,53,39,35,32,44,37,38,32,39,72,31,34,48,54,41,48,37,48,50,34,41,37,33,34,31,38,39,24,38,40,35,27,47,32,22,52,49,39,30,40,29,29,41,40,47,36,54,27,50,31,38,34,24,34,29,37,36,40,29,47,42,47,35,32,59,40,39,34,27,29,49,64,34,39,36,44,37,55,32,43,49,50,34,27,57,50,53,39,30,21,31,47,26,29,36,31,31,26,29,39,33,47,39,43,33,36,34,49,44,35,39,29,38,55,36,28,42,51,28,41,29,41,24,36,25,53,43,39,31,29,40,33,46,33,47,58,46,36,56,29,36,38,34,40,42,42,42,37,35,33,33,28,42,41,41,41,57,35,44,29,43,39,34,28,37,35,48,53,40,35,42,38,38,39,37,39,45,28,25,30,28,45,27,38,39,26,33,63,38,28,48,26,37,36,39,51,41,33,31,33,49,26,54,33,35,42,63,39,67,26,49,40,39,40,39,32,46,40,52,38,34,40,49,33,52,32,58,33,43,33,38,29,42,39,28,29,57,41,32,41,34,25,60,46,54,31,31,36,33,40,47,34,33,38,32,39,51,41,38,45,52,47,41,52,38,28,42,27,54,33,25,46,34,37,32,32,32,28,28,40,48,65,29,46,45,29,51,25,49,35,52,40,39,50,39,66,29,51,54,46,35,45,49,60,29,56,38,41,42,38,27,46,35,35,37,55,37,67,36,26,38,39,33,30,30,32,30,48,34,36,45,47,45,28,39,31,52,40,44,35,38,46,51,41,48,36,32,46,39,39,53,39,43,30,31,52,59,27,46,38,55,33,40,49,47,53,30,26,31,28,27,40,41,26,32,29,41,43,45,34,31,34,45,46,39,40,28,32,35,40,39,35,27,36,35,55,50,51,62,33,61,47,58,32,36,41,33,43,44,26,33,31,34,28,42,30,38,60,40,58,48,31,42,34,53,41,37,34,34,49,39,45,37,44,62,51,53,54,61,27,51,50,49,45,71,26,25,28,30,34,40,28,33,44,40,39,46,46,46,39,40,33,42,40,34,43,50,36,42,45,43,46,72,38,46,31,55,27,31,30,40,34,38,40,28,40,36,37,55,33,43,40,44,32,44,39,53,49,39,52,45,41,29,44,50,47,32,28,34,60,36,27,30,35,52,53,59,31,35,38,39,29,44,27,46,49,42,31,63,43,37,60,48,29,39,44,59,39,30,29,34,37,69,45,39,48,45,23,27,27,52,58,49,52,35,39,40,43,37,28,33,58,52,37,32,32,39,58,33,49,57,33,41,49,43,56,37,38,50,46,54,35,43,64,44,46,38,31,39,51,41,62,31,55,64,31,34,45,33,24,37,56,35,37,48,31,52,68,48,34,47,46,49,44,37,51,28,45,43,47,36,40,52,37,27,39,41,51,50,22,40,44,32,28,33,53,38,50,59,29,42,62,40,40,30,22,36,34,32,39,32,29,33,31,38,31,39,47,32,40,58,27,47,38,31,35,28,35,34,56,39,47,27,42,36,39,35,31,32,33,31,29,55,32,47,35,36,29,49,50,67,27,35,66,31,32,32,35,40,36,30,42,59,44,51,30,40,37,41,47,47,51,25,33,42,48,31,28,26,26,54,33,38,43,25,31,38,34,31,38,63,34,28,45,47,36,46,40,42,37,42,28,33,39,44,26,30,31,33,29,35,38,36,34,42,44,47,45,55,39,59,48,38,29,52,37,30,43,34,41,56,36,35,47,29,41,34,44,50,35,55,35,47,49,23,41,36,46,50,37,57,33,41,32,26,40,31,56,36,38,39,41,48,31,38,37,59,59,50,40,32,31,34,41,45,44,39,47,42,44,35,46,51,26,47,29,40,25,52,60,27,27,47,42,45,27,37,31,34,27,32,31,30,36,56,44,34,27,34,33,49,52,41,56,46,33,51,45,33,41,33,46,30,40,39,37,30,46,50,35,35,34,35,28,43,38,35,37,44,57,21,32,45,29,36,28,54,38,33,31,43,45,46,50,34,26,35,42,36,50,45,39,41,51,30,54,53,43,26,46,41,32,35,22,53,38,37,34,39,26,42,46,55,40,52,33,33,22,40,35,32,41,41,28,53,35,51,45,37,35,32,37,44,54,36,39,30,47,23,36,37,28,41,29,38,46,29,49,49,38,47,50,58,45,60,34,27,29,52,29,28,29,36,28,22,30,25,32,52,34,40,36,40,45,43,36,28,60,50,32,36,41,34,38,29,39,45,30,35,41,41,34,32,53,43,35,54,38,44,46,26,43,37,26,43,35,39,36,32,50,59,42,49,38,46,50,34,38,34,43,39,43,48,58,49,35,45,59,28,46,44,30,35,42,36,36,55,37,37,28,36,49,28,41,27,56,49,38,29,47,32,38,30,30,33,49,31,36,39,39,28,36,39,42,38,48,31,44,29,32,48,38,62,29,35,51,62,50,25,57,44,55,45,28,40,57,38,42,29,37],\"xaxis\":\"x2\",\"yaxis\":\"y2\",\"type\":\"box\"}],                        {\"template\":{\"data\":{\"bar\":[{\"error_x\":{\"color\":\"#2a3f5f\"},\"error_y\":{\"color\":\"#2a3f5f\"},\"marker\":{\"line\":{\"color\":\"#E5ECF6\",\"width\":0.5},\"pattern\":{\"fillmode\":\"overlay\",\"size\":10,\"solidity\":0.2}},\"type\":\"bar\"}],\"barpolar\":[{\"marker\":{\"line\":{\"color\":\"#E5ECF6\",\"width\":0.5},\"pattern\":{\"fillmode\":\"overlay\",\"size\":10,\"solidity\":0.2}},\"type\":\"barpolar\"}],\"carpet\":[{\"aaxis\":{\"endlinecolor\":\"#2a3f5f\",\"gridcolor\":\"white\",\"linecolor\":\"white\",\"minorgridcolor\":\"white\",\"startlinecolor\":\"#2a3f5f\"},\"baxis\":{\"endlinecolor\":\"#2a3f5f\",\"gridcolor\":\"white\",\"linecolor\":\"white\",\"minorgridcolor\":\"white\",\"startlinecolor\":\"#2a3f5f\"},\"type\":\"carpet\"}],\"choropleth\":[{\"colorbar\":{\"outlinewidth\":0,\"ticks\":\"\"},\"type\":\"choropleth\"}],\"contour\":[{\"colorbar\":{\"outlinewidth\":0,\"ticks\":\"\"},\"colorscale\":[[0.0,\"#0d0887\"],[0.1111111111111111,\"#46039f\"],[0.2222222222222222,\"#7201a8\"],[0.3333333333333333,\"#9c179e\"],[0.4444444444444444,\"#bd3786\"],[0.5555555555555556,\"#d8576b\"],[0.6666666666666666,\"#ed7953\"],[0.7777777777777778,\"#fb9f3a\"],[0.8888888888888888,\"#fdca26\"],[1.0,\"#f0f921\"]],\"type\":\"contour\"}],\"contourcarpet\":[{\"colorbar\":{\"outlinewidth\":0,\"ticks\":\"\"},\"type\":\"contourcarpet\"}],\"heatmap\":[{\"colorbar\":{\"outlinewidth\":0,\"ticks\":\"\"},\"colorscale\":[[0.0,\"#0d0887\"],[0.1111111111111111,\"#46039f\"],[0.2222222222222222,\"#7201a8\"],[0.3333333333333333,\"#9c179e\"],[0.4444444444444444,\"#bd3786\"],[0.5555555555555556,\"#d8576b\"],[0.6666666666666666,\"#ed7953\"],[0.7777777777777778,\"#fb9f3a\"],[0.8888888888888888,\"#fdca26\"],[1.0,\"#f0f921\"]],\"type\":\"heatmap\"}],\"heatmapgl\":[{\"colorbar\":{\"outlinewidth\":0,\"ticks\":\"\"},\"colorscale\":[[0.0,\"#0d0887\"],[0.1111111111111111,\"#46039f\"],[0.2222222222222222,\"#7201a8\"],[0.3333333333333333,\"#9c179e\"],[0.4444444444444444,\"#bd3786\"],[0.5555555555555556,\"#d8576b\"],[0.6666666666666666,\"#ed7953\"],[0.7777777777777778,\"#fb9f3a\"],[0.8888888888888888,\"#fdca26\"],[1.0,\"#f0f921\"]],\"type\":\"heatmapgl\"}],\"histogram\":[{\"marker\":{\"pattern\":{\"fillmode\":\"overlay\",\"size\":10,\"solidity\":0.2}},\"type\":\"histogram\"}],\"histogram2d\":[{\"colorbar\":{\"outlinewidth\":0,\"ticks\":\"\"},\"colorscale\":[[0.0,\"#0d0887\"],[0.1111111111111111,\"#46039f\"],[0.2222222222222222,\"#7201a8\"],[0.3333333333333333,\"#9c179e\"],[0.4444444444444444,\"#bd3786\"],[0.5555555555555556,\"#d8576b\"],[0.6666666666666666,\"#ed7953\"],[0.7777777777777778,\"#fb9f3a\"],[0.8888888888888888,\"#fdca26\"],[1.0,\"#f0f921\"]],\"type\":\"histogram2d\"}],\"histogram2dcontour\":[{\"colorbar\":{\"outlinewidth\":0,\"ticks\":\"\"},\"colorscale\":[[0.0,\"#0d0887\"],[0.1111111111111111,\"#46039f\"],[0.2222222222222222,\"#7201a8\"],[0.3333333333333333,\"#9c179e\"],[0.4444444444444444,\"#bd3786\"],[0.5555555555555556,\"#d8576b\"],[0.6666666666666666,\"#ed7953\"],[0.7777777777777778,\"#fb9f3a\"],[0.8888888888888888,\"#fdca26\"],[1.0,\"#f0f921\"]],\"type\":\"histogram2dcontour\"}],\"mesh3d\":[{\"colorbar\":{\"outlinewidth\":0,\"ticks\":\"\"},\"type\":\"mesh3d\"}],\"parcoords\":[{\"line\":{\"colorbar\":{\"outlinewidth\":0,\"ticks\":\"\"}},\"type\":\"parcoords\"}],\"pie\":[{\"automargin\":true,\"type\":\"pie\"}],\"scatter\":[{\"marker\":{\"colorbar\":{\"outlinewidth\":0,\"ticks\":\"\"}},\"type\":\"scatter\"}],\"scatter3d\":[{\"line\":{\"colorbar\":{\"outlinewidth\":0,\"ticks\":\"\"}},\"marker\":{\"colorbar\":{\"outlinewidth\":0,\"ticks\":\"\"}},\"type\":\"scatter3d\"}],\"scattercarpet\":[{\"marker\":{\"colorbar\":{\"outlinewidth\":0,\"ticks\":\"\"}},\"type\":\"scattercarpet\"}],\"scattergeo\":[{\"marker\":{\"colorbar\":{\"outlinewidth\":0,\"ticks\":\"\"}},\"type\":\"scattergeo\"}],\"scattergl\":[{\"marker\":{\"colorbar\":{\"outlinewidth\":0,\"ticks\":\"\"}},\"type\":\"scattergl\"}],\"scattermapbox\":[{\"marker\":{\"colorbar\":{\"outlinewidth\":0,\"ticks\":\"\"}},\"type\":\"scattermapbox\"}],\"scatterpolar\":[{\"marker\":{\"colorbar\":{\"outlinewidth\":0,\"ticks\":\"\"}},\"type\":\"scatterpolar\"}],\"scatterpolargl\":[{\"marker\":{\"colorbar\":{\"outlinewidth\":0,\"ticks\":\"\"}},\"type\":\"scatterpolargl\"}],\"scatterternary\":[{\"marker\":{\"colorbar\":{\"outlinewidth\":0,\"ticks\":\"\"}},\"type\":\"scatterternary\"}],\"surface\":[{\"colorbar\":{\"outlinewidth\":0,\"ticks\":\"\"},\"colorscale\":[[0.0,\"#0d0887\"],[0.1111111111111111,\"#46039f\"],[0.2222222222222222,\"#7201a8\"],[0.3333333333333333,\"#9c179e\"],[0.4444444444444444,\"#bd3786\"],[0.5555555555555556,\"#d8576b\"],[0.6666666666666666,\"#ed7953\"],[0.7777777777777778,\"#fb9f3a\"],[0.8888888888888888,\"#fdca26\"],[1.0,\"#f0f921\"]],\"type\":\"surface\"}],\"table\":[{\"cells\":{\"fill\":{\"color\":\"#EBF0F8\"},\"line\":{\"color\":\"white\"}},\"header\":{\"fill\":{\"color\":\"#C8D4E3\"},\"line\":{\"color\":\"white\"}},\"type\":\"table\"}]},\"layout\":{\"annotationdefaults\":{\"arrowcolor\":\"#2a3f5f\",\"arrowhead\":0,\"arrowwidth\":1},\"autotypenumbers\":\"strict\",\"coloraxis\":{\"colorbar\":{\"outlinewidth\":0,\"ticks\":\"\"}},\"colorscale\":{\"diverging\":[[0,\"#8e0152\"],[0.1,\"#c51b7d\"],[0.2,\"#de77ae\"],[0.3,\"#f1b6da\"],[0.4,\"#fde0ef\"],[0.5,\"#f7f7f7\"],[0.6,\"#e6f5d0\"],[0.7,\"#b8e186\"],[0.8,\"#7fbc41\"],[0.9,\"#4d9221\"],[1,\"#276419\"]],\"sequential\":[[0.0,\"#0d0887\"],[0.1111111111111111,\"#46039f\"],[0.2222222222222222,\"#7201a8\"],[0.3333333333333333,\"#9c179e\"],[0.4444444444444444,\"#bd3786\"],[0.5555555555555556,\"#d8576b\"],[0.6666666666666666,\"#ed7953\"],[0.7777777777777778,\"#fb9f3a\"],[0.8888888888888888,\"#fdca26\"],[1.0,\"#f0f921\"]],\"sequentialminus\":[[0.0,\"#0d0887\"],[0.1111111111111111,\"#46039f\"],[0.2222222222222222,\"#7201a8\"],[0.3333333333333333,\"#9c179e\"],[0.4444444444444444,\"#bd3786\"],[0.5555555555555556,\"#d8576b\"],[0.6666666666666666,\"#ed7953\"],[0.7777777777777778,\"#fb9f3a\"],[0.8888888888888888,\"#fdca26\"],[1.0,\"#f0f921\"]]},\"colorway\":[\"#636efa\",\"#EF553B\",\"#00cc96\",\"#ab63fa\",\"#FFA15A\",\"#19d3f3\",\"#FF6692\",\"#B6E880\",\"#FF97FF\",\"#FECB52\"],\"font\":{\"color\":\"#2a3f5f\"},\"geo\":{\"bgcolor\":\"white\",\"lakecolor\":\"white\",\"landcolor\":\"#E5ECF6\",\"showlakes\":true,\"showland\":true,\"subunitcolor\":\"white\"},\"hoverlabel\":{\"align\":\"left\"},\"hovermode\":\"closest\",\"mapbox\":{\"style\":\"light\"},\"paper_bgcolor\":\"white\",\"plot_bgcolor\":\"#E5ECF6\",\"polar\":{\"angularaxis\":{\"gridcolor\":\"white\",\"linecolor\":\"white\",\"ticks\":\"\"},\"bgcolor\":\"#E5ECF6\",\"radialaxis\":{\"gridcolor\":\"white\",\"linecolor\":\"white\",\"ticks\":\"\"}},\"scene\":{\"xaxis\":{\"backgroundcolor\":\"#E5ECF6\",\"gridcolor\":\"white\",\"gridwidth\":2,\"linecolor\":\"white\",\"showbackground\":true,\"ticks\":\"\",\"zerolinecolor\":\"white\"},\"yaxis\":{\"backgroundcolor\":\"#E5ECF6\",\"gridcolor\":\"white\",\"gridwidth\":2,\"linecolor\":\"white\",\"showbackground\":true,\"ticks\":\"\",\"zerolinecolor\":\"white\"},\"zaxis\":{\"backgroundcolor\":\"#E5ECF6\",\"gridcolor\":\"white\",\"gridwidth\":2,\"linecolor\":\"white\",\"showbackground\":true,\"ticks\":\"\",\"zerolinecolor\":\"white\"}},\"shapedefaults\":{\"line\":{\"color\":\"#2a3f5f\"}},\"ternary\":{\"aaxis\":{\"gridcolor\":\"white\",\"linecolor\":\"white\",\"ticks\":\"\"},\"baxis\":{\"gridcolor\":\"white\",\"linecolor\":\"white\",\"ticks\":\"\"},\"bgcolor\":\"#E5ECF6\",\"caxis\":{\"gridcolor\":\"white\",\"linecolor\":\"white\",\"ticks\":\"\"}},\"title\":{\"x\":0.05},\"xaxis\":{\"automargin\":true,\"gridcolor\":\"white\",\"linecolor\":\"white\",\"ticks\":\"\",\"title\":{\"standoff\":15},\"zerolinecolor\":\"white\",\"zerolinewidth\":2},\"yaxis\":{\"automargin\":true,\"gridcolor\":\"white\",\"linecolor\":\"white\",\"ticks\":\"\",\"title\":{\"standoff\":15},\"zerolinecolor\":\"white\",\"zerolinewidth\":2}}},\"xaxis\":{\"anchor\":\"y\",\"domain\":[0.0,1.0],\"title\":{\"text\":\"Age\"}},\"yaxis\":{\"anchor\":\"x\",\"domain\":[0.0,0.7326],\"title\":{\"text\":\"count\"}},\"xaxis2\":{\"anchor\":\"y2\",\"domain\":[0.0,1.0],\"matches\":\"x\",\"showticklabels\":false,\"showgrid\":true},\"yaxis2\":{\"anchor\":\"x2\",\"domain\":[0.7426,1.0],\"matches\":\"y2\",\"showticklabels\":false,\"showline\":false,\"ticks\":\"\",\"showgrid\":false},\"legend\":{\"title\":{\"text\":\"Is_Churn\"},\"tracegroupgap\":0},\"title\":{\"text\":\"Age vs Is_Churn \"},\"barmode\":\"relative\",\"height\":550,\"width\":800},                        {\"responsive\": true}                    ).then(function(){\n",
              "                            \n",
              "var gd = document.getElementById('57447cb9-e767-4577-9027-38e5d9336813');\n",
              "var x = new MutationObserver(function (mutations, observer) {{\n",
              "        var display = window.getComputedStyle(gd).display;\n",
              "        if (!display || display === 'none') {{\n",
              "            console.log([gd, 'removed!']);\n",
              "            Plotly.purge(gd);\n",
              "            observer.disconnect();\n",
              "        }}\n",
              "}});\n",
              "\n",
              "// Listen for the removal of the full notebook cells\n",
              "var notebookContainer = gd.closest('#notebook-container');\n",
              "if (notebookContainer) {{\n",
              "    x.observe(notebookContainer, {childList: true});\n",
              "}}\n",
              "\n",
              "// Listen for the clearing of the current output cell\n",
              "var outputEl = gd.closest('.output');\n",
              "if (outputEl) {{\n",
              "    x.observe(outputEl, {childList: true});\n",
              "}}\n",
              "\n",
              "                        })                };                            </script>        </div>\n",
              "</body>\n",
              "</html>"
            ]
          },
          "metadata": {}
        }
      ]
    },
    {
      "cell_type": "markdown",
      "source": [
        "The customers who are in between 30-60 range are more likely to leave the bank"
      ],
      "metadata": {
        "id": "q4vpIu-B37V9"
      }
    },
    {
      "cell_type": "code",
      "source": [
        "px.histogram(train_df, x='Gender', title='Age vs Is_Churn ', color='Is_Churn',width=550, height=550)"
      ],
      "metadata": {
        "colab": {
          "base_uri": "https://localhost:8080/",
          "height": 567
        },
        "id": "BQmpY7lM1VNL",
        "outputId": "99c3b2d5-9465-43a1-94bb-b250e618ff1a"
      },
      "execution_count": null,
      "outputs": [
        {
          "output_type": "display_data",
          "data": {
            "text/html": [
              "<html>\n",
              "<head><meta charset=\"utf-8\" /></head>\n",
              "<body>\n",
              "    <div>            <script src=\"https://cdnjs.cloudflare.com/ajax/libs/mathjax/2.7.5/MathJax.js?config=TeX-AMS-MML_SVG\"></script><script type=\"text/javascript\">if (window.MathJax) {MathJax.Hub.Config({SVG: {font: \"STIX-Web\"}});}</script>                <script type=\"text/javascript\">window.PlotlyConfig = {MathJaxConfig: 'local'};</script>\n",
              "        <script src=\"https://cdn.plot.ly/plotly-2.8.3.min.js\"></script>                <div id=\"b5da0d68-dd61-4592-9a61-f5190ffd5526\" class=\"plotly-graph-div\" style=\"height:550px; width:550px;\"></div>            <script type=\"text/javascript\">                                    window.PLOTLYENV=window.PLOTLYENV || {};                                    if (document.getElementById(\"b5da0d68-dd61-4592-9a61-f5190ffd5526\")) {                    Plotly.newPlot(                        \"b5da0d68-dd61-4592-9a61-f5190ffd5526\",                        [{\"alignmentgroup\":\"True\",\"bingroup\":\"x\",\"hovertemplate\":\"Is_Churn=1<br>Gender=%{x}<br>count=%{y}<extra></extra>\",\"legendgroup\":\"1\",\"marker\":{\"color\":\"#636efa\",\"pattern\":{\"shape\":\"\"}},\"name\":\"1\",\"offsetgroup\":\"1\",\"orientation\":\"v\",\"showlegend\":true,\"x\":[\"Female\",\"Female\",\"Female\",\"Female\",\"Female\",\"Female\",\"Female\",\"Male\",\"Male\",\"Male\",\"Female\",\"Female\",\"Male\",\"Female\",\"Male\",\"Female\",\"Female\",\"Male\",\"Male\",\"Female\",\"Male\",\"Male\",\"Female\",\"Female\",\"Male\",\"Female\",\"Male\",\"Female\",\"Male\",\"Male\",\"Female\",\"Female\",\"Female\",\"Female\",\"Male\",\"Male\",\"Male\",\"Male\",\"Female\",\"Male\",\"Male\",\"Male\",\"Male\",\"Female\",\"Female\",\"Female\",\"Female\",\"Female\",\"Female\",\"Female\",\"Female\",\"Female\",\"Male\",\"Male\",\"Female\",\"Male\",\"Female\",\"Male\",\"Female\",\"Male\",\"Female\",\"Female\",\"Male\",\"Female\",\"Female\",\"Female\",\"Male\",\"Male\",\"Female\",\"Female\",\"Female\",\"Female\",\"Male\",\"Female\",\"Male\",\"Female\",\"Female\",\"Female\",\"Female\",\"Male\",\"Female\",\"Male\",\"Female\",\"Female\",\"Male\",\"Female\",\"Male\",\"Female\",\"Female\",\"Female\",\"Female\",\"Female\",\"Female\",\"Male\",\"Female\",\"Male\",\"Male\",\"Male\",\"Female\",\"Female\",\"Female\",\"Male\",\"Male\",\"Female\",\"Male\",\"Female\",\"Male\",\"Male\",\"Male\",\"Male\",\"Female\",\"Male\",\"Male\",\"Female\",\"Male\",\"Male\",\"Male\",\"Female\",\"Female\",\"Female\",\"Female\",\"Male\",\"Female\",\"Male\",\"Female\",\"Male\",\"Female\",\"Male\",\"Female\",\"Male\",\"Male\",\"Female\",\"Male\",\"Female\",\"Female\",\"Female\",\"Male\",\"Female\",\"Male\",\"Female\",\"Female\",\"Male\",\"Male\",\"Male\",\"Female\",\"Male\",\"Female\",\"Male\",\"Female\",\"Female\",\"Female\",\"Male\",\"Female\",\"Female\",\"Male\",\"Male\",\"Male\",\"Female\",\"Female\",\"Male\",\"Male\",\"Female\",\"Female\",\"Male\",\"Female\",\"Male\",\"Male\",\"Male\",\"Male\",\"Male\",\"Male\",\"Female\",\"Female\",\"Female\",\"Male\",\"Female\",\"Female\",\"Female\",\"Male\",\"Male\",\"Female\",\"Male\",\"Female\",\"Female\",\"Male\",\"Female\",\"Male\",\"Male\",\"Female\",\"Male\",\"Female\",\"Female\",\"Female\",\"Male\",\"Male\",\"Female\",\"Male\",\"Female\",\"Female\",\"Female\",\"Male\",\"Female\",\"Female\",\"Female\",\"Male\",\"Male\",\"Female\",\"Female\",\"Male\",\"Male\",\"Male\",\"Female\",\"Male\",\"Female\",\"Female\",\"Female\",\"Female\",\"Male\",\"Male\",\"Female\",\"Female\",\"Male\",\"Male\",\"Female\",\"Female\",\"Female\",\"Male\",\"Male\",\"Female\",\"Female\",\"Female\",\"Male\",\"Female\",\"Female\",\"Male\",\"Female\",\"Male\",\"Male\",\"Female\",\"Male\",\"Male\",\"Female\",\"Female\",\"Male\",\"Male\",\"Male\",\"Male\",\"Female\",\"Male\",\"Female\",\"Female\",\"Female\",\"Male\",\"Male\",\"Male\",\"Male\",\"Male\",\"Male\",\"Male\",\"Male\",\"Male\",\"Male\",\"Male\",\"Female\",\"Female\",\"Female\",\"Male\",\"Male\",\"Male\",\"Female\",\"Male\",\"Female\",\"Female\",\"Female\",\"Female\",\"Female\",\"Female\",\"Male\",\"Male\",\"Female\",\"Female\",\"Male\",\"Male\",\"Male\",\"Female\",\"Male\",\"Male\",\"Female\",\"Male\",\"Male\",\"Male\",\"Female\",\"Female\",\"Male\",\"Female\",\"Female\",\"Female\",\"Female\",\"Male\",\"Male\",\"Female\",\"Female\",\"Female\",\"Female\",\"Female\",\"Female\",\"Female\",\"Male\",\"Male\",\"Male\",\"Male\",\"Male\",\"Male\",\"Female\",\"Female\",\"Female\",\"Female\",\"Female\",\"Female\",\"Male\",\"Female\",\"Male\",\"Female\",\"Female\",\"Female\",\"Female\",\"Female\",\"Male\",\"Male\",\"Female\",\"Male\",\"Female\",\"Female\",\"Male\",\"Female\",\"Female\",\"Female\",\"Male\",\"Female\",\"Male\",\"Male\",\"Female\",\"Male\",\"Female\",\"Male\",\"Male\",\"Female\",\"Male\",\"Female\",\"Female\",\"Female\",\"Female\",\"Female\",\"Male\",\"Male\",\"Female\",\"Female\",\"Female\",\"Male\",\"Female\",\"Male\",\"Male\",\"Female\",\"Male\",\"Male\",\"Male\",\"Male\",\"Female\",\"Male\",\"Male\",\"Female\",\"Female\",\"Female\",\"Female\",\"Male\",\"Female\",\"Male\",\"Male\",\"Female\",\"Female\",\"Female\",\"Female\",\"Female\",\"Female\",\"Female\",\"Female\",\"Male\",\"Male\",\"Female\",\"Female\",\"Male\",\"Male\",\"Female\",\"Female\",\"Male\",\"Male\",\"Male\",\"Male\",\"Female\",\"Male\",\"Male\",\"Female\",\"Female\",\"Male\",\"Female\",\"Female\",\"Male\",\"Female\",\"Male\",\"Female\",\"Female\",\"Male\",\"Male\",\"Male\",\"Male\",\"Female\",\"Female\",\"Female\",\"Male\",\"Female\",\"Female\",\"Female\",\"Male\",\"Female\",\"Female\",\"Female\",\"Female\",\"Female\",\"Female\",\"Male\",\"Male\",\"Male\",\"Male\",\"Female\",\"Male\",\"Male\",\"Male\",\"Female\",\"Male\",\"Female\",\"Female\",\"Male\",\"Female\",\"Male\",\"Male\",\"Female\",\"Male\",\"Female\",\"Male\",\"Female\",\"Female\",\"Male\",\"Female\",\"Male\",\"Male\",\"Female\",\"Male\",\"Female\",\"Male\",\"Female\",\"Male\",\"Female\",\"Female\",\"Female\",\"Male\",\"Male\",\"Female\",\"Male\",\"Male\",\"Female\",\"Female\",\"Female\",\"Female\",\"Male\",\"Female\",\"Male\",\"Female\",\"Male\",\"Male\",\"Male\",\"Female\",\"Male\",\"Male\",\"Male\",\"Male\",\"Female\",\"Female\",\"Male\",\"Male\",\"Male\",\"Female\",\"Female\",\"Female\",\"Male\",\"Male\",\"Female\",\"Female\",\"Male\",\"Female\",\"Female\",\"Male\",\"Female\",\"Male\",\"Male\",\"Female\",\"Male\",\"Male\",\"Female\",\"Male\",\"Female\",\"Female\",\"Female\",\"Male\",\"Male\",\"Male\",\"Male\",\"Male\",\"Male\",\"Male\",\"Male\",\"Female\",\"Female\",\"Female\",\"Male\",\"Male\",\"Female\",\"Male\",\"Male\",\"Female\",\"Female\",\"Male\",\"Female\",\"Male\",\"Female\",\"Female\",\"Male\",\"Male\",\"Male\",\"Male\",\"Female\",\"Male\",\"Female\",\"Female\",\"Female\",\"Female\",\"Female\",\"Female\",\"Male\",\"Male\",\"Female\",\"Male\",\"Male\",\"Male\",\"Female\",\"Male\",\"Female\",\"Female\",\"Male\",\"Male\",\"Female\",\"Female\",\"Female\",\"Male\",\"Male\",\"Male\",\"Female\",\"Male\",\"Male\",\"Male\",\"Female\",\"Male\",\"Female\",\"Female\",\"Female\",\"Male\",\"Female\",\"Male\",\"Male\",\"Female\",\"Male\",\"Male\",\"Female\",\"Female\",\"Female\",\"Male\",\"Female\",\"Female\",\"Female\",\"Female\",\"Male\",\"Male\",\"Female\",\"Female\",\"Female\",\"Male\",\"Male\",\"Female\",\"Female\",\"Male\",\"Male\",\"Male\",\"Male\",\"Female\",\"Female\",\"Male\",\"Female\",\"Male\",\"Female\",\"Female\",\"Female\",\"Female\",\"Male\",\"Male\",\"Male\",\"Male\",\"Male\",\"Female\",\"Female\",\"Female\",\"Female\",\"Male\",\"Male\",\"Male\",\"Female\",\"Male\",\"Male\",\"Male\",\"Male\",\"Female\",\"Male\",\"Male\",\"Female\",\"Male\",\"Female\",\"Female\",\"Female\",\"Female\",\"Female\",\"Male\",\"Male\",\"Male\",\"Female\",\"Male\",\"Male\",\"Male\",\"Male\",\"Female\",\"Male\",\"Male\",\"Female\",\"Male\",\"Male\",\"Female\",\"Female\",\"Female\",\"Male\",\"Male\",\"Female\",\"Female\",\"Male\",\"Male\",\"Male\",\"Male\",\"Male\",\"Female\",\"Male\",\"Male\",\"Male\",\"Female\",\"Male\",\"Female\",\"Female\",\"Male\",\"Male\",\"Female\",\"Female\",\"Male\",\"Female\",\"Female\",\"Female\",\"Female\",\"Female\",\"Female\",\"Male\",\"Male\",\"Female\",\"Female\",\"Male\",\"Male\",\"Male\",\"Female\",\"Male\",\"Male\",\"Male\",\"Female\",\"Female\",\"Male\",\"Female\",\"Female\",\"Male\",\"Female\",\"Female\",\"Male\",\"Male\",\"Female\",\"Male\",\"Male\",\"Female\",\"Female\",\"Male\",\"Female\",\"Male\",\"Male\",\"Female\",\"Male\",\"Male\",\"Female\",\"Female\",\"Male\",\"Male\",\"Male\",\"Male\",\"Male\",\"Male\",\"Female\",\"Male\",\"Female\",\"Female\",\"Female\",\"Female\",\"Male\",\"Male\",\"Male\",\"Male\",\"Male\",\"Male\",\"Male\",\"Female\",\"Female\",\"Male\",\"Male\",\"Female\",\"Female\",\"Female\",\"Female\",\"Female\",\"Male\",\"Male\",\"Male\",\"Male\",\"Female\",\"Female\",\"Male\",\"Female\",\"Female\",\"Female\",\"Female\",\"Female\",\"Male\",\"Female\",\"Male\",\"Female\",\"Female\",\"Male\",\"Male\",\"Female\",\"Female\",\"Female\",\"Male\",\"Female\",\"Female\",\"Male\",\"Male\",\"Male\",\"Male\",\"Female\",\"Male\",\"Female\",\"Male\",\"Female\",\"Female\",\"Male\",\"Female\",\"Male\",\"Male\",\"Female\",\"Male\",\"Female\",\"Female\",\"Female\",\"Male\",\"Female\",\"Male\",\"Male\",\"Male\",\"Male\",\"Male\",\"Male\",\"Male\",\"Male\",\"Male\",\"Male\",\"Female\",\"Male\",\"Female\",\"Male\",\"Female\",\"Female\",\"Male\",\"Male\",\"Female\",\"Female\",\"Male\",\"Male\",\"Female\",\"Male\",\"Male\",\"Male\",\"Male\",\"Male\",\"Male\",\"Male\",\"Male\",\"Male\",\"Female\",\"Female\",\"Female\",\"Female\",\"Female\",\"Female\",\"Male\",\"Male\",\"Female\",\"Female\",\"Female\",\"Male\",\"Male\",\"Male\",\"Male\",\"Male\",\"Female\",\"Male\",\"Male\",\"Male\",\"Female\",\"Female\",\"Male\",\"Female\",\"Female\",\"Male\",\"Female\",\"Female\",\"Female\",\"Male\",\"Male\",\"Male\",\"Male\",\"Male\",\"Female\",\"Female\",\"Female\",\"Male\",\"Female\",\"Female\",\"Male\",\"Female\",\"Male\",\"Male\",\"Female\",\"Female\",\"Female\",\"Female\",\"Male\",\"Male\",\"Female\",\"Female\",\"Male\",\"Male\",\"Female\",\"Male\",\"Female\",\"Male\",\"Male\",\"Female\",\"Male\",\"Female\",\"Female\",\"Male\",\"Female\",\"Male\",\"Male\",\"Male\",\"Male\",\"Male\",\"Female\",\"Male\",\"Female\",\"Male\",\"Male\",\"Male\",\"Female\",\"Male\",\"Female\",\"Male\",\"Female\",\"Female\",\"Female\",\"Male\",\"Male\",\"Male\",\"Male\",\"Male\",\"Female\",\"Female\",\"Male\",\"Male\",\"Female\",\"Male\",\"Male\",\"Female\",\"Male\",\"Male\",\"Male\",\"Male\",\"Male\",\"Male\",\"Female\",\"Male\",\"Female\",\"Male\",\"Male\",\"Male\",\"Female\",\"Female\",\"Male\",\"Female\",\"Male\",\"Female\",\"Female\",\"Male\",\"Female\",\"Female\",\"Male\",\"Female\",\"Female\",\"Male\",\"Male\",\"Male\",\"Male\",\"Female\",\"Female\",\"Male\",\"Male\",\"Male\",\"Male\",\"Male\",\"Female\",\"Female\",\"Female\",\"Female\",\"Female\",\"Male\",\"Male\",\"Male\",\"Female\",\"Female\",\"Male\",\"Female\",\"Male\",\"Female\",\"Female\",\"Male\",\"Male\",\"Male\",\"Female\",\"Male\",\"Female\",\"Male\",\"Female\",\"Female\",\"Male\",\"Female\",\"Female\",\"Female\",\"Female\",\"Male\",\"Female\",\"Female\",\"Male\",\"Male\",\"Male\",\"Male\",\"Female\",\"Female\",\"Male\",\"Male\",\"Male\",\"Female\",\"Male\",\"Male\",\"Female\",\"Male\",\"Female\",\"Male\",\"Female\",\"Male\",\"Male\",\"Female\",\"Male\",\"Female\",\"Male\",\"Female\",\"Female\",\"Female\",\"Male\",\"Female\",\"Female\",\"Female\",\"Male\",\"Male\",\"Male\",\"Female\",\"Male\",\"Female\",\"Female\",\"Male\",\"Female\",\"Male\",\"Male\",\"Male\",\"Female\",\"Female\",\"Female\",\"Female\",\"Female\",\"Female\",\"Female\",\"Female\",\"Male\",\"Male\",\"Male\",\"Male\",\"Female\",\"Male\",\"Male\",\"Male\",\"Female\",\"Female\",\"Male\",\"Female\",\"Male\",\"Male\",\"Female\",\"Female\",\"Male\",\"Male\",\"Female\",\"Male\",\"Female\",\"Male\",\"Male\",\"Male\",\"Female\",\"Female\",\"Male\",\"Female\",\"Female\",\"Female\",\"Male\",\"Male\",\"Male\",\"Male\",\"Female\",\"Female\",\"Male\",\"Female\",\"Male\",\"Female\",\"Female\",\"Female\",\"Female\",\"Male\",\"Male\",\"Male\",\"Female\",\"Male\",\"Female\",\"Male\",\"Male\",\"Female\",\"Male\",\"Male\",\"Female\",\"Female\",\"Female\",\"Female\",\"Female\",\"Male\",\"Female\",\"Male\",\"Male\",\"Female\",\"Female\",\"Male\",\"Male\",\"Female\",\"Female\",\"Male\",\"Female\",\"Female\",\"Female\",\"Male\",\"Female\",\"Female\",\"Female\",\"Female\",\"Male\",\"Female\",\"Female\",\"Male\",\"Female\",\"Female\",\"Male\",\"Female\",\"Male\",\"Male\",\"Female\",\"Female\",\"Female\",\"Female\",\"Female\",\"Female\",\"Male\",\"Male\",\"Female\",\"Female\",\"Female\",\"Male\",\"Male\",\"Female\",\"Female\",\"Female\",\"Male\",\"Female\",\"Male\",\"Female\",\"Female\",\"Male\",\"Male\",\"Male\",\"Female\",\"Female\",\"Male\",\"Male\",\"Male\",\"Male\",\"Male\",\"Female\",\"Male\",\"Female\",\"Male\",\"Male\",\"Female\",\"Male\",\"Female\",\"Female\",\"Female\",\"Female\",\"Female\",\"Female\",\"Female\",\"Male\",\"Female\",\"Male\",\"Male\",\"Male\",\"Male\",\"Female\",\"Female\",\"Female\",\"Female\",\"Female\",\"Female\",\"Female\",\"Female\",\"Female\",\"Female\",\"Female\",\"Female\",\"Male\",\"Female\",\"Male\",\"Female\",\"Male\",\"Female\",\"Female\",\"Male\",\"Male\",\"Male\",\"Female\",\"Female\",\"Male\",\"Male\",\"Female\",\"Female\",\"Male\",\"Male\",\"Male\",\"Male\",\"Male\",\"Male\",\"Female\",\"Female\",\"Male\",\"Female\",\"Female\",\"Male\",\"Male\",\"Female\",\"Male\",\"Female\",\"Female\",\"Female\",\"Male\",\"Male\",\"Male\",\"Female\",\"Female\",\"Female\",\"Female\",\"Male\",\"Female\",\"Female\",\"Female\",\"Female\",\"Female\",\"Female\",\"Female\",\"Female\",\"Female\",\"Female\",\"Male\",\"Female\",\"Female\",\"Female\",\"Male\",\"Female\",\"Female\",\"Female\",\"Female\",\"Male\",\"Male\",\"Female\",\"Male\",\"Female\",\"Male\",\"Male\",\"Male\",\"Female\",\"Female\",\"Male\",\"Female\",\"Female\",\"Female\",\"Male\",\"Female\",\"Male\",\"Male\",\"Female\",\"Male\",\"Male\",\"Female\",\"Female\",\"Male\",\"Female\",\"Male\",\"Female\",\"Female\",\"Female\",\"Male\",\"Female\",\"Male\",\"Male\",\"Male\",\"Female\",\"Female\",\"Female\",\"Female\",\"Male\",\"Female\",\"Female\",\"Male\",\"Male\",\"Male\",\"Male\",\"Male\",\"Female\",\"Female\",\"Female\",\"Female\",\"Female\",\"Female\",\"Female\",\"Male\",\"Male\",\"Female\",\"Male\",\"Male\",\"Female\",\"Female\",\"Female\",\"Male\",\"Male\",\"Female\",\"Female\",\"Male\",\"Male\",\"Male\",\"Male\",\"Female\",\"Female\",\"Male\",\"Male\",\"Male\",\"Female\",\"Female\",\"Female\",\"Female\",\"Female\",\"Female\",\"Male\",\"Male\",\"Female\",\"Female\",\"Female\",\"Female\",\"Female\",\"Male\",\"Female\",\"Male\",\"Female\",\"Male\",\"Female\",\"Male\",\"Male\",\"Female\",\"Male\",\"Male\",\"Male\",\"Male\",\"Female\",\"Female\",\"Male\",\"Male\",\"Male\",\"Female\",\"Male\",\"Female\",\"Female\",\"Male\",\"Male\",\"Male\",\"Male\",\"Male\",\"Female\",\"Male\",\"Female\",\"Female\",\"Male\",\"Female\",\"Female\",\"Male\",\"Female\",\"Female\",\"Male\",\"Female\",\"Male\",\"Female\",\"Female\",\"Female\",\"Male\",\"Female\",\"Male\",\"Female\",\"Male\",\"Female\",\"Male\",\"Female\",\"Female\",\"Female\",\"Male\",\"Female\",\"Male\",\"Male\",\"Male\",\"Male\",\"Female\",\"Male\",\"Female\",\"Male\",\"Male\",\"Male\",\"Male\",\"Female\",\"Male\",\"Male\",\"Male\",\"Male\",\"Male\",\"Male\",\"Female\",\"Male\",\"Female\",\"Female\",\"Female\",\"Male\",\"Male\",\"Male\",\"Male\",\"Female\",\"Female\",\"Female\",\"Female\",\"Female\",\"Female\",\"Male\",\"Female\",\"Male\",\"Female\",\"Male\",\"Female\",\"Male\",\"Female\",\"Male\",\"Male\",\"Female\",\"Male\",\"Male\",\"Male\",\"Female\",\"Male\",\"Male\",\"Male\",\"Male\",\"Male\",\"Male\",\"Female\",\"Male\",\"Female\",\"Female\",\"Male\",\"Female\",\"Female\",\"Female\",\"Male\",\"Male\",\"Male\",\"Male\",\"Male\",\"Female\",\"Male\",\"Female\",\"Male\",\"Male\",\"Male\",\"Female\",\"Male\",\"Female\",\"Male\",\"Male\",\"Female\",\"Male\",\"Female\",\"Male\",\"Male\",\"Male\",\"Male\",\"Male\",\"Male\",\"Female\",\"Female\",\"Female\",\"Female\",\"Female\",\"Male\",\"Male\",\"Female\",\"Male\",\"Female\",\"Male\",\"Female\",\"Female\",\"Male\",\"Female\",\"Male\",\"Male\",\"Male\",\"Female\",\"Female\",\"Male\",\"Male\",\"Female\",\"Female\",\"Female\",\"Female\",\"Male\",\"Male\",\"Male\",\"Male\",\"Male\",\"Male\",\"Male\",\"Male\",\"Female\",\"Male\",\"Male\",\"Female\",\"Female\",\"Male\",\"Male\",\"Female\",\"Male\",\"Male\",\"Female\",\"Female\",\"Male\",\"Male\",\"Male\",\"Female\",\"Female\",\"Female\",\"Male\",\"Female\",\"Male\",\"Female\",\"Male\",\"Female\"],\"xaxis\":\"x\",\"yaxis\":\"y\",\"type\":\"histogram\"},{\"alignmentgroup\":\"True\",\"bingroup\":\"x\",\"hovertemplate\":\"Is_Churn=0<br>Gender=%{x}<br>count=%{y}<extra></extra>\",\"legendgroup\":\"0\",\"marker\":{\"color\":\"#EF553B\",\"pattern\":{\"shape\":\"\"}},\"name\":\"0\",\"offsetgroup\":\"0\",\"orientation\":\"v\",\"showlegend\":true,\"x\":[\"Female\",\"Female\",\"Female\",\"Male\",\"Female\",\"Female\",\"Male\",\"Male\",\"Male\",\"Male\",\"Female\",\"Female\",\"Female\",\"Female\",\"Male\",\"Male\",\"Male\",\"Male\",\"Female\",\"Female\",\"Female\",\"Male\",\"Female\",\"Female\",\"Female\",\"Female\",\"Male\",\"Male\",\"Female\",\"Female\",\"Male\",\"Female\",\"Male\",\"Female\",\"Female\",\"Male\",\"Female\",\"Male\",\"Female\",\"Female\",\"Female\",\"Female\",\"Male\",\"Male\",\"Male\",\"Female\",\"Male\",\"Male\",\"Male\",\"Male\",\"Female\",\"Female\",\"Female\",\"Male\",\"Male\",\"Male\",\"Female\",\"Female\",\"Male\",\"Female\",\"Male\",\"Female\",\"Female\",\"Male\",\"Female\",\"Male\",\"Male\",\"Female\",\"Female\",\"Male\",\"Male\",\"Male\",\"Male\",\"Female\",\"Female\",\"Female\",\"Male\",\"Male\",\"Male\",\"Female\",\"Female\",\"Male\",\"Female\",\"Male\",\"Female\",\"Male\",\"Male\",\"Male\",\"Female\",\"Male\",\"Male\",\"Male\",\"Male\",\"Female\",\"Male\",\"Male\",\"Male\",\"Female\",\"Female\",\"Male\",\"Female\",\"Male\",\"Female\",\"Male\",\"Male\",\"Male\",\"Male\",\"Male\",\"Female\",\"Male\",\"Male\",\"Female\",\"Female\",\"Male\",\"Female\",\"Male\",\"Female\",\"Male\",\"Female\",\"Female\",\"Male\",\"Female\",\"Female\",\"Male\",\"Male\",\"Female\",\"Male\",\"Male\",\"Female\",\"Male\",\"Female\",\"Male\",\"Male\",\"Male\",\"Male\",\"Male\",\"Female\",\"Male\",\"Female\",\"Female\",\"Female\",\"Male\",\"Female\",\"Female\",\"Male\",\"Male\",\"Female\",\"Male\",\"Male\",\"Female\",\"Female\",\"Male\",\"Male\",\"Male\",\"Female\",\"Male\",\"Female\",\"Male\",\"Female\",\"Male\",\"Female\",\"Female\",\"Male\",\"Female\",\"Male\",\"Female\",\"Female\",\"Male\",\"Male\",\"Female\",\"Male\",\"Male\",\"Female\",\"Male\",\"Female\",\"Female\",\"Female\",\"Female\",\"Female\",\"Male\",\"Male\",\"Female\",\"Female\",\"Male\",\"Female\",\"Male\",\"Female\",\"Female\",\"Male\",\"Male\",\"Female\",\"Female\",\"Male\",\"Male\",\"Male\",\"Male\",\"Female\",\"Female\",\"Female\",\"Female\",\"Male\",\"Male\",\"Female\",\"Female\",\"Male\",\"Male\",\"Female\",\"Female\",\"Male\",\"Male\",\"Female\",\"Male\",\"Male\",\"Male\",\"Female\",\"Male\",\"Female\",\"Female\",\"Female\",\"Female\",\"Male\",\"Male\",\"Female\",\"Male\",\"Female\",\"Male\",\"Male\",\"Male\",\"Male\",\"Female\",\"Male\",\"Male\",\"Male\",\"Female\",\"Male\",\"Male\",\"Female\",\"Male\",\"Male\",\"Female\",\"Male\",\"Male\",\"Female\",\"Male\",\"Male\",\"Female\",\"Male\",\"Female\",\"Male\",\"Male\",\"Female\",\"Male\",\"Male\",\"Male\",\"Male\",\"Male\",\"Female\",\"Male\",\"Male\",\"Female\",\"Female\",\"Male\",\"Male\",\"Male\",\"Female\",\"Female\",\"Male\",\"Female\",\"Male\",\"Male\",\"Female\",\"Male\",\"Male\",\"Male\",\"Female\",\"Female\",\"Female\",\"Male\",\"Male\",\"Female\",\"Male\",\"Female\",\"Male\",\"Female\",\"Male\",\"Female\",\"Male\",\"Male\",\"Female\",\"Male\",\"Female\",\"Female\",\"Male\",\"Female\",\"Female\",\"Male\",\"Female\",\"Female\",\"Female\",\"Female\",\"Male\",\"Male\",\"Male\",\"Female\",\"Female\",\"Male\",\"Male\",\"Female\",\"Female\",\"Female\",\"Male\",\"Female\",\"Male\",\"Female\",\"Female\",\"Female\",\"Female\",\"Female\",\"Female\",\"Female\",\"Male\",\"Female\",\"Female\",\"Female\",\"Female\",\"Female\",\"Male\",\"Female\",\"Male\",\"Female\",\"Female\",\"Female\",\"Male\",\"Female\",\"Female\",\"Female\",\"Female\",\"Female\",\"Male\",\"Male\",\"Female\",\"Male\",\"Male\",\"Male\",\"Male\",\"Female\",\"Female\",\"Male\",\"Female\",\"Female\",\"Male\",\"Male\",\"Male\",\"Female\",\"Male\",\"Male\",\"Female\",\"Male\",\"Male\",\"Male\",\"Male\",\"Female\",\"Male\",\"Male\",\"Male\",\"Male\",\"Male\",\"Male\",\"Female\",\"Female\",\"Female\",\"Male\",\"Male\",\"Female\",\"Female\",\"Female\",\"Female\",\"Female\",\"Male\",\"Female\",\"Female\",\"Male\",\"Male\",\"Male\",\"Male\",\"Male\",\"Male\",\"Male\",\"Male\",\"Female\",\"Female\",\"Female\",\"Male\",\"Male\",\"Female\",\"Male\",\"Female\",\"Male\",\"Male\",\"Male\",\"Female\",\"Female\",\"Male\",\"Female\",\"Female\",\"Male\",\"Female\",\"Female\",\"Female\",\"Male\",\"Female\",\"Female\",\"Female\",\"Female\",\"Male\",\"Female\",\"Male\",\"Female\",\"Male\",\"Male\",\"Female\",\"Male\",\"Female\",\"Male\",\"Male\",\"Male\",\"Male\",\"Male\",\"Female\",\"Male\",\"Female\",\"Female\",\"Male\",\"Female\",\"Female\",\"Male\",\"Female\",\"Female\",\"Female\",\"Female\",\"Female\",\"Female\",\"Female\",\"Male\",\"Female\",\"Female\",\"Female\",\"Female\",\"Female\",\"Male\",\"Male\",\"Male\",\"Male\",\"Male\",\"Female\",\"Male\",\"Female\",\"Male\",\"Male\",\"Female\",\"Male\",\"Female\",\"Male\",\"Male\",\"Female\",\"Male\",\"Female\",\"Male\",\"Male\",\"Male\",\"Male\",\"Female\",\"Male\",\"Male\",\"Male\",\"Male\",\"Female\",\"Female\",\"Female\",\"Male\",\"Female\",\"Male\",\"Male\",\"Male\",\"Male\",\"Male\",\"Male\",\"Male\",\"Female\",\"Male\",\"Female\",\"Male\",\"Male\",\"Male\",\"Female\",\"Female\",\"Male\",\"Male\",\"Male\",\"Male\",\"Female\",\"Female\",\"Male\",\"Male\",\"Female\",\"Male\",\"Male\",\"Female\",\"Female\",\"Male\",\"Male\",\"Female\",\"Male\",\"Female\",\"Female\",\"Female\",\"Male\",\"Male\",\"Female\",\"Female\",\"Male\",\"Male\",\"Male\",\"Male\",\"Male\",\"Male\",\"Male\",\"Female\",\"Female\",\"Male\",\"Male\",\"Male\",\"Female\",\"Male\",\"Male\",\"Female\",\"Male\",\"Male\",\"Female\",\"Female\",\"Female\",\"Male\",\"Male\",\"Male\",\"Female\",\"Male\",\"Female\",\"Male\",\"Male\",\"Male\",\"Male\",\"Male\",\"Male\",\"Female\",\"Male\",\"Female\",\"Male\",\"Male\",\"Female\",\"Female\",\"Male\",\"Male\",\"Male\",\"Male\",\"Male\",\"Male\",\"Male\",\"Male\",\"Female\",\"Male\",\"Male\",\"Female\",\"Female\",\"Male\",\"Female\",\"Male\",\"Male\",\"Male\",\"Male\",\"Male\",\"Female\",\"Female\",\"Female\",\"Female\",\"Male\",\"Female\",\"Female\",\"Female\",\"Female\",\"Female\",\"Female\",\"Female\",\"Male\",\"Female\",\"Female\",\"Male\",\"Male\",\"Female\",\"Female\",\"Female\",\"Female\",\"Male\",\"Male\",\"Male\",\"Male\",\"Female\",\"Male\",\"Male\",\"Female\",\"Male\",\"Male\",\"Female\",\"Female\",\"Male\",\"Male\",\"Female\",\"Female\",\"Male\",\"Female\",\"Female\",\"Male\",\"Male\",\"Male\",\"Male\",\"Male\",\"Female\",\"Male\",\"Female\",\"Female\",\"Female\",\"Male\",\"Male\",\"Male\",\"Male\",\"Male\",\"Male\",\"Female\",\"Female\",\"Male\",\"Male\",\"Female\",\"Male\",\"Male\",\"Male\",\"Female\",\"Male\",\"Male\",\"Male\",\"Female\",\"Male\",\"Male\",\"Female\",\"Female\",\"Female\",\"Female\",\"Female\",\"Male\",\"Male\",\"Female\",\"Male\",\"Female\",\"Female\",\"Female\",\"Male\",\"Female\",\"Male\",\"Male\",\"Female\",\"Male\",\"Male\",\"Female\",\"Female\",\"Female\",\"Male\",\"Male\",\"Female\",\"Female\",\"Female\",\"Female\",\"Male\",\"Male\",\"Male\",\"Male\",\"Male\",\"Female\",\"Male\",\"Female\",\"Female\",\"Male\",\"Male\",\"Male\",\"Male\",\"Female\",\"Male\",\"Female\",\"Male\",\"Male\",\"Male\",\"Female\",\"Female\",\"Male\",\"Male\",\"Female\",\"Female\",\"Female\",\"Female\",\"Female\",\"Female\",\"Male\",\"Male\",\"Female\",\"Female\",\"Female\",\"Male\",\"Male\",\"Male\",\"Male\",\"Male\",\"Female\",\"Female\",\"Male\",\"Male\",\"Female\",\"Male\",\"Male\",\"Female\",\"Male\",\"Male\",\"Female\",\"Female\",\"Male\",\"Female\",\"Female\",\"Female\",\"Female\",\"Male\",\"Female\",\"Female\",\"Female\",\"Female\",\"Male\",\"Male\",\"Male\",\"Female\",\"Female\",\"Male\",\"Male\",\"Male\",\"Female\",\"Male\",\"Male\",\"Male\",\"Male\",\"Female\",\"Male\",\"Male\",\"Female\",\"Male\",\"Male\",\"Male\",\"Male\",\"Male\",\"Female\",\"Male\",\"Male\",\"Female\",\"Female\",\"Female\",\"Male\",\"Male\",\"Female\",\"Female\",\"Female\",\"Male\",\"Male\",\"Male\",\"Male\",\"Female\",\"Male\",\"Male\",\"Female\",\"Female\",\"Female\",\"Male\",\"Male\",\"Female\",\"Male\",\"Female\",\"Female\",\"Female\",\"Male\",\"Female\",\"Female\",\"Female\",\"Male\",\"Female\",\"Male\",\"Male\",\"Male\",\"Female\",\"Female\",\"Male\",\"Female\",\"Female\",\"Female\",\"Male\",\"Male\",\"Male\",\"Male\",\"Female\",\"Male\",\"Male\",\"Female\",\"Female\",\"Female\",\"Male\",\"Male\",\"Female\",\"Male\",\"Female\",\"Male\",\"Female\",\"Female\",\"Female\",\"Male\",\"Female\",\"Male\",\"Female\",\"Female\",\"Male\",\"Female\",\"Female\",\"Female\",\"Male\",\"Male\",\"Male\",\"Female\",\"Male\",\"Female\",\"Male\",\"Male\",\"Female\",\"Male\",\"Male\",\"Male\",\"Male\",\"Female\",\"Male\",\"Male\",\"Male\",\"Female\",\"Female\",\"Female\",\"Female\",\"Male\",\"Female\",\"Male\",\"Male\",\"Male\",\"Male\",\"Female\",\"Female\",\"Female\",\"Male\",\"Female\",\"Female\",\"Male\",\"Male\",\"Male\",\"Female\",\"Female\",\"Male\",\"Female\",\"Female\",\"Female\",\"Male\",\"Male\",\"Male\",\"Male\",\"Female\",\"Male\",\"Male\",\"Female\",\"Male\",\"Female\",\"Female\",\"Female\",\"Female\",\"Male\",\"Female\",\"Male\",\"Female\",\"Male\",\"Male\",\"Female\",\"Male\",\"Male\",\"Male\",\"Male\",\"Male\",\"Female\",\"Female\",\"Male\",\"Male\",\"Female\",\"Male\",\"Male\",\"Male\",\"Male\",\"Female\",\"Male\",\"Female\",\"Male\",\"Male\",\"Female\",\"Male\",\"Male\",\"Male\",\"Male\",\"Female\",\"Female\",\"Female\",\"Male\",\"Male\",\"Male\",\"Male\",\"Female\",\"Male\",\"Male\",\"Male\",\"Male\",\"Male\",\"Male\",\"Female\",\"Male\",\"Female\",\"Male\",\"Female\",\"Female\",\"Male\",\"Male\",\"Female\",\"Female\",\"Male\",\"Female\",\"Male\",\"Female\",\"Female\",\"Female\",\"Male\",\"Male\",\"Female\",\"Male\",\"Male\",\"Female\",\"Female\",\"Female\",\"Male\",\"Female\",\"Male\",\"Male\",\"Female\",\"Male\",\"Male\",\"Female\",\"Female\",\"Male\",\"Male\",\"Male\",\"Female\",\"Male\",\"Male\",\"Female\",\"Male\",\"Female\",\"Female\",\"Female\",\"Female\",\"Male\",\"Male\",\"Male\",\"Female\",\"Male\",\"Female\",\"Male\",\"Male\",\"Male\",\"Female\",\"Male\",\"Male\",\"Female\",\"Female\",\"Female\",\"Female\",\"Female\",\"Male\",\"Female\",\"Female\",\"Female\",\"Male\",\"Male\",\"Female\",\"Female\",\"Male\",\"Female\",\"Male\",\"Male\",\"Female\",\"Female\",\"Male\",\"Male\",\"Male\",\"Female\",\"Female\",\"Male\",\"Male\",\"Female\",\"Male\",\"Female\",\"Female\",\"Female\",\"Female\",\"Male\",\"Male\",\"Female\",\"Male\",\"Female\",\"Male\",\"Male\",\"Female\",\"Male\",\"Male\",\"Female\",\"Female\",\"Male\",\"Female\",\"Female\",\"Male\",\"Male\",\"Male\",\"Female\",\"Male\",\"Female\",\"Male\",\"Female\",\"Male\",\"Male\",\"Male\",\"Female\",\"Male\",\"Male\",\"Female\",\"Male\",\"Male\",\"Male\",\"Male\",\"Male\",\"Male\",\"Female\",\"Male\",\"Male\",\"Male\",\"Male\",\"Male\",\"Female\",\"Male\",\"Female\",\"Male\",\"Female\",\"Female\",\"Female\",\"Male\",\"Female\",\"Male\",\"Male\",\"Female\",\"Male\",\"Female\",\"Female\",\"Female\",\"Male\",\"Male\",\"Female\",\"Female\",\"Male\",\"Male\",\"Female\",\"Female\",\"Female\",\"Male\",\"Male\",\"Male\",\"Male\",\"Female\",\"Male\",\"Female\",\"Male\",\"Male\",\"Female\",\"Male\",\"Female\",\"Male\",\"Female\",\"Female\",\"Male\",\"Male\",\"Female\",\"Male\",\"Male\",\"Male\",\"Male\",\"Female\",\"Female\",\"Male\",\"Female\",\"Male\",\"Male\",\"Female\",\"Male\",\"Female\",\"Male\",\"Female\",\"Male\",\"Male\",\"Female\",\"Male\",\"Female\",\"Male\",\"Male\",\"Male\",\"Female\",\"Male\",\"Male\",\"Female\",\"Female\",\"Male\",\"Male\",\"Female\",\"Male\",\"Female\",\"Female\",\"Male\",\"Male\",\"Male\",\"Female\",\"Female\",\"Female\",\"Female\",\"Male\",\"Male\",\"Male\",\"Male\",\"Male\",\"Female\",\"Male\",\"Male\",\"Female\",\"Male\",\"Male\",\"Female\",\"Female\",\"Female\",\"Male\",\"Male\",\"Male\",\"Male\",\"Female\",\"Male\",\"Male\",\"Male\",\"Male\",\"Male\",\"Male\",\"Female\",\"Male\",\"Female\",\"Male\",\"Male\",\"Male\",\"Male\",\"Male\",\"Male\",\"Male\",\"Male\",\"Female\",\"Male\",\"Male\",\"Male\",\"Male\",\"Female\",\"Male\",\"Female\",\"Male\",\"Male\",\"Female\",\"Male\",\"Male\",\"Female\",\"Male\",\"Male\",\"Male\",\"Male\",\"Female\",\"Female\",\"Female\",\"Male\",\"Female\",\"Male\",\"Male\",\"Male\",\"Male\",\"Female\",\"Female\",\"Male\",\"Male\",\"Female\",\"Male\",\"Male\",\"Female\",\"Male\",\"Male\",\"Female\",\"Male\",\"Male\",\"Male\",\"Male\",\"Female\",\"Female\",\"Male\",\"Female\",\"Male\",\"Male\",\"Male\",\"Female\",\"Female\",\"Female\",\"Female\",\"Female\",\"Male\",\"Male\",\"Male\",\"Female\",\"Male\",\"Female\",\"Female\",\"Male\",\"Female\",\"Female\",\"Female\",\"Male\",\"Female\",\"Male\",\"Male\",\"Female\",\"Male\",\"Male\",\"Female\",\"Female\",\"Female\",\"Female\",\"Male\",\"Female\",\"Male\",\"Female\",\"Male\",\"Male\",\"Male\",\"Male\",\"Male\",\"Male\",\"Male\",\"Male\",\"Female\",\"Male\",\"Male\",\"Male\",\"Female\",\"Male\",\"Male\",\"Male\",\"Male\",\"Male\",\"Female\",\"Male\",\"Female\",\"Male\",\"Female\",\"Male\",\"Male\",\"Male\",\"Male\",\"Female\",\"Male\",\"Female\",\"Male\",\"Female\",\"Male\",\"Male\",\"Female\",\"Female\",\"Male\",\"Female\",\"Female\",\"Female\",\"Female\",\"Male\",\"Female\",\"Male\",\"Male\",\"Male\",\"Female\",\"Male\",\"Female\",\"Female\",\"Female\",\"Male\",\"Male\",\"Female\",\"Male\",\"Female\",\"Female\",\"Male\",\"Male\",\"Male\",\"Female\",\"Female\",\"Female\",\"Female\",\"Male\",\"Male\",\"Male\",\"Female\",\"Male\",\"Male\",\"Female\",\"Female\",\"Male\",\"Male\",\"Male\",\"Male\",\"Male\",\"Male\",\"Male\",\"Male\",\"Male\",\"Male\",\"Male\",\"Female\",\"Female\",\"Male\",\"Male\",\"Male\",\"Male\",\"Male\",\"Male\",\"Female\",\"Male\",\"Male\",\"Female\",\"Male\",\"Male\",\"Male\",\"Female\",\"Female\",\"Male\",\"Male\",\"Female\",\"Male\",\"Male\",\"Male\",\"Male\",\"Female\",\"Male\",\"Male\",\"Female\",\"Female\",\"Male\",\"Female\",\"Male\",\"Male\",\"Female\",\"Male\",\"Male\",\"Female\",\"Female\",\"Male\",\"Male\",\"Male\",\"Female\",\"Male\",\"Female\",\"Male\",\"Female\",\"Male\",\"Male\",\"Female\",\"Male\",\"Male\",\"Male\",\"Female\",\"Male\",\"Female\",\"Male\",\"Female\",\"Male\",\"Female\",\"Female\",\"Female\",\"Male\",\"Male\",\"Female\",\"Female\",\"Male\",\"Male\",\"Male\",\"Male\",\"Female\",\"Female\",\"Male\",\"Female\",\"Male\",\"Male\",\"Male\",\"Male\",\"Male\",\"Male\",\"Female\",\"Male\",\"Female\",\"Male\",\"Male\",\"Male\",\"Female\",\"Male\",\"Female\",\"Female\",\"Male\",\"Male\",\"Male\",\"Male\",\"Female\",\"Female\",\"Male\",\"Female\",\"Female\",\"Female\",\"Female\",\"Female\",\"Male\",\"Female\",\"Female\",\"Female\",\"Female\",\"Male\",\"Male\",\"Male\",\"Male\",\"Male\",\"Male\",\"Male\",\"Male\",\"Female\",\"Male\",\"Female\",\"Male\",\"Male\",\"Male\",\"Male\",\"Female\",\"Female\",\"Male\",\"Male\",\"Female\",\"Female\",\"Male\",\"Male\",\"Male\",\"Female\",\"Male\",\"Female\",\"Female\",\"Male\",\"Female\",\"Female\",\"Female\",\"Female\",\"Female\",\"Male\",\"Male\",\"Male\",\"Female\",\"Female\",\"Male\",\"Male\",\"Male\",\"Male\",\"Female\",\"Male\",\"Male\",\"Male\",\"Male\",\"Female\",\"Male\",\"Male\",\"Male\",\"Female\",\"Female\",\"Male\",\"Female\",\"Female\",\"Female\",\"Male\",\"Male\",\"Female\",\"Female\",\"Female\",\"Female\",\"Male\",\"Female\",\"Male\",\"Male\",\"Female\",\"Female\",\"Male\",\"Male\",\"Female\",\"Male\",\"Male\",\"Male\",\"Male\",\"Female\",\"Male\",\"Male\",\"Male\",\"Female\",\"Female\",\"Male\",\"Male\",\"Male\",\"Male\",\"Female\",\"Female\",\"Female\",\"Male\",\"Male\",\"Female\",\"Male\",\"Male\",\"Female\",\"Male\",\"Male\",\"Male\",\"Male\",\"Male\",\"Female\",\"Female\",\"Male\",\"Male\",\"Female\",\"Male\",\"Male\",\"Female\",\"Male\",\"Female\",\"Female\",\"Male\",\"Female\",\"Male\",\"Female\",\"Female\",\"Male\",\"Female\",\"Male\",\"Female\",\"Male\",\"Female\",\"Male\",\"Female\",\"Male\",\"Female\",\"Male\",\"Male\",\"Male\",\"Female\",\"Male\",\"Male\",\"Female\",\"Male\",\"Male\",\"Male\",\"Female\",\"Female\",\"Male\",\"Female\",\"Female\",\"Female\",\"Male\",\"Female\",\"Female\",\"Female\",\"Female\",\"Female\",\"Male\",\"Male\",\"Female\",\"Female\",\"Female\",\"Male\",\"Male\",\"Female\",\"Male\",\"Male\",\"Male\",\"Female\",\"Male\",\"Male\",\"Female\",\"Male\",\"Female\",\"Male\",\"Female\",\"Female\",\"Male\",\"Female\",\"Male\",\"Female\",\"Male\",\"Female\",\"Female\",\"Male\",\"Male\",\"Male\",\"Male\",\"Male\",\"Female\",\"Male\",\"Male\",\"Female\",\"Male\",\"Male\",\"Female\",\"Male\",\"Male\",\"Male\",\"Male\",\"Male\",\"Male\",\"Male\",\"Female\",\"Female\",\"Male\",\"Female\",\"Female\",\"Female\",\"Male\",\"Female\",\"Female\",\"Female\",\"Female\",\"Male\",\"Male\",\"Female\",\"Female\",\"Male\",\"Male\",\"Female\",\"Male\",\"Female\",\"Female\",\"Female\",\"Male\",\"Male\",\"Male\",\"Male\",\"Male\",\"Male\",\"Male\",\"Male\",\"Male\",\"Female\",\"Male\",\"Female\",\"Female\",\"Female\",\"Male\",\"Female\",\"Male\",\"Male\",\"Male\",\"Male\",\"Male\",\"Male\",\"Female\",\"Male\",\"Female\",\"Male\",\"Male\",\"Male\",\"Male\",\"Male\",\"Male\",\"Female\",\"Female\",\"Male\",\"Male\",\"Female\",\"Female\",\"Male\",\"Female\",\"Male\",\"Male\",\"Male\",\"Female\",\"Female\",\"Female\",\"Female\",\"Female\",\"Male\",\"Female\",\"Male\",\"Female\",\"Male\",\"Male\",\"Female\",\"Male\",\"Female\",\"Female\",\"Male\",\"Male\",\"Female\",\"Female\",\"Male\",\"Male\",\"Male\",\"Female\",\"Male\",\"Female\",\"Male\",\"Male\",\"Male\",\"Male\",\"Male\",\"Female\",\"Female\",\"Male\",\"Male\",\"Male\",\"Male\",\"Male\",\"Female\",\"Female\",\"Female\",\"Male\",\"Female\",\"Female\",\"Male\",\"Male\",\"Male\",\"Female\",\"Male\",\"Female\",\"Female\",\"Female\",\"Female\",\"Male\",\"Male\",\"Female\",\"Male\",\"Female\",\"Male\",\"Male\",\"Female\",\"Male\",\"Female\",\"Male\",\"Male\",\"Male\",\"Female\",\"Female\",\"Male\",\"Male\",\"Male\",\"Male\",\"Male\",\"Male\",\"Male\",\"Male\",\"Male\",\"Female\",\"Female\",\"Male\",\"Female\",\"Male\",\"Female\",\"Male\",\"Male\",\"Male\",\"Male\",\"Female\",\"Female\",\"Male\",\"Female\",\"Male\",\"Male\",\"Female\",\"Male\",\"Female\",\"Female\",\"Male\",\"Male\",\"Female\",\"Male\",\"Male\",\"Female\",\"Female\",\"Female\",\"Female\",\"Female\",\"Female\",\"Male\",\"Male\",\"Male\",\"Male\",\"Male\",\"Male\",\"Male\",\"Male\",\"Female\",\"Female\",\"Male\",\"Male\",\"Male\",\"Female\",\"Male\",\"Male\",\"Female\",\"Female\",\"Male\",\"Male\",\"Male\",\"Male\",\"Male\",\"Male\",\"Male\",\"Male\",\"Female\",\"Male\",\"Female\",\"Male\",\"Female\",\"Male\",\"Male\",\"Male\",\"Male\",\"Female\",\"Female\",\"Male\",\"Male\",\"Female\",\"Female\",\"Male\",\"Male\",\"Female\",\"Female\",\"Male\",\"Female\",\"Female\",\"Male\",\"Male\",\"Male\",\"Female\",\"Female\",\"Female\",\"Female\",\"Male\",\"Female\",\"Male\",\"Male\",\"Male\",\"Male\",\"Male\",\"Female\",\"Female\",\"Male\",\"Male\",\"Male\",\"Female\",\"Female\",\"Male\",\"Male\",\"Female\",\"Female\",\"Female\",\"Male\",\"Male\",\"Female\",\"Male\",\"Male\",\"Female\",\"Male\",\"Male\",\"Male\",\"Female\",\"Male\",\"Male\",\"Male\",\"Male\",\"Male\",\"Female\",\"Male\",\"Male\",\"Female\",\"Female\",\"Female\",\"Male\",\"Male\",\"Female\",\"Female\",\"Female\",\"Male\",\"Female\",\"Female\",\"Female\",\"Female\",\"Male\",\"Male\",\"Female\",\"Male\",\"Male\",\"Male\",\"Male\",\"Female\",\"Male\",\"Female\",\"Male\",\"Male\",\"Male\",\"Female\",\"Male\",\"Male\",\"Male\",\"Male\",\"Male\",\"Male\",\"Male\",\"Male\",\"Male\",\"Female\",\"Male\",\"Male\",\"Male\",\"Female\",\"Male\",\"Female\",\"Female\",\"Male\",\"Female\",\"Female\",\"Male\",\"Female\",\"Male\",\"Male\",\"Female\",\"Female\",\"Male\",\"Male\",\"Female\",\"Male\",\"Male\",\"Female\",\"Female\",\"Male\",\"Male\",\"Female\",\"Female\",\"Male\",\"Male\",\"Male\",\"Male\",\"Male\",\"Male\",\"Female\",\"Male\",\"Male\",\"Male\",\"Male\",\"Female\",\"Male\",\"Female\",\"Male\",\"Male\",\"Female\",\"Male\",\"Male\",\"Female\",\"Female\",\"Male\",\"Female\",\"Female\",\"Female\",\"Male\",\"Female\",\"Male\",\"Male\",\"Female\",\"Female\",\"Female\",\"Female\",\"Female\",\"Male\",\"Male\",\"Male\",\"Male\",\"Male\",\"Female\",\"Male\",\"Female\",\"Male\",\"Male\",\"Female\",\"Male\",\"Female\",\"Female\",\"Male\",\"Female\",\"Male\",\"Female\",\"Male\",\"Female\",\"Male\",\"Male\",\"Male\",\"Male\",\"Male\",\"Male\",\"Male\",\"Male\",\"Female\",\"Male\",\"Female\",\"Male\",\"Male\",\"Female\",\"Male\",\"Female\",\"Female\",\"Male\",\"Female\",\"Male\",\"Male\",\"Male\",\"Male\",\"Female\",\"Female\",\"Female\",\"Female\",\"Male\",\"Male\",\"Female\",\"Female\",\"Female\",\"Female\",\"Female\",\"Male\",\"Female\",\"Female\",\"Male\",\"Female\",\"Female\",\"Male\",\"Female\",\"Female\",\"Female\",\"Male\",\"Male\",\"Male\",\"Female\",\"Male\",\"Male\",\"Female\",\"Male\",\"Male\",\"Male\",\"Female\",\"Male\",\"Male\",\"Male\",\"Male\",\"Male\",\"Female\",\"Male\",\"Female\",\"Female\",\"Female\",\"Male\",\"Female\",\"Female\",\"Female\",\"Male\",\"Female\",\"Female\",\"Female\",\"Male\",\"Male\",\"Female\",\"Female\",\"Female\",\"Female\",\"Male\",\"Male\",\"Female\",\"Male\",\"Female\",\"Female\",\"Male\",\"Female\",\"Male\",\"Male\",\"Female\",\"Male\",\"Male\",\"Male\",\"Male\",\"Female\",\"Female\",\"Male\",\"Female\",\"Male\",\"Female\",\"Male\",\"Female\",\"Male\",\"Male\",\"Male\",\"Male\",\"Male\",\"Female\",\"Male\",\"Female\",\"Male\",\"Male\",\"Female\",\"Male\",\"Female\",\"Male\",\"Female\",\"Female\",\"Male\",\"Female\",\"Male\",\"Female\",\"Male\",\"Male\",\"Male\",\"Female\",\"Male\",\"Male\",\"Female\",\"Male\",\"Female\",\"Male\",\"Male\",\"Female\",\"Female\",\"Male\",\"Female\",\"Male\",\"Female\",\"Male\",\"Female\",\"Female\",\"Female\",\"Male\",\"Female\",\"Male\",\"Male\",\"Male\",\"Female\",\"Male\",\"Male\",\"Male\",\"Female\",\"Male\",\"Male\",\"Male\",\"Male\",\"Male\",\"Female\",\"Female\",\"Female\",\"Male\",\"Female\",\"Female\",\"Male\",\"Male\",\"Female\",\"Male\",\"Female\",\"Male\",\"Female\",\"Male\",\"Male\",\"Male\",\"Male\",\"Male\",\"Female\",\"Male\",\"Female\",\"Male\",\"Female\",\"Male\",\"Male\",\"Male\",\"Male\",\"Male\",\"Male\",\"Female\",\"Female\",\"Female\",\"Male\",\"Female\",\"Female\",\"Male\",\"Male\",\"Female\",\"Female\",\"Male\",\"Male\",\"Male\",\"Male\",\"Male\",\"Female\",\"Male\",\"Male\",\"Female\",\"Female\",\"Female\",\"Male\",\"Female\",\"Female\",\"Male\",\"Male\",\"Male\",\"Male\",\"Male\",\"Female\",\"Male\",\"Male\",\"Male\",\"Male\",\"Female\",\"Male\",\"Female\",\"Male\",\"Male\",\"Male\",\"Male\",\"Female\",\"Female\",\"Male\",\"Male\",\"Male\",\"Female\",\"Female\",\"Female\",\"Male\",\"Male\",\"Male\",\"Male\",\"Male\",\"Female\",\"Male\",\"Female\",\"Male\",\"Female\",\"Male\",\"Male\",\"Male\",\"Male\",\"Male\",\"Male\",\"Female\",\"Male\",\"Female\",\"Male\",\"Male\",\"Male\",\"Female\",\"Male\",\"Female\",\"Male\",\"Female\",\"Male\",\"Male\",\"Male\",\"Male\",\"Male\",\"Female\",\"Female\",\"Male\",\"Male\",\"Male\",\"Female\",\"Male\",\"Female\",\"Male\",\"Male\",\"Female\",\"Male\",\"Male\",\"Female\",\"Female\",\"Male\",\"Female\",\"Male\",\"Male\",\"Male\",\"Male\",\"Male\",\"Male\",\"Female\",\"Female\",\"Male\",\"Female\",\"Male\",\"Female\",\"Female\",\"Female\",\"Male\",\"Male\",\"Male\",\"Female\",\"Male\",\"Female\",\"Female\",\"Female\",\"Male\",\"Female\",\"Male\",\"Male\",\"Male\",\"Male\",\"Female\",\"Female\",\"Female\",\"Female\",\"Female\",\"Female\",\"Female\",\"Male\",\"Female\",\"Male\",\"Male\",\"Male\",\"Male\",\"Male\",\"Female\",\"Male\",\"Female\",\"Male\",\"Male\",\"Female\",\"Female\",\"Female\",\"Male\",\"Female\",\"Female\",\"Male\",\"Male\",\"Male\",\"Female\",\"Male\",\"Male\",\"Male\",\"Female\",\"Female\",\"Male\",\"Male\",\"Female\",\"Male\",\"Male\",\"Male\",\"Male\",\"Female\",\"Male\",\"Male\",\"Male\",\"Female\",\"Female\",\"Female\",\"Female\",\"Female\",\"Female\",\"Female\",\"Female\",\"Female\",\"Male\",\"Male\",\"Female\",\"Female\",\"Male\",\"Female\",\"Male\",\"Female\",\"Male\",\"Male\",\"Female\",\"Male\",\"Female\",\"Female\",\"Male\",\"Male\",\"Male\",\"Male\",\"Female\",\"Male\",\"Female\",\"Female\",\"Female\",\"Male\",\"Male\",\"Female\",\"Male\",\"Male\",\"Male\",\"Male\",\"Male\",\"Female\",\"Male\",\"Male\",\"Male\",\"Male\",\"Female\",\"Female\",\"Female\",\"Male\",\"Male\",\"Female\",\"Male\",\"Male\",\"Male\",\"Male\",\"Male\",\"Male\",\"Male\",\"Female\",\"Female\",\"Female\",\"Male\",\"Male\",\"Male\",\"Female\",\"Male\",\"Male\",\"Male\",\"Male\",\"Female\",\"Female\",\"Female\",\"Female\",\"Female\",\"Male\",\"Male\",\"Male\",\"Female\",\"Female\",\"Male\",\"Female\",\"Female\",\"Male\",\"Male\",\"Female\",\"Female\",\"Male\",\"Female\",\"Male\",\"Female\",\"Male\",\"Female\",\"Male\",\"Female\",\"Female\",\"Male\",\"Male\",\"Male\",\"Male\",\"Male\",\"Female\",\"Male\",\"Male\",\"Male\",\"Male\",\"Male\",\"Female\",\"Male\",\"Male\",\"Male\",\"Female\",\"Male\",\"Female\",\"Male\",\"Female\",\"Female\",\"Male\",\"Female\",\"Female\",\"Female\",\"Female\",\"Male\",\"Male\",\"Female\",\"Male\",\"Male\",\"Male\",\"Female\",\"Female\",\"Male\",\"Male\",\"Female\",\"Female\",\"Male\",\"Female\",\"Female\",\"Male\",\"Male\",\"Female\",\"Male\",\"Male\",\"Male\",\"Male\",\"Male\",\"Female\",\"Male\",\"Male\",\"Male\",\"Male\",\"Male\",\"Male\",\"Male\",\"Female\",\"Male\",\"Female\",\"Female\",\"Female\",\"Female\",\"Male\",\"Female\",\"Female\",\"Female\",\"Male\",\"Female\",\"Male\",\"Male\",\"Female\",\"Female\",\"Male\",\"Female\",\"Male\",\"Female\",\"Female\",\"Male\",\"Female\",\"Female\",\"Female\",\"Female\",\"Male\",\"Female\",\"Male\",\"Male\",\"Female\",\"Male\",\"Female\",\"Female\",\"Male\",\"Male\",\"Female\",\"Female\",\"Male\",\"Male\",\"Female\",\"Female\",\"Male\",\"Male\",\"Male\",\"Male\",\"Male\",\"Male\",\"Female\",\"Male\",\"Male\",\"Female\",\"Female\",\"Female\",\"Male\",\"Female\",\"Female\",\"Male\",\"Female\",\"Male\",\"Female\",\"Male\",\"Female\",\"Male\",\"Female\",\"Female\",\"Male\",\"Female\",\"Male\",\"Male\",\"Female\",\"Male\",\"Female\",\"Female\",\"Male\",\"Female\",\"Female\",\"Female\",\"Male\",\"Male\",\"Female\",\"Female\",\"Female\",\"Male\",\"Female\",\"Female\",\"Female\",\"Female\",\"Male\",\"Female\",\"Male\",\"Female\",\"Female\",\"Female\",\"Male\",\"Male\",\"Male\",\"Female\",\"Female\",\"Male\",\"Female\",\"Male\",\"Male\",\"Female\",\"Female\",\"Female\",\"Male\",\"Male\",\"Male\",\"Male\",\"Male\",\"Female\",\"Male\",\"Male\",\"Male\",\"Male\",\"Female\",\"Male\",\"Male\",\"Male\",\"Male\",\"Female\",\"Male\",\"Male\",\"Female\",\"Male\",\"Male\",\"Male\",\"Male\",\"Female\",\"Female\",\"Male\",\"Male\",\"Male\",\"Female\",\"Male\",\"Female\",\"Male\",\"Female\",\"Male\",\"Female\",\"Male\",\"Female\",\"Male\",\"Female\",\"Male\",\"Male\",\"Male\",\"Male\",\"Male\",\"Male\",\"Male\",\"Female\",\"Male\",\"Male\",\"Male\",\"Female\",\"Male\",\"Male\",\"Female\",\"Female\",\"Female\",\"Male\",\"Male\",\"Female\",\"Male\",\"Female\",\"Male\",\"Male\",\"Male\",\"Female\",\"Female\",\"Female\",\"Male\",\"Male\",\"Male\",\"Female\",\"Female\",\"Female\",\"Male\",\"Female\",\"Male\",\"Male\",\"Female\",\"Female\",\"Male\",\"Female\",\"Male\",\"Female\",\"Male\",\"Female\",\"Male\",\"Female\",\"Male\",\"Male\",\"Female\",\"Female\",\"Female\",\"Female\",\"Male\",\"Male\",\"Male\",\"Male\",\"Male\",\"Male\",\"Female\",\"Female\",\"Male\",\"Male\",\"Female\",\"Male\",\"Male\",\"Male\",\"Female\",\"Female\",\"Male\",\"Female\",\"Female\",\"Female\",\"Male\",\"Female\",\"Female\",\"Female\",\"Male\",\"Male\",\"Female\",\"Female\",\"Female\",\"Male\",\"Male\",\"Female\",\"Male\",\"Male\",\"Male\",\"Male\",\"Female\",\"Male\",\"Male\",\"Male\",\"Female\",\"Female\",\"Male\",\"Male\",\"Male\",\"Male\",\"Male\",\"Female\",\"Male\",\"Male\",\"Female\",\"Male\",\"Female\",\"Male\",\"Male\",\"Male\",\"Female\",\"Female\",\"Female\",\"Male\",\"Female\",\"Female\",\"Female\",\"Female\",\"Female\",\"Male\",\"Female\",\"Male\",\"Female\",\"Male\",\"Female\",\"Female\",\"Female\",\"Male\",\"Female\",\"Male\",\"Male\",\"Female\",\"Male\",\"Male\",\"Male\",\"Male\",\"Male\",\"Male\",\"Male\",\"Male\",\"Female\",\"Female\",\"Male\",\"Female\",\"Female\",\"Female\",\"Male\",\"Female\",\"Male\",\"Male\",\"Female\",\"Male\",\"Female\",\"Male\",\"Male\",\"Male\",\"Male\",\"Male\",\"Male\",\"Male\",\"Female\",\"Female\",\"Male\",\"Female\",\"Female\",\"Male\",\"Female\",\"Female\",\"Male\",\"Female\",\"Male\",\"Female\",\"Female\",\"Male\",\"Female\",\"Female\",\"Male\",\"Male\",\"Female\",\"Female\",\"Female\",\"Male\",\"Male\",\"Male\",\"Male\",\"Female\",\"Male\",\"Male\",\"Female\",\"Female\",\"Female\",\"Female\",\"Female\",\"Female\",\"Female\",\"Female\",\"Female\",\"Female\",\"Male\",\"Male\",\"Female\",\"Female\",\"Female\",\"Male\",\"Male\",\"Female\",\"Male\",\"Female\",\"Female\",\"Female\",\"Male\",\"Female\",\"Male\",\"Male\",\"Male\",\"Male\",\"Female\",\"Male\",\"Male\",\"Female\",\"Male\",\"Female\",\"Female\",\"Female\",\"Male\",\"Female\",\"Female\",\"Male\",\"Male\",\"Female\",\"Male\",\"Female\",\"Male\",\"Female\",\"Female\",\"Female\",\"Male\",\"Male\",\"Male\",\"Female\",\"Male\",\"Male\",\"Male\",\"Male\",\"Male\",\"Male\",\"Female\",\"Male\",\"Male\",\"Male\",\"Female\",\"Male\",\"Female\",\"Male\",\"Female\",\"Male\",\"Male\",\"Male\",\"Male\",\"Male\",\"Male\",\"Male\",\"Male\",\"Female\",\"Female\",\"Male\",\"Female\",\"Female\",\"Female\",\"Male\",\"Male\",\"Female\",\"Male\",\"Female\",\"Male\",\"Female\",\"Female\",\"Male\",\"Female\",\"Male\",\"Male\",\"Male\",\"Female\",\"Female\",\"Female\",\"Female\",\"Male\",\"Female\",\"Female\",\"Female\",\"Male\",\"Male\",\"Female\",\"Male\",\"Female\",\"Female\",\"Female\",\"Male\",\"Female\",\"Female\",\"Male\",\"Female\",\"Female\",\"Male\",\"Male\",\"Male\",\"Male\",\"Female\",\"Male\",\"Female\",\"Male\",\"Female\",\"Female\",\"Female\",\"Female\",\"Male\",\"Male\",\"Female\",\"Male\",\"Male\",\"Female\",\"Female\",\"Female\",\"Male\",\"Female\",\"Male\",\"Female\",\"Male\",\"Female\",\"Female\",\"Female\",\"Male\",\"Male\",\"Male\",\"Male\",\"Male\",\"Male\",\"Female\",\"Female\",\"Female\",\"Male\",\"Male\",\"Female\",\"Male\",\"Male\",\"Male\",\"Male\",\"Female\",\"Female\",\"Male\",\"Female\",\"Male\",\"Male\",\"Male\",\"Male\",\"Male\",\"Male\",\"Female\",\"Female\",\"Female\",\"Male\",\"Female\",\"Female\",\"Female\",\"Female\",\"Male\",\"Male\",\"Female\",\"Female\",\"Female\",\"Female\",\"Female\",\"Female\",\"Female\",\"Female\",\"Male\",\"Female\",\"Female\",\"Female\",\"Male\",\"Male\",\"Male\",\"Male\",\"Female\",\"Male\",\"Male\",\"Male\",\"Male\",\"Female\",\"Male\",\"Female\",\"Male\",\"Female\",\"Male\",\"Male\",\"Female\",\"Female\",\"Male\",\"Female\",\"Male\",\"Female\",\"Female\",\"Female\",\"Male\",\"Female\",\"Male\",\"Female\",\"Male\",\"Male\",\"Male\",\"Male\",\"Female\",\"Female\",\"Female\",\"Female\",\"Female\",\"Male\",\"Female\",\"Male\",\"Male\",\"Male\",\"Male\",\"Female\",\"Female\",\"Female\",\"Male\",\"Male\",\"Male\",\"Female\",\"Male\",\"Male\",\"Male\",\"Male\",\"Male\",\"Female\",\"Male\",\"Male\",\"Male\",\"Male\",\"Female\",\"Male\",\"Female\",\"Female\",\"Male\",\"Male\",\"Male\",\"Male\",\"Female\",\"Male\",\"Female\",\"Female\",\"Male\",\"Male\",\"Male\",\"Male\",\"Male\",\"Female\",\"Male\",\"Female\",\"Male\",\"Female\",\"Female\",\"Male\",\"Female\",\"Female\",\"Male\",\"Male\",\"Male\",\"Male\",\"Male\",\"Female\",\"Female\",\"Female\",\"Male\",\"Male\",\"Female\",\"Male\",\"Male\",\"Female\",\"Female\",\"Male\",\"Male\",\"Male\",\"Female\",\"Male\",\"Male\",\"Female\",\"Female\",\"Male\",\"Male\",\"Female\",\"Male\",\"Male\",\"Male\",\"Female\",\"Female\",\"Male\",\"Male\",\"Male\",\"Female\",\"Male\",\"Female\",\"Female\",\"Female\",\"Male\",\"Female\",\"Male\",\"Female\",\"Male\",\"Male\",\"Female\",\"Female\",\"Male\",\"Female\",\"Male\",\"Female\",\"Male\",\"Male\",\"Male\",\"Female\",\"Female\",\"Male\",\"Female\",\"Male\",\"Male\",\"Female\",\"Female\",\"Male\",\"Male\",\"Male\",\"Female\",\"Male\",\"Male\",\"Female\",\"Female\",\"Male\",\"Female\",\"Female\",\"Female\",\"Female\",\"Male\",\"Female\",\"Female\",\"Male\",\"Female\",\"Female\",\"Male\",\"Male\",\"Female\",\"Male\",\"Female\",\"Male\",\"Male\",\"Female\",\"Female\",\"Female\",\"Female\",\"Female\",\"Female\",\"Male\",\"Male\",\"Female\",\"Male\",\"Female\",\"Male\",\"Male\",\"Female\",\"Female\",\"Male\",\"Female\",\"Female\",\"Male\",\"Female\",\"Female\",\"Female\",\"Female\",\"Female\",\"Male\",\"Male\",\"Male\",\"Female\",\"Female\",\"Male\",\"Male\",\"Male\",\"Female\",\"Male\",\"Female\",\"Male\",\"Female\",\"Male\",\"Female\",\"Male\",\"Female\",\"Male\",\"Male\",\"Female\",\"Male\",\"Male\",\"Female\",\"Male\",\"Female\",\"Male\",\"Male\",\"Male\",\"Female\",\"Female\",\"Male\",\"Female\",\"Male\",\"Female\",\"Male\",\"Male\",\"Male\",\"Male\",\"Female\",\"Male\",\"Female\",\"Male\",\"Male\",\"Female\",\"Male\",\"Male\",\"Male\",\"Female\",\"Male\",\"Female\",\"Male\",\"Female\",\"Male\",\"Male\",\"Female\",\"Male\",\"Male\",\"Female\",\"Male\",\"Female\",\"Male\",\"Male\",\"Female\",\"Male\",\"Female\",\"Female\",\"Male\",\"Male\",\"Female\",\"Female\",\"Female\",\"Male\",\"Male\",\"Male\",\"Male\",\"Female\",\"Female\",\"Male\",\"Male\",\"Female\",\"Female\",\"Male\",\"Female\",\"Female\",\"Female\",\"Female\",\"Female\",\"Male\",\"Male\",\"Male\",\"Female\",\"Male\",\"Male\",\"Male\",\"Female\",\"Male\",\"Male\",\"Male\",\"Male\",\"Male\",\"Female\",\"Female\",\"Female\",\"Male\",\"Male\",\"Female\",\"Male\",\"Male\",\"Female\",\"Male\",\"Female\",\"Female\",\"Female\",\"Female\",\"Female\",\"Female\",\"Female\",\"Female\",\"Male\",\"Female\",\"Male\",\"Female\",\"Male\",\"Male\",\"Female\",\"Female\",\"Female\",\"Female\",\"Female\",\"Female\",\"Male\",\"Male\",\"Male\",\"Male\",\"Male\",\"Female\",\"Female\",\"Male\",\"Female\",\"Female\",\"Male\",\"Male\",\"Female\",\"Female\",\"Female\",\"Male\",\"Male\",\"Female\",\"Male\",\"Female\",\"Female\",\"Male\",\"Male\",\"Female\",\"Female\",\"Female\",\"Female\",\"Female\",\"Male\",\"Female\",\"Male\",\"Male\",\"Male\",\"Male\",\"Female\",\"Male\",\"Female\",\"Female\",\"Female\",\"Male\",\"Male\",\"Female\",\"Female\",\"Male\",\"Female\",\"Female\",\"Male\",\"Female\",\"Male\",\"Male\",\"Male\",\"Female\",\"Male\",\"Female\",\"Male\",\"Male\",\"Male\",\"Female\",\"Female\",\"Female\",\"Female\",\"Female\",\"Male\",\"Male\",\"Male\",\"Male\",\"Male\",\"Female\",\"Female\",\"Male\",\"Male\",\"Male\",\"Female\",\"Male\",\"Female\",\"Female\",\"Female\",\"Male\",\"Male\",\"Female\",\"Male\",\"Female\",\"Male\",\"Female\",\"Female\",\"Male\",\"Female\",\"Female\",\"Male\",\"Female\",\"Male\",\"Female\",\"Female\",\"Male\",\"Male\",\"Male\",\"Male\",\"Male\",\"Female\",\"Male\",\"Female\",\"Male\",\"Female\",\"Male\",\"Male\",\"Male\",\"Female\",\"Female\",\"Male\",\"Male\",\"Male\",\"Male\",\"Male\",\"Male\",\"Male\",\"Female\",\"Female\",\"Male\",\"Female\",\"Male\",\"Female\",\"Male\",\"Male\",\"Male\",\"Female\",\"Male\",\"Female\",\"Female\",\"Female\",\"Female\",\"Male\",\"Male\",\"Female\",\"Female\",\"Female\",\"Male\",\"Male\",\"Female\",\"Female\",\"Male\",\"Male\",\"Male\",\"Male\",\"Male\",\"Female\",\"Male\",\"Female\",\"Male\",\"Male\",\"Female\",\"Male\",\"Female\",\"Male\",\"Male\",\"Male\",\"Male\",\"Female\",\"Male\",\"Male\",\"Male\",\"Female\",\"Male\",\"Male\",\"Female\",\"Female\",\"Female\",\"Female\",\"Male\",\"Female\",\"Female\",\"Female\",\"Male\",\"Male\",\"Male\",\"Male\",\"Male\",\"Female\",\"Female\",\"Male\",\"Male\",\"Female\",\"Male\",\"Male\",\"Female\",\"Male\",\"Female\",\"Male\",\"Male\",\"Female\",\"Female\",\"Female\",\"Male\",\"Male\",\"Female\",\"Male\",\"Male\",\"Female\",\"Male\",\"Male\",\"Female\",\"Male\",\"Male\",\"Male\",\"Female\",\"Male\",\"Male\",\"Female\",\"Male\",\"Female\",\"Female\",\"Male\",\"Female\",\"Male\",\"Female\",\"Male\",\"Male\",\"Male\",\"Male\",\"Female\",\"Female\",\"Male\",\"Male\",\"Female\",\"Female\",\"Male\",\"Male\",\"Male\",\"Male\",\"Male\",\"Male\",\"Male\",\"Male\",\"Male\",\"Male\",\"Male\",\"Male\",\"Male\",\"Female\",\"Male\",\"Male\",\"Male\",\"Female\",\"Male\",\"Male\",\"Female\",\"Female\",\"Female\",\"Female\",\"Female\",\"Male\",\"Female\",\"Male\",\"Female\",\"Female\",\"Female\",\"Male\",\"Female\",\"Female\",\"Female\",\"Female\",\"Female\",\"Male\",\"Male\",\"Female\",\"Female\",\"Female\",\"Male\",\"Female\",\"Female\",\"Female\",\"Male\",\"Male\",\"Male\",\"Male\",\"Male\",\"Male\",\"Female\",\"Female\",\"Female\",\"Female\",\"Female\",\"Female\",\"Male\",\"Male\",\"Female\",\"Male\",\"Male\",\"Male\",\"Female\",\"Male\",\"Female\",\"Male\",\"Female\",\"Male\",\"Female\",\"Female\",\"Female\",\"Female\",\"Male\",\"Male\",\"Female\",\"Female\",\"Female\",\"Male\",\"Female\",\"Male\",\"Male\",\"Female\",\"Male\",\"Female\",\"Female\",\"Male\",\"Male\",\"Female\",\"Female\",\"Female\",\"Male\",\"Male\",\"Female\",\"Female\",\"Male\",\"Male\",\"Female\",\"Male\",\"Male\",\"Male\",\"Female\",\"Male\",\"Female\",\"Female\",\"Male\",\"Male\",\"Female\",\"Female\",\"Male\",\"Male\",\"Female\",\"Female\",\"Female\",\"Male\",\"Male\",\"Male\",\"Female\",\"Male\",\"Female\",\"Male\",\"Male\",\"Male\",\"Female\",\"Male\",\"Female\",\"Male\",\"Female\",\"Female\",\"Male\",\"Male\",\"Male\",\"Male\",\"Female\",\"Female\",\"Female\",\"Female\",\"Male\",\"Male\",\"Male\",\"Male\",\"Female\",\"Male\",\"Male\",\"Male\",\"Male\",\"Male\",\"Male\",\"Male\",\"Male\",\"Female\",\"Female\",\"Female\",\"Female\",\"Female\",\"Female\",\"Male\",\"Male\",\"Female\",\"Female\",\"Male\",\"Male\",\"Female\",\"Female\",\"Female\",\"Female\",\"Female\",\"Female\",\"Male\",\"Female\",\"Male\",\"Male\",\"Male\",\"Male\",\"Male\",\"Male\",\"Female\",\"Female\",\"Male\",\"Male\",\"Male\",\"Male\",\"Male\",\"Female\",\"Male\",\"Female\",\"Male\",\"Male\",\"Male\",\"Female\",\"Male\",\"Male\",\"Male\",\"Male\",\"Male\",\"Male\",\"Male\",\"Female\",\"Male\",\"Male\",\"Male\",\"Male\",\"Male\",\"Female\",\"Female\",\"Male\",\"Male\",\"Female\",\"Male\",\"Female\",\"Female\",\"Male\",\"Female\",\"Female\",\"Male\",\"Female\",\"Male\",\"Male\",\"Female\",\"Female\",\"Male\",\"Male\",\"Male\",\"Male\",\"Male\",\"Female\",\"Male\",\"Male\",\"Male\",\"Female\",\"Male\",\"Male\",\"Male\",\"Male\",\"Male\",\"Female\",\"Male\",\"Male\",\"Female\",\"Female\",\"Female\",\"Male\",\"Female\",\"Male\",\"Female\",\"Male\",\"Female\",\"Female\",\"Male\",\"Female\",\"Female\",\"Male\",\"Male\",\"Female\",\"Female\",\"Male\",\"Male\",\"Male\",\"Female\",\"Male\",\"Male\",\"Male\",\"Female\",\"Female\",\"Male\",\"Male\",\"Male\",\"Male\",\"Female\",\"Male\",\"Male\",\"Male\",\"Male\",\"Male\",\"Male\",\"Female\",\"Male\",\"Male\",\"Male\",\"Male\",\"Male\",\"Male\",\"Male\",\"Male\",\"Male\",\"Female\",\"Male\",\"Female\",\"Male\",\"Male\",\"Female\",\"Female\",\"Male\",\"Female\",\"Female\",\"Male\",\"Male\",\"Male\",\"Male\",\"Female\",\"Male\",\"Female\",\"Female\",\"Female\",\"Female\",\"Female\",\"Male\",\"Male\",\"Male\",\"Male\",\"Male\",\"Female\",\"Male\",\"Male\",\"Male\",\"Female\",\"Female\",\"Male\",\"Female\",\"Male\",\"Female\",\"Male\",\"Male\",\"Female\",\"Male\",\"Female\",\"Female\",\"Male\",\"Male\",\"Male\",\"Female\",\"Male\",\"Female\",\"Male\",\"Female\",\"Male\",\"Female\",\"Male\",\"Male\",\"Female\",\"Male\",\"Female\",\"Male\",\"Female\",\"Male\",\"Female\",\"Male\",\"Female\",\"Male\",\"Male\",\"Female\",\"Female\",\"Male\",\"Male\",\"Female\",\"Male\",\"Male\",\"Male\",\"Male\",\"Male\",\"Male\",\"Male\",\"Female\",\"Female\",\"Female\",\"Female\",\"Female\",\"Male\",\"Male\",\"Female\",\"Female\",\"Female\",\"Male\",\"Male\",\"Female\",\"Male\",\"Female\",\"Female\",\"Female\",\"Male\",\"Male\",\"Male\",\"Female\",\"Male\",\"Female\",\"Male\",\"Male\",\"Female\",\"Male\",\"Female\",\"Female\",\"Male\",\"Male\",\"Male\",\"Male\",\"Male\",\"Male\",\"Male\",\"Female\",\"Female\",\"Female\",\"Male\",\"Female\",\"Female\",\"Male\",\"Male\",\"Female\",\"Male\",\"Male\",\"Male\",\"Female\",\"Female\",\"Male\",\"Male\",\"Female\",\"Male\",\"Male\",\"Male\",\"Female\",\"Male\",\"Female\",\"Male\",\"Male\",\"Female\",\"Male\",\"Male\",\"Female\",\"Male\",\"Female\",\"Male\",\"Female\",\"Male\",\"Male\",\"Female\",\"Female\",\"Female\",\"Female\",\"Female\",\"Male\",\"Female\",\"Male\",\"Female\",\"Female\",\"Male\",\"Male\",\"Female\",\"Female\",\"Male\",\"Male\",\"Female\",\"Male\",\"Male\",\"Male\",\"Male\",\"Male\",\"Male\",\"Male\",\"Male\",\"Female\",\"Female\",\"Male\",\"Female\",\"Female\",\"Male\",\"Male\",\"Female\",\"Female\",\"Male\",\"Female\",\"Male\",\"Male\",\"Female\",\"Male\",\"Male\",\"Male\",\"Female\",\"Male\",\"Male\",\"Male\",\"Female\",\"Male\",\"Female\",\"Male\",\"Female\",\"Male\",\"Female\",\"Male\",\"Male\",\"Male\",\"Female\",\"Female\",\"Female\",\"Female\",\"Male\",\"Male\",\"Female\",\"Male\",\"Male\",\"Male\",\"Male\",\"Male\",\"Male\",\"Male\",\"Female\",\"Male\",\"Male\",\"Female\",\"Male\",\"Male\",\"Female\",\"Female\",\"Male\",\"Female\",\"Female\",\"Female\",\"Female\",\"Female\",\"Female\",\"Female\",\"Female\",\"Male\",\"Male\",\"Male\",\"Male\",\"Male\",\"Female\",\"Female\",\"Male\",\"Female\",\"Male\",\"Female\",\"Male\",\"Male\",\"Male\",\"Male\",\"Male\",\"Male\",\"Female\",\"Male\",\"Male\",\"Female\",\"Male\",\"Female\",\"Male\",\"Male\",\"Female\",\"Male\",\"Male\",\"Female\",\"Male\",\"Female\",\"Female\",\"Female\",\"Female\",\"Female\",\"Female\",\"Male\",\"Male\",\"Female\",\"Male\",\"Female\",\"Male\",\"Female\",\"Male\",\"Male\",\"Female\",\"Male\",\"Female\",\"Male\",\"Female\",\"Female\",\"Female\",\"Male\",\"Female\",\"Male\",\"Male\",\"Male\",\"Male\",\"Male\",\"Male\",\"Male\",\"Male\",\"Male\",\"Male\",\"Male\",\"Male\",\"Male\",\"Female\",\"Female\",\"Female\",\"Female\",\"Female\",\"Female\",\"Female\",\"Male\",\"Male\",\"Female\",\"Male\",\"Male\",\"Male\",\"Female\",\"Male\",\"Female\",\"Male\",\"Male\",\"Male\",\"Female\",\"Male\",\"Female\",\"Female\",\"Female\",\"Male\",\"Female\",\"Female\",\"Male\",\"Male\",\"Female\",\"Male\",\"Male\",\"Female\",\"Female\",\"Male\",\"Female\",\"Male\",\"Male\",\"Male\",\"Male\",\"Female\",\"Female\",\"Male\",\"Male\",\"Female\",\"Male\",\"Female\",\"Female\",\"Female\",\"Male\",\"Female\",\"Female\",\"Female\",\"Female\",\"Male\",\"Male\",\"Male\",\"Male\",\"Female\",\"Female\",\"Female\",\"Female\",\"Female\",\"Female\",\"Female\",\"Male\",\"Male\",\"Female\",\"Male\",\"Male\",\"Male\",\"Male\",\"Female\",\"Female\",\"Male\",\"Female\",\"Female\",\"Female\",\"Female\",\"Male\",\"Female\",\"Male\",\"Male\",\"Female\",\"Female\",\"Male\",\"Female\",\"Female\",\"Female\",\"Male\",\"Female\",\"Male\",\"Male\",\"Male\",\"Male\",\"Male\",\"Female\",\"Male\",\"Male\",\"Male\",\"Female\",\"Female\",\"Female\",\"Female\",\"Female\",\"Male\",\"Male\",\"Female\",\"Male\",\"Female\",\"Male\",\"Male\",\"Female\",\"Male\",\"Female\",\"Male\",\"Female\",\"Female\",\"Female\",\"Female\",\"Female\",\"Male\",\"Male\",\"Male\",\"Female\",\"Male\",\"Male\",\"Male\",\"Male\",\"Female\",\"Male\",\"Male\",\"Female\",\"Female\",\"Female\",\"Female\",\"Female\",\"Male\",\"Female\",\"Male\",\"Female\",\"Male\",\"Female\",\"Female\",\"Male\",\"Male\",\"Female\",\"Male\",\"Male\",\"Female\",\"Female\",\"Male\",\"Male\",\"Male\",\"Male\",\"Male\",\"Female\",\"Female\",\"Male\",\"Female\",\"Female\",\"Male\",\"Female\",\"Male\",\"Female\",\"Male\",\"Male\",\"Female\",\"Female\",\"Female\",\"Female\",\"Female\",\"Male\",\"Male\",\"Female\",\"Male\",\"Male\",\"Male\",\"Male\",\"Male\",\"Male\",\"Female\",\"Male\",\"Female\",\"Male\",\"Female\",\"Female\",\"Male\",\"Male\",\"Male\",\"Male\",\"Female\",\"Male\",\"Male\",\"Male\",\"Male\",\"Female\",\"Male\",\"Female\",\"Female\",\"Male\",\"Male\",\"Female\",\"Male\",\"Male\",\"Male\",\"Male\",\"Female\",\"Female\",\"Female\",\"Male\",\"Male\",\"Male\",\"Female\",\"Male\",\"Male\",\"Male\",\"Female\",\"Male\",\"Male\",\"Female\",\"Male\",\"Male\",\"Male\",\"Male\",\"Male\",\"Female\",\"Female\",\"Male\",\"Female\",\"Male\",\"Male\",\"Male\",\"Male\",\"Female\",\"Male\",\"Female\",\"Female\",\"Female\",\"Male\",\"Male\",\"Female\",\"Female\",\"Female\",\"Female\",\"Male\",\"Female\",\"Female\",\"Male\",\"Female\",\"Male\",\"Male\",\"Male\",\"Female\",\"Female\",\"Female\",\"Male\",\"Male\",\"Male\",\"Male\",\"Male\",\"Female\",\"Male\",\"Male\",\"Male\",\"Male\",\"Male\",\"Male\",\"Male\",\"Female\",\"Male\",\"Male\",\"Male\",\"Male\",\"Female\",\"Female\",\"Female\",\"Male\",\"Female\",\"Male\",\"Male\",\"Male\",\"Male\",\"Male\",\"Male\",\"Female\",\"Female\",\"Male\",\"Male\",\"Male\",\"Female\",\"Female\",\"Male\",\"Female\",\"Male\",\"Female\",\"Female\",\"Female\",\"Male\",\"Male\",\"Female\",\"Male\",\"Female\",\"Male\",\"Female\",\"Female\",\"Female\",\"Female\",\"Male\",\"Male\",\"Female\",\"Male\",\"Female\",\"Male\",\"Female\",\"Female\",\"Male\",\"Female\",\"Male\",\"Female\",\"Male\",\"Female\",\"Male\",\"Female\",\"Male\",\"Male\",\"Male\",\"Male\",\"Male\",\"Female\",\"Female\",\"Female\",\"Male\",\"Female\",\"Male\",\"Male\",\"Female\",\"Female\",\"Male\",\"Male\",\"Male\",\"Female\",\"Female\",\"Male\",\"Male\",\"Male\",\"Female\",\"Male\",\"Female\",\"Male\",\"Female\",\"Male\",\"Male\",\"Female\",\"Female\",\"Female\",\"Female\",\"Male\",\"Female\",\"Male\",\"Female\",\"Male\",\"Male\",\"Female\",\"Female\",\"Female\",\"Female\",\"Female\",\"Male\",\"Male\",\"Male\",\"Male\",\"Male\",\"Male\",\"Female\",\"Female\",\"Male\",\"Male\",\"Male\",\"Male\",\"Female\",\"Male\",\"Female\",\"Male\",\"Male\",\"Male\",\"Male\",\"Female\",\"Male\",\"Male\",\"Male\",\"Male\",\"Male\",\"Male\",\"Female\",\"Female\",\"Female\",\"Female\",\"Female\",\"Male\",\"Female\",\"Male\",\"Female\",\"Female\",\"Male\",\"Female\",\"Male\",\"Male\",\"Male\",\"Female\",\"Male\",\"Male\",\"Male\",\"Female\",\"Male\",\"Male\",\"Male\",\"Female\",\"Male\",\"Male\",\"Male\",\"Male\",\"Female\",\"Male\",\"Male\",\"Male\",\"Male\",\"Male\",\"Male\",\"Male\",\"Female\",\"Male\",\"Male\",\"Female\",\"Male\",\"Male\",\"Male\",\"Male\",\"Male\",\"Male\",\"Male\",\"Male\",\"Female\",\"Male\",\"Male\",\"Male\",\"Female\",\"Male\",\"Female\",\"Male\",\"Female\",\"Male\",\"Male\",\"Male\",\"Female\",\"Male\",\"Female\",\"Male\",\"Female\",\"Male\",\"Male\",\"Male\",\"Female\",\"Female\",\"Female\",\"Female\",\"Male\",\"Male\",\"Male\",\"Male\",\"Female\",\"Female\",\"Male\",\"Male\",\"Female\",\"Female\",\"Female\",\"Male\",\"Female\",\"Male\",\"Male\",\"Female\",\"Male\",\"Male\",\"Female\",\"Female\",\"Male\",\"Male\",\"Male\",\"Male\",\"Female\",\"Male\",\"Female\",\"Male\",\"Male\",\"Female\",\"Male\",\"Female\",\"Male\",\"Female\",\"Female\",\"Male\",\"Male\",\"Female\",\"Female\",\"Male\",\"Male\",\"Male\",\"Female\",\"Male\",\"Male\",\"Female\",\"Male\",\"Male\",\"Male\",\"Female\",\"Male\",\"Female\",\"Female\",\"Male\",\"Male\",\"Male\",\"Male\",\"Female\",\"Female\",\"Male\",\"Male\",\"Male\",\"Male\",\"Male\",\"Male\",\"Male\",\"Male\",\"Female\",\"Male\",\"Male\",\"Female\",\"Female\",\"Female\",\"Male\",\"Male\",\"Male\",\"Male\",\"Male\",\"Female\",\"Male\",\"Female\",\"Male\",\"Male\",\"Male\",\"Male\",\"Male\",\"Female\",\"Male\",\"Male\",\"Female\",\"Female\",\"Female\",\"Female\",\"Female\",\"Female\",\"Female\",\"Female\",\"Female\",\"Male\",\"Male\",\"Male\",\"Male\",\"Male\",\"Female\",\"Female\",\"Male\",\"Female\",\"Male\",\"Male\",\"Male\",\"Female\",\"Male\",\"Female\",\"Male\",\"Female\",\"Female\",\"Female\",\"Female\",\"Male\",\"Female\",\"Male\",\"Male\",\"Male\",\"Female\",\"Male\",\"Female\",\"Male\",\"Male\",\"Male\",\"Male\",\"Male\",\"Male\",\"Female\",\"Female\",\"Male\",\"Male\",\"Female\",\"Male\",\"Male\",\"Female\",\"Male\",\"Male\",\"Female\",\"Male\",\"Female\",\"Male\",\"Female\",\"Male\",\"Male\",\"Female\",\"Female\",\"Female\",\"Male\",\"Male\",\"Female\",\"Female\",\"Male\",\"Male\",\"Male\",\"Male\",\"Female\",\"Male\",\"Female\",\"Male\",\"Female\",\"Male\",\"Female\",\"Female\",\"Male\",\"Male\",\"Female\",\"Male\",\"Male\",\"Male\",\"Female\",\"Male\",\"Female\",\"Male\",\"Female\",\"Male\",\"Female\",\"Male\",\"Male\",\"Male\",\"Female\",\"Male\",\"Female\",\"Female\",\"Male\",\"Male\",\"Female\",\"Female\",\"Male\",\"Male\",\"Male\",\"Male\",\"Male\",\"Male\",\"Female\",\"Male\",\"Male\",\"Female\",\"Female\",\"Male\",\"Male\",\"Male\",\"Female\",\"Female\",\"Male\",\"Female\",\"Female\",\"Male\",\"Male\",\"Female\",\"Male\",\"Male\",\"Female\",\"Female\",\"Female\",\"Female\",\"Female\",\"Female\",\"Female\",\"Male\",\"Male\",\"Male\",\"Female\",\"Male\",\"Male\",\"Male\",\"Male\",\"Female\",\"Female\",\"Female\",\"Female\",\"Male\",\"Male\",\"Female\",\"Male\",\"Male\",\"Female\",\"Female\",\"Female\",\"Male\",\"Male\",\"Male\",\"Female\",\"Male\",\"Male\",\"Female\",\"Male\",\"Male\",\"Male\",\"Male\",\"Male\",\"Female\",\"Female\",\"Female\",\"Male\",\"Female\",\"Female\",\"Male\",\"Female\",\"Male\",\"Female\",\"Male\",\"Male\",\"Female\",\"Male\",\"Female\",\"Male\",\"Female\",\"Male\",\"Male\",\"Male\",\"Female\",\"Male\",\"Male\",\"Female\",\"Male\",\"Female\",\"Female\",\"Male\",\"Male\",\"Male\",\"Female\",\"Male\",\"Male\",\"Male\",\"Male\",\"Female\",\"Female\",\"Male\",\"Female\",\"Female\",\"Male\",\"Male\",\"Female\",\"Female\",\"Female\",\"Female\",\"Male\",\"Female\",\"Female\",\"Male\",\"Female\",\"Male\",\"Male\",\"Male\",\"Female\",\"Male\",\"Female\",\"Male\",\"Male\",\"Male\",\"Male\",\"Male\",\"Female\",\"Male\",\"Male\",\"Female\",\"Male\",\"Male\",\"Female\",\"Female\",\"Male\",\"Male\",\"Female\",\"Male\",\"Female\",\"Male\",\"Female\",\"Male\",\"Female\",\"Male\",\"Male\",\"Female\",\"Male\",\"Male\",\"Female\",\"Male\",\"Female\",\"Male\",\"Female\",\"Male\",\"Female\",\"Male\",\"Male\",\"Female\",\"Male\",\"Female\",\"Female\",\"Male\",\"Female\",\"Male\",\"Male\",\"Female\",\"Female\",\"Male\",\"Male\",\"Male\",\"Male\",\"Male\",\"Female\",\"Male\",\"Female\",\"Female\",\"Male\",\"Male\",\"Female\",\"Female\",\"Female\",\"Female\",\"Female\",\"Female\",\"Female\",\"Female\",\"Female\",\"Female\",\"Female\",\"Male\",\"Female\",\"Male\",\"Female\",\"Female\",\"Male\",\"Male\",\"Female\",\"Male\",\"Male\",\"Male\",\"Female\",\"Female\",\"Female\",\"Male\",\"Female\",\"Male\",\"Female\",\"Male\",\"Male\",\"Female\",\"Male\",\"Female\",\"Male\",\"Male\",\"Male\",\"Female\",\"Female\",\"Female\",\"Male\",\"Female\",\"Female\",\"Male\",\"Male\",\"Female\",\"Male\",\"Male\",\"Female\",\"Male\",\"Male\",\"Male\",\"Male\",\"Female\",\"Female\",\"Male\",\"Male\",\"Female\",\"Male\",\"Female\",\"Male\",\"Female\",\"Female\",\"Female\",\"Female\",\"Male\",\"Male\",\"Female\",\"Female\",\"Female\",\"Female\",\"Female\",\"Female\",\"Male\",\"Male\"],\"xaxis\":\"x\",\"yaxis\":\"y\",\"type\":\"histogram\"}],                        {\"template\":{\"data\":{\"bar\":[{\"error_x\":{\"color\":\"#2a3f5f\"},\"error_y\":{\"color\":\"#2a3f5f\"},\"marker\":{\"line\":{\"color\":\"#E5ECF6\",\"width\":0.5},\"pattern\":{\"fillmode\":\"overlay\",\"size\":10,\"solidity\":0.2}},\"type\":\"bar\"}],\"barpolar\":[{\"marker\":{\"line\":{\"color\":\"#E5ECF6\",\"width\":0.5},\"pattern\":{\"fillmode\":\"overlay\",\"size\":10,\"solidity\":0.2}},\"type\":\"barpolar\"}],\"carpet\":[{\"aaxis\":{\"endlinecolor\":\"#2a3f5f\",\"gridcolor\":\"white\",\"linecolor\":\"white\",\"minorgridcolor\":\"white\",\"startlinecolor\":\"#2a3f5f\"},\"baxis\":{\"endlinecolor\":\"#2a3f5f\",\"gridcolor\":\"white\",\"linecolor\":\"white\",\"minorgridcolor\":\"white\",\"startlinecolor\":\"#2a3f5f\"},\"type\":\"carpet\"}],\"choropleth\":[{\"colorbar\":{\"outlinewidth\":0,\"ticks\":\"\"},\"type\":\"choropleth\"}],\"contour\":[{\"colorbar\":{\"outlinewidth\":0,\"ticks\":\"\"},\"colorscale\":[[0.0,\"#0d0887\"],[0.1111111111111111,\"#46039f\"],[0.2222222222222222,\"#7201a8\"],[0.3333333333333333,\"#9c179e\"],[0.4444444444444444,\"#bd3786\"],[0.5555555555555556,\"#d8576b\"],[0.6666666666666666,\"#ed7953\"],[0.7777777777777778,\"#fb9f3a\"],[0.8888888888888888,\"#fdca26\"],[1.0,\"#f0f921\"]],\"type\":\"contour\"}],\"contourcarpet\":[{\"colorbar\":{\"outlinewidth\":0,\"ticks\":\"\"},\"type\":\"contourcarpet\"}],\"heatmap\":[{\"colorbar\":{\"outlinewidth\":0,\"ticks\":\"\"},\"colorscale\":[[0.0,\"#0d0887\"],[0.1111111111111111,\"#46039f\"],[0.2222222222222222,\"#7201a8\"],[0.3333333333333333,\"#9c179e\"],[0.4444444444444444,\"#bd3786\"],[0.5555555555555556,\"#d8576b\"],[0.6666666666666666,\"#ed7953\"],[0.7777777777777778,\"#fb9f3a\"],[0.8888888888888888,\"#fdca26\"],[1.0,\"#f0f921\"]],\"type\":\"heatmap\"}],\"heatmapgl\":[{\"colorbar\":{\"outlinewidth\":0,\"ticks\":\"\"},\"colorscale\":[[0.0,\"#0d0887\"],[0.1111111111111111,\"#46039f\"],[0.2222222222222222,\"#7201a8\"],[0.3333333333333333,\"#9c179e\"],[0.4444444444444444,\"#bd3786\"],[0.5555555555555556,\"#d8576b\"],[0.6666666666666666,\"#ed7953\"],[0.7777777777777778,\"#fb9f3a\"],[0.8888888888888888,\"#fdca26\"],[1.0,\"#f0f921\"]],\"type\":\"heatmapgl\"}],\"histogram\":[{\"marker\":{\"pattern\":{\"fillmode\":\"overlay\",\"size\":10,\"solidity\":0.2}},\"type\":\"histogram\"}],\"histogram2d\":[{\"colorbar\":{\"outlinewidth\":0,\"ticks\":\"\"},\"colorscale\":[[0.0,\"#0d0887\"],[0.1111111111111111,\"#46039f\"],[0.2222222222222222,\"#7201a8\"],[0.3333333333333333,\"#9c179e\"],[0.4444444444444444,\"#bd3786\"],[0.5555555555555556,\"#d8576b\"],[0.6666666666666666,\"#ed7953\"],[0.7777777777777778,\"#fb9f3a\"],[0.8888888888888888,\"#fdca26\"],[1.0,\"#f0f921\"]],\"type\":\"histogram2d\"}],\"histogram2dcontour\":[{\"colorbar\":{\"outlinewidth\":0,\"ticks\":\"\"},\"colorscale\":[[0.0,\"#0d0887\"],[0.1111111111111111,\"#46039f\"],[0.2222222222222222,\"#7201a8\"],[0.3333333333333333,\"#9c179e\"],[0.4444444444444444,\"#bd3786\"],[0.5555555555555556,\"#d8576b\"],[0.6666666666666666,\"#ed7953\"],[0.7777777777777778,\"#fb9f3a\"],[0.8888888888888888,\"#fdca26\"],[1.0,\"#f0f921\"]],\"type\":\"histogram2dcontour\"}],\"mesh3d\":[{\"colorbar\":{\"outlinewidth\":0,\"ticks\":\"\"},\"type\":\"mesh3d\"}],\"parcoords\":[{\"line\":{\"colorbar\":{\"outlinewidth\":0,\"ticks\":\"\"}},\"type\":\"parcoords\"}],\"pie\":[{\"automargin\":true,\"type\":\"pie\"}],\"scatter\":[{\"marker\":{\"colorbar\":{\"outlinewidth\":0,\"ticks\":\"\"}},\"type\":\"scatter\"}],\"scatter3d\":[{\"line\":{\"colorbar\":{\"outlinewidth\":0,\"ticks\":\"\"}},\"marker\":{\"colorbar\":{\"outlinewidth\":0,\"ticks\":\"\"}},\"type\":\"scatter3d\"}],\"scattercarpet\":[{\"marker\":{\"colorbar\":{\"outlinewidth\":0,\"ticks\":\"\"}},\"type\":\"scattercarpet\"}],\"scattergeo\":[{\"marker\":{\"colorbar\":{\"outlinewidth\":0,\"ticks\":\"\"}},\"type\":\"scattergeo\"}],\"scattergl\":[{\"marker\":{\"colorbar\":{\"outlinewidth\":0,\"ticks\":\"\"}},\"type\":\"scattergl\"}],\"scattermapbox\":[{\"marker\":{\"colorbar\":{\"outlinewidth\":0,\"ticks\":\"\"}},\"type\":\"scattermapbox\"}],\"scatterpolar\":[{\"marker\":{\"colorbar\":{\"outlinewidth\":0,\"ticks\":\"\"}},\"type\":\"scatterpolar\"}],\"scatterpolargl\":[{\"marker\":{\"colorbar\":{\"outlinewidth\":0,\"ticks\":\"\"}},\"type\":\"scatterpolargl\"}],\"scatterternary\":[{\"marker\":{\"colorbar\":{\"outlinewidth\":0,\"ticks\":\"\"}},\"type\":\"scatterternary\"}],\"surface\":[{\"colorbar\":{\"outlinewidth\":0,\"ticks\":\"\"},\"colorscale\":[[0.0,\"#0d0887\"],[0.1111111111111111,\"#46039f\"],[0.2222222222222222,\"#7201a8\"],[0.3333333333333333,\"#9c179e\"],[0.4444444444444444,\"#bd3786\"],[0.5555555555555556,\"#d8576b\"],[0.6666666666666666,\"#ed7953\"],[0.7777777777777778,\"#fb9f3a\"],[0.8888888888888888,\"#fdca26\"],[1.0,\"#f0f921\"]],\"type\":\"surface\"}],\"table\":[{\"cells\":{\"fill\":{\"color\":\"#EBF0F8\"},\"line\":{\"color\":\"white\"}},\"header\":{\"fill\":{\"color\":\"#C8D4E3\"},\"line\":{\"color\":\"white\"}},\"type\":\"table\"}]},\"layout\":{\"annotationdefaults\":{\"arrowcolor\":\"#2a3f5f\",\"arrowhead\":0,\"arrowwidth\":1},\"autotypenumbers\":\"strict\",\"coloraxis\":{\"colorbar\":{\"outlinewidth\":0,\"ticks\":\"\"}},\"colorscale\":{\"diverging\":[[0,\"#8e0152\"],[0.1,\"#c51b7d\"],[0.2,\"#de77ae\"],[0.3,\"#f1b6da\"],[0.4,\"#fde0ef\"],[0.5,\"#f7f7f7\"],[0.6,\"#e6f5d0\"],[0.7,\"#b8e186\"],[0.8,\"#7fbc41\"],[0.9,\"#4d9221\"],[1,\"#276419\"]],\"sequential\":[[0.0,\"#0d0887\"],[0.1111111111111111,\"#46039f\"],[0.2222222222222222,\"#7201a8\"],[0.3333333333333333,\"#9c179e\"],[0.4444444444444444,\"#bd3786\"],[0.5555555555555556,\"#d8576b\"],[0.6666666666666666,\"#ed7953\"],[0.7777777777777778,\"#fb9f3a\"],[0.8888888888888888,\"#fdca26\"],[1.0,\"#f0f921\"]],\"sequentialminus\":[[0.0,\"#0d0887\"],[0.1111111111111111,\"#46039f\"],[0.2222222222222222,\"#7201a8\"],[0.3333333333333333,\"#9c179e\"],[0.4444444444444444,\"#bd3786\"],[0.5555555555555556,\"#d8576b\"],[0.6666666666666666,\"#ed7953\"],[0.7777777777777778,\"#fb9f3a\"],[0.8888888888888888,\"#fdca26\"],[1.0,\"#f0f921\"]]},\"colorway\":[\"#636efa\",\"#EF553B\",\"#00cc96\",\"#ab63fa\",\"#FFA15A\",\"#19d3f3\",\"#FF6692\",\"#B6E880\",\"#FF97FF\",\"#FECB52\"],\"font\":{\"color\":\"#2a3f5f\"},\"geo\":{\"bgcolor\":\"white\",\"lakecolor\":\"white\",\"landcolor\":\"#E5ECF6\",\"showlakes\":true,\"showland\":true,\"subunitcolor\":\"white\"},\"hoverlabel\":{\"align\":\"left\"},\"hovermode\":\"closest\",\"mapbox\":{\"style\":\"light\"},\"paper_bgcolor\":\"white\",\"plot_bgcolor\":\"#E5ECF6\",\"polar\":{\"angularaxis\":{\"gridcolor\":\"white\",\"linecolor\":\"white\",\"ticks\":\"\"},\"bgcolor\":\"#E5ECF6\",\"radialaxis\":{\"gridcolor\":\"white\",\"linecolor\":\"white\",\"ticks\":\"\"}},\"scene\":{\"xaxis\":{\"backgroundcolor\":\"#E5ECF6\",\"gridcolor\":\"white\",\"gridwidth\":2,\"linecolor\":\"white\",\"showbackground\":true,\"ticks\":\"\",\"zerolinecolor\":\"white\"},\"yaxis\":{\"backgroundcolor\":\"#E5ECF6\",\"gridcolor\":\"white\",\"gridwidth\":2,\"linecolor\":\"white\",\"showbackground\":true,\"ticks\":\"\",\"zerolinecolor\":\"white\"},\"zaxis\":{\"backgroundcolor\":\"#E5ECF6\",\"gridcolor\":\"white\",\"gridwidth\":2,\"linecolor\":\"white\",\"showbackground\":true,\"ticks\":\"\",\"zerolinecolor\":\"white\"}},\"shapedefaults\":{\"line\":{\"color\":\"#2a3f5f\"}},\"ternary\":{\"aaxis\":{\"gridcolor\":\"white\",\"linecolor\":\"white\",\"ticks\":\"\"},\"baxis\":{\"gridcolor\":\"white\",\"linecolor\":\"white\",\"ticks\":\"\"},\"bgcolor\":\"#E5ECF6\",\"caxis\":{\"gridcolor\":\"white\",\"linecolor\":\"white\",\"ticks\":\"\"}},\"title\":{\"x\":0.05},\"xaxis\":{\"automargin\":true,\"gridcolor\":\"white\",\"linecolor\":\"white\",\"ticks\":\"\",\"title\":{\"standoff\":15},\"zerolinecolor\":\"white\",\"zerolinewidth\":2},\"yaxis\":{\"automargin\":true,\"gridcolor\":\"white\",\"linecolor\":\"white\",\"ticks\":\"\",\"title\":{\"standoff\":15},\"zerolinecolor\":\"white\",\"zerolinewidth\":2}}},\"xaxis\":{\"anchor\":\"y\",\"domain\":[0.0,1.0],\"title\":{\"text\":\"Gender\"}},\"yaxis\":{\"anchor\":\"x\",\"domain\":[0.0,1.0],\"title\":{\"text\":\"count\"}},\"legend\":{\"title\":{\"text\":\"Is_Churn\"},\"tracegroupgap\":0},\"title\":{\"text\":\"Age vs Is_Churn \"},\"barmode\":\"relative\",\"height\":550,\"width\":550},                        {\"responsive\": true}                    ).then(function(){\n",
              "                            \n",
              "var gd = document.getElementById('b5da0d68-dd61-4592-9a61-f5190ffd5526');\n",
              "var x = new MutationObserver(function (mutations, observer) {{\n",
              "        var display = window.getComputedStyle(gd).display;\n",
              "        if (!display || display === 'none') {{\n",
              "            console.log([gd, 'removed!']);\n",
              "            Plotly.purge(gd);\n",
              "            observer.disconnect();\n",
              "        }}\n",
              "}});\n",
              "\n",
              "// Listen for the removal of the full notebook cells\n",
              "var notebookContainer = gd.closest('#notebook-container');\n",
              "if (notebookContainer) {{\n",
              "    x.observe(notebookContainer, {childList: true});\n",
              "}}\n",
              "\n",
              "// Listen for the clearing of the current output cell\n",
              "var outputEl = gd.closest('.output');\n",
              "if (outputEl) {{\n",
              "    x.observe(outputEl, {childList: true});\n",
              "}}\n",
              "\n",
              "                        })                };                            </script>        </div>\n",
              "</body>\n",
              "</html>"
            ]
          },
          "metadata": {}
        }
      ]
    },
    {
      "cell_type": "markdown",
      "source": [
        "In both the gender almost equal amount of employees are likely to leave the Bank."
      ],
      "metadata": {
        "id": "0D5xpGHo4B_d"
      }
    },
    {
      "cell_type": "code",
      "source": [
        "px.histogram(train_df, x='Income', title='Income vs Is_Churn ', color='Is_Churn',width=800, height=550)"
      ],
      "metadata": {
        "colab": {
          "base_uri": "https://localhost:8080/",
          "height": 567
        },
        "id": "gCTKvfXd1drf",
        "outputId": "6de65631-0a6f-4b8a-81a4-86ce46293230"
      },
      "execution_count": null,
      "outputs": [
        {
          "output_type": "display_data",
          "data": {
            "text/html": [
              "<html>\n",
              "<head><meta charset=\"utf-8\" /></head>\n",
              "<body>\n",
              "    <div>            <script src=\"https://cdnjs.cloudflare.com/ajax/libs/mathjax/2.7.5/MathJax.js?config=TeX-AMS-MML_SVG\"></script><script type=\"text/javascript\">if (window.MathJax) {MathJax.Hub.Config({SVG: {font: \"STIX-Web\"}});}</script>                <script type=\"text/javascript\">window.PlotlyConfig = {MathJaxConfig: 'local'};</script>\n",
              "        <script src=\"https://cdn.plot.ly/plotly-2.8.3.min.js\"></script>                <div id=\"e6371f30-8881-4fe2-9e9b-cf24a801cff6\" class=\"plotly-graph-div\" style=\"height:550px; width:800px;\"></div>            <script type=\"text/javascript\">                                    window.PLOTLYENV=window.PLOTLYENV || {};                                    if (document.getElementById(\"e6371f30-8881-4fe2-9e9b-cf24a801cff6\")) {                    Plotly.newPlot(                        \"e6371f30-8881-4fe2-9e9b-cf24a801cff6\",                        [{\"alignmentgroup\":\"True\",\"bingroup\":\"x\",\"hovertemplate\":\"Is_Churn=1<br>Income=%{x}<br>count=%{y}<extra></extra>\",\"legendgroup\":\"1\",\"marker\":{\"color\":\"#636efa\",\"pattern\":{\"shape\":\"\"}},\"name\":\"1\",\"offsetgroup\":\"1\",\"orientation\":\"v\",\"showlegend\":true,\"x\":[\"5L - 10L\",\"More than 15L\",\"More than 15L\",\"10L - 15L\",\"10L - 15L\",\"More than 15L\",\"5L - 10L\",\"5L - 10L\",\"10L - 15L\",\"More than 15L\",\"5L - 10L\",\"Less than 5L\",\"10L - 15L\",\"Less than 5L\",\"Less than 5L\",\"5L - 10L\",\"Less than 5L\",\"5L - 10L\",\"5L - 10L\",\"5L - 10L\",\"10L - 15L\",\"Less than 5L\",\"10L - 15L\",\"Less than 5L\",\"10L - 15L\",\"10L - 15L\",\"More than 15L\",\"5L - 10L\",\"5L - 10L\",\"More than 15L\",\"Less than 5L\",\"More than 15L\",\"5L - 10L\",\"Less than 5L\",\"10L - 15L\",\"More than 15L\",\"10L - 15L\",\"More than 15L\",\"10L - 15L\",\"More than 15L\",\"5L - 10L\",\"More than 15L\",\"5L - 10L\",\"More than 15L\",\"Less than 5L\",\"10L - 15L\",\"Less than 5L\",\"5L - 10L\",\"Less than 5L\",\"Less than 5L\",\"More than 15L\",\"5L - 10L\",\"5L - 10L\",\"5L - 10L\",\"10L - 15L\",\"10L - 15L\",\"10L - 15L\",\"10L - 15L\",\"10L - 15L\",\"5L - 10L\",\"5L - 10L\",\"Less than 5L\",\"10L - 15L\",\"5L - 10L\",\"5L - 10L\",\"5L - 10L\",\"5L - 10L\",\"More than 15L\",\"10L - 15L\",\"More than 15L\",\"5L - 10L\",\"10L - 15L\",\"5L - 10L\",\"5L - 10L\",\"5L - 10L\",\"Less than 5L\",\"Less than 5L\",\"Less than 5L\",\"More than 15L\",\"5L - 10L\",\"10L - 15L\",\"Less than 5L\",\"5L - 10L\",\"Less than 5L\",\"10L - 15L\",\"More than 15L\",\"10L - 15L\",\"10L - 15L\",\"More than 15L\",\"Less than 5L\",\"10L - 15L\",\"5L - 10L\",\"Less than 5L\",\"Less than 5L\",\"More than 15L\",\"10L - 15L\",\"Less than 5L\",\"10L - 15L\",\"Less than 5L\",\"Less than 5L\",\"More than 15L\",\"10L - 15L\",\"10L - 15L\",\"10L - 15L\",\"5L - 10L\",\"Less than 5L\",\"5L - 10L\",\"More than 15L\",\"5L - 10L\",\"5L - 10L\",\"5L - 10L\",\"Less than 5L\",\"10L - 15L\",\"Less than 5L\",\"5L - 10L\",\"5L - 10L\",\"10L - 15L\",\"More than 15L\",\"Less than 5L\",\"5L - 10L\",\"10L - 15L\",\"10L - 15L\",\"More than 15L\",\"Less than 5L\",\"Less than 5L\",\"5L - 10L\",\"10L - 15L\",\"10L - 15L\",\"Less than 5L\",\"Less than 5L\",\"5L - 10L\",\"More than 15L\",\"More than 15L\",\"Less than 5L\",\"5L - 10L\",\"More than 15L\",\"10L - 15L\",\"More than 15L\",\"Less than 5L\",\"5L - 10L\",\"Less than 5L\",\"5L - 10L\",\"Less than 5L\",\"More than 15L\",\"Less than 5L\",\"More than 15L\",\"5L - 10L\",\"More than 15L\",\"More than 15L\",\"10L - 15L\",\"5L - 10L\",\"More than 15L\",\"Less than 5L\",\"More than 15L\",\"More than 15L\",\"Less than 5L\",\"10L - 15L\",\"5L - 10L\",\"Less than 5L\",\"10L - 15L\",\"5L - 10L\",\"5L - 10L\",\"10L - 15L\",\"10L - 15L\",\"5L - 10L\",\"More than 15L\",\"More than 15L\",\"Less than 5L\",\"More than 15L\",\"10L - 15L\",\"Less than 5L\",\"10L - 15L\",\"More than 15L\",\"10L - 15L\",\"10L - 15L\",\"More than 15L\",\"More than 15L\",\"10L - 15L\",\"More than 15L\",\"More than 15L\",\"10L - 15L\",\"More than 15L\",\"5L - 10L\",\"Less than 5L\",\"Less than 5L\",\"5L - 10L\",\"10L - 15L\",\"More than 15L\",\"10L - 15L\",\"5L - 10L\",\"Less than 5L\",\"More than 15L\",\"10L - 15L\",\"Less than 5L\",\"10L - 15L\",\"5L - 10L\",\"Less than 5L\",\"More than 15L\",\"Less than 5L\",\"5L - 10L\",\"More than 15L\",\"10L - 15L\",\"More than 15L\",\"Less than 5L\",\"More than 15L\",\"More than 15L\",\"More than 15L\",\"10L - 15L\",\"5L - 10L\",\"5L - 10L\",\"5L - 10L\",\"More than 15L\",\"More than 15L\",\"10L - 15L\",\"More than 15L\",\"More than 15L\",\"5L - 10L\",\"5L - 10L\",\"5L - 10L\",\"10L - 15L\",\"More than 15L\",\"Less than 5L\",\"More than 15L\",\"More than 15L\",\"More than 15L\",\"10L - 15L\",\"More than 15L\",\"5L - 10L\",\"Less than 5L\",\"5L - 10L\",\"More than 15L\",\"More than 15L\",\"10L - 15L\",\"Less than 5L\",\"More than 15L\",\"Less than 5L\",\"5L - 10L\",\"Less than 5L\",\"More than 15L\",\"5L - 10L\",\"5L - 10L\",\"5L - 10L\",\"10L - 15L\",\"5L - 10L\",\"10L - 15L\",\"5L - 10L\",\"Less than 5L\",\"Less than 5L\",\"Less than 5L\",\"More than 15L\",\"Less than 5L\",\"10L - 15L\",\"5L - 10L\",\"Less than 5L\",\"10L - 15L\",\"More than 15L\",\"10L - 15L\",\"Less than 5L\",\"More than 15L\",\"More than 15L\",\"5L - 10L\",\"5L - 10L\",\"5L - 10L\",\"10L - 15L\",\"10L - 15L\",\"Less than 5L\",\"5L - 10L\",\"5L - 10L\",\"More than 15L\",\"More than 15L\",\"5L - 10L\",\"5L - 10L\",\"10L - 15L\",\"5L - 10L\",\"Less than 5L\",\"10L - 15L\",\"Less than 5L\",\"Less than 5L\",\"10L - 15L\",\"10L - 15L\",\"5L - 10L\",\"More than 15L\",\"10L - 15L\",\"Less than 5L\",\"5L - 10L\",\"Less than 5L\",\"More than 15L\",\"5L - 10L\",\"Less than 5L\",\"10L - 15L\",\"More than 15L\",\"Less than 5L\",\"10L - 15L\",\"More than 15L\",\"More than 15L\",\"Less than 5L\",\"10L - 15L\",\"More than 15L\",\"5L - 10L\",\"More than 15L\",\"More than 15L\",\"Less than 5L\",\"10L - 15L\",\"10L - 15L\",\"More than 15L\",\"Less than 5L\",\"5L - 10L\",\"Less than 5L\",\"Less than 5L\",\"Less than 5L\",\"5L - 10L\",\"More than 15L\",\"More than 15L\",\"10L - 15L\",\"More than 15L\",\"10L - 15L\",\"10L - 15L\",\"More than 15L\",\"5L - 10L\",\"Less than 5L\",\"10L - 15L\",\"Less than 5L\",\"10L - 15L\",\"10L - 15L\",\"5L - 10L\",\"5L - 10L\",\"5L - 10L\",\"More than 15L\",\"More than 15L\",\"5L - 10L\",\"10L - 15L\",\"5L - 10L\",\"10L - 15L\",\"10L - 15L\",\"10L - 15L\",\"More than 15L\",\"More than 15L\",\"Less than 5L\",\"5L - 10L\",\"More than 15L\",\"More than 15L\",\"10L - 15L\",\"5L - 10L\",\"More than 15L\",\"Less than 5L\",\"10L - 15L\",\"More than 15L\",\"More than 15L\",\"Less than 5L\",\"More than 15L\",\"5L - 10L\",\"More than 15L\",\"More than 15L\",\"More than 15L\",\"Less than 5L\",\"More than 15L\",\"10L - 15L\",\"More than 15L\",\"More than 15L\",\"5L - 10L\",\"5L - 10L\",\"10L - 15L\",\"10L - 15L\",\"Less than 5L\",\"Less than 5L\",\"Less than 5L\",\"More than 15L\",\"Less than 5L\",\"More than 15L\",\"Less than 5L\",\"More than 15L\",\"5L - 10L\",\"10L - 15L\",\"More than 15L\",\"Less than 5L\",\"Less than 5L\",\"10L - 15L\",\"5L - 10L\",\"Less than 5L\",\"More than 15L\",\"More than 15L\",\"Less than 5L\",\"10L - 15L\",\"More than 15L\",\"Less than 5L\",\"10L - 15L\",\"5L - 10L\",\"More than 15L\",\"5L - 10L\",\"10L - 15L\",\"10L - 15L\",\"5L - 10L\",\"More than 15L\",\"10L - 15L\",\"Less than 5L\",\"Less than 5L\",\"10L - 15L\",\"Less than 5L\",\"Less than 5L\",\"More than 15L\",\"More than 15L\",\"10L - 15L\",\"10L - 15L\",\"5L - 10L\",\"10L - 15L\",\"Less than 5L\",\"10L - 15L\",\"More than 15L\",\"Less than 5L\",\"10L - 15L\",\"10L - 15L\",\"Less than 5L\",\"Less than 5L\",\"Less than 5L\",\"10L - 15L\",\"5L - 10L\",\"More than 15L\",\"10L - 15L\",\"Less than 5L\",\"5L - 10L\",\"10L - 15L\",\"More than 15L\",\"More than 15L\",\"5L - 10L\",\"More than 15L\",\"Less than 5L\",\"Less than 5L\",\"More than 15L\",\"Less than 5L\",\"5L - 10L\",\"10L - 15L\",\"More than 15L\",\"5L - 10L\",\"5L - 10L\",\"5L - 10L\",\"More than 15L\",\"5L - 10L\",\"More than 15L\",\"Less than 5L\",\"5L - 10L\",\"10L - 15L\",\"10L - 15L\",\"Less than 5L\",\"5L - 10L\",\"More than 15L\",\"10L - 15L\",\"10L - 15L\",\"10L - 15L\",\"5L - 10L\",\"More than 15L\",\"10L - 15L\",\"More than 15L\",\"Less than 5L\",\"10L - 15L\",\"10L - 15L\",\"5L - 10L\",\"5L - 10L\",\"More than 15L\",\"5L - 10L\",\"Less than 5L\",\"10L - 15L\",\"5L - 10L\",\"5L - 10L\",\"Less than 5L\",\"More than 15L\",\"Less than 5L\",\"Less than 5L\",\"Less than 5L\",\"Less than 5L\",\"More than 15L\",\"10L - 15L\",\"5L - 10L\",\"Less than 5L\",\"5L - 10L\",\"Less than 5L\",\"Less than 5L\",\"More than 15L\",\"10L - 15L\",\"5L - 10L\",\"5L - 10L\",\"10L - 15L\",\"5L - 10L\",\"More than 15L\",\"10L - 15L\",\"Less than 5L\",\"10L - 15L\",\"Less than 5L\",\"5L - 10L\",\"10L - 15L\",\"10L - 15L\",\"Less than 5L\",\"5L - 10L\",\"5L - 10L\",\"5L - 10L\",\"More than 15L\",\"5L - 10L\",\"10L - 15L\",\"10L - 15L\",\"More than 15L\",\"10L - 15L\",\"5L - 10L\",\"5L - 10L\",\"Less than 5L\",\"More than 15L\",\"Less than 5L\",\"Less than 5L\",\"10L - 15L\",\"More than 15L\",\"10L - 15L\",\"Less than 5L\",\"Less than 5L\",\"10L - 15L\",\"More than 15L\",\"Less than 5L\",\"5L - 10L\",\"10L - 15L\",\"10L - 15L\",\"5L - 10L\",\"More than 15L\",\"5L - 10L\",\"Less than 5L\",\"10L - 15L\",\"5L - 10L\",\"More than 15L\",\"5L - 10L\",\"More than 15L\",\"10L - 15L\",\"Less than 5L\",\"10L - 15L\",\"10L - 15L\",\"Less than 5L\",\"10L - 15L\",\"10L - 15L\",\"5L - 10L\",\"10L - 15L\",\"5L - 10L\",\"10L - 15L\",\"10L - 15L\",\"Less than 5L\",\"10L - 15L\",\"5L - 10L\",\"10L - 15L\",\"10L - 15L\",\"5L - 10L\",\"More than 15L\",\"10L - 15L\",\"10L - 15L\",\"10L - 15L\",\"10L - 15L\",\"5L - 10L\",\"Less than 5L\",\"Less than 5L\",\"10L - 15L\",\"More than 15L\",\"5L - 10L\",\"10L - 15L\",\"5L - 10L\",\"More than 15L\",\"5L - 10L\",\"5L - 10L\",\"More than 15L\",\"Less than 5L\",\"Less than 5L\",\"10L - 15L\",\"10L - 15L\",\"5L - 10L\",\"5L - 10L\",\"5L - 10L\",\"Less than 5L\",\"10L - 15L\",\"More than 15L\",\"5L - 10L\",\"5L - 10L\",\"Less than 5L\",\"5L - 10L\",\"Less than 5L\",\"10L - 15L\",\"5L - 10L\",\"More than 15L\",\"Less than 5L\",\"More than 15L\",\"More than 15L\",\"10L - 15L\",\"10L - 15L\",\"More than 15L\",\"Less than 5L\",\"5L - 10L\",\"More than 15L\",\"5L - 10L\",\"More than 15L\",\"5L - 10L\",\"5L - 10L\",\"5L - 10L\",\"Less than 5L\",\"Less than 5L\",\"Less than 5L\",\"More than 15L\",\"Less than 5L\",\"More than 15L\",\"Less than 5L\",\"5L - 10L\",\"5L - 10L\",\"5L - 10L\",\"Less than 5L\",\"Less than 5L\",\"10L - 15L\",\"Less than 5L\",\"5L - 10L\",\"10L - 15L\",\"Less than 5L\",\"10L - 15L\",\"5L - 10L\",\"More than 15L\",\"5L - 10L\",\"10L - 15L\",\"Less than 5L\",\"5L - 10L\",\"More than 15L\",\"10L - 15L\",\"Less than 5L\",\"Less than 5L\",\"Less than 5L\",\"Less than 5L\",\"5L - 10L\",\"5L - 10L\",\"5L - 10L\",\"5L - 10L\",\"Less than 5L\",\"5L - 10L\",\"5L - 10L\",\"More than 15L\",\"5L - 10L\",\"More than 15L\",\"Less than 5L\",\"10L - 15L\",\"5L - 10L\",\"10L - 15L\",\"10L - 15L\",\"10L - 15L\",\"10L - 15L\",\"10L - 15L\",\"5L - 10L\",\"5L - 10L\",\"More than 15L\",\"10L - 15L\",\"Less than 5L\",\"5L - 10L\",\"Less than 5L\",\"5L - 10L\",\"Less than 5L\",\"More than 15L\",\"More than 15L\",\"5L - 10L\",\"More than 15L\",\"Less than 5L\",\"5L - 10L\",\"More than 15L\",\"More than 15L\",\"5L - 10L\",\"Less than 5L\",\"5L - 10L\",\"More than 15L\",\"10L - 15L\",\"10L - 15L\",\"10L - 15L\",\"Less than 5L\",\"More than 15L\",\"10L - 15L\",\"10L - 15L\",\"5L - 10L\",\"Less than 5L\",\"Less than 5L\",\"5L - 10L\",\"5L - 10L\",\"Less than 5L\",\"Less than 5L\",\"More than 15L\",\"Less than 5L\",\"10L - 15L\",\"More than 15L\",\"More than 15L\",\"10L - 15L\",\"5L - 10L\",\"More than 15L\",\"More than 15L\",\"5L - 10L\",\"More than 15L\",\"5L - 10L\",\"5L - 10L\",\"Less than 5L\",\"5L - 10L\",\"Less than 5L\",\"5L - 10L\",\"10L - 15L\",\"10L - 15L\",\"More than 15L\",\"Less than 5L\",\"More than 15L\",\"More than 15L\",\"More than 15L\",\"10L - 15L\",\"10L - 15L\",\"10L - 15L\",\"5L - 10L\",\"10L - 15L\",\"5L - 10L\",\"Less than 5L\",\"10L - 15L\",\"5L - 10L\",\"Less than 5L\",\"More than 15L\",\"More than 15L\",\"5L - 10L\",\"10L - 15L\",\"5L - 10L\",\"5L - 10L\",\"Less than 5L\",\"Less than 5L\",\"More than 15L\",\"10L - 15L\",\"More than 15L\",\"5L - 10L\",\"Less than 5L\",\"More than 15L\",\"5L - 10L\",\"10L - 15L\",\"Less than 5L\",\"10L - 15L\",\"More than 15L\",\"5L - 10L\",\"Less than 5L\",\"More than 15L\",\"10L - 15L\",\"5L - 10L\",\"10L - 15L\",\"Less than 5L\",\"More than 15L\",\"5L - 10L\",\"10L - 15L\",\"5L - 10L\",\"5L - 10L\",\"Less than 5L\",\"More than 15L\",\"10L - 15L\",\"5L - 10L\",\"Less than 5L\",\"Less than 5L\",\"5L - 10L\",\"More than 15L\",\"Less than 5L\",\"More than 15L\",\"Less than 5L\",\"10L - 15L\",\"More than 15L\",\"More than 15L\",\"5L - 10L\",\"Less than 5L\",\"10L - 15L\",\"More than 15L\",\"10L - 15L\",\"5L - 10L\",\"Less than 5L\",\"10L - 15L\",\"More than 15L\",\"More than 15L\",\"10L - 15L\",\"5L - 10L\",\"5L - 10L\",\"Less than 5L\",\"10L - 15L\",\"10L - 15L\",\"10L - 15L\",\"More than 15L\",\"5L - 10L\",\"More than 15L\",\"10L - 15L\",\"5L - 10L\",\"10L - 15L\",\"5L - 10L\",\"5L - 10L\",\"Less than 5L\",\"5L - 10L\",\"10L - 15L\",\"10L - 15L\",\"5L - 10L\",\"10L - 15L\",\"10L - 15L\",\"Less than 5L\",\"10L - 15L\",\"Less than 5L\",\"10L - 15L\",\"5L - 10L\",\"Less than 5L\",\"10L - 15L\",\"More than 15L\",\"More than 15L\",\"10L - 15L\",\"More than 15L\",\"10L - 15L\",\"More than 15L\",\"5L - 10L\",\"5L - 10L\",\"10L - 15L\",\"10L - 15L\",\"10L - 15L\",\"More than 15L\",\"More than 15L\",\"Less than 5L\",\"Less than 5L\",\"5L - 10L\",\"10L - 15L\",\"More than 15L\",\"5L - 10L\",\"More than 15L\",\"Less than 5L\",\"Less than 5L\",\"10L - 15L\",\"Less than 5L\",\"Less than 5L\",\"Less than 5L\",\"More than 15L\",\"5L - 10L\",\"10L - 15L\",\"10L - 15L\",\"5L - 10L\",\"5L - 10L\",\"5L - 10L\",\"10L - 15L\",\"More than 15L\",\"10L - 15L\",\"10L - 15L\",\"Less than 5L\",\"10L - 15L\",\"Less than 5L\",\"10L - 15L\",\"10L - 15L\",\"5L - 10L\",\"Less than 5L\",\"10L - 15L\",\"More than 15L\",\"More than 15L\",\"5L - 10L\",\"Less than 5L\",\"10L - 15L\",\"More than 15L\",\"5L - 10L\",\"More than 15L\",\"5L - 10L\",\"10L - 15L\",\"5L - 10L\",\"5L - 10L\",\"5L - 10L\",\"Less than 5L\",\"More than 15L\",\"Less than 5L\",\"5L - 10L\",\"5L - 10L\",\"Less than 5L\",\"10L - 15L\",\"5L - 10L\",\"Less than 5L\",\"Less than 5L\",\"More than 15L\",\"More than 15L\",\"5L - 10L\",\"10L - 15L\",\"10L - 15L\",\"10L - 15L\",\"5L - 10L\",\"5L - 10L\",\"More than 15L\",\"Less than 5L\",\"Less than 5L\",\"10L - 15L\",\"5L - 10L\",\"10L - 15L\",\"Less than 5L\",\"10L - 15L\",\"10L - 15L\",\"10L - 15L\",\"More than 15L\",\"5L - 10L\",\"10L - 15L\",\"Less than 5L\",\"More than 15L\",\"10L - 15L\",\"Less than 5L\",\"10L - 15L\",\"More than 15L\",\"10L - 15L\",\"10L - 15L\",\"10L - 15L\",\"Less than 5L\",\"10L - 15L\",\"Less than 5L\",\"5L - 10L\",\"More than 15L\",\"Less than 5L\",\"5L - 10L\",\"5L - 10L\",\"5L - 10L\",\"5L - 10L\",\"5L - 10L\",\"Less than 5L\",\"Less than 5L\",\"5L - 10L\",\"10L - 15L\",\"Less than 5L\",\"More than 15L\",\"More than 15L\",\"Less than 5L\",\"More than 15L\",\"5L - 10L\",\"Less than 5L\",\"Less than 5L\",\"Less than 5L\",\"5L - 10L\",\"5L - 10L\",\"10L - 15L\",\"5L - 10L\",\"More than 15L\",\"10L - 15L\",\"10L - 15L\",\"5L - 10L\",\"5L - 10L\",\"Less than 5L\",\"5L - 10L\",\"10L - 15L\",\"5L - 10L\",\"5L - 10L\",\"Less than 5L\",\"10L - 15L\",\"10L - 15L\",\"10L - 15L\",\"More than 15L\",\"5L - 10L\",\"10L - 15L\",\"10L - 15L\",\"10L - 15L\",\"10L - 15L\",\"Less than 5L\",\"More than 15L\",\"Less than 5L\",\"Less than 5L\",\"10L - 15L\",\"Less than 5L\",\"More than 15L\",\"10L - 15L\",\"5L - 10L\",\"More than 15L\",\"More than 15L\",\"5L - 10L\",\"Less than 5L\",\"Less than 5L\",\"Less than 5L\",\"More than 15L\",\"10L - 15L\",\"10L - 15L\",\"5L - 10L\",\"More than 15L\",\"10L - 15L\",\"10L - 15L\",\"10L - 15L\",\"Less than 5L\",\"10L - 15L\",\"10L - 15L\",\"10L - 15L\",\"Less than 5L\",\"Less than 5L\",\"5L - 10L\",\"Less than 5L\",\"10L - 15L\",\"10L - 15L\",\"Less than 5L\",\"More than 15L\",\"Less than 5L\",\"5L - 10L\",\"10L - 15L\",\"10L - 15L\",\"More than 15L\",\"10L - 15L\",\"5L - 10L\",\"Less than 5L\",\"5L - 10L\",\"10L - 15L\",\"5L - 10L\",\"10L - 15L\",\"5L - 10L\",\"5L - 10L\",\"10L - 15L\",\"More than 15L\",\"5L - 10L\",\"More than 15L\",\"5L - 10L\",\"Less than 5L\",\"Less than 5L\",\"10L - 15L\",\"Less than 5L\",\"5L - 10L\",\"Less than 5L\",\"10L - 15L\",\"10L - 15L\",\"10L - 15L\",\"10L - 15L\",\"Less than 5L\",\"More than 15L\",\"Less than 5L\",\"5L - 10L\",\"Less than 5L\",\"Less than 5L\",\"5L - 10L\",\"10L - 15L\",\"5L - 10L\",\"More than 15L\",\"Less than 5L\",\"5L - 10L\",\"5L - 10L\",\"5L - 10L\",\"5L - 10L\",\"5L - 10L\",\"5L - 10L\",\"More than 15L\",\"More than 15L\",\"10L - 15L\",\"Less than 5L\",\"10L - 15L\",\"10L - 15L\",\"5L - 10L\",\"More than 15L\",\"Less than 5L\",\"10L - 15L\",\"10L - 15L\",\"10L - 15L\",\"More than 15L\",\"10L - 15L\",\"More than 15L\",\"Less than 5L\",\"More than 15L\",\"10L - 15L\",\"10L - 15L\",\"More than 15L\",\"5L - 10L\",\"Less than 5L\",\"5L - 10L\",\"5L - 10L\",\"5L - 10L\",\"Less than 5L\",\"5L - 10L\",\"Less than 5L\",\"10L - 15L\",\"5L - 10L\",\"5L - 10L\",\"More than 15L\",\"10L - 15L\",\"5L - 10L\",\"Less than 5L\",\"More than 15L\",\"5L - 10L\",\"Less than 5L\",\"10L - 15L\",\"10L - 15L\",\"5L - 10L\",\"10L - 15L\",\"5L - 10L\",\"10L - 15L\",\"More than 15L\",\"5L - 10L\",\"Less than 5L\",\"10L - 15L\",\"10L - 15L\",\"10L - 15L\",\"10L - 15L\",\"More than 15L\",\"5L - 10L\",\"10L - 15L\",\"More than 15L\",\"10L - 15L\",\"5L - 10L\",\"Less than 5L\",\"10L - 15L\",\"5L - 10L\",\"10L - 15L\",\"5L - 10L\",\"More than 15L\",\"10L - 15L\",\"More than 15L\",\"5L - 10L\",\"5L - 10L\",\"Less than 5L\",\"10L - 15L\",\"More than 15L\",\"More than 15L\",\"Less than 5L\",\"10L - 15L\",\"5L - 10L\",\"Less than 5L\",\"Less than 5L\",\"5L - 10L\",\"Less than 5L\",\"5L - 10L\",\"More than 15L\",\"5L - 10L\",\"More than 15L\",\"More than 15L\",\"10L - 15L\",\"10L - 15L\",\"10L - 15L\",\"10L - 15L\",\"More than 15L\",\"More than 15L\",\"5L - 10L\",\"10L - 15L\",\"More than 15L\",\"More than 15L\",\"More than 15L\",\"Less than 5L\",\"5L - 10L\",\"Less than 5L\",\"5L - 10L\",\"10L - 15L\",\"10L - 15L\",\"More than 15L\",\"Less than 5L\",\"5L - 10L\",\"5L - 10L\",\"10L - 15L\",\"Less than 5L\",\"5L - 10L\",\"More than 15L\",\"5L - 10L\",\"5L - 10L\",\"Less than 5L\",\"Less than 5L\",\"More than 15L\",\"Less than 5L\",\"10L - 15L\",\"5L - 10L\",\"Less than 5L\",\"10L - 15L\",\"10L - 15L\",\"5L - 10L\",\"Less than 5L\",\"More than 15L\",\"5L - 10L\",\"10L - 15L\",\"More than 15L\",\"10L - 15L\",\"Less than 5L\",\"5L - 10L\",\"5L - 10L\",\"10L - 15L\",\"5L - 10L\",\"10L - 15L\",\"5L - 10L\",\"5L - 10L\",\"Less than 5L\",\"10L - 15L\",\"5L - 10L\",\"5L - 10L\",\"10L - 15L\",\"More than 15L\",\"Less than 5L\",\"5L - 10L\",\"10L - 15L\",\"5L - 10L\",\"5L - 10L\",\"5L - 10L\",\"Less than 5L\",\"5L - 10L\",\"Less than 5L\",\"Less than 5L\",\"5L - 10L\",\"10L - 15L\",\"Less than 5L\",\"10L - 15L\",\"More than 15L\",\"10L - 15L\",\"5L - 10L\",\"5L - 10L\",\"10L - 15L\",\"5L - 10L\",\"More than 15L\",\"More than 15L\",\"10L - 15L\",\"Less than 5L\",\"Less than 5L\",\"5L - 10L\",\"Less than 5L\",\"5L - 10L\",\"10L - 15L\",\"10L - 15L\",\"10L - 15L\",\"More than 15L\",\"10L - 15L\",\"5L - 10L\",\"10L - 15L\",\"10L - 15L\",\"More than 15L\",\"5L - 10L\",\"More than 15L\",\"10L - 15L\",\"Less than 5L\",\"5L - 10L\",\"More than 15L\",\"More than 15L\",\"5L - 10L\",\"5L - 10L\",\"More than 15L\",\"10L - 15L\",\"10L - 15L\",\"More than 15L\",\"Less than 5L\",\"Less than 5L\",\"5L - 10L\",\"Less than 5L\",\"5L - 10L\",\"5L - 10L\",\"Less than 5L\",\"5L - 10L\",\"Less than 5L\",\"10L - 15L\",\"More than 15L\",\"Less than 5L\",\"5L - 10L\",\"Less than 5L\",\"Less than 5L\",\"5L - 10L\",\"10L - 15L\",\"More than 15L\",\"More than 15L\",\"5L - 10L\",\"10L - 15L\",\"10L - 15L\",\"Less than 5L\",\"Less than 5L\",\"More than 15L\",\"10L - 15L\",\"More than 15L\",\"Less than 5L\",\"10L - 15L\",\"Less than 5L\",\"Less than 5L\",\"5L - 10L\",\"5L - 10L\",\"More than 15L\",\"10L - 15L\",\"10L - 15L\",\"5L - 10L\",\"10L - 15L\",\"10L - 15L\",\"Less than 5L\",\"10L - 15L\",\"5L - 10L\",\"5L - 10L\",\"More than 15L\",\"Less than 5L\",\"More than 15L\",\"10L - 15L\",\"10L - 15L\",\"10L - 15L\",\"10L - 15L\",\"10L - 15L\",\"10L - 15L\",\"More than 15L\",\"10L - 15L\",\"Less than 5L\",\"5L - 10L\",\"Less than 5L\",\"Less than 5L\",\"10L - 15L\",\"5L - 10L\",\"Less than 5L\",\"5L - 10L\",\"Less than 5L\",\"Less than 5L\",\"More than 15L\",\"More than 15L\",\"5L - 10L\",\"More than 15L\",\"5L - 10L\",\"Less than 5L\",\"10L - 15L\",\"More than 15L\",\"5L - 10L\",\"More than 15L\",\"5L - 10L\",\"More than 15L\",\"10L - 15L\",\"More than 15L\",\"10L - 15L\",\"10L - 15L\",\"5L - 10L\",\"More than 15L\",\"5L - 10L\",\"Less than 5L\",\"10L - 15L\",\"10L - 15L\",\"10L - 15L\",\"10L - 15L\",\"10L - 15L\",\"10L - 15L\",\"10L - 15L\",\"5L - 10L\",\"More than 15L\",\"5L - 10L\",\"5L - 10L\",\"10L - 15L\",\"More than 15L\",\"10L - 15L\",\"More than 15L\",\"5L - 10L\",\"10L - 15L\",\"10L - 15L\",\"Less than 5L\",\"5L - 10L\",\"Less than 5L\",\"10L - 15L\",\"5L - 10L\",\"Less than 5L\",\"More than 15L\",\"5L - 10L\",\"10L - 15L\",\"Less than 5L\",\"Less than 5L\",\"Less than 5L\",\"10L - 15L\",\"10L - 15L\",\"5L - 10L\",\"5L - 10L\",\"5L - 10L\",\"10L - 15L\",\"10L - 15L\",\"5L - 10L\",\"More than 15L\",\"10L - 15L\",\"More than 15L\",\"More than 15L\",\"5L - 10L\",\"5L - 10L\",\"5L - 10L\",\"More than 15L\",\"5L - 10L\",\"10L - 15L\",\"10L - 15L\",\"Less than 5L\",\"Less than 5L\",\"Less than 5L\",\"More than 15L\",\"Less than 5L\",\"10L - 15L\",\"Less than 5L\",\"5L - 10L\",\"10L - 15L\",\"10L - 15L\",\"5L - 10L\",\"5L - 10L\",\"Less than 5L\",\"10L - 15L\",\"Less than 5L\",\"Less than 5L\",\"10L - 15L\",\"More than 15L\",\"Less than 5L\",\"10L - 15L\",\"5L - 10L\",\"Less than 5L\",\"5L - 10L\",\"5L - 10L\",\"Less than 5L\",\"Less than 5L\",\"5L - 10L\",\"5L - 10L\",\"More than 15L\",\"More than 15L\",\"Less than 5L\",\"More than 15L\",\"Less than 5L\",\"5L - 10L\",\"10L - 15L\",\"Less than 5L\",\"10L - 15L\",\"5L - 10L\",\"Less than 5L\",\"Less than 5L\",\"10L - 15L\",\"5L - 10L\",\"5L - 10L\",\"More than 15L\",\"Less than 5L\",\"Less than 5L\",\"10L - 15L\",\"More than 15L\",\"5L - 10L\",\"10L - 15L\",\"10L - 15L\",\"More than 15L\",\"Less than 5L\",\"More than 15L\",\"Less than 5L\",\"Less than 5L\",\"More than 15L\",\"10L - 15L\",\"10L - 15L\",\"10L - 15L\",\"Less than 5L\",\"10L - 15L\",\"10L - 15L\",\"10L - 15L\",\"More than 15L\",\"10L - 15L\",\"Less than 5L\",\"Less than 5L\",\"More than 15L\",\"10L - 15L\",\"10L - 15L\",\"10L - 15L\",\"Less than 5L\",\"Less than 5L\",\"More than 15L\",\"5L - 10L\",\"5L - 10L\",\"5L - 10L\",\"More than 15L\",\"10L - 15L\",\"Less than 5L\",\"10L - 15L\",\"10L - 15L\",\"5L - 10L\",\"Less than 5L\",\"More than 15L\",\"5L - 10L\",\"Less than 5L\",\"More than 15L\",\"10L - 15L\",\"10L - 15L\",\"10L - 15L\",\"10L - 15L\",\"5L - 10L\",\"More than 15L\",\"More than 15L\",\"5L - 10L\",\"10L - 15L\",\"5L - 10L\",\"Less than 5L\",\"5L - 10L\",\"5L - 10L\",\"5L - 10L\",\"More than 15L\",\"More than 15L\",\"5L - 10L\",\"5L - 10L\",\"5L - 10L\",\"More than 15L\",\"10L - 15L\",\"10L - 15L\",\"5L - 10L\",\"10L - 15L\",\"10L - 15L\",\"10L - 15L\",\"10L - 15L\",\"More than 15L\",\"More than 15L\",\"10L - 15L\",\"5L - 10L\",\"10L - 15L\",\"10L - 15L\",\"5L - 10L\",\"10L - 15L\",\"10L - 15L\",\"More than 15L\",\"Less than 5L\",\"10L - 15L\",\"10L - 15L\",\"10L - 15L\",\"10L - 15L\",\"Less than 5L\",\"More than 15L\",\"5L - 10L\",\"More than 15L\",\"5L - 10L\",\"5L - 10L\",\"10L - 15L\",\"Less than 5L\",\"More than 15L\",\"10L - 15L\",\"Less than 5L\",\"More than 15L\",\"10L - 15L\",\"10L - 15L\",\"Less than 5L\",\"10L - 15L\",\"More than 15L\",\"10L - 15L\",\"Less than 5L\",\"10L - 15L\",\"Less than 5L\",\"10L - 15L\",\"Less than 5L\",\"5L - 10L\",\"More than 15L\",\"10L - 15L\",\"Less than 5L\",\"More than 15L\",\"5L - 10L\",\"More than 15L\",\"5L - 10L\",\"Less than 5L\",\"5L - 10L\",\"Less than 5L\",\"10L - 15L\",\"10L - 15L\",\"5L - 10L\",\"More than 15L\",\"10L - 15L\",\"Less than 5L\",\"5L - 10L\",\"10L - 15L\",\"More than 15L\",\"10L - 15L\",\"10L - 15L\",\"10L - 15L\",\"More than 15L\",\"5L - 10L\",\"10L - 15L\",\"Less than 5L\",\"Less than 5L\",\"10L - 15L\",\"5L - 10L\",\"5L - 10L\",\"5L - 10L\",\"10L - 15L\",\"Less than 5L\",\"10L - 15L\",\"Less than 5L\",\"5L - 10L\",\"5L - 10L\",\"10L - 15L\"],\"xaxis\":\"x\",\"yaxis\":\"y\",\"type\":\"histogram\"},{\"alignmentgroup\":\"True\",\"bingroup\":\"x\",\"hovertemplate\":\"Is_Churn=0<br>Income=%{x}<br>count=%{y}<extra></extra>\",\"legendgroup\":\"0\",\"marker\":{\"color\":\"#EF553B\",\"pattern\":{\"shape\":\"\"}},\"name\":\"0\",\"offsetgroup\":\"0\",\"orientation\":\"v\",\"showlegend\":true,\"x\":[\"Less than 5L\",\"More than 15L\",\"Less than 5L\",\"Less than 5L\",\"5L - 10L\",\"10L - 15L\",\"10L - 15L\",\"More than 15L\",\"10L - 15L\",\"5L - 10L\",\"Less than 5L\",\"10L - 15L\",\"10L - 15L\",\"Less than 5L\",\"Less than 5L\",\"Less than 5L\",\"5L - 10L\",\"5L - 10L\",\"Less than 5L\",\"5L - 10L\",\"5L - 10L\",\"5L - 10L\",\"5L - 10L\",\"5L - 10L\",\"10L - 15L\",\"Less than 5L\",\"Less than 5L\",\"10L - 15L\",\"Less than 5L\",\"Less than 5L\",\"10L - 15L\",\"More than 15L\",\"5L - 10L\",\"More than 15L\",\"Less than 5L\",\"Less than 5L\",\"More than 15L\",\"10L - 15L\",\"More than 15L\",\"5L - 10L\",\"10L - 15L\",\"Less than 5L\",\"10L - 15L\",\"10L - 15L\",\"10L - 15L\",\"5L - 10L\",\"More than 15L\",\"Less than 5L\",\"10L - 15L\",\"Less than 5L\",\"10L - 15L\",\"More than 15L\",\"More than 15L\",\"10L - 15L\",\"Less than 5L\",\"More than 15L\",\"Less than 5L\",\"5L - 10L\",\"10L - 15L\",\"5L - 10L\",\"Less than 5L\",\"More than 15L\",\"More than 15L\",\"More than 15L\",\"More than 15L\",\"10L - 15L\",\"More than 15L\",\"Less than 5L\",\"10L - 15L\",\"More than 15L\",\"10L - 15L\",\"Less than 5L\",\"Less than 5L\",\"10L - 15L\",\"More than 15L\",\"10L - 15L\",\"10L - 15L\",\"10L - 15L\",\"More than 15L\",\"Less than 5L\",\"10L - 15L\",\"5L - 10L\",\"10L - 15L\",\"10L - 15L\",\"More than 15L\",\"10L - 15L\",\"5L - 10L\",\"5L - 10L\",\"10L - 15L\",\"10L - 15L\",\"More than 15L\",\"Less than 5L\",\"10L - 15L\",\"More than 15L\",\"5L - 10L\",\"10L - 15L\",\"5L - 10L\",\"More than 15L\",\"Less than 5L\",\"10L - 15L\",\"Less than 5L\",\"5L - 10L\",\"Less than 5L\",\"5L - 10L\",\"10L - 15L\",\"More than 15L\",\"Less than 5L\",\"More than 15L\",\"Less than 5L\",\"More than 15L\",\"5L - 10L\",\"Less than 5L\",\"5L - 10L\",\"More than 15L\",\"Less than 5L\",\"More than 15L\",\"10L - 15L\",\"Less than 5L\",\"Less than 5L\",\"Less than 5L\",\"10L - 15L\",\"10L - 15L\",\"10L - 15L\",\"Less than 5L\",\"5L - 10L\",\"More than 15L\",\"More than 15L\",\"Less than 5L\",\"More than 15L\",\"10L - 15L\",\"Less than 5L\",\"5L - 10L\",\"5L - 10L\",\"10L - 15L\",\"Less than 5L\",\"Less than 5L\",\"10L - 15L\",\"More than 15L\",\"More than 15L\",\"Less than 5L\",\"More than 15L\",\"Less than 5L\",\"10L - 15L\",\"10L - 15L\",\"5L - 10L\",\"5L - 10L\",\"More than 15L\",\"10L - 15L\",\"5L - 10L\",\"Less than 5L\",\"10L - 15L\",\"Less than 5L\",\"10L - 15L\",\"Less than 5L\",\"Less than 5L\",\"Less than 5L\",\"5L - 10L\",\"More than 15L\",\"10L - 15L\",\"More than 15L\",\"Less than 5L\",\"Less than 5L\",\"5L - 10L\",\"5L - 10L\",\"5L - 10L\",\"10L - 15L\",\"Less than 5L\",\"5L - 10L\",\"5L - 10L\",\"10L - 15L\",\"More than 15L\",\"5L - 10L\",\"5L - 10L\",\"Less than 5L\",\"10L - 15L\",\"More than 15L\",\"Less than 5L\",\"10L - 15L\",\"10L - 15L\",\"More than 15L\",\"10L - 15L\",\"Less than 5L\",\"5L - 10L\",\"Less than 5L\",\"5L - 10L\",\"10L - 15L\",\"10L - 15L\",\"5L - 10L\",\"10L - 15L\",\"5L - 10L\",\"5L - 10L\",\"Less than 5L\",\"5L - 10L\",\"More than 15L\",\"More than 15L\",\"Less than 5L\",\"More than 15L\",\"5L - 10L\",\"More than 15L\",\"10L - 15L\",\"Less than 5L\",\"Less than 5L\",\"10L - 15L\",\"Less than 5L\",\"10L - 15L\",\"10L - 15L\",\"10L - 15L\",\"More than 15L\",\"More than 15L\",\"10L - 15L\",\"10L - 15L\",\"10L - 15L\",\"More than 15L\",\"10L - 15L\",\"10L - 15L\",\"More than 15L\",\"More than 15L\",\"5L - 10L\",\"5L - 10L\",\"5L - 10L\",\"More than 15L\",\"Less than 5L\",\"10L - 15L\",\"Less than 5L\",\"Less than 5L\",\"5L - 10L\",\"Less than 5L\",\"10L - 15L\",\"Less than 5L\",\"More than 15L\",\"10L - 15L\",\"Less than 5L\",\"10L - 15L\",\"Less than 5L\",\"5L - 10L\",\"5L - 10L\",\"10L - 15L\",\"5L - 10L\",\"Less than 5L\",\"10L - 15L\",\"More than 15L\",\"5L - 10L\",\"More than 15L\",\"More than 15L\",\"More than 15L\",\"10L - 15L\",\"5L - 10L\",\"5L - 10L\",\"10L - 15L\",\"5L - 10L\",\"5L - 10L\",\"5L - 10L\",\"5L - 10L\",\"More than 15L\",\"More than 15L\",\"More than 15L\",\"5L - 10L\",\"10L - 15L\",\"10L - 15L\",\"More than 15L\",\"More than 15L\",\"5L - 10L\",\"5L - 10L\",\"5L - 10L\",\"10L - 15L\",\"More than 15L\",\"10L - 15L\",\"10L - 15L\",\"10L - 15L\",\"Less than 5L\",\"5L - 10L\",\"5L - 10L\",\"10L - 15L\",\"Less than 5L\",\"More than 15L\",\"More than 15L\",\"More than 15L\",\"Less than 5L\",\"10L - 15L\",\"5L - 10L\",\"5L - 10L\",\"10L - 15L\",\"More than 15L\",\"5L - 10L\",\"10L - 15L\",\"5L - 10L\",\"Less than 5L\",\"Less than 5L\",\"Less than 5L\",\"10L - 15L\",\"Less than 5L\",\"More than 15L\",\"10L - 15L\",\"5L - 10L\",\"Less than 5L\",\"More than 15L\",\"Less than 5L\",\"5L - 10L\",\"Less than 5L\",\"10L - 15L\",\"10L - 15L\",\"More than 15L\",\"5L - 10L\",\"Less than 5L\",\"10L - 15L\",\"5L - 10L\",\"More than 15L\",\"10L - 15L\",\"5L - 10L\",\"5L - 10L\",\"Less than 5L\",\"Less than 5L\",\"More than 15L\",\"More than 15L\",\"10L - 15L\",\"More than 15L\",\"10L - 15L\",\"More than 15L\",\"5L - 10L\",\"5L - 10L\",\"10L - 15L\",\"More than 15L\",\"10L - 15L\",\"5L - 10L\",\"5L - 10L\",\"Less than 5L\",\"Less than 5L\",\"More than 15L\",\"Less than 5L\",\"5L - 10L\",\"Less than 5L\",\"5L - 10L\",\"More than 15L\",\"10L - 15L\",\"More than 15L\",\"5L - 10L\",\"5L - 10L\",\"5L - 10L\",\"5L - 10L\",\"5L - 10L\",\"Less than 5L\",\"Less than 5L\",\"5L - 10L\",\"10L - 15L\",\"Less than 5L\",\"10L - 15L\",\"Less than 5L\",\"More than 15L\",\"More than 15L\",\"More than 15L\",\"10L - 15L\",\"Less than 5L\",\"10L - 15L\",\"10L - 15L\",\"More than 15L\",\"10L - 15L\",\"Less than 5L\",\"5L - 10L\",\"5L - 10L\",\"10L - 15L\",\"5L - 10L\",\"More than 15L\",\"10L - 15L\",\"5L - 10L\",\"10L - 15L\",\"10L - 15L\",\"Less than 5L\",\"More than 15L\",\"5L - 10L\",\"5L - 10L\",\"10L - 15L\",\"10L - 15L\",\"5L - 10L\",\"Less than 5L\",\"10L - 15L\",\"More than 15L\",\"10L - 15L\",\"More than 15L\",\"5L - 10L\",\"More than 15L\",\"More than 15L\",\"Less than 5L\",\"5L - 10L\",\"Less than 5L\",\"5L - 10L\",\"More than 15L\",\"More than 15L\",\"10L - 15L\",\"10L - 15L\",\"10L - 15L\",\"10L - 15L\",\"5L - 10L\",\"10L - 15L\",\"5L - 10L\",\"5L - 10L\",\"10L - 15L\",\"10L - 15L\",\"Less than 5L\",\"Less than 5L\",\"5L - 10L\",\"Less than 5L\",\"5L - 10L\",\"10L - 15L\",\"5L - 10L\",\"Less than 5L\",\"5L - 10L\",\"Less than 5L\",\"Less than 5L\",\"5L - 10L\",\"Less than 5L\",\"More than 15L\",\"5L - 10L\",\"5L - 10L\",\"10L - 15L\",\"More than 15L\",\"Less than 5L\",\"10L - 15L\",\"10L - 15L\",\"More than 15L\",\"More than 15L\",\"10L - 15L\",\"Less than 5L\",\"5L - 10L\",\"5L - 10L\",\"10L - 15L\",\"10L - 15L\",\"Less than 5L\",\"Less than 5L\",\"Less than 5L\",\"5L - 10L\",\"Less than 5L\",\"10L - 15L\",\"More than 15L\",\"Less than 5L\",\"5L - 10L\",\"5L - 10L\",\"10L - 15L\",\"More than 15L\",\"10L - 15L\",\"Less than 5L\",\"Less than 5L\",\"5L - 10L\",\"5L - 10L\",\"Less than 5L\",\"Less than 5L\",\"5L - 10L\",\"Less than 5L\",\"Less than 5L\",\"5L - 10L\",\"10L - 15L\",\"10L - 15L\",\"10L - 15L\",\"Less than 5L\",\"Less than 5L\",\"More than 15L\",\"More than 15L\",\"10L - 15L\",\"5L - 10L\",\"5L - 10L\",\"Less than 5L\",\"More than 15L\",\"10L - 15L\",\"Less than 5L\",\"10L - 15L\",\"10L - 15L\",\"5L - 10L\",\"Less than 5L\",\"5L - 10L\",\"10L - 15L\",\"10L - 15L\",\"Less than 5L\",\"More than 15L\",\"5L - 10L\",\"5L - 10L\",\"Less than 5L\",\"Less than 5L\",\"More than 15L\",\"10L - 15L\",\"10L - 15L\",\"10L - 15L\",\"5L - 10L\",\"10L - 15L\",\"10L - 15L\",\"10L - 15L\",\"Less than 5L\",\"10L - 15L\",\"10L - 15L\",\"5L - 10L\",\"5L - 10L\",\"10L - 15L\",\"More than 15L\",\"10L - 15L\",\"5L - 10L\",\"10L - 15L\",\"10L - 15L\",\"Less than 5L\",\"Less than 5L\",\"5L - 10L\",\"Less than 5L\",\"5L - 10L\",\"10L - 15L\",\"More than 15L\",\"More than 15L\",\"More than 15L\",\"More than 15L\",\"5L - 10L\",\"5L - 10L\",\"10L - 15L\",\"Less than 5L\",\"Less than 5L\",\"More than 15L\",\"More than 15L\",\"More than 15L\",\"5L - 10L\",\"More than 15L\",\"Less than 5L\",\"Less than 5L\",\"10L - 15L\",\"More than 15L\",\"Less than 5L\",\"10L - 15L\",\"10L - 15L\",\"5L - 10L\",\"5L - 10L\",\"Less than 5L\",\"Less than 5L\",\"10L - 15L\",\"10L - 15L\",\"10L - 15L\",\"More than 15L\",\"Less than 5L\",\"Less than 5L\",\"5L - 10L\",\"5L - 10L\",\"10L - 15L\",\"More than 15L\",\"More than 15L\",\"5L - 10L\",\"Less than 5L\",\"5L - 10L\",\"5L - 10L\",\"Less than 5L\",\"10L - 15L\",\"More than 15L\",\"5L - 10L\",\"5L - 10L\",\"More than 15L\",\"Less than 5L\",\"10L - 15L\",\"More than 15L\",\"More than 15L\",\"5L - 10L\",\"10L - 15L\",\"5L - 10L\",\"10L - 15L\",\"Less than 5L\",\"5L - 10L\",\"More than 15L\",\"Less than 5L\",\"More than 15L\",\"5L - 10L\",\"More than 15L\",\"5L - 10L\",\"Less than 5L\",\"10L - 15L\",\"10L - 15L\",\"10L - 15L\",\"5L - 10L\",\"Less than 5L\",\"5L - 10L\",\"5L - 10L\",\"Less than 5L\",\"More than 15L\",\"10L - 15L\",\"5L - 10L\",\"5L - 10L\",\"More than 15L\",\"Less than 5L\",\"Less than 5L\",\"Less than 5L\",\"Less than 5L\",\"More than 15L\",\"5L - 10L\",\"5L - 10L\",\"5L - 10L\",\"10L - 15L\",\"Less than 5L\",\"More than 15L\",\"5L - 10L\",\"10L - 15L\",\"5L - 10L\",\"More than 15L\",\"5L - 10L\",\"More than 15L\",\"Less than 5L\",\"More than 15L\",\"5L - 10L\",\"Less than 5L\",\"5L - 10L\",\"10L - 15L\",\"5L - 10L\",\"5L - 10L\",\"Less than 5L\",\"More than 15L\",\"More than 15L\",\"5L - 10L\",\"Less than 5L\",\"More than 15L\",\"Less than 5L\",\"5L - 10L\",\"Less than 5L\",\"More than 15L\",\"More than 15L\",\"5L - 10L\",\"5L - 10L\",\"Less than 5L\",\"Less than 5L\",\"10L - 15L\",\"5L - 10L\",\"More than 15L\",\"Less than 5L\",\"5L - 10L\",\"Less than 5L\",\"More than 15L\",\"10L - 15L\",\"More than 15L\",\"5L - 10L\",\"More than 15L\",\"5L - 10L\",\"5L - 10L\",\"10L - 15L\",\"More than 15L\",\"10L - 15L\",\"Less than 5L\",\"10L - 15L\",\"5L - 10L\",\"Less than 5L\",\"5L - 10L\",\"10L - 15L\",\"10L - 15L\",\"10L - 15L\",\"5L - 10L\",\"5L - 10L\",\"More than 15L\",\"5L - 10L\",\"Less than 5L\",\"5L - 10L\",\"Less than 5L\",\"Less than 5L\",\"5L - 10L\",\"5L - 10L\",\"More than 15L\",\"5L - 10L\",\"10L - 15L\",\"More than 15L\",\"More than 15L\",\"More than 15L\",\"Less than 5L\",\"Less than 5L\",\"More than 15L\",\"10L - 15L\",\"10L - 15L\",\"Less than 5L\",\"Less than 5L\",\"More than 15L\",\"5L - 10L\",\"Less than 5L\",\"5L - 10L\",\"Less than 5L\",\"5L - 10L\",\"10L - 15L\",\"Less than 5L\",\"10L - 15L\",\"Less than 5L\",\"10L - 15L\",\"Less than 5L\",\"5L - 10L\",\"Less than 5L\",\"10L - 15L\",\"Less than 5L\",\"5L - 10L\",\"10L - 15L\",\"Less than 5L\",\"More than 15L\",\"Less than 5L\",\"5L - 10L\",\"10L - 15L\",\"5L - 10L\",\"10L - 15L\",\"5L - 10L\",\"10L - 15L\",\"10L - 15L\",\"Less than 5L\",\"5L - 10L\",\"10L - 15L\",\"10L - 15L\",\"5L - 10L\",\"5L - 10L\",\"10L - 15L\",\"10L - 15L\",\"Less than 5L\",\"10L - 15L\",\"10L - 15L\",\"10L - 15L\",\"5L - 10L\",\"5L - 10L\",\"More than 15L\",\"10L - 15L\",\"More than 15L\",\"5L - 10L\",\"Less than 5L\",\"More than 15L\",\"10L - 15L\",\"More than 15L\",\"10L - 15L\",\"Less than 5L\",\"10L - 15L\",\"5L - 10L\",\"Less than 5L\",\"10L - 15L\",\"More than 15L\",\"10L - 15L\",\"10L - 15L\",\"5L - 10L\",\"Less than 5L\",\"10L - 15L\",\"5L - 10L\",\"10L - 15L\",\"Less than 5L\",\"Less than 5L\",\"5L - 10L\",\"Less than 5L\",\"5L - 10L\",\"Less than 5L\",\"5L - 10L\",\"More than 15L\",\"More than 15L\",\"5L - 10L\",\"Less than 5L\",\"More than 15L\",\"Less than 5L\",\"10L - 15L\",\"10L - 15L\",\"Less than 5L\",\"More than 15L\",\"Less than 5L\",\"5L - 10L\",\"5L - 10L\",\"5L - 10L\",\"5L - 10L\",\"More than 15L\",\"5L - 10L\",\"10L - 15L\",\"10L - 15L\",\"10L - 15L\",\"More than 15L\",\"5L - 10L\",\"More than 15L\",\"Less than 5L\",\"More than 15L\",\"10L - 15L\",\"10L - 15L\",\"5L - 10L\",\"10L - 15L\",\"10L - 15L\",\"10L - 15L\",\"Less than 5L\",\"More than 15L\",\"5L - 10L\",\"Less than 5L\",\"10L - 15L\",\"5L - 10L\",\"10L - 15L\",\"10L - 15L\",\"10L - 15L\",\"More than 15L\",\"Less than 5L\",\"Less than 5L\",\"5L - 10L\",\"5L - 10L\",\"Less than 5L\",\"More than 15L\",\"10L - 15L\",\"Less than 5L\",\"5L - 10L\",\"5L - 10L\",\"More than 15L\",\"More than 15L\",\"More than 15L\",\"10L - 15L\",\"10L - 15L\",\"More than 15L\",\"10L - 15L\",\"More than 15L\",\"More than 15L\",\"10L - 15L\",\"Less than 5L\",\"10L - 15L\",\"5L - 10L\",\"More than 15L\",\"Less than 5L\",\"10L - 15L\",\"5L - 10L\",\"Less than 5L\",\"10L - 15L\",\"More than 15L\",\"More than 15L\",\"10L - 15L\",\"Less than 5L\",\"5L - 10L\",\"5L - 10L\",\"10L - 15L\",\"10L - 15L\",\"10L - 15L\",\"5L - 10L\",\"More than 15L\",\"More than 15L\",\"5L - 10L\",\"More than 15L\",\"5L - 10L\",\"5L - 10L\",\"More than 15L\",\"10L - 15L\",\"10L - 15L\",\"5L - 10L\",\"5L - 10L\",\"5L - 10L\",\"5L - 10L\",\"10L - 15L\",\"5L - 10L\",\"10L - 15L\",\"More than 15L\",\"Less than 5L\",\"More than 15L\",\"More than 15L\",\"10L - 15L\",\"5L - 10L\",\"Less than 5L\",\"Less than 5L\",\"10L - 15L\",\"5L - 10L\",\"5L - 10L\",\"Less than 5L\",\"10L - 15L\",\"10L - 15L\",\"10L - 15L\",\"Less than 5L\",\"Less than 5L\",\"5L - 10L\",\"Less than 5L\",\"10L - 15L\",\"Less than 5L\",\"More than 15L\",\"10L - 15L\",\"5L - 10L\",\"10L - 15L\",\"Less than 5L\",\"5L - 10L\",\"Less than 5L\",\"10L - 15L\",\"10L - 15L\",\"5L - 10L\",\"More than 15L\",\"5L - 10L\",\"More than 15L\",\"5L - 10L\",\"Less than 5L\",\"10L - 15L\",\"10L - 15L\",\"5L - 10L\",\"5L - 10L\",\"10L - 15L\",\"5L - 10L\",\"5L - 10L\",\"Less than 5L\",\"Less than 5L\",\"5L - 10L\",\"Less than 5L\",\"Less than 5L\",\"10L - 15L\",\"More than 15L\",\"5L - 10L\",\"5L - 10L\",\"Less than 5L\",\"5L - 10L\",\"10L - 15L\",\"Less than 5L\",\"More than 15L\",\"Less than 5L\",\"More than 15L\",\"More than 15L\",\"10L - 15L\",\"More than 15L\",\"5L - 10L\",\"Less than 5L\",\"5L - 10L\",\"5L - 10L\",\"10L - 15L\",\"5L - 10L\",\"10L - 15L\",\"5L - 10L\",\"5L - 10L\",\"10L - 15L\",\"5L - 10L\",\"More than 15L\",\"10L - 15L\",\"10L - 15L\",\"More than 15L\",\"5L - 10L\",\"5L - 10L\",\"Less than 5L\",\"10L - 15L\",\"Less than 5L\",\"More than 15L\",\"5L - 10L\",\"10L - 15L\",\"Less than 5L\",\"10L - 15L\",\"More than 15L\",\"5L - 10L\",\"5L - 10L\",\"Less than 5L\",\"Less than 5L\",\"5L - 10L\",\"Less than 5L\",\"Less than 5L\",\"More than 15L\",\"5L - 10L\",\"More than 15L\",\"5L - 10L\",\"5L - 10L\",\"5L - 10L\",\"10L - 15L\",\"10L - 15L\",\"10L - 15L\",\"10L - 15L\",\"5L - 10L\",\"10L - 15L\",\"5L - 10L\",\"Less than 5L\",\"5L - 10L\",\"Less than 5L\",\"More than 15L\",\"10L - 15L\",\"5L - 10L\",\"More than 15L\",\"Less than 5L\",\"10L - 15L\",\"More than 15L\",\"10L - 15L\",\"10L - 15L\",\"5L - 10L\",\"10L - 15L\",\"Less than 5L\",\"Less than 5L\",\"5L - 10L\",\"5L - 10L\",\"5L - 10L\",\"5L - 10L\",\"10L - 15L\",\"More than 15L\",\"10L - 15L\",\"5L - 10L\",\"More than 15L\",\"Less than 5L\",\"10L - 15L\",\"Less than 5L\",\"5L - 10L\",\"5L - 10L\",\"Less than 5L\",\"Less than 5L\",\"More than 15L\",\"Less than 5L\",\"5L - 10L\",\"5L - 10L\",\"10L - 15L\",\"5L - 10L\",\"Less than 5L\",\"5L - 10L\",\"Less than 5L\",\"10L - 15L\",\"5L - 10L\",\"10L - 15L\",\"Less than 5L\",\"5L - 10L\",\"10L - 15L\",\"More than 15L\",\"Less than 5L\",\"10L - 15L\",\"5L - 10L\",\"Less than 5L\",\"Less than 5L\",\"10L - 15L\",\"More than 15L\",\"5L - 10L\",\"More than 15L\",\"10L - 15L\",\"10L - 15L\",\"More than 15L\",\"Less than 5L\",\"10L - 15L\",\"More than 15L\",\"Less than 5L\",\"More than 15L\",\"More than 15L\",\"Less than 5L\",\"5L - 10L\",\"10L - 15L\",\"More than 15L\",\"10L - 15L\",\"5L - 10L\",\"Less than 5L\",\"More than 15L\",\"10L - 15L\",\"10L - 15L\",\"More than 15L\",\"Less than 5L\",\"10L - 15L\",\"5L - 10L\",\"10L - 15L\",\"10L - 15L\",\"More than 15L\",\"10L - 15L\",\"10L - 15L\",\"Less than 5L\",\"More than 15L\",\"More than 15L\",\"Less than 5L\",\"5L - 10L\",\"10L - 15L\",\"5L - 10L\",\"5L - 10L\",\"10L - 15L\",\"5L - 10L\",\"10L - 15L\",\"5L - 10L\",\"10L - 15L\",\"More than 15L\",\"10L - 15L\",\"Less than 5L\",\"5L - 10L\",\"5L - 10L\",\"Less than 5L\",\"10L - 15L\",\"5L - 10L\",\"Less than 5L\",\"5L - 10L\",\"10L - 15L\",\"10L - 15L\",\"Less than 5L\",\"5L - 10L\",\"Less than 5L\",\"5L - 10L\",\"More than 15L\",\"5L - 10L\",\"10L - 15L\",\"Less than 5L\",\"Less than 5L\",\"5L - 10L\",\"5L - 10L\",\"Less than 5L\",\"Less than 5L\",\"10L - 15L\",\"5L - 10L\",\"More than 15L\",\"10L - 15L\",\"Less than 5L\",\"5L - 10L\",\"More than 15L\",\"More than 15L\",\"10L - 15L\",\"More than 15L\",\"5L - 10L\",\"5L - 10L\",\"More than 15L\",\"10L - 15L\",\"5L - 10L\",\"10L - 15L\",\"10L - 15L\",\"10L - 15L\",\"More than 15L\",\"More than 15L\",\"5L - 10L\",\"10L - 15L\",\"Less than 5L\",\"5L - 10L\",\"10L - 15L\",\"Less than 5L\",\"10L - 15L\",\"More than 15L\",\"10L - 15L\",\"5L - 10L\",\"10L - 15L\",\"5L - 10L\",\"10L - 15L\",\"Less than 5L\",\"More than 15L\",\"10L - 15L\",\"More than 15L\",\"5L - 10L\",\"Less than 5L\",\"10L - 15L\",\"10L - 15L\",\"10L - 15L\",\"10L - 15L\",\"Less than 5L\",\"10L - 15L\",\"5L - 10L\",\"5L - 10L\",\"More than 15L\",\"5L - 10L\",\"Less than 5L\",\"5L - 10L\",\"Less than 5L\",\"More than 15L\",\"More than 15L\",\"10L - 15L\",\"5L - 10L\",\"10L - 15L\",\"10L - 15L\",\"10L - 15L\",\"10L - 15L\",\"Less than 5L\",\"More than 15L\",\"More than 15L\",\"10L - 15L\",\"More than 15L\",\"More than 15L\",\"10L - 15L\",\"10L - 15L\",\"5L - 10L\",\"5L - 10L\",\"Less than 5L\",\"10L - 15L\",\"5L - 10L\",\"5L - 10L\",\"10L - 15L\",\"Less than 5L\",\"10L - 15L\",\"5L - 10L\",\"5L - 10L\",\"More than 15L\",\"5L - 10L\",\"10L - 15L\",\"5L - 10L\",\"5L - 10L\",\"5L - 10L\",\"More than 15L\",\"Less than 5L\",\"More than 15L\",\"Less than 5L\",\"10L - 15L\",\"More than 15L\",\"10L - 15L\",\"Less than 5L\",\"More than 15L\",\"10L - 15L\",\"10L - 15L\",\"Less than 5L\",\"Less than 5L\",\"5L - 10L\",\"10L - 15L\",\"Less than 5L\",\"10L - 15L\",\"More than 15L\",\"10L - 15L\",\"More than 15L\",\"Less than 5L\",\"5L - 10L\",\"5L - 10L\",\"More than 15L\",\"Less than 5L\",\"5L - 10L\",\"5L - 10L\",\"10L - 15L\",\"5L - 10L\",\"5L - 10L\",\"10L - 15L\",\"10L - 15L\",\"10L - 15L\",\"More than 15L\",\"Less than 5L\",\"Less than 5L\",\"5L - 10L\",\"10L - 15L\",\"5L - 10L\",\"5L - 10L\",\"5L - 10L\",\"5L - 10L\",\"5L - 10L\",\"Less than 5L\",\"Less than 5L\",\"More than 15L\",\"More than 15L\",\"More than 15L\",\"More than 15L\",\"10L - 15L\",\"10L - 15L\",\"5L - 10L\",\"10L - 15L\",\"More than 15L\",\"10L - 15L\",\"More than 15L\",\"5L - 10L\",\"Less than 5L\",\"More than 15L\",\"5L - 10L\",\"5L - 10L\",\"10L - 15L\",\"Less than 5L\",\"Less than 5L\",\"More than 15L\",\"Less than 5L\",\"Less than 5L\",\"5L - 10L\",\"5L - 10L\",\"More than 15L\",\"More than 15L\",\"More than 15L\",\"Less than 5L\",\"Less than 5L\",\"More than 15L\",\"More than 15L\",\"5L - 10L\",\"More than 15L\",\"10L - 15L\",\"5L - 10L\",\"10L - 15L\",\"More than 15L\",\"5L - 10L\",\"5L - 10L\",\"10L - 15L\",\"Less than 5L\",\"5L - 10L\",\"5L - 10L\",\"10L - 15L\",\"Less than 5L\",\"More than 15L\",\"10L - 15L\",\"Less than 5L\",\"Less than 5L\",\"10L - 15L\",\"10L - 15L\",\"10L - 15L\",\"10L - 15L\",\"Less than 5L\",\"Less than 5L\",\"5L - 10L\",\"Less than 5L\",\"5L - 10L\",\"More than 15L\",\"5L - 10L\",\"Less than 5L\",\"Less than 5L\",\"5L - 10L\",\"Less than 5L\",\"5L - 10L\",\"5L - 10L\",\"5L - 10L\",\"Less than 5L\",\"10L - 15L\",\"Less than 5L\",\"5L - 10L\",\"More than 15L\",\"5L - 10L\",\"Less than 5L\",\"More than 15L\",\"10L - 15L\",\"10L - 15L\",\"10L - 15L\",\"5L - 10L\",\"5L - 10L\",\"5L - 10L\",\"5L - 10L\",\"Less than 5L\",\"5L - 10L\",\"Less than 5L\",\"5L - 10L\",\"Less than 5L\",\"10L - 15L\",\"5L - 10L\",\"Less than 5L\",\"10L - 15L\",\"More than 15L\",\"More than 15L\",\"More than 15L\",\"5L - 10L\",\"10L - 15L\",\"10L - 15L\",\"5L - 10L\",\"10L - 15L\",\"5L - 10L\",\"More than 15L\",\"More than 15L\",\"10L - 15L\",\"10L - 15L\",\"5L - 10L\",\"More than 15L\",\"5L - 10L\",\"More than 15L\",\"5L - 10L\",\"10L - 15L\",\"More than 15L\",\"5L - 10L\",\"10L - 15L\",\"10L - 15L\",\"10L - 15L\",\"5L - 10L\",\"Less than 5L\",\"5L - 10L\",\"10L - 15L\",\"5L - 10L\",\"5L - 10L\",\"Less than 5L\",\"5L - 10L\",\"10L - 15L\",\"10L - 15L\",\"More than 15L\",\"Less than 5L\",\"5L - 10L\",\"Less than 5L\",\"5L - 10L\",\"5L - 10L\",\"More than 15L\",\"5L - 10L\",\"10L - 15L\",\"5L - 10L\",\"Less than 5L\",\"10L - 15L\",\"10L - 15L\",\"More than 15L\",\"More than 15L\",\"10L - 15L\",\"More than 15L\",\"10L - 15L\",\"5L - 10L\",\"10L - 15L\",\"5L - 10L\",\"5L - 10L\",\"5L - 10L\",\"5L - 10L\",\"Less than 5L\",\"10L - 15L\",\"5L - 10L\",\"More than 15L\",\"Less than 5L\",\"5L - 10L\",\"Less than 5L\",\"Less than 5L\",\"More than 15L\",\"More than 15L\",\"5L - 10L\",\"10L - 15L\",\"5L - 10L\",\"5L - 10L\",\"5L - 10L\",\"10L - 15L\",\"Less than 5L\",\"Less than 5L\",\"More than 15L\",\"5L - 10L\",\"10L - 15L\",\"10L - 15L\",\"10L - 15L\",\"Less than 5L\",\"10L - 15L\",\"5L - 10L\",\"Less than 5L\",\"10L - 15L\",\"5L - 10L\",\"10L - 15L\",\"10L - 15L\",\"Less than 5L\",\"5L - 10L\",\"5L - 10L\",\"More than 15L\",\"5L - 10L\",\"10L - 15L\",\"10L - 15L\",\"10L - 15L\",\"5L - 10L\",\"Less than 5L\",\"Less than 5L\",\"5L - 10L\",\"5L - 10L\",\"10L - 15L\",\"Less than 5L\",\"5L - 10L\",\"5L - 10L\",\"5L - 10L\",\"10L - 15L\",\"Less than 5L\",\"Less than 5L\",\"5L - 10L\",\"Less than 5L\",\"10L - 15L\",\"Less than 5L\",\"More than 15L\",\"10L - 15L\",\"10L - 15L\",\"More than 15L\",\"10L - 15L\",\"5L - 10L\",\"More than 15L\",\"Less than 5L\",\"10L - 15L\",\"Less than 5L\",\"10L - 15L\",\"5L - 10L\",\"More than 15L\",\"5L - 10L\",\"10L - 15L\",\"5L - 10L\",\"10L - 15L\",\"10L - 15L\",\"More than 15L\",\"10L - 15L\",\"Less than 5L\",\"10L - 15L\",\"5L - 10L\",\"5L - 10L\",\"Less than 5L\",\"More than 15L\",\"10L - 15L\",\"5L - 10L\",\"Less than 5L\",\"More than 15L\",\"10L - 15L\",\"10L - 15L\",\"10L - 15L\",\"5L - 10L\",\"5L - 10L\",\"More than 15L\",\"10L - 15L\",\"10L - 15L\",\"5L - 10L\",\"Less than 5L\",\"5L - 10L\",\"More than 15L\",\"10L - 15L\",\"More than 15L\",\"5L - 10L\",\"More than 15L\",\"More than 15L\",\"10L - 15L\",\"5L - 10L\",\"Less than 5L\",\"5L - 10L\",\"10L - 15L\",\"10L - 15L\",\"Less than 5L\",\"More than 15L\",\"Less than 5L\",\"10L - 15L\",\"Less than 5L\",\"5L - 10L\",\"Less than 5L\",\"More than 15L\",\"5L - 10L\",\"More than 15L\",\"10L - 15L\",\"More than 15L\",\"More than 15L\",\"Less than 5L\",\"5L - 10L\",\"Less than 5L\",\"Less than 5L\",\"More than 15L\",\"More than 15L\",\"5L - 10L\",\"More than 15L\",\"More than 15L\",\"10L - 15L\",\"10L - 15L\",\"10L - 15L\",\"5L - 10L\",\"10L - 15L\",\"Less than 5L\",\"Less than 5L\",\"More than 15L\",\"5L - 10L\",\"5L - 10L\",\"5L - 10L\",\"10L - 15L\",\"Less than 5L\",\"10L - 15L\",\"More than 15L\",\"More than 15L\",\"10L - 15L\",\"5L - 10L\",\"Less than 5L\",\"10L - 15L\",\"5L - 10L\",\"5L - 10L\",\"Less than 5L\",\"5L - 10L\",\"Less than 5L\",\"5L - 10L\",\"5L - 10L\",\"Less than 5L\",\"More than 15L\",\"Less than 5L\",\"10L - 15L\",\"10L - 15L\",\"More than 15L\",\"Less than 5L\",\"Less than 5L\",\"Less than 5L\",\"Less than 5L\",\"5L - 10L\",\"5L - 10L\",\"Less than 5L\",\"5L - 10L\",\"5L - 10L\",\"Less than 5L\",\"5L - 10L\",\"5L - 10L\",\"Less than 5L\",\"More than 15L\",\"Less than 5L\",\"10L - 15L\",\"Less than 5L\",\"5L - 10L\",\"5L - 10L\",\"5L - 10L\",\"5L - 10L\",\"10L - 15L\",\"10L - 15L\",\"More than 15L\",\"Less than 5L\",\"5L - 10L\",\"More than 15L\",\"Less than 5L\",\"Less than 5L\",\"10L - 15L\",\"5L - 10L\",\"Less than 5L\",\"10L - 15L\",\"10L - 15L\",\"5L - 10L\",\"More than 15L\",\"5L - 10L\",\"10L - 15L\",\"Less than 5L\",\"5L - 10L\",\"5L - 10L\",\"More than 15L\",\"5L - 10L\",\"10L - 15L\",\"More than 15L\",\"5L - 10L\",\"10L - 15L\",\"More than 15L\",\"5L - 10L\",\"5L - 10L\",\"More than 15L\",\"More than 15L\",\"More than 15L\",\"More than 15L\",\"More than 15L\",\"10L - 15L\",\"10L - 15L\",\"10L - 15L\",\"More than 15L\",\"5L - 10L\",\"5L - 10L\",\"10L - 15L\",\"5L - 10L\",\"Less than 5L\",\"10L - 15L\",\"Less than 5L\",\"More than 15L\",\"More than 15L\",\"More than 15L\",\"10L - 15L\",\"Less than 5L\",\"Less than 5L\",\"10L - 15L\",\"Less than 5L\",\"10L - 15L\",\"More than 15L\",\"More than 15L\",\"5L - 10L\",\"More than 15L\",\"More than 15L\",\"5L - 10L\",\"Less than 5L\",\"10L - 15L\",\"5L - 10L\",\"Less than 5L\",\"More than 15L\",\"5L - 10L\",\"Less than 5L\",\"More than 15L\",\"10L - 15L\",\"10L - 15L\",\"Less than 5L\",\"More than 15L\",\"10L - 15L\",\"More than 15L\",\"5L - 10L\",\"Less than 5L\",\"10L - 15L\",\"10L - 15L\",\"Less than 5L\",\"5L - 10L\",\"10L - 15L\",\"5L - 10L\",\"Less than 5L\",\"10L - 15L\",\"More than 15L\",\"5L - 10L\",\"More than 15L\",\"5L - 10L\",\"Less than 5L\",\"10L - 15L\",\"More than 15L\",\"5L - 10L\",\"5L - 10L\",\"10L - 15L\",\"5L - 10L\",\"Less than 5L\",\"5L - 10L\",\"5L - 10L\",\"Less than 5L\",\"More than 15L\",\"More than 15L\",\"More than 15L\",\"Less than 5L\",\"10L - 15L\",\"10L - 15L\",\"10L - 15L\",\"More than 15L\",\"10L - 15L\",\"Less than 5L\",\"5L - 10L\",\"Less than 5L\",\"5L - 10L\",\"10L - 15L\",\"More than 15L\",\"10L - 15L\",\"5L - 10L\",\"10L - 15L\",\"10L - 15L\",\"Less than 5L\",\"More than 15L\",\"More than 15L\",\"5L - 10L\",\"5L - 10L\",\"10L - 15L\",\"10L - 15L\",\"10L - 15L\",\"10L - 15L\",\"5L - 10L\",\"10L - 15L\",\"5L - 10L\",\"More than 15L\",\"5L - 10L\",\"Less than 5L\",\"10L - 15L\",\"Less than 5L\",\"More than 15L\",\"More than 15L\",\"5L - 10L\",\"10L - 15L\",\"Less than 5L\",\"5L - 10L\",\"Less than 5L\",\"More than 15L\",\"5L - 10L\",\"10L - 15L\",\"10L - 15L\",\"More than 15L\",\"10L - 15L\",\"More than 15L\",\"5L - 10L\",\"10L - 15L\",\"5L - 10L\",\"10L - 15L\",\"10L - 15L\",\"Less than 5L\",\"10L - 15L\",\"5L - 10L\",\"10L - 15L\",\"10L - 15L\",\"5L - 10L\",\"Less than 5L\",\"5L - 10L\",\"5L - 10L\",\"Less than 5L\",\"More than 15L\",\"5L - 10L\",\"10L - 15L\",\"5L - 10L\",\"10L - 15L\",\"5L - 10L\",\"10L - 15L\",\"10L - 15L\",\"10L - 15L\",\"Less than 5L\",\"10L - 15L\",\"More than 15L\",\"5L - 10L\",\"10L - 15L\",\"More than 15L\",\"Less than 5L\",\"More than 15L\",\"Less than 5L\",\"Less than 5L\",\"More than 15L\",\"5L - 10L\",\"Less than 5L\",\"10L - 15L\",\"Less than 5L\",\"5L - 10L\",\"5L - 10L\",\"10L - 15L\",\"5L - 10L\",\"Less than 5L\",\"Less than 5L\",\"10L - 15L\",\"10L - 15L\",\"Less than 5L\",\"10L - 15L\",\"10L - 15L\",\"5L - 10L\",\"10L - 15L\",\"More than 15L\",\"5L - 10L\",\"5L - 10L\",\"10L - 15L\",\"More than 15L\",\"10L - 15L\",\"10L - 15L\",\"Less than 5L\",\"10L - 15L\",\"Less than 5L\",\"More than 15L\",\"5L - 10L\",\"More than 15L\",\"Less than 5L\",\"10L - 15L\",\"5L - 10L\",\"10L - 15L\",\"Less than 5L\",\"More than 15L\",\"Less than 5L\",\"More than 15L\",\"5L - 10L\",\"Less than 5L\",\"10L - 15L\",\"10L - 15L\",\"Less than 5L\",\"5L - 10L\",\"Less than 5L\",\"10L - 15L\",\"5L - 10L\",\"5L - 10L\",\"5L - 10L\",\"5L - 10L\",\"5L - 10L\",\"10L - 15L\",\"Less than 5L\",\"10L - 15L\",\"More than 15L\",\"Less than 5L\",\"Less than 5L\",\"More than 15L\",\"More than 15L\",\"Less than 5L\",\"10L - 15L\",\"10L - 15L\",\"Less than 5L\",\"Less than 5L\",\"Less than 5L\",\"More than 15L\",\"Less than 5L\",\"5L - 10L\",\"Less than 5L\",\"Less than 5L\",\"Less than 5L\",\"More than 15L\",\"Less than 5L\",\"10L - 15L\",\"Less than 5L\",\"More than 15L\",\"More than 15L\",\"More than 15L\",\"5L - 10L\",\"Less than 5L\",\"Less than 5L\",\"5L - 10L\",\"More than 15L\",\"10L - 15L\",\"More than 15L\",\"More than 15L\",\"10L - 15L\",\"5L - 10L\",\"5L - 10L\",\"5L - 10L\",\"Less than 5L\",\"5L - 10L\",\"10L - 15L\",\"5L - 10L\",\"10L - 15L\",\"10L - 15L\",\"5L - 10L\",\"10L - 15L\",\"More than 15L\",\"Less than 5L\",\"More than 15L\",\"10L - 15L\",\"5L - 10L\",\"5L - 10L\",\"10L - 15L\",\"10L - 15L\",\"Less than 5L\",\"Less than 5L\",\"More than 15L\",\"5L - 10L\",\"Less than 5L\",\"Less than 5L\",\"Less than 5L\",\"Less than 5L\",\"5L - 10L\",\"10L - 15L\",\"More than 15L\",\"10L - 15L\",\"More than 15L\",\"10L - 15L\",\"Less than 5L\",\"5L - 10L\",\"10L - 15L\",\"10L - 15L\",\"More than 15L\",\"More than 15L\",\"10L - 15L\",\"5L - 10L\",\"5L - 10L\",\"10L - 15L\",\"Less than 5L\",\"5L - 10L\",\"Less than 5L\",\"More than 15L\",\"Less than 5L\",\"More than 15L\",\"Less than 5L\",\"10L - 15L\",\"10L - 15L\",\"Less than 5L\",\"Less than 5L\",\"5L - 10L\",\"5L - 10L\",\"Less than 5L\",\"5L - 10L\",\"5L - 10L\",\"5L - 10L\",\"More than 15L\",\"10L - 15L\",\"More than 15L\",\"5L - 10L\",\"10L - 15L\",\"More than 15L\",\"5L - 10L\",\"10L - 15L\",\"10L - 15L\",\"10L - 15L\",\"5L - 10L\",\"5L - 10L\",\"More than 15L\",\"5L - 10L\",\"5L - 10L\",\"10L - 15L\",\"More than 15L\",\"Less than 5L\",\"10L - 15L\",\"10L - 15L\",\"More than 15L\",\"Less than 5L\",\"5L - 10L\",\"10L - 15L\",\"5L - 10L\",\"10L - 15L\",\"More than 15L\",\"More than 15L\",\"10L - 15L\",\"5L - 10L\",\"10L - 15L\",\"10L - 15L\",\"10L - 15L\",\"More than 15L\",\"10L - 15L\",\"5L - 10L\",\"10L - 15L\",\"5L - 10L\",\"Less than 5L\",\"More than 15L\",\"5L - 10L\",\"5L - 10L\",\"Less than 5L\",\"10L - 15L\",\"10L - 15L\",\"More than 15L\",\"10L - 15L\",\"More than 15L\",\"Less than 5L\",\"Less than 5L\",\"Less than 5L\",\"Less than 5L\",\"Less than 5L\",\"5L - 10L\",\"5L - 10L\",\"10L - 15L\",\"5L - 10L\",\"More than 15L\",\"5L - 10L\",\"Less than 5L\",\"10L - 15L\",\"10L - 15L\",\"5L - 10L\",\"10L - 15L\",\"5L - 10L\",\"10L - 15L\",\"10L - 15L\",\"Less than 5L\",\"10L - 15L\",\"Less than 5L\",\"More than 15L\",\"5L - 10L\",\"Less than 5L\",\"10L - 15L\",\"Less than 5L\",\"Less than 5L\",\"10L - 15L\",\"More than 15L\",\"Less than 5L\",\"10L - 15L\",\"Less than 5L\",\"5L - 10L\",\"More than 15L\",\"10L - 15L\",\"10L - 15L\",\"Less than 5L\",\"More than 15L\",\"5L - 10L\",\"Less than 5L\",\"Less than 5L\",\"Less than 5L\",\"Less than 5L\",\"5L - 10L\",\"10L - 15L\",\"10L - 15L\",\"Less than 5L\",\"10L - 15L\",\"5L - 10L\",\"More than 15L\",\"5L - 10L\",\"5L - 10L\",\"Less than 5L\",\"More than 15L\",\"10L - 15L\",\"Less than 5L\",\"5L - 10L\",\"More than 15L\",\"10L - 15L\",\"5L - 10L\",\"10L - 15L\",\"5L - 10L\",\"Less than 5L\",\"5L - 10L\",\"10L - 15L\",\"Less than 5L\",\"5L - 10L\",\"More than 15L\",\"5L - 10L\",\"Less than 5L\",\"Less than 5L\",\"Less than 5L\",\"10L - 15L\",\"10L - 15L\",\"More than 15L\",\"Less than 5L\",\"5L - 10L\",\"Less than 5L\",\"10L - 15L\",\"More than 15L\",\"5L - 10L\",\"Less than 5L\",\"Less than 5L\",\"Less than 5L\",\"More than 15L\",\"10L - 15L\",\"5L - 10L\",\"10L - 15L\",\"Less than 5L\",\"Less than 5L\",\"More than 15L\",\"Less than 5L\",\"5L - 10L\",\"5L - 10L\",\"5L - 10L\",\"More than 15L\",\"10L - 15L\",\"5L - 10L\",\"5L - 10L\",\"5L - 10L\",\"10L - 15L\",\"5L - 10L\",\"More than 15L\",\"10L - 15L\",\"5L - 10L\",\"5L - 10L\",\"More than 15L\",\"More than 15L\",\"More than 15L\",\"More than 15L\",\"More than 15L\",\"10L - 15L\",\"More than 15L\",\"More than 15L\",\"5L - 10L\",\"Less than 5L\",\"More than 15L\",\"5L - 10L\",\"10L - 15L\",\"More than 15L\",\"10L - 15L\",\"More than 15L\",\"Less than 5L\",\"10L - 15L\",\"10L - 15L\",\"More than 15L\",\"10L - 15L\",\"Less than 5L\",\"5L - 10L\",\"10L - 15L\",\"5L - 10L\",\"5L - 10L\",\"Less than 5L\",\"More than 15L\",\"10L - 15L\",\"More than 15L\",\"More than 15L\",\"More than 15L\",\"5L - 10L\",\"10L - 15L\",\"Less than 5L\",\"10L - 15L\",\"Less than 5L\",\"10L - 15L\",\"More than 15L\",\"More than 15L\",\"5L - 10L\",\"Less than 5L\",\"5L - 10L\",\"More than 15L\",\"10L - 15L\",\"10L - 15L\",\"5L - 10L\",\"10L - 15L\",\"5L - 10L\",\"More than 15L\",\"More than 15L\",\"5L - 10L\",\"10L - 15L\",\"10L - 15L\",\"5L - 10L\",\"10L - 15L\",\"Less than 5L\",\"5L - 10L\",\"More than 15L\",\"More than 15L\",\"Less than 5L\",\"More than 15L\",\"Less than 5L\",\"5L - 10L\",\"Less than 5L\",\"5L - 10L\",\"5L - 10L\",\"10L - 15L\",\"5L - 10L\",\"10L - 15L\",\"5L - 10L\",\"5L - 10L\",\"Less than 5L\",\"More than 15L\",\"10L - 15L\",\"More than 15L\",\"More than 15L\",\"More than 15L\",\"5L - 10L\",\"10L - 15L\",\"More than 15L\",\"More than 15L\",\"10L - 15L\",\"5L - 10L\",\"10L - 15L\",\"More than 15L\",\"5L - 10L\",\"More than 15L\",\"More than 15L\",\"More than 15L\",\"5L - 10L\",\"Less than 5L\",\"More than 15L\",\"Less than 5L\",\"10L - 15L\",\"Less than 5L\",\"10L - 15L\",\"10L - 15L\",\"5L - 10L\",\"10L - 15L\",\"10L - 15L\",\"10L - 15L\",\"More than 15L\",\"Less than 5L\",\"10L - 15L\",\"Less than 5L\",\"5L - 10L\",\"More than 15L\",\"10L - 15L\",\"5L - 10L\",\"5L - 10L\",\"5L - 10L\",\"5L - 10L\",\"More than 15L\",\"10L - 15L\",\"5L - 10L\",\"5L - 10L\",\"5L - 10L\",\"10L - 15L\",\"Less than 5L\",\"10L - 15L\",\"Less than 5L\",\"10L - 15L\",\"10L - 15L\",\"5L - 10L\",\"Less than 5L\",\"More than 15L\",\"5L - 10L\",\"More than 15L\",\"10L - 15L\",\"Less than 5L\",\"More than 15L\",\"Less than 5L\",\"10L - 15L\",\"Less than 5L\",\"Less than 5L\",\"5L - 10L\",\"Less than 5L\",\"10L - 15L\",\"More than 15L\",\"Less than 5L\",\"More than 15L\",\"5L - 10L\",\"10L - 15L\",\"More than 15L\",\"10L - 15L\",\"10L - 15L\",\"5L - 10L\",\"10L - 15L\",\"More than 15L\",\"10L - 15L\",\"More than 15L\",\"More than 15L\",\"10L - 15L\",\"5L - 10L\",\"5L - 10L\",\"Less than 5L\",\"10L - 15L\",\"More than 15L\",\"5L - 10L\",\"Less than 5L\",\"10L - 15L\",\"10L - 15L\",\"5L - 10L\",\"10L - 15L\",\"10L - 15L\",\"5L - 10L\",\"5L - 10L\",\"5L - 10L\",\"10L - 15L\",\"10L - 15L\",\"5L - 10L\",\"More than 15L\",\"Less than 5L\",\"10L - 15L\",\"Less than 5L\",\"10L - 15L\",\"Less than 5L\",\"10L - 15L\",\"Less than 5L\",\"5L - 10L\",\"Less than 5L\",\"5L - 10L\",\"10L - 15L\",\"More than 15L\",\"Less than 5L\",\"More than 15L\",\"10L - 15L\",\"5L - 10L\",\"5L - 10L\",\"Less than 5L\",\"Less than 5L\",\"5L - 10L\",\"5L - 10L\",\"Less than 5L\",\"More than 15L\",\"10L - 15L\",\"Less than 5L\",\"5L - 10L\",\"10L - 15L\",\"5L - 10L\",\"More than 15L\",\"10L - 15L\",\"5L - 10L\",\"More than 15L\",\"Less than 5L\",\"Less than 5L\",\"More than 15L\",\"5L - 10L\",\"10L - 15L\",\"10L - 15L\",\"Less than 5L\",\"More than 15L\",\"More than 15L\",\"10L - 15L\",\"5L - 10L\",\"Less than 5L\",\"More than 15L\",\"10L - 15L\",\"10L - 15L\",\"More than 15L\",\"Less than 5L\",\"Less than 5L\",\"More than 15L\",\"5L - 10L\",\"Less than 5L\",\"More than 15L\",\"5L - 10L\",\"5L - 10L\",\"Less than 5L\",\"5L - 10L\",\"More than 15L\",\"More than 15L\",\"5L - 10L\",\"5L - 10L\",\"Less than 5L\",\"More than 15L\",\"5L - 10L\",\"10L - 15L\",\"10L - 15L\",\"10L - 15L\",\"10L - 15L\",\"10L - 15L\",\"Less than 5L\",\"More than 15L\",\"Less than 5L\",\"More than 15L\",\"5L - 10L\",\"More than 15L\",\"10L - 15L\",\"10L - 15L\",\"5L - 10L\",\"Less than 5L\",\"5L - 10L\",\"Less than 5L\",\"10L - 15L\",\"Less than 5L\",\"Less than 5L\",\"Less than 5L\",\"10L - 15L\",\"5L - 10L\",\"5L - 10L\",\"10L - 15L\",\"5L - 10L\",\"Less than 5L\",\"Less than 5L\",\"10L - 15L\",\"Less than 5L\",\"More than 15L\",\"10L - 15L\",\"5L - 10L\",\"Less than 5L\",\"More than 15L\",\"Less than 5L\",\"Less than 5L\",\"More than 15L\",\"Less than 5L\",\"Less than 5L\",\"More than 15L\",\"5L - 10L\",\"5L - 10L\",\"5L - 10L\",\"10L - 15L\",\"Less than 5L\",\"Less than 5L\",\"More than 15L\",\"More than 15L\",\"10L - 15L\",\"10L - 15L\",\"Less than 5L\",\"5L - 10L\",\"10L - 15L\",\"5L - 10L\",\"5L - 10L\",\"Less than 5L\",\"More than 15L\",\"10L - 15L\",\"10L - 15L\",\"10L - 15L\",\"Less than 5L\",\"More than 15L\",\"10L - 15L\",\"5L - 10L\",\"Less than 5L\",\"Less than 5L\",\"Less than 5L\",\"Less than 5L\",\"5L - 10L\",\"Less than 5L\",\"5L - 10L\",\"More than 15L\",\"10L - 15L\",\"10L - 15L\",\"5L - 10L\",\"Less than 5L\",\"5L - 10L\",\"Less than 5L\",\"5L - 10L\",\"5L - 10L\",\"10L - 15L\",\"5L - 10L\",\"Less than 5L\",\"10L - 15L\",\"Less than 5L\",\"10L - 15L\",\"Less than 5L\",\"10L - 15L\",\"10L - 15L\",\"10L - 15L\",\"10L - 15L\",\"More than 15L\",\"Less than 5L\",\"More than 15L\",\"Less than 5L\",\"More than 15L\",\"5L - 10L\",\"Less than 5L\",\"5L - 10L\",\"Less than 5L\",\"More than 15L\",\"More than 15L\",\"More than 15L\",\"10L - 15L\",\"5L - 10L\",\"5L - 10L\",\"Less than 5L\",\"Less than 5L\",\"10L - 15L\",\"5L - 10L\",\"10L - 15L\",\"More than 15L\",\"More than 15L\",\"5L - 10L\",\"More than 15L\",\"10L - 15L\",\"10L - 15L\",\"10L - 15L\",\"5L - 10L\",\"Less than 5L\",\"Less than 5L\",\"5L - 10L\",\"Less than 5L\",\"5L - 10L\",\"5L - 10L\",\"5L - 10L\",\"More than 15L\",\"10L - 15L\",\"5L - 10L\",\"10L - 15L\",\"5L - 10L\",\"10L - 15L\",\"More than 15L\",\"10L - 15L\",\"10L - 15L\",\"5L - 10L\",\"Less than 5L\",\"10L - 15L\",\"10L - 15L\",\"More than 15L\",\"10L - 15L\",\"Less than 5L\",\"More than 15L\",\"10L - 15L\",\"5L - 10L\",\"10L - 15L\",\"5L - 10L\",\"5L - 10L\",\"10L - 15L\",\"5L - 10L\",\"Less than 5L\",\"More than 15L\",\"10L - 15L\",\"Less than 5L\",\"Less than 5L\",\"Less than 5L\",\"10L - 15L\",\"More than 15L\",\"10L - 15L\",\"5L - 10L\",\"5L - 10L\",\"5L - 10L\",\"10L - 15L\",\"More than 15L\",\"10L - 15L\",\"10L - 15L\",\"10L - 15L\",\"5L - 10L\",\"5L - 10L\",\"10L - 15L\",\"Less than 5L\",\"10L - 15L\",\"10L - 15L\",\"10L - 15L\",\"Less than 5L\",\"More than 15L\",\"5L - 10L\",\"Less than 5L\",\"More than 15L\",\"5L - 10L\",\"10L - 15L\",\"More than 15L\",\"Less than 5L\",\"Less than 5L\",\"5L - 10L\",\"10L - 15L\",\"More than 15L\",\"More than 15L\",\"Less than 5L\",\"10L - 15L\",\"10L - 15L\",\"Less than 5L\",\"More than 15L\",\"10L - 15L\",\"Less than 5L\",\"10L - 15L\",\"10L - 15L\",\"5L - 10L\",\"Less than 5L\",\"Less than 5L\",\"Less than 5L\",\"Less than 5L\",\"5L - 10L\",\"10L - 15L\",\"10L - 15L\",\"More than 15L\",\"5L - 10L\",\"10L - 15L\",\"5L - 10L\",\"More than 15L\",\"More than 15L\",\"10L - 15L\",\"10L - 15L\",\"More than 15L\",\"More than 15L\",\"More than 15L\",\"5L - 10L\",\"More than 15L\",\"More than 15L\",\"5L - 10L\",\"10L - 15L\",\"5L - 10L\",\"10L - 15L\",\"More than 15L\",\"10L - 15L\",\"10L - 15L\",\"10L - 15L\",\"Less than 5L\",\"Less than 5L\",\"10L - 15L\",\"Less than 5L\",\"5L - 10L\",\"5L - 10L\",\"10L - 15L\",\"5L - 10L\",\"Less than 5L\",\"5L - 10L\",\"10L - 15L\",\"10L - 15L\",\"10L - 15L\",\"Less than 5L\",\"More than 15L\",\"5L - 10L\",\"5L - 10L\",\"More than 15L\",\"10L - 15L\",\"Less than 5L\",\"5L - 10L\",\"10L - 15L\",\"5L - 10L\",\"Less than 5L\",\"More than 15L\",\"Less than 5L\",\"5L - 10L\",\"10L - 15L\",\"Less than 5L\",\"More than 15L\",\"Less than 5L\",\"More than 15L\",\"10L - 15L\",\"More than 15L\",\"5L - 10L\",\"More than 15L\",\"More than 15L\",\"More than 15L\",\"5L - 10L\",\"Less than 5L\",\"10L - 15L\",\"More than 15L\",\"More than 15L\",\"10L - 15L\",\"5L - 10L\",\"5L - 10L\",\"10L - 15L\",\"5L - 10L\",\"10L - 15L\",\"Less than 5L\",\"Less than 5L\",\"5L - 10L\",\"Less than 5L\",\"10L - 15L\",\"5L - 10L\",\"10L - 15L\",\"More than 15L\",\"More than 15L\",\"5L - 10L\",\"10L - 15L\",\"Less than 5L\",\"Less than 5L\",\"Less than 5L\",\"10L - 15L\",\"5L - 10L\",\"More than 15L\",\"Less than 5L\",\"More than 15L\",\"10L - 15L\",\"More than 15L\",\"10L - 15L\",\"Less than 5L\",\"5L - 10L\",\"Less than 5L\",\"10L - 15L\",\"5L - 10L\",\"5L - 10L\",\"Less than 5L\",\"10L - 15L\",\"5L - 10L\",\"10L - 15L\",\"5L - 10L\",\"5L - 10L\",\"10L - 15L\",\"Less than 5L\",\"5L - 10L\",\"More than 15L\",\"Less than 5L\",\"10L - 15L\",\"10L - 15L\",\"10L - 15L\",\"5L - 10L\",\"5L - 10L\",\"Less than 5L\",\"10L - 15L\",\"Less than 5L\",\"Less than 5L\",\"10L - 15L\",\"More than 15L\",\"5L - 10L\",\"Less than 5L\",\"Less than 5L\",\"10L - 15L\",\"More than 15L\",\"More than 15L\",\"10L - 15L\",\"More than 15L\",\"More than 15L\",\"10L - 15L\",\"More than 15L\",\"10L - 15L\",\"Less than 5L\",\"5L - 10L\",\"5L - 10L\",\"10L - 15L\",\"Less than 5L\",\"5L - 10L\",\"5L - 10L\",\"Less than 5L\",\"10L - 15L\",\"Less than 5L\",\"5L - 10L\",\"10L - 15L\",\"5L - 10L\",\"10L - 15L\",\"More than 15L\",\"More than 15L\",\"5L - 10L\",\"5L - 10L\",\"Less than 5L\",\"More than 15L\",\"More than 15L\",\"10L - 15L\",\"More than 15L\",\"10L - 15L\",\"5L - 10L\",\"Less than 5L\",\"10L - 15L\",\"5L - 10L\",\"5L - 10L\",\"Less than 5L\",\"Less than 5L\",\"Less than 5L\",\"Less than 5L\",\"More than 15L\",\"5L - 10L\",\"Less than 5L\",\"Less than 5L\",\"More than 15L\",\"5L - 10L\",\"Less than 5L\",\"10L - 15L\",\"Less than 5L\",\"5L - 10L\",\"Less than 5L\",\"5L - 10L\",\"Less than 5L\",\"5L - 10L\",\"More than 15L\",\"10L - 15L\",\"10L - 15L\",\"More than 15L\",\"10L - 15L\",\"10L - 15L\",\"5L - 10L\",\"Less than 5L\",\"5L - 10L\",\"10L - 15L\",\"More than 15L\",\"Less than 5L\",\"More than 15L\",\"5L - 10L\",\"10L - 15L\",\"Less than 5L\",\"10L - 15L\",\"10L - 15L\",\"Less than 5L\",\"More than 15L\",\"5L - 10L\",\"10L - 15L\",\"More than 15L\",\"Less than 5L\",\"10L - 15L\",\"5L - 10L\",\"5L - 10L\",\"5L - 10L\",\"10L - 15L\",\"Less than 5L\",\"5L - 10L\",\"10L - 15L\",\"Less than 5L\",\"Less than 5L\",\"5L - 10L\",\"10L - 15L\",\"10L - 15L\",\"More than 15L\",\"10L - 15L\",\"More than 15L\",\"10L - 15L\",\"More than 15L\",\"10L - 15L\",\"5L - 10L\",\"Less than 5L\",\"Less than 5L\",\"Less than 5L\",\"Less than 5L\",\"5L - 10L\",\"More than 15L\",\"More than 15L\",\"More than 15L\",\"5L - 10L\",\"5L - 10L\",\"10L - 15L\",\"10L - 15L\",\"Less than 5L\",\"Less than 5L\",\"5L - 10L\",\"More than 15L\",\"Less than 5L\",\"Less than 5L\",\"5L - 10L\",\"10L - 15L\",\"Less than 5L\",\"More than 15L\",\"10L - 15L\",\"10L - 15L\",\"5L - 10L\",\"Less than 5L\",\"5L - 10L\",\"10L - 15L\",\"5L - 10L\",\"5L - 10L\",\"5L - 10L\",\"Less than 5L\",\"More than 15L\",\"5L - 10L\",\"Less than 5L\",\"5L - 10L\",\"5L - 10L\",\"5L - 10L\",\"More than 15L\",\"10L - 15L\",\"5L - 10L\",\"Less than 5L\",\"Less than 5L\",\"Less than 5L\",\"5L - 10L\",\"More than 15L\",\"5L - 10L\",\"5L - 10L\",\"5L - 10L\",\"5L - 10L\",\"More than 15L\",\"5L - 10L\",\"5L - 10L\",\"Less than 5L\",\"5L - 10L\",\"5L - 10L\",\"5L - 10L\",\"Less than 5L\",\"5L - 10L\",\"10L - 15L\",\"Less than 5L\",\"Less than 5L\",\"10L - 15L\",\"10L - 15L\",\"10L - 15L\",\"10L - 15L\",\"Less than 5L\",\"5L - 10L\",\"More than 15L\",\"5L - 10L\",\"More than 15L\",\"10L - 15L\",\"More than 15L\",\"Less than 5L\",\"5L - 10L\",\"5L - 10L\",\"Less than 5L\",\"More than 15L\",\"5L - 10L\",\"10L - 15L\",\"More than 15L\",\"10L - 15L\",\"5L - 10L\",\"10L - 15L\",\"More than 15L\",\"Less than 5L\",\"Less than 5L\",\"Less than 5L\",\"5L - 10L\",\"Less than 5L\",\"More than 15L\",\"More than 15L\",\"10L - 15L\",\"Less than 5L\",\"5L - 10L\",\"Less than 5L\",\"10L - 15L\",\"5L - 10L\",\"More than 15L\",\"10L - 15L\",\"More than 15L\",\"5L - 10L\",\"5L - 10L\",\"10L - 15L\",\"Less than 5L\",\"10L - 15L\",\"More than 15L\",\"More than 15L\",\"5L - 10L\",\"10L - 15L\",\"Less than 5L\",\"5L - 10L\",\"10L - 15L\",\"10L - 15L\",\"5L - 10L\",\"Less than 5L\",\"5L - 10L\",\"5L - 10L\",\"10L - 15L\",\"More than 15L\",\"10L - 15L\",\"10L - 15L\",\"Less than 5L\",\"More than 15L\",\"10L - 15L\",\"More than 15L\",\"Less than 5L\",\"10L - 15L\",\"Less than 5L\",\"More than 15L\",\"More than 15L\",\"Less than 5L\",\"Less than 5L\",\"5L - 10L\",\"10L - 15L\",\"5L - 10L\",\"10L - 15L\",\"More than 15L\",\"5L - 10L\",\"5L - 10L\",\"5L - 10L\",\"5L - 10L\",\"10L - 15L\",\"More than 15L\",\"5L - 10L\",\"More than 15L\",\"5L - 10L\",\"10L - 15L\",\"10L - 15L\",\"10L - 15L\",\"10L - 15L\",\"Less than 5L\",\"10L - 15L\",\"10L - 15L\",\"More than 15L\",\"5L - 10L\",\"More than 15L\",\"5L - 10L\",\"5L - 10L\",\"More than 15L\",\"10L - 15L\",\"5L - 10L\",\"Less than 5L\",\"10L - 15L\",\"More than 15L\",\"10L - 15L\",\"More than 15L\",\"5L - 10L\",\"More than 15L\",\"5L - 10L\",\"Less than 5L\",\"More than 15L\",\"10L - 15L\",\"More than 15L\",\"10L - 15L\",\"Less than 5L\",\"More than 15L\",\"10L - 15L\",\"More than 15L\",\"More than 15L\",\"Less than 5L\",\"Less than 5L\",\"More than 15L\",\"5L - 10L\",\"5L - 10L\",\"Less than 5L\",\"More than 15L\",\"10L - 15L\",\"More than 15L\",\"More than 15L\",\"Less than 5L\",\"5L - 10L\",\"10L - 15L\",\"5L - 10L\",\"More than 15L\",\"Less than 5L\",\"Less than 5L\",\"5L - 10L\",\"Less than 5L\",\"Less than 5L\",\"More than 15L\",\"More than 15L\",\"More than 15L\",\"5L - 10L\",\"5L - 10L\",\"10L - 15L\",\"Less than 5L\",\"More than 15L\",\"More than 15L\",\"10L - 15L\",\"10L - 15L\",\"5L - 10L\",\"Less than 5L\",\"More than 15L\",\"More than 15L\",\"Less than 5L\",\"Less than 5L\",\"More than 15L\",\"Less than 5L\",\"Less than 5L\",\"10L - 15L\",\"5L - 10L\",\"More than 15L\",\"Less than 5L\",\"5L - 10L\",\"5L - 10L\",\"More than 15L\",\"5L - 10L\",\"5L - 10L\",\"5L - 10L\",\"5L - 10L\",\"Less than 5L\",\"Less than 5L\",\"10L - 15L\",\"5L - 10L\",\"10L - 15L\",\"Less than 5L\",\"10L - 15L\",\"5L - 10L\",\"10L - 15L\",\"5L - 10L\",\"10L - 15L\",\"Less than 5L\",\"10L - 15L\",\"Less than 5L\",\"10L - 15L\",\"More than 15L\",\"Less than 5L\",\"10L - 15L\",\"10L - 15L\",\"Less than 5L\",\"5L - 10L\",\"5L - 10L\",\"More than 15L\",\"Less than 5L\",\"More than 15L\",\"Less than 5L\",\"10L - 15L\",\"More than 15L\",\"More than 15L\",\"5L - 10L\",\"5L - 10L\",\"More than 15L\",\"Less than 5L\",\"Less than 5L\",\"5L - 10L\",\"5L - 10L\",\"Less than 5L\",\"Less than 5L\",\"10L - 15L\",\"10L - 15L\",\"More than 15L\",\"Less than 5L\",\"Less than 5L\",\"More than 15L\",\"10L - 15L\",\"5L - 10L\",\"5L - 10L\",\"More than 15L\",\"5L - 10L\",\"10L - 15L\",\"Less than 5L\",\"More than 15L\",\"10L - 15L\",\"5L - 10L\",\"5L - 10L\",\"10L - 15L\",\"5L - 10L\",\"10L - 15L\",\"10L - 15L\",\"More than 15L\",\"Less than 5L\",\"5L - 10L\",\"10L - 15L\",\"5L - 10L\",\"5L - 10L\",\"Less than 5L\",\"More than 15L\",\"5L - 10L\",\"5L - 10L\",\"More than 15L\",\"5L - 10L\",\"10L - 15L\",\"5L - 10L\",\"10L - 15L\",\"5L - 10L\",\"Less than 5L\",\"More than 15L\",\"10L - 15L\",\"Less than 5L\",\"5L - 10L\",\"10L - 15L\",\"5L - 10L\",\"10L - 15L\",\"Less than 5L\",\"Less than 5L\",\"10L - 15L\",\"5L - 10L\",\"More than 15L\",\"10L - 15L\",\"5L - 10L\",\"10L - 15L\",\"10L - 15L\",\"More than 15L\",\"5L - 10L\",\"10L - 15L\",\"Less than 5L\",\"5L - 10L\",\"10L - 15L\",\"5L - 10L\",\"10L - 15L\",\"10L - 15L\",\"10L - 15L\",\"5L - 10L\",\"10L - 15L\",\"Less than 5L\",\"5L - 10L\",\"10L - 15L\",\"Less than 5L\",\"5L - 10L\",\"10L - 15L\",\"10L - 15L\",\"5L - 10L\",\"10L - 15L\",\"10L - 15L\",\"5L - 10L\",\"Less than 5L\",\"5L - 10L\",\"Less than 5L\",\"5L - 10L\",\"More than 15L\",\"More than 15L\",\"10L - 15L\",\"Less than 5L\",\"5L - 10L\",\"10L - 15L\",\"10L - 15L\",\"10L - 15L\",\"More than 15L\",\"10L - 15L\",\"Less than 5L\",\"10L - 15L\",\"5L - 10L\",\"Less than 5L\",\"Less than 5L\",\"More than 15L\",\"5L - 10L\",\"10L - 15L\",\"10L - 15L\",\"5L - 10L\",\"Less than 5L\",\"10L - 15L\",\"10L - 15L\",\"10L - 15L\",\"10L - 15L\",\"Less than 5L\",\"5L - 10L\",\"5L - 10L\",\"More than 15L\",\"Less than 5L\",\"More than 15L\",\"Less than 5L\",\"5L - 10L\",\"Less than 5L\",\"More than 15L\",\"5L - 10L\",\"More than 15L\",\"5L - 10L\",\"10L - 15L\",\"5L - 10L\",\"5L - 10L\",\"Less than 5L\",\"More than 15L\",\"5L - 10L\",\"Less than 5L\",\"10L - 15L\",\"10L - 15L\",\"More than 15L\",\"10L - 15L\",\"10L - 15L\",\"More than 15L\",\"Less than 5L\",\"Less than 5L\",\"10L - 15L\",\"5L - 10L\",\"Less than 5L\",\"5L - 10L\",\"5L - 10L\",\"5L - 10L\",\"Less than 5L\",\"5L - 10L\",\"10L - 15L\",\"5L - 10L\",\"Less than 5L\",\"More than 15L\",\"Less than 5L\",\"Less than 5L\",\"5L - 10L\",\"Less than 5L\",\"Less than 5L\",\"10L - 15L\",\"5L - 10L\",\"Less than 5L\",\"More than 15L\",\"5L - 10L\",\"10L - 15L\",\"More than 15L\",\"5L - 10L\",\"5L - 10L\",\"10L - 15L\",\"10L - 15L\",\"More than 15L\",\"10L - 15L\",\"10L - 15L\",\"Less than 5L\",\"10L - 15L\",\"5L - 10L\",\"5L - 10L\",\"5L - 10L\",\"5L - 10L\",\"More than 15L\",\"Less than 5L\",\"5L - 10L\",\"Less than 5L\",\"Less than 5L\",\"Less than 5L\",\"More than 15L\",\"5L - 10L\",\"Less than 5L\",\"5L - 10L\",\"10L - 15L\",\"Less than 5L\",\"10L - 15L\",\"More than 15L\",\"10L - 15L\",\"10L - 15L\",\"5L - 10L\",\"5L - 10L\",\"More than 15L\",\"10L - 15L\",\"Less than 5L\",\"5L - 10L\",\"10L - 15L\",\"5L - 10L\",\"More than 15L\",\"10L - 15L\",\"10L - 15L\",\"5L - 10L\",\"More than 15L\",\"Less than 5L\",\"10L - 15L\",\"More than 15L\",\"More than 15L\",\"More than 15L\",\"More than 15L\",\"5L - 10L\",\"5L - 10L\",\"Less than 5L\",\"5L - 10L\",\"Less than 5L\",\"5L - 10L\",\"Less than 5L\",\"5L - 10L\",\"5L - 10L\",\"10L - 15L\",\"5L - 10L\",\"10L - 15L\",\"5L - 10L\",\"More than 15L\",\"5L - 10L\",\"5L - 10L\",\"10L - 15L\",\"5L - 10L\",\"10L - 15L\",\"More than 15L\",\"10L - 15L\",\"5L - 10L\",\"5L - 10L\",\"More than 15L\",\"10L - 15L\",\"10L - 15L\",\"Less than 5L\",\"More than 15L\",\"More than 15L\",\"More than 15L\",\"Less than 5L\",\"Less than 5L\",\"More than 15L\",\"10L - 15L\",\"Less than 5L\",\"Less than 5L\",\"Less than 5L\",\"More than 15L\",\"10L - 15L\",\"Less than 5L\",\"10L - 15L\",\"Less than 5L\",\"Less than 5L\",\"5L - 10L\",\"Less than 5L\",\"5L - 10L\",\"5L - 10L\",\"Less than 5L\",\"5L - 10L\",\"More than 15L\",\"Less than 5L\",\"More than 15L\",\"More than 15L\",\"5L - 10L\",\"Less than 5L\",\"Less than 5L\",\"10L - 15L\",\"More than 15L\",\"Less than 5L\",\"10L - 15L\",\"More than 15L\",\"Less than 5L\",\"Less than 5L\",\"10L - 15L\",\"More than 15L\",\"10L - 15L\",\"5L - 10L\",\"More than 15L\",\"10L - 15L\",\"10L - 15L\",\"5L - 10L\",\"Less than 5L\",\"Less than 5L\",\"10L - 15L\",\"More than 15L\",\"Less than 5L\",\"Less than 5L\",\"10L - 15L\",\"10L - 15L\",\"5L - 10L\",\"More than 15L\",\"More than 15L\",\"More than 15L\",\"5L - 10L\",\"More than 15L\",\"More than 15L\",\"10L - 15L\",\"10L - 15L\",\"10L - 15L\",\"10L - 15L\",\"More than 15L\",\"10L - 15L\",\"Less than 5L\",\"More than 15L\",\"10L - 15L\",\"5L - 10L\",\"10L - 15L\",\"More than 15L\",\"Less than 5L\",\"10L - 15L\",\"10L - 15L\",\"Less than 5L\",\"10L - 15L\",\"10L - 15L\",\"10L - 15L\",\"5L - 10L\",\"More than 15L\",\"Less than 5L\",\"Less than 5L\",\"10L - 15L\",\"Less than 5L\",\"Less than 5L\",\"More than 15L\",\"Less than 5L\",\"Less than 5L\",\"More than 15L\",\"10L - 15L\",\"5L - 10L\",\"5L - 10L\",\"5L - 10L\",\"Less than 5L\",\"Less than 5L\",\"10L - 15L\",\"5L - 10L\",\"Less than 5L\",\"10L - 15L\",\"5L - 10L\",\"More than 15L\",\"More than 15L\",\"10L - 15L\",\"5L - 10L\",\"More than 15L\",\"5L - 10L\",\"5L - 10L\",\"More than 15L\",\"Less than 5L\",\"10L - 15L\",\"Less than 5L\",\"5L - 10L\",\"5L - 10L\",\"Less than 5L\",\"10L - 15L\",\"10L - 15L\",\"More than 15L\",\"10L - 15L\",\"Less than 5L\",\"5L - 10L\",\"5L - 10L\",\"10L - 15L\",\"5L - 10L\",\"Less than 5L\",\"5L - 10L\",\"10L - 15L\",\"5L - 10L\",\"More than 15L\",\"5L - 10L\",\"10L - 15L\",\"More than 15L\",\"Less than 5L\",\"10L - 15L\",\"Less than 5L\",\"5L - 10L\",\"5L - 10L\",\"Less than 5L\",\"5L - 10L\",\"Less than 5L\",\"10L - 15L\",\"5L - 10L\",\"10L - 15L\",\"More than 15L\",\"More than 15L\",\"10L - 15L\",\"More than 15L\",\"5L - 10L\",\"10L - 15L\",\"10L - 15L\",\"More than 15L\",\"5L - 10L\",\"5L - 10L\",\"More than 15L\",\"5L - 10L\",\"5L - 10L\",\"Less than 5L\",\"Less than 5L\",\"5L - 10L\",\"Less than 5L\",\"5L - 10L\",\"Less than 5L\",\"5L - 10L\",\"Less than 5L\",\"Less than 5L\",\"5L - 10L\",\"5L - 10L\",\"10L - 15L\",\"5L - 10L\",\"5L - 10L\",\"10L - 15L\",\"10L - 15L\",\"10L - 15L\",\"10L - 15L\",\"10L - 15L\",\"Less than 5L\",\"More than 15L\",\"10L - 15L\",\"Less than 5L\",\"More than 15L\",\"10L - 15L\",\"5L - 10L\",\"10L - 15L\",\"5L - 10L\",\"10L - 15L\",\"10L - 15L\",\"5L - 10L\",\"Less than 5L\",\"5L - 10L\",\"10L - 15L\",\"Less than 5L\",\"Less than 5L\",\"10L - 15L\",\"Less than 5L\",\"Less than 5L\",\"More than 15L\",\"10L - 15L\",\"5L - 10L\",\"Less than 5L\",\"10L - 15L\",\"More than 15L\",\"Less than 5L\",\"10L - 15L\",\"10L - 15L\",\"Less than 5L\",\"Less than 5L\",\"Less than 5L\",\"More than 15L\",\"More than 15L\",\"More than 15L\",\"10L - 15L\",\"More than 15L\",\"More than 15L\",\"More than 15L\",\"10L - 15L\",\"10L - 15L\",\"5L - 10L\",\"Less than 5L\",\"5L - 10L\",\"Less than 5L\",\"10L - 15L\",\"5L - 10L\",\"More than 15L\",\"5L - 10L\",\"More than 15L\",\"10L - 15L\",\"10L - 15L\",\"Less than 5L\",\"5L - 10L\",\"Less than 5L\",\"Less than 5L\",\"More than 15L\",\"5L - 10L\",\"5L - 10L\",\"Less than 5L\",\"Less than 5L\",\"Less than 5L\",\"5L - 10L\",\"10L - 15L\",\"5L - 10L\",\"10L - 15L\",\"More than 15L\",\"Less than 5L\",\"5L - 10L\",\"5L - 10L\",\"10L - 15L\",\"10L - 15L\",\"More than 15L\",\"Less than 5L\",\"More than 15L\",\"10L - 15L\",\"5L - 10L\",\"Less than 5L\",\"10L - 15L\",\"5L - 10L\",\"More than 15L\",\"Less than 5L\",\"More than 15L\",\"10L - 15L\",\"5L - 10L\",\"5L - 10L\",\"10L - 15L\",\"5L - 10L\",\"10L - 15L\",\"10L - 15L\",\"10L - 15L\",\"10L - 15L\",\"5L - 10L\",\"10L - 15L\",\"Less than 5L\",\"More than 15L\",\"5L - 10L\",\"5L - 10L\",\"10L - 15L\",\"More than 15L\",\"5L - 10L\",\"More than 15L\",\"10L - 15L\",\"5L - 10L\",\"Less than 5L\",\"10L - 15L\",\"5L - 10L\",\"5L - 10L\",\"Less than 5L\",\"5L - 10L\",\"5L - 10L\",\"Less than 5L\",\"Less than 5L\",\"Less than 5L\",\"More than 15L\",\"Less than 5L\",\"5L - 10L\",\"5L - 10L\",\"Less than 5L\",\"5L - 10L\",\"More than 15L\",\"10L - 15L\",\"Less than 5L\",\"Less than 5L\",\"More than 15L\",\"10L - 15L\",\"10L - 15L\",\"More than 15L\",\"More than 15L\",\"Less than 5L\",\"Less than 5L\",\"10L - 15L\",\"10L - 15L\",\"10L - 15L\",\"More than 15L\",\"10L - 15L\",\"Less than 5L\",\"5L - 10L\",\"More than 15L\",\"10L - 15L\",\"5L - 10L\",\"Less than 5L\",\"Less than 5L\",\"5L - 10L\",\"10L - 15L\",\"5L - 10L\",\"Less than 5L\",\"Less than 5L\",\"Less than 5L\",\"Less than 5L\",\"5L - 10L\",\"More than 15L\",\"More than 15L\",\"10L - 15L\",\"More than 15L\",\"More than 15L\",\"Less than 5L\",\"10L - 15L\",\"Less than 5L\",\"5L - 10L\",\"5L - 10L\",\"More than 15L\",\"10L - 15L\",\"Less than 5L\",\"More than 15L\",\"5L - 10L\",\"5L - 10L\",\"10L - 15L\",\"More than 15L\",\"Less than 5L\",\"More than 15L\",\"More than 15L\",\"5L - 10L\",\"10L - 15L\",\"Less than 5L\",\"10L - 15L\",\"10L - 15L\",\"5L - 10L\",\"10L - 15L\",\"Less than 5L\",\"5L - 10L\",\"5L - 10L\",\"10L - 15L\",\"5L - 10L\",\"More than 15L\",\"10L - 15L\",\"Less than 5L\",\"Less than 5L\",\"Less than 5L\",\"5L - 10L\",\"5L - 10L\",\"Less than 5L\",\"Less than 5L\",\"10L - 15L\",\"More than 15L\",\"More than 15L\",\"More than 15L\",\"5L - 10L\",\"More than 15L\",\"Less than 5L\",\"5L - 10L\",\"10L - 15L\",\"More than 15L\",\"5L - 10L\",\"5L - 10L\",\"10L - 15L\",\"5L - 10L\",\"More than 15L\",\"More than 15L\",\"5L - 10L\",\"10L - 15L\",\"Less than 5L\",\"More than 15L\",\"5L - 10L\",\"More than 15L\",\"Less than 5L\",\"10L - 15L\",\"10L - 15L\",\"5L - 10L\",\"5L - 10L\",\"5L - 10L\",\"10L - 15L\",\"Less than 5L\",\"10L - 15L\",\"5L - 10L\",\"5L - 10L\",\"5L - 10L\",\"10L - 15L\",\"More than 15L\",\"Less than 5L\",\"5L - 10L\",\"More than 15L\",\"5L - 10L\",\"10L - 15L\",\"More than 15L\",\"10L - 15L\",\"Less than 5L\",\"5L - 10L\",\"Less than 5L\",\"10L - 15L\",\"5L - 10L\",\"10L - 15L\",\"Less than 5L\",\"10L - 15L\",\"5L - 10L\",\"Less than 5L\",\"10L - 15L\",\"5L - 10L\",\"More than 15L\",\"More than 15L\",\"10L - 15L\",\"More than 15L\",\"5L - 10L\",\"Less than 5L\",\"Less than 5L\",\"More than 15L\",\"5L - 10L\",\"10L - 15L\",\"10L - 15L\",\"5L - 10L\",\"More than 15L\",\"10L - 15L\",\"Less than 5L\",\"Less than 5L\",\"5L - 10L\",\"5L - 10L\",\"Less than 5L\",\"5L - 10L\",\"Less than 5L\",\"5L - 10L\",\"Less than 5L\",\"10L - 15L\",\"5L - 10L\",\"10L - 15L\",\"Less than 5L\",\"5L - 10L\",\"Less than 5L\",\"More than 15L\",\"5L - 10L\",\"Less than 5L\",\"10L - 15L\",\"10L - 15L\",\"Less than 5L\",\"More than 15L\",\"Less than 5L\",\"5L - 10L\",\"More than 15L\",\"10L - 15L\",\"5L - 10L\",\"5L - 10L\",\"10L - 15L\",\"More than 15L\",\"10L - 15L\",\"More than 15L\",\"10L - 15L\",\"10L - 15L\",\"More than 15L\",\"10L - 15L\",\"Less than 5L\",\"5L - 10L\",\"Less than 5L\",\"10L - 15L\",\"Less than 5L\",\"Less than 5L\",\"10L - 15L\",\"Less than 5L\",\"10L - 15L\",\"Less than 5L\",\"Less than 5L\",\"10L - 15L\",\"More than 15L\",\"More than 15L\",\"10L - 15L\",\"10L - 15L\",\"10L - 15L\",\"Less than 5L\",\"5L - 10L\",\"10L - 15L\",\"5L - 10L\",\"Less than 5L\",\"More than 15L\",\"Less than 5L\",\"More than 15L\",\"5L - 10L\",\"More than 15L\",\"Less than 5L\",\"5L - 10L\",\"Less than 5L\",\"5L - 10L\",\"Less than 5L\",\"5L - 10L\",\"10L - 15L\",\"Less than 5L\",\"More than 15L\",\"10L - 15L\",\"10L - 15L\",\"10L - 15L\",\"10L - 15L\",\"More than 15L\",\"10L - 15L\",\"10L - 15L\",\"10L - 15L\",\"10L - 15L\",\"5L - 10L\",\"More than 15L\",\"5L - 10L\",\"Less than 5L\",\"More than 15L\",\"5L - 10L\",\"10L - 15L\",\"Less than 5L\",\"5L - 10L\",\"10L - 15L\",\"5L - 10L\",\"10L - 15L\",\"5L - 10L\",\"Less than 5L\",\"Less than 5L\",\"5L - 10L\",\"Less than 5L\",\"5L - 10L\",\"5L - 10L\",\"Less than 5L\",\"Less than 5L\",\"Less than 5L\",\"10L - 15L\",\"5L - 10L\",\"Less than 5L\",\"Less than 5L\",\"5L - 10L\",\"More than 15L\",\"More than 15L\",\"10L - 15L\",\"10L - 15L\",\"5L - 10L\",\"5L - 10L\",\"Less than 5L\",\"10L - 15L\",\"5L - 10L\",\"5L - 10L\",\"Less than 5L\",\"Less than 5L\",\"10L - 15L\",\"5L - 10L\",\"5L - 10L\",\"5L - 10L\",\"Less than 5L\",\"5L - 10L\",\"More than 15L\",\"More than 15L\",\"5L - 10L\",\"Less than 5L\",\"Less than 5L\",\"Less than 5L\",\"10L - 15L\",\"10L - 15L\",\"10L - 15L\",\"5L - 10L\",\"Less than 5L\",\"Less than 5L\",\"Less than 5L\",\"10L - 15L\",\"Less than 5L\",\"Less than 5L\",\"5L - 10L\",\"5L - 10L\",\"10L - 15L\",\"More than 15L\",\"5L - 10L\",\"5L - 10L\",\"More than 15L\",\"10L - 15L\",\"10L - 15L\",\"More than 15L\",\"5L - 10L\",\"10L - 15L\",\"5L - 10L\",\"Less than 5L\",\"5L - 10L\",\"5L - 10L\",\"Less than 5L\",\"10L - 15L\",\"More than 15L\",\"Less than 5L\",\"Less than 5L\",\"Less than 5L\",\"More than 15L\",\"More than 15L\",\"5L - 10L\",\"10L - 15L\",\"Less than 5L\",\"10L - 15L\",\"More than 15L\",\"5L - 10L\",\"10L - 15L\",\"More than 15L\",\"More than 15L\",\"More than 15L\",\"More than 15L\",\"Less than 5L\",\"10L - 15L\",\"Less than 5L\",\"10L - 15L\",\"5L - 10L\",\"10L - 15L\",\"Less than 5L\",\"10L - 15L\",\"Less than 5L\",\"5L - 10L\",\"Less than 5L\",\"10L - 15L\",\"More than 15L\",\"Less than 5L\",\"5L - 10L\",\"5L - 10L\",\"5L - 10L\",\"More than 15L\",\"More than 15L\",\"Less than 5L\",\"5L - 10L\",\"5L - 10L\",\"More than 15L\",\"5L - 10L\",\"More than 15L\",\"More than 15L\",\"More than 15L\",\"More than 15L\",\"More than 15L\",\"5L - 10L\",\"10L - 15L\",\"10L - 15L\",\"More than 15L\",\"More than 15L\",\"More than 15L\",\"More than 15L\",\"10L - 15L\",\"Less than 5L\",\"5L - 10L\",\"More than 15L\",\"10L - 15L\",\"10L - 15L\",\"10L - 15L\",\"Less than 5L\",\"10L - 15L\",\"5L - 10L\",\"More than 15L\",\"10L - 15L\",\"5L - 10L\",\"5L - 10L\",\"More than 15L\",\"Less than 5L\",\"Less than 5L\",\"5L - 10L\",\"10L - 15L\",\"10L - 15L\",\"5L - 10L\",\"5L - 10L\",\"10L - 15L\",\"More than 15L\",\"More than 15L\",\"Less than 5L\",\"Less than 5L\",\"10L - 15L\",\"More than 15L\",\"5L - 10L\",\"10L - 15L\",\"10L - 15L\",\"10L - 15L\",\"Less than 5L\",\"5L - 10L\",\"5L - 10L\",\"Less than 5L\",\"10L - 15L\",\"5L - 10L\",\"5L - 10L\",\"5L - 10L\",\"Less than 5L\",\"10L - 15L\",\"10L - 15L\",\"10L - 15L\",\"5L - 10L\",\"10L - 15L\",\"5L - 10L\",\"Less than 5L\",\"5L - 10L\",\"5L - 10L\",\"5L - 10L\",\"5L - 10L\",\"Less than 5L\",\"Less than 5L\",\"More than 15L\",\"Less than 5L\",\"More than 15L\",\"More than 15L\",\"5L - 10L\",\"5L - 10L\",\"Less than 5L\",\"5L - 10L\",\"Less than 5L\",\"More than 15L\",\"More than 15L\",\"5L - 10L\",\"More than 15L\",\"10L - 15L\",\"10L - 15L\",\"More than 15L\",\"10L - 15L\",\"More than 15L\",\"10L - 15L\",\"More than 15L\",\"10L - 15L\",\"Less than 5L\",\"5L - 10L\",\"5L - 10L\",\"More than 15L\",\"5L - 10L\",\"5L - 10L\",\"More than 15L\",\"10L - 15L\",\"Less than 5L\",\"Less than 5L\",\"Less than 5L\",\"Less than 5L\",\"10L - 15L\",\"More than 15L\",\"More than 15L\",\"Less than 5L\",\"Less than 5L\",\"Less than 5L\",\"Less than 5L\",\"More than 15L\",\"More than 15L\",\"10L - 15L\",\"5L - 10L\",\"More than 15L\",\"Less than 5L\",\"Less than 5L\",\"Less than 5L\",\"10L - 15L\",\"More than 15L\",\"10L - 15L\",\"5L - 10L\",\"10L - 15L\",\"10L - 15L\",\"10L - 15L\",\"10L - 15L\",\"More than 15L\",\"5L - 10L\",\"10L - 15L\",\"Less than 5L\",\"10L - 15L\",\"Less than 5L\",\"5L - 10L\",\"10L - 15L\",\"10L - 15L\",\"10L - 15L\",\"5L - 10L\",\"10L - 15L\",\"More than 15L\",\"More than 15L\",\"10L - 15L\",\"Less than 5L\",\"5L - 10L\",\"More than 15L\",\"5L - 10L\",\"5L - 10L\",\"Less than 5L\",\"More than 15L\",\"10L - 15L\",\"More than 15L\",\"5L - 10L\",\"More than 15L\",\"Less than 5L\",\"10L - 15L\",\"More than 15L\",\"Less than 5L\",\"More than 15L\",\"5L - 10L\",\"Less than 5L\",\"More than 15L\",\"10L - 15L\",\"More than 15L\",\"More than 15L\",\"Less than 5L\",\"More than 15L\",\"More than 15L\",\"Less than 5L\",\"More than 15L\",\"10L - 15L\",\"Less than 5L\",\"More than 15L\",\"5L - 10L\",\"Less than 5L\",\"10L - 15L\",\"10L - 15L\",\"10L - 15L\",\"More than 15L\",\"10L - 15L\",\"More than 15L\",\"5L - 10L\",\"10L - 15L\",\"More than 15L\",\"10L - 15L\",\"5L - 10L\",\"5L - 10L\",\"5L - 10L\",\"5L - 10L\",\"5L - 10L\",\"5L - 10L\",\"Less than 5L\",\"5L - 10L\",\"Less than 5L\",\"5L - 10L\",\"10L - 15L\",\"5L - 10L\",\"5L - 10L\",\"More than 15L\",\"5L - 10L\",\"Less than 5L\",\"10L - 15L\",\"10L - 15L\",\"10L - 15L\",\"10L - 15L\",\"10L - 15L\",\"5L - 10L\",\"More than 15L\",\"10L - 15L\",\"5L - 10L\",\"5L - 10L\",\"More than 15L\",\"Less than 5L\",\"Less than 5L\",\"Less than 5L\",\"5L - 10L\",\"Less than 5L\",\"10L - 15L\",\"Less than 5L\",\"Less than 5L\",\"10L - 15L\",\"Less than 5L\",\"More than 15L\",\"5L - 10L\",\"5L - 10L\",\"10L - 15L\",\"5L - 10L\",\"10L - 15L\",\"10L - 15L\",\"10L - 15L\",\"More than 15L\",\"Less than 5L\",\"Less than 5L\",\"5L - 10L\",\"Less than 5L\",\"5L - 10L\",\"Less than 5L\",\"Less than 5L\",\"Less than 5L\",\"10L - 15L\",\"10L - 15L\",\"5L - 10L\",\"5L - 10L\",\"More than 15L\",\"Less than 5L\",\"More than 15L\",\"5L - 10L\",\"Less than 5L\",\"10L - 15L\",\"More than 15L\",\"10L - 15L\",\"10L - 15L\",\"More than 15L\",\"5L - 10L\",\"Less than 5L\",\"More than 15L\",\"10L - 15L\",\"10L - 15L\",\"More than 15L\",\"Less than 5L\",\"More than 15L\",\"10L - 15L\",\"10L - 15L\",\"Less than 5L\",\"More than 15L\",\"More than 15L\",\"5L - 10L\",\"5L - 10L\",\"Less than 5L\",\"5L - 10L\",\"10L - 15L\",\"More than 15L\",\"Less than 5L\",\"More than 15L\",\"5L - 10L\",\"Less than 5L\",\"Less than 5L\",\"10L - 15L\",\"10L - 15L\",\"5L - 10L\",\"Less than 5L\",\"Less than 5L\",\"5L - 10L\",\"10L - 15L\",\"More than 15L\",\"More than 15L\",\"5L - 10L\",\"5L - 10L\",\"More than 15L\",\"5L - 10L\",\"10L - 15L\",\"Less than 5L\",\"More than 15L\",\"5L - 10L\",\"More than 15L\",\"5L - 10L\",\"Less than 5L\",\"More than 15L\",\"5L - 10L\",\"More than 15L\",\"More than 15L\",\"5L - 10L\",\"5L - 10L\",\"More than 15L\",\"More than 15L\",\"5L - 10L\",\"More than 15L\",\"Less than 5L\",\"10L - 15L\",\"5L - 10L\",\"Less than 5L\",\"10L - 15L\",\"Less than 5L\",\"5L - 10L\",\"5L - 10L\",\"Less than 5L\",\"10L - 15L\",\"5L - 10L\",\"10L - 15L\",\"10L - 15L\",\"Less than 5L\",\"10L - 15L\",\"More than 15L\",\"5L - 10L\",\"More than 15L\",\"Less than 5L\",\"10L - 15L\",\"More than 15L\",\"10L - 15L\",\"5L - 10L\",\"5L - 10L\",\"5L - 10L\",\"10L - 15L\",\"More than 15L\",\"Less than 5L\",\"Less than 5L\",\"5L - 10L\",\"Less than 5L\",\"10L - 15L\",\"Less than 5L\",\"5L - 10L\",\"10L - 15L\",\"10L - 15L\",\"10L - 15L\",\"More than 15L\",\"10L - 15L\",\"10L - 15L\",\"More than 15L\",\"More than 15L\",\"Less than 5L\",\"More than 15L\",\"Less than 5L\",\"Less than 5L\",\"Less than 5L\",\"5L - 10L\",\"Less than 5L\",\"Less than 5L\",\"More than 15L\",\"Less than 5L\",\"5L - 10L\",\"5L - 10L\",\"Less than 5L\",\"10L - 15L\",\"Less than 5L\",\"10L - 15L\",\"10L - 15L\",\"10L - 15L\",\"5L - 10L\",\"5L - 10L\",\"5L - 10L\",\"Less than 5L\",\"Less than 5L\",\"More than 15L\",\"Less than 5L\",\"More than 15L\",\"Less than 5L\",\"10L - 15L\",\"5L - 10L\",\"5L - 10L\",\"More than 15L\",\"More than 15L\",\"5L - 10L\",\"More than 15L\",\"Less than 5L\",\"Less than 5L\",\"Less than 5L\",\"5L - 10L\",\"10L - 15L\",\"More than 15L\",\"More than 15L\",\"5L - 10L\",\"10L - 15L\",\"5L - 10L\",\"More than 15L\",\"More than 15L\",\"10L - 15L\",\"10L - 15L\",\"Less than 5L\",\"10L - 15L\",\"Less than 5L\",\"10L - 15L\",\"5L - 10L\",\"10L - 15L\",\"5L - 10L\",\"Less than 5L\",\"Less than 5L\",\"10L - 15L\",\"More than 15L\",\"Less than 5L\",\"10L - 15L\",\"More than 15L\",\"5L - 10L\",\"5L - 10L\",\"Less than 5L\",\"10L - 15L\",\"More than 15L\",\"5L - 10L\",\"10L - 15L\",\"More than 15L\",\"Less than 5L\",\"5L - 10L\",\"More than 15L\",\"5L - 10L\",\"Less than 5L\",\"10L - 15L\",\"Less than 5L\",\"More than 15L\",\"Less than 5L\",\"10L - 15L\",\"5L - 10L\",\"Less than 5L\",\"More than 15L\",\"10L - 15L\",\"Less than 5L\",\"Less than 5L\",\"5L - 10L\",\"Less than 5L\",\"More than 15L\",\"Less than 5L\",\"10L - 15L\",\"10L - 15L\",\"10L - 15L\",\"5L - 10L\",\"Less than 5L\",\"10L - 15L\",\"5L - 10L\",\"5L - 10L\",\"10L - 15L\",\"5L - 10L\",\"10L - 15L\",\"Less than 5L\",\"5L - 10L\",\"More than 15L\",\"10L - 15L\",\"5L - 10L\",\"Less than 5L\",\"5L - 10L\",\"5L - 10L\",\"More than 15L\",\"Less than 5L\",\"10L - 15L\",\"Less than 5L\",\"5L - 10L\",\"5L - 10L\",\"5L - 10L\",\"5L - 10L\",\"More than 15L\",\"10L - 15L\",\"10L - 15L\",\"10L - 15L\",\"10L - 15L\",\"Less than 5L\",\"10L - 15L\",\"10L - 15L\",\"Less than 5L\",\"Less than 5L\",\"10L - 15L\",\"5L - 10L\",\"5L - 10L\",\"10L - 15L\",\"10L - 15L\",\"5L - 10L\",\"5L - 10L\",\"More than 15L\",\"Less than 5L\",\"5L - 10L\",\"10L - 15L\",\"5L - 10L\",\"10L - 15L\",\"More than 15L\",\"5L - 10L\",\"Less than 5L\",\"5L - 10L\",\"10L - 15L\",\"Less than 5L\",\"10L - 15L\",\"5L - 10L\",\"5L - 10L\",\"5L - 10L\",\"More than 15L\",\"10L - 15L\",\"More than 15L\",\"5L - 10L\",\"5L - 10L\",\"10L - 15L\",\"More than 15L\",\"More than 15L\",\"More than 15L\",\"More than 15L\",\"Less than 5L\",\"10L - 15L\",\"More than 15L\",\"More than 15L\",\"Less than 5L\",\"10L - 15L\",\"Less than 5L\",\"More than 15L\",\"More than 15L\",\"5L - 10L\",\"5L - 10L\",\"More than 15L\",\"Less than 5L\",\"10L - 15L\",\"More than 15L\",\"10L - 15L\",\"Less than 5L\",\"5L - 10L\",\"5L - 10L\",\"Less than 5L\",\"10L - 15L\",\"5L - 10L\",\"5L - 10L\",\"10L - 15L\",\"More than 15L\",\"Less than 5L\",\"5L - 10L\",\"5L - 10L\",\"Less than 5L\",\"More than 15L\",\"5L - 10L\",\"10L - 15L\",\"More than 15L\",\"5L - 10L\",\"Less than 5L\",\"5L - 10L\",\"Less than 5L\",\"10L - 15L\",\"10L - 15L\",\"10L - 15L\",\"Less than 5L\",\"10L - 15L\",\"5L - 10L\",\"Less than 5L\",\"Less than 5L\",\"Less than 5L\",\"10L - 15L\",\"10L - 15L\",\"More than 15L\",\"5L - 10L\",\"Less than 5L\",\"5L - 10L\",\"5L - 10L\",\"More than 15L\",\"5L - 10L\",\"5L - 10L\",\"5L - 10L\",\"More than 15L\",\"5L - 10L\",\"Less than 5L\",\"10L - 15L\",\"5L - 10L\",\"More than 15L\",\"More than 15L\",\"Less than 5L\",\"10L - 15L\",\"10L - 15L\",\"10L - 15L\",\"More than 15L\",\"5L - 10L\",\"5L - 10L\",\"10L - 15L\",\"5L - 10L\",\"More than 15L\",\"More than 15L\",\"10L - 15L\",\"10L - 15L\",\"5L - 10L\",\"5L - 10L\",\"10L - 15L\",\"5L - 10L\",\"5L - 10L\",\"5L - 10L\",\"10L - 15L\",\"Less than 5L\",\"10L - 15L\",\"5L - 10L\",\"Less than 5L\",\"10L - 15L\",\"More than 15L\",\"Less than 5L\",\"10L - 15L\",\"5L - 10L\",\"10L - 15L\",\"Less than 5L\",\"More than 15L\",\"Less than 5L\",\"10L - 15L\",\"Less than 5L\",\"Less than 5L\",\"10L - 15L\",\"5L - 10L\",\"10L - 15L\",\"More than 15L\",\"Less than 5L\",\"5L - 10L\",\"10L - 15L\",\"5L - 10L\",\"5L - 10L\",\"Less than 5L\",\"Less than 5L\",\"More than 15L\",\"Less than 5L\",\"More than 15L\",\"Less than 5L\",\"10L - 15L\",\"Less than 5L\",\"10L - 15L\",\"10L - 15L\",\"5L - 10L\",\"5L - 10L\",\"10L - 15L\",\"5L - 10L\",\"5L - 10L\",\"10L - 15L\",\"More than 15L\",\"Less than 5L\",\"5L - 10L\",\"10L - 15L\",\"5L - 10L\",\"10L - 15L\",\"Less than 5L\",\"10L - 15L\",\"10L - 15L\",\"10L - 15L\",\"Less than 5L\",\"10L - 15L\",\"10L - 15L\",\"5L - 10L\",\"Less than 5L\",\"More than 15L\",\"5L - 10L\",\"More than 15L\",\"Less than 5L\",\"10L - 15L\",\"Less than 5L\",\"5L - 10L\",\"5L - 10L\",\"10L - 15L\",\"10L - 15L\",\"5L - 10L\",\"10L - 15L\",\"Less than 5L\",\"5L - 10L\",\"More than 15L\",\"More than 15L\",\"10L - 15L\",\"5L - 10L\",\"10L - 15L\",\"Less than 5L\",\"Less than 5L\",\"5L - 10L\",\"10L - 15L\",\"5L - 10L\",\"5L - 10L\",\"5L - 10L\",\"5L - 10L\",\"10L - 15L\",\"Less than 5L\",\"5L - 10L\",\"10L - 15L\",\"10L - 15L\",\"10L - 15L\",\"10L - 15L\",\"5L - 10L\",\"5L - 10L\",\"5L - 10L\",\"10L - 15L\",\"10L - 15L\",\"10L - 15L\",\"10L - 15L\",\"10L - 15L\",\"5L - 10L\",\"5L - 10L\",\"5L - 10L\",\"10L - 15L\",\"10L - 15L\",\"5L - 10L\",\"10L - 15L\",\"10L - 15L\",\"5L - 10L\",\"10L - 15L\",\"5L - 10L\",\"10L - 15L\",\"Less than 5L\",\"Less than 5L\",\"Less than 5L\",\"10L - 15L\",\"More than 15L\",\"More than 15L\",\"5L - 10L\",\"5L - 10L\",\"10L - 15L\",\"More than 15L\",\"Less than 5L\",\"More than 15L\",\"5L - 10L\",\"10L - 15L\",\"More than 15L\",\"10L - 15L\",\"5L - 10L\",\"More than 15L\",\"Less than 5L\",\"5L - 10L\",\"5L - 10L\",\"Less than 5L\",\"More than 15L\",\"5L - 10L\",\"10L - 15L\",\"10L - 15L\",\"10L - 15L\",\"10L - 15L\",\"Less than 5L\",\"10L - 15L\",\"More than 15L\",\"10L - 15L\",\"5L - 10L\",\"10L - 15L\",\"Less than 5L\",\"Less than 5L\",\"10L - 15L\",\"10L - 15L\",\"More than 15L\",\"10L - 15L\",\"Less than 5L\",\"More than 15L\",\"5L - 10L\",\"More than 15L\",\"5L - 10L\",\"5L - 10L\",\"5L - 10L\",\"Less than 5L\",\"More than 15L\",\"5L - 10L\",\"5L - 10L\",\"5L - 10L\",\"10L - 15L\",\"10L - 15L\",\"10L - 15L\",\"5L - 10L\",\"Less than 5L\",\"More than 15L\",\"More than 15L\",\"More than 15L\",\"5L - 10L\",\"More than 15L\",\"Less than 5L\",\"More than 15L\",\"10L - 15L\",\"10L - 15L\",\"More than 15L\",\"10L - 15L\",\"5L - 10L\",\"Less than 5L\",\"More than 15L\",\"5L - 10L\",\"More than 15L\",\"10L - 15L\",\"5L - 10L\",\"Less than 5L\",\"10L - 15L\",\"5L - 10L\",\"Less than 5L\",\"Less than 5L\",\"5L - 10L\",\"5L - 10L\",\"5L - 10L\",\"5L - 10L\",\"Less than 5L\",\"10L - 15L\",\"Less than 5L\",\"Less than 5L\",\"10L - 15L\",\"10L - 15L\",\"10L - 15L\",\"10L - 15L\",\"5L - 10L\",\"10L - 15L\",\"5L - 10L\",\"10L - 15L\",\"More than 15L\",\"5L - 10L\",\"5L - 10L\",\"10L - 15L\",\"Less than 5L\",\"10L - 15L\",\"5L - 10L\",\"More than 15L\",\"More than 15L\",\"5L - 10L\",\"5L - 10L\",\"10L - 15L\",\"10L - 15L\",\"10L - 15L\",\"Less than 5L\",\"5L - 10L\",\"5L - 10L\",\"Less than 5L\",\"5L - 10L\",\"Less than 5L\",\"Less than 5L\",\"5L - 10L\",\"10L - 15L\",\"10L - 15L\",\"Less than 5L\",\"Less than 5L\",\"More than 15L\",\"5L - 10L\",\"More than 15L\",\"Less than 5L\",\"10L - 15L\",\"10L - 15L\",\"10L - 15L\",\"More than 15L\",\"10L - 15L\",\"More than 15L\",\"10L - 15L\",\"5L - 10L\",\"Less than 5L\",\"Less than 5L\",\"10L - 15L\",\"5L - 10L\",\"Less than 5L\",\"10L - 15L\",\"Less than 5L\",\"Less than 5L\",\"Less than 5L\",\"5L - 10L\",\"Less than 5L\",\"10L - 15L\",\"Less than 5L\",\"10L - 15L\",\"5L - 10L\",\"Less than 5L\",\"10L - 15L\",\"5L - 10L\",\"Less than 5L\",\"10L - 15L\",\"5L - 10L\",\"5L - 10L\",\"Less than 5L\",\"Less than 5L\",\"10L - 15L\",\"More than 15L\",\"More than 15L\",\"10L - 15L\",\"Less than 5L\",\"10L - 15L\",\"5L - 10L\",\"Less than 5L\",\"5L - 10L\",\"More than 15L\",\"More than 15L\",\"10L - 15L\",\"10L - 15L\",\"Less than 5L\",\"5L - 10L\",\"Less than 5L\",\"More than 15L\",\"Less than 5L\",\"Less than 5L\",\"10L - 15L\",\"Less than 5L\",\"More than 15L\",\"10L - 15L\",\"More than 15L\",\"5L - 10L\",\"10L - 15L\",\"10L - 15L\",\"5L - 10L\",\"Less than 5L\",\"More than 15L\",\"5L - 10L\",\"Less than 5L\",\"10L - 15L\",\"More than 15L\",\"5L - 10L\",\"5L - 10L\",\"10L - 15L\",\"5L - 10L\",\"10L - 15L\",\"Less than 5L\",\"5L - 10L\",\"Less than 5L\",\"More than 15L\",\"Less than 5L\",\"5L - 10L\",\"More than 15L\",\"More than 15L\",\"10L - 15L\",\"5L - 10L\",\"More than 15L\",\"Less than 5L\",\"10L - 15L\",\"Less than 5L\",\"Less than 5L\",\"Less than 5L\",\"5L - 10L\",\"Less than 5L\",\"Less than 5L\",\"10L - 15L\",\"10L - 15L\",\"Less than 5L\",\"More than 15L\",\"10L - 15L\",\"5L - 10L\",\"10L - 15L\",\"5L - 10L\",\"Less than 5L\",\"10L - 15L\",\"5L - 10L\",\"Less than 5L\",\"10L - 15L\",\"10L - 15L\",\"More than 15L\",\"More than 15L\",\"5L - 10L\",\"10L - 15L\",\"5L - 10L\",\"5L - 10L\",\"10L - 15L\",\"Less than 5L\",\"5L - 10L\",\"Less than 5L\",\"More than 15L\",\"Less than 5L\",\"10L - 15L\",\"Less than 5L\",\"Less than 5L\",\"More than 15L\",\"More than 15L\",\"More than 15L\",\"Less than 5L\",\"10L - 15L\",\"More than 15L\",\"Less than 5L\",\"5L - 10L\",\"More than 15L\",\"10L - 15L\",\"Less than 5L\",\"10L - 15L\",\"More than 15L\",\"5L - 10L\",\"10L - 15L\",\"Less than 5L\",\"10L - 15L\",\"More than 15L\",\"5L - 10L\",\"Less than 5L\",\"10L - 15L\",\"5L - 10L\",\"Less than 5L\",\"Less than 5L\",\"10L - 15L\",\"10L - 15L\",\"10L - 15L\",\"Less than 5L\",\"More than 15L\",\"Less than 5L\",\"5L - 10L\",\"10L - 15L\",\"More than 15L\",\"10L - 15L\",\"5L - 10L\",\"Less than 5L\",\"5L - 10L\",\"10L - 15L\",\"Less than 5L\",\"10L - 15L\",\"10L - 15L\",\"5L - 10L\",\"Less than 5L\",\"10L - 15L\",\"10L - 15L\",\"5L - 10L\",\"10L - 15L\",\"Less than 5L\",\"5L - 10L\",\"Less than 5L\",\"More than 15L\",\"5L - 10L\",\"5L - 10L\",\"10L - 15L\",\"More than 15L\",\"Less than 5L\",\"5L - 10L\",\"More than 15L\",\"More than 15L\",\"5L - 10L\",\"More than 15L\",\"More than 15L\",\"10L - 15L\",\"10L - 15L\",\"10L - 15L\",\"Less than 5L\",\"More than 15L\",\"5L - 10L\",\"10L - 15L\",\"5L - 10L\",\"More than 15L\",\"10L - 15L\",\"10L - 15L\",\"More than 15L\",\"10L - 15L\",\"10L - 15L\",\"Less than 5L\",\"10L - 15L\",\"5L - 10L\",\"5L - 10L\",\"More than 15L\",\"5L - 10L\",\"5L - 10L\",\"10L - 15L\",\"More than 15L\",\"Less than 5L\",\"10L - 15L\",\"10L - 15L\",\"Less than 5L\",\"10L - 15L\",\"5L - 10L\",\"10L - 15L\",\"10L - 15L\",\"Less than 5L\",\"Less than 5L\",\"10L - 15L\",\"Less than 5L\",\"Less than 5L\",\"More than 15L\",\"10L - 15L\",\"10L - 15L\",\"Less than 5L\",\"10L - 15L\",\"5L - 10L\",\"5L - 10L\",\"10L - 15L\",\"More than 15L\",\"5L - 10L\",\"10L - 15L\",\"5L - 10L\",\"Less than 5L\",\"10L - 15L\",\"Less than 5L\",\"5L - 10L\",\"Less than 5L\",\"Less than 5L\",\"10L - 15L\",\"5L - 10L\",\"More than 15L\",\"More than 15L\",\"Less than 5L\",\"Less than 5L\",\"Less than 5L\",\"More than 15L\",\"More than 15L\",\"More than 15L\",\"5L - 10L\",\"5L - 10L\",\"5L - 10L\",\"5L - 10L\",\"10L - 15L\",\"5L - 10L\",\"More than 15L\",\"5L - 10L\",\"10L - 15L\",\"10L - 15L\",\"Less than 5L\",\"More than 15L\",\"10L - 15L\",\"10L - 15L\",\"Less than 5L\",\"5L - 10L\",\"5L - 10L\",\"10L - 15L\",\"10L - 15L\",\"Less than 5L\",\"5L - 10L\",\"More than 15L\",\"More than 15L\",\"10L - 15L\",\"5L - 10L\",\"5L - 10L\",\"Less than 5L\",\"More than 15L\",\"5L - 10L\",\"5L - 10L\",\"Less than 5L\",\"5L - 10L\",\"5L - 10L\",\"5L - 10L\",\"Less than 5L\",\"5L - 10L\",\"5L - 10L\",\"Less than 5L\",\"Less than 5L\",\"Less than 5L\",\"Less than 5L\",\"10L - 15L\",\"Less than 5L\",\"10L - 15L\",\"More than 15L\",\"10L - 15L\",\"Less than 5L\",\"5L - 10L\",\"10L - 15L\",\"5L - 10L\",\"More than 15L\",\"10L - 15L\",\"5L - 10L\",\"10L - 15L\",\"10L - 15L\",\"Less than 5L\",\"5L - 10L\",\"5L - 10L\",\"10L - 15L\",\"Less than 5L\",\"10L - 15L\",\"5L - 10L\",\"5L - 10L\",\"Less than 5L\",\"10L - 15L\",\"More than 15L\",\"5L - 10L\",\"10L - 15L\",\"More than 15L\",\"5L - 10L\",\"5L - 10L\",\"5L - 10L\",\"5L - 10L\",\"5L - 10L\",\"10L - 15L\",\"10L - 15L\",\"More than 15L\",\"Less than 5L\",\"Less than 5L\",\"5L - 10L\",\"10L - 15L\",\"5L - 10L\",\"More than 15L\",\"5L - 10L\",\"5L - 10L\",\"Less than 5L\",\"More than 15L\",\"5L - 10L\",\"Less than 5L\",\"More than 15L\",\"5L - 10L\",\"10L - 15L\",\"10L - 15L\",\"5L - 10L\",\"Less than 5L\",\"5L - 10L\",\"More than 15L\",\"More than 15L\",\"5L - 10L\",\"5L - 10L\",\"Less than 5L\",\"More than 15L\",\"Less than 5L\",\"Less than 5L\",\"10L - 15L\",\"Less than 5L\",\"5L - 10L\",\"5L - 10L\",\"More than 15L\",\"More than 15L\",\"5L - 10L\",\"5L - 10L\",\"More than 15L\",\"5L - 10L\",\"10L - 15L\",\"10L - 15L\",\"10L - 15L\",\"5L - 10L\",\"10L - 15L\",\"10L - 15L\",\"5L - 10L\",\"Less than 5L\",\"5L - 10L\",\"10L - 15L\",\"More than 15L\",\"More than 15L\",\"5L - 10L\",\"5L - 10L\",\"Less than 5L\",\"More than 15L\",\"5L - 10L\",\"More than 15L\",\"5L - 10L\",\"10L - 15L\",\"Less than 5L\",\"Less than 5L\",\"10L - 15L\",\"Less than 5L\",\"More than 15L\",\"5L - 10L\",\"5L - 10L\",\"5L - 10L\",\"10L - 15L\",\"5L - 10L\",\"More than 15L\",\"10L - 15L\",\"5L - 10L\",\"Less than 5L\",\"10L - 15L\",\"5L - 10L\",\"5L - 10L\",\"10L - 15L\",\"More than 15L\",\"5L - 10L\",\"5L - 10L\",\"10L - 15L\",\"Less than 5L\",\"10L - 15L\",\"5L - 10L\",\"Less than 5L\",\"Less than 5L\",\"Less than 5L\",\"10L - 15L\",\"Less than 5L\",\"Less than 5L\",\"10L - 15L\",\"More than 15L\",\"5L - 10L\",\"10L - 15L\",\"10L - 15L\",\"10L - 15L\",\"5L - 10L\",\"More than 15L\",\"Less than 5L\",\"10L - 15L\",\"More than 15L\",\"Less than 5L\",\"More than 15L\",\"10L - 15L\",\"Less than 5L\",\"10L - 15L\",\"10L - 15L\",\"5L - 10L\",\"More than 15L\",\"5L - 10L\",\"5L - 10L\",\"10L - 15L\",\"10L - 15L\",\"Less than 5L\",\"5L - 10L\",\"5L - 10L\",\"More than 15L\",\"Less than 5L\",\"10L - 15L\",\"5L - 10L\",\"10L - 15L\",\"5L - 10L\",\"5L - 10L\",\"10L - 15L\",\"10L - 15L\",\"10L - 15L\",\"Less than 5L\",\"5L - 10L\",\"10L - 15L\",\"More than 15L\",\"10L - 15L\",\"10L - 15L\",\"More than 15L\",\"5L - 10L\",\"Less than 5L\",\"10L - 15L\",\"5L - 10L\",\"More than 15L\",\"More than 15L\",\"5L - 10L\",\"More than 15L\",\"10L - 15L\",\"10L - 15L\",\"10L - 15L\",\"5L - 10L\",\"Less than 5L\",\"5L - 10L\",\"5L - 10L\",\"Less than 5L\",\"More than 15L\"],\"xaxis\":\"x\",\"yaxis\":\"y\",\"type\":\"histogram\"}],                        {\"template\":{\"data\":{\"bar\":[{\"error_x\":{\"color\":\"#2a3f5f\"},\"error_y\":{\"color\":\"#2a3f5f\"},\"marker\":{\"line\":{\"color\":\"#E5ECF6\",\"width\":0.5},\"pattern\":{\"fillmode\":\"overlay\",\"size\":10,\"solidity\":0.2}},\"type\":\"bar\"}],\"barpolar\":[{\"marker\":{\"line\":{\"color\":\"#E5ECF6\",\"width\":0.5},\"pattern\":{\"fillmode\":\"overlay\",\"size\":10,\"solidity\":0.2}},\"type\":\"barpolar\"}],\"carpet\":[{\"aaxis\":{\"endlinecolor\":\"#2a3f5f\",\"gridcolor\":\"white\",\"linecolor\":\"white\",\"minorgridcolor\":\"white\",\"startlinecolor\":\"#2a3f5f\"},\"baxis\":{\"endlinecolor\":\"#2a3f5f\",\"gridcolor\":\"white\",\"linecolor\":\"white\",\"minorgridcolor\":\"white\",\"startlinecolor\":\"#2a3f5f\"},\"type\":\"carpet\"}],\"choropleth\":[{\"colorbar\":{\"outlinewidth\":0,\"ticks\":\"\"},\"type\":\"choropleth\"}],\"contour\":[{\"colorbar\":{\"outlinewidth\":0,\"ticks\":\"\"},\"colorscale\":[[0.0,\"#0d0887\"],[0.1111111111111111,\"#46039f\"],[0.2222222222222222,\"#7201a8\"],[0.3333333333333333,\"#9c179e\"],[0.4444444444444444,\"#bd3786\"],[0.5555555555555556,\"#d8576b\"],[0.6666666666666666,\"#ed7953\"],[0.7777777777777778,\"#fb9f3a\"],[0.8888888888888888,\"#fdca26\"],[1.0,\"#f0f921\"]],\"type\":\"contour\"}],\"contourcarpet\":[{\"colorbar\":{\"outlinewidth\":0,\"ticks\":\"\"},\"type\":\"contourcarpet\"}],\"heatmap\":[{\"colorbar\":{\"outlinewidth\":0,\"ticks\":\"\"},\"colorscale\":[[0.0,\"#0d0887\"],[0.1111111111111111,\"#46039f\"],[0.2222222222222222,\"#7201a8\"],[0.3333333333333333,\"#9c179e\"],[0.4444444444444444,\"#bd3786\"],[0.5555555555555556,\"#d8576b\"],[0.6666666666666666,\"#ed7953\"],[0.7777777777777778,\"#fb9f3a\"],[0.8888888888888888,\"#fdca26\"],[1.0,\"#f0f921\"]],\"type\":\"heatmap\"}],\"heatmapgl\":[{\"colorbar\":{\"outlinewidth\":0,\"ticks\":\"\"},\"colorscale\":[[0.0,\"#0d0887\"],[0.1111111111111111,\"#46039f\"],[0.2222222222222222,\"#7201a8\"],[0.3333333333333333,\"#9c179e\"],[0.4444444444444444,\"#bd3786\"],[0.5555555555555556,\"#d8576b\"],[0.6666666666666666,\"#ed7953\"],[0.7777777777777778,\"#fb9f3a\"],[0.8888888888888888,\"#fdca26\"],[1.0,\"#f0f921\"]],\"type\":\"heatmapgl\"}],\"histogram\":[{\"marker\":{\"pattern\":{\"fillmode\":\"overlay\",\"size\":10,\"solidity\":0.2}},\"type\":\"histogram\"}],\"histogram2d\":[{\"colorbar\":{\"outlinewidth\":0,\"ticks\":\"\"},\"colorscale\":[[0.0,\"#0d0887\"],[0.1111111111111111,\"#46039f\"],[0.2222222222222222,\"#7201a8\"],[0.3333333333333333,\"#9c179e\"],[0.4444444444444444,\"#bd3786\"],[0.5555555555555556,\"#d8576b\"],[0.6666666666666666,\"#ed7953\"],[0.7777777777777778,\"#fb9f3a\"],[0.8888888888888888,\"#fdca26\"],[1.0,\"#f0f921\"]],\"type\":\"histogram2d\"}],\"histogram2dcontour\":[{\"colorbar\":{\"outlinewidth\":0,\"ticks\":\"\"},\"colorscale\":[[0.0,\"#0d0887\"],[0.1111111111111111,\"#46039f\"],[0.2222222222222222,\"#7201a8\"],[0.3333333333333333,\"#9c179e\"],[0.4444444444444444,\"#bd3786\"],[0.5555555555555556,\"#d8576b\"],[0.6666666666666666,\"#ed7953\"],[0.7777777777777778,\"#fb9f3a\"],[0.8888888888888888,\"#fdca26\"],[1.0,\"#f0f921\"]],\"type\":\"histogram2dcontour\"}],\"mesh3d\":[{\"colorbar\":{\"outlinewidth\":0,\"ticks\":\"\"},\"type\":\"mesh3d\"}],\"parcoords\":[{\"line\":{\"colorbar\":{\"outlinewidth\":0,\"ticks\":\"\"}},\"type\":\"parcoords\"}],\"pie\":[{\"automargin\":true,\"type\":\"pie\"}],\"scatter\":[{\"marker\":{\"colorbar\":{\"outlinewidth\":0,\"ticks\":\"\"}},\"type\":\"scatter\"}],\"scatter3d\":[{\"line\":{\"colorbar\":{\"outlinewidth\":0,\"ticks\":\"\"}},\"marker\":{\"colorbar\":{\"outlinewidth\":0,\"ticks\":\"\"}},\"type\":\"scatter3d\"}],\"scattercarpet\":[{\"marker\":{\"colorbar\":{\"outlinewidth\":0,\"ticks\":\"\"}},\"type\":\"scattercarpet\"}],\"scattergeo\":[{\"marker\":{\"colorbar\":{\"outlinewidth\":0,\"ticks\":\"\"}},\"type\":\"scattergeo\"}],\"scattergl\":[{\"marker\":{\"colorbar\":{\"outlinewidth\":0,\"ticks\":\"\"}},\"type\":\"scattergl\"}],\"scattermapbox\":[{\"marker\":{\"colorbar\":{\"outlinewidth\":0,\"ticks\":\"\"}},\"type\":\"scattermapbox\"}],\"scatterpolar\":[{\"marker\":{\"colorbar\":{\"outlinewidth\":0,\"ticks\":\"\"}},\"type\":\"scatterpolar\"}],\"scatterpolargl\":[{\"marker\":{\"colorbar\":{\"outlinewidth\":0,\"ticks\":\"\"}},\"type\":\"scatterpolargl\"}],\"scatterternary\":[{\"marker\":{\"colorbar\":{\"outlinewidth\":0,\"ticks\":\"\"}},\"type\":\"scatterternary\"}],\"surface\":[{\"colorbar\":{\"outlinewidth\":0,\"ticks\":\"\"},\"colorscale\":[[0.0,\"#0d0887\"],[0.1111111111111111,\"#46039f\"],[0.2222222222222222,\"#7201a8\"],[0.3333333333333333,\"#9c179e\"],[0.4444444444444444,\"#bd3786\"],[0.5555555555555556,\"#d8576b\"],[0.6666666666666666,\"#ed7953\"],[0.7777777777777778,\"#fb9f3a\"],[0.8888888888888888,\"#fdca26\"],[1.0,\"#f0f921\"]],\"type\":\"surface\"}],\"table\":[{\"cells\":{\"fill\":{\"color\":\"#EBF0F8\"},\"line\":{\"color\":\"white\"}},\"header\":{\"fill\":{\"color\":\"#C8D4E3\"},\"line\":{\"color\":\"white\"}},\"type\":\"table\"}]},\"layout\":{\"annotationdefaults\":{\"arrowcolor\":\"#2a3f5f\",\"arrowhead\":0,\"arrowwidth\":1},\"autotypenumbers\":\"strict\",\"coloraxis\":{\"colorbar\":{\"outlinewidth\":0,\"ticks\":\"\"}},\"colorscale\":{\"diverging\":[[0,\"#8e0152\"],[0.1,\"#c51b7d\"],[0.2,\"#de77ae\"],[0.3,\"#f1b6da\"],[0.4,\"#fde0ef\"],[0.5,\"#f7f7f7\"],[0.6,\"#e6f5d0\"],[0.7,\"#b8e186\"],[0.8,\"#7fbc41\"],[0.9,\"#4d9221\"],[1,\"#276419\"]],\"sequential\":[[0.0,\"#0d0887\"],[0.1111111111111111,\"#46039f\"],[0.2222222222222222,\"#7201a8\"],[0.3333333333333333,\"#9c179e\"],[0.4444444444444444,\"#bd3786\"],[0.5555555555555556,\"#d8576b\"],[0.6666666666666666,\"#ed7953\"],[0.7777777777777778,\"#fb9f3a\"],[0.8888888888888888,\"#fdca26\"],[1.0,\"#f0f921\"]],\"sequentialminus\":[[0.0,\"#0d0887\"],[0.1111111111111111,\"#46039f\"],[0.2222222222222222,\"#7201a8\"],[0.3333333333333333,\"#9c179e\"],[0.4444444444444444,\"#bd3786\"],[0.5555555555555556,\"#d8576b\"],[0.6666666666666666,\"#ed7953\"],[0.7777777777777778,\"#fb9f3a\"],[0.8888888888888888,\"#fdca26\"],[1.0,\"#f0f921\"]]},\"colorway\":[\"#636efa\",\"#EF553B\",\"#00cc96\",\"#ab63fa\",\"#FFA15A\",\"#19d3f3\",\"#FF6692\",\"#B6E880\",\"#FF97FF\",\"#FECB52\"],\"font\":{\"color\":\"#2a3f5f\"},\"geo\":{\"bgcolor\":\"white\",\"lakecolor\":\"white\",\"landcolor\":\"#E5ECF6\",\"showlakes\":true,\"showland\":true,\"subunitcolor\":\"white\"},\"hoverlabel\":{\"align\":\"left\"},\"hovermode\":\"closest\",\"mapbox\":{\"style\":\"light\"},\"paper_bgcolor\":\"white\",\"plot_bgcolor\":\"#E5ECF6\",\"polar\":{\"angularaxis\":{\"gridcolor\":\"white\",\"linecolor\":\"white\",\"ticks\":\"\"},\"bgcolor\":\"#E5ECF6\",\"radialaxis\":{\"gridcolor\":\"white\",\"linecolor\":\"white\",\"ticks\":\"\"}},\"scene\":{\"xaxis\":{\"backgroundcolor\":\"#E5ECF6\",\"gridcolor\":\"white\",\"gridwidth\":2,\"linecolor\":\"white\",\"showbackground\":true,\"ticks\":\"\",\"zerolinecolor\":\"white\"},\"yaxis\":{\"backgroundcolor\":\"#E5ECF6\",\"gridcolor\":\"white\",\"gridwidth\":2,\"linecolor\":\"white\",\"showbackground\":true,\"ticks\":\"\",\"zerolinecolor\":\"white\"},\"zaxis\":{\"backgroundcolor\":\"#E5ECF6\",\"gridcolor\":\"white\",\"gridwidth\":2,\"linecolor\":\"white\",\"showbackground\":true,\"ticks\":\"\",\"zerolinecolor\":\"white\"}},\"shapedefaults\":{\"line\":{\"color\":\"#2a3f5f\"}},\"ternary\":{\"aaxis\":{\"gridcolor\":\"white\",\"linecolor\":\"white\",\"ticks\":\"\"},\"baxis\":{\"gridcolor\":\"white\",\"linecolor\":\"white\",\"ticks\":\"\"},\"bgcolor\":\"#E5ECF6\",\"caxis\":{\"gridcolor\":\"white\",\"linecolor\":\"white\",\"ticks\":\"\"}},\"title\":{\"x\":0.05},\"xaxis\":{\"automargin\":true,\"gridcolor\":\"white\",\"linecolor\":\"white\",\"ticks\":\"\",\"title\":{\"standoff\":15},\"zerolinecolor\":\"white\",\"zerolinewidth\":2},\"yaxis\":{\"automargin\":true,\"gridcolor\":\"white\",\"linecolor\":\"white\",\"ticks\":\"\",\"title\":{\"standoff\":15},\"zerolinecolor\":\"white\",\"zerolinewidth\":2}}},\"xaxis\":{\"anchor\":\"y\",\"domain\":[0.0,1.0],\"title\":{\"text\":\"Income\"}},\"yaxis\":{\"anchor\":\"x\",\"domain\":[0.0,1.0],\"title\":{\"text\":\"count\"}},\"legend\":{\"title\":{\"text\":\"Is_Churn\"},\"tracegroupgap\":0},\"title\":{\"text\":\"Income vs Is_Churn \"},\"barmode\":\"relative\",\"height\":550,\"width\":800},                        {\"responsive\": true}                    ).then(function(){\n",
              "                            \n",
              "var gd = document.getElementById('e6371f30-8881-4fe2-9e9b-cf24a801cff6');\n",
              "var x = new MutationObserver(function (mutations, observer) {{\n",
              "        var display = window.getComputedStyle(gd).display;\n",
              "        if (!display || display === 'none') {{\n",
              "            console.log([gd, 'removed!']);\n",
              "            Plotly.purge(gd);\n",
              "            observer.disconnect();\n",
              "        }}\n",
              "}});\n",
              "\n",
              "// Listen for the removal of the full notebook cells\n",
              "var notebookContainer = gd.closest('#notebook-container');\n",
              "if (notebookContainer) {{\n",
              "    x.observe(notebookContainer, {childList: true});\n",
              "}}\n",
              "\n",
              "// Listen for the clearing of the current output cell\n",
              "var outputEl = gd.closest('.output');\n",
              "if (outputEl) {{\n",
              "    x.observe(outputEl, {childList: true});\n",
              "}}\n",
              "\n",
              "                        })                };                            </script>        </div>\n",
              "</body>\n",
              "</html>"
            ]
          },
          "metadata": {}
        }
      ]
    },
    {
      "cell_type": "code",
      "source": [
        "px.histogram(train_df, x='Credit_Category', title='Credit_Category vs Is_Churn ', color='Is_Churn',width=800, height=550)"
      ],
      "metadata": {
        "colab": {
          "base_uri": "https://localhost:8080/",
          "height": 567
        },
        "id": "icPa6Pi_3UAP",
        "outputId": "d5c83abc-bfa6-426d-cf3b-6b1ab22712f3"
      },
      "execution_count": null,
      "outputs": [
        {
          "output_type": "display_data",
          "data": {
            "text/html": [
              "<html>\n",
              "<head><meta charset=\"utf-8\" /></head>\n",
              "<body>\n",
              "    <div>            <script src=\"https://cdnjs.cloudflare.com/ajax/libs/mathjax/2.7.5/MathJax.js?config=TeX-AMS-MML_SVG\"></script><script type=\"text/javascript\">if (window.MathJax) {MathJax.Hub.Config({SVG: {font: \"STIX-Web\"}});}</script>                <script type=\"text/javascript\">window.PlotlyConfig = {MathJaxConfig: 'local'};</script>\n",
              "        <script src=\"https://cdn.plot.ly/plotly-2.8.3.min.js\"></script>                <div id=\"2c442788-8762-487f-a326-6d4b4991360f\" class=\"plotly-graph-div\" style=\"height:550px; width:800px;\"></div>            <script type=\"text/javascript\">                                    window.PLOTLYENV=window.PLOTLYENV || {};                                    if (document.getElementById(\"2c442788-8762-487f-a326-6d4b4991360f\")) {                    Plotly.newPlot(                        \"2c442788-8762-487f-a326-6d4b4991360f\",                        [{\"alignmentgroup\":\"True\",\"bingroup\":\"x\",\"hovertemplate\":\"Is_Churn=1<br>Credit_Category=%{x}<br>count=%{y}<extra></extra>\",\"legendgroup\":\"1\",\"marker\":{\"color\":\"#636efa\",\"pattern\":{\"shape\":\"\"}},\"name\":\"1\",\"offsetgroup\":\"1\",\"orientation\":\"v\",\"showlegend\":true,\"x\":[\"Average\",\"Poor\",\"Good\",\"Poor\",\"Poor\",\"Average\",\"Poor\",\"Average\",\"Poor\",\"Poor\",\"Poor\",\"Average\",\"Poor\",\"Average\",\"Poor\",\"Average\",\"Good\",\"Poor\",\"Average\",\"Poor\",\"Poor\",\"Poor\",\"Good\",\"Average\",\"Poor\",\"Average\",\"Good\",\"Poor\",\"Poor\",\"Average\",\"Poor\",\"Poor\",\"Good\",\"Average\",\"Poor\",\"Poor\",\"Poor\",\"Good\",\"Poor\",\"Poor\",\"Poor\",\"Poor\",\"Average\",\"Average\",\"Poor\",\"Good\",\"Poor\",\"Average\",\"Poor\",\"Average\",\"Average\",\"Poor\",\"Average\",\"Poor\",\"Poor\",\"Poor\",\"Good\",\"Poor\",\"Poor\",\"Poor\",\"Good\",\"Average\",\"Poor\",\"Poor\",\"Poor\",\"Poor\",\"Good\",\"Poor\",\"Poor\",\"Poor\",\"Good\",\"Poor\",\"Poor\",\"Good\",\"Average\",\"Average\",\"Poor\",\"Poor\",\"Poor\",\"Poor\",\"Average\",\"Average\",\"Poor\",\"Good\",\"Average\",\"Poor\",\"Average\",\"Average\",\"Good\",\"Poor\",\"Average\",\"Poor\",\"Average\",\"Good\",\"Poor\",\"Average\",\"Good\",\"Poor\",\"Average\",\"Poor\",\"Poor\",\"Good\",\"Average\",\"Average\",\"Average\",\"Poor\",\"Good\",\"Poor\",\"Average\",\"Poor\",\"Good\",\"Poor\",\"Good\",\"Poor\",\"Good\",\"Average\",\"Poor\",\"Poor\",\"Average\",\"Average\",\"Poor\",\"Poor\",\"Poor\",\"Average\",\"Poor\",\"Poor\",\"Average\",\"Poor\",\"Poor\",\"Poor\",\"Good\",\"Good\",\"Average\",\"Average\",\"Poor\",\"Poor\",\"Poor\",\"Average\",\"Poor\",\"Average\",\"Poor\",\"Average\",\"Good\",\"Good\",\"Poor\",\"Average\",\"Good\",\"Poor\",\"Average\",\"Poor\",\"Poor\",\"Good\",\"Average\",\"Average\",\"Average\",\"Average\",\"Poor\",\"Poor\",\"Average\",\"Good\",\"Good\",\"Poor\",\"Poor\",\"Average\",\"Poor\",\"Poor\",\"Average\",\"Poor\",\"Poor\",\"Average\",\"Poor\",\"Good\",\"Poor\",\"Poor\",\"Poor\",\"Poor\",\"Average\",\"Poor\",\"Average\",\"Poor\",\"Average\",\"Good\",\"Poor\",\"Poor\",\"Average\",\"Good\",\"Good\",\"Average\",\"Poor\",\"Poor\",\"Average\",\"Poor\",\"Poor\",\"Poor\",\"Poor\",\"Average\",\"Poor\",\"Poor\",\"Poor\",\"Poor\",\"Average\",\"Average\",\"Poor\",\"Poor\",\"Good\",\"Poor\",\"Poor\",\"Poor\",\"Average\",\"Poor\",\"Poor\",\"Poor\",\"Average\",\"Poor\",\"Poor\",\"Poor\",\"Good\",\"Average\",\"Poor\",\"Poor\",\"Good\",\"Average\",\"Good\",\"Average\",\"Average\",\"Good\",\"Average\",\"Average\",\"Poor\",\"Good\",\"Poor\",\"Poor\",\"Average\",\"Average\",\"Average\",\"Average\",\"Good\",\"Average\",\"Average\",\"Average\",\"Poor\",\"Poor\",\"Poor\",\"Poor\",\"Average\",\"Poor\",\"Average\",\"Good\",\"Poor\",\"Poor\",\"Poor\",\"Poor\",\"Average\",\"Average\",\"Poor\",\"Poor\",\"Poor\",\"Poor\",\"Average\",\"Average\",\"Poor\",\"Poor\",\"Average\",\"Average\",\"Good\",\"Average\",\"Poor\",\"Poor\",\"Good\",\"Average\",\"Poor\",\"Poor\",\"Poor\",\"Poor\",\"Average\",\"Average\",\"Poor\",\"Good\",\"Poor\",\"Poor\",\"Good\",\"Good\",\"Good\",\"Poor\",\"Poor\",\"Poor\",\"Poor\",\"Good\",\"Poor\",\"Average\",\"Poor\",\"Poor\",\"Average\",\"Average\",\"Average\",\"Poor\",\"Good\",\"Poor\",\"Good\",\"Poor\",\"Poor\",\"Average\",\"Poor\",\"Poor\",\"Poor\",\"Poor\",\"Poor\",\"Poor\",\"Poor\",\"Poor\",\"Good\",\"Poor\",\"Poor\",\"Poor\",\"Poor\",\"Poor\",\"Poor\",\"Poor\",\"Average\",\"Average\",\"Poor\",\"Good\",\"Poor\",\"Poor\",\"Poor\",\"Poor\",\"Good\",\"Average\",\"Poor\",\"Average\",\"Poor\",\"Poor\",\"Poor\",\"Average\",\"Poor\",\"Average\",\"Poor\",\"Poor\",\"Average\",\"Poor\",\"Average\",\"Average\",\"Average\",\"Poor\",\"Poor\",\"Good\",\"Good\",\"Poor\",\"Poor\",\"Average\",\"Poor\",\"Average\",\"Poor\",\"Good\",\"Poor\",\"Average\",\"Poor\",\"Poor\",\"Good\",\"Average\",\"Poor\",\"Poor\",\"Poor\",\"Poor\",\"Good\",\"Poor\",\"Poor\",\"Poor\",\"Poor\",\"Poor\",\"Good\",\"Poor\",\"Average\",\"Poor\",\"Average\",\"Good\",\"Average\",\"Average\",\"Average\",\"Good\",\"Good\",\"Poor\",\"Poor\",\"Good\",\"Average\",\"Poor\",\"Good\",\"Average\",\"Good\",\"Poor\",\"Good\",\"Average\",\"Poor\",\"Poor\",\"Poor\",\"Poor\",\"Poor\",\"Average\",\"Poor\",\"Poor\",\"Poor\",\"Poor\",\"Good\",\"Good\",\"Poor\",\"Poor\",\"Poor\",\"Poor\",\"Poor\",\"Poor\",\"Poor\",\"Poor\",\"Good\",\"Average\",\"Average\",\"Good\",\"Good\",\"Average\",\"Poor\",\"Average\",\"Average\",\"Good\",\"Poor\",\"Good\",\"Poor\",\"Average\",\"Poor\",\"Poor\",\"Poor\",\"Poor\",\"Good\",\"Average\",\"Average\",\"Good\",\"Poor\",\"Good\",\"Poor\",\"Poor\",\"Average\",\"Poor\",\"Poor\",\"Average\",\"Good\",\"Poor\",\"Average\",\"Poor\",\"Average\",\"Poor\",\"Poor\",\"Good\",\"Average\",\"Average\",\"Poor\",\"Poor\",\"Average\",\"Good\",\"Good\",\"Average\",\"Good\",\"Average\",\"Poor\",\"Average\",\"Average\",\"Average\",\"Poor\",\"Poor\",\"Average\",\"Average\",\"Average\",\"Average\",\"Average\",\"Average\",\"Average\",\"Poor\",\"Good\",\"Average\",\"Poor\",\"Good\",\"Poor\",\"Poor\",\"Average\",\"Average\",\"Poor\",\"Poor\",\"Average\",\"Average\",\"Good\",\"Poor\",\"Average\",\"Average\",\"Good\",\"Average\",\"Poor\",\"Poor\",\"Poor\",\"Poor\",\"Poor\",\"Poor\",\"Good\",\"Good\",\"Poor\",\"Good\",\"Average\",\"Poor\",\"Average\",\"Good\",\"Good\",\"Average\",\"Poor\",\"Poor\",\"Average\",\"Good\",\"Average\",\"Average\",\"Poor\",\"Poor\",\"Good\",\"Average\",\"Poor\",\"Poor\",\"Average\",\"Poor\",\"Poor\",\"Good\",\"Poor\",\"Average\",\"Good\",\"Good\",\"Poor\",\"Good\",\"Poor\",\"Average\",\"Poor\",\"Average\",\"Poor\",\"Average\",\"Poor\",\"Good\",\"Average\",\"Poor\",\"Average\",\"Poor\",\"Poor\",\"Poor\",\"Good\",\"Poor\",\"Poor\",\"Poor\",\"Poor\",\"Poor\",\"Good\",\"Average\",\"Poor\",\"Average\",\"Poor\",\"Average\",\"Poor\",\"Poor\",\"Good\",\"Poor\",\"Good\",\"Poor\",\"Average\",\"Poor\",\"Good\",\"Poor\",\"Poor\",\"Poor\",\"Average\",\"Poor\",\"Good\",\"Average\",\"Average\",\"Average\",\"Poor\",\"Average\",\"Average\",\"Poor\",\"Poor\",\"Poor\",\"Good\",\"Poor\",\"Average\",\"Poor\",\"Poor\",\"Poor\",\"Poor\",\"Poor\",\"Good\",\"Good\",\"Poor\",\"Good\",\"Poor\",\"Poor\",\"Average\",\"Poor\",\"Average\",\"Poor\",\"Average\",\"Average\",\"Good\",\"Good\",\"Good\",\"Average\",\"Poor\",\"Poor\",\"Average\",\"Poor\",\"Poor\",\"Poor\",\"Poor\",\"Average\",\"Average\",\"Good\",\"Average\",\"Poor\",\"Poor\",\"Good\",\"Poor\",\"Good\",\"Good\",\"Average\",\"Poor\",\"Average\",\"Good\",\"Poor\",\"Good\",\"Average\",\"Poor\",\"Poor\",\"Good\",\"Good\",\"Poor\",\"Poor\",\"Poor\",\"Poor\",\"Good\",\"Poor\",\"Average\",\"Average\",\"Good\",\"Average\",\"Poor\",\"Poor\",\"Average\",\"Average\",\"Poor\",\"Poor\",\"Poor\",\"Average\",\"Average\",\"Average\",\"Good\",\"Poor\",\"Poor\",\"Good\",\"Poor\",\"Good\",\"Average\",\"Average\",\"Good\",\"Good\",\"Good\",\"Average\",\"Poor\",\"Average\",\"Average\",\"Poor\",\"Poor\",\"Poor\",\"Good\",\"Poor\",\"Poor\",\"Average\",\"Poor\",\"Poor\",\"Average\",\"Poor\",\"Poor\",\"Poor\",\"Good\",\"Poor\",\"Average\",\"Average\",\"Poor\",\"Poor\",\"Good\",\"Poor\",\"Good\",\"Poor\",\"Average\",\"Average\",\"Poor\",\"Poor\",\"Good\",\"Good\",\"Poor\",\"Average\",\"Poor\",\"Average\",\"Average\",\"Poor\",\"Good\",\"Poor\",\"Good\",\"Poor\",\"Poor\",\"Poor\",\"Average\",\"Good\",\"Good\",\"Poor\",\"Good\",\"Poor\",\"Good\",\"Poor\",\"Good\",\"Average\",\"Average\",\"Average\",\"Poor\",\"Poor\",\"Good\",\"Average\",\"Poor\",\"Poor\",\"Poor\",\"Good\",\"Good\",\"Good\",\"Poor\",\"Average\",\"Good\",\"Good\",\"Average\",\"Good\",\"Poor\",\"Poor\",\"Poor\",\"Poor\",\"Poor\",\"Average\",\"Average\",\"Poor\",\"Good\",\"Average\",\"Good\",\"Poor\",\"Average\",\"Poor\",\"Poor\",\"Poor\",\"Average\",\"Poor\",\"Good\",\"Good\",\"Good\",\"Poor\",\"Good\",\"Poor\",\"Good\",\"Good\",\"Average\",\"Good\",\"Poor\",\"Poor\",\"Poor\",\"Average\",\"Poor\",\"Average\",\"Poor\",\"Poor\",\"Good\",\"Good\",\"Average\",\"Poor\",\"Average\",\"Poor\",\"Poor\",\"Poor\",\"Poor\",\"Poor\",\"Average\",\"Good\",\"Average\",\"Poor\",\"Good\",\"Poor\",\"Poor\",\"Poor\",\"Good\",\"Good\",\"Average\",\"Average\",\"Poor\",\"Poor\",\"Poor\",\"Good\",\"Poor\",\"Average\",\"Average\",\"Average\",\"Poor\",\"Poor\",\"Good\",\"Good\",\"Poor\",\"Poor\",\"Average\",\"Poor\",\"Poor\",\"Average\",\"Average\",\"Good\",\"Average\",\"Average\",\"Poor\",\"Average\",\"Poor\",\"Poor\",\"Poor\",\"Average\",\"Poor\",\"Poor\",\"Good\",\"Average\",\"Good\",\"Poor\",\"Average\",\"Poor\",\"Good\",\"Average\",\"Good\",\"Good\",\"Poor\",\"Average\",\"Average\",\"Average\",\"Poor\",\"Average\",\"Poor\",\"Poor\",\"Poor\",\"Poor\",\"Average\",\"Average\",\"Poor\",\"Poor\",\"Good\",\"Poor\",\"Poor\",\"Poor\",\"Average\",\"Poor\",\"Poor\",\"Good\",\"Poor\",\"Poor\",\"Poor\",\"Average\",\"Poor\",\"Average\",\"Poor\",\"Poor\",\"Good\",\"Average\",\"Poor\",\"Good\",\"Poor\",\"Poor\",\"Poor\",\"Average\",\"Average\",\"Poor\",\"Poor\",\"Poor\",\"Poor\",\"Poor\",\"Poor\",\"Poor\",\"Poor\",\"Average\",\"Poor\",\"Good\",\"Average\",\"Poor\",\"Average\",\"Average\",\"Average\",\"Poor\",\"Average\",\"Poor\",\"Poor\",\"Average\",\"Poor\",\"Poor\",\"Poor\",\"Poor\",\"Poor\",\"Average\",\"Poor\",\"Poor\",\"Poor\",\"Average\",\"Average\",\"Poor\",\"Poor\",\"Average\",\"Poor\",\"Average\",\"Poor\",\"Average\",\"Poor\",\"Poor\",\"Poor\",\"Poor\",\"Good\",\"Good\",\"Average\",\"Poor\",\"Poor\",\"Poor\",\"Average\",\"Good\",\"Average\",\"Average\",\"Average\",\"Good\",\"Poor\",\"Average\",\"Average\",\"Average\",\"Poor\",\"Good\",\"Average\",\"Average\",\"Poor\",\"Poor\",\"Good\",\"Poor\",\"Poor\",\"Good\",\"Average\",\"Poor\",\"Poor\",\"Good\",\"Average\",\"Good\",\"Good\",\"Average\",\"Poor\",\"Poor\",\"Poor\",\"Poor\",\"Poor\",\"Poor\",\"Poor\",\"Average\",\"Average\",\"Average\",\"Average\",\"Poor\",\"Poor\",\"Average\",\"Average\",\"Average\",\"Average\",\"Average\",\"Poor\",\"Good\",\"Average\",\"Average\",\"Poor\",\"Poor\",\"Poor\",\"Poor\",\"Poor\",\"Average\",\"Average\",\"Poor\",\"Good\",\"Average\",\"Average\",\"Poor\",\"Average\",\"Poor\",\"Poor\",\"Poor\",\"Poor\",\"Average\",\"Average\",\"Good\",\"Average\",\"Poor\",\"Poor\",\"Poor\",\"Poor\",\"Poor\",\"Average\",\"Poor\",\"Poor\",\"Poor\",\"Poor\",\"Poor\",\"Average\",\"Poor\",\"Good\",\"Average\",\"Poor\",\"Good\",\"Average\",\"Poor\",\"Average\",\"Average\",\"Poor\",\"Poor\",\"Average\",\"Good\",\"Good\",\"Poor\",\"Poor\",\"Poor\",\"Average\",\"Good\",\"Average\",\"Good\",\"Good\",\"Good\",\"Poor\",\"Poor\",\"Average\",\"Average\",\"Poor\",\"Average\",\"Average\",\"Poor\",\"Average\",\"Poor\",\"Poor\",\"Good\",\"Poor\",\"Average\",\"Average\",\"Good\",\"Average\",\"Poor\",\"Good\",\"Poor\",\"Poor\",\"Poor\",\"Poor\",\"Good\",\"Good\",\"Poor\",\"Good\",\"Average\",\"Poor\",\"Good\",\"Poor\",\"Average\",\"Poor\",\"Average\",\"Good\",\"Poor\",\"Average\",\"Average\",\"Poor\",\"Good\",\"Good\",\"Poor\",\"Poor\",\"Average\",\"Poor\",\"Good\",\"Average\",\"Average\",\"Poor\",\"Good\",\"Poor\",\"Good\",\"Average\",\"Poor\",\"Poor\",\"Poor\",\"Good\",\"Poor\",\"Poor\",\"Average\",\"Average\",\"Poor\",\"Poor\",\"Average\",\"Poor\",\"Good\",\"Good\",\"Poor\",\"Average\",\"Average\",\"Average\",\"Average\",\"Poor\",\"Poor\",\"Poor\",\"Good\",\"Poor\",\"Average\",\"Poor\",\"Poor\",\"Average\",\"Poor\",\"Average\",\"Average\",\"Average\",\"Good\",\"Poor\",\"Poor\",\"Poor\",\"Poor\",\"Good\",\"Poor\",\"Average\",\"Poor\",\"Average\",\"Poor\",\"Poor\",\"Good\",\"Good\",\"Average\",\"Good\",\"Good\",\"Average\",\"Poor\",\"Poor\",\"Average\",\"Good\",\"Poor\",\"Poor\",\"Poor\",\"Average\",\"Good\",\"Poor\",\"Poor\",\"Good\",\"Poor\",\"Average\",\"Average\",\"Average\",\"Good\",\"Poor\",\"Good\",\"Good\",\"Poor\",\"Poor\",\"Average\",\"Poor\",\"Poor\",\"Average\",\"Average\",\"Poor\",\"Good\",\"Good\",\"Poor\",\"Good\",\"Poor\",\"Good\",\"Average\",\"Average\",\"Average\",\"Poor\",\"Average\",\"Average\",\"Poor\",\"Poor\",\"Poor\",\"Poor\",\"Average\",\"Average\",\"Poor\",\"Poor\",\"Good\",\"Poor\",\"Good\",\"Average\",\"Average\",\"Average\",\"Average\",\"Poor\",\"Average\",\"Poor\",\"Poor\",\"Poor\",\"Average\",\"Good\",\"Poor\",\"Poor\",\"Average\",\"Good\",\"Good\",\"Poor\",\"Poor\",\"Poor\",\"Average\",\"Good\",\"Average\",\"Poor\",\"Good\",\"Average\",\"Poor\",\"Poor\",\"Poor\",\"Poor\",\"Poor\",\"Average\",\"Poor\",\"Good\",\"Average\",\"Poor\",\"Average\",\"Poor\",\"Poor\",\"Poor\",\"Poor\",\"Average\",\"Average\",\"Good\",\"Average\",\"Average\",\"Good\",\"Poor\",\"Good\",\"Poor\",\"Average\",\"Poor\",\"Average\",\"Average\",\"Good\",\"Poor\",\"Poor\",\"Poor\",\"Poor\",\"Poor\",\"Average\",\"Average\",\"Average\",\"Poor\",\"Poor\",\"Good\",\"Poor\",\"Average\",\"Good\",\"Average\",\"Good\",\"Poor\",\"Good\",\"Good\",\"Poor\",\"Average\",\"Good\",\"Average\",\"Poor\",\"Poor\",\"Poor\",\"Poor\",\"Poor\",\"Good\",\"Average\",\"Poor\",\"Good\",\"Average\",\"Poor\",\"Poor\",\"Poor\",\"Good\",\"Good\",\"Good\",\"Average\",\"Poor\",\"Good\",\"Poor\",\"Poor\",\"Good\",\"Average\",\"Poor\",\"Average\",\"Average\",\"Average\",\"Average\",\"Poor\",\"Good\",\"Poor\",\"Average\",\"Average\",\"Poor\",\"Poor\",\"Poor\",\"Poor\",\"Good\",\"Poor\",\"Good\",\"Poor\",\"Poor\",\"Average\",\"Average\",\"Poor\",\"Good\",\"Poor\",\"Average\",\"Poor\",\"Poor\",\"Average\",\"Poor\",\"Average\",\"Good\",\"Average\",\"Average\",\"Poor\",\"Average\",\"Poor\",\"Poor\",\"Good\",\"Poor\",\"Good\",\"Poor\",\"Poor\",\"Poor\",\"Good\",\"Poor\",\"Average\",\"Average\",\"Good\",\"Average\",\"Poor\",\"Poor\",\"Average\",\"Good\",\"Poor\",\"Good\",\"Average\",\"Average\",\"Average\",\"Poor\",\"Average\",\"Good\",\"Average\",\"Poor\",\"Poor\",\"Average\",\"Poor\",\"Poor\",\"Poor\",\"Poor\",\"Average\",\"Good\",\"Good\",\"Poor\",\"Average\",\"Poor\",\"Poor\",\"Good\",\"Poor\",\"Poor\",\"Poor\",\"Average\",\"Poor\",\"Poor\",\"Poor\",\"Average\",\"Good\",\"Poor\",\"Poor\",\"Poor\",\"Poor\",\"Good\",\"Good\",\"Average\",\"Average\",\"Poor\",\"Poor\",\"Average\",\"Average\",\"Poor\",\"Poor\",\"Good\",\"Average\",\"Poor\",\"Good\",\"Good\",\"Poor\",\"Average\",\"Poor\",\"Poor\",\"Average\",\"Good\",\"Poor\",\"Good\",\"Average\",\"Good\",\"Average\",\"Average\",\"Poor\",\"Average\",\"Average\",\"Poor\",\"Average\",\"Average\",\"Poor\",\"Poor\",\"Poor\",\"Poor\",\"Average\",\"Average\",\"Poor\",\"Poor\",\"Poor\",\"Poor\",\"Good\",\"Good\",\"Average\",\"Poor\",\"Average\",\"Good\",\"Poor\",\"Average\",\"Poor\",\"Good\",\"Poor\",\"Poor\",\"Poor\",\"Good\",\"Average\",\"Poor\",\"Poor\",\"Average\",\"Good\",\"Average\",\"Poor\",\"Average\",\"Good\",\"Good\",\"Poor\",\"Average\",\"Average\",\"Good\",\"Poor\",\"Average\",\"Poor\",\"Average\",\"Average\",\"Poor\",\"Average\",\"Average\",\"Average\",\"Good\",\"Poor\",\"Good\",\"Poor\",\"Poor\",\"Poor\",\"Poor\",\"Average\",\"Poor\",\"Poor\",\"Good\",\"Poor\",\"Poor\",\"Poor\",\"Good\",\"Poor\",\"Good\",\"Average\",\"Average\",\"Good\",\"Average\",\"Average\",\"Poor\",\"Poor\",\"Poor\",\"Poor\",\"Poor\",\"Poor\",\"Poor\",\"Average\",\"Poor\",\"Poor\",\"Poor\",\"Good\",\"Poor\",\"Poor\",\"Average\",\"Good\",\"Average\",\"Poor\",\"Average\",\"Good\",\"Poor\",\"Average\",\"Average\",\"Poor\",\"Average\",\"Average\",\"Good\",\"Average\",\"Good\",\"Good\",\"Average\",\"Good\",\"Average\",\"Good\",\"Good\",\"Average\",\"Poor\",\"Good\",\"Average\",\"Poor\",\"Good\",\"Good\",\"Good\",\"Good\",\"Average\",\"Good\",\"Poor\",\"Average\",\"Good\",\"Good\",\"Poor\",\"Poor\",\"Average\",\"Poor\",\"Average\",\"Good\",\"Poor\",\"Poor\",\"Poor\",\"Poor\",\"Poor\",\"Poor\",\"Poor\"],\"xaxis\":\"x\",\"yaxis\":\"y\",\"type\":\"histogram\"},{\"alignmentgroup\":\"True\",\"bingroup\":\"x\",\"hovertemplate\":\"Is_Churn=0<br>Credit_Category=%{x}<br>count=%{y}<extra></extra>\",\"legendgroup\":\"0\",\"marker\":{\"color\":\"#EF553B\",\"pattern\":{\"shape\":\"\"}},\"name\":\"0\",\"offsetgroup\":\"0\",\"orientation\":\"v\",\"showlegend\":true,\"x\":[\"Poor\",\"Poor\",\"Good\",\"Average\",\"Poor\",\"Poor\",\"Average\",\"Good\",\"Poor\",\"Poor\",\"Good\",\"Poor\",\"Poor\",\"Poor\",\"Poor\",\"Poor\",\"Average\",\"Average\",\"Poor\",\"Average\",\"Good\",\"Poor\",\"Average\",\"Average\",\"Average\",\"Good\",\"Good\",\"Average\",\"Poor\",\"Average\",\"Good\",\"Good\",\"Poor\",\"Average\",\"Poor\",\"Average\",\"Poor\",\"Good\",\"Average\",\"Good\",\"Poor\",\"Good\",\"Average\",\"Average\",\"Good\",\"Average\",\"Good\",\"Good\",\"Average\",\"Poor\",\"Good\",\"Poor\",\"Average\",\"Average\",\"Good\",\"Good\",\"Good\",\"Poor\",\"Good\",\"Average\",\"Average\",\"Good\",\"Poor\",\"Poor\",\"Poor\",\"Average\",\"Poor\",\"Good\",\"Poor\",\"Poor\",\"Average\",\"Poor\",\"Good\",\"Poor\",\"Average\",\"Poor\",\"Poor\",\"Poor\",\"Good\",\"Poor\",\"Poor\",\"Poor\",\"Poor\",\"Average\",\"Average\",\"Average\",\"Poor\",\"Average\",\"Good\",\"Poor\",\"Poor\",\"Good\",\"Average\",\"Average\",\"Poor\",\"Poor\",\"Good\",\"Poor\",\"Good\",\"Good\",\"Poor\",\"Good\",\"Average\",\"Poor\",\"Poor\",\"Average\",\"Good\",\"Poor\",\"Good\",\"Good\",\"Poor\",\"Poor\",\"Good\",\"Poor\",\"Poor\",\"Average\",\"Good\",\"Poor\",\"Good\",\"Average\",\"Average\",\"Poor\",\"Good\",\"Poor\",\"Average\",\"Average\",\"Average\",\"Average\",\"Good\",\"Average\",\"Poor\",\"Poor\",\"Poor\",\"Poor\",\"Poor\",\"Good\",\"Poor\",\"Good\",\"Average\",\"Good\",\"Average\",\"Poor\",\"Average\",\"Average\",\"Good\",\"Poor\",\"Average\",\"Good\",\"Poor\",\"Average\",\"Good\",\"Average\",\"Average\",\"Poor\",\"Poor\",\"Average\",\"Average\",\"Average\",\"Average\",\"Poor\",\"Poor\",\"Poor\",\"Poor\",\"Good\",\"Good\",\"Average\",\"Poor\",\"Average\",\"Average\",\"Average\",\"Good\",\"Poor\",\"Poor\",\"Average\",\"Poor\",\"Good\",\"Good\",\"Average\",\"Poor\",\"Poor\",\"Poor\",\"Average\",\"Average\",\"Poor\",\"Poor\",\"Average\",\"Poor\",\"Poor\",\"Good\",\"Poor\",\"Good\",\"Good\",\"Poor\",\"Average\",\"Good\",\"Average\",\"Poor\",\"Average\",\"Good\",\"Poor\",\"Good\",\"Poor\",\"Average\",\"Poor\",\"Good\",\"Poor\",\"Good\",\"Average\",\"Average\",\"Average\",\"Poor\",\"Good\",\"Poor\",\"Poor\",\"Average\",\"Poor\",\"Good\",\"Average\",\"Good\",\"Good\",\"Good\",\"Poor\",\"Poor\",\"Average\",\"Poor\",\"Average\",\"Average\",\"Good\",\"Average\",\"Poor\",\"Good\",\"Good\",\"Average\",\"Poor\",\"Average\",\"Poor\",\"Poor\",\"Average\",\"Average\",\"Good\",\"Good\",\"Poor\",\"Poor\",\"Average\",\"Poor\",\"Average\",\"Poor\",\"Poor\",\"Poor\",\"Poor\",\"Average\",\"Good\",\"Poor\",\"Poor\",\"Poor\",\"Average\",\"Good\",\"Poor\",\"Good\",\"Average\",\"Poor\",\"Poor\",\"Poor\",\"Good\",\"Poor\",\"Average\",\"Average\",\"Average\",\"Average\",\"Poor\",\"Poor\",\"Average\",\"Poor\",\"Poor\",\"Average\",\"Good\",\"Average\",\"Poor\",\"Poor\",\"Poor\",\"Poor\",\"Good\",\"Good\",\"Average\",\"Average\",\"Good\",\"Poor\",\"Average\",\"Good\",\"Poor\",\"Poor\",\"Poor\",\"Poor\",\"Poor\",\"Poor\",\"Average\",\"Average\",\"Average\",\"Average\",\"Average\",\"Poor\",\"Poor\",\"Poor\",\"Poor\",\"Poor\",\"Good\",\"Poor\",\"Average\",\"Average\",\"Good\",\"Poor\",\"Poor\",\"Average\",\"Good\",\"Poor\",\"Poor\",\"Average\",\"Average\",\"Poor\",\"Good\",\"Good\",\"Poor\",\"Good\",\"Poor\",\"Average\",\"Good\",\"Average\",\"Poor\",\"Average\",\"Average\",\"Average\",\"Poor\",\"Poor\",\"Poor\",\"Good\",\"Average\",\"Poor\",\"Poor\",\"Average\",\"Average\",\"Poor\",\"Poor\",\"Average\",\"Average\",\"Average\",\"Average\",\"Poor\",\"Good\",\"Poor\",\"Good\",\"Good\",\"Average\",\"Poor\",\"Poor\",\"Poor\",\"Poor\",\"Poor\",\"Good\",\"Poor\",\"Good\",\"Average\",\"Poor\",\"Good\",\"Good\",\"Poor\",\"Poor\",\"Poor\",\"Average\",\"Average\",\"Good\",\"Average\",\"Average\",\"Average\",\"Poor\",\"Poor\",\"Good\",\"Good\",\"Good\",\"Good\",\"Poor\",\"Poor\",\"Good\",\"Average\",\"Poor\",\"Average\",\"Average\",\"Poor\",\"Good\",\"Poor\",\"Good\",\"Poor\",\"Poor\",\"Poor\",\"Poor\",\"Poor\",\"Average\",\"Poor\",\"Poor\",\"Poor\",\"Average\",\"Poor\",\"Good\",\"Good\",\"Poor\",\"Average\",\"Good\",\"Poor\",\"Good\",\"Average\",\"Poor\",\"Poor\",\"Average\",\"Good\",\"Average\",\"Poor\",\"Average\",\"Good\",\"Poor\",\"Average\",\"Poor\",\"Poor\",\"Poor\",\"Poor\",\"Poor\",\"Poor\",\"Average\",\"Poor\",\"Poor\",\"Poor\",\"Average\",\"Average\",\"Average\",\"Good\",\"Good\",\"Average\",\"Poor\",\"Average\",\"Good\",\"Average\",\"Good\",\"Poor\",\"Poor\",\"Poor\",\"Poor\",\"Poor\",\"Poor\",\"Good\",\"Average\",\"Average\",\"Average\",\"Poor\",\"Average\",\"Good\",\"Good\",\"Good\",\"Poor\",\"Good\",\"Good\",\"Good\",\"Poor\",\"Average\",\"Poor\",\"Good\",\"Poor\",\"Poor\",\"Good\",\"Poor\",\"Poor\",\"Average\",\"Poor\",\"Average\",\"Poor\",\"Poor\",\"Average\",\"Good\",\"Poor\",\"Poor\",\"Average\",\"Good\",\"Poor\",\"Poor\",\"Good\",\"Good\",\"Poor\",\"Average\",\"Poor\",\"Poor\",\"Good\",\"Good\",\"Poor\",\"Average\",\"Poor\",\"Average\",\"Average\",\"Average\",\"Poor\",\"Poor\",\"Good\",\"Poor\",\"Poor\",\"Poor\",\"Poor\",\"Poor\",\"Average\",\"Good\",\"Good\",\"Good\",\"Average\",\"Average\",\"Poor\",\"Poor\",\"Good\",\"Poor\",\"Poor\",\"Good\",\"Poor\",\"Poor\",\"Poor\",\"Poor\",\"Poor\",\"Good\",\"Good\",\"Poor\",\"Good\",\"Poor\",\"Good\",\"Average\",\"Average\",\"Poor\",\"Poor\",\"Poor\",\"Good\",\"Good\",\"Good\",\"Poor\",\"Average\",\"Poor\",\"Good\",\"Poor\",\"Poor\",\"Good\",\"Average\",\"Poor\",\"Poor\",\"Poor\",\"Average\",\"Poor\",\"Poor\",\"Average\",\"Average\",\"Good\",\"Good\",\"Average\",\"Poor\",\"Good\",\"Average\",\"Poor\",\"Good\",\"Good\",\"Poor\",\"Poor\",\"Poor\",\"Average\",\"Good\",\"Average\",\"Average\",\"Poor\",\"Average\",\"Poor\",\"Good\",\"Poor\",\"Poor\",\"Good\",\"Poor\",\"Average\",\"Poor\",\"Good\",\"Average\",\"Poor\",\"Poor\",\"Poor\",\"Average\",\"Average\",\"Poor\",\"Poor\",\"Good\",\"Average\",\"Poor\",\"Poor\",\"Poor\",\"Poor\",\"Poor\",\"Average\",\"Good\",\"Poor\",\"Average\",\"Good\",\"Average\",\"Average\",\"Average\",\"Poor\",\"Good\",\"Poor\",\"Poor\",\"Good\",\"Poor\",\"Average\",\"Poor\",\"Poor\",\"Poor\",\"Average\",\"Good\",\"Good\",\"Poor\",\"Average\",\"Average\",\"Average\",\"Average\",\"Average\",\"Poor\",\"Poor\",\"Poor\",\"Average\",\"Poor\",\"Average\",\"Average\",\"Poor\",\"Poor\",\"Good\",\"Average\",\"Poor\",\"Average\",\"Average\",\"Good\",\"Good\",\"Poor\",\"Poor\",\"Good\",\"Poor\",\"Poor\",\"Poor\",\"Good\",\"Poor\",\"Average\",\"Good\",\"Good\",\"Poor\",\"Good\",\"Poor\",\"Good\",\"Good\",\"Good\",\"Good\",\"Average\",\"Average\",\"Average\",\"Poor\",\"Poor\",\"Average\",\"Poor\",\"Poor\",\"Good\",\"Good\",\"Poor\",\"Good\",\"Good\",\"Good\",\"Poor\",\"Poor\",\"Poor\",\"Poor\",\"Average\",\"Poor\",\"Average\",\"Poor\",\"Average\",\"Poor\",\"Average\",\"Poor\",\"Poor\",\"Poor\",\"Average\",\"Average\",\"Average\",\"Poor\",\"Poor\",\"Average\",\"Poor\",\"Poor\",\"Poor\",\"Good\",\"Poor\",\"Average\",\"Poor\",\"Poor\",\"Average\",\"Good\",\"Poor\",\"Good\",\"Average\",\"Average\",\"Good\",\"Good\",\"Good\",\"Average\",\"Average\",\"Average\",\"Good\",\"Poor\",\"Average\",\"Poor\",\"Poor\",\"Poor\",\"Average\",\"Good\",\"Poor\",\"Poor\",\"Poor\",\"Average\",\"Poor\",\"Good\",\"Average\",\"Average\",\"Average\",\"Average\",\"Poor\",\"Good\",\"Good\",\"Poor\",\"Average\",\"Good\",\"Good\",\"Poor\",\"Good\",\"Average\",\"Good\",\"Poor\",\"Average\",\"Poor\",\"Average\",\"Poor\",\"Average\",\"Average\",\"Good\",\"Poor\",\"Average\",\"Average\",\"Good\",\"Average\",\"Poor\",\"Poor\",\"Good\",\"Poor\",\"Good\",\"Good\",\"Poor\",\"Average\",\"Poor\",\"Good\",\"Average\",\"Average\",\"Average\",\"Average\",\"Good\",\"Average\",\"Average\",\"Average\",\"Average\",\"Average\",\"Poor\",\"Poor\",\"Average\",\"Poor\",\"Good\",\"Poor\",\"Average\",\"Good\",\"Good\",\"Good\",\"Good\",\"Poor\",\"Poor\",\"Good\",\"Good\",\"Poor\",\"Average\",\"Good\",\"Good\",\"Average\",\"Good\",\"Poor\",\"Average\",\"Average\",\"Poor\",\"Poor\",\"Good\",\"Poor\",\"Average\",\"Poor\",\"Good\",\"Poor\",\"Average\",\"Good\",\"Poor\",\"Poor\",\"Average\",\"Average\",\"Average\",\"Average\",\"Good\",\"Poor\",\"Poor\",\"Poor\",\"Poor\",\"Poor\",\"Poor\",\"Poor\",\"Poor\",\"Good\",\"Average\",\"Average\",\"Poor\",\"Good\",\"Poor\",\"Good\",\"Poor\",\"Average\",\"Average\",\"Poor\",\"Average\",\"Good\",\"Good\",\"Poor\",\"Average\",\"Poor\",\"Average\",\"Poor\",\"Poor\",\"Average\",\"Average\",\"Poor\",\"Poor\",\"Poor\",\"Poor\",\"Average\",\"Poor\",\"Poor\",\"Poor\",\"Good\",\"Poor\",\"Poor\",\"Poor\",\"Average\",\"Average\",\"Poor\",\"Good\",\"Poor\",\"Poor\",\"Average\",\"Good\",\"Poor\",\"Poor\",\"Poor\",\"Average\",\"Average\",\"Poor\",\"Poor\",\"Poor\",\"Good\",\"Average\",\"Poor\",\"Poor\",\"Poor\",\"Poor\",\"Average\",\"Poor\",\"Average\",\"Average\",\"Average\",\"Good\",\"Poor\",\"Poor\",\"Poor\",\"Good\",\"Average\",\"Good\",\"Average\",\"Poor\",\"Poor\",\"Poor\",\"Poor\",\"Poor\",\"Poor\",\"Good\",\"Poor\",\"Average\",\"Good\",\"Average\",\"Average\",\"Good\",\"Good\",\"Poor\",\"Poor\",\"Poor\",\"Poor\",\"Poor\",\"Good\",\"Poor\",\"Good\",\"Poor\",\"Poor\",\"Average\",\"Good\",\"Poor\",\"Poor\",\"Average\",\"Average\",\"Poor\",\"Poor\",\"Average\",\"Poor\",\"Good\",\"Poor\",\"Good\",\"Poor\",\"Poor\",\"Good\",\"Poor\",\"Average\",\"Good\",\"Average\",\"Good\",\"Average\",\"Average\",\"Poor\",\"Average\",\"Average\",\"Poor\",\"Good\",\"Poor\",\"Average\",\"Poor\",\"Good\",\"Average\",\"Average\",\"Poor\",\"Poor\",\"Poor\",\"Poor\",\"Average\",\"Poor\",\"Poor\",\"Good\",\"Poor\",\"Average\",\"Average\",\"Good\",\"Poor\",\"Average\",\"Poor\",\"Average\",\"Poor\",\"Average\",\"Poor\",\"Average\",\"Average\",\"Good\",\"Average\",\"Average\",\"Poor\",\"Good\",\"Average\",\"Poor\",\"Poor\",\"Average\",\"Average\",\"Average\",\"Poor\",\"Average\",\"Average\",\"Average\",\"Good\",\"Good\",\"Average\",\"Good\",\"Poor\",\"Average\",\"Average\",\"Good\",\"Average\",\"Poor\",\"Poor\",\"Poor\",\"Poor\",\"Average\",\"Good\",\"Average\",\"Good\",\"Good\",\"Good\",\"Good\",\"Good\",\"Poor\",\"Good\",\"Good\",\"Average\",\"Poor\",\"Poor\",\"Average\",\"Good\",\"Average\",\"Average\",\"Average\",\"Good\",\"Average\",\"Poor\",\"Good\",\"Average\",\"Good\",\"Good\",\"Poor\",\"Good\",\"Poor\",\"Poor\",\"Good\",\"Average\",\"Average\",\"Average\",\"Average\",\"Good\",\"Good\",\"Good\",\"Poor\",\"Average\",\"Average\",\"Average\",\"Good\",\"Poor\",\"Average\",\"Good\",\"Poor\",\"Average\",\"Good\",\"Good\",\"Average\",\"Poor\",\"Average\",\"Average\",\"Poor\",\"Good\",\"Good\",\"Average\",\"Average\",\"Poor\",\"Poor\",\"Average\",\"Good\",\"Poor\",\"Good\",\"Good\",\"Poor\",\"Average\",\"Good\",\"Poor\",\"Good\",\"Average\",\"Good\",\"Poor\",\"Good\",\"Good\",\"Average\",\"Poor\",\"Good\",\"Poor\",\"Poor\",\"Poor\",\"Poor\",\"Average\",\"Poor\",\"Average\",\"Average\",\"Average\",\"Poor\",\"Good\",\"Average\",\"Poor\",\"Poor\",\"Poor\",\"Poor\",\"Good\",\"Average\",\"Poor\",\"Poor\",\"Good\",\"Good\",\"Poor\",\"Poor\",\"Poor\",\"Poor\",\"Average\",\"Average\",\"Good\",\"Average\",\"Average\",\"Poor\",\"Good\",\"Average\",\"Good\",\"Good\",\"Average\",\"Good\",\"Average\",\"Good\",\"Good\",\"Good\",\"Average\",\"Average\",\"Good\",\"Good\",\"Average\",\"Average\",\"Poor\",\"Poor\",\"Poor\",\"Good\",\"Average\",\"Poor\",\"Poor\",\"Average\",\"Average\",\"Average\",\"Average\",\"Poor\",\"Average\",\"Average\",\"Poor\",\"Poor\",\"Good\",\"Average\",\"Poor\",\"Average\",\"Poor\",\"Poor\",\"Average\",\"Poor\",\"Average\",\"Good\",\"Good\",\"Good\",\"Average\",\"Average\",\"Poor\",\"Poor\",\"Poor\",\"Poor\",\"Good\",\"Poor\",\"Average\",\"Good\",\"Average\",\"Average\",\"Poor\",\"Poor\",\"Good\",\"Poor\",\"Poor\",\"Average\",\"Poor\",\"Average\",\"Good\",\"Poor\",\"Poor\",\"Poor\",\"Good\",\"Good\",\"Poor\",\"Poor\",\"Average\",\"Average\",\"Poor\",\"Poor\",\"Average\",\"Average\",\"Poor\",\"Good\",\"Average\",\"Poor\",\"Good\",\"Good\",\"Poor\",\"Good\",\"Good\",\"Poor\",\"Poor\",\"Poor\",\"Average\",\"Good\",\"Good\",\"Average\",\"Average\",\"Average\",\"Average\",\"Average\",\"Average\",\"Average\",\"Average\",\"Good\",\"Average\",\"Good\",\"Good\",\"Average\",\"Average\",\"Average\",\"Poor\",\"Poor\",\"Poor\",\"Good\",\"Poor\",\"Good\",\"Poor\",\"Good\",\"Good\",\"Average\",\"Poor\",\"Poor\",\"Poor\",\"Poor\",\"Good\",\"Good\",\"Poor\",\"Poor\",\"Good\",\"Good\",\"Good\",\"Poor\",\"Poor\",\"Average\",\"Poor\",\"Poor\",\"Good\",\"Poor\",\"Poor\",\"Poor\",\"Poor\",\"Good\",\"Good\",\"Poor\",\"Good\",\"Average\",\"Poor\",\"Average\",\"Poor\",\"Good\",\"Average\",\"Poor\",\"Poor\",\"Average\",\"Poor\",\"Poor\",\"Average\",\"Good\",\"Average\",\"Average\",\"Poor\",\"Poor\",\"Average\",\"Average\",\"Average\",\"Average\",\"Average\",\"Poor\",\"Average\",\"Average\",\"Poor\",\"Poor\",\"Poor\",\"Poor\",\"Poor\",\"Poor\",\"Poor\",\"Poor\",\"Average\",\"Poor\",\"Good\",\"Poor\",\"Good\",\"Poor\",\"Good\",\"Average\",\"Good\",\"Good\",\"Average\",\"Average\",\"Average\",\"Average\",\"Poor\",\"Poor\",\"Average\",\"Poor\",\"Good\",\"Poor\",\"Average\",\"Poor\",\"Average\",\"Good\",\"Good\",\"Average\",\"Average\",\"Poor\",\"Average\",\"Average\",\"Poor\",\"Good\",\"Average\",\"Poor\",\"Good\",\"Poor\",\"Average\",\"Good\",\"Average\",\"Poor\",\"Poor\",\"Poor\",\"Poor\",\"Average\",\"Poor\",\"Poor\",\"Average\",\"Poor\",\"Average\",\"Average\",\"Poor\",\"Poor\",\"Poor\",\"Good\",\"Good\",\"Poor\",\"Average\",\"Average\",\"Average\",\"Poor\",\"Average\",\"Poor\",\"Poor\",\"Poor\",\"Average\",\"Poor\",\"Average\",\"Good\",\"Poor\",\"Poor\",\"Average\",\"Poor\",\"Good\",\"Average\",\"Poor\",\"Average\",\"Poor\",\"Average\",\"Good\",\"Good\",\"Average\",\"Average\",\"Poor\",\"Average\",\"Poor\",\"Average\",\"Good\",\"Poor\",\"Poor\",\"Average\",\"Poor\",\"Average\",\"Poor\",\"Good\",\"Average\",\"Average\",\"Average\",\"Average\",\"Poor\",\"Average\",\"Average\",\"Good\",\"Poor\",\"Poor\",\"Poor\",\"Average\",\"Average\",\"Average\",\"Good\",\"Good\",\"Poor\",\"Poor\",\"Poor\",\"Good\",\"Poor\",\"Average\",\"Average\",\"Poor\",\"Poor\",\"Poor\",\"Poor\",\"Poor\",\"Average\",\"Average\",\"Average\",\"Poor\",\"Good\",\"Good\",\"Poor\",\"Good\",\"Poor\",\"Average\",\"Average\",\"Poor\",\"Average\",\"Poor\",\"Poor\",\"Average\",\"Poor\",\"Poor\",\"Average\",\"Average\",\"Average\",\"Poor\",\"Average\",\"Good\",\"Good\",\"Good\",\"Good\",\"Average\",\"Average\",\"Poor\",\"Poor\",\"Average\",\"Average\",\"Poor\",\"Poor\",\"Good\",\"Poor\",\"Poor\",\"Poor\",\"Good\",\"Average\",\"Average\",\"Poor\",\"Poor\",\"Average\",\"Average\",\"Poor\",\"Poor\",\"Poor\",\"Poor\",\"Poor\",\"Good\",\"Poor\",\"Good\",\"Good\",\"Good\",\"Poor\",\"Good\",\"Poor\",\"Poor\",\"Good\",\"Poor\",\"Poor\",\"Poor\",\"Poor\",\"Good\",\"Poor\",\"Average\",\"Average\",\"Poor\",\"Average\",\"Poor\",\"Poor\",\"Poor\",\"Average\",\"Poor\",\"Poor\",\"Poor\",\"Average\",\"Good\",\"Average\",\"Good\",\"Poor\",\"Average\",\"Poor\",\"Poor\",\"Poor\",\"Poor\",\"Average\",\"Poor\",\"Average\",\"Average\",\"Poor\",\"Good\",\"Average\",\"Poor\",\"Good\",\"Average\",\"Poor\",\"Poor\",\"Average\",\"Good\",\"Good\",\"Poor\",\"Good\",\"Poor\",\"Good\",\"Poor\",\"Poor\",\"Poor\",\"Good\",\"Good\",\"Poor\",\"Poor\",\"Good\",\"Poor\",\"Poor\",\"Poor\",\"Average\",\"Poor\",\"Poor\",\"Average\",\"Poor\",\"Poor\",\"Good\",\"Good\",\"Poor\",\"Poor\",\"Average\",\"Poor\",\"Poor\",\"Average\",\"Good\",\"Poor\",\"Poor\",\"Average\",\"Poor\",\"Poor\",\"Poor\",\"Good\",\"Poor\",\"Poor\",\"Poor\",\"Average\",\"Poor\",\"Good\",\"Good\",\"Poor\",\"Average\",\"Average\",\"Average\",\"Poor\",\"Poor\",\"Poor\",\"Average\",\"Average\",\"Average\",\"Average\",\"Average\",\"Average\",\"Average\",\"Average\",\"Average\",\"Poor\",\"Average\",\"Poor\",\"Good\",\"Poor\",\"Poor\",\"Good\",\"Average\",\"Good\",\"Good\",\"Poor\",\"Poor\",\"Poor\",\"Good\",\"Average\",\"Poor\",\"Poor\",\"Average\",\"Poor\",\"Average\",\"Average\",\"Poor\",\"Poor\",\"Poor\",\"Good\",\"Poor\",\"Poor\",\"Poor\",\"Poor\",\"Good\",\"Average\",\"Poor\",\"Average\",\"Average\",\"Poor\",\"Poor\",\"Average\",\"Average\",\"Good\",\"Average\",\"Poor\",\"Average\",\"Poor\",\"Good\",\"Average\",\"Average\",\"Average\",\"Good\",\"Good\",\"Poor\",\"Average\",\"Average\",\"Poor\",\"Poor\",\"Average\",\"Average\",\"Good\",\"Average\",\"Poor\",\"Poor\",\"Poor\",\"Poor\",\"Poor\",\"Good\",\"Good\",\"Poor\",\"Poor\",\"Average\",\"Poor\",\"Poor\",\"Good\",\"Poor\",\"Poor\",\"Average\",\"Good\",\"Poor\",\"Good\",\"Good\",\"Poor\",\"Good\",\"Average\",\"Good\",\"Good\",\"Good\",\"Average\",\"Poor\",\"Poor\",\"Poor\",\"Good\",\"Average\",\"Poor\",\"Good\",\"Poor\",\"Average\",\"Poor\",\"Poor\",\"Poor\",\"Average\",\"Average\",\"Average\",\"Poor\",\"Average\",\"Good\",\"Poor\",\"Poor\",\"Poor\",\"Poor\",\"Poor\",\"Average\",\"Poor\",\"Poor\",\"Good\",\"Poor\",\"Average\",\"Good\",\"Average\",\"Poor\",\"Poor\",\"Average\",\"Good\",\"Good\",\"Poor\",\"Poor\",\"Poor\",\"Poor\",\"Poor\",\"Good\",\"Poor\",\"Average\",\"Poor\",\"Poor\",\"Average\",\"Average\",\"Poor\",\"Average\",\"Poor\",\"Poor\",\"Average\",\"Average\",\"Good\",\"Poor\",\"Poor\",\"Average\",\"Average\",\"Good\",\"Poor\",\"Average\",\"Poor\",\"Poor\",\"Average\",\"Poor\",\"Good\",\"Average\",\"Poor\",\"Poor\",\"Poor\",\"Poor\",\"Good\",\"Average\",\"Average\",\"Good\",\"Average\",\"Poor\",\"Poor\",\"Poor\",\"Good\",\"Average\",\"Poor\",\"Poor\",\"Average\",\"Poor\",\"Poor\",\"Good\",\"Poor\",\"Poor\",\"Average\",\"Average\",\"Average\",\"Poor\",\"Average\",\"Good\",\"Poor\",\"Poor\",\"Poor\",\"Average\",\"Good\",\"Poor\",\"Poor\",\"Poor\",\"Average\",\"Poor\",\"Average\",\"Good\",\"Poor\",\"Good\",\"Poor\",\"Poor\",\"Average\",\"Poor\",\"Poor\",\"Average\",\"Good\",\"Good\",\"Average\",\"Poor\",\"Average\",\"Good\",\"Average\",\"Poor\",\"Poor\",\"Average\",\"Good\",\"Poor\",\"Average\",\"Poor\",\"Poor\",\"Average\",\"Good\",\"Average\",\"Poor\",\"Poor\",\"Good\",\"Average\",\"Poor\",\"Good\",\"Average\",\"Good\",\"Average\",\"Poor\",\"Good\",\"Good\",\"Good\",\"Average\",\"Average\",\"Average\",\"Good\",\"Poor\",\"Good\",\"Average\",\"Poor\",\"Poor\",\"Good\",\"Poor\",\"Good\",\"Poor\",\"Average\",\"Poor\",\"Poor\",\"Poor\",\"Poor\",\"Good\",\"Good\",\"Average\",\"Poor\",\"Poor\",\"Poor\",\"Average\",\"Poor\",\"Poor\",\"Poor\",\"Good\",\"Average\",\"Good\",\"Good\",\"Good\",\"Poor\",\"Good\",\"Poor\",\"Average\",\"Good\",\"Poor\",\"Good\",\"Average\",\"Good\",\"Average\",\"Poor\",\"Poor\",\"Poor\",\"Good\",\"Good\",\"Good\",\"Good\",\"Poor\",\"Poor\",\"Poor\",\"Good\",\"Good\",\"Average\",\"Good\",\"Good\",\"Average\",\"Poor\",\"Good\",\"Good\",\"Poor\",\"Good\",\"Poor\",\"Good\",\"Poor\",\"Average\",\"Good\",\"Poor\",\"Average\",\"Poor\",\"Poor\",\"Poor\",\"Good\",\"Poor\",\"Poor\",\"Poor\",\"Poor\",\"Average\",\"Good\",\"Poor\",\"Good\",\"Poor\",\"Average\",\"Average\",\"Poor\",\"Average\",\"Average\",\"Average\",\"Good\",\"Poor\",\"Poor\",\"Poor\",\"Poor\",\"Average\",\"Poor\",\"Average\",\"Poor\",\"Poor\",\"Poor\",\"Average\",\"Good\",\"Average\",\"Poor\",\"Poor\",\"Average\",\"Good\",\"Poor\",\"Poor\",\"Good\",\"Poor\",\"Average\",\"Good\",\"Average\",\"Average\",\"Poor\",\"Poor\",\"Poor\",\"Good\",\"Poor\",\"Poor\",\"Poor\",\"Average\",\"Poor\",\"Average\",\"Good\",\"Poor\",\"Good\",\"Average\",\"Poor\",\"Average\",\"Average\",\"Good\",\"Poor\",\"Average\",\"Poor\",\"Poor\",\"Average\",\"Good\",\"Poor\",\"Average\",\"Good\",\"Poor\",\"Average\",\"Poor\",\"Poor\",\"Poor\",\"Average\",\"Average\",\"Good\",\"Average\",\"Average\",\"Poor\",\"Average\",\"Average\",\"Poor\",\"Poor\",\"Poor\",\"Average\",\"Poor\",\"Good\",\"Poor\",\"Poor\",\"Average\",\"Poor\",\"Average\",\"Good\",\"Poor\",\"Poor\",\"Poor\",\"Average\",\"Average\",\"Average\",\"Poor\",\"Poor\",\"Good\",\"Poor\",\"Average\",\"Good\",\"Poor\",\"Good\",\"Good\",\"Good\",\"Average\",\"Average\",\"Poor\",\"Poor\",\"Poor\",\"Poor\",\"Average\",\"Good\",\"Poor\",\"Good\",\"Poor\",\"Good\",\"Poor\",\"Good\",\"Poor\",\"Poor\",\"Poor\",\"Average\",\"Average\",\"Good\",\"Average\",\"Good\",\"Poor\",\"Poor\",\"Average\",\"Average\",\"Average\",\"Average\",\"Poor\",\"Good\",\"Average\",\"Poor\",\"Poor\",\"Average\",\"Poor\",\"Good\",\"Good\",\"Average\",\"Good\",\"Poor\",\"Average\",\"Good\",\"Average\",\"Average\",\"Poor\",\"Good\",\"Good\",\"Poor\",\"Good\",\"Good\",\"Poor\",\"Poor\",\"Good\",\"Good\",\"Good\",\"Average\",\"Poor\",\"Average\",\"Good\",\"Average\",\"Good\",\"Poor\",\"Good\",\"Average\",\"Poor\",\"Good\",\"Good\",\"Good\",\"Poor\",\"Good\",\"Poor\",\"Good\",\"Average\",\"Poor\",\"Average\",\"Good\",\"Poor\",\"Good\",\"Good\",\"Good\",\"Average\",\"Poor\",\"Average\",\"Poor\",\"Poor\",\"Poor\",\"Poor\",\"Average\",\"Good\",\"Poor\",\"Average\",\"Poor\",\"Average\",\"Poor\",\"Good\",\"Good\",\"Good\",\"Poor\",\"Average\",\"Good\",\"Poor\",\"Poor\",\"Poor\",\"Poor\",\"Average\",\"Average\",\"Good\",\"Poor\",\"Poor\",\"Poor\",\"Poor\",\"Good\",\"Poor\",\"Average\",\"Good\",\"Poor\",\"Poor\",\"Average\",\"Average\",\"Average\",\"Poor\",\"Poor\",\"Poor\",\"Average\",\"Average\",\"Good\",\"Average\",\"Poor\",\"Poor\",\"Good\",\"Average\",\"Average\",\"Good\",\"Average\",\"Good\",\"Poor\",\"Poor\",\"Poor\",\"Poor\",\"Poor\",\"Average\",\"Good\",\"Good\",\"Poor\",\"Average\",\"Poor\",\"Good\",\"Average\",\"Poor\",\"Average\",\"Average\",\"Average\",\"Average\",\"Average\",\"Poor\",\"Poor\",\"Poor\",\"Poor\",\"Poor\",\"Poor\",\"Poor\",\"Poor\",\"Poor\",\"Poor\",\"Poor\",\"Average\",\"Poor\",\"Poor\",\"Poor\",\"Poor\",\"Good\",\"Poor\",\"Average\",\"Good\",\"Poor\",\"Poor\",\"Poor\",\"Poor\",\"Good\",\"Average\",\"Poor\",\"Average\",\"Poor\",\"Poor\",\"Good\",\"Average\",\"Good\",\"Poor\",\"Average\",\"Good\",\"Poor\",\"Poor\",\"Good\",\"Average\",\"Average\",\"Good\",\"Average\",\"Poor\",\"Poor\",\"Average\",\"Average\",\"Good\",\"Poor\",\"Good\",\"Good\",\"Poor\",\"Poor\",\"Poor\",\"Average\",\"Poor\",\"Poor\",\"Good\",\"Poor\",\"Poor\",\"Poor\",\"Poor\",\"Average\",\"Good\",\"Good\",\"Good\",\"Poor\",\"Poor\",\"Average\",\"Average\",\"Average\",\"Poor\",\"Good\",\"Poor\",\"Average\",\"Average\",\"Poor\",\"Good\",\"Good\",\"Poor\",\"Good\",\"Good\",\"Poor\",\"Average\",\"Poor\",\"Average\",\"Average\",\"Good\",\"Good\",\"Poor\",\"Average\",\"Good\",\"Good\",\"Poor\",\"Good\",\"Poor\",\"Poor\",\"Poor\",\"Poor\",\"Good\",\"Average\",\"Good\",\"Poor\",\"Good\",\"Good\",\"Good\",\"Poor\",\"Average\",\"Poor\",\"Average\",\"Poor\",\"Good\",\"Poor\",\"Average\",\"Poor\",\"Average\",\"Poor\",\"Good\",\"Poor\",\"Average\",\"Average\",\"Average\",\"Good\",\"Good\",\"Average\",\"Good\",\"Average\",\"Good\",\"Average\",\"Good\",\"Poor\",\"Poor\",\"Average\",\"Poor\",\"Average\",\"Poor\",\"Average\",\"Good\",\"Average\",\"Poor\",\"Average\",\"Average\",\"Poor\",\"Poor\",\"Poor\",\"Poor\",\"Poor\",\"Average\",\"Good\",\"Average\",\"Poor\",\"Poor\",\"Poor\",\"Average\",\"Average\",\"Good\",\"Poor\",\"Average\",\"Average\",\"Poor\",\"Average\",\"Poor\",\"Poor\",\"Average\",\"Average\",\"Good\",\"Poor\",\"Poor\",\"Poor\",\"Average\",\"Average\",\"Average\",\"Poor\",\"Average\",\"Good\",\"Good\",\"Poor\",\"Good\",\"Poor\",\"Poor\",\"Average\",\"Average\",\"Poor\",\"Good\",\"Average\",\"Average\",\"Average\",\"Poor\",\"Good\",\"Poor\",\"Average\",\"Average\",\"Average\",\"Average\",\"Average\",\"Average\",\"Good\",\"Good\",\"Good\",\"Average\",\"Average\",\"Average\",\"Good\",\"Average\",\"Good\",\"Poor\",\"Poor\",\"Poor\",\"Good\",\"Poor\",\"Good\",\"Average\",\"Poor\",\"Good\",\"Poor\",\"Good\",\"Good\",\"Average\",\"Poor\",\"Poor\",\"Good\",\"Poor\",\"Poor\",\"Poor\",\"Poor\",\"Poor\",\"Poor\",\"Good\",\"Average\",\"Average\",\"Average\",\"Good\",\"Average\",\"Poor\",\"Poor\",\"Poor\",\"Poor\",\"Good\",\"Good\",\"Poor\",\"Good\",\"Poor\",\"Average\",\"Poor\",\"Good\",\"Average\",\"Poor\",\"Average\",\"Poor\",\"Average\",\"Poor\",\"Average\",\"Poor\",\"Average\",\"Poor\",\"Average\",\"Average\",\"Poor\",\"Poor\",\"Poor\",\"Poor\",\"Poor\",\"Average\",\"Good\",\"Poor\",\"Average\",\"Good\",\"Average\",\"Good\",\"Good\",\"Average\",\"Good\",\"Good\",\"Good\",\"Average\",\"Good\",\"Average\",\"Poor\",\"Average\",\"Poor\",\"Poor\",\"Good\",\"Average\",\"Good\",\"Good\",\"Poor\",\"Good\",\"Poor\",\"Poor\",\"Average\",\"Average\",\"Poor\",\"Good\",\"Average\",\"Good\",\"Average\",\"Poor\",\"Average\",\"Poor\",\"Average\",\"Poor\",\"Poor\",\"Poor\",\"Poor\",\"Average\",\"Average\",\"Poor\",\"Good\",\"Average\",\"Poor\",\"Poor\",\"Poor\",\"Poor\",\"Poor\",\"Average\",\"Average\",\"Average\",\"Good\",\"Poor\",\"Poor\",\"Average\",\"Poor\",\"Poor\",\"Poor\",\"Poor\",\"Poor\",\"Poor\",\"Poor\",\"Poor\",\"Average\",\"Poor\",\"Poor\",\"Good\",\"Poor\",\"Average\",\"Poor\",\"Average\",\"Average\",\"Poor\",\"Average\",\"Poor\",\"Poor\",\"Good\",\"Average\",\"Good\",\"Average\",\"Good\",\"Average\",\"Poor\",\"Poor\",\"Good\",\"Poor\",\"Poor\",\"Good\",\"Good\",\"Poor\",\"Average\",\"Poor\",\"Poor\",\"Average\",\"Poor\",\"Poor\",\"Poor\",\"Poor\",\"Poor\",\"Average\",\"Poor\",\"Poor\",\"Good\",\"Good\",\"Average\",\"Average\",\"Poor\",\"Poor\",\"Good\",\"Poor\",\"Average\",\"Good\",\"Poor\",\"Average\",\"Poor\",\"Good\",\"Average\",\"Good\",\"Good\",\"Average\",\"Average\",\"Good\",\"Poor\",\"Poor\",\"Poor\",\"Good\",\"Good\",\"Average\",\"Good\",\"Average\",\"Average\",\"Good\",\"Good\",\"Average\",\"Poor\",\"Poor\",\"Poor\",\"Average\",\"Average\",\"Good\",\"Poor\",\"Average\",\"Good\",\"Poor\",\"Average\",\"Poor\",\"Poor\",\"Good\",\"Average\",\"Poor\",\"Poor\",\"Poor\",\"Average\",\"Poor\",\"Poor\",\"Poor\",\"Average\",\"Poor\",\"Poor\",\"Good\",\"Poor\",\"Poor\",\"Average\",\"Good\",\"Poor\",\"Average\",\"Average\",\"Poor\",\"Average\",\"Good\",\"Poor\",\"Poor\",\"Poor\",\"Poor\",\"Average\",\"Good\",\"Good\",\"Good\",\"Good\",\"Good\",\"Average\",\"Poor\",\"Poor\",\"Poor\",\"Poor\",\"Average\",\"Good\",\"Average\",\"Average\",\"Poor\",\"Average\",\"Poor\",\"Poor\",\"Good\",\"Poor\",\"Poor\",\"Good\",\"Poor\",\"Poor\",\"Poor\",\"Poor\",\"Good\",\"Average\",\"Average\",\"Average\",\"Average\",\"Poor\",\"Good\",\"Poor\",\"Average\",\"Average\",\"Good\",\"Poor\",\"Poor\",\"Poor\",\"Average\",\"Average\",\"Average\",\"Good\",\"Good\",\"Average\",\"Average\",\"Average\",\"Average\",\"Good\",\"Good\",\"Poor\",\"Poor\",\"Average\",\"Average\",\"Poor\",\"Poor\",\"Good\",\"Good\",\"Good\",\"Average\",\"Average\",\"Poor\",\"Poor\",\"Good\",\"Good\",\"Good\",\"Average\",\"Good\",\"Average\",\"Good\",\"Average\",\"Poor\",\"Poor\",\"Average\",\"Average\",\"Poor\",\"Poor\",\"Poor\",\"Poor\",\"Average\",\"Poor\",\"Poor\",\"Poor\",\"Average\",\"Poor\",\"Good\",\"Poor\",\"Good\",\"Average\",\"Poor\",\"Good\",\"Average\",\"Poor\",\"Average\",\"Good\",\"Average\",\"Average\",\"Poor\",\"Poor\",\"Poor\",\"Poor\",\"Average\",\"Poor\",\"Poor\",\"Poor\",\"Average\",\"Poor\",\"Poor\",\"Average\",\"Average\",\"Good\",\"Poor\",\"Average\",\"Poor\",\"Poor\",\"Average\",\"Poor\",\"Good\",\"Average\",\"Average\",\"Average\",\"Poor\",\"Good\",\"Good\",\"Average\",\"Average\",\"Poor\",\"Poor\",\"Good\",\"Good\",\"Good\",\"Poor\",\"Poor\",\"Poor\",\"Average\",\"Good\",\"Poor\",\"Poor\",\"Good\",\"Average\",\"Average\",\"Poor\",\"Poor\",\"Poor\",\"Good\",\"Good\",\"Poor\",\"Good\",\"Average\",\"Poor\",\"Poor\",\"Poor\",\"Average\",\"Poor\",\"Poor\",\"Poor\",\"Average\",\"Poor\",\"Poor\",\"Poor\",\"Average\",\"Average\",\"Average\",\"Poor\",\"Poor\",\"Average\",\"Average\",\"Good\",\"Poor\",\"Poor\",\"Good\",\"Average\",\"Poor\",\"Average\",\"Poor\",\"Poor\",\"Average\",\"Poor\",\"Average\",\"Average\",\"Poor\",\"Average\",\"Average\",\"Poor\",\"Poor\",\"Good\",\"Average\",\"Poor\",\"Poor\",\"Average\",\"Average\",\"Average\",\"Average\",\"Poor\",\"Poor\",\"Good\",\"Poor\",\"Poor\",\"Poor\",\"Poor\",\"Average\",\"Poor\",\"Poor\",\"Poor\",\"Poor\",\"Average\",\"Poor\",\"Poor\",\"Poor\",\"Average\",\"Average\",\"Poor\",\"Poor\",\"Average\",\"Poor\",\"Poor\",\"Good\",\"Good\",\"Average\",\"Average\",\"Average\",\"Good\",\"Poor\",\"Good\",\"Average\",\"Average\",\"Average\",\"Average\",\"Poor\",\"Average\",\"Good\",\"Poor\",\"Poor\",\"Good\",\"Poor\",\"Good\",\"Average\",\"Poor\",\"Poor\",\"Poor\",\"Poor\",\"Good\",\"Poor\",\"Poor\",\"Poor\",\"Poor\",\"Average\",\"Good\",\"Poor\",\"Poor\",\"Poor\",\"Good\",\"Poor\",\"Poor\",\"Average\",\"Poor\",\"Good\",\"Poor\",\"Average\",\"Poor\",\"Poor\",\"Poor\",\"Good\",\"Poor\",\"Poor\",\"Poor\",\"Poor\",\"Average\",\"Good\",\"Poor\",\"Good\",\"Average\",\"Poor\",\"Poor\",\"Average\",\"Poor\",\"Good\",\"Poor\",\"Average\",\"Average\",\"Good\",\"Good\",\"Average\",\"Poor\",\"Good\",\"Poor\",\"Good\",\"Poor\",\"Poor\",\"Poor\",\"Poor\",\"Good\",\"Average\",\"Poor\",\"Poor\",\"Poor\",\"Poor\",\"Good\",\"Poor\",\"Average\",\"Average\",\"Poor\",\"Poor\",\"Average\",\"Good\",\"Good\",\"Good\",\"Poor\",\"Good\",\"Good\",\"Poor\",\"Good\",\"Average\",\"Poor\",\"Average\",\"Poor\",\"Poor\",\"Average\",\"Poor\",\"Good\",\"Poor\",\"Good\",\"Poor\",\"Poor\",\"Good\",\"Average\",\"Poor\",\"Poor\",\"Average\",\"Average\",\"Average\",\"Poor\",\"Poor\",\"Average\",\"Average\",\"Average\",\"Poor\",\"Poor\",\"Poor\",\"Poor\",\"Poor\",\"Good\",\"Poor\",\"Good\",\"Poor\",\"Poor\",\"Good\",\"Average\",\"Poor\",\"Average\",\"Poor\",\"Poor\",\"Good\",\"Average\",\"Average\",\"Good\",\"Average\",\"Poor\",\"Poor\",\"Poor\",\"Average\",\"Poor\",\"Poor\",\"Poor\",\"Poor\",\"Good\",\"Poor\",\"Average\",\"Average\",\"Good\",\"Average\",\"Good\",\"Average\",\"Average\",\"Poor\",\"Average\",\"Good\",\"Poor\",\"Good\",\"Poor\",\"Poor\",\"Poor\",\"Poor\",\"Average\",\"Poor\",\"Poor\",\"Good\",\"Average\",\"Poor\",\"Good\",\"Poor\",\"Poor\",\"Average\",\"Poor\",\"Poor\",\"Good\",\"Poor\",\"Average\",\"Poor\",\"Good\",\"Good\",\"Good\",\"Average\",\"Poor\",\"Average\",\"Average\",\"Average\",\"Poor\",\"Poor\",\"Poor\",\"Average\",\"Poor\",\"Poor\",\"Average\",\"Average\",\"Good\",\"Poor\",\"Average\",\"Good\",\"Poor\",\"Average\",\"Good\",\"Average\",\"Average\",\"Average\",\"Poor\",\"Poor\",\"Poor\",\"Good\",\"Good\",\"Poor\",\"Average\",\"Average\",\"Average\",\"Average\",\"Poor\",\"Good\",\"Poor\",\"Good\",\"Average\",\"Good\",\"Good\",\"Average\",\"Good\",\"Average\",\"Poor\",\"Average\",\"Poor\",\"Poor\",\"Average\",\"Poor\",\"Average\",\"Average\",\"Poor\",\"Average\",\"Poor\",\"Poor\",\"Poor\",\"Good\",\"Poor\",\"Good\",\"Poor\",\"Average\",\"Average\",\"Average\",\"Poor\",\"Good\",\"Poor\",\"Good\",\"Poor\",\"Poor\",\"Poor\",\"Average\",\"Poor\",\"Average\",\"Poor\",\"Good\",\"Average\",\"Average\",\"Good\",\"Good\",\"Poor\",\"Poor\",\"Average\",\"Poor\",\"Average\",\"Good\",\"Poor\",\"Good\",\"Poor\",\"Poor\",\"Good\",\"Good\",\"Poor\",\"Poor\",\"Poor\",\"Average\",\"Poor\",\"Poor\",\"Average\",\"Poor\",\"Good\",\"Average\",\"Average\",\"Average\",\"Good\",\"Average\",\"Poor\",\"Poor\",\"Average\",\"Good\",\"Average\",\"Good\",\"Average\",\"Poor\",\"Poor\",\"Poor\",\"Poor\",\"Poor\",\"Poor\",\"Average\",\"Poor\",\"Poor\",\"Average\",\"Poor\",\"Average\",\"Average\",\"Average\",\"Poor\",\"Good\",\"Good\",\"Poor\",\"Poor\",\"Poor\",\"Poor\",\"Poor\",\"Poor\",\"Average\",\"Good\",\"Poor\",\"Good\",\"Poor\",\"Poor\",\"Average\",\"Average\",\"Good\",\"Poor\",\"Good\",\"Good\",\"Poor\",\"Average\",\"Average\",\"Average\",\"Poor\",\"Good\",\"Good\",\"Average\",\"Average\",\"Good\",\"Poor\",\"Poor\",\"Average\",\"Good\",\"Good\",\"Average\",\"Poor\",\"Average\",\"Good\",\"Poor\",\"Poor\",\"Poor\",\"Poor\",\"Good\",\"Poor\",\"Average\",\"Average\",\"Poor\",\"Poor\",\"Good\",\"Average\",\"Average\",\"Poor\",\"Average\",\"Average\",\"Poor\",\"Average\",\"Average\",\"Good\",\"Poor\",\"Poor\",\"Poor\",\"Good\",\"Poor\",\"Average\",\"Good\",\"Poor\",\"Poor\",\"Poor\",\"Poor\",\"Poor\",\"Good\",\"Average\",\"Average\",\"Poor\",\"Average\",\"Good\",\"Average\",\"Poor\",\"Poor\",\"Average\",\"Poor\",\"Average\",\"Poor\",\"Poor\",\"Poor\",\"Good\",\"Average\",\"Poor\",\"Poor\",\"Good\",\"Poor\",\"Poor\",\"Average\",\"Average\",\"Good\",\"Good\",\"Good\",\"Poor\",\"Average\",\"Average\",\"Poor\",\"Poor\",\"Poor\",\"Poor\",\"Poor\",\"Poor\",\"Average\",\"Average\",\"Average\",\"Poor\",\"Average\",\"Average\",\"Average\",\"Poor\",\"Poor\",\"Poor\",\"Poor\",\"Poor\",\"Poor\",\"Poor\",\"Poor\",\"Poor\",\"Poor\",\"Good\",\"Good\",\"Good\",\"Poor\",\"Average\",\"Poor\",\"Average\",\"Average\",\"Average\",\"Poor\",\"Poor\",\"Good\",\"Average\",\"Poor\",\"Poor\",\"Average\",\"Average\",\"Good\",\"Good\",\"Poor\",\"Poor\",\"Good\",\"Poor\",\"Good\",\"Poor\",\"Poor\",\"Average\",\"Poor\",\"Good\",\"Good\",\"Good\",\"Poor\",\"Average\",\"Poor\",\"Good\",\"Average\",\"Good\",\"Poor\",\"Average\",\"Average\",\"Poor\",\"Average\",\"Average\",\"Poor\",\"Average\",\"Average\",\"Poor\",\"Good\",\"Good\",\"Good\",\"Good\",\"Poor\",\"Poor\",\"Poor\",\"Good\",\"Poor\",\"Poor\",\"Average\",\"Good\",\"Poor\",\"Poor\",\"Poor\",\"Poor\",\"Poor\",\"Poor\",\"Average\",\"Good\",\"Poor\",\"Average\",\"Average\",\"Poor\",\"Poor\",\"Average\",\"Poor\",\"Average\",\"Poor\",\"Poor\",\"Average\",\"Average\",\"Average\",\"Average\",\"Average\",\"Average\",\"Average\",\"Poor\",\"Average\",\"Poor\",\"Poor\",\"Average\",\"Average\",\"Poor\",\"Poor\",\"Good\",\"Average\",\"Good\",\"Good\",\"Average\",\"Poor\",\"Poor\",\"Good\",\"Poor\",\"Average\",\"Good\",\"Poor\",\"Good\",\"Poor\",\"Good\",\"Average\",\"Poor\",\"Poor\",\"Average\",\"Good\",\"Poor\",\"Poor\",\"Good\",\"Poor\",\"Good\",\"Average\",\"Good\",\"Good\",\"Poor\",\"Good\",\"Average\",\"Poor\",\"Poor\",\"Poor\",\"Good\",\"Average\",\"Good\",\"Poor\",\"Poor\",\"Average\",\"Good\",\"Poor\",\"Good\",\"Average\",\"Poor\",\"Poor\",\"Average\",\"Average\",\"Good\",\"Poor\",\"Good\",\"Poor\",\"Poor\",\"Poor\",\"Average\",\"Average\",\"Average\",\"Poor\",\"Poor\",\"Average\",\"Good\",\"Good\",\"Good\",\"Good\",\"Poor\",\"Average\",\"Poor\",\"Good\",\"Poor\",\"Average\",\"Good\",\"Poor\",\"Good\",\"Good\",\"Average\",\"Good\",\"Poor\",\"Poor\",\"Poor\",\"Good\",\"Average\",\"Average\",\"Poor\",\"Poor\",\"Good\",\"Poor\",\"Good\",\"Average\",\"Poor\",\"Poor\",\"Average\",\"Average\",\"Poor\",\"Good\",\"Poor\",\"Poor\",\"Poor\",\"Poor\",\"Poor\",\"Poor\",\"Poor\",\"Poor\",\"Good\",\"Poor\",\"Average\",\"Poor\",\"Poor\",\"Poor\",\"Poor\",\"Good\",\"Poor\",\"Good\",\"Poor\",\"Good\",\"Poor\",\"Poor\",\"Average\",\"Poor\",\"Good\",\"Average\",\"Poor\",\"Average\",\"Good\",\"Poor\",\"Good\",\"Good\",\"Average\",\"Average\",\"Average\",\"Poor\",\"Poor\",\"Good\",\"Average\",\"Average\",\"Good\",\"Poor\",\"Average\",\"Average\",\"Poor\",\"Good\",\"Average\",\"Poor\",\"Poor\",\"Poor\",\"Average\",\"Good\",\"Average\",\"Good\",\"Poor\",\"Good\",\"Average\",\"Good\",\"Good\",\"Average\",\"Average\",\"Average\",\"Poor\",\"Average\",\"Average\",\"Average\",\"Poor\",\"Good\",\"Good\",\"Good\",\"Poor\",\"Average\",\"Poor\",\"Average\",\"Poor\",\"Good\",\"Poor\",\"Poor\",\"Poor\",\"Average\",\"Poor\",\"Poor\",\"Good\",\"Poor\",\"Poor\",\"Poor\",\"Good\",\"Poor\",\"Average\",\"Average\",\"Good\",\"Good\",\"Poor\",\"Good\",\"Poor\",\"Good\",\"Poor\",\"Poor\",\"Average\",\"Average\",\"Poor\",\"Poor\",\"Poor\",\"Average\",\"Poor\",\"Poor\",\"Poor\",\"Good\",\"Poor\",\"Poor\",\"Poor\",\"Poor\",\"Average\",\"Poor\",\"Poor\",\"Good\",\"Poor\",\"Poor\",\"Poor\",\"Poor\",\"Poor\",\"Poor\",\"Good\",\"Good\",\"Average\",\"Poor\",\"Average\",\"Good\",\"Good\",\"Poor\",\"Poor\",\"Poor\",\"Poor\",\"Average\",\"Poor\",\"Average\",\"Poor\",\"Average\",\"Poor\",\"Poor\",\"Average\",\"Poor\",\"Average\",\"Average\",\"Average\",\"Poor\",\"Average\",\"Poor\",\"Average\",\"Good\",\"Poor\",\"Good\",\"Average\",\"Average\",\"Average\",\"Poor\",\"Poor\",\"Poor\",\"Good\",\"Poor\",\"Average\",\"Good\",\"Poor\",\"Poor\",\"Average\",\"Poor\",\"Good\",\"Poor\",\"Average\",\"Poor\",\"Average\",\"Good\",\"Poor\",\"Good\",\"Average\",\"Poor\",\"Good\",\"Good\",\"Poor\",\"Good\",\"Good\",\"Average\",\"Average\",\"Average\",\"Average\",\"Poor\",\"Good\",\"Average\",\"Average\",\"Good\",\"Poor\",\"Poor\",\"Average\",\"Poor\",\"Poor\",\"Poor\",\"Poor\",\"Poor\",\"Poor\",\"Average\",\"Good\",\"Good\",\"Average\",\"Average\",\"Average\",\"Poor\",\"Average\",\"Poor\",\"Poor\",\"Average\",\"Poor\",\"Poor\",\"Poor\",\"Good\",\"Good\",\"Average\",\"Average\",\"Poor\",\"Poor\",\"Good\",\"Good\",\"Good\",\"Poor\",\"Poor\",\"Poor\",\"Poor\",\"Poor\",\"Poor\",\"Average\",\"Average\",\"Poor\",\"Average\",\"Poor\",\"Average\",\"Average\",\"Average\",\"Poor\",\"Poor\",\"Good\",\"Poor\",\"Poor\",\"Poor\",\"Poor\",\"Average\",\"Poor\",\"Poor\",\"Poor\",\"Average\",\"Poor\",\"Poor\",\"Poor\",\"Poor\",\"Poor\",\"Poor\",\"Good\",\"Poor\",\"Good\",\"Poor\",\"Poor\",\"Good\",\"Average\",\"Poor\",\"Good\",\"Poor\",\"Good\",\"Good\",\"Average\",\"Poor\",\"Poor\",\"Poor\",\"Poor\",\"Poor\",\"Poor\",\"Poor\",\"Average\",\"Poor\",\"Poor\",\"Poor\",\"Poor\",\"Good\",\"Poor\",\"Average\",\"Average\",\"Good\",\"Good\",\"Average\",\"Poor\",\"Poor\",\"Poor\",\"Good\",\"Poor\",\"Good\",\"Average\",\"Poor\",\"Poor\",\"Average\",\"Poor\",\"Poor\",\"Average\",\"Poor\",\"Good\",\"Good\",\"Average\",\"Average\",\"Poor\",\"Good\",\"Poor\",\"Poor\",\"Poor\",\"Good\",\"Good\",\"Poor\",\"Average\",\"Poor\",\"Average\",\"Good\",\"Poor\",\"Good\",\"Average\",\"Poor\",\"Average\",\"Average\",\"Poor\",\"Poor\",\"Poor\",\"Poor\",\"Good\",\"Poor\",\"Average\",\"Poor\",\"Poor\",\"Poor\",\"Poor\",\"Average\",\"Average\",\"Average\",\"Average\",\"Poor\",\"Poor\",\"Average\",\"Poor\",\"Poor\",\"Good\",\"Poor\",\"Good\",\"Average\",\"Poor\",\"Average\",\"Good\",\"Good\",\"Average\",\"Average\",\"Poor\",\"Average\",\"Good\",\"Poor\",\"Poor\",\"Average\",\"Good\",\"Poor\",\"Average\",\"Good\",\"Poor\",\"Poor\",\"Average\",\"Poor\",\"Average\",\"Good\",\"Poor\",\"Poor\",\"Good\",\"Good\",\"Good\",\"Poor\",\"Average\",\"Average\",\"Average\",\"Good\",\"Good\",\"Average\",\"Average\",\"Average\",\"Poor\",\"Average\",\"Poor\",\"Average\",\"Poor\",\"Poor\",\"Average\",\"Average\",\"Poor\",\"Poor\",\"Average\",\"Poor\",\"Good\",\"Good\",\"Good\",\"Average\",\"Average\",\"Average\",\"Poor\",\"Good\",\"Average\",\"Average\",\"Average\",\"Good\",\"Average\",\"Average\",\"Good\",\"Average\",\"Average\",\"Poor\",\"Poor\",\"Poor\",\"Average\",\"Average\",\"Good\",\"Good\",\"Poor\",\"Poor\",\"Average\",\"Average\",\"Good\",\"Average\",\"Good\",\"Poor\",\"Average\",\"Poor\",\"Average\",\"Poor\",\"Poor\",\"Poor\",\"Poor\",\"Average\",\"Poor\",\"Poor\",\"Good\",\"Poor\",\"Poor\",\"Average\",\"Good\",\"Poor\",\"Good\",\"Poor\",\"Poor\",\"Poor\",\"Poor\",\"Average\",\"Poor\",\"Average\",\"Good\",\"Good\",\"Good\",\"Poor\",\"Good\",\"Poor\",\"Poor\",\"Poor\",\"Good\",\"Poor\",\"Poor\",\"Poor\",\"Average\",\"Average\",\"Average\",\"Average\",\"Poor\",\"Average\",\"Poor\",\"Poor\",\"Average\",\"Poor\",\"Average\",\"Average\",\"Poor\",\"Poor\",\"Good\",\"Average\",\"Average\",\"Poor\",\"Average\",\"Good\",\"Poor\",\"Poor\",\"Good\",\"Poor\",\"Poor\",\"Good\",\"Poor\",\"Poor\",\"Poor\",\"Average\",\"Poor\",\"Poor\",\"Average\",\"Poor\",\"Poor\",\"Poor\",\"Good\",\"Poor\",\"Poor\",\"Average\",\"Good\",\"Average\",\"Poor\",\"Good\",\"Good\",\"Poor\",\"Poor\",\"Poor\",\"Poor\",\"Average\",\"Good\",\"Poor\",\"Good\",\"Average\",\"Average\",\"Poor\",\"Poor\",\"Poor\",\"Poor\",\"Poor\",\"Average\",\"Poor\",\"Poor\",\"Good\",\"Average\",\"Average\",\"Good\",\"Poor\",\"Poor\",\"Good\",\"Poor\",\"Average\",\"Good\",\"Average\",\"Poor\",\"Poor\",\"Average\",\"Poor\",\"Poor\",\"Poor\",\"Good\",\"Poor\",\"Poor\",\"Good\",\"Average\",\"Poor\",\"Good\",\"Average\",\"Good\",\"Poor\",\"Average\",\"Average\",\"Average\",\"Average\",\"Average\",\"Poor\",\"Poor\",\"Poor\",\"Good\",\"Poor\",\"Poor\",\"Poor\",\"Poor\",\"Good\",\"Poor\",\"Poor\",\"Average\",\"Poor\",\"Poor\",\"Average\",\"Poor\",\"Good\",\"Poor\",\"Poor\",\"Poor\",\"Poor\",\"Average\",\"Good\",\"Average\",\"Average\",\"Average\",\"Poor\",\"Poor\",\"Good\",\"Average\",\"Poor\",\"Good\",\"Average\",\"Average\",\"Poor\",\"Poor\",\"Poor\",\"Poor\",\"Poor\",\"Poor\",\"Good\",\"Good\",\"Average\",\"Poor\",\"Good\",\"Poor\",\"Average\",\"Good\",\"Poor\",\"Average\",\"Poor\",\"Good\",\"Average\",\"Average\",\"Average\",\"Poor\",\"Good\",\"Poor\",\"Poor\",\"Poor\",\"Poor\",\"Average\",\"Average\",\"Poor\",\"Good\",\"Average\",\"Poor\",\"Poor\",\"Good\",\"Average\",\"Poor\",\"Average\",\"Poor\",\"Good\",\"Good\",\"Average\",\"Poor\",\"Average\",\"Average\",\"Poor\",\"Poor\",\"Poor\",\"Good\",\"Average\",\"Average\",\"Poor\",\"Poor\",\"Good\",\"Good\",\"Average\",\"Poor\",\"Poor\",\"Average\",\"Poor\",\"Poor\",\"Average\",\"Average\",\"Poor\",\"Poor\",\"Poor\",\"Average\",\"Average\",\"Good\",\"Average\",\"Poor\",\"Average\",\"Poor\",\"Poor\",\"Good\",\"Average\",\"Poor\",\"Poor\",\"Good\",\"Good\",\"Poor\",\"Poor\",\"Poor\",\"Good\",\"Poor\",\"Average\",\"Good\",\"Average\",\"Poor\",\"Poor\",\"Poor\",\"Average\",\"Poor\",\"Good\",\"Poor\",\"Average\",\"Poor\",\"Poor\",\"Good\",\"Poor\",\"Average\",\"Good\",\"Average\",\"Good\",\"Average\",\"Average\",\"Average\",\"Average\",\"Good\",\"Average\",\"Average\",\"Average\",\"Poor\",\"Poor\",\"Average\",\"Poor\",\"Poor\",\"Average\",\"Good\",\"Good\",\"Average\",\"Poor\",\"Poor\",\"Good\",\"Poor\",\"Average\",\"Poor\",\"Good\",\"Poor\",\"Poor\",\"Average\",\"Good\",\"Average\",\"Good\",\"Average\",\"Poor\",\"Average\",\"Poor\",\"Good\",\"Poor\",\"Poor\",\"Poor\",\"Poor\",\"Average\",\"Poor\",\"Poor\",\"Poor\",\"Average\",\"Average\",\"Good\",\"Good\",\"Poor\",\"Good\",\"Poor\",\"Good\",\"Poor\",\"Poor\",\"Poor\",\"Average\",\"Poor\",\"Poor\",\"Average\",\"Poor\",\"Poor\",\"Poor\",\"Poor\",\"Good\",\"Poor\",\"Average\",\"Good\",\"Average\",\"Average\",\"Good\",\"Average\",\"Average\",\"Good\",\"Good\",\"Good\",\"Good\",\"Poor\",\"Poor\",\"Average\",\"Poor\",\"Good\",\"Poor\",\"Poor\",\"Average\",\"Poor\",\"Poor\",\"Average\",\"Average\",\"Good\",\"Good\",\"Poor\",\"Poor\",\"Poor\",\"Poor\",\"Good\",\"Poor\",\"Poor\",\"Poor\",\"Average\",\"Average\",\"Average\",\"Poor\",\"Good\",\"Poor\",\"Good\",\"Good\",\"Average\",\"Poor\",\"Poor\",\"Poor\",\"Good\",\"Good\",\"Poor\",\"Poor\",\"Poor\",\"Poor\",\"Poor\",\"Average\",\"Poor\",\"Average\",\"Average\",\"Average\",\"Poor\",\"Poor\",\"Poor\",\"Average\",\"Good\",\"Average\",\"Poor\",\"Poor\",\"Average\",\"Average\",\"Poor\",\"Poor\",\"Average\",\"Good\",\"Average\",\"Poor\",\"Poor\",\"Poor\",\"Poor\",\"Average\",\"Average\",\"Poor\",\"Good\",\"Poor\",\"Poor\",\"Average\",\"Average\",\"Good\",\"Poor\",\"Poor\",\"Good\",\"Average\",\"Poor\",\"Average\",\"Average\",\"Poor\",\"Average\",\"Average\",\"Average\",\"Average\",\"Poor\",\"Average\",\"Average\",\"Average\",\"Poor\",\"Average\",\"Poor\",\"Poor\",\"Average\",\"Poor\",\"Poor\",\"Average\",\"Poor\",\"Average\",\"Poor\",\"Poor\",\"Average\",\"Average\",\"Good\",\"Poor\",\"Average\",\"Good\",\"Poor\",\"Good\",\"Poor\",\"Poor\",\"Poor\",\"Poor\",\"Poor\",\"Good\",\"Good\",\"Poor\",\"Poor\",\"Average\",\"Poor\",\"Average\",\"Poor\",\"Good\",\"Good\",\"Good\",\"Average\",\"Poor\",\"Poor\",\"Poor\",\"Good\",\"Poor\",\"Poor\",\"Average\",\"Poor\",\"Good\",\"Poor\",\"Poor\",\"Good\",\"Good\",\"Average\",\"Poor\",\"Average\",\"Good\",\"Average\",\"Poor\",\"Good\",\"Poor\",\"Poor\",\"Average\",\"Poor\",\"Poor\",\"Poor\",\"Good\",\"Good\",\"Poor\",\"Average\",\"Average\",\"Good\",\"Average\",\"Poor\",\"Average\",\"Good\",\"Good\",\"Average\",\"Average\",\"Average\",\"Poor\",\"Average\",\"Poor\",\"Poor\",\"Poor\",\"Poor\",\"Good\",\"Poor\",\"Poor\",\"Good\",\"Good\",\"Poor\",\"Average\",\"Poor\",\"Average\",\"Good\",\"Good\",\"Poor\",\"Average\",\"Poor\",\"Good\",\"Average\",\"Poor\",\"Good\",\"Average\",\"Average\",\"Good\",\"Good\",\"Poor\",\"Average\",\"Poor\",\"Poor\",\"Average\",\"Average\",\"Poor\",\"Good\",\"Average\",\"Average\",\"Average\",\"Average\",\"Average\",\"Poor\",\"Average\",\"Poor\",\"Average\",\"Poor\",\"Good\",\"Poor\",\"Average\",\"Average\",\"Poor\",\"Average\",\"Average\",\"Average\",\"Poor\",\"Average\",\"Good\",\"Good\",\"Good\",\"Average\",\"Poor\",\"Poor\",\"Average\",\"Poor\",\"Poor\",\"Good\",\"Poor\",\"Good\",\"Poor\",\"Good\",\"Good\",\"Poor\",\"Average\",\"Average\",\"Average\",\"Average\",\"Good\",\"Poor\",\"Good\",\"Poor\",\"Good\",\"Good\",\"Good\",\"Poor\",\"Poor\",\"Poor\",\"Average\",\"Good\",\"Average\",\"Poor\",\"Good\",\"Poor\",\"Good\",\"Poor\",\"Poor\",\"Poor\",\"Poor\",\"Poor\",\"Good\",\"Poor\",\"Good\",\"Average\",\"Average\",\"Average\",\"Poor\",\"Poor\",\"Average\",\"Good\",\"Good\",\"Poor\",\"Good\",\"Poor\",\"Poor\",\"Average\",\"Good\",\"Good\",\"Good\",\"Poor\",\"Poor\",\"Poor\",\"Good\",\"Poor\",\"Poor\",\"Average\",\"Average\",\"Good\",\"Poor\",\"Average\",\"Poor\",\"Average\",\"Poor\",\"Good\",\"Good\",\"Average\",\"Poor\",\"Average\",\"Poor\",\"Good\",\"Poor\",\"Poor\",\"Poor\",\"Average\",\"Average\",\"Average\",\"Poor\",\"Good\",\"Poor\",\"Good\",\"Average\",\"Poor\",\"Poor\",\"Poor\",\"Poor\",\"Poor\",\"Average\",\"Poor\",\"Poor\",\"Good\",\"Poor\",\"Good\",\"Poor\",\"Average\",\"Average\",\"Average\",\"Good\",\"Average\",\"Average\",\"Poor\",\"Poor\",\"Good\",\"Poor\",\"Good\",\"Poor\",\"Good\",\"Good\",\"Good\",\"Good\",\"Good\",\"Good\",\"Good\",\"Poor\",\"Average\",\"Average\",\"Average\",\"Average\",\"Good\",\"Good\",\"Average\",\"Average\",\"Poor\",\"Poor\",\"Good\",\"Good\",\"Average\",\"Poor\",\"Poor\",\"Poor\",\"Good\",\"Good\",\"Poor\",\"Poor\",\"Average\",\"Poor\",\"Poor\",\"Poor\",\"Average\",\"Poor\",\"Good\",\"Good\",\"Good\",\"Poor\",\"Poor\",\"Average\",\"Average\",\"Average\",\"Poor\",\"Average\",\"Poor\",\"Poor\",\"Poor\",\"Good\",\"Average\",\"Poor\",\"Average\",\"Average\",\"Poor\",\"Good\",\"Poor\",\"Poor\",\"Poor\",\"Good\",\"Poor\",\"Average\",\"Good\",\"Good\",\"Average\",\"Poor\",\"Average\",\"Poor\",\"Good\",\"Poor\",\"Good\",\"Average\",\"Poor\",\"Poor\",\"Good\",\"Poor\",\"Average\",\"Poor\",\"Good\",\"Poor\",\"Poor\",\"Average\",\"Good\",\"Poor\",\"Average\",\"Poor\",\"Poor\",\"Poor\",\"Poor\",\"Average\",\"Poor\",\"Average\",\"Average\",\"Poor\",\"Poor\",\"Poor\",\"Average\",\"Poor\",\"Good\",\"Good\",\"Poor\",\"Good\",\"Poor\",\"Average\",\"Poor\",\"Average\",\"Poor\",\"Poor\",\"Average\",\"Good\",\"Poor\",\"Average\",\"Poor\",\"Poor\",\"Poor\",\"Average\",\"Average\",\"Poor\",\"Average\",\"Good\",\"Average\",\"Poor\",\"Average\",\"Good\",\"Poor\",\"Good\",\"Good\",\"Poor\",\"Poor\",\"Average\",\"Poor\",\"Poor\",\"Poor\",\"Average\",\"Good\",\"Poor\",\"Average\",\"Poor\",\"Good\",\"Good\",\"Good\",\"Poor\",\"Average\",\"Poor\",\"Good\",\"Average\",\"Poor\",\"Average\",\"Good\",\"Average\",\"Average\",\"Average\",\"Average\",\"Poor\",\"Poor\",\"Good\",\"Good\",\"Average\",\"Good\",\"Poor\",\"Poor\",\"Poor\",\"Average\",\"Poor\",\"Poor\",\"Poor\",\"Good\",\"Good\",\"Poor\",\"Average\",\"Poor\",\"Average\",\"Good\",\"Poor\",\"Poor\",\"Good\",\"Poor\",\"Poor\",\"Poor\",\"Poor\",\"Poor\",\"Poor\",\"Good\",\"Average\",\"Poor\",\"Poor\",\"Poor\",\"Good\",\"Poor\",\"Poor\",\"Poor\",\"Average\",\"Average\",\"Good\",\"Poor\",\"Good\",\"Good\",\"Poor\",\"Poor\",\"Poor\",\"Poor\",\"Average\",\"Poor\",\"Poor\",\"Good\",\"Average\",\"Good\",\"Average\",\"Average\",\"Good\",\"Poor\",\"Good\",\"Poor\",\"Poor\",\"Good\",\"Average\",\"Poor\",\"Good\",\"Good\",\"Poor\",\"Good\",\"Good\",\"Poor\",\"Poor\",\"Good\",\"Average\",\"Poor\",\"Poor\",\"Good\",\"Average\",\"Poor\",\"Poor\",\"Good\",\"Poor\",\"Good\",\"Poor\",\"Good\",\"Poor\",\"Average\",\"Poor\",\"Poor\",\"Poor\",\"Good\",\"Good\",\"Good\",\"Poor\",\"Poor\",\"Poor\",\"Average\",\"Average\",\"Poor\",\"Poor\",\"Good\",\"Poor\",\"Poor\",\"Poor\",\"Poor\",\"Poor\",\"Poor\",\"Good\",\"Good\",\"Good\",\"Poor\",\"Good\",\"Poor\",\"Good\",\"Good\",\"Good\",\"Poor\",\"Average\",\"Average\",\"Good\",\"Average\",\"Poor\",\"Good\",\"Poor\",\"Average\",\"Poor\",\"Poor\",\"Poor\",\"Poor\",\"Poor\",\"Poor\",\"Good\",\"Poor\",\"Average\",\"Good\",\"Poor\",\"Good\",\"Poor\",\"Average\",\"Good\",\"Poor\",\"Average\",\"Good\",\"Average\",\"Poor\",\"Poor\",\"Average\",\"Average\",\"Good\",\"Average\",\"Poor\",\"Poor\",\"Average\",\"Poor\",\"Poor\",\"Good\",\"Poor\",\"Poor\",\"Average\",\"Average\",\"Good\",\"Good\",\"Average\",\"Average\",\"Poor\",\"Average\",\"Average\",\"Poor\",\"Poor\",\"Poor\",\"Average\",\"Good\",\"Poor\",\"Average\",\"Poor\",\"Poor\",\"Good\",\"Average\",\"Average\",\"Poor\",\"Poor\",\"Poor\",\"Good\",\"Good\",\"Average\",\"Poor\",\"Average\",\"Good\",\"Poor\",\"Average\",\"Poor\",\"Average\",\"Average\",\"Poor\",\"Poor\",\"Poor\",\"Good\",\"Poor\",\"Poor\",\"Average\",\"Poor\",\"Poor\",\"Poor\",\"Poor\",\"Poor\",\"Average\",\"Poor\",\"Good\",\"Average\",\"Good\",\"Poor\",\"Poor\",\"Poor\",\"Average\",\"Average\",\"Poor\",\"Poor\",\"Poor\",\"Average\",\"Average\",\"Good\",\"Average\",\"Poor\",\"Good\",\"Poor\",\"Good\",\"Good\",\"Average\",\"Good\",\"Average\",\"Poor\",\"Poor\",\"Average\",\"Average\",\"Poor\",\"Poor\",\"Poor\",\"Poor\",\"Good\",\"Poor\",\"Poor\",\"Poor\",\"Average\",\"Good\",\"Poor\",\"Average\",\"Poor\",\"Average\",\"Good\",\"Poor\",\"Average\",\"Poor\",\"Poor\",\"Good\",\"Good\",\"Average\",\"Poor\",\"Poor\",\"Average\",\"Good\",\"Average\",\"Average\",\"Poor\",\"Poor\",\"Average\",\"Poor\",\"Poor\",\"Poor\",\"Average\",\"Average\",\"Poor\",\"Good\",\"Poor\",\"Poor\",\"Poor\",\"Average\",\"Average\",\"Average\",\"Average\",\"Good\",\"Good\",\"Good\",\"Poor\",\"Average\",\"Poor\",\"Good\",\"Average\",\"Poor\",\"Average\",\"Average\",\"Poor\",\"Average\",\"Average\",\"Average\",\"Average\",\"Poor\",\"Poor\",\"Poor\",\"Good\",\"Good\",\"Good\",\"Average\",\"Good\",\"Poor\",\"Good\",\"Good\",\"Poor\",\"Good\",\"Good\",\"Poor\",\"Average\",\"Poor\",\"Average\",\"Average\",\"Poor\",\"Poor\",\"Good\",\"Poor\",\"Poor\",\"Average\",\"Average\",\"Average\",\"Poor\",\"Good\",\"Poor\",\"Average\",\"Average\",\"Average\",\"Good\",\"Average\",\"Poor\",\"Good\",\"Poor\",\"Good\",\"Poor\",\"Poor\",\"Average\",\"Poor\",\"Good\",\"Poor\",\"Good\",\"Average\",\"Good\",\"Poor\",\"Good\",\"Good\",\"Poor\",\"Good\",\"Poor\",\"Poor\",\"Poor\",\"Average\",\"Poor\",\"Good\",\"Good\",\"Average\",\"Poor\",\"Poor\",\"Average\",\"Poor\",\"Poor\",\"Poor\",\"Poor\",\"Average\",\"Poor\",\"Good\",\"Good\",\"Average\",\"Average\",\"Good\",\"Poor\",\"Poor\",\"Average\",\"Average\",\"Average\",\"Average\",\"Average\",\"Poor\",\"Good\",\"Poor\",\"Good\",\"Good\",\"Poor\",\"Good\",\"Good\",\"Average\",\"Average\",\"Poor\",\"Average\",\"Poor\",\"Average\",\"Good\",\"Poor\",\"Poor\",\"Average\",\"Good\",\"Poor\",\"Average\",\"Poor\",\"Poor\",\"Good\",\"Good\",\"Poor\",\"Average\",\"Poor\",\"Average\",\"Poor\",\"Poor\",\"Poor\",\"Poor\",\"Poor\",\"Poor\",\"Average\",\"Good\",\"Average\",\"Poor\",\"Average\",\"Average\",\"Poor\",\"Poor\",\"Poor\",\"Average\",\"Good\",\"Poor\",\"Good\",\"Poor\",\"Poor\",\"Poor\",\"Average\",\"Average\",\"Good\",\"Poor\",\"Average\",\"Average\",\"Poor\",\"Good\"],\"xaxis\":\"x\",\"yaxis\":\"y\",\"type\":\"histogram\"}],                        {\"template\":{\"data\":{\"bar\":[{\"error_x\":{\"color\":\"#2a3f5f\"},\"error_y\":{\"color\":\"#2a3f5f\"},\"marker\":{\"line\":{\"color\":\"#E5ECF6\",\"width\":0.5},\"pattern\":{\"fillmode\":\"overlay\",\"size\":10,\"solidity\":0.2}},\"type\":\"bar\"}],\"barpolar\":[{\"marker\":{\"line\":{\"color\":\"#E5ECF6\",\"width\":0.5},\"pattern\":{\"fillmode\":\"overlay\",\"size\":10,\"solidity\":0.2}},\"type\":\"barpolar\"}],\"carpet\":[{\"aaxis\":{\"endlinecolor\":\"#2a3f5f\",\"gridcolor\":\"white\",\"linecolor\":\"white\",\"minorgridcolor\":\"white\",\"startlinecolor\":\"#2a3f5f\"},\"baxis\":{\"endlinecolor\":\"#2a3f5f\",\"gridcolor\":\"white\",\"linecolor\":\"white\",\"minorgridcolor\":\"white\",\"startlinecolor\":\"#2a3f5f\"},\"type\":\"carpet\"}],\"choropleth\":[{\"colorbar\":{\"outlinewidth\":0,\"ticks\":\"\"},\"type\":\"choropleth\"}],\"contour\":[{\"colorbar\":{\"outlinewidth\":0,\"ticks\":\"\"},\"colorscale\":[[0.0,\"#0d0887\"],[0.1111111111111111,\"#46039f\"],[0.2222222222222222,\"#7201a8\"],[0.3333333333333333,\"#9c179e\"],[0.4444444444444444,\"#bd3786\"],[0.5555555555555556,\"#d8576b\"],[0.6666666666666666,\"#ed7953\"],[0.7777777777777778,\"#fb9f3a\"],[0.8888888888888888,\"#fdca26\"],[1.0,\"#f0f921\"]],\"type\":\"contour\"}],\"contourcarpet\":[{\"colorbar\":{\"outlinewidth\":0,\"ticks\":\"\"},\"type\":\"contourcarpet\"}],\"heatmap\":[{\"colorbar\":{\"outlinewidth\":0,\"ticks\":\"\"},\"colorscale\":[[0.0,\"#0d0887\"],[0.1111111111111111,\"#46039f\"],[0.2222222222222222,\"#7201a8\"],[0.3333333333333333,\"#9c179e\"],[0.4444444444444444,\"#bd3786\"],[0.5555555555555556,\"#d8576b\"],[0.6666666666666666,\"#ed7953\"],[0.7777777777777778,\"#fb9f3a\"],[0.8888888888888888,\"#fdca26\"],[1.0,\"#f0f921\"]],\"type\":\"heatmap\"}],\"heatmapgl\":[{\"colorbar\":{\"outlinewidth\":0,\"ticks\":\"\"},\"colorscale\":[[0.0,\"#0d0887\"],[0.1111111111111111,\"#46039f\"],[0.2222222222222222,\"#7201a8\"],[0.3333333333333333,\"#9c179e\"],[0.4444444444444444,\"#bd3786\"],[0.5555555555555556,\"#d8576b\"],[0.6666666666666666,\"#ed7953\"],[0.7777777777777778,\"#fb9f3a\"],[0.8888888888888888,\"#fdca26\"],[1.0,\"#f0f921\"]],\"type\":\"heatmapgl\"}],\"histogram\":[{\"marker\":{\"pattern\":{\"fillmode\":\"overlay\",\"size\":10,\"solidity\":0.2}},\"type\":\"histogram\"}],\"histogram2d\":[{\"colorbar\":{\"outlinewidth\":0,\"ticks\":\"\"},\"colorscale\":[[0.0,\"#0d0887\"],[0.1111111111111111,\"#46039f\"],[0.2222222222222222,\"#7201a8\"],[0.3333333333333333,\"#9c179e\"],[0.4444444444444444,\"#bd3786\"],[0.5555555555555556,\"#d8576b\"],[0.6666666666666666,\"#ed7953\"],[0.7777777777777778,\"#fb9f3a\"],[0.8888888888888888,\"#fdca26\"],[1.0,\"#f0f921\"]],\"type\":\"histogram2d\"}],\"histogram2dcontour\":[{\"colorbar\":{\"outlinewidth\":0,\"ticks\":\"\"},\"colorscale\":[[0.0,\"#0d0887\"],[0.1111111111111111,\"#46039f\"],[0.2222222222222222,\"#7201a8\"],[0.3333333333333333,\"#9c179e\"],[0.4444444444444444,\"#bd3786\"],[0.5555555555555556,\"#d8576b\"],[0.6666666666666666,\"#ed7953\"],[0.7777777777777778,\"#fb9f3a\"],[0.8888888888888888,\"#fdca26\"],[1.0,\"#f0f921\"]],\"type\":\"histogram2dcontour\"}],\"mesh3d\":[{\"colorbar\":{\"outlinewidth\":0,\"ticks\":\"\"},\"type\":\"mesh3d\"}],\"parcoords\":[{\"line\":{\"colorbar\":{\"outlinewidth\":0,\"ticks\":\"\"}},\"type\":\"parcoords\"}],\"pie\":[{\"automargin\":true,\"type\":\"pie\"}],\"scatter\":[{\"marker\":{\"colorbar\":{\"outlinewidth\":0,\"ticks\":\"\"}},\"type\":\"scatter\"}],\"scatter3d\":[{\"line\":{\"colorbar\":{\"outlinewidth\":0,\"ticks\":\"\"}},\"marker\":{\"colorbar\":{\"outlinewidth\":0,\"ticks\":\"\"}},\"type\":\"scatter3d\"}],\"scattercarpet\":[{\"marker\":{\"colorbar\":{\"outlinewidth\":0,\"ticks\":\"\"}},\"type\":\"scattercarpet\"}],\"scattergeo\":[{\"marker\":{\"colorbar\":{\"outlinewidth\":0,\"ticks\":\"\"}},\"type\":\"scattergeo\"}],\"scattergl\":[{\"marker\":{\"colorbar\":{\"outlinewidth\":0,\"ticks\":\"\"}},\"type\":\"scattergl\"}],\"scattermapbox\":[{\"marker\":{\"colorbar\":{\"outlinewidth\":0,\"ticks\":\"\"}},\"type\":\"scattermapbox\"}],\"scatterpolar\":[{\"marker\":{\"colorbar\":{\"outlinewidth\":0,\"ticks\":\"\"}},\"type\":\"scatterpolar\"}],\"scatterpolargl\":[{\"marker\":{\"colorbar\":{\"outlinewidth\":0,\"ticks\":\"\"}},\"type\":\"scatterpolargl\"}],\"scatterternary\":[{\"marker\":{\"colorbar\":{\"outlinewidth\":0,\"ticks\":\"\"}},\"type\":\"scatterternary\"}],\"surface\":[{\"colorbar\":{\"outlinewidth\":0,\"ticks\":\"\"},\"colorscale\":[[0.0,\"#0d0887\"],[0.1111111111111111,\"#46039f\"],[0.2222222222222222,\"#7201a8\"],[0.3333333333333333,\"#9c179e\"],[0.4444444444444444,\"#bd3786\"],[0.5555555555555556,\"#d8576b\"],[0.6666666666666666,\"#ed7953\"],[0.7777777777777778,\"#fb9f3a\"],[0.8888888888888888,\"#fdca26\"],[1.0,\"#f0f921\"]],\"type\":\"surface\"}],\"table\":[{\"cells\":{\"fill\":{\"color\":\"#EBF0F8\"},\"line\":{\"color\":\"white\"}},\"header\":{\"fill\":{\"color\":\"#C8D4E3\"},\"line\":{\"color\":\"white\"}},\"type\":\"table\"}]},\"layout\":{\"annotationdefaults\":{\"arrowcolor\":\"#2a3f5f\",\"arrowhead\":0,\"arrowwidth\":1},\"autotypenumbers\":\"strict\",\"coloraxis\":{\"colorbar\":{\"outlinewidth\":0,\"ticks\":\"\"}},\"colorscale\":{\"diverging\":[[0,\"#8e0152\"],[0.1,\"#c51b7d\"],[0.2,\"#de77ae\"],[0.3,\"#f1b6da\"],[0.4,\"#fde0ef\"],[0.5,\"#f7f7f7\"],[0.6,\"#e6f5d0\"],[0.7,\"#b8e186\"],[0.8,\"#7fbc41\"],[0.9,\"#4d9221\"],[1,\"#276419\"]],\"sequential\":[[0.0,\"#0d0887\"],[0.1111111111111111,\"#46039f\"],[0.2222222222222222,\"#7201a8\"],[0.3333333333333333,\"#9c179e\"],[0.4444444444444444,\"#bd3786\"],[0.5555555555555556,\"#d8576b\"],[0.6666666666666666,\"#ed7953\"],[0.7777777777777778,\"#fb9f3a\"],[0.8888888888888888,\"#fdca26\"],[1.0,\"#f0f921\"]],\"sequentialminus\":[[0.0,\"#0d0887\"],[0.1111111111111111,\"#46039f\"],[0.2222222222222222,\"#7201a8\"],[0.3333333333333333,\"#9c179e\"],[0.4444444444444444,\"#bd3786\"],[0.5555555555555556,\"#d8576b\"],[0.6666666666666666,\"#ed7953\"],[0.7777777777777778,\"#fb9f3a\"],[0.8888888888888888,\"#fdca26\"],[1.0,\"#f0f921\"]]},\"colorway\":[\"#636efa\",\"#EF553B\",\"#00cc96\",\"#ab63fa\",\"#FFA15A\",\"#19d3f3\",\"#FF6692\",\"#B6E880\",\"#FF97FF\",\"#FECB52\"],\"font\":{\"color\":\"#2a3f5f\"},\"geo\":{\"bgcolor\":\"white\",\"lakecolor\":\"white\",\"landcolor\":\"#E5ECF6\",\"showlakes\":true,\"showland\":true,\"subunitcolor\":\"white\"},\"hoverlabel\":{\"align\":\"left\"},\"hovermode\":\"closest\",\"mapbox\":{\"style\":\"light\"},\"paper_bgcolor\":\"white\",\"plot_bgcolor\":\"#E5ECF6\",\"polar\":{\"angularaxis\":{\"gridcolor\":\"white\",\"linecolor\":\"white\",\"ticks\":\"\"},\"bgcolor\":\"#E5ECF6\",\"radialaxis\":{\"gridcolor\":\"white\",\"linecolor\":\"white\",\"ticks\":\"\"}},\"scene\":{\"xaxis\":{\"backgroundcolor\":\"#E5ECF6\",\"gridcolor\":\"white\",\"gridwidth\":2,\"linecolor\":\"white\",\"showbackground\":true,\"ticks\":\"\",\"zerolinecolor\":\"white\"},\"yaxis\":{\"backgroundcolor\":\"#E5ECF6\",\"gridcolor\":\"white\",\"gridwidth\":2,\"linecolor\":\"white\",\"showbackground\":true,\"ticks\":\"\",\"zerolinecolor\":\"white\"},\"zaxis\":{\"backgroundcolor\":\"#E5ECF6\",\"gridcolor\":\"white\",\"gridwidth\":2,\"linecolor\":\"white\",\"showbackground\":true,\"ticks\":\"\",\"zerolinecolor\":\"white\"}},\"shapedefaults\":{\"line\":{\"color\":\"#2a3f5f\"}},\"ternary\":{\"aaxis\":{\"gridcolor\":\"white\",\"linecolor\":\"white\",\"ticks\":\"\"},\"baxis\":{\"gridcolor\":\"white\",\"linecolor\":\"white\",\"ticks\":\"\"},\"bgcolor\":\"#E5ECF6\",\"caxis\":{\"gridcolor\":\"white\",\"linecolor\":\"white\",\"ticks\":\"\"}},\"title\":{\"x\":0.05},\"xaxis\":{\"automargin\":true,\"gridcolor\":\"white\",\"linecolor\":\"white\",\"ticks\":\"\",\"title\":{\"standoff\":15},\"zerolinecolor\":\"white\",\"zerolinewidth\":2},\"yaxis\":{\"automargin\":true,\"gridcolor\":\"white\",\"linecolor\":\"white\",\"ticks\":\"\",\"title\":{\"standoff\":15},\"zerolinecolor\":\"white\",\"zerolinewidth\":2}}},\"xaxis\":{\"anchor\":\"y\",\"domain\":[0.0,1.0],\"title\":{\"text\":\"Credit_Category\"}},\"yaxis\":{\"anchor\":\"x\",\"domain\":[0.0,1.0],\"title\":{\"text\":\"count\"}},\"legend\":{\"title\":{\"text\":\"Is_Churn\"},\"tracegroupgap\":0},\"title\":{\"text\":\"Credit_Category vs Is_Churn \"},\"barmode\":\"relative\",\"height\":550,\"width\":800},                        {\"responsive\": true}                    ).then(function(){\n",
              "                            \n",
              "var gd = document.getElementById('2c442788-8762-487f-a326-6d4b4991360f');\n",
              "var x = new MutationObserver(function (mutations, observer) {{\n",
              "        var display = window.getComputedStyle(gd).display;\n",
              "        if (!display || display === 'none') {{\n",
              "            console.log([gd, 'removed!']);\n",
              "            Plotly.purge(gd);\n",
              "            observer.disconnect();\n",
              "        }}\n",
              "}});\n",
              "\n",
              "// Listen for the removal of the full notebook cells\n",
              "var notebookContainer = gd.closest('#notebook-container');\n",
              "if (notebookContainer) {{\n",
              "    x.observe(notebookContainer, {childList: true});\n",
              "}}\n",
              "\n",
              "// Listen for the clearing of the current output cell\n",
              "var outputEl = gd.closest('.output');\n",
              "if (outputEl) {{\n",
              "    x.observe(outputEl, {childList: true});\n",
              "}}\n",
              "\n",
              "                        })                };                            </script>        </div>\n",
              "</body>\n",
              "</html>"
            ]
          },
          "metadata": {}
        }
      ]
    },
    {
      "cell_type": "code",
      "source": [
        "px.histogram(train_df, x='Balance',marginal='box', title='Balance vs Is_Churn ', color='Is_Churn',width=800, height=550)"
      ],
      "metadata": {
        "colab": {
          "base_uri": "https://localhost:8080/",
          "height": 567
        },
        "id": "nx69Bc5v3xkm",
        "outputId": "54c4c703-67f9-4e45-812f-aedfc196ac50"
      },
      "execution_count": null,
      "outputs": [
        {
          "output_type": "display_data",
          "data": {
            "text/html": [
              "<html>\n",
              "<head><meta charset=\"utf-8\" /></head>\n",
              "<body>\n",
              "    <div>            <script src=\"https://cdnjs.cloudflare.com/ajax/libs/mathjax/2.7.5/MathJax.js?config=TeX-AMS-MML_SVG\"></script><script type=\"text/javascript\">if (window.MathJax) {MathJax.Hub.Config({SVG: {font: \"STIX-Web\"}});}</script>                <script type=\"text/javascript\">window.PlotlyConfig = {MathJaxConfig: 'local'};</script>\n",
              "        <script src=\"https://cdn.plot.ly/plotly-2.8.3.min.js\"></script>                <div id=\"d5941ea2-0943-47e7-acc8-ecbe4ea6e3ca\" class=\"plotly-graph-div\" style=\"height:550px; width:800px;\"></div>            <script type=\"text/javascript\">                                    window.PLOTLYENV=window.PLOTLYENV || {};                                    if (document.getElementById(\"d5941ea2-0943-47e7-acc8-ecbe4ea6e3ca\")) {                    Plotly.newPlot(                        \"d5941ea2-0943-47e7-acc8-ecbe4ea6e3ca\",                        [{\"alignmentgroup\":\"True\",\"bingroup\":\"x\",\"hovertemplate\":\"Is_Churn=1<br>Balance=%{x}<br>count=%{y}<extra></extra>\",\"legendgroup\":\"1\",\"marker\":{\"color\":\"#636efa\",\"pattern\":{\"shape\":\"\"}},\"name\":\"1\",\"offsetgroup\":\"1\",\"orientation\":\"v\",\"showlegend\":true,\"x\":[563266.4400000001,1393922.16,893146.23,1587489.75,1465812.54,1582892.64,560017.62,101367.0,1072086.66,1772807.67,551392.8300000001,903320.55,600137.5499999999,634975.74,1625969.79,1203286.05,864971.1,1601452.08,1398909.33,2143646.46,1536736.41,1662548.94,307604.06999999995,2332971.81,1806126.03,1012630.41,933811.11,838385.46,838643.04,36045.0,300028.68000000005,28593.0,32463.0,251997.66,1583268.39,1428770.97,139734.0,220287.15,564109.11,1076659.74,41913.0,404592.75,223389.81,1623850.2,501774.3,1242731.61,626707.35,281911.41,237576.6,556868.52,727703.5499999999,820471.14,978704.37,892519.5599999999,527026.14,256330.98,550832.85,1641517.56,897797.43,1035416.07,1023595.02,1322013.33,447160.32,396369.0,991608.57,1320312.33,1273552.02,136638.0,275157.63,133875.0,353068.11,322915.5,1035929.88,1023705.18,1350937.17,1243181.16,983745.27,775998.54,592418.1599999999,510126.48,64755.0,1352497.05,1072707.3,1583318.16,527007.96,1638496.89,559709.28,478890.99,762402.6900000001,268685.91000000003,1150166.34,1075888.89,277822.17,1773775.98,682603.5599999999,1079154.0,601979.1300000001,790059.24,778434.21,899031.33,1423113.75,1514299.23,1273253.58,1584009.9,605596.6799999999,482495.31,1237861.08,723120.57,1111484.52,1128757.68,753112.35,692109.18,1092125.79,1249188.3,2198194.11,782337.78,1317241.8,672258.8699999999,408877.02,462865.59,2354015.88,2114509.23,794764.6199999999,1168727.76,168417.0,1320000.66,823363.3800000001,668128.23,1031358.33,752685.1199999999,384738.93000000005,2222971.11,102348.0,580197.3300000001,788806.4400000001,1568494.44,124092.0,558939.96,421306.02,731169.8099999999,69453.0,707025.33,16380.0,876194.1900000001,805933.08,589142.79,714427.65,1781206.47,593527.6799999999,1143519.39,745776.72,1721923.11,148359.69,288346.32,1537342.02,1090937.07,1336983.75,1571719.05,1286339.13,186397.65,542933.01,684399.33,1147156.92,595014.9299999999,1239006.33,549748.89,890604.0,781509.6,930129.12,792274.0499999999,662575.68,684857.79,474499.98,1841243.04,623167.1100000001,1816082.1,138919.23,111717.0,1132827.93,1618650.27,1315025.37,374139.27,1250135.37,9927.0,59382.0,1274749.2,182591.01,899227.08,837414.4500000001,958703.76,423229.5,1139935.59,1096177.77,524375.91,442103.31,581751.36,1010947.32,639648.99,632435.1300000001,515228.67,864875.8800000001,682041.51,1105091.46,1549427.67,283454.73,328423.31999999995,996518.34,425737.26,985062.78,1700370.0,1020393.0,160119.9,2402199.81,1523309.58,874298.7000000001,625259.8800000001,531622.0800000001,105966.0,1008415.26,1812860.91,935724.42,1898724.87,573054.75,178983.0,367847.46,756922.77,624206.7000000001,917787.15,292765.41000000003,896484.51,1192970.25,33570.0,1210449.15,1096810.38,1343107.35,1071861.12,1056192.93,1204649.1,1378296.09,1458768.2399999998,715927.77,671510.79,1228540.59,311144.85000000003,755787.42,84358.62,1232568.9899999998,25569.0,1222277.2200000002,590493.6,137655.0,80757.0,605792.79,1293405.5699999998,499305.33,828539.3699999999,828477.8099999999,392904.36,573163.5599999999,1359029.7,1052147.88,398377.26,281835.72000000003,1034623.44,103392.0,446160.06,140161.05000000002,627581.8800000001,649444.0499999999,394525.98,395404.47,1486055.34,825820.3800000001,999152.01,972725.4,1005770.97,1347791.58,823376.97,572987.16,551163.3300000001,719685.3600000001,1068264.72,1600547.04,107604.0,55314.0,1519723.53,509974.74,747224.91,1624863.42,784587.51,732057.8400000001,582922.53,1108640.97,645098.76,919704.96,1738682.55,269820.27,753682.14,366765.39,1690685.0100000002,423347.31,431623.62,826085.97,823888.89,1326266.19,195687.54,577350.72,687472.02,59695.28999999999,1629507.33,1183510.08,2057211.27,489625.38,1026917.46,1084065.84,559515.87,54099.0,995922.09,835062.2999999999,307593.09,1147782.42,983474.55,1523790.18,783808.2000000001,737284.0499999999,547430.9400000001,308824.2,2209609.08,1115936.28,170082.0,434560.68,1445756.58,1898839.35,2287458.81,262823.85000000003,823853.7000000001,2025093.24,864257.76,943894.44,1576552.95,1077807.78,1312981.65,126909.0,1321423.65,213339.33,367089.66,1542918.33,1153729.98,1585824.66,884107.35,343933.55999999994,252825.3,1261644.66,462597.84,358903.35000000003,49365.0,481830.48,792767.79,755427.51,878154.75,36117.0,664628.85,1791843.03,740499.75,628234.92,77776.56,1365668.1,44751.6,290163.87,535049.64,775942.92,1389581.19,953802.72,1239552.9899999998,629830.71,843531.48,1726175.88,263942.01,975052.89,1200264.57,688161.33,1789922.43,965716.74,1366169.58,388415.43,650773.4400000001,1076709.42,1317415.14,905886.63,18873.0,1103509.17,901297.71,86094.0,1012182.39,443772.81,1704781.35,609492.78,123038.46,626871.8699999999,989437.41,116132.04,1637058.78,852612.48,1000827.99,951274.26,689153.85,1012634.19,223800.39,1434366.36,1126572.75,1028662.83,444664.8,1328786.37,828809.01,519170.31,1010336.85,93123.0,1325668.95,1124705.16,743059.53,1339718.7600000002,548311.3200000001,672582.8699999999,462659.58,1062298.17,1428517.98,776652.75,1011839.49,912956.13,1228237.2,737803.4400000001,609594.03,1260252.09,1217910.6,335749.05,901197.18,751771.4400000001,348304.05,1933390.44,651189.24,950750.73,557336.34,459427.95,945132.66,2266836.66,1449707.31,1520488.35,81999.0,873008.73,429027.21,225897.57,1429870.59,1358792.19,1082493.99,749101.86,2257888.5,1090902.42,1391766.57,1561766.67,883326.33,1283464.2600000002,1816005.15,1472143.14,1124372.34,922304.97,1074579.84,547224.75,1147833.0,565596.09,958975.56,1279973.79,75528.0,1039190.4,1446398.91,913286.16,1667623.14,1094502.6,1937861.19,1254014.73,1305261.36,839701.7999999999,568980.9,843192.8099999999,2029805.46,51723.0,1082331.18,826097.58,1043175.87,966876.48,884289.96,903076.2,135477.0,585590.4,1079190.54,1543740.21,435965.4,1195802.91,1137282.3,278162.37,309962.16000000003,33831.0,1448669.97,222578.19,791914.5,1379225.07,399592.98,2298385.89,76720.23000000001,1389754.44,1378205.64,1713778.47,146032.47,1619689.86,2017469.07,929617.65,1297373.7600000002,36846.0,806864.3099999999,613307.61,966368.97,890421.84,853491.0599999999,65079.0,892464.03,896212.89,1175220.27,698509.89,678951.3600000001,717958.89,629511.75,343267.29,2271404.52,2424060.81,734575.32,451543.32,68841.0,251330.76,1859643.09,173943.0,549952.8300000001,1280416.05,652980.6900000001,1493428.5,1078259.04,1240021.89,1580700.78,246767.49,561534.5700000001,193887.81,956808.72,522818.73,1363239.0,711603.18,77823.0,2381976.81,806600.52,1190064.7799999998,816476.4,1025142.75,242788.32,560801.97,695854.4400000001,467363.16,523122.3,1793866.68,1331355.42,1039262.76,714334.41,186180.3,1192134.96,142911.0,1039651.02,944434.62,988716.51,1073503.89,291093.3,63990.0,1685672.64,1187168.31,1026088.38,1272352.14,427884.93,899325.6300000001,774590.67,1151293.32,1111186.17,92106.0,58041.0,60201.0,1220278.41,1632025.44,1542690.63,1044000.27,1482393.96,640632.51,995588.73,311877.80999999994,225346.5,977622.12,248320.35,60975.0,448276.77,555081.2999999999,175950.09000000003,654571.8899999999,1345467.15,1165312.62,1392356.43,329072.58,2074872.06,171036.0,2377598.13,1677481.7399999998,108261.0,465617.16,1427370.57,524725.5599999999,1008601.02,1524765.2399999998,206364.33,91278.0,1102909.59,9252.0,971793.0,1237787.64,1161388.08,231966.36,611403.6599999999,1185427.08,1448294.85,53523.0,1361642.4899999998,1227252.06,172653.75,946498.23,1534957.56,1144627.2,50355.0,137232.0,853608.8699999999,835836.03,592754.1300000001,163431.0,587493.72,652948.83,1213427.97,698911.92,43938.0,1195081.4700000002,758808.36,1631780.28,1508878.2600000002,863068.68,999628.02,443879.37,391385.07,1002398.4,18792.0,168597.0,732530.25,1764898.38,30168.0,2352663.81,685501.3800000001,2052155.97,1066548.87,1008097.11,416186.46,617072.04,1098348.57,933443.37,153873.0,740965.23,690442.11,1207393.56,62829.0,604967.85,442172.52,1117510.11,893442.6900000001,887953.23,1863628.02,24363.0,399048.21,1277038.89,151658.01,774162.6300000001,697698.8099999999,609500.52,1092162.6,1622181.42,305918.73,1079051.31,689808.96,68307.03,146250.0,864788.04,1466367.39,703872.54,535347.9,964755.36,462600.27,1209322.62,1184965.7399999998,1099709.55,1253877.39,1652254.83,1780417.71,427471.65,45798.12,886095.18,574351.29,1177287.03,1051875.54,417635.91,1467814.41,1664748.63,829934.1,377174.79,631314.3600000001,104572.26,700421.85,512150.58,640091.43,609748.47,929405.79,83505.87,928713.96,1082359.89,988350.66,293327.19,1242947.4300000002,86913.0,877915.08,1457151.03,601919.28,1194725.61,487319.58,1049585.31,1094740.83,809744.67,901554.93,1563010.92,1325696.4899999998,891355.9500000001,336513.24,212496.21,282135.06,64926.0,171963.72000000003,611803.7999999999,1254308.85,2009548.8,1110669.75,645409.53,1516443.03,1407402.54,955214.82,458211.87,614538.4500000001,308383.65,256175.19,770930.28,821237.9400000001,272888.55,874282.86,145377.0,1135680.39,1674080.73,66002.13,350803.08,1039921.29,126585.0,163214.46000000002,605933.5499999999,427784.58,1460484.54,77019.03,159417.0,1346784.66,328029.3,178755.21,589009.9500000001,2049647.58,285002.82,52254.0,760351.14,809900.28,1649580.39,509616.0,781568.3699999999,547337.16,149985.0,431635.5,1677816.27,727762.32,892743.84,1937106.36,792366.1199999999,763794.54,282282.39,1144588.05,1475066.79,602438.85,1139957.1,61578.0,1131397.11,1541868.39,1190680.29,1675276.7399999998,1365877.2600000002,418630.68000000005,1112610.69,1251287.19,750648.78,869063.49,307453.5,1466231.13,1773239.94,532421.46,1016715.87,1306743.84,1570861.35,899586.6300000001,268480.62,402583.32,410622.21,937302.48,1152212.31,67968.54,410179.59,1288262.25,656116.74,219762.99,1324761.12,1359683.82,441610.38,796837.86,986685.66,485580.15,732745.53,1694180.07,108432.0,1077876.36,138825.0,863764.29,545196.6900000001,3105.0,339634.53,569951.5499999999,86047.83,868245.1199999999,1469077.29,348762.42,611555.9400000001,152906.58000000002,1400964.39,253436.4,788868.6300000001,908451.81,358191.54,748752.75,537591.96,1036357.74,939379.05,1257080.13,315566.10000000003,1215333.36,1010458.08,775099.6199999999,842864.49,388173.06,1239340.14,935659.71,1516504.77,300087.99,1026542.52,188149.41,662809.23,436088.79,1117974.6,913124.79,1814578.56,66186.0,523269.09,1795074.21,866352.0599999999,921621.69,1558133.0100000002,345339.80999999994,333574.47000000003,853733.07,492574.95,304379.01,299920.14,663438.15,832435.5599999999,594836.01,1173695.13,328379.85000000003,701397.09,70722.0,803296.17,1068611.04,898735.59,238281.3,1197525.33,2361625.47,265102.74,76789.8,517110.57,365969.97,576394.2000000001,471330.45,1857759.75,463320.27,968784.93,1940202.45,209772.36,848496.42,1456819.11,1723855.77,1903210.92,650129.67,1665551.25,716643.8099999999,1103594.22,86697.0,676267.3800000001,1887155.28,223390.44,600623.6399999999,1267085.79,711369.09,1981969.65,1691877.78,101421.0,2019891.42,1413761.85,129960.0,905626.62,22491.0,1265453.64,1189830.87,1301431.95,241104.78,414240.39,982399.23,1123579.89,790934.76,570963.24,1239034.5,248838.57,1391321.43,762709.41,759123.9,1505356.65,1056024.72,415639.71,596020.1399999999,533277.54,1144047.24,1710885.78,983059.02,1562809.05,762763.86,167481.0,1895050.35,1573678.35,1049114.16,1684405.2600000002,422853.03,1062981.27,911095.2,324956.25,1450150.11,655490.3400000001,699787.53,972104.13,774410.1300000001,1074523.95,853356.78,189671.58,1199077.29,195068.61,1525401.09,751058.46,1279672.2,484032.42,1102183.29,742348.6199999999,768571.47,1258277.4899999998,685572.66,2076838.47,295716.15,418650.48,1176777.0,497882.61,1120646.7,573287.85,312240.15,1034517.69,1665730.53,1793819.34,351577.98,1137820.05,354114.54,425993.94000000006,851233.77,960375.42,1129825.44,1893798.54,1385085.33,1686182.04,1293908.67,1159817.31,109115.28,1256289.12,1174020.93,374946.39,913322.25,161379.0,500488.2,1105157.07,36945.0,155689.65,1744342.7399999998,489374.37,140625.0,810900.72,759785.9400000001,946348.56,870766.5599999999,358882.47000000003,981563.22,939887.91,576538.2000000001,1276639.29,620544.96,1158568.02,948535.2,311533.47000000003,935888.94,1781533.8,1065910.05,838916.5499999999,57771.0,548201.4299999999,459235.17,907306.74,91575.09,320699.88,274710.96,179250.38999999998,865012.86,139023.0,1030239.27,858714.75,46341.0,1375140.33,947995.65,1682356.05,1614252.5100000002,128907.0,104157.0,1078133.22,746199.9,315770.67000000004,94842.0,1823728.41,837569.52,1038246.93,273668.49,797520.33,881206.65,820928.97,1278369.0,236510.01,466157.88,743569.92,1059690.6,380740.5,471167.64,1421948.88,178083.0,606761.82,736855.83,499225.23,722540.8800000001,2080965.78,1381452.57,733663.08,1292170.77,1274865.03,913729.32,502715.16,674042.49,445067.91,1434412.08,687129.1199999999,964243.08,804013.5599999999,115857.0,1241634.96,567777.3300000001,523111.23,1275816.69,2086841.88,910566.81,1339311.96,363337.65,495731.52,147632.94,8001.0,1064384.37,102123.0,156411.0,1139699.43,897028.83,1271436.75,1223905.32,1665982.44,861835.41,1405810.35,129573.99,1763591.4899999998,1057363.92,799821.36,25911.81,18981.0,786866.58,117360.0,1092764.88,601749.0900000001,428563.71,989211.33,590493.6,1407947.4,1265142.06,1138796.01,485625.87,350261.46,407934.72,1025896.05,340881.3,106353.0,1372600.71,1331752.68,1256235.57,937263.24,697557.15,716198.58,762364.53,1070234.37,1164191.4,591117.75,804610.17,996790.14,1780715.07,643814.46,806968.89,500695.83,1717805.16,1444662.45,1193370.84,816299.1,583594.74,329948.46,398694.69000000006,527624.91,749828.16,1035528.21,286102.35000000003,1657362.78,1052971.83,729836.28,615101.9400000001,949399.11,595819.17,29295.0,901675.26,1611641.97,1094646.33,1155579.75,775399.68,625663.35,102349.88999999998,294968.16000000003,611474.4,1373748.66,777205.08,1565557.38,740797.74,50922.0,1382204.7,314407.98,548150.76,1286056.2600000002,518977.71,808260.84,221065.02,1315847.07,1784018.07,1290666.87,801237.42,1012079.7,305155.17000000004,1471715.82,10998.0,1510785.81,681998.76,865754.1,757272.15,596872.71,1462010.85,530418.6900000001,1319382.72,1005548.49,867211.29,715830.93,1709860.68,1268126.0100000002,863949.15,85806.0,348111.9,1261897.83,1247257.89,1094636.34,730141.74,489385.89,680137.92,870594.2999999999,300156.21,1052511.84,1228097.52,1263976.2,406536.66,1431388.53,627015.78,464580.72,54819.0,1176642.72,672723.8099999999,441338.4,475524.36,1716311.97,1391760.9,518694.12,1357772.94,622647.8099999999,1436661.45,403687.35,714255.21,1168172.91,1591276.5,914917.86,1099085.85,1360228.41,113220.0,1523075.58,946126.44,1518913.35,1481762.43,171648.0,588507.12,1059563.61,561353.04,483965.64,855535.68,439186.95,405356.22,495548.55,138825.0,326380.41000000003,1916084.61,154350.0,1201972.14,1002810.42,133722.0,865281.96,183228.66,1130310.0,120933.0,1080539.01,901207.89,580020.03,750165.93,1515801.2399999998,981314.46,566400.51,243656.28,625287.78,657570.6,461388.87,1159648.92,1085706.0,112058.37,993448.44,855931.86,1676791.98,1829842.65,1787839.7399999998,22347.0,348724.26,333198.27,1699076.61,1688833.98,1357920.18,1421485.02,1173832.47,1595556.63,911445.3,2272518.81,782018.64,438214.23,1178729.55,1090712.7,1412115.84,25911.0,185574.24,221057.1,660177.4500000001,1021949.55,855608.49,1100007.27,762650.82,1081808.55,881595.27,706226.3099999999,622864.6199999999,928947.33,949965.12,1121791.5,1586730.06,655049.07,114678.0,1017.0,311452.92000000004,592970.1300000001,107568.0,1143967.14,1830766.41,546105.6900000001,338111.01,483018.75,1361855.97,693115.83,434090.34,1506904.56,1032766.02,71544.96,1325567.43,1542348.27,1815711.66,130644.0,506735.91,1357027.02,985218.21,1523071.2600000002,1012784.58,2345304.15,649321.2000000001,804624.84,838897.02,1264980.69,803932.5599999999,998916.66,42156.0,68400.0,480953.7,573461.91,1335294.36,1759426.38,1206171.1800000002,651394.6199999999,1423594.98,599552.1900000001,216181.62,1798447.68,1133907.57,447894.0,1760700.15,1538322.03,769648.0499999999,704988.54,762255.0,1122879.42,173872.98,1712687.94,787246.47,62298.0,590436.3600000001,540880.47,1103653.35,48446.55,91341.0,1191689.8199999998,1122669.72,793323.36,512988.12,964913.4,989406.9,2360097.81,694161.72,2184500.43,1045505.43,1616831.73,950918.4,937272.6,1166916.87,1473257.43,54612.0,964840.14,994540.14,27909.0,1523233.35,1498287.42,1618418.43,602901.18,140913.0,604333.6199999999,2383123.7700000005,703337.76,1226006.46,201931.65,82170.0,764897.9400000001,842749.11,1059537.6,1003637.34,638747.46,1761959.97,647110.8899999999,1156341.24,1422611.0100000002,1492505.73,741458.61,413533.98,1198693.44,1170119.43,750808.26,771734.07,1946430.45,368205.48,1979285.04,2925.0,541370.0700000001,487165.95,714881.61,942026.67,258628.77,13356.0,1316870.64,1729765.08,1189021.3199999998,1234090.2600000002,1466126.19,1418641.38,827920.71,757803.0599999999,1541795.67,281552.22000000003,33265.259999999995,215232.66,102486.15,463039.38,356812.55999999994,963242.01,604099.98,75492.0,1459407.6,1443270.5100000002,1504809.72,428895.18,1076227.92,392059.53,159104.07,765396.27,1035633.51,635146.47,569788.5599999999,368348.94000000006,1133560.53,86663.88,776199.96,729431.6399999999,1399550.7600000002,495987.12,240003.81,466515.09,590849.9099999999,702808.92,648568.7999999999,1255125.2399999998,352831.14,476851.05,1336318.47,176516.73,572266.26,673892.46,355244.94000000006,205220.34000000003,159237.0,1692641.25,100575.0,2107294.92,2356157.7,244581.93,1146220.74,224541.45,1646904.33,508235.85,1371234.87,730143.4500000001,156699.0,135810.0,1960563.6,1110539.7,685824.2999999999,1127187.9,524403.72,1344355.47,1344615.93,1566675.72,368185.5,262933.11,186957.9,13635.0,452339.91,995875.83,645361.02,793966.68,1319181.84,1308630.6,1354526.19,395233.65],\"xaxis\":\"x\",\"yaxis\":\"y\",\"type\":\"histogram\"},{\"alignmentgroup\":\"True\",\"hovertemplate\":\"Is_Churn=1<br>Balance=%{x}<extra></extra>\",\"legendgroup\":\"1\",\"marker\":{\"color\":\"#636efa\"},\"name\":\"1\",\"notched\":true,\"offsetgroup\":\"1\",\"showlegend\":false,\"x\":[563266.4400000001,1393922.16,893146.23,1587489.75,1465812.54,1582892.64,560017.62,101367.0,1072086.66,1772807.67,551392.8300000001,903320.55,600137.5499999999,634975.74,1625969.79,1203286.05,864971.1,1601452.08,1398909.33,2143646.46,1536736.41,1662548.94,307604.06999999995,2332971.81,1806126.03,1012630.41,933811.11,838385.46,838643.04,36045.0,300028.68000000005,28593.0,32463.0,251997.66,1583268.39,1428770.97,139734.0,220287.15,564109.11,1076659.74,41913.0,404592.75,223389.81,1623850.2,501774.3,1242731.61,626707.35,281911.41,237576.6,556868.52,727703.5499999999,820471.14,978704.37,892519.5599999999,527026.14,256330.98,550832.85,1641517.56,897797.43,1035416.07,1023595.02,1322013.33,447160.32,396369.0,991608.57,1320312.33,1273552.02,136638.0,275157.63,133875.0,353068.11,322915.5,1035929.88,1023705.18,1350937.17,1243181.16,983745.27,775998.54,592418.1599999999,510126.48,64755.0,1352497.05,1072707.3,1583318.16,527007.96,1638496.89,559709.28,478890.99,762402.6900000001,268685.91000000003,1150166.34,1075888.89,277822.17,1773775.98,682603.5599999999,1079154.0,601979.1300000001,790059.24,778434.21,899031.33,1423113.75,1514299.23,1273253.58,1584009.9,605596.6799999999,482495.31,1237861.08,723120.57,1111484.52,1128757.68,753112.35,692109.18,1092125.79,1249188.3,2198194.11,782337.78,1317241.8,672258.8699999999,408877.02,462865.59,2354015.88,2114509.23,794764.6199999999,1168727.76,168417.0,1320000.66,823363.3800000001,668128.23,1031358.33,752685.1199999999,384738.93000000005,2222971.11,102348.0,580197.3300000001,788806.4400000001,1568494.44,124092.0,558939.96,421306.02,731169.8099999999,69453.0,707025.33,16380.0,876194.1900000001,805933.08,589142.79,714427.65,1781206.47,593527.6799999999,1143519.39,745776.72,1721923.11,148359.69,288346.32,1537342.02,1090937.07,1336983.75,1571719.05,1286339.13,186397.65,542933.01,684399.33,1147156.92,595014.9299999999,1239006.33,549748.89,890604.0,781509.6,930129.12,792274.0499999999,662575.68,684857.79,474499.98,1841243.04,623167.1100000001,1816082.1,138919.23,111717.0,1132827.93,1618650.27,1315025.37,374139.27,1250135.37,9927.0,59382.0,1274749.2,182591.01,899227.08,837414.4500000001,958703.76,423229.5,1139935.59,1096177.77,524375.91,442103.31,581751.36,1010947.32,639648.99,632435.1300000001,515228.67,864875.8800000001,682041.51,1105091.46,1549427.67,283454.73,328423.31999999995,996518.34,425737.26,985062.78,1700370.0,1020393.0,160119.9,2402199.81,1523309.58,874298.7000000001,625259.8800000001,531622.0800000001,105966.0,1008415.26,1812860.91,935724.42,1898724.87,573054.75,178983.0,367847.46,756922.77,624206.7000000001,917787.15,292765.41000000003,896484.51,1192970.25,33570.0,1210449.15,1096810.38,1343107.35,1071861.12,1056192.93,1204649.1,1378296.09,1458768.2399999998,715927.77,671510.79,1228540.59,311144.85000000003,755787.42,84358.62,1232568.9899999998,25569.0,1222277.2200000002,590493.6,137655.0,80757.0,605792.79,1293405.5699999998,499305.33,828539.3699999999,828477.8099999999,392904.36,573163.5599999999,1359029.7,1052147.88,398377.26,281835.72000000003,1034623.44,103392.0,446160.06,140161.05000000002,627581.8800000001,649444.0499999999,394525.98,395404.47,1486055.34,825820.3800000001,999152.01,972725.4,1005770.97,1347791.58,823376.97,572987.16,551163.3300000001,719685.3600000001,1068264.72,1600547.04,107604.0,55314.0,1519723.53,509974.74,747224.91,1624863.42,784587.51,732057.8400000001,582922.53,1108640.97,645098.76,919704.96,1738682.55,269820.27,753682.14,366765.39,1690685.0100000002,423347.31,431623.62,826085.97,823888.89,1326266.19,195687.54,577350.72,687472.02,59695.28999999999,1629507.33,1183510.08,2057211.27,489625.38,1026917.46,1084065.84,559515.87,54099.0,995922.09,835062.2999999999,307593.09,1147782.42,983474.55,1523790.18,783808.2000000001,737284.0499999999,547430.9400000001,308824.2,2209609.08,1115936.28,170082.0,434560.68,1445756.58,1898839.35,2287458.81,262823.85000000003,823853.7000000001,2025093.24,864257.76,943894.44,1576552.95,1077807.78,1312981.65,126909.0,1321423.65,213339.33,367089.66,1542918.33,1153729.98,1585824.66,884107.35,343933.55999999994,252825.3,1261644.66,462597.84,358903.35000000003,49365.0,481830.48,792767.79,755427.51,878154.75,36117.0,664628.85,1791843.03,740499.75,628234.92,77776.56,1365668.1,44751.6,290163.87,535049.64,775942.92,1389581.19,953802.72,1239552.9899999998,629830.71,843531.48,1726175.88,263942.01,975052.89,1200264.57,688161.33,1789922.43,965716.74,1366169.58,388415.43,650773.4400000001,1076709.42,1317415.14,905886.63,18873.0,1103509.17,901297.71,86094.0,1012182.39,443772.81,1704781.35,609492.78,123038.46,626871.8699999999,989437.41,116132.04,1637058.78,852612.48,1000827.99,951274.26,689153.85,1012634.19,223800.39,1434366.36,1126572.75,1028662.83,444664.8,1328786.37,828809.01,519170.31,1010336.85,93123.0,1325668.95,1124705.16,743059.53,1339718.7600000002,548311.3200000001,672582.8699999999,462659.58,1062298.17,1428517.98,776652.75,1011839.49,912956.13,1228237.2,737803.4400000001,609594.03,1260252.09,1217910.6,335749.05,901197.18,751771.4400000001,348304.05,1933390.44,651189.24,950750.73,557336.34,459427.95,945132.66,2266836.66,1449707.31,1520488.35,81999.0,873008.73,429027.21,225897.57,1429870.59,1358792.19,1082493.99,749101.86,2257888.5,1090902.42,1391766.57,1561766.67,883326.33,1283464.2600000002,1816005.15,1472143.14,1124372.34,922304.97,1074579.84,547224.75,1147833.0,565596.09,958975.56,1279973.79,75528.0,1039190.4,1446398.91,913286.16,1667623.14,1094502.6,1937861.19,1254014.73,1305261.36,839701.7999999999,568980.9,843192.8099999999,2029805.46,51723.0,1082331.18,826097.58,1043175.87,966876.48,884289.96,903076.2,135477.0,585590.4,1079190.54,1543740.21,435965.4,1195802.91,1137282.3,278162.37,309962.16000000003,33831.0,1448669.97,222578.19,791914.5,1379225.07,399592.98,2298385.89,76720.23000000001,1389754.44,1378205.64,1713778.47,146032.47,1619689.86,2017469.07,929617.65,1297373.7600000002,36846.0,806864.3099999999,613307.61,966368.97,890421.84,853491.0599999999,65079.0,892464.03,896212.89,1175220.27,698509.89,678951.3600000001,717958.89,629511.75,343267.29,2271404.52,2424060.81,734575.32,451543.32,68841.0,251330.76,1859643.09,173943.0,549952.8300000001,1280416.05,652980.6900000001,1493428.5,1078259.04,1240021.89,1580700.78,246767.49,561534.5700000001,193887.81,956808.72,522818.73,1363239.0,711603.18,77823.0,2381976.81,806600.52,1190064.7799999998,816476.4,1025142.75,242788.32,560801.97,695854.4400000001,467363.16,523122.3,1793866.68,1331355.42,1039262.76,714334.41,186180.3,1192134.96,142911.0,1039651.02,944434.62,988716.51,1073503.89,291093.3,63990.0,1685672.64,1187168.31,1026088.38,1272352.14,427884.93,899325.6300000001,774590.67,1151293.32,1111186.17,92106.0,58041.0,60201.0,1220278.41,1632025.44,1542690.63,1044000.27,1482393.96,640632.51,995588.73,311877.80999999994,225346.5,977622.12,248320.35,60975.0,448276.77,555081.2999999999,175950.09000000003,654571.8899999999,1345467.15,1165312.62,1392356.43,329072.58,2074872.06,171036.0,2377598.13,1677481.7399999998,108261.0,465617.16,1427370.57,524725.5599999999,1008601.02,1524765.2399999998,206364.33,91278.0,1102909.59,9252.0,971793.0,1237787.64,1161388.08,231966.36,611403.6599999999,1185427.08,1448294.85,53523.0,1361642.4899999998,1227252.06,172653.75,946498.23,1534957.56,1144627.2,50355.0,137232.0,853608.8699999999,835836.03,592754.1300000001,163431.0,587493.72,652948.83,1213427.97,698911.92,43938.0,1195081.4700000002,758808.36,1631780.28,1508878.2600000002,863068.68,999628.02,443879.37,391385.07,1002398.4,18792.0,168597.0,732530.25,1764898.38,30168.0,2352663.81,685501.3800000001,2052155.97,1066548.87,1008097.11,416186.46,617072.04,1098348.57,933443.37,153873.0,740965.23,690442.11,1207393.56,62829.0,604967.85,442172.52,1117510.11,893442.6900000001,887953.23,1863628.02,24363.0,399048.21,1277038.89,151658.01,774162.6300000001,697698.8099999999,609500.52,1092162.6,1622181.42,305918.73,1079051.31,689808.96,68307.03,146250.0,864788.04,1466367.39,703872.54,535347.9,964755.36,462600.27,1209322.62,1184965.7399999998,1099709.55,1253877.39,1652254.83,1780417.71,427471.65,45798.12,886095.18,574351.29,1177287.03,1051875.54,417635.91,1467814.41,1664748.63,829934.1,377174.79,631314.3600000001,104572.26,700421.85,512150.58,640091.43,609748.47,929405.79,83505.87,928713.96,1082359.89,988350.66,293327.19,1242947.4300000002,86913.0,877915.08,1457151.03,601919.28,1194725.61,487319.58,1049585.31,1094740.83,809744.67,901554.93,1563010.92,1325696.4899999998,891355.9500000001,336513.24,212496.21,282135.06,64926.0,171963.72000000003,611803.7999999999,1254308.85,2009548.8,1110669.75,645409.53,1516443.03,1407402.54,955214.82,458211.87,614538.4500000001,308383.65,256175.19,770930.28,821237.9400000001,272888.55,874282.86,145377.0,1135680.39,1674080.73,66002.13,350803.08,1039921.29,126585.0,163214.46000000002,605933.5499999999,427784.58,1460484.54,77019.03,159417.0,1346784.66,328029.3,178755.21,589009.9500000001,2049647.58,285002.82,52254.0,760351.14,809900.28,1649580.39,509616.0,781568.3699999999,547337.16,149985.0,431635.5,1677816.27,727762.32,892743.84,1937106.36,792366.1199999999,763794.54,282282.39,1144588.05,1475066.79,602438.85,1139957.1,61578.0,1131397.11,1541868.39,1190680.29,1675276.7399999998,1365877.2600000002,418630.68000000005,1112610.69,1251287.19,750648.78,869063.49,307453.5,1466231.13,1773239.94,532421.46,1016715.87,1306743.84,1570861.35,899586.6300000001,268480.62,402583.32,410622.21,937302.48,1152212.31,67968.54,410179.59,1288262.25,656116.74,219762.99,1324761.12,1359683.82,441610.38,796837.86,986685.66,485580.15,732745.53,1694180.07,108432.0,1077876.36,138825.0,863764.29,545196.6900000001,3105.0,339634.53,569951.5499999999,86047.83,868245.1199999999,1469077.29,348762.42,611555.9400000001,152906.58000000002,1400964.39,253436.4,788868.6300000001,908451.81,358191.54,748752.75,537591.96,1036357.74,939379.05,1257080.13,315566.10000000003,1215333.36,1010458.08,775099.6199999999,842864.49,388173.06,1239340.14,935659.71,1516504.77,300087.99,1026542.52,188149.41,662809.23,436088.79,1117974.6,913124.79,1814578.56,66186.0,523269.09,1795074.21,866352.0599999999,921621.69,1558133.0100000002,345339.80999999994,333574.47000000003,853733.07,492574.95,304379.01,299920.14,663438.15,832435.5599999999,594836.01,1173695.13,328379.85000000003,701397.09,70722.0,803296.17,1068611.04,898735.59,238281.3,1197525.33,2361625.47,265102.74,76789.8,517110.57,365969.97,576394.2000000001,471330.45,1857759.75,463320.27,968784.93,1940202.45,209772.36,848496.42,1456819.11,1723855.77,1903210.92,650129.67,1665551.25,716643.8099999999,1103594.22,86697.0,676267.3800000001,1887155.28,223390.44,600623.6399999999,1267085.79,711369.09,1981969.65,1691877.78,101421.0,2019891.42,1413761.85,129960.0,905626.62,22491.0,1265453.64,1189830.87,1301431.95,241104.78,414240.39,982399.23,1123579.89,790934.76,570963.24,1239034.5,248838.57,1391321.43,762709.41,759123.9,1505356.65,1056024.72,415639.71,596020.1399999999,533277.54,1144047.24,1710885.78,983059.02,1562809.05,762763.86,167481.0,1895050.35,1573678.35,1049114.16,1684405.2600000002,422853.03,1062981.27,911095.2,324956.25,1450150.11,655490.3400000001,699787.53,972104.13,774410.1300000001,1074523.95,853356.78,189671.58,1199077.29,195068.61,1525401.09,751058.46,1279672.2,484032.42,1102183.29,742348.6199999999,768571.47,1258277.4899999998,685572.66,2076838.47,295716.15,418650.48,1176777.0,497882.61,1120646.7,573287.85,312240.15,1034517.69,1665730.53,1793819.34,351577.98,1137820.05,354114.54,425993.94000000006,851233.77,960375.42,1129825.44,1893798.54,1385085.33,1686182.04,1293908.67,1159817.31,109115.28,1256289.12,1174020.93,374946.39,913322.25,161379.0,500488.2,1105157.07,36945.0,155689.65,1744342.7399999998,489374.37,140625.0,810900.72,759785.9400000001,946348.56,870766.5599999999,358882.47000000003,981563.22,939887.91,576538.2000000001,1276639.29,620544.96,1158568.02,948535.2,311533.47000000003,935888.94,1781533.8,1065910.05,838916.5499999999,57771.0,548201.4299999999,459235.17,907306.74,91575.09,320699.88,274710.96,179250.38999999998,865012.86,139023.0,1030239.27,858714.75,46341.0,1375140.33,947995.65,1682356.05,1614252.5100000002,128907.0,104157.0,1078133.22,746199.9,315770.67000000004,94842.0,1823728.41,837569.52,1038246.93,273668.49,797520.33,881206.65,820928.97,1278369.0,236510.01,466157.88,743569.92,1059690.6,380740.5,471167.64,1421948.88,178083.0,606761.82,736855.83,499225.23,722540.8800000001,2080965.78,1381452.57,733663.08,1292170.77,1274865.03,913729.32,502715.16,674042.49,445067.91,1434412.08,687129.1199999999,964243.08,804013.5599999999,115857.0,1241634.96,567777.3300000001,523111.23,1275816.69,2086841.88,910566.81,1339311.96,363337.65,495731.52,147632.94,8001.0,1064384.37,102123.0,156411.0,1139699.43,897028.83,1271436.75,1223905.32,1665982.44,861835.41,1405810.35,129573.99,1763591.4899999998,1057363.92,799821.36,25911.81,18981.0,786866.58,117360.0,1092764.88,601749.0900000001,428563.71,989211.33,590493.6,1407947.4,1265142.06,1138796.01,485625.87,350261.46,407934.72,1025896.05,340881.3,106353.0,1372600.71,1331752.68,1256235.57,937263.24,697557.15,716198.58,762364.53,1070234.37,1164191.4,591117.75,804610.17,996790.14,1780715.07,643814.46,806968.89,500695.83,1717805.16,1444662.45,1193370.84,816299.1,583594.74,329948.46,398694.69000000006,527624.91,749828.16,1035528.21,286102.35000000003,1657362.78,1052971.83,729836.28,615101.9400000001,949399.11,595819.17,29295.0,901675.26,1611641.97,1094646.33,1155579.75,775399.68,625663.35,102349.88999999998,294968.16000000003,611474.4,1373748.66,777205.08,1565557.38,740797.74,50922.0,1382204.7,314407.98,548150.76,1286056.2600000002,518977.71,808260.84,221065.02,1315847.07,1784018.07,1290666.87,801237.42,1012079.7,305155.17000000004,1471715.82,10998.0,1510785.81,681998.76,865754.1,757272.15,596872.71,1462010.85,530418.6900000001,1319382.72,1005548.49,867211.29,715830.93,1709860.68,1268126.0100000002,863949.15,85806.0,348111.9,1261897.83,1247257.89,1094636.34,730141.74,489385.89,680137.92,870594.2999999999,300156.21,1052511.84,1228097.52,1263976.2,406536.66,1431388.53,627015.78,464580.72,54819.0,1176642.72,672723.8099999999,441338.4,475524.36,1716311.97,1391760.9,518694.12,1357772.94,622647.8099999999,1436661.45,403687.35,714255.21,1168172.91,1591276.5,914917.86,1099085.85,1360228.41,113220.0,1523075.58,946126.44,1518913.35,1481762.43,171648.0,588507.12,1059563.61,561353.04,483965.64,855535.68,439186.95,405356.22,495548.55,138825.0,326380.41000000003,1916084.61,154350.0,1201972.14,1002810.42,133722.0,865281.96,183228.66,1130310.0,120933.0,1080539.01,901207.89,580020.03,750165.93,1515801.2399999998,981314.46,566400.51,243656.28,625287.78,657570.6,461388.87,1159648.92,1085706.0,112058.37,993448.44,855931.86,1676791.98,1829842.65,1787839.7399999998,22347.0,348724.26,333198.27,1699076.61,1688833.98,1357920.18,1421485.02,1173832.47,1595556.63,911445.3,2272518.81,782018.64,438214.23,1178729.55,1090712.7,1412115.84,25911.0,185574.24,221057.1,660177.4500000001,1021949.55,855608.49,1100007.27,762650.82,1081808.55,881595.27,706226.3099999999,622864.6199999999,928947.33,949965.12,1121791.5,1586730.06,655049.07,114678.0,1017.0,311452.92000000004,592970.1300000001,107568.0,1143967.14,1830766.41,546105.6900000001,338111.01,483018.75,1361855.97,693115.83,434090.34,1506904.56,1032766.02,71544.96,1325567.43,1542348.27,1815711.66,130644.0,506735.91,1357027.02,985218.21,1523071.2600000002,1012784.58,2345304.15,649321.2000000001,804624.84,838897.02,1264980.69,803932.5599999999,998916.66,42156.0,68400.0,480953.7,573461.91,1335294.36,1759426.38,1206171.1800000002,651394.6199999999,1423594.98,599552.1900000001,216181.62,1798447.68,1133907.57,447894.0,1760700.15,1538322.03,769648.0499999999,704988.54,762255.0,1122879.42,173872.98,1712687.94,787246.47,62298.0,590436.3600000001,540880.47,1103653.35,48446.55,91341.0,1191689.8199999998,1122669.72,793323.36,512988.12,964913.4,989406.9,2360097.81,694161.72,2184500.43,1045505.43,1616831.73,950918.4,937272.6,1166916.87,1473257.43,54612.0,964840.14,994540.14,27909.0,1523233.35,1498287.42,1618418.43,602901.18,140913.0,604333.6199999999,2383123.7700000005,703337.76,1226006.46,201931.65,82170.0,764897.9400000001,842749.11,1059537.6,1003637.34,638747.46,1761959.97,647110.8899999999,1156341.24,1422611.0100000002,1492505.73,741458.61,413533.98,1198693.44,1170119.43,750808.26,771734.07,1946430.45,368205.48,1979285.04,2925.0,541370.0700000001,487165.95,714881.61,942026.67,258628.77,13356.0,1316870.64,1729765.08,1189021.3199999998,1234090.2600000002,1466126.19,1418641.38,827920.71,757803.0599999999,1541795.67,281552.22000000003,33265.259999999995,215232.66,102486.15,463039.38,356812.55999999994,963242.01,604099.98,75492.0,1459407.6,1443270.5100000002,1504809.72,428895.18,1076227.92,392059.53,159104.07,765396.27,1035633.51,635146.47,569788.5599999999,368348.94000000006,1133560.53,86663.88,776199.96,729431.6399999999,1399550.7600000002,495987.12,240003.81,466515.09,590849.9099999999,702808.92,648568.7999999999,1255125.2399999998,352831.14,476851.05,1336318.47,176516.73,572266.26,673892.46,355244.94000000006,205220.34000000003,159237.0,1692641.25,100575.0,2107294.92,2356157.7,244581.93,1146220.74,224541.45,1646904.33,508235.85,1371234.87,730143.4500000001,156699.0,135810.0,1960563.6,1110539.7,685824.2999999999,1127187.9,524403.72,1344355.47,1344615.93,1566675.72,368185.5,262933.11,186957.9,13635.0,452339.91,995875.83,645361.02,793966.68,1319181.84,1308630.6,1354526.19,395233.65],\"xaxis\":\"x2\",\"yaxis\":\"y2\",\"type\":\"box\"},{\"alignmentgroup\":\"True\",\"bingroup\":\"x\",\"hovertemplate\":\"Is_Churn=0<br>Balance=%{x}<br>count=%{y}<extra></extra>\",\"legendgroup\":\"0\",\"marker\":{\"color\":\"#EF553B\",\"pattern\":{\"shape\":\"\"}},\"name\":\"0\",\"offsetgroup\":\"0\",\"orientation\":\"v\",\"showlegend\":true,\"x\":[875572.11,701607.0599999999,111026.79,1072102.23,770796.8099999999,1229087.79,970529.85,189726.03,1626138.18,126864.0,644629.23,30347.82,750865.14,1126609.2,570972.15,628551.0,641867.22,215598.78,1215906.48,198623.88,424434.51,632699.5499999999,1605968.1,451086.03,844107.57,17028.0,579152.79,994740.84,996902.55,291420.0,1227331.5299999998,67662.0,867602.16,1122038.64,1073558.34,444098.88,2015588.61,1157365.08,339793.29,907972.74,227637.72000000003,1101682.53,800831.16,1029391.56,680805.72,1375884.27,1158850.98,1277248.95,361051.47,15291.0,922464.27,1126106.1,1604532.78,1194113.52,452374.83,1050368.94,227871.54,18216.0,54036.0,19710.0,24444.0,159975.0,489467.52,843552.18,1901320.38,502924.68,937373.13,79659.0,88506.0,433155.24,692453.25,1117633.14,726230.8800000001,2017194.3,1147024.08,149868.0,586586.79,1159187.49,265680.45,98883.0,540972.27,725942.07,1029266.55,814875.66,915355.08,949376.16,1152190.35,445271.4,1287258.12,1018832.22,282748.86,92907.0,1721799.36,8667.0,1136047.14,1046796.57,1863300.33,964109.07,90184.95,625865.49,233914.14,402746.67,1628801.19,1253111.85,1402926.66,1134702.0,1389112.02,676939.8600000001,1223332.2,1049552.37,1149082.11,1043038.35,152313.65999999997,920181.33,1430567.19,870268.59,610385.04,105255.0,82341.0,170373.51,993317.4,195040.17,1134007.2,877161.6900000001,842280.75,90549.0,132120.0,6381.0,1402816.59,1375891.7399999998,52488.0,1238613.12,1031590.17,1083589.74,328517.37,829614.42,1200150.9,1875741.84,818026.5599999999,1326471.21,1694435.58,176112.0,1145376.72,143424.0,1856032.38,1828138.68,737780.76,609587.01,755831.34,424963.26,261110.25,1202075.37,305313.84,693276.21,175708.71,1274302.2600000002,1269775.44,307049.67000000004,1220726.52,1059408.36,1133258.22,778651.74,208578.33,571802.3099999999,1575045.81,520522.65,162234.0,1392733.2600000002,552640.86,1446208.38,571668.66,1960508.88,746104.59,1021397.67,1624694.4,810366.84,268149.33,76392.0,823078.26,876390.21,1135444.41,947655.0,940009.23,455507.82,693408.33,121986.72,613070.5499999999,471226.68,594197.9099999999,30042.0,9162.0,177120.0,809275.86,945692.73,576043.8300000001,494425.8,749433.6900000001,1064600.82,1610447.7600000002,301520.88,481141.08,117549.0,1397182.68,294123.87,300825.54,469300.59,1207578.7799999998,801734.67,1462117.77,951192.18,1798252.92,1707106.86,1161626.13,411544.08,913797.0,772245.72,204095.52,907957.89,1286100.81,1020523.05,1404503.28,1482299.91,1405794.78,571239.4500000001,884185.92,150604.02,867350.8800000001,613374.8400000001,1125992.7,1404291.2399999998,118593.0,429141.15,1540293.57,1172770.29,493018.65,1060332.3,723647.07,849725.91,853565.4,741907.35,703699.65,169578.0,500014.17,1383912.9899999998,1591795.08,2157562.98,1061489.34,1368799.65,980901.9,760837.68,142095.87,754333.11,562066.38,15282.0,537562.62,889452.36,353836.8,2283723.99,1398772.71,1137900.24,370241.19000000006,1012651.56,585378.1799999999,692013.24,348661.71,557435.7000000001,1137454.2,566894.88,715488.75,44595.0,1444790.07,97803.0,681534.4500000001,1343139.12,663451.29,149166.0,2013504.21,650295.54,648653.1300000001,1031058.72,507204.99,110178.0,1216114.2,449422.2,370484.01,122139.0,75762.0,1291291.92,1856637.72,112770.0,972748.26,726221.8800000001,463487.49,367234.56,915690.78,340134.21,160398.0,541841.13,363856.77,1171381.41,910209.33,567080.91,945328.86,119224.44,697109.85,1452032.28,1068287.85,679858.29,648567.54,1327894.56,648195.6599999999,1492366.32,418603.59,1250935.92,363359.88,1158806.79,647666.9099999999,230983.02,867715.47,541267.65,503926.38,1265127.57,597482.5499999999,918886.5,1575156.87,139050.0,1904156.82,772587.09,880165.89,1737643.95,669687.93,652213.98,559963.62,1424385.45,936960.03,914314.23,181816.47000000003,1058502.51,998503.65,52542.0,1011431.7,818135.46,879654.8699999999,580123.4400000001,994906.98,1086057.9,570672.9,11547.0,1460881.62,497497.41,528067.1699999999,499463.55,99805.23,240669.81,1267265.61,1815672.87,1185481.17,606699.9,55431.0,692265.78,640723.9500000001,373331.7,20115.0,831378.0599999999,720241.92,307647.27,1833278.94,888105.51,666715.77,534176.1,655673.85,1563392.88,1181397.2399999998,15426.0,544189.14,1910839.41,1487919.15,766114.02,1248221.34,929963.07,1217394.36,411321.87,628373.0700000001,630129.15,1091697.48,1864008.36,1042432.2,354358.98,540643.6799999999,643231.17,141998.66999999998,582699.51,794642.22,255094.92,168380.46000000002,202013.1,572918.9400000001,942805.8,1002669.93,540918.72,629711.9099999999,1076903.28,1421886.78,1248975.45,740917.53,644891.04,589825.98,834228.72,723767.67,354939.48,168507.0,48051.0,681642.99,101226.6,86328.0,1542905.0100000002,934155.81,417610.53,688938.03,1704064.05,1539295.7399999998,1274694.21,780498.18,234650.61,656042.04,98802.0,943197.75,405488.52,78192.0,1157325.66,244507.14,731722.9500000001,559805.6699999999,523750.77,387644.58,2164140.54,159831.0,1125695.52,36333.0,1601903.43,445517.19000000006,113949.0,80154.0,121194.0,1341586.62,1000611.09,1435493.7,478639.08,845564.04,746629.83,1401543.0,924424.56,1025217.9,391936.59,1060977.42,1055860.56,411842.97,1055162.88,77877.0,1235832.21,671119.2000000001,94527.0,734896.89,512047.26,1019052.99,1435115.7,938901.24,1054962.0,809705.61,30470.13,564260.4,1049290.92,879829.2000000001,739310.9400000001,555163.29,1176075.63,1239671.16,656487.4500000001,603982.4400000001,1116076.77,283124.25,128754.0,557403.66,1826524.44,125343.0,112302.0,1273515.75,403343.82,1363137.21,1507942.08,1385683.11,971530.02,969110.46,412291.71,992552.04,49869.0,908532.81,1639978.2,262341.54000000004,564517.62,354687.21,936718.74,173979.0,204401.16,450163.98,920292.57,738719.82,272193.93,830859.2999999999,1237829.85,1249675.4700000002,1433947.32,104171.4,629396.6399999999,483913.71,908736.48,1503035.82,1040699.7,376028.46,854272.35,1194087.96,47709.27,1636051.32,217565.19,114075.0,1645313.7600000002,1196860.95,599439.78,1919610.0,709631.46,1490874.39,662555.52,1344216.15,562922.91,1902698.37,1820342.61,495609.03,1161191.07,874565.01,57105.0,402197.76,575095.41,1509696.63,274994.28,941188.32,1649569.5,733008.8699999999,112992.75,153936.0,715381.65,165456.0,342607.41,173266.91999999998,473262.3,1085993.55,198417.24,41661.0,423922.5,801055.4400000001,961719.21,64386.81,870568.65,910260.45,1029600.63,589548.96,76122.0,569447.64,1207209.5100000002,1120526.01,991167.03,676747.98,968829.75,74520.0,1206229.77,675164.52,649748.7000000001,779375.61,1106457.84,1274172.3,571236.21,321823.53,1372389.57,1360656.45,651026.3400000001,1113708.42,1449422.1,596683.4400000001,911259.99,2283068.61,1327709.16,979378.11,1331966.79,935963.46,1196460.54,137061.0,437080.68,867928.9500000001,54081.0,730882.71,468483.48,63972.0,1375832.43,698523.75,451578.78,1737205.2,170793.0,982227.78,1166409.18,758381.85,1149578.46,1320076.8,1702838.25,167192.55000000002,405540.36,525377.52,816249.6,146322.0,1649165.31,625179.33,83313.0,1737632.25,753235.92,804640.86,1412647.7399999998,7371.0,391886.19000000006,891810.8099999999,1524267.63,45882.0,1042274.25,1107342.72,1318855.23,665378.01,556944.9299999999,148324.94999999998,642064.0499999999,612229.23,742821.84,1271256.57,526725.72,582977.79,561933.36,1045470.42,95940.0,797417.1,1180418.4899999998,405073.53,946338.48,1485184.95,1283567.13,179883.0,586208.97,718268.76,1913951.16,1911062.97,76500.0,1555836.57,1639460.79,821726.46,1613056.68,945773.91,589458.78,1432225.98,678510.9,519495.84,784126.6199999999,536522.6699999999,603384.75,1073909.43,1077819.93,313749.27,1922232.6,923829.03,143649.0,1288333.8,461950.92,753235.02,848812.41,960923.07,566668.98,647863.29,986875.47,1211313.87,709092.27,1160232.39,462884.58,1248791.94,1253551.6800000002,2195266.0500000003,1258509.69,100053.0,1372281.66,1253452.41,1507121.0100000002,1324699.11,951486.12,1093875.57,879324.03,594340.29,131121.0,1022248.62,282830.85000000003,514228.05,143496.0,523101.6,1112130.9,991625.94,102096.0,1018069.74,986297.4,156797.73,1277173.44,1159244.37,292203.81,631314.72,1528691.67,583934.13,1244920.5,1447856.37,989209.44,1299039.57,807098.22,13662.0,831441.6900000001,1495706.94,991721.34,841599.9,1127579.31,1417311.9,13401.0,1292620.41,2132129.34,985885.29,528921.36,591196.8600000001,485792.64,1327554.72,1367357.4899999998,694653.39,1125771.84,1204704.27,1197511.83,1455086.79,211380.93,1139181.21,698800.6799999999,753924.24,365306.76,596617.74,1227608.73,152289.0,1383584.67,1280266.65,738973.35,180746.01,990312.48,1075706.91,1738470.33,756622.7999999999,639919.53,218372.49,1362526.29,114571.71,1572926.4899999998,382578.12,1050162.48,910540.98,987274.17,977313.96,1039947.48,1228598.8199999998,1329430.59,895698.8099999999,793989.09,301136.30999999994,501042.51,149508.0,313650.45,909130.05,891537.57,701178.8400000001,1097112.87,492609.33,353189.7,702631.4400000001,119403.0,1228186.5299999998,968022.0,1194748.4700000002,936712.26,746855.64,723158.1,1202733.09,1633473.63,1259340.75,1571883.48,31365.0,1103829.03,702929.43,112365.0,575273.52,1227356.46,1023024.51,800177.76,177032.52,1042497.72,1286119.62,1210450.3199999998,627567.2999999999,686972.25,994615.47,548629.2000000001,673720.74,850146.2999999999,1266709.14,864243.6300000001,1134467.46,293492.7,369.0,1554216.75,526729.86,1224573.39,2011334.22,319674.05999999994,298681.65,931047.21,61354.71000000001,1670057.55,945306.0,492873.03,384327.9,501159.42,2059292.43,1921925.61,595572.48,210183.48,416663.46,172448.55000000002,708792.6599999999,1798491.33,61866.0,1886335.02,746270.01,1638552.5100000002,1235747.0699999998,1685409.39,1607678.91,1079551.8,140300.73,1880485.83,440026.74,922984.83,76905.0,1035186.84,416711.52,326876.22000000003,1348761.15,1843552.17,784840.9500000001,1017031.77,865687.86,656955.4500000001,1397581.56,740668.86,116283.87,780675.93,1674999.0,525347.91,635130.3600000001,379217.16,69939.0,124605.0,1123058.07,595606.5,1374310.71,1069866.27,122733.0,510445.62,697604.9400000001,698362.2000000001,174694.05000000002,128875.77,793362.8699999999,858495.51,1562237.19,1072704.06,620214.6599999999,2436435.81,1500189.66,1047499.2,1141373.25,1120645.8,668474.9099999999,1377997.7399999998,1415702.7,309578.22000000003,630858.15,444166.65,1049602.95,216329.49,914405.76,889609.41,210515.76,80685.0,140517.0,729712.98,1200950.2799999998,1668141.0,653418.9,32625.0,86787.0,126578.52,9891.0,462886.29,216338.85,682775.91,379417.41,133479.0,54178.2,1260905.4,887864.04,893094.57,156069.0,1222711.2,1333925.55,265320.9,197425.53,55818.0,93294.0,758619.36,2244092.58,166275.0,1646113.86,1351048.41,702802.17,1965740.67,815714.1900000001,591672.96,673536.51,676144.89,1005541.38,1175737.14,46818.0,670015.98,345810.87,657889.92,893185.11,1162845.09,470621.79,1094209.83,116874.0,995010.66,1536002.82,857226.15,999081.45,823395.8699999999,514214.01,859163.58,1380396.69,1452628.44,1329818.4899999998,2273449.86,910843.11,99846.0,169110.0,466556.31,100305.0,1592465.4899999998,1347616.8,980415.27,1757520.45,1856368.62,650142.0900000001,1152905.85,190241.37,96801.57,570465.36,830731.23,1293386.31,649336.32,1375267.41,1267585.2,1168367.04,428305.68,110215.88999999998,106830.0,1748746.2600000002,737194.5900000001,1377491.31,799931.97,610795.71,288585.72000000003,476534.97,644048.1900000001,1324707.48,545658.2999999999,879507.27,677780.64,1312307.0100000002,1176333.93,78714.0,2015487.09,830065.86,272696.4,1109636.82,1521434.7,132291.0,774038.8800000001,749373.03,60786.0,1029955.86,127296.0,1056879.9,334791.36,684963.18,314642.34,1126519.38,1577463.48,236003.04,303539.58,155999.34000000003,263720.7,492359.67,828887.9400000001,1129377.42,534073.3200000001,1763808.21,679424.58,679249.4400000001,893355.57,707634.4500000001,798669.9,1553265.9,1189419.12,1099309.59,66168.0,1126511.91,2284891.11,173628.0,1117244.34,20448.0,61902.0,54387.0,665616.6900000001,442709.28,680250.6900000001,386682.3,377708.76,734972.9400000001,1373462.91,20871.0,122814.0,1673727.66,281550.15,159615.0,826352.1,1508446.08,845741.07,567312.75,1073972.97,942699.78,580526.91,1219926.7799999998,894601.4400000001,3375.0,875546.73,1840885.92,148977.0,1185176.61,837589.5,1574633.16,937364.4,163058.13,1128319.11,1252827.9899999998,532147.41,612521.6399999999,705180.6,901999.26,1589902.2,1162663.02,590211.54,1349267.4899999998,155007.0,859726.7999999999,55629.0,8298.0,565189.29,642099.0599999999,930135.42,914339.97,1131875.82,1154348.19,1154654.91,710476.11,432895.95,1133432.73,296970.56999999995,1757111.67,350860.14,640861.3800000001,1206686.16,14454.0,1780008.75,149500.71,1429610.31,82944.0,183451.05,547400.79,11835.0,374470.83,149641.02,1487450.7,362185.92,848096.5499999999,1248722.55,813690.36,593620.02,700702.02,1598410.17,602737.65,1455157.62,1265028.48,404551.44000000006,914989.86,251917.29,1179528.3,787179.6,401146.2,497353.68,712201.59,7605.0,30753.0,1826964.18,610893.99,924407.19,1258709.13,396108.72,541233.63,582636.6,802407.24,749092.41,414882.45,1500102.45,336498.12,32454.0,1245482.64,842354.28,138112.19999999998,578469.6,169758.0,1335089.25,200562.12,116973.0,445797.54,1450006.83,297163.53,223883.91,1489690.71,1126465.38,164772.0,92349.0,686454.21,720139.32,834560.1900000001,96201.0,178065.0,145636.56,1065998.88,504552.96,365283.54,1060754.13,1923491.43,869490.99,1076331.78,303841.35000000003,1693389.78,1081500.57,785762.1,126243.0,337325.22000000003,465125.76,632257.74,916714.26,14265.0,1620211.41,48195.0,52857.0,143785.71,998506.17,877167.99,1782449.28,1816709.58,678888.0900000001,99963.0,121689.0,1838855.52,1480993.47,759592.35,2117932.83,921393.0,2375352.81,1729360.89,15417.0,838943.1900000001,538081.5599999999,365382.9,1553090.7600000002,723489.66,883367.73,244801.8,719776.98,806150.7000000001,1068663.6,121443.38999999998,850287.15,1001488.68,959337.36,971323.2,852510.15,210585.06,51804.0,1239953.58,757798.47,321254.73,1129243.68,1080491.85,1022082.3,1218386.88,590156.6399999999,1637272.08,509494.59,443222.28,1596075.66,160707.96,934977.51,86679.0,1023082.02,1454305.32,146565.0,634658.3099999999,52875.0,1049290.56,801662.9400000001,889587.18,1033308.63,508970.52,300560.49,71685.0,90648.0,1268231.94,535448.79,420114.06,620410.32,836212.5,166977.0,1111950.9,705175.29,1553776.83,1072348.29,704280.0599999999,966439.26,65933.37,71001.0,570775.77,471550.14,1249297.83,1523070.81,2023253.55,624554.3699999999,1294285.14,1414582.56,938816.01,495139.32,1064916.72,110088.0,441082.53,700588.71,2124711.63,1168358.31,408346.29,378751.95,108648.0,621966.51,591619.8600000001,885142.98,1678195.35,682121.79,1447167.15,615196.26,1619443.98,361989.81,984283.92,276476.4,129852.0,461177.64,1616400.36,1063799.82,229177.44,937414.53,20466.0,1414265.4,274170.96,559741.6799999999,20124.0,731823.5700000001,759990.42,1054150.11,706807.35,773858.7000000001,1922169.87,1624251.5100000002,174836.97000000003,696537.99,1003170.15,1580651.37,1172938.59,1323995.31,842805.9,776128.14,419850.9,1046825.28,352548.0,778607.1,807653.43,1131202.08,1339468.02,303418.26,1192035.87,1619886.2399999998,170694.0,181909.08,1656534.87,1537564.59,724184.5499999999,1029197.97,372143.34,530812.98,817987.5,608369.22,1457381.79,1150500.42,146385.0,979190.28,206695.17,131931.0,355845.15,473459.94000000006,1188740.52,1321074.63,821619.8099999999,1333669.68,1212776.91,479155.05,381980.25,1664514.54,1191265.38,376112.43000000005,653730.6599999999,1854619.83,1064697.48,984608.1,496765.89,966006.09,834861.96,723867.03,644477.1300000001,926774.73,1664561.52,1004350.32,956727.9,1031631.39,331495.11,1565597.88,144531.0,976288.32,139761.0,1684977.66,987401.07,1199253.69,473719.05,896478.93,674896.68,879296.67,557282.97,288997.74,822406.59,1216005.0299999998,183545.46,122330.52,1145160.45,906022.8,225254.61,841428.27,1014774.48,565481.79,958165.29,171612.0,537633.09,358673.13,609470.1,1024476.3,163822.94999999998,345948.57,882315.6300000001,220361.94,977805.45,34191.0,708370.1100000001,1169349.93,585528.66,406777.5,375767.73,1703027.79,659032.29,1629239.58,607879.8899999999,1989270.09,114252.21,1646710.65,1280171.7,803728.6199999999,54009.0,1000412.64,475850.52,527201.1900000001,1889199.72,1536769.44,162612.0,1065280.41,995457.6,947186.91,966000.24,1540419.3,551636.1,857163.51,809031.0599999999,846775.6199999999,265928.76,121654.88999999998,132363.0,1125249.21,2172757.41,1186782.21,38250.0,545013.1799999999,645200.73,126009.0,505213.2,363758.76,141714.0,614640.6,492678.36,783128.7000000001,560675.88,133002.0,539505.1799999999,818594.01,56664.0,1600622.82,56637.0,121465.35,1516642.92,248022.36,705689.3699999999,941881.86,1300263.66,714115.71,372099.06,2008952.73,1219604.13,731378.8800000001,396443.61,331324.92,112383.0,306936.99,1653484.41,690439.4099999999,675451.26,509302.89,1065423.06,235100.7,1247566.23,909197.82,758389.59,261152.73,900314.73,805844.52,957092.4,80523.0,1369741.59,1743694.29,2265021.81,1630010.34,1313610.03,442770.93,1465319.25,178199.82,939092.04,504052.83,387526.32,210854.52,663894.8099999999,949084.83,1568040.12,683272.71,769839.93,1091697.75,950795.1,57339.0,809262.36,38193.56999999999,864118.35,1706206.95,17838.0,785298.78,1237619.79,1195132.23,102186.36000000002,336014.55,1716872.31,361140.39,147079.53,890228.97,278763.03,567487.26,1316964.06,1232950.95,64638.0,50463.0,1121671.26,461427.03,541615.77,1156958.46,1551062.88,55728.0,128268.0,864811.17,922275.99,868222.71,128191.5,823027.68,28746.0,547110.27,881894.8800000001,187151.49,374997.15,1256232.15,1893113.73,562149.63,154386.0,619203.8699999999,774179.64,263401.02,52191.0,1069611.66,530639.1,578515.6799999999,202256.73,1706640.75,1096616.25,2058460.92,814976.82,530789.49,106200.0,651868.3800000001,777572.28,720166.86,1169148.15,874113.84,888755.04,490490.1,12096.0,1330244.37,621223.65,1564377.21,161640.0,474004.89,106632.0,646034.9400000001,1133771.85,729323.28,1561218.75,747807.93,1593907.56,161334.0,1476246.78,1527223.14,1346159.52,422285.49,354013.83,654582.42,1415831.04,1614024.18,414699.39,237926.52,1114152.3,87525.0,1313291.16,1980407.79,1030532.04,191296.89,948292.83,1022456.88,1119079.17,470702.07,1018780.2,1213192.5299999998,859990.77,1190591.55,909755.19,76518.0,705446.1900000001,1609003.44,1394773.7399999998,666241.11,900881.55,480635.01,1077679.17,122184.0,918875.7,90008.01,495029.97,958872.33,1238661.36,2277045.18,841284.9,312124.86,773105.67,728042.76,392878.26,980109.54,357248.52,690246.0900000001,799324.29,682237.35,653458.1399999999,829580.49,1079335.26,875165.49,344223.09,654408.9,84710.34,1117401.3,169290.0,521441.55,778238.28,819994.14,848129.04,780685.65,972102.96,92151.0,841519.89,729706.14,64656.0,511924.5,1444555.08,1378228.68,1237115.9700000002,228899.97000000003,221289.66,306936.09,828628.11,1415720.16,346788.36,17262.0,435888.0,130340.97,1153177.74,987375.33,2289114.81,5688.0,1105593.48,1759283.64,686122.29,766312.92,34866.0,681835.59,311219.73,590354.5499999999,1334249.0100000002,428741.37,831161.16,69075.0,757272.6900000001,692785.89,2094506.55,407399.58,1150557.66,191699.46,125005.59,709488.18,1272882.5100000002,707638.68,132462.0,887259.24,926034.48,470666.88,678984.66,916786.08,1049227.65,7551.0,1401845.85,656076.96,1887013.08,69084.0,800945.1900000001,579237.84,1540529.64,991669.41,102123.0,2038090.95,84600.0,138942.0,710371.6199999999,185400.54,213806.7,615761.01,2265597.81,1297420.7399999998,616802.9400000001,246844.26,1881112.14,788754.8699999999,719339.85,242901.27,1031298.48,289348.92,1166456.16,831897.0,618942.96,1262583.54,673202.52,226837.71,2016924.75,136773.0,176843.07,1131316.11,1549053.63,57357.0,868161.24,1482268.86,225436.5,501758.55,464955.84,930402.63,49284.0,977252.67,1040126.13,809708.3099999999,954822.78,762107.9400000001,1008580.32,96800.76,308909.52,1357984.44,1505381.4,443178.0,86670.0,957957.3,1144434.42,444033.54,163132.65,103005.0,437808.78,303898.14,442034.01,1555114.5,1373255.19,49923.0,1203341.4,301931.01,940572.9,1057807.71,1419444.09,691025.9400000001,748070.82,878793.57,705668.4,746654.22,614722.5900000001,1346860.08,1457465.67,599694.6599999999,460239.57,742804.29,1140019.92,320997.24,1799485.11,634276.53,365066.55,737819.73,848850.84,344995.2,440577.72,128205.99,734403.96,1356529.68,1547603.28,1619313.03,603379.7999999999,320699.7,384705.09,604006.74,423738.0,819577.98,322732.71,881156.34,437895.0,573327.72,431155.89,99451.98,962484.21,1237839.0299999998,48375.0,981607.59,1617998.13,826668.99,1128599.19,1179438.12,799898.67,60452.91,1348725.5100000002,942829.56,17163.0,932618.7,854788.0499999999,1699486.11,1248146.55,1898412.39,643204.35,96219.0,1664890.92,89433.0,638499.15,374154.66,1021154.76,564602.3099999999,938595.87,1402929.9899999998,933705.63,150095.43,78680.61000000002,636892.02,1718564.4899999998,302329.8,288376.47000000003,671189.4,1471837.5,1245492.09,100611.0,1620938.97,505210.23,309205.71,212832.72000000003,1164198.33,356788.8,335546.91000000003,1979168.94,389270.07,1065117.15,683799.03,672739.83,1363441.5,372373.02,913182.3,775894.5,222111.0,344302.29,970100.19,1065580.47,482559.03,922509.09,1996541.46,687248.28,102621.33,183396.96,1095102.99,744166.17,778218.66,84582.0,611047.26,862445.25,465797.97,733424.4,337885.92000000004,563118.84,817175.7000000001,840068.64,535340.88,446272.83,163269.0,358932.87,1172386.44,95751.0,1451901.87,1433903.22,741359.79,658340.64,1131329.97,1170052.2,889192.89,854528.9400000001,1520150.67,1108739.07,907568.01,1910251.08,38700.0,161805.87,23382.0,587307.96,1213336.17,358976.34,872338.32,1374986.25,1686268.98,1554615.36,127118.79,150477.57,1368189.36,787463.91,552077.37,968814.81,953418.87,1511570.07,1296540.18,417194.64,1010340.09,1238471.46,823887.18,1876316.94,1008453.42,797462.1900000001,554466.4199999999,257139.9,519324.21,461730.06,44838.36,308692.26,1412277.93,899230.0499999999,1555203.6,450477.36,519287.13,738672.57,276762.69,1586921.22,514523.16,638246.6100000001,628823.1599999999,502738.65,2342574.81,1510968.87,289296.9,208058.4,22113.0,37152.0,105133.23,35379.0,792579.51,1403753.31,1887506.28,896109.1199999999,1121211.45,456810.12,323648.01,644848.3800000001,370934.1,430330.41,850780.98,500238.0,800326.4400000001,163161.27,1725170.4899999998,799808.76,840064.14,243751.77,1005030.63,261016.92,1258082.0100000002,942885.27,914062.59,1448422.2,96291.0,14103.0,147672.0,1484509.68,428280.84,5364.0,1099250.64,1429959.5100000002,47124.0,18270.0,773266.9500000001,28665.0,1250723.43,1402343.55,1023247.62,515401.47,479113.92,894362.22,407667.42,1755517.86,272543.4,647398.17,63117.0,209409.3,1375740.36,826441.92,140917.05000000002,145584.0,1258669.08,1027343.07,129051.0,927349.2,125928.0,835843.59,1010681.64,136222.74,825963.84,2287503.81,990983.7,647219.34,501421.32,863212.59,639757.71,470150.73,694486.6199999999,164493.0,318264.48,1576064.34,110961.0,133119.0,1114978.68,361147.95,737681.67,173367.0,1027907.91,1436987.61,397752.21,1096435.71,710475.1199999999,1011439.71,652189.9500000001,807784.92,1589354.0100000002,1772084.16,372437.19000000006,844309.7999999999,192680.73,733365.36,1811800.26,576125.5499999999,1252658.7,1695397.5,749407.14,327964.77,1076300.28,1056317.22,247639.86,328718.52,1235310.21,697605.48,473678.73,677764.4400000001,344108.25,827429.76,377304.84,22797.0,362737.44000000006,110215.08,846119.7000000001,1102536.45,521849.25,898664.76,1064147.94,1129932.99,997319.34,136548.0,18648.0,710915.1300000001,598946.4,592914.24,1317297.6,462681.9,890523.54,1007119.62,576597.51,372493.62,700197.57,270843.39,1448865.63,1351527.93,4887.0,211210.2,145485.0,563195.79,1061744.76,337956.84,1257036.0299999998,899908.65,1953368.19,1279533.42,1457375.7600000002,747170.73,480472.92,1176083.28,969178.32,2243579.94,460384.02,46274.22,57093.48,292822.29000000004,331029.09,924378.03,133551.0,1170172.98,844839.9,1598031.9,518516.1,1023163.29,371552.22,11358.0,473577.93,532106.1,890563.23,929607.12,1604278.53,822955.86,2280600.81,712067.76,1655754.3,994768.11,1231575.48,1688991.21,1282137.93,996452.46,1082034.81,265568.31,1101278.79,1353215.34,606410.01,138222.0,1507798.44,1646895.78,795267.72,80829.0,462215.61,1074461.04,198611.37,872418.33,1414701.27,542539.35,578212.02,1505943.0,159156.0,1155197.34,1153920.87,277501.86,1407375.81,754959.51,2039554.35,1466024.31,736627.68,791982.4500000001,484553.25,1211725.35,52821.0,1126154.43,344523.87,471939.75,653556.96,899905.14,1222998.12,511411.32,1821686.4,852342.2999999999,912638.88,400215.51,699273.54,179595.0,1775672.55,1182372.21,229676.85,102951.0,1134052.83,559371.87,1584548.55,473089.41,298397.79,166500.0,1341964.17,1382529.78,339854.49,624783.42,1210165.38,475750.44000000006,1516383.54,1142027.64,653704.5599999999,1400248.98,1232055.81,840889.08,428423.76,580353.2999999999,853752.6,927332.01,1893204.99,1309595.13,1330368.21,381273.75,2358771.12,1280520.72,1730002.5,325133.37,1005803.37,598800.0599999999,1171195.2,299055.33,1172356.2,644038.2000000001,1164165.03,856292.04,925426.44,41715.0,601048.17,881362.53,76122.0,644476.77,490235.85,11214.0,105255.0,1206015.0299999998,154665.0,1580666.13,8766.0,875414.61,515102.04,1266189.57,638224.74,755737.3800000001,2100608.2800000003,1640316.33,1705827.15,640034.46,82613.51999999999,1241992.44,1194061.95,19161.0,666222.21,1157327.73,726281.1900000001,442369.89,1098741.24,776289.6,296067.24,853947.6300000001,679386.0599999999,829398.51,1268099.73,15696.0,870660.54,295803.36,850373.91,1255707.0,1478144.88,1783718.64,773744.1300000001,164914.83,1767050.55,674918.82,1221237.63,775630.53,1611981.9,1063826.1,1314482.22,1472474.16,1070774.19,168219.0,624590.46,143622.0,263557.62,1273324.86,511917.39,779356.4400000001,978429.87,1353139.7399999998,492661.89,441824.04,479494.8,551895.66,1124526.78,601435.35,434448.72,1283351.85,46053.0,163134.99,338530.95,610152.8400000001,1216817.1,753925.5,879528.51,1108102.41,193346.1,664142.4,1202562.36,1106557.38,208063.44,556881.21,152964.0,963614.34,1378299.06,456517.35,1079473.86,182168.1,457561.44000000006,1117287.27,1239268.68,915022.17,886980.51,597180.78,51655.95,699416.73,137385.0,1002501.9,126576.0,1600714.53,1516761.27,846977.9400000001,616106.25,1450935.0,867919.9500000001,27000.0,880046.3699999999,40356.0,468282.51,449010.72,844421.04,1004171.76,31779.0,921362.58,364388.76,1511324.46,245257.65,840746.52,491403.69000000006,1382034.69,727059.8699999999,1067994.9,418959.72,783954.4500000001,234084.24,660851.5499999999,1047232.62,226456.92,863221.32,130871.88,829357.83,1573751.16,132183.0,811761.21,1978459.92,501918.93,872767.35,775562.1300000001,711063.8099999999,1040590.71,961005.96,167526.44999999998,455101.47,623864.25,1104751.26,1911764.7,1255888.62,1435809.78,506336.4,1286252.19,1704377.25,679886.3699999999,1157096.79,98001.0,149051.78999999998,495827.19000000006,1025451.0,464499.72,939194.91,522027.0,545702.4,1269148.14,1890749.7,180531.9,624040.65,159354.0,1878172.83,800521.5599999999,1090493.82,833009.85,1015460.37,572328.36,6930.0,128053.88999999998,887233.0499999999,1249702.92,1400994.54,44037.0,697223.34,468003.33,684482.9400000001,1578950.19,942468.93,729217.08,1047398.94,1059991.38,2044783.35,515229.39,659377.7999999999,827512.83,378632.97,470400.57,537434.1,1612731.06,357299.01,53973.0,149049.0,1247550.9300000002,953779.41,1485178.11,700240.0499999999,970760.52,693109.98,1178401.59,934307.91,976205.43,890256.24,97416.0,498760.92,725627.07,110947.68,104768.01,893040.48,1071585.27,535345.29,1006090.47,84676.68000000001,1153223.82,118605.96,376241.22,711717.39,489875.31,411275.61,1064644.65,1101763.08,135504.0,465481.17,733285.4400000001,1116780.84,572242.14,511355.97,559963.53,615654.9,764979.21,24129.0,339973.47000000003,1416054.5100000002,1122460.65,880888.5,161163.27,398073.69000000006,21132.0,1043567.82,443021.67,92061.0,1131602.22,1312178.2200000002,1342277.37,1016252.73,585281.4299999999,1062530.01,281092.05,106497.0,459850.86,1780268.85,898454.8800000001,1720734.39,730537.65,693216.09,1723308.48,584045.5499999999,233023.32,1259001.36,903509.73,592839.9,1130541.21,305351.01,1439944.02,754362.72,977787.18,1399144.5,238104.36,1482588.54,345700.53,1699735.23,553445.46,404010.72,1623404.7,197489.97000000003,1826380.53,49617.0,178918.65,1072772.37,663901.74,1013255.73,616574.3400000001,893639.34,85680.0,1045580.22,15570.0,871202.7000000001,1425232.35,1747237.5,831868.29,43056.0,853807.41,663715.7999999999,8469.0,771343.65,1767786.75,730873.53,235995.66,552729.87,1765445.04,157806.0,1109013.3,175032.0,585174.3300000001,832830.57,1016296.83,386725.5,593204.1300000001,231622.47000000003,172764.0,859557.51,523344.69000000006,705965.58,1397307.87,1570995.09,736002.0,1610805.06,1033794.63,1241404.92,1088014.86,646585.83,835131.42,783242.1,824082.2999999999,744289.47,1230250.23,106985.7,126504.0,757834.47,922063.68,577621.71,985116.96,396603.54,122049.0,840263.1300000001,990926.1,1089658.53,1317332.9700000002,453096.63,523439.46,179709.65999999997,677864.97,408774.96,982789.29,177588.0,1322492.85,1390704.39,1450517.67,882324.09,936724.68,564514.8300000001,797316.48,1321690.86,381364.29,1127324.97,865085.58,812175.1199999999,1614032.64,1274471.46,453036.96,1505204.55,170613.0,1836394.47,554809.6799999999,1160749.53,1080310.68,638934.75,2227496.67,19314.0,686668.5900000001,423723.06,906478.83,69543.0,1559767.77,497660.4,1104670.17,456329.25,178542.0,522866.97,886153.0499999999,282056.58,1480572.9,470116.53,776168.1,1444581.27,2727.0,1915197.03,870405.66,174363.84000000003,1436116.14,2262582.81,455755.23,380114.1,839217.24,1488574.53,459122.85,702222.2999999999,1174965.66,1878180.75,577873.71,15516.0,355934.88,130914.0,605246.67,989878.68,91620.0,947693.7,131121.0,1555901.28,372088.53,267313.41,39834.0,246010.95,115722.0,1232884.44,125784.0,364458.06,469075.41,787207.68,21879.0,454708.8,355098.87,1289791.2600000002,259176.51,907069.95,1666201.41,127638.0,408680.82,366056.64,1354683.96,421418.16,890591.04,456271.11,1950818.13,1241363.52,1603736.37,272036.97000000003,158103.0,1545854.31,784359.8099999999,716868.3600000001,602422.1100000001,1046945.34,827800.47,420221.7,66195.0,1111004.37,881705.07,794612.7000000001,1076376.96,1559507.67,464281.47,889293.6,687791.34,1405069.56,1102075.29,637723.08,688646.34,1231035.12,791532.99,45432.0,1033278.84,701465.9400000001,916556.94,909022.5,431819.73,1590184.08,187987.68,605001.96,320793.03,925963.65,1120466.16,665554.77,17928.0,929805.57,1681232.94,313988.4,738619.83,346782.51,1056220.38,18423.0,967890.96,530145.27,1331340.12,105642.0,706120.47,155610.0,2429928.81,1845351.72,870839.3699999999,457544.43,2348573.49,1306074.33,11511.0,912694.32,1018298.07,1697606.19,734230.53,476905.86,94707.0,270553.23,1940807.97,982638.54,160209.0,264040.29,272287.35000000003,1254780.7200000002,2520.0,571571.28,2421909.81,138285.0,1326060.45,909286.38,916302.33,868024.26,2104180.92,465667.02,726913.71,106947.0,790007.04,147830.94,1405128.33,1929850.83,746543.34,1497532.14,690891.1199999999,1216025.64,320757.75,233573.04,2392389.81,1163770.56,704691.72,189363.78,143181.0,478464.21,480748.41,1152124.74,1193029.56,694909.8899999999,1172734.2,576696.4199999999,95328.0,1014869.25,376814.88,1072329.93,1090270.53,694188.1799999999,580963.23,1792772.55,537261.9299999999,574597.26,255561.21,867545.1900000001,1639410.39,161494.56,1019585.7,603855.0,306716.94000000006,100296.0,1476415.71,115263.0,1122924.33,893326.41,926134.65,1021851.63,923356.71,160539.02999999997,417957.21,1360328.94,1234668.2399999998,1736094.33,88897.95,1598127.03,428792.94000000006,1455736.68,780355.08,660372.03,1015369.2,499832.46,44235.0,219714.3,388687.41,1415195.64,302368.68,168264.0,1452453.48,913514.04,354942.72000000003,1472244.12,1915452.18,1562292.81,196197.48,1285896.78,425552.76,23040.0,864059.85,1416866.4899999998,287441.64,1078649.37,1226429.8199999998,217706.76,314151.39,674073.0,439462.26,804092.9400000001,1217275.38,733163.76,1020977.01,1671563.79,1476632.43,1748215.08,696843.72,375108.48,116109.0,595734.21,1484905.23,550062.4500000001,713649.0599999999,284204.34,110034.0,580787.37,945220.5,102645.0,970042.23,273324.87,201974.85,1669569.12,1463610.5100000002,820970.1,779076.99,831781.08,116235.0,110025.0,888965.1900000001,473476.59,189919.98,164340.0,672806.07,22572.0,58824.0,834724.89,1650322.89,489463.56,403513.29,722828.43,583111.62,1253919.5100000002,185958.0,1299405.69,1417820.85,1206335.16,949893.39,969124.05,833792.04,1214387.55,17577.0,712266.75,130221.0,872852.22,1534815.81,65295.0,103331.61000000002,1733096.25,1136594.97,872262.54,380986.65,1055014.11,871947.99,1087837.65,1793149.29,1767979.62,1867605.39,1875491.37,420850.08,179676.0,892883.43,391141.98,402470.73,810212.1300000001,927834.66,926384.85,631856.7000000001,255846.87,50949.0,62559.36,1465654.14,2059525.53,221965.2,565804.89,413532.0,683335.35,283448.97000000003,996865.02,946525.95,1112677.02,1009506.24,765880.65,506331.27,1784986.2,829453.23,838421.73,712841.9400000001,1110737.61,575820.72,749223.09,783070.2000000001,1764469.8,951585.3,645707.7000000001,796241.52,130023.0,1340558.0100000002,349247.61,782954.46,298336.14,465861.42,21006.0,1664282.07,1985032.17,321467.30999999994,1133750.88,65763.0,1511135.64,690923.43,973528.29,764377.02,513744.75,606312.0900000001,526427.37,517406.49,47349.0,669889.4400000001,252040.59,377524.17,1385559.72,1289985.48,26658.0,171189.0,512768.07,633098.8800000001,463685.58,851342.22,114930.0,1676702.16,1437332.22,520853.31,1518904.35,36585.0,686302.1100000001,167859.0,1014049.71,974790.63,803571.39,160254.0,878546.97,496435.95,1502969.04,565291.1699999999,173261.34000000003,1126223.91,965287.89,189315.27,129806.01,164373.30000000002,21735.0,1140371.37,200557.44,897066.09,421067.7,569564.8200000001,34965.0,81612.0,148001.58,705291.93,1018221.57,402087.15,149081.49,772916.1300000001,1234562.67,25551.0,819.0,1699312.5,442112.94000000006,964139.13,932007.15,881475.48,1049925.78,591982.83,795210.1199999999,1176716.07,1458846.27,981843.39,877217.22,865829.8800000001,624520.4400000001,1424188.53,156933.0,1483613.82,27783.0,246540.33,478325.25,551008.4400000001,1412702.1,819363.0599999999,916495.56,1028721.6,1276666.38,1157433.3,601297.5599999999,80901.0,604417.9500000001,24714.0,1575233.73,579872.25,43488.0,986889.78,545304.6,461064.33,1234981.71,1528253.19,715528.89,1059779.88,574524.54,1299063.6,234794.79,1032250.05,897522.66,740358.8099999999,1587340.98,429389.28,1064006.1,1577764.8,1133127.72,1116779.49,785143.53,1051061.85,696421.08,1515335.31,573302.7000000001,971623.8,483108.39,783022.14,904581.63,612550.4400000001,84987.0,1150150.95,1177125.75,1269795.96,718144.3800000001,796108.68,296289.63,1082781.63,884928.51,2206692.45,24624.0,393518.79,1175358.06,419524.92,1017301.77,886926.15,953189.73,935295.84,903433.05,485894.97,299255.30999999994,79002.0,1365679.98,711.0,862222.0499999999,2353581.81,461209.05,530680.86,411425.37,1368338.67,590384.25,807859.89,966725.1,1070655.12,116476.11000000002,145197.0,1293316.29,1958413.14,6003.0,314691.93000000005,661779.0,623628.0,1066706.28,703236.96,446673.24,1585696.05,126621.0,804432.96,1298795.22,757924.5599999999,1023225.12,834278.04,450539.28,520225.74,6048.0,432971.64,1901251.35,1063003.59,734148.9,36549.0,865669.77,1402670.7,506312.64,1401435.09,322585.92000000004,100332.0,241793.19,824998.77,395141.85,2013869.16,1717969.05,1010058.39,1153419.57,298940.76,563061.6,1319135.4,746384.4,113148.0,657772.3800000001,1567855.2600000002,1390065.48,967463.46,948532.05,1459312.65,1021875.03,1363982.4899999998,1249963.38,34533.0,1258183.89,806369.67,1062752.67,1141356.33,523674.72,481211.91,557096.76,174055.94999999998,606686.9400000001,1259024.58,840615.39,588736.62,855613.35,1481860.35,417333.6,339623.10000000003,28314.0,2160007.47,156959.91,226363.41,189445.68,406048.41,398044.53,798244.83,383382.36,1469661.39,1188439.29,440167.32,46917.0,546706.98,1074114.81,795490.5599999999,200341.44,1127233.8,264606.48,123030.0,62703.0,1276081.83,240853.68,1024568.46,816156.72,774052.5599999999,1087202.97,365263.02,1118056.59,315591.75,572950.7999999999,910135.71,144662.49,851971.23,124569.81,1028128.86,107586.0,689932.4400000001,879052.32,1139787.18,1338048.72,153540.0,322963.11,1275284.97,1239976.17,966801.06,738386.46,737376.03,1082867.58,1339763.13,1246374.27,1758071.7,376395.57,964241.28,836715.42,1292173.11,403567.65,42669.0,970267.68,831807.0,1048522.95,758221.29,1106870.58,1288476.0,390405.69000000006,1668450.06,1565334.36,138555.0,886896.0,1004493.24,169503.75,333.0,819995.4,1391006.16,659519.6399999999,147231.0,525466.71,1413019.53,1576801.53,23940.0,708460.83,461673.27,271364.13,758118.6,2355921.81,1226531.61,906881.22,759298.5,568176.66,641089.17,858645.54,769879.89,907555.32,1488196.89,15669.0,1087023.6,440052.57,23355.0,614016.54,719862.75,139707.0,108333.0,257216.94,459406.53,1234138.6800000002,866523.42,925885.8,382773.24,739533.42,892169.3699999999,526320.63,1405199.79,924383.52,1063695.96,776319.75,192816.81,1601373.96,244682.91,1496732.67,1184885.46,221129.46,383794.47,1667869.02,789476.58,4194.0,1715270.7600000002,981742.95,1188200.79,1638304.02,696971.07,732808.53,819178.47,1415092.32,1155259.44,1026457.74,282040.02,282056.04000000004,668704.1399999999,556214.4,147906.0,1073015.73,936762.66,1593211.23,602649.3600000001,124314.12,1150195.86,416532.87,1348839.09,1280712.6,120447.0,45306.0,894207.0599999999,246085.11,258785.82,1194859.35,359392.23,217119.24,43312.68000000001,1177639.47,1167303.24,334111.68000000005,665910.18,1468372.68,341204.94000000006,40469.4,521804.16,727194.96,1128535.38,20808.0,892783.89,756861.66,792968.9400000001,258114.51,298035.18000000005,748901.25,510715.71,1470939.75,130572.0,656615.1599999999,471103.74,789769.4400000001,163609.38,157923.0,1836558.18,1288259.37,1486809.09,170199.0,823090.77,983524.5,684218.16,925893.81,1683472.14,486855.27,790034.67,595593.0900000001,1500302.43,880243.5599999999,125982.0,837959.58,1779249.5100000002,869033.79,1176989.22,1232707.59,815201.1900000001,2367937.5300000003,1100871.72,463302.99,668585.25,367627.86,375494.49,739484.64,229717.53,629032.5,1277648.8199999998,557466.12,111843.0,623305.6199999999,870459.75,1663069.23,1315541.97,773559.99,1007507.34,307293.93000000005,162261.0,2309094.36,196958.97000000003,1502473.86,944803.35,59616.0,521375.85,140362.74,857778.75,965003.4,794672.82,336699.45,325468.17,1600257.33,623041.5599999999,105997.86000000002,1514153.34,980943.12,152452.62,1335834.54,592249.9500000001,1339463.07,1247428.89,749824.92,869694.66,1252902.06,264811.32,1423927.17,333521.81999999995,740873.07,95472.0,335000.52,581859.63,575196.12,827194.41,10260.0,73656.0,736940.34,100815.3,959192.19,1592263.62,1497920.13,518242.86,371512.53,606462.21,446394.87,172791.0,1655528.7600000002,1034378.28,67303.89,708665.1300000001,794529.27,1492450.92,359241.12,605088.0,1018102.05,918018.99,928457.64,1292850.63,582711.12,267443.46,1370192.85,849623.67,1170034.92,281117.16,1160308.98,1175025.51,947485.62,1070531.82,90207.0,402111.18000000005,1196324.55,660484.17,1737311.04,1053645.93,1115551.53,1672552.2600000002,626110.5599999999,993453.57,1745673.3,494097.21,915985.35,940737.42,1107540.9,1373841.45,495253.44000000006,1376379.27,191880.0,746330.67,882969.93,998498.61,37962.0,830205.6300000001,515519.28,161519.4,285319.62,2051749.35,167249.61000000002,438917.4,543915.63,1351850.67,398442.69000000006,8451.0,1318580.0100000002,448923.15,323206.29,153477.0,766974.6900000001,1800873.27,907884.09,1067172.93,439379.82,604732.0499999999,1176052.95,725976.36,1044761.31,1392024.33,141921.0,311500.35000000003,993037.41,367910.64,369627.57,1410193.2600000002,577708.2000000001,1281623.7600000002,53883.0,1131287.22,596762.1,1456399.44,310164.66000000003,566911.89,1417929.93,1446208.83,1361394.9899999998,1270482.93,133686.0,856706.1300000001,1217070.7200000002,681506.5499999999,25623.0,357502.95,1222381.35,1508207.7600000002,753268.0499999999,701853.2999999999,794876.85,638984.52,990358.2,370988.28,1141842.42,969682.32,110313.0,242893.26,691037.9099999999,218546.19,1045632.87,842204.16,769540.14,1200135.2399999998,1179343.71,332149.14,665211.33,1205886.87,1217021.13,667995.03,1280809.35,1530471.5100000002,788488.5599999999,87849.0,1502659.53,1577923.02,914248.26,693025.02,1102314.24,840637.71,451171.53,265791.69,16479.0,227941.11,1895502.24,717075.72,494471.34,1473629.22,649342.26,760631.4,813705.48,38295.0,1255139.37,1305091.35,54639.0,87580.98,1288753.47,855053.91,545372.37,1208969.73,284110.02,512770.77,395868.15,464894.64,511191.18,1675811.43,57627.0,3726.0,85572.0,1196005.59,1142869.05,519451.65,520739.91,249118.65,801003.33,1255825.8,1808144.37,620683.2000000001,147645.0,1767881.25,737947.89,110610.0,828951.57,1180592.2799999998,1130595.93,157535.55000000002,672604.83,1304709.3,1040569.38,1260605.7,355236.93000000005,663702.8400000001,124217.63999999998,883764.4500000001,307548.27,273771.36,2317563.81,716652.99,151983.0,1409006.97,121482.0,806794.02,918389.43,455988.96,274869.99,591931.8899999999,632369.97,1995550.02,613063.53,1535977.35,756931.5,1043818.29,946563.84,1728955.17,1101862.62,1032632.01,1953688.59,377143.74,617830.1100000001,835670.43,1195639.65,616905.8099999999,1467190.62,442912.32,176072.4,1756826.73,228121.92,629101.71,1576919.7,1751159.34,433341.72,959663.79,729274.23,449874.27,1021730.85,671992.74,1187411.4899999998,631871.6399999999,735704.46,652546.98,271558.71,1447106.4,810972.4500000001,1625693.22,435591.9,1699939.62,999639.36,704150.6399999999,776537.91,740261.52,747919.71,1969411.68,1441197.18,297302.4,712814.04,846499.77,534838.3200000001,96315.48,1255781.88,1543702.14,680918.76,811411.5599999999,820282.77,761053.86,373234.86,677480.1300000001,2083283.28,915264.72,423735.03,60552.0,832144.32,577977.5700000001,1871270.73,563310.27,1344173.94,34137.0,1013409.54,1510328.79,1697763.96,1302547.5,2111494.0500000003,1483586.73,1332134.73,249798.96,614011.1399999999,255589.92,1488638.88,976072.32,1494134.46,1352063.52,1043024.76,1062791.55,665964.4500000001,1193773.41,584511.39,267867.36,962716.77,829244.79,165286.80000000002,325699.38,1511455.68,400792.95,748011.78,1361426.4,1216726.11,941476.14,130995.0,781696.7999999999,1639796.31,1614190.95,228321.27,176724.0,195474.42,777493.89,568810.0800000001,46611.0,150714.0,1264268.4300000002,308161.44000000006,1092591.45,1076817.06,919728.54,46179.0,158238.0,2394558.81,158814.0,296577.18000000005,1150887.6,1149418.44,150246.0,839016.0,316866.24,391863.69000000006,943644.87,1521198.0,191612.61,1574265.42,374887.8,656949.0599999999,393132.96,369293.22,717175.08,350065.44000000006,19971.0,1323257.7600000002,450615.06,1369647.63,238497.93,905054.4,289544.31,543043.35,59904.0,831400.29,500247.72,399067.65,1175138.37,508769.19000000006,1150689.96,894178.17,489443.76,470945.61,743627.7000000001,664418.43,101853.63,338358.51,1156583.52,1268548.11,533171.97,1360653.03,1368245.34,1448310.42,686720.52,1018250.64,1403769.33,79936.82999999999,8910.0,2048201.64,880597.7999999999,484063.74,173616.21,483271.38,494606.52,583093.35,960928.02,943859.7,681289.92,109251.0,853155.4500000001,2110166.46,847708.83,640952.28,705733.29,1970704.62,778863.96,828966.6900000001,1652523.75,2302339.77,145715.04,742623.1199999999,116389.8,282713.85000000003,1034372.43,1531977.75,856815.39,642327.1199999999,838954.53,13428.0,286245.09,254380.23,822349.7999999999,722044.98,504150.48,1460624.22,233705.79,274016.07,934378.29,769579.83,51975.0,689838.21,546317.46,1232806.3199999998,1154368.71,454006.35,1265937.48,1132521.66,593505.4500000001,1853372.88,512750.52,609529.9500000001,1217355.9300000002,1015044.75,783756.8099999999,49725.0,327523.05,181366.29,893514.6,726964.92,139689.0,685463.4,1048232.52,385190.55,338923.89,1897888.41,850066.02,1195894.71,1692251.37,1243792.2600000002,504667.98,452690.28,1548502.92,720871.1100000001,695829.0599999999,651941.1,13779.0,1708989.12,1045625.94,197794.35,55926.0,890711.64,10404.0,1395123.75,493105.68,1050231.15,1493537.4,1144469.07,814554.4500000001,1200221.19,944313.48,984670.74,1454212.53,1110687.75,1366297.2,97992.0,570362.22,1128723.57,81972.0,950457.06,222209.28,796926.0599999999,1394407.53,1329516.0,557658.1799999999,924361.29,672925.5,544618.89,62973.0,226010.34000000003,1207853.46,748826.3699999999,1020101.58,869305.5,96282.0,259655.49,696380.04,162685.52999999997,1297382.4,452586.69000000006,892807.74,1488864.87,204470.19,90612.0,213950.79,1430402.13,620620.74,1134887.13,409535.46,819616.5,439683.3,932849.37,1580888.88,718041.78,1151620.47,978017.94,1204748.8199999998,26370.0,957616.02,235163.34,1632926.88,613332.8099999999,1367883.0,874214.01,102447.0,203032.62,989843.58,1274948.8199999998,1165959.27,232597.35,824660.91,756873.9,994314.33,338998.77,1153921.68,1756518.12,2362372.38,1447627.68,199052.01,964166.4,277756.29000000004,107244.0,589067.73,546272.91,694166.3099999999,876545.28,1405717.02,39195.0,683116.5599999999,129555.0,771559.92,1443686.85,633321.36,1218915.9,935756.91,406121.76,1172128.23,637143.9299999999,1072785.69,1714933.71,179366.76,781197.84,360350.28,482473.53,274652.19,2022323.13,1604143.62,88029.0,73044.0,794937.96,590306.3099999999,1296651.2399999998,930985.56,21015.0,885397.0499999999,377608.5,713096.6399999999,1323281.7,142686.0,763647.48,607320.27,157259.34000000003,190941.03,272635.38,907751.07,795168.8099999999,1721395.35,453275.37,349099.65,1379499.93,733828.86,302045.13,968238.99,1480832.82,63414.0,120735.0,996559.2,906903.36,829141.47,630871.92,374373.72,515320.92,1739982.33,254391.39,324612.27,403858.44000000006,892978.3800000001,860821.65,991283.22,497275.74,635165.91,48411.0,153819.0,562175.46,922589.46,854155.6199999999,730157.22,110151.0,317083.5,972927.54,2105691.48,438754.41,1950873.12,546120.63,2196047.88,1204326.54,976934.7,153441.0,1129965.57,424027.98,892924.83,1150549.92,701982.72,264553.11,670123.89,58149.0,989140.14,978864.93,2070399.6,96543.0,681778.7999999999,1593023.85,328775.67000000004,835708.32,1785219.12,1494683.37,795867.57,277745.22000000003,123377.94,815452.92,1080433.89,1234844.0100000002,1483329.06,1062920.43,612779.9400000001,125532.0,1053574.65,306943.74,901151.28,1071834.75,1748714.58,924347.25,1058871.42,696289.14,217757.07,586838.16,1313562.06,2151102.15,866790.6300000001,997823.43,420970.86,996258.96,155877.21,1395495.9899999998,718620.03,376706.79,292973.4,474994.35,1237251.7799999998,1680973.11,501524.64,1266820.4700000002,3609.0,868611.6900000001,728464.0499999999,347875.11,99024.03,1252318.77,23958.0,73026.0,593705.4299999999,808755.21,398320.56,986209.11,11682.0,497729.97,45929.52,1149138.0,1764241.47,1283535.9899999998,96696.0,925058.43,46323.0,1318391.91,276070.23,1045313.91,167378.76,989228.79,778970.97,45576.0,940265.73,1248080.4899999998,896893.74,118728.0,1065956.94,1234488.15,768404.61,816555.42,203729.76,1034635.41,710994.51,875653.83,1160439.57,762128.01,464228.1,154539.0,788088.96,1011701.25,174456.0,329915.97000000003,911714.22,1161912.06,633030.75,720801.9,48069.0,812180.07,66969.0,1831800.87,796593.42,1243290.96,494542.71,91860.03,46671.39,598439.79,113544.0,159818.76,17397.0,240611.76,1372077.09,706514.1300000001,616236.8400000001,995018.94,1796357.34,88533.0,1370840.67,191782.89,1318276.2600000002,256848.66,988896.15,876236.22,986434.74,1067802.03,792845.1900000001,1216237.05,1057955.58,999281.61,385332.39,1008259.47,285065.73,1508521.95,1392711.3,635151.8699999999,124245.0,1361527.83,801309.78,876785.1300000001,1180784.88,222054.66,575161.11,583750.71,1610310.5100000002,967438.26,1145685.78,2091314.07,1421413.47,1049633.55,1010329.29,801332.1900000001,920268.54,1516439.61,763127.5499999999,69993.0,1142484.39,516301.29,1119464.19,1163500.56,764138.25,825456.42,96957.0,1181706.84,70092.0,1188720.54,175581.0,987165.63,888908.9400000001,172411.11000000002,659289.78,420766.65,503830.8,697860.8099999999,356999.85000000003,678164.67,10044.0,1754440.83,1028951.37,1416873.42,681609.96,593064.9,579541.9500000001,522696.6,474010.56,732793.3200000001,130896.0,507064.68,1311722.91,67131.0,762918.84,911714.76,1371757.05,243360.45,1861840.26,1303800.21,90873.0,1065769.29,43245.0,310344.3,2436615.81,932209.65,1006895.79,486406.44000000006,1055302.29,959294.34,635637.24,1547519.04,104391.0,1802395.98,577007.37,81202.5,169425.0,1330605.81,57915.0,678744.27,730279.17,683890.83,163358.19,1009113.48,626815.35,97731.0,170073.0,1124793.99,95697.63,551130.21,545475.78,1194549.21,818388.09,1462585.77,175140.0,471017.61,1275812.8199999998,675366.21,975916.44,576946.1699999999,818487.54,294499.62,1056838.5,1179239.4,356535.45,828741.78,152694.0,1356318.0,1353342.87,1006285.86,410804.55,451683.81,125550.0,548562.6900000001,738589.68,739865.97,770421.8699999999,521645.4,809417.16,676580.9400000001,582206.76,1212418.08,249704.01,729031.86,179604.0,2010583.71,1704511.35,937347.21,1852638.03,980873.1,655329.96,655825.68,711059.1300000001,726203.4299999999,581534.1,1546731.0,672849.4500000001,1496949.66,1729327.95,265481.73,627965.01,832595.04,82863.0,1747467.54,1909242.72,818834.85,1048997.97,199747.35,71577.0,213857.1,460139.13,2180047.59,1458114.3,734210.3699999999,1297056.87,1561503.15,1563241.86,51570.0,137817.0,733515.03,1732541.58,45616.41,331637.4,527350.6799999999,1103910.3,1186425.81,452841.75,385167.24,673528.14,408713.4,1312708.86,823458.42,1462715.0100000002,399598.38,384048.36,660772.71,131283.0,139703.22,353552.76,1330648.29,850341.6,132840.0,1263590.64,898680.33,504759.24,1327735.2600000002,1259668.08,105510.15,485283.51,476545.77,741101.85,785056.23,570824.1900000001,540552.51,33705.0,136258.19999999998,1481708.88,937866.78,333294.3,1425068.91,18747.0,972739.62,45909.0,538898.6699999999,47079.0,111357.0,1384385.94,239534.37,494278.2,688198.3200000001,1373014.62,809317.98,330106.5,1491028.7399999998,549151.47,940753.8,1189583.19,710837.73,1805916.33,728459.28,691241.49,198125.73,1225242.63,1024382.07,1132538.49,1433669.04,619765.5599999999,740645.73,94500.0,1599105.15,1707144.84,254558.43,179890.02,1163163.33,1367236.17,12492.0,876429.09,513620.01,254652.48,691061.49,1818294.66,607794.6599999999,453029.76,717433.83,207897.75,96183.0,130383.0,438180.3,710814.15,1442782.89,92853.0,10737.0,686056.23,836267.1300000001,1143941.04,568776.78,1719186.12,998498.34,466545.24,559804.6799999999,10584.0,73665.0,359297.37,1414299.87,724724.28,30231.0,1416019.95,1298644.92,1418257.8,129545.63999999998,538653.51,1064099.16,1513857.5100000002,595205.73,139572.0,91647.0,927877.41,297391.86,194592.69,873077.1300000001,1600872.39,63612.0,1594788.03,1077542.46,875728.17,1546504.65,472205.52,643370.67,112563.0,1651258.71,945297.9,192080.79,99333.0,1807806.96,371114.01,146313.0,759277.35,474845.49,1714723.7399999998,1000799.01,109116.0,648783.6300000001,40513.68000000001,1003982.13,321404.58,1033363.71,323307.0,99324.0,2262083.76,793865.16,1041628.86,571454.5499999999,95247.0,757452.6900000001,270707.4,973171.8,176625.0,946486.62,64278.0,1400758.83,1052322.75,649817.6399999999,821090.07,303167.16000000003,117549.0,473722.2,518728.23,1138419.36,71928.0,540975.4199999999,1134554.58,158782.77,1563709.23,336722.49,805167.8099999999,624294.0900000001,1066542.57,1060643.07,912813.66,528177.15,809793.0,1276742.43,350397.63,277468.02,295073.19000000006,22086.0,159957.0,349789.59,1299719.79,1151156.88,724075.11,145998.0,1260995.4,1191490.56,1405777.5,1060098.84,500896.8,208732.95,552988.4400000001,548176.77,523531.89,1782547.7399999998,328886.19000000006,162819.63,1246157.2799999998,871078.86,109917.0,674574.57,169885.08000000002,332586.27,1736501.7600000002,1077613.56,167823.0,533997.36,586724.3099999999,644183.28,35010.0,2289493.89,952143.21,863953.2000000001,20547.0,390200.13,1193911.38,222255.36,498005.19000000006,842354.82,1800888.84,1100984.94,248533.29,2907.0,766177.5599999999,944050.86,1503834.93,898739.1900000001,257587.92,109548.0,414154.71,1281896.19,29610.0,716268.8699999999,1663666.38,221038.92,1459335.15,631283.1300000001,1050551.73,335272.77,1419819.21,1117544.76,1096030.17,1361724.21,623113.1100000001,391353.3,1328608.35,155254.05000000002,1467912.15,629495.8200000001,652302.8099999999,512436.42,1076041.44,835717.0499999999,660746.07,1104530.49,1003172.4,840182.4,1099282.86,836028.0,628381.4400000001,389597.58,602058.15,436125.87,601557.48,405992.52,320472.72000000003,1383726.5100000002,7713.0,217699.2,281492.10000000003,574494.75,877212.6300000001,328925.34,358625.16000000003,1239204.5100000002,507607.74,623491.5599999999,744202.53,1595645.1,999419.4,963518.4,1830589.56,75996.0,664997.49,951548.22,484122.51,497084.76,913673.34,156059.19,1368662.4,823014.99,573721.47,1064662.56,487710.81,761372.91,1469763.0,75033.0,1086941.79,2003978.7,827006.85,1264620.96,755650.35,107892.0,1565375.94,33822.0,1273035.6,1104916.14,871730.1,536745.51,1231584.84,1588558.05,1126127.16,1010652.12,124929.36000000002,1698153.12,1233766.44,1076606.01,99873.0,1065714.57,432221.31,1031729.04,854107.02,850150.71,739565.46,1745936.19,787498.5599999999,1051293.87,44451.0,797470.02,726110.73,325728.80999999994,146520.0,1149989.13,586709.28,244614.06,1450843.56,391782.33,384444.54,61074.0,62316.0,1615235.7600000002,820196.1900000001,523107.09,1087749.54,76599.0,255748.41,327187.71,616806.9,793771.2000000001,480681.18,1287852.12,265172.85000000003,720029.79,351257.94000000006,106920.0,1434226.23,457176.06,598768.2000000001,1395975.06,451949.85,1637819.28,1067895.36,242665.56,315205.11,1007479.89,170085.41999999998,364148.46,1341920.61,1280663.91,607196.3400000001,572261.3099999999,1018535.22,132878.43,735218.64,126198.0,1002064.14,112374.0,6453.0,1461257.46,710317.7999999999,833991.84,1049113.35,305580.60000000003,1433519.64,1523351.97,1361749.32,698536.53,35865.0,1094915.7,998837.28,221669.37,891826.74,514472.22,967905.54,1416757.59,44793.0,1130559.57,855965.07,118260.0,176229.0,1028623.68,1641463.29,1150220.34,128556.0,391131.27,1211424.21,968784.03,1258984.5299999998,1080926.46,576151.5599999999,936721.26,745799.58,362972.34,1331953.2,1525285.62,1105400.97,773948.79,1117490.4,882308.43,930783.87,668327.22,1281166.2,986127.39,797972.22,1531342.8,174339.44999999998,2210365.35,161475.48,2181545.01,709670.97,585027.1799999999,174492.0,2028677.04,1357520.94,1000242.09,592122.24,568359.09,373040.82,1744602.12,1024833.87,1295099.1,1727426.34,1097334.81,1758005.64,240845.4,157455.0,1106256.51,1411882.29,1387278.9,17613.0,998311.14,1034470.35,324623.52,808596.6300000001,566635.41,1201439.88,849722.9400000001,296646.93000000005,529171.02,94050.0,110472.93,43767.0,1141194.15,1479014.55,1287540.9899999998,300007.08,1095545.52,1554493.5,861269.76,86067.0,745635.42,385797.69000000006,498324.6,1596161.97,2394.0,618869.7000000001,4104.0,464007.69000000006,948315.6,174303.0,1188430.11,95797.8,1052453.25,157634.90999999997,416510.55,945631.98,846529.83,982206.72,1260069.3,1050945.39,107181.0,887950.08,143055.0,9783.0,762466.77,2135133.99,1086568.47,428851.08,1217968.29,93753.0,145692.0,682153.47,548414.8200000001,624635.3699999999,1133847.99,1256135.94,313985.43000000005,1082658.24,425952.54,1188425.0699999998,162468.0,1246671.09,463398.84,1465087.14,850198.77,586746.72,603092.25,784546.29,44802.0,1477845.54,1224066.2399999998,502938.72,732369.24,705196.98,1158647.94,896516.46,1312903.2600000002,657184.1399999999,27801.0,179568.0,763032.51,1861219.71,327109.77,2241887.67,572792.76,1513073.34,705858.9299999999,129303.0,1990123.65,1456552.44,319062.87,1510059.87,42786.0,528030.4500000001,137493.0,1297042.02,803616.21,620198.73,2158461.81,655465.4099999999,582397.74,1340320.41,1440220.86,750951.72,119565.0,762369.66,1981791.63,13419.0,1159964.01,1270556.2799999998,1014284.97,1427911.29,426745.35,253487.7,517321.17,1406337.84,721160.1900000001,55188.0,586482.2999999999,441754.92,1008041.04,1002511.26,158940.0,535778.64,1819556.46,225719.19,178818.12,441250.02,938267.73,1395758.79,153921.15,1258375.6800000002,632930.49,954187.47,922854.96,1765553.31,1734089.4899999998,140481.0,1790952.57,44613.0,1431742.59,1355793.21,1047361.95,12195.0,537237.54,752611.4099999999,1065116.25,254058.93,1565612.46,141722.91,700257.0599999999,213085.35,831931.5599999999,711999.3600000001,1145741.67,1513105.38,1484666.0100000002,72585.0,470646.18,948795.39,622945.6199999999,5958.0,356312.43000000005,1116741.87,33453.0,622181.0700000001,1137667.41,1923414.48,519685.56,703055.61,762103.4400000001,80151.3,825309.8099999999,134010.0,867128.49,816174.4500000001,578147.85,1114331.85,1245696.66,837503.5499999999,89208.0,10908.0,663837.66,1069800.21,768550.14,1412425.17,741425.9400000001,584902.7999999999,424772.28,1855220.04,1386120.78,143676.0,7920.0,1364477.58,1045749.51,405814.41,2061283.95,8865.0,1200727.44,1149050.52,1274500.2600000002,775052.1,380277.9,940819.5,1195864.7399999998,874310.49,2065635.63,974755.89,628268.9400000001,130536.0,346400.82,659439.4500000001,433043.01,81945.0,1043357.4,260086.14,1229461.7399999998,437142.87,1409589.09,611745.3899999999,720374.85,494786.7,216724.32,343426.14,753927.2999999999,1488113.82,1139517.54,63.0,488073.96,750496.5,299687.85000000003,575031.87,1227662.1,597736.26,760041.0900000001,1058214.42,657547.65,1864267.65,20340.0,68517.0,1692494.0100000002,1008500.22,347921.46,253609.74,1631390.4,607814.28,267319.08,762296.49,710186.9400000001,634704.39,102159.0,1015097.22,692103.24,376520.22,226988.19,618150.42,433449.99,585922.14,889187.04,1449908.1,1071277.38,9930.870000000004,170906.04,599230.6199999999,191096.55,920911.68,747055.26,479050.2,973346.31,733945.23,1818228.42,240436.26,785257.92,1089048.24,711591.75,675592.3800000001,286927.11,590135.49,324169.47000000003,725933.34,902444.04,797298.03,1147718.97,568406.7000000001,364588.47,974391.75,37348.11,596286.54,979298.19,826947.27],\"xaxis\":\"x\",\"yaxis\":\"y\",\"type\":\"histogram\"},{\"alignmentgroup\":\"True\",\"hovertemplate\":\"Is_Churn=0<br>Balance=%{x}<extra></extra>\",\"legendgroup\":\"0\",\"marker\":{\"color\":\"#EF553B\"},\"name\":\"0\",\"notched\":true,\"offsetgroup\":\"0\",\"showlegend\":false,\"x\":[875572.11,701607.0599999999,111026.79,1072102.23,770796.8099999999,1229087.79,970529.85,189726.03,1626138.18,126864.0,644629.23,30347.82,750865.14,1126609.2,570972.15,628551.0,641867.22,215598.78,1215906.48,198623.88,424434.51,632699.5499999999,1605968.1,451086.03,844107.57,17028.0,579152.79,994740.84,996902.55,291420.0,1227331.5299999998,67662.0,867602.16,1122038.64,1073558.34,444098.88,2015588.61,1157365.08,339793.29,907972.74,227637.72000000003,1101682.53,800831.16,1029391.56,680805.72,1375884.27,1158850.98,1277248.95,361051.47,15291.0,922464.27,1126106.1,1604532.78,1194113.52,452374.83,1050368.94,227871.54,18216.0,54036.0,19710.0,24444.0,159975.0,489467.52,843552.18,1901320.38,502924.68,937373.13,79659.0,88506.0,433155.24,692453.25,1117633.14,726230.8800000001,2017194.3,1147024.08,149868.0,586586.79,1159187.49,265680.45,98883.0,540972.27,725942.07,1029266.55,814875.66,915355.08,949376.16,1152190.35,445271.4,1287258.12,1018832.22,282748.86,92907.0,1721799.36,8667.0,1136047.14,1046796.57,1863300.33,964109.07,90184.95,625865.49,233914.14,402746.67,1628801.19,1253111.85,1402926.66,1134702.0,1389112.02,676939.8600000001,1223332.2,1049552.37,1149082.11,1043038.35,152313.65999999997,920181.33,1430567.19,870268.59,610385.04,105255.0,82341.0,170373.51,993317.4,195040.17,1134007.2,877161.6900000001,842280.75,90549.0,132120.0,6381.0,1402816.59,1375891.7399999998,52488.0,1238613.12,1031590.17,1083589.74,328517.37,829614.42,1200150.9,1875741.84,818026.5599999999,1326471.21,1694435.58,176112.0,1145376.72,143424.0,1856032.38,1828138.68,737780.76,609587.01,755831.34,424963.26,261110.25,1202075.37,305313.84,693276.21,175708.71,1274302.2600000002,1269775.44,307049.67000000004,1220726.52,1059408.36,1133258.22,778651.74,208578.33,571802.3099999999,1575045.81,520522.65,162234.0,1392733.2600000002,552640.86,1446208.38,571668.66,1960508.88,746104.59,1021397.67,1624694.4,810366.84,268149.33,76392.0,823078.26,876390.21,1135444.41,947655.0,940009.23,455507.82,693408.33,121986.72,613070.5499999999,471226.68,594197.9099999999,30042.0,9162.0,177120.0,809275.86,945692.73,576043.8300000001,494425.8,749433.6900000001,1064600.82,1610447.7600000002,301520.88,481141.08,117549.0,1397182.68,294123.87,300825.54,469300.59,1207578.7799999998,801734.67,1462117.77,951192.18,1798252.92,1707106.86,1161626.13,411544.08,913797.0,772245.72,204095.52,907957.89,1286100.81,1020523.05,1404503.28,1482299.91,1405794.78,571239.4500000001,884185.92,150604.02,867350.8800000001,613374.8400000001,1125992.7,1404291.2399999998,118593.0,429141.15,1540293.57,1172770.29,493018.65,1060332.3,723647.07,849725.91,853565.4,741907.35,703699.65,169578.0,500014.17,1383912.9899999998,1591795.08,2157562.98,1061489.34,1368799.65,980901.9,760837.68,142095.87,754333.11,562066.38,15282.0,537562.62,889452.36,353836.8,2283723.99,1398772.71,1137900.24,370241.19000000006,1012651.56,585378.1799999999,692013.24,348661.71,557435.7000000001,1137454.2,566894.88,715488.75,44595.0,1444790.07,97803.0,681534.4500000001,1343139.12,663451.29,149166.0,2013504.21,650295.54,648653.1300000001,1031058.72,507204.99,110178.0,1216114.2,449422.2,370484.01,122139.0,75762.0,1291291.92,1856637.72,112770.0,972748.26,726221.8800000001,463487.49,367234.56,915690.78,340134.21,160398.0,541841.13,363856.77,1171381.41,910209.33,567080.91,945328.86,119224.44,697109.85,1452032.28,1068287.85,679858.29,648567.54,1327894.56,648195.6599999999,1492366.32,418603.59,1250935.92,363359.88,1158806.79,647666.9099999999,230983.02,867715.47,541267.65,503926.38,1265127.57,597482.5499999999,918886.5,1575156.87,139050.0,1904156.82,772587.09,880165.89,1737643.95,669687.93,652213.98,559963.62,1424385.45,936960.03,914314.23,181816.47000000003,1058502.51,998503.65,52542.0,1011431.7,818135.46,879654.8699999999,580123.4400000001,994906.98,1086057.9,570672.9,11547.0,1460881.62,497497.41,528067.1699999999,499463.55,99805.23,240669.81,1267265.61,1815672.87,1185481.17,606699.9,55431.0,692265.78,640723.9500000001,373331.7,20115.0,831378.0599999999,720241.92,307647.27,1833278.94,888105.51,666715.77,534176.1,655673.85,1563392.88,1181397.2399999998,15426.0,544189.14,1910839.41,1487919.15,766114.02,1248221.34,929963.07,1217394.36,411321.87,628373.0700000001,630129.15,1091697.48,1864008.36,1042432.2,354358.98,540643.6799999999,643231.17,141998.66999999998,582699.51,794642.22,255094.92,168380.46000000002,202013.1,572918.9400000001,942805.8,1002669.93,540918.72,629711.9099999999,1076903.28,1421886.78,1248975.45,740917.53,644891.04,589825.98,834228.72,723767.67,354939.48,168507.0,48051.0,681642.99,101226.6,86328.0,1542905.0100000002,934155.81,417610.53,688938.03,1704064.05,1539295.7399999998,1274694.21,780498.18,234650.61,656042.04,98802.0,943197.75,405488.52,78192.0,1157325.66,244507.14,731722.9500000001,559805.6699999999,523750.77,387644.58,2164140.54,159831.0,1125695.52,36333.0,1601903.43,445517.19000000006,113949.0,80154.0,121194.0,1341586.62,1000611.09,1435493.7,478639.08,845564.04,746629.83,1401543.0,924424.56,1025217.9,391936.59,1060977.42,1055860.56,411842.97,1055162.88,77877.0,1235832.21,671119.2000000001,94527.0,734896.89,512047.26,1019052.99,1435115.7,938901.24,1054962.0,809705.61,30470.13,564260.4,1049290.92,879829.2000000001,739310.9400000001,555163.29,1176075.63,1239671.16,656487.4500000001,603982.4400000001,1116076.77,283124.25,128754.0,557403.66,1826524.44,125343.0,112302.0,1273515.75,403343.82,1363137.21,1507942.08,1385683.11,971530.02,969110.46,412291.71,992552.04,49869.0,908532.81,1639978.2,262341.54000000004,564517.62,354687.21,936718.74,173979.0,204401.16,450163.98,920292.57,738719.82,272193.93,830859.2999999999,1237829.85,1249675.4700000002,1433947.32,104171.4,629396.6399999999,483913.71,908736.48,1503035.82,1040699.7,376028.46,854272.35,1194087.96,47709.27,1636051.32,217565.19,114075.0,1645313.7600000002,1196860.95,599439.78,1919610.0,709631.46,1490874.39,662555.52,1344216.15,562922.91,1902698.37,1820342.61,495609.03,1161191.07,874565.01,57105.0,402197.76,575095.41,1509696.63,274994.28,941188.32,1649569.5,733008.8699999999,112992.75,153936.0,715381.65,165456.0,342607.41,173266.91999999998,473262.3,1085993.55,198417.24,41661.0,423922.5,801055.4400000001,961719.21,64386.81,870568.65,910260.45,1029600.63,589548.96,76122.0,569447.64,1207209.5100000002,1120526.01,991167.03,676747.98,968829.75,74520.0,1206229.77,675164.52,649748.7000000001,779375.61,1106457.84,1274172.3,571236.21,321823.53,1372389.57,1360656.45,651026.3400000001,1113708.42,1449422.1,596683.4400000001,911259.99,2283068.61,1327709.16,979378.11,1331966.79,935963.46,1196460.54,137061.0,437080.68,867928.9500000001,54081.0,730882.71,468483.48,63972.0,1375832.43,698523.75,451578.78,1737205.2,170793.0,982227.78,1166409.18,758381.85,1149578.46,1320076.8,1702838.25,167192.55000000002,405540.36,525377.52,816249.6,146322.0,1649165.31,625179.33,83313.0,1737632.25,753235.92,804640.86,1412647.7399999998,7371.0,391886.19000000006,891810.8099999999,1524267.63,45882.0,1042274.25,1107342.72,1318855.23,665378.01,556944.9299999999,148324.94999999998,642064.0499999999,612229.23,742821.84,1271256.57,526725.72,582977.79,561933.36,1045470.42,95940.0,797417.1,1180418.4899999998,405073.53,946338.48,1485184.95,1283567.13,179883.0,586208.97,718268.76,1913951.16,1911062.97,76500.0,1555836.57,1639460.79,821726.46,1613056.68,945773.91,589458.78,1432225.98,678510.9,519495.84,784126.6199999999,536522.6699999999,603384.75,1073909.43,1077819.93,313749.27,1922232.6,923829.03,143649.0,1288333.8,461950.92,753235.02,848812.41,960923.07,566668.98,647863.29,986875.47,1211313.87,709092.27,1160232.39,462884.58,1248791.94,1253551.6800000002,2195266.0500000003,1258509.69,100053.0,1372281.66,1253452.41,1507121.0100000002,1324699.11,951486.12,1093875.57,879324.03,594340.29,131121.0,1022248.62,282830.85000000003,514228.05,143496.0,523101.6,1112130.9,991625.94,102096.0,1018069.74,986297.4,156797.73,1277173.44,1159244.37,292203.81,631314.72,1528691.67,583934.13,1244920.5,1447856.37,989209.44,1299039.57,807098.22,13662.0,831441.6900000001,1495706.94,991721.34,841599.9,1127579.31,1417311.9,13401.0,1292620.41,2132129.34,985885.29,528921.36,591196.8600000001,485792.64,1327554.72,1367357.4899999998,694653.39,1125771.84,1204704.27,1197511.83,1455086.79,211380.93,1139181.21,698800.6799999999,753924.24,365306.76,596617.74,1227608.73,152289.0,1383584.67,1280266.65,738973.35,180746.01,990312.48,1075706.91,1738470.33,756622.7999999999,639919.53,218372.49,1362526.29,114571.71,1572926.4899999998,382578.12,1050162.48,910540.98,987274.17,977313.96,1039947.48,1228598.8199999998,1329430.59,895698.8099999999,793989.09,301136.30999999994,501042.51,149508.0,313650.45,909130.05,891537.57,701178.8400000001,1097112.87,492609.33,353189.7,702631.4400000001,119403.0,1228186.5299999998,968022.0,1194748.4700000002,936712.26,746855.64,723158.1,1202733.09,1633473.63,1259340.75,1571883.48,31365.0,1103829.03,702929.43,112365.0,575273.52,1227356.46,1023024.51,800177.76,177032.52,1042497.72,1286119.62,1210450.3199999998,627567.2999999999,686972.25,994615.47,548629.2000000001,673720.74,850146.2999999999,1266709.14,864243.6300000001,1134467.46,293492.7,369.0,1554216.75,526729.86,1224573.39,2011334.22,319674.05999999994,298681.65,931047.21,61354.71000000001,1670057.55,945306.0,492873.03,384327.9,501159.42,2059292.43,1921925.61,595572.48,210183.48,416663.46,172448.55000000002,708792.6599999999,1798491.33,61866.0,1886335.02,746270.01,1638552.5100000002,1235747.0699999998,1685409.39,1607678.91,1079551.8,140300.73,1880485.83,440026.74,922984.83,76905.0,1035186.84,416711.52,326876.22000000003,1348761.15,1843552.17,784840.9500000001,1017031.77,865687.86,656955.4500000001,1397581.56,740668.86,116283.87,780675.93,1674999.0,525347.91,635130.3600000001,379217.16,69939.0,124605.0,1123058.07,595606.5,1374310.71,1069866.27,122733.0,510445.62,697604.9400000001,698362.2000000001,174694.05000000002,128875.77,793362.8699999999,858495.51,1562237.19,1072704.06,620214.6599999999,2436435.81,1500189.66,1047499.2,1141373.25,1120645.8,668474.9099999999,1377997.7399999998,1415702.7,309578.22000000003,630858.15,444166.65,1049602.95,216329.49,914405.76,889609.41,210515.76,80685.0,140517.0,729712.98,1200950.2799999998,1668141.0,653418.9,32625.0,86787.0,126578.52,9891.0,462886.29,216338.85,682775.91,379417.41,133479.0,54178.2,1260905.4,887864.04,893094.57,156069.0,1222711.2,1333925.55,265320.9,197425.53,55818.0,93294.0,758619.36,2244092.58,166275.0,1646113.86,1351048.41,702802.17,1965740.67,815714.1900000001,591672.96,673536.51,676144.89,1005541.38,1175737.14,46818.0,670015.98,345810.87,657889.92,893185.11,1162845.09,470621.79,1094209.83,116874.0,995010.66,1536002.82,857226.15,999081.45,823395.8699999999,514214.01,859163.58,1380396.69,1452628.44,1329818.4899999998,2273449.86,910843.11,99846.0,169110.0,466556.31,100305.0,1592465.4899999998,1347616.8,980415.27,1757520.45,1856368.62,650142.0900000001,1152905.85,190241.37,96801.57,570465.36,830731.23,1293386.31,649336.32,1375267.41,1267585.2,1168367.04,428305.68,110215.88999999998,106830.0,1748746.2600000002,737194.5900000001,1377491.31,799931.97,610795.71,288585.72000000003,476534.97,644048.1900000001,1324707.48,545658.2999999999,879507.27,677780.64,1312307.0100000002,1176333.93,78714.0,2015487.09,830065.86,272696.4,1109636.82,1521434.7,132291.0,774038.8800000001,749373.03,60786.0,1029955.86,127296.0,1056879.9,334791.36,684963.18,314642.34,1126519.38,1577463.48,236003.04,303539.58,155999.34000000003,263720.7,492359.67,828887.9400000001,1129377.42,534073.3200000001,1763808.21,679424.58,679249.4400000001,893355.57,707634.4500000001,798669.9,1553265.9,1189419.12,1099309.59,66168.0,1126511.91,2284891.11,173628.0,1117244.34,20448.0,61902.0,54387.0,665616.6900000001,442709.28,680250.6900000001,386682.3,377708.76,734972.9400000001,1373462.91,20871.0,122814.0,1673727.66,281550.15,159615.0,826352.1,1508446.08,845741.07,567312.75,1073972.97,942699.78,580526.91,1219926.7799999998,894601.4400000001,3375.0,875546.73,1840885.92,148977.0,1185176.61,837589.5,1574633.16,937364.4,163058.13,1128319.11,1252827.9899999998,532147.41,612521.6399999999,705180.6,901999.26,1589902.2,1162663.02,590211.54,1349267.4899999998,155007.0,859726.7999999999,55629.0,8298.0,565189.29,642099.0599999999,930135.42,914339.97,1131875.82,1154348.19,1154654.91,710476.11,432895.95,1133432.73,296970.56999999995,1757111.67,350860.14,640861.3800000001,1206686.16,14454.0,1780008.75,149500.71,1429610.31,82944.0,183451.05,547400.79,11835.0,374470.83,149641.02,1487450.7,362185.92,848096.5499999999,1248722.55,813690.36,593620.02,700702.02,1598410.17,602737.65,1455157.62,1265028.48,404551.44000000006,914989.86,251917.29,1179528.3,787179.6,401146.2,497353.68,712201.59,7605.0,30753.0,1826964.18,610893.99,924407.19,1258709.13,396108.72,541233.63,582636.6,802407.24,749092.41,414882.45,1500102.45,336498.12,32454.0,1245482.64,842354.28,138112.19999999998,578469.6,169758.0,1335089.25,200562.12,116973.0,445797.54,1450006.83,297163.53,223883.91,1489690.71,1126465.38,164772.0,92349.0,686454.21,720139.32,834560.1900000001,96201.0,178065.0,145636.56,1065998.88,504552.96,365283.54,1060754.13,1923491.43,869490.99,1076331.78,303841.35000000003,1693389.78,1081500.57,785762.1,126243.0,337325.22000000003,465125.76,632257.74,916714.26,14265.0,1620211.41,48195.0,52857.0,143785.71,998506.17,877167.99,1782449.28,1816709.58,678888.0900000001,99963.0,121689.0,1838855.52,1480993.47,759592.35,2117932.83,921393.0,2375352.81,1729360.89,15417.0,838943.1900000001,538081.5599999999,365382.9,1553090.7600000002,723489.66,883367.73,244801.8,719776.98,806150.7000000001,1068663.6,121443.38999999998,850287.15,1001488.68,959337.36,971323.2,852510.15,210585.06,51804.0,1239953.58,757798.47,321254.73,1129243.68,1080491.85,1022082.3,1218386.88,590156.6399999999,1637272.08,509494.59,443222.28,1596075.66,160707.96,934977.51,86679.0,1023082.02,1454305.32,146565.0,634658.3099999999,52875.0,1049290.56,801662.9400000001,889587.18,1033308.63,508970.52,300560.49,71685.0,90648.0,1268231.94,535448.79,420114.06,620410.32,836212.5,166977.0,1111950.9,705175.29,1553776.83,1072348.29,704280.0599999999,966439.26,65933.37,71001.0,570775.77,471550.14,1249297.83,1523070.81,2023253.55,624554.3699999999,1294285.14,1414582.56,938816.01,495139.32,1064916.72,110088.0,441082.53,700588.71,2124711.63,1168358.31,408346.29,378751.95,108648.0,621966.51,591619.8600000001,885142.98,1678195.35,682121.79,1447167.15,615196.26,1619443.98,361989.81,984283.92,276476.4,129852.0,461177.64,1616400.36,1063799.82,229177.44,937414.53,20466.0,1414265.4,274170.96,559741.6799999999,20124.0,731823.5700000001,759990.42,1054150.11,706807.35,773858.7000000001,1922169.87,1624251.5100000002,174836.97000000003,696537.99,1003170.15,1580651.37,1172938.59,1323995.31,842805.9,776128.14,419850.9,1046825.28,352548.0,778607.1,807653.43,1131202.08,1339468.02,303418.26,1192035.87,1619886.2399999998,170694.0,181909.08,1656534.87,1537564.59,724184.5499999999,1029197.97,372143.34,530812.98,817987.5,608369.22,1457381.79,1150500.42,146385.0,979190.28,206695.17,131931.0,355845.15,473459.94000000006,1188740.52,1321074.63,821619.8099999999,1333669.68,1212776.91,479155.05,381980.25,1664514.54,1191265.38,376112.43000000005,653730.6599999999,1854619.83,1064697.48,984608.1,496765.89,966006.09,834861.96,723867.03,644477.1300000001,926774.73,1664561.52,1004350.32,956727.9,1031631.39,331495.11,1565597.88,144531.0,976288.32,139761.0,1684977.66,987401.07,1199253.69,473719.05,896478.93,674896.68,879296.67,557282.97,288997.74,822406.59,1216005.0299999998,183545.46,122330.52,1145160.45,906022.8,225254.61,841428.27,1014774.48,565481.79,958165.29,171612.0,537633.09,358673.13,609470.1,1024476.3,163822.94999999998,345948.57,882315.6300000001,220361.94,977805.45,34191.0,708370.1100000001,1169349.93,585528.66,406777.5,375767.73,1703027.79,659032.29,1629239.58,607879.8899999999,1989270.09,114252.21,1646710.65,1280171.7,803728.6199999999,54009.0,1000412.64,475850.52,527201.1900000001,1889199.72,1536769.44,162612.0,1065280.41,995457.6,947186.91,966000.24,1540419.3,551636.1,857163.51,809031.0599999999,846775.6199999999,265928.76,121654.88999999998,132363.0,1125249.21,2172757.41,1186782.21,38250.0,545013.1799999999,645200.73,126009.0,505213.2,363758.76,141714.0,614640.6,492678.36,783128.7000000001,560675.88,133002.0,539505.1799999999,818594.01,56664.0,1600622.82,56637.0,121465.35,1516642.92,248022.36,705689.3699999999,941881.86,1300263.66,714115.71,372099.06,2008952.73,1219604.13,731378.8800000001,396443.61,331324.92,112383.0,306936.99,1653484.41,690439.4099999999,675451.26,509302.89,1065423.06,235100.7,1247566.23,909197.82,758389.59,261152.73,900314.73,805844.52,957092.4,80523.0,1369741.59,1743694.29,2265021.81,1630010.34,1313610.03,442770.93,1465319.25,178199.82,939092.04,504052.83,387526.32,210854.52,663894.8099999999,949084.83,1568040.12,683272.71,769839.93,1091697.75,950795.1,57339.0,809262.36,38193.56999999999,864118.35,1706206.95,17838.0,785298.78,1237619.79,1195132.23,102186.36000000002,336014.55,1716872.31,361140.39,147079.53,890228.97,278763.03,567487.26,1316964.06,1232950.95,64638.0,50463.0,1121671.26,461427.03,541615.77,1156958.46,1551062.88,55728.0,128268.0,864811.17,922275.99,868222.71,128191.5,823027.68,28746.0,547110.27,881894.8800000001,187151.49,374997.15,1256232.15,1893113.73,562149.63,154386.0,619203.8699999999,774179.64,263401.02,52191.0,1069611.66,530639.1,578515.6799999999,202256.73,1706640.75,1096616.25,2058460.92,814976.82,530789.49,106200.0,651868.3800000001,777572.28,720166.86,1169148.15,874113.84,888755.04,490490.1,12096.0,1330244.37,621223.65,1564377.21,161640.0,474004.89,106632.0,646034.9400000001,1133771.85,729323.28,1561218.75,747807.93,1593907.56,161334.0,1476246.78,1527223.14,1346159.52,422285.49,354013.83,654582.42,1415831.04,1614024.18,414699.39,237926.52,1114152.3,87525.0,1313291.16,1980407.79,1030532.04,191296.89,948292.83,1022456.88,1119079.17,470702.07,1018780.2,1213192.5299999998,859990.77,1190591.55,909755.19,76518.0,705446.1900000001,1609003.44,1394773.7399999998,666241.11,900881.55,480635.01,1077679.17,122184.0,918875.7,90008.01,495029.97,958872.33,1238661.36,2277045.18,841284.9,312124.86,773105.67,728042.76,392878.26,980109.54,357248.52,690246.0900000001,799324.29,682237.35,653458.1399999999,829580.49,1079335.26,875165.49,344223.09,654408.9,84710.34,1117401.3,169290.0,521441.55,778238.28,819994.14,848129.04,780685.65,972102.96,92151.0,841519.89,729706.14,64656.0,511924.5,1444555.08,1378228.68,1237115.9700000002,228899.97000000003,221289.66,306936.09,828628.11,1415720.16,346788.36,17262.0,435888.0,130340.97,1153177.74,987375.33,2289114.81,5688.0,1105593.48,1759283.64,686122.29,766312.92,34866.0,681835.59,311219.73,590354.5499999999,1334249.0100000002,428741.37,831161.16,69075.0,757272.6900000001,692785.89,2094506.55,407399.58,1150557.66,191699.46,125005.59,709488.18,1272882.5100000002,707638.68,132462.0,887259.24,926034.48,470666.88,678984.66,916786.08,1049227.65,7551.0,1401845.85,656076.96,1887013.08,69084.0,800945.1900000001,579237.84,1540529.64,991669.41,102123.0,2038090.95,84600.0,138942.0,710371.6199999999,185400.54,213806.7,615761.01,2265597.81,1297420.7399999998,616802.9400000001,246844.26,1881112.14,788754.8699999999,719339.85,242901.27,1031298.48,289348.92,1166456.16,831897.0,618942.96,1262583.54,673202.52,226837.71,2016924.75,136773.0,176843.07,1131316.11,1549053.63,57357.0,868161.24,1482268.86,225436.5,501758.55,464955.84,930402.63,49284.0,977252.67,1040126.13,809708.3099999999,954822.78,762107.9400000001,1008580.32,96800.76,308909.52,1357984.44,1505381.4,443178.0,86670.0,957957.3,1144434.42,444033.54,163132.65,103005.0,437808.78,303898.14,442034.01,1555114.5,1373255.19,49923.0,1203341.4,301931.01,940572.9,1057807.71,1419444.09,691025.9400000001,748070.82,878793.57,705668.4,746654.22,614722.5900000001,1346860.08,1457465.67,599694.6599999999,460239.57,742804.29,1140019.92,320997.24,1799485.11,634276.53,365066.55,737819.73,848850.84,344995.2,440577.72,128205.99,734403.96,1356529.68,1547603.28,1619313.03,603379.7999999999,320699.7,384705.09,604006.74,423738.0,819577.98,322732.71,881156.34,437895.0,573327.72,431155.89,99451.98,962484.21,1237839.0299999998,48375.0,981607.59,1617998.13,826668.99,1128599.19,1179438.12,799898.67,60452.91,1348725.5100000002,942829.56,17163.0,932618.7,854788.0499999999,1699486.11,1248146.55,1898412.39,643204.35,96219.0,1664890.92,89433.0,638499.15,374154.66,1021154.76,564602.3099999999,938595.87,1402929.9899999998,933705.63,150095.43,78680.61000000002,636892.02,1718564.4899999998,302329.8,288376.47000000003,671189.4,1471837.5,1245492.09,100611.0,1620938.97,505210.23,309205.71,212832.72000000003,1164198.33,356788.8,335546.91000000003,1979168.94,389270.07,1065117.15,683799.03,672739.83,1363441.5,372373.02,913182.3,775894.5,222111.0,344302.29,970100.19,1065580.47,482559.03,922509.09,1996541.46,687248.28,102621.33,183396.96,1095102.99,744166.17,778218.66,84582.0,611047.26,862445.25,465797.97,733424.4,337885.92000000004,563118.84,817175.7000000001,840068.64,535340.88,446272.83,163269.0,358932.87,1172386.44,95751.0,1451901.87,1433903.22,741359.79,658340.64,1131329.97,1170052.2,889192.89,854528.9400000001,1520150.67,1108739.07,907568.01,1910251.08,38700.0,161805.87,23382.0,587307.96,1213336.17,358976.34,872338.32,1374986.25,1686268.98,1554615.36,127118.79,150477.57,1368189.36,787463.91,552077.37,968814.81,953418.87,1511570.07,1296540.18,417194.64,1010340.09,1238471.46,823887.18,1876316.94,1008453.42,797462.1900000001,554466.4199999999,257139.9,519324.21,461730.06,44838.36,308692.26,1412277.93,899230.0499999999,1555203.6,450477.36,519287.13,738672.57,276762.69,1586921.22,514523.16,638246.6100000001,628823.1599999999,502738.65,2342574.81,1510968.87,289296.9,208058.4,22113.0,37152.0,105133.23,35379.0,792579.51,1403753.31,1887506.28,896109.1199999999,1121211.45,456810.12,323648.01,644848.3800000001,370934.1,430330.41,850780.98,500238.0,800326.4400000001,163161.27,1725170.4899999998,799808.76,840064.14,243751.77,1005030.63,261016.92,1258082.0100000002,942885.27,914062.59,1448422.2,96291.0,14103.0,147672.0,1484509.68,428280.84,5364.0,1099250.64,1429959.5100000002,47124.0,18270.0,773266.9500000001,28665.0,1250723.43,1402343.55,1023247.62,515401.47,479113.92,894362.22,407667.42,1755517.86,272543.4,647398.17,63117.0,209409.3,1375740.36,826441.92,140917.05000000002,145584.0,1258669.08,1027343.07,129051.0,927349.2,125928.0,835843.59,1010681.64,136222.74,825963.84,2287503.81,990983.7,647219.34,501421.32,863212.59,639757.71,470150.73,694486.6199999999,164493.0,318264.48,1576064.34,110961.0,133119.0,1114978.68,361147.95,737681.67,173367.0,1027907.91,1436987.61,397752.21,1096435.71,710475.1199999999,1011439.71,652189.9500000001,807784.92,1589354.0100000002,1772084.16,372437.19000000006,844309.7999999999,192680.73,733365.36,1811800.26,576125.5499999999,1252658.7,1695397.5,749407.14,327964.77,1076300.28,1056317.22,247639.86,328718.52,1235310.21,697605.48,473678.73,677764.4400000001,344108.25,827429.76,377304.84,22797.0,362737.44000000006,110215.08,846119.7000000001,1102536.45,521849.25,898664.76,1064147.94,1129932.99,997319.34,136548.0,18648.0,710915.1300000001,598946.4,592914.24,1317297.6,462681.9,890523.54,1007119.62,576597.51,372493.62,700197.57,270843.39,1448865.63,1351527.93,4887.0,211210.2,145485.0,563195.79,1061744.76,337956.84,1257036.0299999998,899908.65,1953368.19,1279533.42,1457375.7600000002,747170.73,480472.92,1176083.28,969178.32,2243579.94,460384.02,46274.22,57093.48,292822.29000000004,331029.09,924378.03,133551.0,1170172.98,844839.9,1598031.9,518516.1,1023163.29,371552.22,11358.0,473577.93,532106.1,890563.23,929607.12,1604278.53,822955.86,2280600.81,712067.76,1655754.3,994768.11,1231575.48,1688991.21,1282137.93,996452.46,1082034.81,265568.31,1101278.79,1353215.34,606410.01,138222.0,1507798.44,1646895.78,795267.72,80829.0,462215.61,1074461.04,198611.37,872418.33,1414701.27,542539.35,578212.02,1505943.0,159156.0,1155197.34,1153920.87,277501.86,1407375.81,754959.51,2039554.35,1466024.31,736627.68,791982.4500000001,484553.25,1211725.35,52821.0,1126154.43,344523.87,471939.75,653556.96,899905.14,1222998.12,511411.32,1821686.4,852342.2999999999,912638.88,400215.51,699273.54,179595.0,1775672.55,1182372.21,229676.85,102951.0,1134052.83,559371.87,1584548.55,473089.41,298397.79,166500.0,1341964.17,1382529.78,339854.49,624783.42,1210165.38,475750.44000000006,1516383.54,1142027.64,653704.5599999999,1400248.98,1232055.81,840889.08,428423.76,580353.2999999999,853752.6,927332.01,1893204.99,1309595.13,1330368.21,381273.75,2358771.12,1280520.72,1730002.5,325133.37,1005803.37,598800.0599999999,1171195.2,299055.33,1172356.2,644038.2000000001,1164165.03,856292.04,925426.44,41715.0,601048.17,881362.53,76122.0,644476.77,490235.85,11214.0,105255.0,1206015.0299999998,154665.0,1580666.13,8766.0,875414.61,515102.04,1266189.57,638224.74,755737.3800000001,2100608.2800000003,1640316.33,1705827.15,640034.46,82613.51999999999,1241992.44,1194061.95,19161.0,666222.21,1157327.73,726281.1900000001,442369.89,1098741.24,776289.6,296067.24,853947.6300000001,679386.0599999999,829398.51,1268099.73,15696.0,870660.54,295803.36,850373.91,1255707.0,1478144.88,1783718.64,773744.1300000001,164914.83,1767050.55,674918.82,1221237.63,775630.53,1611981.9,1063826.1,1314482.22,1472474.16,1070774.19,168219.0,624590.46,143622.0,263557.62,1273324.86,511917.39,779356.4400000001,978429.87,1353139.7399999998,492661.89,441824.04,479494.8,551895.66,1124526.78,601435.35,434448.72,1283351.85,46053.0,163134.99,338530.95,610152.8400000001,1216817.1,753925.5,879528.51,1108102.41,193346.1,664142.4,1202562.36,1106557.38,208063.44,556881.21,152964.0,963614.34,1378299.06,456517.35,1079473.86,182168.1,457561.44000000006,1117287.27,1239268.68,915022.17,886980.51,597180.78,51655.95,699416.73,137385.0,1002501.9,126576.0,1600714.53,1516761.27,846977.9400000001,616106.25,1450935.0,867919.9500000001,27000.0,880046.3699999999,40356.0,468282.51,449010.72,844421.04,1004171.76,31779.0,921362.58,364388.76,1511324.46,245257.65,840746.52,491403.69000000006,1382034.69,727059.8699999999,1067994.9,418959.72,783954.4500000001,234084.24,660851.5499999999,1047232.62,226456.92,863221.32,130871.88,829357.83,1573751.16,132183.0,811761.21,1978459.92,501918.93,872767.35,775562.1300000001,711063.8099999999,1040590.71,961005.96,167526.44999999998,455101.47,623864.25,1104751.26,1911764.7,1255888.62,1435809.78,506336.4,1286252.19,1704377.25,679886.3699999999,1157096.79,98001.0,149051.78999999998,495827.19000000006,1025451.0,464499.72,939194.91,522027.0,545702.4,1269148.14,1890749.7,180531.9,624040.65,159354.0,1878172.83,800521.5599999999,1090493.82,833009.85,1015460.37,572328.36,6930.0,128053.88999999998,887233.0499999999,1249702.92,1400994.54,44037.0,697223.34,468003.33,684482.9400000001,1578950.19,942468.93,729217.08,1047398.94,1059991.38,2044783.35,515229.39,659377.7999999999,827512.83,378632.97,470400.57,537434.1,1612731.06,357299.01,53973.0,149049.0,1247550.9300000002,953779.41,1485178.11,700240.0499999999,970760.52,693109.98,1178401.59,934307.91,976205.43,890256.24,97416.0,498760.92,725627.07,110947.68,104768.01,893040.48,1071585.27,535345.29,1006090.47,84676.68000000001,1153223.82,118605.96,376241.22,711717.39,489875.31,411275.61,1064644.65,1101763.08,135504.0,465481.17,733285.4400000001,1116780.84,572242.14,511355.97,559963.53,615654.9,764979.21,24129.0,339973.47000000003,1416054.5100000002,1122460.65,880888.5,161163.27,398073.69000000006,21132.0,1043567.82,443021.67,92061.0,1131602.22,1312178.2200000002,1342277.37,1016252.73,585281.4299999999,1062530.01,281092.05,106497.0,459850.86,1780268.85,898454.8800000001,1720734.39,730537.65,693216.09,1723308.48,584045.5499999999,233023.32,1259001.36,903509.73,592839.9,1130541.21,305351.01,1439944.02,754362.72,977787.18,1399144.5,238104.36,1482588.54,345700.53,1699735.23,553445.46,404010.72,1623404.7,197489.97000000003,1826380.53,49617.0,178918.65,1072772.37,663901.74,1013255.73,616574.3400000001,893639.34,85680.0,1045580.22,15570.0,871202.7000000001,1425232.35,1747237.5,831868.29,43056.0,853807.41,663715.7999999999,8469.0,771343.65,1767786.75,730873.53,235995.66,552729.87,1765445.04,157806.0,1109013.3,175032.0,585174.3300000001,832830.57,1016296.83,386725.5,593204.1300000001,231622.47000000003,172764.0,859557.51,523344.69000000006,705965.58,1397307.87,1570995.09,736002.0,1610805.06,1033794.63,1241404.92,1088014.86,646585.83,835131.42,783242.1,824082.2999999999,744289.47,1230250.23,106985.7,126504.0,757834.47,922063.68,577621.71,985116.96,396603.54,122049.0,840263.1300000001,990926.1,1089658.53,1317332.9700000002,453096.63,523439.46,179709.65999999997,677864.97,408774.96,982789.29,177588.0,1322492.85,1390704.39,1450517.67,882324.09,936724.68,564514.8300000001,797316.48,1321690.86,381364.29,1127324.97,865085.58,812175.1199999999,1614032.64,1274471.46,453036.96,1505204.55,170613.0,1836394.47,554809.6799999999,1160749.53,1080310.68,638934.75,2227496.67,19314.0,686668.5900000001,423723.06,906478.83,69543.0,1559767.77,497660.4,1104670.17,456329.25,178542.0,522866.97,886153.0499999999,282056.58,1480572.9,470116.53,776168.1,1444581.27,2727.0,1915197.03,870405.66,174363.84000000003,1436116.14,2262582.81,455755.23,380114.1,839217.24,1488574.53,459122.85,702222.2999999999,1174965.66,1878180.75,577873.71,15516.0,355934.88,130914.0,605246.67,989878.68,91620.0,947693.7,131121.0,1555901.28,372088.53,267313.41,39834.0,246010.95,115722.0,1232884.44,125784.0,364458.06,469075.41,787207.68,21879.0,454708.8,355098.87,1289791.2600000002,259176.51,907069.95,1666201.41,127638.0,408680.82,366056.64,1354683.96,421418.16,890591.04,456271.11,1950818.13,1241363.52,1603736.37,272036.97000000003,158103.0,1545854.31,784359.8099999999,716868.3600000001,602422.1100000001,1046945.34,827800.47,420221.7,66195.0,1111004.37,881705.07,794612.7000000001,1076376.96,1559507.67,464281.47,889293.6,687791.34,1405069.56,1102075.29,637723.08,688646.34,1231035.12,791532.99,45432.0,1033278.84,701465.9400000001,916556.94,909022.5,431819.73,1590184.08,187987.68,605001.96,320793.03,925963.65,1120466.16,665554.77,17928.0,929805.57,1681232.94,313988.4,738619.83,346782.51,1056220.38,18423.0,967890.96,530145.27,1331340.12,105642.0,706120.47,155610.0,2429928.81,1845351.72,870839.3699999999,457544.43,2348573.49,1306074.33,11511.0,912694.32,1018298.07,1697606.19,734230.53,476905.86,94707.0,270553.23,1940807.97,982638.54,160209.0,264040.29,272287.35000000003,1254780.7200000002,2520.0,571571.28,2421909.81,138285.0,1326060.45,909286.38,916302.33,868024.26,2104180.92,465667.02,726913.71,106947.0,790007.04,147830.94,1405128.33,1929850.83,746543.34,1497532.14,690891.1199999999,1216025.64,320757.75,233573.04,2392389.81,1163770.56,704691.72,189363.78,143181.0,478464.21,480748.41,1152124.74,1193029.56,694909.8899999999,1172734.2,576696.4199999999,95328.0,1014869.25,376814.88,1072329.93,1090270.53,694188.1799999999,580963.23,1792772.55,537261.9299999999,574597.26,255561.21,867545.1900000001,1639410.39,161494.56,1019585.7,603855.0,306716.94000000006,100296.0,1476415.71,115263.0,1122924.33,893326.41,926134.65,1021851.63,923356.71,160539.02999999997,417957.21,1360328.94,1234668.2399999998,1736094.33,88897.95,1598127.03,428792.94000000006,1455736.68,780355.08,660372.03,1015369.2,499832.46,44235.0,219714.3,388687.41,1415195.64,302368.68,168264.0,1452453.48,913514.04,354942.72000000003,1472244.12,1915452.18,1562292.81,196197.48,1285896.78,425552.76,23040.0,864059.85,1416866.4899999998,287441.64,1078649.37,1226429.8199999998,217706.76,314151.39,674073.0,439462.26,804092.9400000001,1217275.38,733163.76,1020977.01,1671563.79,1476632.43,1748215.08,696843.72,375108.48,116109.0,595734.21,1484905.23,550062.4500000001,713649.0599999999,284204.34,110034.0,580787.37,945220.5,102645.0,970042.23,273324.87,201974.85,1669569.12,1463610.5100000002,820970.1,779076.99,831781.08,116235.0,110025.0,888965.1900000001,473476.59,189919.98,164340.0,672806.07,22572.0,58824.0,834724.89,1650322.89,489463.56,403513.29,722828.43,583111.62,1253919.5100000002,185958.0,1299405.69,1417820.85,1206335.16,949893.39,969124.05,833792.04,1214387.55,17577.0,712266.75,130221.0,872852.22,1534815.81,65295.0,103331.61000000002,1733096.25,1136594.97,872262.54,380986.65,1055014.11,871947.99,1087837.65,1793149.29,1767979.62,1867605.39,1875491.37,420850.08,179676.0,892883.43,391141.98,402470.73,810212.1300000001,927834.66,926384.85,631856.7000000001,255846.87,50949.0,62559.36,1465654.14,2059525.53,221965.2,565804.89,413532.0,683335.35,283448.97000000003,996865.02,946525.95,1112677.02,1009506.24,765880.65,506331.27,1784986.2,829453.23,838421.73,712841.9400000001,1110737.61,575820.72,749223.09,783070.2000000001,1764469.8,951585.3,645707.7000000001,796241.52,130023.0,1340558.0100000002,349247.61,782954.46,298336.14,465861.42,21006.0,1664282.07,1985032.17,321467.30999999994,1133750.88,65763.0,1511135.64,690923.43,973528.29,764377.02,513744.75,606312.0900000001,526427.37,517406.49,47349.0,669889.4400000001,252040.59,377524.17,1385559.72,1289985.48,26658.0,171189.0,512768.07,633098.8800000001,463685.58,851342.22,114930.0,1676702.16,1437332.22,520853.31,1518904.35,36585.0,686302.1100000001,167859.0,1014049.71,974790.63,803571.39,160254.0,878546.97,496435.95,1502969.04,565291.1699999999,173261.34000000003,1126223.91,965287.89,189315.27,129806.01,164373.30000000002,21735.0,1140371.37,200557.44,897066.09,421067.7,569564.8200000001,34965.0,81612.0,148001.58,705291.93,1018221.57,402087.15,149081.49,772916.1300000001,1234562.67,25551.0,819.0,1699312.5,442112.94000000006,964139.13,932007.15,881475.48,1049925.78,591982.83,795210.1199999999,1176716.07,1458846.27,981843.39,877217.22,865829.8800000001,624520.4400000001,1424188.53,156933.0,1483613.82,27783.0,246540.33,478325.25,551008.4400000001,1412702.1,819363.0599999999,916495.56,1028721.6,1276666.38,1157433.3,601297.5599999999,80901.0,604417.9500000001,24714.0,1575233.73,579872.25,43488.0,986889.78,545304.6,461064.33,1234981.71,1528253.19,715528.89,1059779.88,574524.54,1299063.6,234794.79,1032250.05,897522.66,740358.8099999999,1587340.98,429389.28,1064006.1,1577764.8,1133127.72,1116779.49,785143.53,1051061.85,696421.08,1515335.31,573302.7000000001,971623.8,483108.39,783022.14,904581.63,612550.4400000001,84987.0,1150150.95,1177125.75,1269795.96,718144.3800000001,796108.68,296289.63,1082781.63,884928.51,2206692.45,24624.0,393518.79,1175358.06,419524.92,1017301.77,886926.15,953189.73,935295.84,903433.05,485894.97,299255.30999999994,79002.0,1365679.98,711.0,862222.0499999999,2353581.81,461209.05,530680.86,411425.37,1368338.67,590384.25,807859.89,966725.1,1070655.12,116476.11000000002,145197.0,1293316.29,1958413.14,6003.0,314691.93000000005,661779.0,623628.0,1066706.28,703236.96,446673.24,1585696.05,126621.0,804432.96,1298795.22,757924.5599999999,1023225.12,834278.04,450539.28,520225.74,6048.0,432971.64,1901251.35,1063003.59,734148.9,36549.0,865669.77,1402670.7,506312.64,1401435.09,322585.92000000004,100332.0,241793.19,824998.77,395141.85,2013869.16,1717969.05,1010058.39,1153419.57,298940.76,563061.6,1319135.4,746384.4,113148.0,657772.3800000001,1567855.2600000002,1390065.48,967463.46,948532.05,1459312.65,1021875.03,1363982.4899999998,1249963.38,34533.0,1258183.89,806369.67,1062752.67,1141356.33,523674.72,481211.91,557096.76,174055.94999999998,606686.9400000001,1259024.58,840615.39,588736.62,855613.35,1481860.35,417333.6,339623.10000000003,28314.0,2160007.47,156959.91,226363.41,189445.68,406048.41,398044.53,798244.83,383382.36,1469661.39,1188439.29,440167.32,46917.0,546706.98,1074114.81,795490.5599999999,200341.44,1127233.8,264606.48,123030.0,62703.0,1276081.83,240853.68,1024568.46,816156.72,774052.5599999999,1087202.97,365263.02,1118056.59,315591.75,572950.7999999999,910135.71,144662.49,851971.23,124569.81,1028128.86,107586.0,689932.4400000001,879052.32,1139787.18,1338048.72,153540.0,322963.11,1275284.97,1239976.17,966801.06,738386.46,737376.03,1082867.58,1339763.13,1246374.27,1758071.7,376395.57,964241.28,836715.42,1292173.11,403567.65,42669.0,970267.68,831807.0,1048522.95,758221.29,1106870.58,1288476.0,390405.69000000006,1668450.06,1565334.36,138555.0,886896.0,1004493.24,169503.75,333.0,819995.4,1391006.16,659519.6399999999,147231.0,525466.71,1413019.53,1576801.53,23940.0,708460.83,461673.27,271364.13,758118.6,2355921.81,1226531.61,906881.22,759298.5,568176.66,641089.17,858645.54,769879.89,907555.32,1488196.89,15669.0,1087023.6,440052.57,23355.0,614016.54,719862.75,139707.0,108333.0,257216.94,459406.53,1234138.6800000002,866523.42,925885.8,382773.24,739533.42,892169.3699999999,526320.63,1405199.79,924383.52,1063695.96,776319.75,192816.81,1601373.96,244682.91,1496732.67,1184885.46,221129.46,383794.47,1667869.02,789476.58,4194.0,1715270.7600000002,981742.95,1188200.79,1638304.02,696971.07,732808.53,819178.47,1415092.32,1155259.44,1026457.74,282040.02,282056.04000000004,668704.1399999999,556214.4,147906.0,1073015.73,936762.66,1593211.23,602649.3600000001,124314.12,1150195.86,416532.87,1348839.09,1280712.6,120447.0,45306.0,894207.0599999999,246085.11,258785.82,1194859.35,359392.23,217119.24,43312.68000000001,1177639.47,1167303.24,334111.68000000005,665910.18,1468372.68,341204.94000000006,40469.4,521804.16,727194.96,1128535.38,20808.0,892783.89,756861.66,792968.9400000001,258114.51,298035.18000000005,748901.25,510715.71,1470939.75,130572.0,656615.1599999999,471103.74,789769.4400000001,163609.38,157923.0,1836558.18,1288259.37,1486809.09,170199.0,823090.77,983524.5,684218.16,925893.81,1683472.14,486855.27,790034.67,595593.0900000001,1500302.43,880243.5599999999,125982.0,837959.58,1779249.5100000002,869033.79,1176989.22,1232707.59,815201.1900000001,2367937.5300000003,1100871.72,463302.99,668585.25,367627.86,375494.49,739484.64,229717.53,629032.5,1277648.8199999998,557466.12,111843.0,623305.6199999999,870459.75,1663069.23,1315541.97,773559.99,1007507.34,307293.93000000005,162261.0,2309094.36,196958.97000000003,1502473.86,944803.35,59616.0,521375.85,140362.74,857778.75,965003.4,794672.82,336699.45,325468.17,1600257.33,623041.5599999999,105997.86000000002,1514153.34,980943.12,152452.62,1335834.54,592249.9500000001,1339463.07,1247428.89,749824.92,869694.66,1252902.06,264811.32,1423927.17,333521.81999999995,740873.07,95472.0,335000.52,581859.63,575196.12,827194.41,10260.0,73656.0,736940.34,100815.3,959192.19,1592263.62,1497920.13,518242.86,371512.53,606462.21,446394.87,172791.0,1655528.7600000002,1034378.28,67303.89,708665.1300000001,794529.27,1492450.92,359241.12,605088.0,1018102.05,918018.99,928457.64,1292850.63,582711.12,267443.46,1370192.85,849623.67,1170034.92,281117.16,1160308.98,1175025.51,947485.62,1070531.82,90207.0,402111.18000000005,1196324.55,660484.17,1737311.04,1053645.93,1115551.53,1672552.2600000002,626110.5599999999,993453.57,1745673.3,494097.21,915985.35,940737.42,1107540.9,1373841.45,495253.44000000006,1376379.27,191880.0,746330.67,882969.93,998498.61,37962.0,830205.6300000001,515519.28,161519.4,285319.62,2051749.35,167249.61000000002,438917.4,543915.63,1351850.67,398442.69000000006,8451.0,1318580.0100000002,448923.15,323206.29,153477.0,766974.6900000001,1800873.27,907884.09,1067172.93,439379.82,604732.0499999999,1176052.95,725976.36,1044761.31,1392024.33,141921.0,311500.35000000003,993037.41,367910.64,369627.57,1410193.2600000002,577708.2000000001,1281623.7600000002,53883.0,1131287.22,596762.1,1456399.44,310164.66000000003,566911.89,1417929.93,1446208.83,1361394.9899999998,1270482.93,133686.0,856706.1300000001,1217070.7200000002,681506.5499999999,25623.0,357502.95,1222381.35,1508207.7600000002,753268.0499999999,701853.2999999999,794876.85,638984.52,990358.2,370988.28,1141842.42,969682.32,110313.0,242893.26,691037.9099999999,218546.19,1045632.87,842204.16,769540.14,1200135.2399999998,1179343.71,332149.14,665211.33,1205886.87,1217021.13,667995.03,1280809.35,1530471.5100000002,788488.5599999999,87849.0,1502659.53,1577923.02,914248.26,693025.02,1102314.24,840637.71,451171.53,265791.69,16479.0,227941.11,1895502.24,717075.72,494471.34,1473629.22,649342.26,760631.4,813705.48,38295.0,1255139.37,1305091.35,54639.0,87580.98,1288753.47,855053.91,545372.37,1208969.73,284110.02,512770.77,395868.15,464894.64,511191.18,1675811.43,57627.0,3726.0,85572.0,1196005.59,1142869.05,519451.65,520739.91,249118.65,801003.33,1255825.8,1808144.37,620683.2000000001,147645.0,1767881.25,737947.89,110610.0,828951.57,1180592.2799999998,1130595.93,157535.55000000002,672604.83,1304709.3,1040569.38,1260605.7,355236.93000000005,663702.8400000001,124217.63999999998,883764.4500000001,307548.27,273771.36,2317563.81,716652.99,151983.0,1409006.97,121482.0,806794.02,918389.43,455988.96,274869.99,591931.8899999999,632369.97,1995550.02,613063.53,1535977.35,756931.5,1043818.29,946563.84,1728955.17,1101862.62,1032632.01,1953688.59,377143.74,617830.1100000001,835670.43,1195639.65,616905.8099999999,1467190.62,442912.32,176072.4,1756826.73,228121.92,629101.71,1576919.7,1751159.34,433341.72,959663.79,729274.23,449874.27,1021730.85,671992.74,1187411.4899999998,631871.6399999999,735704.46,652546.98,271558.71,1447106.4,810972.4500000001,1625693.22,435591.9,1699939.62,999639.36,704150.6399999999,776537.91,740261.52,747919.71,1969411.68,1441197.18,297302.4,712814.04,846499.77,534838.3200000001,96315.48,1255781.88,1543702.14,680918.76,811411.5599999999,820282.77,761053.86,373234.86,677480.1300000001,2083283.28,915264.72,423735.03,60552.0,832144.32,577977.5700000001,1871270.73,563310.27,1344173.94,34137.0,1013409.54,1510328.79,1697763.96,1302547.5,2111494.0500000003,1483586.73,1332134.73,249798.96,614011.1399999999,255589.92,1488638.88,976072.32,1494134.46,1352063.52,1043024.76,1062791.55,665964.4500000001,1193773.41,584511.39,267867.36,962716.77,829244.79,165286.80000000002,325699.38,1511455.68,400792.95,748011.78,1361426.4,1216726.11,941476.14,130995.0,781696.7999999999,1639796.31,1614190.95,228321.27,176724.0,195474.42,777493.89,568810.0800000001,46611.0,150714.0,1264268.4300000002,308161.44000000006,1092591.45,1076817.06,919728.54,46179.0,158238.0,2394558.81,158814.0,296577.18000000005,1150887.6,1149418.44,150246.0,839016.0,316866.24,391863.69000000006,943644.87,1521198.0,191612.61,1574265.42,374887.8,656949.0599999999,393132.96,369293.22,717175.08,350065.44000000006,19971.0,1323257.7600000002,450615.06,1369647.63,238497.93,905054.4,289544.31,543043.35,59904.0,831400.29,500247.72,399067.65,1175138.37,508769.19000000006,1150689.96,894178.17,489443.76,470945.61,743627.7000000001,664418.43,101853.63,338358.51,1156583.52,1268548.11,533171.97,1360653.03,1368245.34,1448310.42,686720.52,1018250.64,1403769.33,79936.82999999999,8910.0,2048201.64,880597.7999999999,484063.74,173616.21,483271.38,494606.52,583093.35,960928.02,943859.7,681289.92,109251.0,853155.4500000001,2110166.46,847708.83,640952.28,705733.29,1970704.62,778863.96,828966.6900000001,1652523.75,2302339.77,145715.04,742623.1199999999,116389.8,282713.85000000003,1034372.43,1531977.75,856815.39,642327.1199999999,838954.53,13428.0,286245.09,254380.23,822349.7999999999,722044.98,504150.48,1460624.22,233705.79,274016.07,934378.29,769579.83,51975.0,689838.21,546317.46,1232806.3199999998,1154368.71,454006.35,1265937.48,1132521.66,593505.4500000001,1853372.88,512750.52,609529.9500000001,1217355.9300000002,1015044.75,783756.8099999999,49725.0,327523.05,181366.29,893514.6,726964.92,139689.0,685463.4,1048232.52,385190.55,338923.89,1897888.41,850066.02,1195894.71,1692251.37,1243792.2600000002,504667.98,452690.28,1548502.92,720871.1100000001,695829.0599999999,651941.1,13779.0,1708989.12,1045625.94,197794.35,55926.0,890711.64,10404.0,1395123.75,493105.68,1050231.15,1493537.4,1144469.07,814554.4500000001,1200221.19,944313.48,984670.74,1454212.53,1110687.75,1366297.2,97992.0,570362.22,1128723.57,81972.0,950457.06,222209.28,796926.0599999999,1394407.53,1329516.0,557658.1799999999,924361.29,672925.5,544618.89,62973.0,226010.34000000003,1207853.46,748826.3699999999,1020101.58,869305.5,96282.0,259655.49,696380.04,162685.52999999997,1297382.4,452586.69000000006,892807.74,1488864.87,204470.19,90612.0,213950.79,1430402.13,620620.74,1134887.13,409535.46,819616.5,439683.3,932849.37,1580888.88,718041.78,1151620.47,978017.94,1204748.8199999998,26370.0,957616.02,235163.34,1632926.88,613332.8099999999,1367883.0,874214.01,102447.0,203032.62,989843.58,1274948.8199999998,1165959.27,232597.35,824660.91,756873.9,994314.33,338998.77,1153921.68,1756518.12,2362372.38,1447627.68,199052.01,964166.4,277756.29000000004,107244.0,589067.73,546272.91,694166.3099999999,876545.28,1405717.02,39195.0,683116.5599999999,129555.0,771559.92,1443686.85,633321.36,1218915.9,935756.91,406121.76,1172128.23,637143.9299999999,1072785.69,1714933.71,179366.76,781197.84,360350.28,482473.53,274652.19,2022323.13,1604143.62,88029.0,73044.0,794937.96,590306.3099999999,1296651.2399999998,930985.56,21015.0,885397.0499999999,377608.5,713096.6399999999,1323281.7,142686.0,763647.48,607320.27,157259.34000000003,190941.03,272635.38,907751.07,795168.8099999999,1721395.35,453275.37,349099.65,1379499.93,733828.86,302045.13,968238.99,1480832.82,63414.0,120735.0,996559.2,906903.36,829141.47,630871.92,374373.72,515320.92,1739982.33,254391.39,324612.27,403858.44000000006,892978.3800000001,860821.65,991283.22,497275.74,635165.91,48411.0,153819.0,562175.46,922589.46,854155.6199999999,730157.22,110151.0,317083.5,972927.54,2105691.48,438754.41,1950873.12,546120.63,2196047.88,1204326.54,976934.7,153441.0,1129965.57,424027.98,892924.83,1150549.92,701982.72,264553.11,670123.89,58149.0,989140.14,978864.93,2070399.6,96543.0,681778.7999999999,1593023.85,328775.67000000004,835708.32,1785219.12,1494683.37,795867.57,277745.22000000003,123377.94,815452.92,1080433.89,1234844.0100000002,1483329.06,1062920.43,612779.9400000001,125532.0,1053574.65,306943.74,901151.28,1071834.75,1748714.58,924347.25,1058871.42,696289.14,217757.07,586838.16,1313562.06,2151102.15,866790.6300000001,997823.43,420970.86,996258.96,155877.21,1395495.9899999998,718620.03,376706.79,292973.4,474994.35,1237251.7799999998,1680973.11,501524.64,1266820.4700000002,3609.0,868611.6900000001,728464.0499999999,347875.11,99024.03,1252318.77,23958.0,73026.0,593705.4299999999,808755.21,398320.56,986209.11,11682.0,497729.97,45929.52,1149138.0,1764241.47,1283535.9899999998,96696.0,925058.43,46323.0,1318391.91,276070.23,1045313.91,167378.76,989228.79,778970.97,45576.0,940265.73,1248080.4899999998,896893.74,118728.0,1065956.94,1234488.15,768404.61,816555.42,203729.76,1034635.41,710994.51,875653.83,1160439.57,762128.01,464228.1,154539.0,788088.96,1011701.25,174456.0,329915.97000000003,911714.22,1161912.06,633030.75,720801.9,48069.0,812180.07,66969.0,1831800.87,796593.42,1243290.96,494542.71,91860.03,46671.39,598439.79,113544.0,159818.76,17397.0,240611.76,1372077.09,706514.1300000001,616236.8400000001,995018.94,1796357.34,88533.0,1370840.67,191782.89,1318276.2600000002,256848.66,988896.15,876236.22,986434.74,1067802.03,792845.1900000001,1216237.05,1057955.58,999281.61,385332.39,1008259.47,285065.73,1508521.95,1392711.3,635151.8699999999,124245.0,1361527.83,801309.78,876785.1300000001,1180784.88,222054.66,575161.11,583750.71,1610310.5100000002,967438.26,1145685.78,2091314.07,1421413.47,1049633.55,1010329.29,801332.1900000001,920268.54,1516439.61,763127.5499999999,69993.0,1142484.39,516301.29,1119464.19,1163500.56,764138.25,825456.42,96957.0,1181706.84,70092.0,1188720.54,175581.0,987165.63,888908.9400000001,172411.11000000002,659289.78,420766.65,503830.8,697860.8099999999,356999.85000000003,678164.67,10044.0,1754440.83,1028951.37,1416873.42,681609.96,593064.9,579541.9500000001,522696.6,474010.56,732793.3200000001,130896.0,507064.68,1311722.91,67131.0,762918.84,911714.76,1371757.05,243360.45,1861840.26,1303800.21,90873.0,1065769.29,43245.0,310344.3,2436615.81,932209.65,1006895.79,486406.44000000006,1055302.29,959294.34,635637.24,1547519.04,104391.0,1802395.98,577007.37,81202.5,169425.0,1330605.81,57915.0,678744.27,730279.17,683890.83,163358.19,1009113.48,626815.35,97731.0,170073.0,1124793.99,95697.63,551130.21,545475.78,1194549.21,818388.09,1462585.77,175140.0,471017.61,1275812.8199999998,675366.21,975916.44,576946.1699999999,818487.54,294499.62,1056838.5,1179239.4,356535.45,828741.78,152694.0,1356318.0,1353342.87,1006285.86,410804.55,451683.81,125550.0,548562.6900000001,738589.68,739865.97,770421.8699999999,521645.4,809417.16,676580.9400000001,582206.76,1212418.08,249704.01,729031.86,179604.0,2010583.71,1704511.35,937347.21,1852638.03,980873.1,655329.96,655825.68,711059.1300000001,726203.4299999999,581534.1,1546731.0,672849.4500000001,1496949.66,1729327.95,265481.73,627965.01,832595.04,82863.0,1747467.54,1909242.72,818834.85,1048997.97,199747.35,71577.0,213857.1,460139.13,2180047.59,1458114.3,734210.3699999999,1297056.87,1561503.15,1563241.86,51570.0,137817.0,733515.03,1732541.58,45616.41,331637.4,527350.6799999999,1103910.3,1186425.81,452841.75,385167.24,673528.14,408713.4,1312708.86,823458.42,1462715.0100000002,399598.38,384048.36,660772.71,131283.0,139703.22,353552.76,1330648.29,850341.6,132840.0,1263590.64,898680.33,504759.24,1327735.2600000002,1259668.08,105510.15,485283.51,476545.77,741101.85,785056.23,570824.1900000001,540552.51,33705.0,136258.19999999998,1481708.88,937866.78,333294.3,1425068.91,18747.0,972739.62,45909.0,538898.6699999999,47079.0,111357.0,1384385.94,239534.37,494278.2,688198.3200000001,1373014.62,809317.98,330106.5,1491028.7399999998,549151.47,940753.8,1189583.19,710837.73,1805916.33,728459.28,691241.49,198125.73,1225242.63,1024382.07,1132538.49,1433669.04,619765.5599999999,740645.73,94500.0,1599105.15,1707144.84,254558.43,179890.02,1163163.33,1367236.17,12492.0,876429.09,513620.01,254652.48,691061.49,1818294.66,607794.6599999999,453029.76,717433.83,207897.75,96183.0,130383.0,438180.3,710814.15,1442782.89,92853.0,10737.0,686056.23,836267.1300000001,1143941.04,568776.78,1719186.12,998498.34,466545.24,559804.6799999999,10584.0,73665.0,359297.37,1414299.87,724724.28,30231.0,1416019.95,1298644.92,1418257.8,129545.63999999998,538653.51,1064099.16,1513857.5100000002,595205.73,139572.0,91647.0,927877.41,297391.86,194592.69,873077.1300000001,1600872.39,63612.0,1594788.03,1077542.46,875728.17,1546504.65,472205.52,643370.67,112563.0,1651258.71,945297.9,192080.79,99333.0,1807806.96,371114.01,146313.0,759277.35,474845.49,1714723.7399999998,1000799.01,109116.0,648783.6300000001,40513.68000000001,1003982.13,321404.58,1033363.71,323307.0,99324.0,2262083.76,793865.16,1041628.86,571454.5499999999,95247.0,757452.6900000001,270707.4,973171.8,176625.0,946486.62,64278.0,1400758.83,1052322.75,649817.6399999999,821090.07,303167.16000000003,117549.0,473722.2,518728.23,1138419.36,71928.0,540975.4199999999,1134554.58,158782.77,1563709.23,336722.49,805167.8099999999,624294.0900000001,1066542.57,1060643.07,912813.66,528177.15,809793.0,1276742.43,350397.63,277468.02,295073.19000000006,22086.0,159957.0,349789.59,1299719.79,1151156.88,724075.11,145998.0,1260995.4,1191490.56,1405777.5,1060098.84,500896.8,208732.95,552988.4400000001,548176.77,523531.89,1782547.7399999998,328886.19000000006,162819.63,1246157.2799999998,871078.86,109917.0,674574.57,169885.08000000002,332586.27,1736501.7600000002,1077613.56,167823.0,533997.36,586724.3099999999,644183.28,35010.0,2289493.89,952143.21,863953.2000000001,20547.0,390200.13,1193911.38,222255.36,498005.19000000006,842354.82,1800888.84,1100984.94,248533.29,2907.0,766177.5599999999,944050.86,1503834.93,898739.1900000001,257587.92,109548.0,414154.71,1281896.19,29610.0,716268.8699999999,1663666.38,221038.92,1459335.15,631283.1300000001,1050551.73,335272.77,1419819.21,1117544.76,1096030.17,1361724.21,623113.1100000001,391353.3,1328608.35,155254.05000000002,1467912.15,629495.8200000001,652302.8099999999,512436.42,1076041.44,835717.0499999999,660746.07,1104530.49,1003172.4,840182.4,1099282.86,836028.0,628381.4400000001,389597.58,602058.15,436125.87,601557.48,405992.52,320472.72000000003,1383726.5100000002,7713.0,217699.2,281492.10000000003,574494.75,877212.6300000001,328925.34,358625.16000000003,1239204.5100000002,507607.74,623491.5599999999,744202.53,1595645.1,999419.4,963518.4,1830589.56,75996.0,664997.49,951548.22,484122.51,497084.76,913673.34,156059.19,1368662.4,823014.99,573721.47,1064662.56,487710.81,761372.91,1469763.0,75033.0,1086941.79,2003978.7,827006.85,1264620.96,755650.35,107892.0,1565375.94,33822.0,1273035.6,1104916.14,871730.1,536745.51,1231584.84,1588558.05,1126127.16,1010652.12,124929.36000000002,1698153.12,1233766.44,1076606.01,99873.0,1065714.57,432221.31,1031729.04,854107.02,850150.71,739565.46,1745936.19,787498.5599999999,1051293.87,44451.0,797470.02,726110.73,325728.80999999994,146520.0,1149989.13,586709.28,244614.06,1450843.56,391782.33,384444.54,61074.0,62316.0,1615235.7600000002,820196.1900000001,523107.09,1087749.54,76599.0,255748.41,327187.71,616806.9,793771.2000000001,480681.18,1287852.12,265172.85000000003,720029.79,351257.94000000006,106920.0,1434226.23,457176.06,598768.2000000001,1395975.06,451949.85,1637819.28,1067895.36,242665.56,315205.11,1007479.89,170085.41999999998,364148.46,1341920.61,1280663.91,607196.3400000001,572261.3099999999,1018535.22,132878.43,735218.64,126198.0,1002064.14,112374.0,6453.0,1461257.46,710317.7999999999,833991.84,1049113.35,305580.60000000003,1433519.64,1523351.97,1361749.32,698536.53,35865.0,1094915.7,998837.28,221669.37,891826.74,514472.22,967905.54,1416757.59,44793.0,1130559.57,855965.07,118260.0,176229.0,1028623.68,1641463.29,1150220.34,128556.0,391131.27,1211424.21,968784.03,1258984.5299999998,1080926.46,576151.5599999999,936721.26,745799.58,362972.34,1331953.2,1525285.62,1105400.97,773948.79,1117490.4,882308.43,930783.87,668327.22,1281166.2,986127.39,797972.22,1531342.8,174339.44999999998,2210365.35,161475.48,2181545.01,709670.97,585027.1799999999,174492.0,2028677.04,1357520.94,1000242.09,592122.24,568359.09,373040.82,1744602.12,1024833.87,1295099.1,1727426.34,1097334.81,1758005.64,240845.4,157455.0,1106256.51,1411882.29,1387278.9,17613.0,998311.14,1034470.35,324623.52,808596.6300000001,566635.41,1201439.88,849722.9400000001,296646.93000000005,529171.02,94050.0,110472.93,43767.0,1141194.15,1479014.55,1287540.9899999998,300007.08,1095545.52,1554493.5,861269.76,86067.0,745635.42,385797.69000000006,498324.6,1596161.97,2394.0,618869.7000000001,4104.0,464007.69000000006,948315.6,174303.0,1188430.11,95797.8,1052453.25,157634.90999999997,416510.55,945631.98,846529.83,982206.72,1260069.3,1050945.39,107181.0,887950.08,143055.0,9783.0,762466.77,2135133.99,1086568.47,428851.08,1217968.29,93753.0,145692.0,682153.47,548414.8200000001,624635.3699999999,1133847.99,1256135.94,313985.43000000005,1082658.24,425952.54,1188425.0699999998,162468.0,1246671.09,463398.84,1465087.14,850198.77,586746.72,603092.25,784546.29,44802.0,1477845.54,1224066.2399999998,502938.72,732369.24,705196.98,1158647.94,896516.46,1312903.2600000002,657184.1399999999,27801.0,179568.0,763032.51,1861219.71,327109.77,2241887.67,572792.76,1513073.34,705858.9299999999,129303.0,1990123.65,1456552.44,319062.87,1510059.87,42786.0,528030.4500000001,137493.0,1297042.02,803616.21,620198.73,2158461.81,655465.4099999999,582397.74,1340320.41,1440220.86,750951.72,119565.0,762369.66,1981791.63,13419.0,1159964.01,1270556.2799999998,1014284.97,1427911.29,426745.35,253487.7,517321.17,1406337.84,721160.1900000001,55188.0,586482.2999999999,441754.92,1008041.04,1002511.26,158940.0,535778.64,1819556.46,225719.19,178818.12,441250.02,938267.73,1395758.79,153921.15,1258375.6800000002,632930.49,954187.47,922854.96,1765553.31,1734089.4899999998,140481.0,1790952.57,44613.0,1431742.59,1355793.21,1047361.95,12195.0,537237.54,752611.4099999999,1065116.25,254058.93,1565612.46,141722.91,700257.0599999999,213085.35,831931.5599999999,711999.3600000001,1145741.67,1513105.38,1484666.0100000002,72585.0,470646.18,948795.39,622945.6199999999,5958.0,356312.43000000005,1116741.87,33453.0,622181.0700000001,1137667.41,1923414.48,519685.56,703055.61,762103.4400000001,80151.3,825309.8099999999,134010.0,867128.49,816174.4500000001,578147.85,1114331.85,1245696.66,837503.5499999999,89208.0,10908.0,663837.66,1069800.21,768550.14,1412425.17,741425.9400000001,584902.7999999999,424772.28,1855220.04,1386120.78,143676.0,7920.0,1364477.58,1045749.51,405814.41,2061283.95,8865.0,1200727.44,1149050.52,1274500.2600000002,775052.1,380277.9,940819.5,1195864.7399999998,874310.49,2065635.63,974755.89,628268.9400000001,130536.0,346400.82,659439.4500000001,433043.01,81945.0,1043357.4,260086.14,1229461.7399999998,437142.87,1409589.09,611745.3899999999,720374.85,494786.7,216724.32,343426.14,753927.2999999999,1488113.82,1139517.54,63.0,488073.96,750496.5,299687.85000000003,575031.87,1227662.1,597736.26,760041.0900000001,1058214.42,657547.65,1864267.65,20340.0,68517.0,1692494.0100000002,1008500.22,347921.46,253609.74,1631390.4,607814.28,267319.08,762296.49,710186.9400000001,634704.39,102159.0,1015097.22,692103.24,376520.22,226988.19,618150.42,433449.99,585922.14,889187.04,1449908.1,1071277.38,9930.870000000004,170906.04,599230.6199999999,191096.55,920911.68,747055.26,479050.2,973346.31,733945.23,1818228.42,240436.26,785257.92,1089048.24,711591.75,675592.3800000001,286927.11,590135.49,324169.47000000003,725933.34,902444.04,797298.03,1147718.97,568406.7000000001,364588.47,974391.75,37348.11,596286.54,979298.19,826947.27],\"xaxis\":\"x2\",\"yaxis\":\"y2\",\"type\":\"box\"}],                        {\"template\":{\"data\":{\"bar\":[{\"error_x\":{\"color\":\"#2a3f5f\"},\"error_y\":{\"color\":\"#2a3f5f\"},\"marker\":{\"line\":{\"color\":\"#E5ECF6\",\"width\":0.5},\"pattern\":{\"fillmode\":\"overlay\",\"size\":10,\"solidity\":0.2}},\"type\":\"bar\"}],\"barpolar\":[{\"marker\":{\"line\":{\"color\":\"#E5ECF6\",\"width\":0.5},\"pattern\":{\"fillmode\":\"overlay\",\"size\":10,\"solidity\":0.2}},\"type\":\"barpolar\"}],\"carpet\":[{\"aaxis\":{\"endlinecolor\":\"#2a3f5f\",\"gridcolor\":\"white\",\"linecolor\":\"white\",\"minorgridcolor\":\"white\",\"startlinecolor\":\"#2a3f5f\"},\"baxis\":{\"endlinecolor\":\"#2a3f5f\",\"gridcolor\":\"white\",\"linecolor\":\"white\",\"minorgridcolor\":\"white\",\"startlinecolor\":\"#2a3f5f\"},\"type\":\"carpet\"}],\"choropleth\":[{\"colorbar\":{\"outlinewidth\":0,\"ticks\":\"\"},\"type\":\"choropleth\"}],\"contour\":[{\"colorbar\":{\"outlinewidth\":0,\"ticks\":\"\"},\"colorscale\":[[0.0,\"#0d0887\"],[0.1111111111111111,\"#46039f\"],[0.2222222222222222,\"#7201a8\"],[0.3333333333333333,\"#9c179e\"],[0.4444444444444444,\"#bd3786\"],[0.5555555555555556,\"#d8576b\"],[0.6666666666666666,\"#ed7953\"],[0.7777777777777778,\"#fb9f3a\"],[0.8888888888888888,\"#fdca26\"],[1.0,\"#f0f921\"]],\"type\":\"contour\"}],\"contourcarpet\":[{\"colorbar\":{\"outlinewidth\":0,\"ticks\":\"\"},\"type\":\"contourcarpet\"}],\"heatmap\":[{\"colorbar\":{\"outlinewidth\":0,\"ticks\":\"\"},\"colorscale\":[[0.0,\"#0d0887\"],[0.1111111111111111,\"#46039f\"],[0.2222222222222222,\"#7201a8\"],[0.3333333333333333,\"#9c179e\"],[0.4444444444444444,\"#bd3786\"],[0.5555555555555556,\"#d8576b\"],[0.6666666666666666,\"#ed7953\"],[0.7777777777777778,\"#fb9f3a\"],[0.8888888888888888,\"#fdca26\"],[1.0,\"#f0f921\"]],\"type\":\"heatmap\"}],\"heatmapgl\":[{\"colorbar\":{\"outlinewidth\":0,\"ticks\":\"\"},\"colorscale\":[[0.0,\"#0d0887\"],[0.1111111111111111,\"#46039f\"],[0.2222222222222222,\"#7201a8\"],[0.3333333333333333,\"#9c179e\"],[0.4444444444444444,\"#bd3786\"],[0.5555555555555556,\"#d8576b\"],[0.6666666666666666,\"#ed7953\"],[0.7777777777777778,\"#fb9f3a\"],[0.8888888888888888,\"#fdca26\"],[1.0,\"#f0f921\"]],\"type\":\"heatmapgl\"}],\"histogram\":[{\"marker\":{\"pattern\":{\"fillmode\":\"overlay\",\"size\":10,\"solidity\":0.2}},\"type\":\"histogram\"}],\"histogram2d\":[{\"colorbar\":{\"outlinewidth\":0,\"ticks\":\"\"},\"colorscale\":[[0.0,\"#0d0887\"],[0.1111111111111111,\"#46039f\"],[0.2222222222222222,\"#7201a8\"],[0.3333333333333333,\"#9c179e\"],[0.4444444444444444,\"#bd3786\"],[0.5555555555555556,\"#d8576b\"],[0.6666666666666666,\"#ed7953\"],[0.7777777777777778,\"#fb9f3a\"],[0.8888888888888888,\"#fdca26\"],[1.0,\"#f0f921\"]],\"type\":\"histogram2d\"}],\"histogram2dcontour\":[{\"colorbar\":{\"outlinewidth\":0,\"ticks\":\"\"},\"colorscale\":[[0.0,\"#0d0887\"],[0.1111111111111111,\"#46039f\"],[0.2222222222222222,\"#7201a8\"],[0.3333333333333333,\"#9c179e\"],[0.4444444444444444,\"#bd3786\"],[0.5555555555555556,\"#d8576b\"],[0.6666666666666666,\"#ed7953\"],[0.7777777777777778,\"#fb9f3a\"],[0.8888888888888888,\"#fdca26\"],[1.0,\"#f0f921\"]],\"type\":\"histogram2dcontour\"}],\"mesh3d\":[{\"colorbar\":{\"outlinewidth\":0,\"ticks\":\"\"},\"type\":\"mesh3d\"}],\"parcoords\":[{\"line\":{\"colorbar\":{\"outlinewidth\":0,\"ticks\":\"\"}},\"type\":\"parcoords\"}],\"pie\":[{\"automargin\":true,\"type\":\"pie\"}],\"scatter\":[{\"marker\":{\"colorbar\":{\"outlinewidth\":0,\"ticks\":\"\"}},\"type\":\"scatter\"}],\"scatter3d\":[{\"line\":{\"colorbar\":{\"outlinewidth\":0,\"ticks\":\"\"}},\"marker\":{\"colorbar\":{\"outlinewidth\":0,\"ticks\":\"\"}},\"type\":\"scatter3d\"}],\"scattercarpet\":[{\"marker\":{\"colorbar\":{\"outlinewidth\":0,\"ticks\":\"\"}},\"type\":\"scattercarpet\"}],\"scattergeo\":[{\"marker\":{\"colorbar\":{\"outlinewidth\":0,\"ticks\":\"\"}},\"type\":\"scattergeo\"}],\"scattergl\":[{\"marker\":{\"colorbar\":{\"outlinewidth\":0,\"ticks\":\"\"}},\"type\":\"scattergl\"}],\"scattermapbox\":[{\"marker\":{\"colorbar\":{\"outlinewidth\":0,\"ticks\":\"\"}},\"type\":\"scattermapbox\"}],\"scatterpolar\":[{\"marker\":{\"colorbar\":{\"outlinewidth\":0,\"ticks\":\"\"}},\"type\":\"scatterpolar\"}],\"scatterpolargl\":[{\"marker\":{\"colorbar\":{\"outlinewidth\":0,\"ticks\":\"\"}},\"type\":\"scatterpolargl\"}],\"scatterternary\":[{\"marker\":{\"colorbar\":{\"outlinewidth\":0,\"ticks\":\"\"}},\"type\":\"scatterternary\"}],\"surface\":[{\"colorbar\":{\"outlinewidth\":0,\"ticks\":\"\"},\"colorscale\":[[0.0,\"#0d0887\"],[0.1111111111111111,\"#46039f\"],[0.2222222222222222,\"#7201a8\"],[0.3333333333333333,\"#9c179e\"],[0.4444444444444444,\"#bd3786\"],[0.5555555555555556,\"#d8576b\"],[0.6666666666666666,\"#ed7953\"],[0.7777777777777778,\"#fb9f3a\"],[0.8888888888888888,\"#fdca26\"],[1.0,\"#f0f921\"]],\"type\":\"surface\"}],\"table\":[{\"cells\":{\"fill\":{\"color\":\"#EBF0F8\"},\"line\":{\"color\":\"white\"}},\"header\":{\"fill\":{\"color\":\"#C8D4E3\"},\"line\":{\"color\":\"white\"}},\"type\":\"table\"}]},\"layout\":{\"annotationdefaults\":{\"arrowcolor\":\"#2a3f5f\",\"arrowhead\":0,\"arrowwidth\":1},\"autotypenumbers\":\"strict\",\"coloraxis\":{\"colorbar\":{\"outlinewidth\":0,\"ticks\":\"\"}},\"colorscale\":{\"diverging\":[[0,\"#8e0152\"],[0.1,\"#c51b7d\"],[0.2,\"#de77ae\"],[0.3,\"#f1b6da\"],[0.4,\"#fde0ef\"],[0.5,\"#f7f7f7\"],[0.6,\"#e6f5d0\"],[0.7,\"#b8e186\"],[0.8,\"#7fbc41\"],[0.9,\"#4d9221\"],[1,\"#276419\"]],\"sequential\":[[0.0,\"#0d0887\"],[0.1111111111111111,\"#46039f\"],[0.2222222222222222,\"#7201a8\"],[0.3333333333333333,\"#9c179e\"],[0.4444444444444444,\"#bd3786\"],[0.5555555555555556,\"#d8576b\"],[0.6666666666666666,\"#ed7953\"],[0.7777777777777778,\"#fb9f3a\"],[0.8888888888888888,\"#fdca26\"],[1.0,\"#f0f921\"]],\"sequentialminus\":[[0.0,\"#0d0887\"],[0.1111111111111111,\"#46039f\"],[0.2222222222222222,\"#7201a8\"],[0.3333333333333333,\"#9c179e\"],[0.4444444444444444,\"#bd3786\"],[0.5555555555555556,\"#d8576b\"],[0.6666666666666666,\"#ed7953\"],[0.7777777777777778,\"#fb9f3a\"],[0.8888888888888888,\"#fdca26\"],[1.0,\"#f0f921\"]]},\"colorway\":[\"#636efa\",\"#EF553B\",\"#00cc96\",\"#ab63fa\",\"#FFA15A\",\"#19d3f3\",\"#FF6692\",\"#B6E880\",\"#FF97FF\",\"#FECB52\"],\"font\":{\"color\":\"#2a3f5f\"},\"geo\":{\"bgcolor\":\"white\",\"lakecolor\":\"white\",\"landcolor\":\"#E5ECF6\",\"showlakes\":true,\"showland\":true,\"subunitcolor\":\"white\"},\"hoverlabel\":{\"align\":\"left\"},\"hovermode\":\"closest\",\"mapbox\":{\"style\":\"light\"},\"paper_bgcolor\":\"white\",\"plot_bgcolor\":\"#E5ECF6\",\"polar\":{\"angularaxis\":{\"gridcolor\":\"white\",\"linecolor\":\"white\",\"ticks\":\"\"},\"bgcolor\":\"#E5ECF6\",\"radialaxis\":{\"gridcolor\":\"white\",\"linecolor\":\"white\",\"ticks\":\"\"}},\"scene\":{\"xaxis\":{\"backgroundcolor\":\"#E5ECF6\",\"gridcolor\":\"white\",\"gridwidth\":2,\"linecolor\":\"white\",\"showbackground\":true,\"ticks\":\"\",\"zerolinecolor\":\"white\"},\"yaxis\":{\"backgroundcolor\":\"#E5ECF6\",\"gridcolor\":\"white\",\"gridwidth\":2,\"linecolor\":\"white\",\"showbackground\":true,\"ticks\":\"\",\"zerolinecolor\":\"white\"},\"zaxis\":{\"backgroundcolor\":\"#E5ECF6\",\"gridcolor\":\"white\",\"gridwidth\":2,\"linecolor\":\"white\",\"showbackground\":true,\"ticks\":\"\",\"zerolinecolor\":\"white\"}},\"shapedefaults\":{\"line\":{\"color\":\"#2a3f5f\"}},\"ternary\":{\"aaxis\":{\"gridcolor\":\"white\",\"linecolor\":\"white\",\"ticks\":\"\"},\"baxis\":{\"gridcolor\":\"white\",\"linecolor\":\"white\",\"ticks\":\"\"},\"bgcolor\":\"#E5ECF6\",\"caxis\":{\"gridcolor\":\"white\",\"linecolor\":\"white\",\"ticks\":\"\"}},\"title\":{\"x\":0.05},\"xaxis\":{\"automargin\":true,\"gridcolor\":\"white\",\"linecolor\":\"white\",\"ticks\":\"\",\"title\":{\"standoff\":15},\"zerolinecolor\":\"white\",\"zerolinewidth\":2},\"yaxis\":{\"automargin\":true,\"gridcolor\":\"white\",\"linecolor\":\"white\",\"ticks\":\"\",\"title\":{\"standoff\":15},\"zerolinecolor\":\"white\",\"zerolinewidth\":2}}},\"xaxis\":{\"anchor\":\"y\",\"domain\":[0.0,1.0],\"title\":{\"text\":\"Balance\"}},\"yaxis\":{\"anchor\":\"x\",\"domain\":[0.0,0.7326],\"title\":{\"text\":\"count\"}},\"xaxis2\":{\"anchor\":\"y2\",\"domain\":[0.0,1.0],\"matches\":\"x\",\"showticklabels\":false,\"showgrid\":true},\"yaxis2\":{\"anchor\":\"x2\",\"domain\":[0.7426,1.0],\"matches\":\"y2\",\"showticklabels\":false,\"showline\":false,\"ticks\":\"\",\"showgrid\":false},\"legend\":{\"title\":{\"text\":\"Is_Churn\"},\"tracegroupgap\":0},\"title\":{\"text\":\"Balance vs Is_Churn \"},\"barmode\":\"relative\",\"height\":550,\"width\":800},                        {\"responsive\": true}                    ).then(function(){\n",
              "                            \n",
              "var gd = document.getElementById('d5941ea2-0943-47e7-acc8-ecbe4ea6e3ca');\n",
              "var x = new MutationObserver(function (mutations, observer) {{\n",
              "        var display = window.getComputedStyle(gd).display;\n",
              "        if (!display || display === 'none') {{\n",
              "            console.log([gd, 'removed!']);\n",
              "            Plotly.purge(gd);\n",
              "            observer.disconnect();\n",
              "        }}\n",
              "}});\n",
              "\n",
              "// Listen for the removal of the full notebook cells\n",
              "var notebookContainer = gd.closest('#notebook-container');\n",
              "if (notebookContainer) {{\n",
              "    x.observe(notebookContainer, {childList: true});\n",
              "}}\n",
              "\n",
              "// Listen for the clearing of the current output cell\n",
              "var outputEl = gd.closest('.output');\n",
              "if (outputEl) {{\n",
              "    x.observe(outputEl, {childList: true});\n",
              "}}\n",
              "\n",
              "                        })                };                            </script>        </div>\n",
              "</body>\n",
              "</html>"
            ]
          },
          "metadata": {}
        }
      ]
    },
    {
      "cell_type": "code",
      "source": [
        "### correlation between independent varibles\n",
        "mask = np.zeros_like(train_df.corr(), dtype=np.bool)\n",
        "mask[np.triu_indices_from(mask)] = True\n",
        "plt.figure(figsize=(10,10))\n",
        "Corr = train_df\n",
        "colormap = plt.cm.magma\n",
        "plt.title('HeatMap to show Correlation between Base Stats', y=1.05, size=15)\n",
        "sns.heatmap(Corr.corr(),linewidths=0.1,vmax=1, square=True, cmap=colormap, linecolor='white', annot=True,mask=mask)"
      ],
      "metadata": {
        "colab": {
          "base_uri": "https://localhost:8080/",
          "height": 648
        },
        "id": "fn1DB3-59SNG",
        "outputId": "078e69bd-8632-4de5-ad81-16f7897d2abe"
      },
      "execution_count": null,
      "outputs": [
        {
          "output_type": "execute_result",
          "data": {
            "text/plain": [
              "<matplotlib.axes._subplots.AxesSubplot at 0x7fb849609550>"
            ]
          },
          "metadata": {},
          "execution_count": 215
        },
        {
          "output_type": "display_data",
          "data": {
            "text/plain": [
              "<Figure size 720x720 with 2 Axes>"
            ],
            "image/png": "[encoded data removed]"
          },
          "metadata": {
            "needs_background": "light"
          }
        }
      ]
    },
    {
      "cell_type": "markdown",
      "source": [
        "### **Outliers Removel**"
      ],
      "metadata": {
        "id": "L2Dxo5h24znl"
      }
    },
    {
      "cell_type": "markdown",
      "source": [
        "Both the Age and Balance column contains outliers. In order to remove the outliers in the age columns performing the binning for both the train and test dataset"
      ],
      "metadata": {
        "id": "wS9_fpEb5L9U"
      }
    },
    {
      "cell_type": "code",
      "source": [
        "### Performing binning and converting the age column into 10 discrete buckets\n",
        "train_df['Age_catagory'] = pd.cut(x=train_df['Age'], bins=[1, 25, 30, 35, 40,45,50,55,60,65,80],\n",
        "                     labels=['lessthan_25', '26-30','31-35','36-40','41 to 45','46-50','51-55','56-60',\n",
        "                           '61-65'  ,'greaterthan_66'])\n",
        "\n",
        "### Performing same actions on test data\n",
        "test_df['Age_catagory'] = pd.cut(x=test_df['Age'] , bins=[1, 25, 30, 35, 40,45,50,55,60,65,80],\n",
        "                     labels=['lessthan_25', '26-30','31-35','36-40','41 to 45','46-50','51-55','56-60',\n",
        "                           '61-65'  ,'greaterthan_66'])"
      ],
      "metadata": {
        "id": "1S5e444K31xH"
      },
      "execution_count": null,
      "outputs": []
    },
    {
      "cell_type": "code",
      "source": [
        "train_df['Age_catagory'].dtype"
      ],
      "metadata": {
        "colab": {
          "base_uri": "https://localhost:8080/"
        },
        "id": "P1J4QbJE7DJm",
        "outputId": "13419300-7f70-4295-8cc8-300bc69f7a29"
      },
      "execution_count": null,
      "outputs": [
        {
          "output_type": "execute_result",
          "data": {
            "text/plain": [
              "CategoricalDtype(categories=['lessthan_25', '26-30', '31-35', '36-40', '41 to 45',\n",
              "                  '46-50', '51-55', '56-60', '61-65', 'greaterthan_66'],\n",
              ", ordered=True)"
            ]
          },
          "metadata": {},
          "execution_count": 217
        }
      ]
    },
    {
      "cell_type": "code",
      "source": [
        "### converting data type of newly created Age_catagory column\n",
        "train_df['Age_catagory'] = train_df['Age_catagory'].astype('object')\n",
        "test_df['Age_catagory']  = test_df['Age_catagory'] .astype('object')"
      ],
      "metadata": {
        "id": "tOTq6GBJ5wn6"
      },
      "execution_count": null,
      "outputs": []
    },
    {
      "cell_type": "code",
      "source": [
        "### Since the values in the balance columns are very high comapred to other columns I am taking the logarithemic values for balance columns\n",
        "train_df['log_Balance'] = np.log(train_df['Balance'])\n",
        "test_df['log_Balance'] = np.log(test_df['Balance'])"
      ],
      "metadata": {
        "id": "jVv6hTFJ6_Fo"
      },
      "execution_count": null,
      "outputs": []
    },
    {
      "cell_type": "code",
      "source": [
        "fig, axs = plt.subplots(ncols = 2,figsize=(18, 5))\n",
        "sns.histplot(x= 'Balance', data=train_df,kde= True , ax = axs[0])\n",
        "sns.histplot(x= 'log_Balance', data=train_df, kde=True,ax = axs[1])"
      ],
      "metadata": {
        "colab": {
          "base_uri": "https://localhost:8080/",
          "height": 352
        },
        "id": "T0pGcVksIGT9",
        "outputId": "6486fe7f-07b2-4656-8ff9-b0d11a5a8179"
      },
      "execution_count": null,
      "outputs": [
        {
          "output_type": "execute_result",
          "data": {
            "text/plain": [
              "<matplotlib.axes._subplots.AxesSubplot at 0x7fb84fa6fb90>"
            ]
          },
          "metadata": {},
          "execution_count": 223
        },
        {
          "output_type": "display_data",
          "data": {
            "text/plain": [
              "<Figure size 1296x360 with 2 Axes>"
            ],
            "image/png": "[encoded data removed]"
          },
          "metadata": {
            "needs_background": "light"
          }
        }
      ]
    },
    {
      "cell_type": "markdown",
      "source": [
        "Now the values has decresed. But still the outliers are present in the Balance data. So I may have to do scaling in the log_balance data later."
      ],
      "metadata": {
        "id": "eBz_95IAIk4t"
      }
    },
    {
      "cell_type": "code",
      "source": [
        "train_df.head()"
      ],
      "metadata": {
        "colab": {
          "base_uri": "https://localhost:8080/",
          "height": 302
        },
        "id": "RC5lR64V8FL4",
        "outputId": "1bf028c4-91de-465e-e77d-f204db8a540d"
      },
      "execution_count": null,
      "outputs": [
        {
          "output_type": "execute_result",
          "data": {
            "text/plain": [
              "         ID  Age  Gender         Income     Balance  Vintage  \\\n",
              "0  84e2fcc9   36  Female       5L - 10L   563266.44        4   \n",
              "1  57fea15e   53  Female   Less than 5L   875572.11        2   \n",
              "2  8df34ef3   35  Female  More than 15L   701607.06        2   \n",
              "3  c5c0788b   43  Female  More than 15L  1393922.16        0   \n",
              "4  951d69c4   39  Female  More than 15L   893146.23        1   \n",
              "\n",
              "   Transaction_Status Product_Holdings  Credit_Card Credit_Category  Is_Churn  \\\n",
              "0                   0                1            0         Average         1   \n",
              "1                   1                1            1            Poor         0   \n",
              "2                   1                2            0            Poor         0   \n",
              "3                   1                2            1            Poor         1   \n",
              "4                   1                1            1            Good         1   \n",
              "\n",
              "  Age_catagory  log_Balance  \n",
              "0        36-40    13.241508  \n",
              "1        51-55    13.682633  \n",
              "2        31-35    13.461129  \n",
              "3     41 to 45    14.147632  \n",
              "4        36-40    13.702506  "
            ],
            "text/html": [
              "\n",
              "  <div id=\"df-e556ce72-51e7-4e5b-96a5-ec165309d18d\">\n",
              "    <div class=\"colab-df-container\">\n",
              "      <div>\n",
              "<style scoped>\n",
              "    .dataframe tbody tr th:only-of-type {\n",
              "        vertical-align: middle;\n",
              "    }\n",
              "\n",
              "    .dataframe tbody tr th {\n",
              "        vertical-align: top;\n",
              "    }\n",
              "\n",
              "    .dataframe thead th {\n",
              "        text-align: right;\n",
              "    }\n",
              "</style>\n",
              "<table border=\"1\" class=\"dataframe\">\n",
              "  <thead>\n",
              "    <tr style=\"text-align: right;\">\n",
              "      <th></th>\n",
              "      <th>ID</th>\n",
              "      <th>Age</th>\n",
              "      <th>Gender</th>\n",
              "      <th>Income</th>\n",
              "      <th>Balance</th>\n",
              "      <th>Vintage</th>\n",
              "      <th>Transaction_Status</th>\n",
              "      <th>Product_Holdings</th>\n",
              "      <th>Credit_Card</th>\n",
              "      <th>Credit_Category</th>\n",
              "      <th>Is_Churn</th>\n",
              "      <th>Age_catagory</th>\n",
              "      <th>log_Balance</th>\n",
              "    </tr>\n",
              "  </thead>\n",
              "  <tbody>\n",
              "    <tr>\n",
              "      <th>0</th>\n",
              "      <td>84e2fcc9</td>\n",
              "      <td>36</td>\n",
              "      <td>Female</td>\n",
              "      <td>5L - 10L</td>\n",
              "      <td>563266.44</td>\n",
              "      <td>4</td>\n",
              "      <td>0</td>\n",
              "      <td>1</td>\n",
              "      <td>0</td>\n",
              "      <td>Average</td>\n",
              "      <td>1</td>\n",
              "      <td>36-40</td>\n",
              "      <td>13.241508</td>\n",
              "    </tr>\n",
              "    <tr>\n",
              "      <th>1</th>\n",
              "      <td>57fea15e</td>\n",
              "      <td>53</td>\n",
              "      <td>Female</td>\n",
              "      <td>Less than 5L</td>\n",
              "      <td>875572.11</td>\n",
              "      <td>2</td>\n",
              "      <td>1</td>\n",
              "      <td>1</td>\n",
              "      <td>1</td>\n",
              "      <td>Poor</td>\n",
              "      <td>0</td>\n",
              "      <td>51-55</td>\n",
              "      <td>13.682633</td>\n",
              "    </tr>\n",
              "    <tr>\n",
              "      <th>2</th>\n",
              "      <td>8df34ef3</td>\n",
              "      <td>35</td>\n",
              "      <td>Female</td>\n",
              "      <td>More than 15L</td>\n",
              "      <td>701607.06</td>\n",
              "      <td>2</td>\n",
              "      <td>1</td>\n",
              "      <td>2</td>\n",
              "      <td>0</td>\n",
              "      <td>Poor</td>\n",
              "      <td>0</td>\n",
              "      <td>31-35</td>\n",
              "      <td>13.461129</td>\n",
              "    </tr>\n",
              "    <tr>\n",
              "      <th>3</th>\n",
              "      <td>c5c0788b</td>\n",
              "      <td>43</td>\n",
              "      <td>Female</td>\n",
              "      <td>More than 15L</td>\n",
              "      <td>1393922.16</td>\n",
              "      <td>0</td>\n",
              "      <td>1</td>\n",
              "      <td>2</td>\n",
              "      <td>1</td>\n",
              "      <td>Poor</td>\n",
              "      <td>1</td>\n",
              "      <td>41 to 45</td>\n",
              "      <td>14.147632</td>\n",
              "    </tr>\n",
              "    <tr>\n",
              "      <th>4</th>\n",
              "      <td>951d69c4</td>\n",
              "      <td>39</td>\n",
              "      <td>Female</td>\n",
              "      <td>More than 15L</td>\n",
              "      <td>893146.23</td>\n",
              "      <td>1</td>\n",
              "      <td>1</td>\n",
              "      <td>1</td>\n",
              "      <td>1</td>\n",
              "      <td>Good</td>\n",
              "      <td>1</td>\n",
              "      <td>36-40</td>\n",
              "      <td>13.702506</td>\n",
              "    </tr>\n",
              "  </tbody>\n",
              "</table>\n",
              "</div>\n",
              "      <button class=\"colab-df-convert\" onclick=\"convertToInteractive('df-e556ce72-51e7-4e5b-96a5-ec165309d18d')\"\n",
              "              title=\"Convert this dataframe to an interactive table.\"\n",
              "              style=\"display:none;\">\n",
              "        \n",
              "  <svg xmlns=\"http://www.w3.org/2000/svg\" height=\"24px\"viewBox=\"0 0 24 24\"\n",
              "       width=\"24px\">\n",
              "    <path d=\"M0 0h24v24H0V0z\" fill=\"none\"/>\n",
              "    <path d=\"M18.56 5.44l.94 2.06.94-2.06 2.06-.94-2.06-.94-.94-2.06-.94 2.06-2.06.94zm-11 1L8.5 8.5l.94-2.06 2.06-.94-2.06-.94L8.5 2.5l-.94 2.06-2.06.94zm10 10l.94 2.06.94-2.06 2.06-.94-2.06-.94-.94-2.06-.94 2.06-2.06.94z\"/><path d=\"M17.41 7.96l-1.37-1.37c-.4-.4-.92-.59-1.43-.59-.52 0-1.04.2-1.43.59L10.3 9.45l-7.72 7.72c-.78.78-.78 2.05 0 2.83L4 21.41c.39.39.9.59 1.41.59.51 0 1.02-.2 1.41-.59l7.78-7.78 2.81-2.81c.8-.78.8-2.07 0-2.86zM5.41 20L4 18.59l7.72-7.72 1.47 1.35L5.41 20z\"/>\n",
              "  </svg>\n",
              "      </button>\n",
              "      \n",
              "  <style>\n",
              "    .colab-df-container {\n",
              "      display:flex;\n",
              "      flex-wrap:wrap;\n",
              "      gap: 12px;\n",
              "    }\n",
              "\n",
              "    .colab-df-convert {\n",
              "      background-color: #E8F0FE;\n",
              "      border: none;\n",
              "      border-radius: 50%;\n",
              "      cursor: pointer;\n",
              "      display: none;\n",
              "      fill: #1967D2;\n",
              "      height: 32px;\n",
              "      padding: 0 0 0 0;\n",
              "      width: 32px;\n",
              "    }\n",
              "\n",
              "    .colab-df-convert:hover {\n",
              "      background-color: #E2EBFA;\n",
              "      box-shadow: 0px 1px 2px rgba(60, 64, 67, 0.3), 0px 1px 3px 1px rgba(60, 64, 67, 0.15);\n",
              "      fill: #174EA6;\n",
              "    }\n",
              "\n",
              "    [theme=dark] .colab-df-convert {\n",
              "      background-color: #3B4455;\n",
              "      fill: #D2E3FC;\n",
              "    }\n",
              "\n",
              "    [theme=dark] .colab-df-convert:hover {\n",
              "      background-color: #434B5C;\n",
              "      box-shadow: 0px 1px 3px 1px rgba(0, 0, 0, 0.15);\n",
              "      filter: drop-shadow(0px 1px 2px rgba(0, 0, 0, 0.3));\n",
              "      fill: #FFFFFF;\n",
              "    }\n",
              "  </style>\n",
              "\n",
              "      <script>\n",
              "        const buttonEl =\n",
              "          document.querySelector('#df-e556ce72-51e7-4e5b-96a5-ec165309d18d button.colab-df-convert');\n",
              "        buttonEl.style.display =\n",
              "          google.colab.kernel.accessAllowed ? 'block' : 'none';\n",
              "\n",
              "        async function convertToInteractive(key) {\n",
              "          const element = document.querySelector('#df-e556ce72-51e7-4e5b-96a5-ec165309d18d');\n",
              "          const dataTable =\n",
              "            await google.colab.kernel.invokeFunction('convertToInteractive',\n",
              "                                                     [key], {});\n",
              "          if (!dataTable) return;\n",
              "\n",
              "          const docLinkHtml = 'Like what you see? Visit the ' +\n",
              "            '<a target=\"_blank\" href=https://colab.research.google.com/notebooks/data_table.ipynb>data table notebook</a>'\n",
              "            + ' to learn more about interactive tables.';\n",
              "          element.innerHTML = '';\n",
              "          dataTable['output_type'] = 'display_data';\n",
              "          await google.colab.output.renderOutput(dataTable, element);\n",
              "          const docLink = document.createElement('div');\n",
              "          docLink.innerHTML = docLinkHtml;\n",
              "          element.appendChild(docLink);\n",
              "        }\n",
              "      </script>\n",
              "    </div>\n",
              "  </div>\n",
              "  "
            ]
          },
          "metadata": {},
          "execution_count": 224
        }
      ]
    },
    {
      "cell_type": "markdown",
      "source": [
        "Great! Now the values in the balance column has changed into small. "
      ],
      "metadata": {
        "id": "5xYIu9XeE_ss"
      }
    },
    {
      "cell_type": "code",
      "source": [
        "### all the columns in this dataset are not useful for training a model. So I am selecting all the columns except 'ID' and 'Is_Churn' in input data \n",
        "input_col = [ 'Age_catagory', 'Gender', 'Income', 'log_Balance', 'Vintage','Transaction_Status', 'Product_Holdings', 'Credit_Card','Credit_Category']\n",
        "\n",
        "### Identifying target column\n",
        "target_col = 'Is_Churn'"
      ],
      "metadata": {
        "id": "Zlfj_VFmEww4"
      },
      "execution_count": null,
      "outputs": []
    },
    {
      "cell_type": "markdown",
      "source": [
        "### **Seperating catagorical and numeric data**"
      ],
      "metadata": {
        "id": "tIVIzjBFFjv6"
      }
    },
    {
      "cell_type": "code",
      "source": [
        "#### Identfying  numerical and categorical columns in the data\n",
        "numeric_cols = train_df[input_col].select_dtypes(include=np.number).columns.tolist()\n",
        "categorical_cols = train_df[input_col].select_dtypes('object').columns.tolist()"
      ],
      "metadata": {
        "id": "zAPPE_fHFgso"
      },
      "execution_count": null,
      "outputs": []
    },
    {
      "cell_type": "code",
      "source": [
        "train_df[categorical_cols].head()"
      ],
      "metadata": {
        "colab": {
          "base_uri": "https://localhost:8080/",
          "height": 206
        },
        "id": "eUOGoWA8F9Qt",
        "outputId": "073b1d7e-8141-47ef-a595-bc8303d799f9"
      },
      "execution_count": null,
      "outputs": [
        {
          "output_type": "execute_result",
          "data": {
            "text/plain": [
              "  Age_catagory  Gender         Income Product_Holdings Credit_Category\n",
              "0        36-40  Female       5L - 10L                1         Average\n",
              "1        51-55  Female   Less than 5L                1            Poor\n",
              "2        31-35  Female  More than 15L                2            Poor\n",
              "3     41 to 45  Female  More than 15L                2            Poor\n",
              "4        36-40  Female  More than 15L                1            Good"
            ],
            "text/html": [
              "\n",
              "  <div id=\"df-bfe2ba5c-1421-4540-a2d9-371e6e3b6002\">\n",
              "    <div class=\"colab-df-container\">\n",
              "      <div>\n",
              "<style scoped>\n",
              "    .dataframe tbody tr th:only-of-type {\n",
              "        vertical-align: middle;\n",
              "    }\n",
              "\n",
              "    .dataframe tbody tr th {\n",
              "        vertical-align: top;\n",
              "    }\n",
              "\n",
              "    .dataframe thead th {\n",
              "        text-align: right;\n",
              "    }\n",
              "</style>\n",
              "<table border=\"1\" class=\"dataframe\">\n",
              "  <thead>\n",
              "    <tr style=\"text-align: right;\">\n",
              "      <th></th>\n",
              "      <th>Age_catagory</th>\n",
              "      <th>Gender</th>\n",
              "      <th>Income</th>\n",
              "      <th>Product_Holdings</th>\n",
              "      <th>Credit_Category</th>\n",
              "    </tr>\n",
              "  </thead>\n",
              "  <tbody>\n",
              "    <tr>\n",
              "      <th>0</th>\n",
              "      <td>36-40</td>\n",
              "      <td>Female</td>\n",
              "      <td>5L - 10L</td>\n",
              "      <td>1</td>\n",
              "      <td>Average</td>\n",
              "    </tr>\n",
              "    <tr>\n",
              "      <th>1</th>\n",
              "      <td>51-55</td>\n",
              "      <td>Female</td>\n",
              "      <td>Less than 5L</td>\n",
              "      <td>1</td>\n",
              "      <td>Poor</td>\n",
              "    </tr>\n",
              "    <tr>\n",
              "      <th>2</th>\n",
              "      <td>31-35</td>\n",
              "      <td>Female</td>\n",
              "      <td>More than 15L</td>\n",
              "      <td>2</td>\n",
              "      <td>Poor</td>\n",
              "    </tr>\n",
              "    <tr>\n",
              "      <th>3</th>\n",
              "      <td>41 to 45</td>\n",
              "      <td>Female</td>\n",
              "      <td>More than 15L</td>\n",
              "      <td>2</td>\n",
              "      <td>Poor</td>\n",
              "    </tr>\n",
              "    <tr>\n",
              "      <th>4</th>\n",
              "      <td>36-40</td>\n",
              "      <td>Female</td>\n",
              "      <td>More than 15L</td>\n",
              "      <td>1</td>\n",
              "      <td>Good</td>\n",
              "    </tr>\n",
              "  </tbody>\n",
              "</table>\n",
              "</div>\n",
              "      <button class=\"colab-df-convert\" onclick=\"convertToInteractive('df-bfe2ba5c-1421-4540-a2d9-371e6e3b6002')\"\n",
              "              title=\"Convert this dataframe to an interactive table.\"\n",
              "              style=\"display:none;\">\n",
              "        \n",
              "  <svg xmlns=\"http://www.w3.org/2000/svg\" height=\"24px\"viewBox=\"0 0 24 24\"\n",
              "       width=\"24px\">\n",
              "    <path d=\"M0 0h24v24H0V0z\" fill=\"none\"/>\n",
              "    <path d=\"M18.56 5.44l.94 2.06.94-2.06 2.06-.94-2.06-.94-.94-2.06-.94 2.06-2.06.94zm-11 1L8.5 8.5l.94-2.06 2.06-.94-2.06-.94L8.5 2.5l-.94 2.06-2.06.94zm10 10l.94 2.06.94-2.06 2.06-.94-2.06-.94-.94-2.06-.94 2.06-2.06.94z\"/><path d=\"M17.41 7.96l-1.37-1.37c-.4-.4-.92-.59-1.43-.59-.52 0-1.04.2-1.43.59L10.3 9.45l-7.72 7.72c-.78.78-.78 2.05 0 2.83L4 21.41c.39.39.9.59 1.41.59.51 0 1.02-.2 1.41-.59l7.78-7.78 2.81-2.81c.8-.78.8-2.07 0-2.86zM5.41 20L4 18.59l7.72-7.72 1.47 1.35L5.41 20z\"/>\n",
              "  </svg>\n",
              "      </button>\n",
              "      \n",
              "  <style>\n",
              "    .colab-df-container {\n",
              "      display:flex;\n",
              "      flex-wrap:wrap;\n",
              "      gap: 12px;\n",
              "    }\n",
              "\n",
              "    .colab-df-convert {\n",
              "      background-color: #E8F0FE;\n",
              "      border: none;\n",
              "      border-radius: 50%;\n",
              "      cursor: pointer;\n",
              "      display: none;\n",
              "      fill: #1967D2;\n",
              "      height: 32px;\n",
              "      padding: 0 0 0 0;\n",
              "      width: 32px;\n",
              "    }\n",
              "\n",
              "    .colab-df-convert:hover {\n",
              "      background-color: #E2EBFA;\n",
              "      box-shadow: 0px 1px 2px rgba(60, 64, 67, 0.3), 0px 1px 3px 1px rgba(60, 64, 67, 0.15);\n",
              "      fill: #174EA6;\n",
              "    }\n",
              "\n",
              "    [theme=dark] .colab-df-convert {\n",
              "      background-color: #3B4455;\n",
              "      fill: #D2E3FC;\n",
              "    }\n",
              "\n",
              "    [theme=dark] .colab-df-convert:hover {\n",
              "      background-color: #434B5C;\n",
              "      box-shadow: 0px 1px 3px 1px rgba(0, 0, 0, 0.15);\n",
              "      filter: drop-shadow(0px 1px 2px rgba(0, 0, 0, 0.3));\n",
              "      fill: #FFFFFF;\n",
              "    }\n",
              "  </style>\n",
              "\n",
              "      <script>\n",
              "        const buttonEl =\n",
              "          document.querySelector('#df-bfe2ba5c-1421-4540-a2d9-371e6e3b6002 button.colab-df-convert');\n",
              "        buttonEl.style.display =\n",
              "          google.colab.kernel.accessAllowed ? 'block' : 'none';\n",
              "\n",
              "        async function convertToInteractive(key) {\n",
              "          const element = document.querySelector('#df-bfe2ba5c-1421-4540-a2d9-371e6e3b6002');\n",
              "          const dataTable =\n",
              "            await google.colab.kernel.invokeFunction('convertToInteractive',\n",
              "                                                     [key], {});\n",
              "          if (!dataTable) return;\n",
              "\n",
              "          const docLinkHtml = 'Like what you see? Visit the ' +\n",
              "            '<a target=\"_blank\" href=https://colab.research.google.com/notebooks/data_table.ipynb>data table notebook</a>'\n",
              "            + ' to learn more about interactive tables.';\n",
              "          element.innerHTML = '';\n",
              "          dataTable['output_type'] = 'display_data';\n",
              "          await google.colab.output.renderOutput(dataTable, element);\n",
              "          const docLink = document.createElement('div');\n",
              "          docLink.innerHTML = docLinkHtml;\n",
              "          element.appendChild(docLink);\n",
              "        }\n",
              "      </script>\n",
              "    </div>\n",
              "  </div>\n",
              "  "
            ]
          },
          "metadata": {},
          "execution_count": 238
        }
      ]
    },
    {
      "cell_type": "code",
      "source": [
        "train_df[numeric_cols].head()"
      ],
      "metadata": {
        "colab": {
          "base_uri": "https://localhost:8080/",
          "height": 206
        },
        "id": "jeGE3Cv8GRuV",
        "outputId": "a7be529c-4e6e-4d26-cf1f-e6002e5d45e2"
      },
      "execution_count": null,
      "outputs": [
        {
          "output_type": "execute_result",
          "data": {
            "text/plain": [
              "   log_Balance  Vintage  Transaction_Status  Credit_Card\n",
              "0    13.241508        4                   0            0\n",
              "1    13.682633        2                   1            1\n",
              "2    13.461129        2                   1            0\n",
              "3    14.147632        0                   1            1\n",
              "4    13.702506        1                   1            1"
            ],
            "text/html": [
              "\n",
              "  <div id=\"df-86645e7b-8e81-4089-8824-f29dfb77cfb9\">\n",
              "    <div class=\"colab-df-container\">\n",
              "      <div>\n",
              "<style scoped>\n",
              "    .dataframe tbody tr th:only-of-type {\n",
              "        vertical-align: middle;\n",
              "    }\n",
              "\n",
              "    .dataframe tbody tr th {\n",
              "        vertical-align: top;\n",
              "    }\n",
              "\n",
              "    .dataframe thead th {\n",
              "        text-align: right;\n",
              "    }\n",
              "</style>\n",
              "<table border=\"1\" class=\"dataframe\">\n",
              "  <thead>\n",
              "    <tr style=\"text-align: right;\">\n",
              "      <th></th>\n",
              "      <th>log_Balance</th>\n",
              "      <th>Vintage</th>\n",
              "      <th>Transaction_Status</th>\n",
              "      <th>Credit_Card</th>\n",
              "    </tr>\n",
              "  </thead>\n",
              "  <tbody>\n",
              "    <tr>\n",
              "      <th>0</th>\n",
              "      <td>13.241508</td>\n",
              "      <td>4</td>\n",
              "      <td>0</td>\n",
              "      <td>0</td>\n",
              "    </tr>\n",
              "    <tr>\n",
              "      <th>1</th>\n",
              "      <td>13.682633</td>\n",
              "      <td>2</td>\n",
              "      <td>1</td>\n",
              "      <td>1</td>\n",
              "    </tr>\n",
              "    <tr>\n",
              "      <th>2</th>\n",
              "      <td>13.461129</td>\n",
              "      <td>2</td>\n",
              "      <td>1</td>\n",
              "      <td>0</td>\n",
              "    </tr>\n",
              "    <tr>\n",
              "      <th>3</th>\n",
              "      <td>14.147632</td>\n",
              "      <td>0</td>\n",
              "      <td>1</td>\n",
              "      <td>1</td>\n",
              "    </tr>\n",
              "    <tr>\n",
              "      <th>4</th>\n",
              "      <td>13.702506</td>\n",
              "      <td>1</td>\n",
              "      <td>1</td>\n",
              "      <td>1</td>\n",
              "    </tr>\n",
              "  </tbody>\n",
              "</table>\n",
              "</div>\n",
              "      <button class=\"colab-df-convert\" onclick=\"convertToInteractive('df-86645e7b-8e81-4089-8824-f29dfb77cfb9')\"\n",
              "              title=\"Convert this dataframe to an interactive table.\"\n",
              "              style=\"display:none;\">\n",
              "        \n",
              "  <svg xmlns=\"http://www.w3.org/2000/svg\" height=\"24px\"viewBox=\"0 0 24 24\"\n",
              "       width=\"24px\">\n",
              "    <path d=\"M0 0h24v24H0V0z\" fill=\"none\"/>\n",
              "    <path d=\"M18.56 5.44l.94 2.06.94-2.06 2.06-.94-2.06-.94-.94-2.06-.94 2.06-2.06.94zm-11 1L8.5 8.5l.94-2.06 2.06-.94-2.06-.94L8.5 2.5l-.94 2.06-2.06.94zm10 10l.94 2.06.94-2.06 2.06-.94-2.06-.94-.94-2.06-.94 2.06-2.06.94z\"/><path d=\"M17.41 7.96l-1.37-1.37c-.4-.4-.92-.59-1.43-.59-.52 0-1.04.2-1.43.59L10.3 9.45l-7.72 7.72c-.78.78-.78 2.05 0 2.83L4 21.41c.39.39.9.59 1.41.59.51 0 1.02-.2 1.41-.59l7.78-7.78 2.81-2.81c.8-.78.8-2.07 0-2.86zM5.41 20L4 18.59l7.72-7.72 1.47 1.35L5.41 20z\"/>\n",
              "  </svg>\n",
              "      </button>\n",
              "      \n",
              "  <style>\n",
              "    .colab-df-container {\n",
              "      display:flex;\n",
              "      flex-wrap:wrap;\n",
              "      gap: 12px;\n",
              "    }\n",
              "\n",
              "    .colab-df-convert {\n",
              "      background-color: #E8F0FE;\n",
              "      border: none;\n",
              "      border-radius: 50%;\n",
              "      cursor: pointer;\n",
              "      display: none;\n",
              "      fill: #1967D2;\n",
              "      height: 32px;\n",
              "      padding: 0 0 0 0;\n",
              "      width: 32px;\n",
              "    }\n",
              "\n",
              "    .colab-df-convert:hover {\n",
              "      background-color: #E2EBFA;\n",
              "      box-shadow: 0px 1px 2px rgba(60, 64, 67, 0.3), 0px 1px 3px 1px rgba(60, 64, 67, 0.15);\n",
              "      fill: #174EA6;\n",
              "    }\n",
              "\n",
              "    [theme=dark] .colab-df-convert {\n",
              "      background-color: #3B4455;\n",
              "      fill: #D2E3FC;\n",
              "    }\n",
              "\n",
              "    [theme=dark] .colab-df-convert:hover {\n",
              "      background-color: #434B5C;\n",
              "      box-shadow: 0px 1px 3px 1px rgba(0, 0, 0, 0.15);\n",
              "      filter: drop-shadow(0px 1px 2px rgba(0, 0, 0, 0.3));\n",
              "      fill: #FFFFFF;\n",
              "    }\n",
              "  </style>\n",
              "\n",
              "      <script>\n",
              "        const buttonEl =\n",
              "          document.querySelector('#df-86645e7b-8e81-4089-8824-f29dfb77cfb9 button.colab-df-convert');\n",
              "        buttonEl.style.display =\n",
              "          google.colab.kernel.accessAllowed ? 'block' : 'none';\n",
              "\n",
              "        async function convertToInteractive(key) {\n",
              "          const element = document.querySelector('#df-86645e7b-8e81-4089-8824-f29dfb77cfb9');\n",
              "          const dataTable =\n",
              "            await google.colab.kernel.invokeFunction('convertToInteractive',\n",
              "                                                     [key], {});\n",
              "          if (!dataTable) return;\n",
              "\n",
              "          const docLinkHtml = 'Like what you see? Visit the ' +\n",
              "            '<a target=\"_blank\" href=https://colab.research.google.com/notebooks/data_table.ipynb>data table notebook</a>'\n",
              "            + ' to learn more about interactive tables.';\n",
              "          element.innerHTML = '';\n",
              "          dataTable['output_type'] = 'display_data';\n",
              "          await google.colab.output.renderOutput(dataTable, element);\n",
              "          const docLink = document.createElement('div');\n",
              "          docLink.innerHTML = docLinkHtml;\n",
              "          element.appendChild(docLink);\n",
              "        }\n",
              "      </script>\n",
              "    </div>\n",
              "  </div>\n",
              "  "
            ]
          },
          "metadata": {},
          "execution_count": 239
        }
      ]
    },
    {
      "cell_type": "code",
      "source": [
        "### input data \n",
        "new_train_df = train_df[input_col]\n",
        "new_test_df = test_df[input_col]\n",
        "## target data \n",
        "y_train = train_df[target_col]"
      ],
      "metadata": {
        "id": "oxxQvivSGXUu"
      },
      "execution_count": null,
      "outputs": []
    },
    {
      "cell_type": "markdown",
      "source": [
        "### **Scaling Numeric Features**"
      ],
      "metadata": {
        "id": "RzV_opwsJXU4"
      }
    },
    {
      "cell_type": "code",
      "source": [
        "from sklearn.preprocessing import MinMaxScaler\n",
        "scaler = MinMaxScaler()\n",
        "scaler.fit(new_train_df[['log_Balance', 'Vintage']])"
      ],
      "metadata": {
        "colab": {
          "base_uri": "https://localhost:8080/"
        },
        "id": "toGRhp6xJUXu",
        "outputId": "9d25f05f-ed70-4a42-fe4f-e48fd4ad8cff"
      },
      "execution_count": null,
      "outputs": [
        {
          "output_type": "execute_result",
          "data": {
            "text/plain": [
              "MinMaxScaler()"
            ]
          },
          "metadata": {},
          "execution_count": 241
        }
      ]
    },
    {
      "cell_type": "code",
      "source": [
        "new_train_df[['log_Balance', 'Vintage']] = scaler.transform(new_train_df[['log_Balance', 'Vintage']])\n",
        "new_test_df[['log_Balance', 'Vintage']] = scaler.transform(new_test_df[['log_Balance', 'Vintage']])"
      ],
      "metadata": {
        "id": "-WSNTPiWJcAh"
      },
      "execution_count": null,
      "outputs": []
    },
    {
      "cell_type": "code",
      "source": [
        "new_train_df.describe()"
      ],
      "metadata": {
        "colab": {
          "base_uri": "https://localhost:8080/",
          "height": 300
        },
        "id": "64EUYCnVJzkU",
        "outputId": "7d9e9230-ff44-4c1c-a150-e2f38c3216d4"
      },
      "execution_count": null,
      "outputs": [
        {
          "output_type": "execute_result",
          "data": {
            "text/plain": [
              "       log_Balance      Vintage  Transaction_Status  Credit_Card\n",
              "count  6650.000000  6650.000000         6650.000000  6650.000000\n",
              "mean      0.861917     0.450045            0.515789     0.664361\n",
              "std       0.100342     0.291759            0.499788     0.472249\n",
              "min       0.000000     0.000000            0.000000     0.000000\n",
              "25%       0.827091     0.200000            0.000000     0.000000\n",
              "50%       0.890318     0.400000            1.000000     1.000000\n",
              "75%       0.928680     0.600000            1.000000     1.000000\n",
              "max       1.000000     1.000000            1.000000     1.000000"
            ],
            "text/html": [
              "\n",
              "  <div id=\"df-f974b019-c4aa-4679-bafe-5c096d02ee2a\">\n",
              "    <div class=\"colab-df-container\">\n",
              "      <div>\n",
              "<style scoped>\n",
              "    .dataframe tbody tr th:only-of-type {\n",
              "        vertical-align: middle;\n",
              "    }\n",
              "\n",
              "    .dataframe tbody tr th {\n",
              "        vertical-align: top;\n",
              "    }\n",
              "\n",
              "    .dataframe thead th {\n",
              "        text-align: right;\n",
              "    }\n",
              "</style>\n",
              "<table border=\"1\" class=\"dataframe\">\n",
              "  <thead>\n",
              "    <tr style=\"text-align: right;\">\n",
              "      <th></th>\n",
              "      <th>log_Balance</th>\n",
              "      <th>Vintage</th>\n",
              "      <th>Transaction_Status</th>\n",
              "      <th>Credit_Card</th>\n",
              "    </tr>\n",
              "  </thead>\n",
              "  <tbody>\n",
              "    <tr>\n",
              "      <th>count</th>\n",
              "      <td>6650.000000</td>\n",
              "      <td>6650.000000</td>\n",
              "      <td>6650.000000</td>\n",
              "      <td>6650.000000</td>\n",
              "    </tr>\n",
              "    <tr>\n",
              "      <th>mean</th>\n",
              "      <td>0.861917</td>\n",
              "      <td>0.450045</td>\n",
              "      <td>0.515789</td>\n",
              "      <td>0.664361</td>\n",
              "    </tr>\n",
              "    <tr>\n",
              "      <th>std</th>\n",
              "      <td>0.100342</td>\n",
              "      <td>0.291759</td>\n",
              "      <td>0.499788</td>\n",
              "      <td>0.472249</td>\n",
              "    </tr>\n",
              "    <tr>\n",
              "      <th>min</th>\n",
              "      <td>0.000000</td>\n",
              "      <td>0.000000</td>\n",
              "      <td>0.000000</td>\n",
              "      <td>0.000000</td>\n",
              "    </tr>\n",
              "    <tr>\n",
              "      <th>25%</th>\n",
              "      <td>0.827091</td>\n",
              "      <td>0.200000</td>\n",
              "      <td>0.000000</td>\n",
              "      <td>0.000000</td>\n",
              "    </tr>\n",
              "    <tr>\n",
              "      <th>50%</th>\n",
              "      <td>0.890318</td>\n",
              "      <td>0.400000</td>\n",
              "      <td>1.000000</td>\n",
              "      <td>1.000000</td>\n",
              "    </tr>\n",
              "    <tr>\n",
              "      <th>75%</th>\n",
              "      <td>0.928680</td>\n",
              "      <td>0.600000</td>\n",
              "      <td>1.000000</td>\n",
              "      <td>1.000000</td>\n",
              "    </tr>\n",
              "    <tr>\n",
              "      <th>max</th>\n",
              "      <td>1.000000</td>\n",
              "      <td>1.000000</td>\n",
              "      <td>1.000000</td>\n",
              "      <td>1.000000</td>\n",
              "    </tr>\n",
              "  </tbody>\n",
              "</table>\n",
              "</div>\n",
              "      <button class=\"colab-df-convert\" onclick=\"convertToInteractive('df-f974b019-c4aa-4679-bafe-5c096d02ee2a')\"\n",
              "              title=\"Convert this dataframe to an interactive table.\"\n",
              "              style=\"display:none;\">\n",
              "        \n",
              "  <svg xmlns=\"http://www.w3.org/2000/svg\" height=\"24px\"viewBox=\"0 0 24 24\"\n",
              "       width=\"24px\">\n",
              "    <path d=\"M0 0h24v24H0V0z\" fill=\"none\"/>\n",
              "    <path d=\"M18.56 5.44l.94 2.06.94-2.06 2.06-.94-2.06-.94-.94-2.06-.94 2.06-2.06.94zm-11 1L8.5 8.5l.94-2.06 2.06-.94-2.06-.94L8.5 2.5l-.94 2.06-2.06.94zm10 10l.94 2.06.94-2.06 2.06-.94-2.06-.94-.94-2.06-.94 2.06-2.06.94z\"/><path d=\"M17.41 7.96l-1.37-1.37c-.4-.4-.92-.59-1.43-.59-.52 0-1.04.2-1.43.59L10.3 9.45l-7.72 7.72c-.78.78-.78 2.05 0 2.83L4 21.41c.39.39.9.59 1.41.59.51 0 1.02-.2 1.41-.59l7.78-7.78 2.81-2.81c.8-.78.8-2.07 0-2.86zM5.41 20L4 18.59l7.72-7.72 1.47 1.35L5.41 20z\"/>\n",
              "  </svg>\n",
              "      </button>\n",
              "      \n",
              "  <style>\n",
              "    .colab-df-container {\n",
              "      display:flex;\n",
              "      flex-wrap:wrap;\n",
              "      gap: 12px;\n",
              "    }\n",
              "\n",
              "    .colab-df-convert {\n",
              "      background-color: #E8F0FE;\n",
              "      border: none;\n",
              "      border-radius: 50%;\n",
              "      cursor: pointer;\n",
              "      display: none;\n",
              "      fill: #1967D2;\n",
              "      height: 32px;\n",
              "      padding: 0 0 0 0;\n",
              "      width: 32px;\n",
              "    }\n",
              "\n",
              "    .colab-df-convert:hover {\n",
              "      background-color: #E2EBFA;\n",
              "      box-shadow: 0px 1px 2px rgba(60, 64, 67, 0.3), 0px 1px 3px 1px rgba(60, 64, 67, 0.15);\n",
              "      fill: #174EA6;\n",
              "    }\n",
              "\n",
              "    [theme=dark] .colab-df-convert {\n",
              "      background-color: #3B4455;\n",
              "      fill: #D2E3FC;\n",
              "    }\n",
              "\n",
              "    [theme=dark] .colab-df-convert:hover {\n",
              "      background-color: #434B5C;\n",
              "      box-shadow: 0px 1px 3px 1px rgba(0, 0, 0, 0.15);\n",
              "      filter: drop-shadow(0px 1px 2px rgba(0, 0, 0, 0.3));\n",
              "      fill: #FFFFFF;\n",
              "    }\n",
              "  </style>\n",
              "\n",
              "      <script>\n",
              "        const buttonEl =\n",
              "          document.querySelector('#df-f974b019-c4aa-4679-bafe-5c096d02ee2a button.colab-df-convert');\n",
              "        buttonEl.style.display =\n",
              "          google.colab.kernel.accessAllowed ? 'block' : 'none';\n",
              "\n",
              "        async function convertToInteractive(key) {\n",
              "          const element = document.querySelector('#df-f974b019-c4aa-4679-bafe-5c096d02ee2a');\n",
              "          const dataTable =\n",
              "            await google.colab.kernel.invokeFunction('convertToInteractive',\n",
              "                                                     [key], {});\n",
              "          if (!dataTable) return;\n",
              "\n",
              "          const docLinkHtml = 'Like what you see? Visit the ' +\n",
              "            '<a target=\"_blank\" href=https://colab.research.google.com/notebooks/data_table.ipynb>data table notebook</a>'\n",
              "            + ' to learn more about interactive tables.';\n",
              "          element.innerHTML = '';\n",
              "          dataTable['output_type'] = 'display_data';\n",
              "          await google.colab.output.renderOutput(dataTable, element);\n",
              "          const docLink = document.createElement('div');\n",
              "          docLink.innerHTML = docLinkHtml;\n",
              "          element.appendChild(docLink);\n",
              "        }\n",
              "      </script>\n",
              "    </div>\n",
              "  </div>\n",
              "  "
            ]
          },
          "metadata": {},
          "execution_count": 243
        }
      ]
    },
    {
      "cell_type": "markdown",
      "source": [
        "### **Encoding Categorical Data**"
      ],
      "metadata": {
        "id": "2r8INQbRKAOi"
      }
    },
    {
      "cell_type": "code",
      "source": [
        "from sklearn.preprocessing import OneHotEncoder\n",
        "encoder = OneHotEncoder(sparse=False)"
      ],
      "metadata": {
        "id": "21wnckYtJ4GO"
      },
      "execution_count": null,
      "outputs": []
    },
    {
      "cell_type": "code",
      "source": [
        "encoder.fit(new_train_df[categorical_cols])"
      ],
      "metadata": {
        "colab": {
          "base_uri": "https://localhost:8080/"
        },
        "id": "mVhmonnTKFSH",
        "outputId": "b594eaaf-6b4e-4aeb-e9da-45d92fbd774c"
      },
      "execution_count": null,
      "outputs": [
        {
          "output_type": "execute_result",
          "data": {
            "text/plain": [
              "OneHotEncoder(sparse=False)"
            ]
          },
          "metadata": {},
          "execution_count": 245
        }
      ]
    },
    {
      "cell_type": "code",
      "source": [
        "encoder.categories_"
      ],
      "metadata": {
        "colab": {
          "base_uri": "https://localhost:8080/"
        },
        "id": "Q8Z1SlaYKHRa",
        "outputId": "5944ae68-4061-47df-a4e0-5fafe592fdcc"
      },
      "execution_count": null,
      "outputs": [
        {
          "output_type": "execute_result",
          "data": {
            "text/plain": [
              "[array(['26-30', '31-35', '36-40', '41 to 45', '46-50', '51-55', '56-60',\n",
              "        '61-65', 'greaterthan_66', 'lessthan_25'], dtype=object),\n",
              " array(['Female', 'Male'], dtype=object),\n",
              " array(['10L - 15L', '5L - 10L', 'Less than 5L', 'More than 15L'],\n",
              "       dtype=object),\n",
              " array(['1', '2', '3+'], dtype=object),\n",
              " array(['Average', 'Good', 'Poor'], dtype=object)]"
            ]
          },
          "metadata": {},
          "execution_count": 246
        }
      ]
    },
    {
      "cell_type": "code",
      "source": [
        "encoded_cols = list(encoder.get_feature_names(categorical_cols))\n",
        "print(encoded_cols)"
      ],
      "metadata": {
        "colab": {
          "base_uri": "https://localhost:8080/"
        },
        "id": "igTaExJbKJda",
        "outputId": "dca887f9-b255-47dd-c929-d55747b2c2eb"
      },
      "execution_count": null,
      "outputs": [
        {
          "output_type": "stream",
          "name": "stdout",
          "text": [
            "['Age_catagory_26-30', 'Age_catagory_31-35', 'Age_catagory_36-40', 'Age_catagory_41 to 45', 'Age_catagory_46-50', 'Age_catagory_51-55', 'Age_catagory_56-60', 'Age_catagory_61-65', 'Age_catagory_greaterthan_66', 'Age_catagory_lessthan_25', 'Gender_Female', 'Gender_Male', 'Income_10L - 15L', 'Income_5L - 10L', 'Income_Less than 5L', 'Income_More than 15L', 'Product_Holdings_1', 'Product_Holdings_2', 'Product_Holdings_3+', 'Credit_Category_Average', 'Credit_Category_Good', 'Credit_Category_Poor']\n"
          ]
        }
      ]
    },
    {
      "cell_type": "code",
      "source": [
        "new_train_df[encoded_cols] = encoder.transform(new_train_df[categorical_cols])\n",
        "new_test_df[encoded_cols] = encoder.transform(new_test_df[categorical_cols])"
      ],
      "metadata": {
        "id": "y7SDoRJ0KRWW"
      },
      "execution_count": null,
      "outputs": []
    },
    {
      "cell_type": "code",
      "source": [
        "### droping repeating gender columns\n",
        "new_train_df[encoded_cols]"
      ],
      "metadata": {
        "colab": {
          "base_uri": "https://localhost:8080/",
          "height": 505
        },
        "id": "FBREAwTkLEek",
        "outputId": "92c3e6d0-314d-4ef0-9850-98c24192abb7"
      },
      "execution_count": null,
      "outputs": [
        {
          "output_type": "execute_result",
          "data": {
            "text/plain": [
              "      Age_catagory_26-30  Age_catagory_31-35  Age_catagory_36-40  \\\n",
              "0                    0.0                 0.0                 1.0   \n",
              "1                    0.0                 0.0                 0.0   \n",
              "2                    0.0                 1.0                 0.0   \n",
              "3                    0.0                 0.0                 0.0   \n",
              "4                    0.0                 0.0                 1.0   \n",
              "...                  ...                 ...                 ...   \n",
              "6645                 0.0                 0.0                 0.0   \n",
              "6646                 0.0                 0.0                 0.0   \n",
              "6647                 1.0                 0.0                 0.0   \n",
              "6648                 0.0                 0.0                 0.0   \n",
              "6649                 0.0                 0.0                 1.0   \n",
              "\n",
              "      Age_catagory_41 to 45  Age_catagory_46-50  Age_catagory_51-55  \\\n",
              "0                       0.0                 0.0                 0.0   \n",
              "1                       0.0                 0.0                 1.0   \n",
              "2                       0.0                 0.0                 0.0   \n",
              "3                       1.0                 0.0                 0.0   \n",
              "4                       0.0                 0.0                 0.0   \n",
              "...                     ...                 ...                 ...   \n",
              "6645                    0.0                 0.0                 0.0   \n",
              "6646                    1.0                 0.0                 0.0   \n",
              "6647                    0.0                 0.0                 0.0   \n",
              "6648                    0.0                 0.0                 0.0   \n",
              "6649                    0.0                 0.0                 0.0   \n",
              "\n",
              "      Age_catagory_56-60  Age_catagory_61-65  Age_catagory_greaterthan_66  \\\n",
              "0                    0.0                 0.0                          0.0   \n",
              "1                    0.0                 0.0                          0.0   \n",
              "2                    0.0                 0.0                          0.0   \n",
              "3                    0.0                 0.0                          0.0   \n",
              "4                    0.0                 0.0                          0.0   \n",
              "...                  ...                 ...                          ...   \n",
              "6645                 0.0                 1.0                          0.0   \n",
              "6646                 0.0                 0.0                          0.0   \n",
              "6647                 0.0                 0.0                          0.0   \n",
              "6648                 0.0                 0.0                          1.0   \n",
              "6649                 0.0                 0.0                          0.0   \n",
              "\n",
              "      Age_catagory_lessthan_25  ...  Income_10L - 15L  Income_5L - 10L  \\\n",
              "0                          0.0  ...               0.0              1.0   \n",
              "1                          0.0  ...               0.0              0.0   \n",
              "2                          0.0  ...               0.0              0.0   \n",
              "3                          0.0  ...               0.0              0.0   \n",
              "4                          0.0  ...               0.0              0.0   \n",
              "...                        ...  ...               ...              ...   \n",
              "6645                       0.0  ...               0.0              1.0   \n",
              "6646                       0.0  ...               0.0              1.0   \n",
              "6647                       0.0  ...               0.0              0.0   \n",
              "6648                       0.0  ...               1.0              0.0   \n",
              "6649                       0.0  ...               0.0              0.0   \n",
              "\n",
              "      Income_Less than 5L  Income_More than 15L  Product_Holdings_1  \\\n",
              "0                     0.0                   0.0                 1.0   \n",
              "1                     1.0                   0.0                 1.0   \n",
              "2                     0.0                   1.0                 0.0   \n",
              "3                     0.0                   1.0                 0.0   \n",
              "4                     0.0                   1.0                 1.0   \n",
              "...                   ...                   ...                 ...   \n",
              "6645                  0.0                   0.0                 0.0   \n",
              "6646                  0.0                   0.0                 0.0   \n",
              "6647                  1.0                   0.0                 0.0   \n",
              "6648                  0.0                   0.0                 0.0   \n",
              "6649                  0.0                   1.0                 0.0   \n",
              "\n",
              "      Product_Holdings_2  Product_Holdings_3+  Credit_Category_Average  \\\n",
              "0                    0.0                  0.0                      1.0   \n",
              "1                    0.0                  0.0                      0.0   \n",
              "2                    1.0                  0.0                      0.0   \n",
              "3                    1.0                  0.0                      0.0   \n",
              "4                    0.0                  0.0                      0.0   \n",
              "...                  ...                  ...                      ...   \n",
              "6645                 1.0                  0.0                      0.0   \n",
              "6646                 1.0                  0.0                      1.0   \n",
              "6647                 1.0                  0.0                      0.0   \n",
              "6648                 1.0                  0.0                      0.0   \n",
              "6649                 1.0                  0.0                      0.0   \n",
              "\n",
              "      Credit_Category_Good  Credit_Category_Poor  \n",
              "0                      0.0                   0.0  \n",
              "1                      0.0                   1.0  \n",
              "2                      0.0                   1.0  \n",
              "3                      0.0                   1.0  \n",
              "4                      1.0                   0.0  \n",
              "...                    ...                   ...  \n",
              "6645                   0.0                   1.0  \n",
              "6646                   0.0                   0.0  \n",
              "6647                   0.0                   1.0  \n",
              "6648                   0.0                   1.0  \n",
              "6649                   1.0                   0.0  \n",
              "\n",
              "[6650 rows x 22 columns]"
            ],
            "text/html": [
              "\n",
              "  <div id=\"df-c5e7d221-9248-4651-b684-ec41ef6863e6\">\n",
              "    <div class=\"colab-df-container\">\n",
              "      <div>\n",
              "<style scoped>\n",
              "    .dataframe tbody tr th:only-of-type {\n",
              "        vertical-align: middle;\n",
              "    }\n",
              "\n",
              "    .dataframe tbody tr th {\n",
              "        vertical-align: top;\n",
              "    }\n",
              "\n",
              "    .dataframe thead th {\n",
              "        text-align: right;\n",
              "    }\n",
              "</style>\n",
              "<table border=\"1\" class=\"dataframe\">\n",
              "  <thead>\n",
              "    <tr style=\"text-align: right;\">\n",
              "      <th></th>\n",
              "      <th>Age_catagory_26-30</th>\n",
              "      <th>Age_catagory_31-35</th>\n",
              "      <th>Age_catagory_36-40</th>\n",
              "      <th>Age_catagory_41 to 45</th>\n",
              "      <th>Age_catagory_46-50</th>\n",
              "      <th>Age_catagory_51-55</th>\n",
              "      <th>Age_catagory_56-60</th>\n",
              "      <th>Age_catagory_61-65</th>\n",
              "      <th>Age_catagory_greaterthan_66</th>\n",
              "      <th>Age_catagory_lessthan_25</th>\n",
              "      <th>...</th>\n",
              "      <th>Income_10L - 15L</th>\n",
              "      <th>Income_5L - 10L</th>\n",
              "      <th>Income_Less than 5L</th>\n",
              "      <th>Income_More than 15L</th>\n",
              "      <th>Product_Holdings_1</th>\n",
              "      <th>Product_Holdings_2</th>\n",
              "      <th>Product_Holdings_3+</th>\n",
              "      <th>Credit_Category_Average</th>\n",
              "      <th>Credit_Category_Good</th>\n",
              "      <th>Credit_Category_Poor</th>\n",
              "    </tr>\n",
              "  </thead>\n",
              "  <tbody>\n",
              "    <tr>\n",
              "      <th>0</th>\n",
              "      <td>0.0</td>\n",
              "      <td>0.0</td>\n",
              "      <td>1.0</td>\n",
              "      <td>0.0</td>\n",
              "      <td>0.0</td>\n",
              "      <td>0.0</td>\n",
              "      <td>0.0</td>\n",
              "      <td>0.0</td>\n",
              "      <td>0.0</td>\n",
              "      <td>0.0</td>\n",
              "      <td>...</td>\n",
              "      <td>0.0</td>\n",
              "      <td>1.0</td>\n",
              "      <td>0.0</td>\n",
              "      <td>0.0</td>\n",
              "      <td>1.0</td>\n",
              "      <td>0.0</td>\n",
              "      <td>0.0</td>\n",
              "      <td>1.0</td>\n",
              "      <td>0.0</td>\n",
              "      <td>0.0</td>\n",
              "    </tr>\n",
              "    <tr>\n",
              "      <th>1</th>\n",
              "      <td>0.0</td>\n",
              "      <td>0.0</td>\n",
              "      <td>0.0</td>\n",
              "      <td>0.0</td>\n",
              "      <td>0.0</td>\n",
              "      <td>1.0</td>\n",
              "      <td>0.0</td>\n",
              "      <td>0.0</td>\n",
              "      <td>0.0</td>\n",
              "      <td>0.0</td>\n",
              "      <td>...</td>\n",
              "      <td>0.0</td>\n",
              "      <td>0.0</td>\n",
              "      <td>1.0</td>\n",
              "      <td>0.0</td>\n",
              "      <td>1.0</td>\n",
              "      <td>0.0</td>\n",
              "      <td>0.0</td>\n",
              "      <td>0.0</td>\n",
              "      <td>0.0</td>\n",
              "      <td>1.0</td>\n",
              "    </tr>\n",
              "    <tr>\n",
              "      <th>2</th>\n",
              "      <td>0.0</td>\n",
              "      <td>1.0</td>\n",
              "      <td>0.0</td>\n",
              "      <td>0.0</td>\n",
              "      <td>0.0</td>\n",
              "      <td>0.0</td>\n",
              "      <td>0.0</td>\n",
              "      <td>0.0</td>\n",
              "      <td>0.0</td>\n",
              "      <td>0.0</td>\n",
              "      <td>...</td>\n",
              "      <td>0.0</td>\n",
              "      <td>0.0</td>\n",
              "      <td>0.0</td>\n",
              "      <td>1.0</td>\n",
              "      <td>0.0</td>\n",
              "      <td>1.0</td>\n",
              "      <td>0.0</td>\n",
              "      <td>0.0</td>\n",
              "      <td>0.0</td>\n",
              "      <td>1.0</td>\n",
              "    </tr>\n",
              "    <tr>\n",
              "      <th>3</th>\n",
              "      <td>0.0</td>\n",
              "      <td>0.0</td>\n",
              "      <td>0.0</td>\n",
              "      <td>1.0</td>\n",
              "      <td>0.0</td>\n",
              "      <td>0.0</td>\n",
              "      <td>0.0</td>\n",
              "      <td>0.0</td>\n",
              "      <td>0.0</td>\n",
              "      <td>0.0</td>\n",
              "      <td>...</td>\n",
              "      <td>0.0</td>\n",
              "      <td>0.0</td>\n",
              "      <td>0.0</td>\n",
              "      <td>1.0</td>\n",
              "      <td>0.0</td>\n",
              "      <td>1.0</td>\n",
              "      <td>0.0</td>\n",
              "      <td>0.0</td>\n",
              "      <td>0.0</td>\n",
              "      <td>1.0</td>\n",
              "    </tr>\n",
              "    <tr>\n",
              "      <th>4</th>\n",
              "      <td>0.0</td>\n",
              "      <td>0.0</td>\n",
              "      <td>1.0</td>\n",
              "      <td>0.0</td>\n",
              "      <td>0.0</td>\n",
              "      <td>0.0</td>\n",
              "      <td>0.0</td>\n",
              "      <td>0.0</td>\n",
              "      <td>0.0</td>\n",
              "      <td>0.0</td>\n",
              "      <td>...</td>\n",
              "      <td>0.0</td>\n",
              "      <td>0.0</td>\n",
              "      <td>0.0</td>\n",
              "      <td>1.0</td>\n",
              "      <td>1.0</td>\n",
              "      <td>0.0</td>\n",
              "      <td>0.0</td>\n",
              "      <td>0.0</td>\n",
              "      <td>1.0</td>\n",
              "      <td>0.0</td>\n",
              "    </tr>\n",
              "    <tr>\n",
              "      <th>...</th>\n",
              "      <td>...</td>\n",
              "      <td>...</td>\n",
              "      <td>...</td>\n",
              "      <td>...</td>\n",
              "      <td>...</td>\n",
              "      <td>...</td>\n",
              "      <td>...</td>\n",
              "      <td>...</td>\n",
              "      <td>...</td>\n",
              "      <td>...</td>\n",
              "      <td>...</td>\n",
              "      <td>...</td>\n",
              "      <td>...</td>\n",
              "      <td>...</td>\n",
              "      <td>...</td>\n",
              "      <td>...</td>\n",
              "      <td>...</td>\n",
              "      <td>...</td>\n",
              "      <td>...</td>\n",
              "      <td>...</td>\n",
              "      <td>...</td>\n",
              "    </tr>\n",
              "    <tr>\n",
              "      <th>6645</th>\n",
              "      <td>0.0</td>\n",
              "      <td>0.0</td>\n",
              "      <td>0.0</td>\n",
              "      <td>0.0</td>\n",
              "      <td>0.0</td>\n",
              "      <td>0.0</td>\n",
              "      <td>0.0</td>\n",
              "      <td>1.0</td>\n",
              "      <td>0.0</td>\n",
              "      <td>0.0</td>\n",
              "      <td>...</td>\n",
              "      <td>0.0</td>\n",
              "      <td>1.0</td>\n",
              "      <td>0.0</td>\n",
              "      <td>0.0</td>\n",
              "      <td>0.0</td>\n",
              "      <td>1.0</td>\n",
              "      <td>0.0</td>\n",
              "      <td>0.0</td>\n",
              "      <td>0.0</td>\n",
              "      <td>1.0</td>\n",
              "    </tr>\n",
              "    <tr>\n",
              "      <th>6646</th>\n",
              "      <td>0.0</td>\n",
              "      <td>0.0</td>\n",
              "      <td>0.0</td>\n",
              "      <td>1.0</td>\n",
              "      <td>0.0</td>\n",
              "      <td>0.0</td>\n",
              "      <td>0.0</td>\n",
              "      <td>0.0</td>\n",
              "      <td>0.0</td>\n",
              "      <td>0.0</td>\n",
              "      <td>...</td>\n",
              "      <td>0.0</td>\n",
              "      <td>1.0</td>\n",
              "      <td>0.0</td>\n",
              "      <td>0.0</td>\n",
              "      <td>0.0</td>\n",
              "      <td>1.0</td>\n",
              "      <td>0.0</td>\n",
              "      <td>1.0</td>\n",
              "      <td>0.0</td>\n",
              "      <td>0.0</td>\n",
              "    </tr>\n",
              "    <tr>\n",
              "      <th>6647</th>\n",
              "      <td>1.0</td>\n",
              "      <td>0.0</td>\n",
              "      <td>0.0</td>\n",
              "      <td>0.0</td>\n",
              "      <td>0.0</td>\n",
              "      <td>0.0</td>\n",
              "      <td>0.0</td>\n",
              "      <td>0.0</td>\n",
              "      <td>0.0</td>\n",
              "      <td>0.0</td>\n",
              "      <td>...</td>\n",
              "      <td>0.0</td>\n",
              "      <td>0.0</td>\n",
              "      <td>1.0</td>\n",
              "      <td>0.0</td>\n",
              "      <td>0.0</td>\n",
              "      <td>1.0</td>\n",
              "      <td>0.0</td>\n",
              "      <td>0.0</td>\n",
              "      <td>0.0</td>\n",
              "      <td>1.0</td>\n",
              "    </tr>\n",
              "    <tr>\n",
              "      <th>6648</th>\n",
              "      <td>0.0</td>\n",
              "      <td>0.0</td>\n",
              "      <td>0.0</td>\n",
              "      <td>0.0</td>\n",
              "      <td>0.0</td>\n",
              "      <td>0.0</td>\n",
              "      <td>0.0</td>\n",
              "      <td>0.0</td>\n",
              "      <td>1.0</td>\n",
              "      <td>0.0</td>\n",
              "      <td>...</td>\n",
              "      <td>1.0</td>\n",
              "      <td>0.0</td>\n",
              "      <td>0.0</td>\n",
              "      <td>0.0</td>\n",
              "      <td>0.0</td>\n",
              "      <td>1.0</td>\n",
              "      <td>0.0</td>\n",
              "      <td>0.0</td>\n",
              "      <td>0.0</td>\n",
              "      <td>1.0</td>\n",
              "    </tr>\n",
              "    <tr>\n",
              "      <th>6649</th>\n",
              "      <td>0.0</td>\n",
              "      <td>0.0</td>\n",
              "      <td>1.0</td>\n",
              "      <td>0.0</td>\n",
              "      <td>0.0</td>\n",
              "      <td>0.0</td>\n",
              "      <td>0.0</td>\n",
              "      <td>0.0</td>\n",
              "      <td>0.0</td>\n",
              "      <td>0.0</td>\n",
              "      <td>...</td>\n",
              "      <td>0.0</td>\n",
              "      <td>0.0</td>\n",
              "      <td>0.0</td>\n",
              "      <td>1.0</td>\n",
              "      <td>0.0</td>\n",
              "      <td>1.0</td>\n",
              "      <td>0.0</td>\n",
              "      <td>0.0</td>\n",
              "      <td>1.0</td>\n",
              "      <td>0.0</td>\n",
              "    </tr>\n",
              "  </tbody>\n",
              "</table>\n",
              "<p>6650 rows × 22 columns</p>\n",
              "</div>\n",
              "      <button class=\"colab-df-convert\" onclick=\"convertToInteractive('df-c5e7d221-9248-4651-b684-ec41ef6863e6')\"\n",
              "              title=\"Convert this dataframe to an interactive table.\"\n",
              "              style=\"display:none;\">\n",
              "        \n",
              "  <svg xmlns=\"http://www.w3.org/2000/svg\" height=\"24px\"viewBox=\"0 0 24 24\"\n",
              "       width=\"24px\">\n",
              "    <path d=\"M0 0h24v24H0V0z\" fill=\"none\"/>\n",
              "    <path d=\"M18.56 5.44l.94 2.06.94-2.06 2.06-.94-2.06-.94-.94-2.06-.94 2.06-2.06.94zm-11 1L8.5 8.5l.94-2.06 2.06-.94-2.06-.94L8.5 2.5l-.94 2.06-2.06.94zm10 10l.94 2.06.94-2.06 2.06-.94-2.06-.94-.94-2.06-.94 2.06-2.06.94z\"/><path d=\"M17.41 7.96l-1.37-1.37c-.4-.4-.92-.59-1.43-.59-.52 0-1.04.2-1.43.59L10.3 9.45l-7.72 7.72c-.78.78-.78 2.05 0 2.83L4 21.41c.39.39.9.59 1.41.59.51 0 1.02-.2 1.41-.59l7.78-7.78 2.81-2.81c.8-.78.8-2.07 0-2.86zM5.41 20L4 18.59l7.72-7.72 1.47 1.35L5.41 20z\"/>\n",
              "  </svg>\n",
              "      </button>\n",
              "      \n",
              "  <style>\n",
              "    .colab-df-container {\n",
              "      display:flex;\n",
              "      flex-wrap:wrap;\n",
              "      gap: 12px;\n",
              "    }\n",
              "\n",
              "    .colab-df-convert {\n",
              "      background-color: #E8F0FE;\n",
              "      border: none;\n",
              "      border-radius: 50%;\n",
              "      cursor: pointer;\n",
              "      display: none;\n",
              "      fill: #1967D2;\n",
              "      height: 32px;\n",
              "      padding: 0 0 0 0;\n",
              "      width: 32px;\n",
              "    }\n",
              "\n",
              "    .colab-df-convert:hover {\n",
              "      background-color: #E2EBFA;\n",
              "      box-shadow: 0px 1px 2px rgba(60, 64, 67, 0.3), 0px 1px 3px 1px rgba(60, 64, 67, 0.15);\n",
              "      fill: #174EA6;\n",
              "    }\n",
              "\n",
              "    [theme=dark] .colab-df-convert {\n",
              "      background-color: #3B4455;\n",
              "      fill: #D2E3FC;\n",
              "    }\n",
              "\n",
              "    [theme=dark] .colab-df-convert:hover {\n",
              "      background-color: #434B5C;\n",
              "      box-shadow: 0px 1px 3px 1px rgba(0, 0, 0, 0.15);\n",
              "      filter: drop-shadow(0px 1px 2px rgba(0, 0, 0, 0.3));\n",
              "      fill: #FFFFFF;\n",
              "    }\n",
              "  </style>\n",
              "\n",
              "      <script>\n",
              "        const buttonEl =\n",
              "          document.querySelector('#df-c5e7d221-9248-4651-b684-ec41ef6863e6 button.colab-df-convert');\n",
              "        buttonEl.style.display =\n",
              "          google.colab.kernel.accessAllowed ? 'block' : 'none';\n",
              "\n",
              "        async function convertToInteractive(key) {\n",
              "          const element = document.querySelector('#df-c5e7d221-9248-4651-b684-ec41ef6863e6');\n",
              "          const dataTable =\n",
              "            await google.colab.kernel.invokeFunction('convertToInteractive',\n",
              "                                                     [key], {});\n",
              "          if (!dataTable) return;\n",
              "\n",
              "          const docLinkHtml = 'Like what you see? Visit the ' +\n",
              "            '<a target=\"_blank\" href=https://colab.research.google.com/notebooks/data_table.ipynb>data table notebook</a>'\n",
              "            + ' to learn more about interactive tables.';\n",
              "          element.innerHTML = '';\n",
              "          dataTable['output_type'] = 'display_data';\n",
              "          await google.colab.output.renderOutput(dataTable, element);\n",
              "          const docLink = document.createElement('div');\n",
              "          docLink.innerHTML = docLinkHtml;\n",
              "          element.appendChild(docLink);\n",
              "        }\n",
              "      </script>\n",
              "    </div>\n",
              "  </div>\n",
              "  "
            ]
          },
          "metadata": {},
          "execution_count": 249
        }
      ]
    },
    {
      "cell_type": "code",
      "source": [
        "X_train = new_train_df[numeric_cols + encoded_cols].drop('Gender_Female',axis = 1)\n",
        "X_test = new_test_df[numeric_cols + encoded_cols].drop('Gender_Female',axis = 1)\n",
        "y_train = train_df[target_col]"
      ],
      "metadata": {
        "id": "KqjgMoxaLHpV"
      },
      "execution_count": null,
      "outputs": []
    },
    {
      "cell_type": "code",
      "source": [
        "X_train.shape"
      ],
      "metadata": {
        "colab": {
          "base_uri": "https://localhost:8080/"
        },
        "id": "2bGiT091LOlX",
        "outputId": "9e2dae38-4093-401b-ed05-ec7addfe12aa"
      },
      "execution_count": null,
      "outputs": [
        {
          "output_type": "execute_result",
          "data": {
            "text/plain": [
              "(6650, 25)"
            ]
          },
          "metadata": {},
          "execution_count": 251
        }
      ]
    },
    {
      "cell_type": "code",
      "source": [
        "X_test.shape"
      ],
      "metadata": {
        "colab": {
          "base_uri": "https://localhost:8080/"
        },
        "id": "VOPz4OMuLRvN",
        "outputId": "dabdfdf5-11b5-4846-ab15-4b5967bb25e5"
      },
      "execution_count": null,
      "outputs": [
        {
          "output_type": "execute_result",
          "data": {
            "text/plain": [
              "(2851, 25)"
            ]
          },
          "metadata": {},
          "execution_count": 252
        }
      ]
    },
    {
      "cell_type": "markdown",
      "source": [
        "### **Model Fitting**\n",
        "### Common function for fitting the model and calculating the accuracy"
      ],
      "metadata": {
        "id": "7rJCLT-ILet6"
      }
    },
    {
      "cell_type": "code",
      "source": [
        "### fnction for fitting and checking accracy by KFold cross validation\n",
        "def modelfit(model, X, y, k, X_test):\n",
        "    \n",
        "    ### KFold cross-validation\n",
        "    kf = model_selection.KFold(n_splits=k, random_state=None)\n",
        "    result = cross_val_score(model , X, y, cv = kf , scoring='f1_macro')\n",
        "    \n",
        "    print(\"\\nModel Results\")\n",
        "    print(\"CV Score : Mean - %.3g \\nStd - %.3g \\nMin - %.3g \\nMax- %.3g\" % (np.mean(result),np.std(result),np.min(result),np.max(result)))\n",
        "    \n",
        "    ### Fitting\n",
        "    model.fit(X, y)\n",
        "    \n",
        "    ### Prediction\n",
        "    Y_pred_train = model.predict(X)\n",
        "    \n",
        "    ### Macro F1 score on training data\n",
        "    macro_f1_score=f1_score(y, Y_pred_train, average='macro')\n",
        "    print(\"Training Macro F1 score - %.4g\" % macro_f1_score)\n",
        "        \n",
        "    ### Predict on testing data:\n",
        "    Y_pred = model.predict(X_test)\n",
        "    return Y_pred"
      ],
      "metadata": {
        "id": "eXXjkMDkLU6F"
      },
      "execution_count": null,
      "outputs": []
    },
    {
      "cell_type": "markdown",
      "source": [
        "### Logistic Regression"
      ],
      "metadata": {
        "id": "baa231LlLs0R"
      }
    },
    {
      "cell_type": "code",
      "source": [
        "# Logistic Regression with L2 penalty\n",
        "model_1 = LogisticRegression(random_state=12, penalty='l2', tol=1e-6, C=0.8, class_weight={0:0.3, 1:0.7}, solver='liblinear')\n",
        "Y_pred = modelfit(model_1, X_train, y_train, 20, X_test)"
      ],
      "metadata": {
        "colab": {
          "base_uri": "https://localhost:8080/"
        },
        "id": "j93LzI4ULo3X",
        "outputId": "f85a78e9-fd1e-4e06-c62a-e9dcaf3d30a7"
      },
      "execution_count": null,
      "outputs": [
        {
          "output_type": "stream",
          "name": "stdout",
          "text": [
            "\n",
            "Model Results\n",
            "CV Score : Mean - 0.585 \n",
            "Std - 0.031 \n",
            "Min - 0.537 \n",
            "Max- 0.635\n",
            "Training Macro F1 score - 0.5913\n"
          ]
        }
      ]
    },
    {
      "cell_type": "markdown",
      "source": [
        "### Improving the accuracy of Logistic regression through Feature selection"
      ],
      "metadata": {
        "id": "KFLhnxUCL3MQ"
      }
    },
    {
      "cell_type": "code",
      "source": [
        "###selection of features\n",
        "features = pd.DataFrame({'features':X_train.columns,'coef':np.abs(model_1.coef_[0])}).sort_values('coef',ascending=False)\n",
        "features"
      ],
      "metadata": {
        "colab": {
          "base_uri": "https://localhost:8080/",
          "height": 833
        },
        "id": "gRGebfh0LxsJ",
        "outputId": "94c2e588-6379-4b10-840e-8601f1874168"
      },
      "execution_count": null,
      "outputs": [
        {
          "output_type": "execute_result",
          "data": {
            "text/plain": [
              "                       features      coef\n",
              "4            Age_catagory_26-30  1.146909\n",
              "0                   log_Balance  0.998026\n",
              "13     Age_catagory_lessthan_25  0.927914\n",
              "12  Age_catagory_greaterthan_66  0.918640\n",
              "11           Age_catagory_61-65  0.702508\n",
              "5            Age_catagory_31-35  0.607726\n",
              "10           Age_catagory_56-60  0.522010\n",
              "2            Transaction_Status  0.456724\n",
              "9            Age_catagory_51-55  0.396057\n",
              "14                  Gender_Male  0.261284\n",
              "23         Credit_Category_Good  0.250535\n",
              "6            Age_catagory_36-40  0.229939\n",
              "20           Product_Holdings_2  0.177901\n",
              "16              Income_5L - 10L  0.141278\n",
              "21          Product_Holdings_3+  0.137837\n",
              "17          Income_Less than 5L  0.128986\n",
              "1                       Vintage  0.126527\n",
              "22      Credit_Category_Average  0.119256\n",
              "15             Income_10L - 15L  0.089421\n",
              "19           Product_Holdings_1  0.085775\n",
              "7         Age_catagory_41 to 45  0.054003\n",
              "18         Income_More than 15L  0.041828\n",
              "24         Credit_Category_Poor  0.031722\n",
              "8            Age_catagory_46-50  0.025761\n",
              "3                   Credit_Card  0.019276"
            ],
            "text/html": [
              "\n",
              "  <div id=\"df-c6501fc1-58bf-420a-8ea8-4a4baa8495cf\">\n",
              "    <div class=\"colab-df-container\">\n",
              "      <div>\n",
              "<style scoped>\n",
              "    .dataframe tbody tr th:only-of-type {\n",
              "        vertical-align: middle;\n",
              "    }\n",
              "\n",
              "    .dataframe tbody tr th {\n",
              "        vertical-align: top;\n",
              "    }\n",
              "\n",
              "    .dataframe thead th {\n",
              "        text-align: right;\n",
              "    }\n",
              "</style>\n",
              "<table border=\"1\" class=\"dataframe\">\n",
              "  <thead>\n",
              "    <tr style=\"text-align: right;\">\n",
              "      <th></th>\n",
              "      <th>features</th>\n",
              "      <th>coef</th>\n",
              "    </tr>\n",
              "  </thead>\n",
              "  <tbody>\n",
              "    <tr>\n",
              "      <th>4</th>\n",
              "      <td>Age_catagory_26-30</td>\n",
              "      <td>1.146909</td>\n",
              "    </tr>\n",
              "    <tr>\n",
              "      <th>0</th>\n",
              "      <td>log_Balance</td>\n",
              "      <td>0.998026</td>\n",
              "    </tr>\n",
              "    <tr>\n",
              "      <th>13</th>\n",
              "      <td>Age_catagory_lessthan_25</td>\n",
              "      <td>0.927914</td>\n",
              "    </tr>\n",
              "    <tr>\n",
              "      <th>12</th>\n",
              "      <td>Age_catagory_greaterthan_66</td>\n",
              "      <td>0.918640</td>\n",
              "    </tr>\n",
              "    <tr>\n",
              "      <th>11</th>\n",
              "      <td>Age_catagory_61-65</td>\n",
              "      <td>0.702508</td>\n",
              "    </tr>\n",
              "    <tr>\n",
              "      <th>5</th>\n",
              "      <td>Age_catagory_31-35</td>\n",
              "      <td>0.607726</td>\n",
              "    </tr>\n",
              "    <tr>\n",
              "      <th>10</th>\n",
              "      <td>Age_catagory_56-60</td>\n",
              "      <td>0.522010</td>\n",
              "    </tr>\n",
              "    <tr>\n",
              "      <th>2</th>\n",
              "      <td>Transaction_Status</td>\n",
              "      <td>0.456724</td>\n",
              "    </tr>\n",
              "    <tr>\n",
              "      <th>9</th>\n",
              "      <td>Age_catagory_51-55</td>\n",
              "      <td>0.396057</td>\n",
              "    </tr>\n",
              "    <tr>\n",
              "      <th>14</th>\n",
              "      <td>Gender_Male</td>\n",
              "      <td>0.261284</td>\n",
              "    </tr>\n",
              "    <tr>\n",
              "      <th>23</th>\n",
              "      <td>Credit_Category_Good</td>\n",
              "      <td>0.250535</td>\n",
              "    </tr>\n",
              "    <tr>\n",
              "      <th>6</th>\n",
              "      <td>Age_catagory_36-40</td>\n",
              "      <td>0.229939</td>\n",
              "    </tr>\n",
              "    <tr>\n",
              "      <th>20</th>\n",
              "      <td>Product_Holdings_2</td>\n",
              "      <td>0.177901</td>\n",
              "    </tr>\n",
              "    <tr>\n",
              "      <th>16</th>\n",
              "      <td>Income_5L - 10L</td>\n",
              "      <td>0.141278</td>\n",
              "    </tr>\n",
              "    <tr>\n",
              "      <th>21</th>\n",
              "      <td>Product_Holdings_3+</td>\n",
              "      <td>0.137837</td>\n",
              "    </tr>\n",
              "    <tr>\n",
              "      <th>17</th>\n",
              "      <td>Income_Less than 5L</td>\n",
              "      <td>0.128986</td>\n",
              "    </tr>\n",
              "    <tr>\n",
              "      <th>1</th>\n",
              "      <td>Vintage</td>\n",
              "      <td>0.126527</td>\n",
              "    </tr>\n",
              "    <tr>\n",
              "      <th>22</th>\n",
              "      <td>Credit_Category_Average</td>\n",
              "      <td>0.119256</td>\n",
              "    </tr>\n",
              "    <tr>\n",
              "      <th>15</th>\n",
              "      <td>Income_10L - 15L</td>\n",
              "      <td>0.089421</td>\n",
              "    </tr>\n",
              "    <tr>\n",
              "      <th>19</th>\n",
              "      <td>Product_Holdings_1</td>\n",
              "      <td>0.085775</td>\n",
              "    </tr>\n",
              "    <tr>\n",
              "      <th>7</th>\n",
              "      <td>Age_catagory_41 to 45</td>\n",
              "      <td>0.054003</td>\n",
              "    </tr>\n",
              "    <tr>\n",
              "      <th>18</th>\n",
              "      <td>Income_More than 15L</td>\n",
              "      <td>0.041828</td>\n",
              "    </tr>\n",
              "    <tr>\n",
              "      <th>24</th>\n",
              "      <td>Credit_Category_Poor</td>\n",
              "      <td>0.031722</td>\n",
              "    </tr>\n",
              "    <tr>\n",
              "      <th>8</th>\n",
              "      <td>Age_catagory_46-50</td>\n",
              "      <td>0.025761</td>\n",
              "    </tr>\n",
              "    <tr>\n",
              "      <th>3</th>\n",
              "      <td>Credit_Card</td>\n",
              "      <td>0.019276</td>\n",
              "    </tr>\n",
              "  </tbody>\n",
              "</table>\n",
              "</div>\n",
              "      <button class=\"colab-df-convert\" onclick=\"convertToInteractive('df-c6501fc1-58bf-420a-8ea8-4a4baa8495cf')\"\n",
              "              title=\"Convert this dataframe to an interactive table.\"\n",
              "              style=\"display:none;\">\n",
              "        \n",
              "  <svg xmlns=\"http://www.w3.org/2000/svg\" height=\"24px\"viewBox=\"0 0 24 24\"\n",
              "       width=\"24px\">\n",
              "    <path d=\"M0 0h24v24H0V0z\" fill=\"none\"/>\n",
              "    <path d=\"M18.56 5.44l.94 2.06.94-2.06 2.06-.94-2.06-.94-.94-2.06-.94 2.06-2.06.94zm-11 1L8.5 8.5l.94-2.06 2.06-.94-2.06-.94L8.5 2.5l-.94 2.06-2.06.94zm10 10l.94 2.06.94-2.06 2.06-.94-2.06-.94-.94-2.06-.94 2.06-2.06.94z\"/><path d=\"M17.41 7.96l-1.37-1.37c-.4-.4-.92-.59-1.43-.59-.52 0-1.04.2-1.43.59L10.3 9.45l-7.72 7.72c-.78.78-.78 2.05 0 2.83L4 21.41c.39.39.9.59 1.41.59.51 0 1.02-.2 1.41-.59l7.78-7.78 2.81-2.81c.8-.78.8-2.07 0-2.86zM5.41 20L4 18.59l7.72-7.72 1.47 1.35L5.41 20z\"/>\n",
              "  </svg>\n",
              "      </button>\n",
              "      \n",
              "  <style>\n",
              "    .colab-df-container {\n",
              "      display:flex;\n",
              "      flex-wrap:wrap;\n",
              "      gap: 12px;\n",
              "    }\n",
              "\n",
              "    .colab-df-convert {\n",
              "      background-color: #E8F0FE;\n",
              "      border: none;\n",
              "      border-radius: 50%;\n",
              "      cursor: pointer;\n",
              "      display: none;\n",
              "      fill: #1967D2;\n",
              "      height: 32px;\n",
              "      padding: 0 0 0 0;\n",
              "      width: 32px;\n",
              "    }\n",
              "\n",
              "    .colab-df-convert:hover {\n",
              "      background-color: #E2EBFA;\n",
              "      box-shadow: 0px 1px 2px rgba(60, 64, 67, 0.3), 0px 1px 3px 1px rgba(60, 64, 67, 0.15);\n",
              "      fill: #174EA6;\n",
              "    }\n",
              "\n",
              "    [theme=dark] .colab-df-convert {\n",
              "      background-color: #3B4455;\n",
              "      fill: #D2E3FC;\n",
              "    }\n",
              "\n",
              "    [theme=dark] .colab-df-convert:hover {\n",
              "      background-color: #434B5C;\n",
              "      box-shadow: 0px 1px 3px 1px rgba(0, 0, 0, 0.15);\n",
              "      filter: drop-shadow(0px 1px 2px rgba(0, 0, 0, 0.3));\n",
              "      fill: #FFFFFF;\n",
              "    }\n",
              "  </style>\n",
              "\n",
              "      <script>\n",
              "        const buttonEl =\n",
              "          document.querySelector('#df-c6501fc1-58bf-420a-8ea8-4a4baa8495cf button.colab-df-convert');\n",
              "        buttonEl.style.display =\n",
              "          google.colab.kernel.accessAllowed ? 'block' : 'none';\n",
              "\n",
              "        async function convertToInteractive(key) {\n",
              "          const element = document.querySelector('#df-c6501fc1-58bf-420a-8ea8-4a4baa8495cf');\n",
              "          const dataTable =\n",
              "            await google.colab.kernel.invokeFunction('convertToInteractive',\n",
              "                                                     [key], {});\n",
              "          if (!dataTable) return;\n",
              "\n",
              "          const docLinkHtml = 'Like what you see? Visit the ' +\n",
              "            '<a target=\"_blank\" href=https://colab.research.google.com/notebooks/data_table.ipynb>data table notebook</a>'\n",
              "            + ' to learn more about interactive tables.';\n",
              "          element.innerHTML = '';\n",
              "          dataTable['output_type'] = 'display_data';\n",
              "          await google.colab.output.renderOutput(dataTable, element);\n",
              "          const docLink = document.createElement('div');\n",
              "          docLink.innerHTML = docLinkHtml;\n",
              "          element.appendChild(docLink);\n",
              "        }\n",
              "      </script>\n",
              "    </div>\n",
              "  </div>\n",
              "  "
            ]
          },
          "metadata": {},
          "execution_count": 256
        }
      ]
    },
    {
      "cell_type": "code",
      "source": [
        "### selecting featuress which  is > 0.02\n",
        "X_train_updated = X_train[features[features['coef']> 0.02].features]\n",
        "X_test_updated = X_test[features[features['coef']> 0.02].features]"
      ],
      "metadata": {
        "id": "IABJUDN0L7Ez"
      },
      "execution_count": null,
      "outputs": []
    },
    {
      "cell_type": "code",
      "source": [
        "# Logistic Regression with L2 penalty\n",
        "model_1 = LogisticRegression(random_state=12, penalty='l2', tol=1e-6, C=0.92, class_weight={0:0.3, 1:0.7}, solver='liblinear')\n",
        "Y_pred = modelfit(model_1, X_train_updated, y_train, 20, X_test_updated)"
      ],
      "metadata": {
        "colab": {
          "base_uri": "https://localhost:8080/"
        },
        "id": "RMykYY3yMAIY",
        "outputId": "1d7f1b52-619b-4944-da93-4385c07e1eeb"
      },
      "execution_count": null,
      "outputs": [
        {
          "output_type": "stream",
          "name": "stdout",
          "text": [
            "\n",
            "Model Results\n",
            "CV Score : Mean - 0.587 \n",
            "Std - 0.0321 \n",
            "Min - 0.533 \n",
            "Max- 0.641\n",
            "Training Macro F1 score - 0.5917\n"
          ]
        }
      ]
    },
    {
      "cell_type": "code",
      "source": [
        "# Logistic Regression with L2 penalty\n",
        "model_1 = LogisticRegression(random_state=12, penalty='l1', tol=1e-6, C=0.92, class_weight={0:0.3, 1:0.7}, solver='liblinear')\n",
        "Y_pred = modelfit(model_1, X_train_updated, y_train, 20, X_test_updated)"
      ],
      "metadata": {
        "colab": {
          "base_uri": "https://localhost:8080/"
        },
        "id": "RCsXuByhMfV_",
        "outputId": "5ab634f2-f173-44a9-a48c-92d97c7ca3fc"
      },
      "execution_count": null,
      "outputs": [
        {
          "output_type": "stream",
          "name": "stdout",
          "text": [
            "\n",
            "Model Results\n",
            "CV Score : Mean - 0.585 \n",
            "Std - 0.0329 \n",
            "Min - 0.524 \n",
            "Max- 0.636\n",
            "Training Macro F1 score - 0.5895\n"
          ]
        }
      ]
    },
    {
      "cell_type": "code",
      "source": [],
      "metadata": {
        "id": "CVxDUk9wQ4aW"
      },
      "execution_count": null,
      "outputs": []
    }
  ]
}