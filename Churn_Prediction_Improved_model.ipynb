{
  "nbformat": 4,
  "nbformat_minor": 0,
  "metadata": {
    "colab": {
      "provenance": [],
      "collapsed_sections": [],
      "include_colab_link": true
    },
    "kernelspec": {
      "name": "python3",
      "display_name": "Python 3"
    },
    "language_info": {
      "name": "python"
    }
  },
  "cells": [
    {
      "cell_type": "markdown",
      "metadata": {
        "id": "view-in-github",
        "colab_type": "text"
      },
      "source": [
        "<a href=\"https://colab.research.google.com/github/JozJozmin/Churn-Prediction-ML/blob/main/Churn_Prediction_Improved_model.ipynb\" target=\"_parent\"><img src=\"https://colab.research.google.com/assets/colab-badge.svg\" alt=\"Open In Colab\"/></a>"
      ]
    },
    {
      "cell_type": "code",
      "execution_count": 1,
      "metadata": {
        "id": "2pb_2wuwZFGg"
      },
      "outputs": [],
      "source": [
        "### IMPORTING REQUIRED LIBRARIES FOR PLOTING AND BASIC OPERATIONS\n",
        "import pandas as pd\n",
        "import matplotlib.pyplot as plt \n",
        "import seaborn as sns\n",
        "import plotly.express as px\n",
        "import numpy as np\n",
        "\n",
        "sns.set_style('darkgrid')\n",
        "plt.rcParams['font.size'] = 11\n",
        "plt.rcParams['figure.figsize'] = (10, 6)\n",
        "\n",
        "from sklearn.model_selection import cross_val_score\n",
        "from sklearn.model_selection import KFold\n",
        "from sklearn import model_selection\n",
        "from sklearn.metrics import f1_score\n",
        "from sklearn.linear_model import LogisticRegression\n",
        "from sklearn.metrics import confusion_matrix\n",
        "from sklearn.metrics import accuracy_score\n",
        "from sklearn.metrics import precision_score\n",
        "from sklearn.metrics import recall_score\n",
        "from sklearn.model_selection import RepeatedStratifiedKFold\n",
        "from sklearn.model_selection import GridSearchCV\n",
        "from sklearn.neighbors import KNeighborsClassifier\n",
        "from sklearn.svm import SVC"
      ]
    },
    {
      "cell_type": "code",
      "source": [
        "%matplotlib inline"
      ],
      "metadata": {
        "id": "_Y7H3o8ihMQj"
      },
      "execution_count": 2,
      "outputs": []
    },
    {
      "cell_type": "code",
      "source": [
        "np.random.seed(0)"
      ],
      "metadata": {
        "id": "J7tZ79nskw7I"
      },
      "execution_count": 3,
      "outputs": []
    },
    {
      "cell_type": "code",
      "source": [
        "import warnings\n",
        "warnings.filterwarnings(\"ignore\")"
      ],
      "metadata": {
        "id": "OfGmh-j_ZsVz"
      },
      "execution_count": 4,
      "outputs": []
    },
    {
      "cell_type": "code",
      "source": [
        "### mounting google drive\n",
        "from google.colab import drive\n",
        "drive.mount('/content/drive')"
      ],
      "metadata": {
        "colab": {
          "base_uri": "https://localhost:8080/"
        },
        "id": "II6LUtDyZ-9h",
        "outputId": "556f94df-4d77-4c55-bdd6-eb746b226ab3"
      },
      "execution_count": 5,
      "outputs": [
        {
          "output_type": "stream",
          "name": "stdout",
          "text": [
            "Drive already mounted at /content/drive; to attempt to forcibly remount, call drive.mount(\"/content/drive\", force_remount=True).\n"
          ]
        }
      ]
    },
    {
      "cell_type": "markdown",
      "source": [
        "##   **Data Preparation and Cleaning** <br>\n",
        "\n",
        "*   Loading the dataset into pandas dataframe. <br>\n",
        "*   Checking the info. about data and columns \n",
        "*   Fixing the missing & incorrect values."
      ],
      "metadata": {
        "id": "Q4N36bfwc6mV"
      }
    },
    {
      "cell_type": "markdown",
      "source": [
        "### 1. Loading the dataset into pandas dataframe"
      ],
      "metadata": {
        "id": "FfZOA2ANdB6M"
      }
    },
    {
      "cell_type": "code",
      "source": [
        "### Importing both the test and train data\n",
        "test_df = pd.read_csv('/content/drive/MyDrive/Personal Projects /Churn Prediction improved model /test_lTY72QC.csv')\n",
        "train_df = pd.read_csv('/content/drive/MyDrive/Personal Projects /Churn Prediction improved model /train_PDjVQMB.csv')"
      ],
      "metadata": {
        "id": "YYoRd4D3aBsU"
      },
      "execution_count": 6,
      "outputs": []
    },
    {
      "cell_type": "code",
      "source": [
        "train_df.head()"
      ],
      "metadata": {
        "colab": {
          "base_uri": "https://localhost:8080/",
          "height": 206
        },
        "id": "pr2yTukDa2Qf",
        "outputId": "8652be91-5772-455e-fe88-5e4e3564006a"
      },
      "execution_count": 7,
      "outputs": [
        {
          "output_type": "execute_result",
          "data": {
            "text/plain": [
              "         ID  Age  Gender         Income     Balance  Vintage  \\\n",
              "0  84e2fcc9   36  Female       5L - 10L   563266.44        4   \n",
              "1  57fea15e   53  Female   Less than 5L   875572.11        2   \n",
              "2  8df34ef3   35  Female  More than 15L   701607.06        2   \n",
              "3  c5c0788b   43  Female  More than 15L  1393922.16        0   \n",
              "4  951d69c4   39  Female  More than 15L   893146.23        1   \n",
              "\n",
              "   Transaction_Status Product_Holdings  Credit_Card Credit_Category  Is_Churn  \n",
              "0                   0                1            0         Average         1  \n",
              "1                   1                1            1            Poor         0  \n",
              "2                   1                2            0            Poor         0  \n",
              "3                   1                2            1            Poor         1  \n",
              "4                   1                1            1            Good         1  "
            ],
            "text/html": [
              "\n",
              "  <div id=\"df-e1a0c4bd-e3be-476b-8f86-136320112027\">\n",
              "    <div class=\"colab-df-container\">\n",
              "      <div>\n",
              "<style scoped>\n",
              "    .dataframe tbody tr th:only-of-type {\n",
              "        vertical-align: middle;\n",
              "    }\n",
              "\n",
              "    .dataframe tbody tr th {\n",
              "        vertical-align: top;\n",
              "    }\n",
              "\n",
              "    .dataframe thead th {\n",
              "        text-align: right;\n",
              "    }\n",
              "</style>\n",
              "<table border=\"1\" class=\"dataframe\">\n",
              "  <thead>\n",
              "    <tr style=\"text-align: right;\">\n",
              "      <th></th>\n",
              "      <th>ID</th>\n",
              "      <th>Age</th>\n",
              "      <th>Gender</th>\n",
              "      <th>Income</th>\n",
              "      <th>Balance</th>\n",
              "      <th>Vintage</th>\n",
              "      <th>Transaction_Status</th>\n",
              "      <th>Product_Holdings</th>\n",
              "      <th>Credit_Card</th>\n",
              "      <th>Credit_Category</th>\n",
              "      <th>Is_Churn</th>\n",
              "    </tr>\n",
              "  </thead>\n",
              "  <tbody>\n",
              "    <tr>\n",
              "      <th>0</th>\n",
              "      <td>84e2fcc9</td>\n",
              "      <td>36</td>\n",
              "      <td>Female</td>\n",
              "      <td>5L - 10L</td>\n",
              "      <td>563266.44</td>\n",
              "      <td>4</td>\n",
              "      <td>0</td>\n",
              "      <td>1</td>\n",
              "      <td>0</td>\n",
              "      <td>Average</td>\n",
              "      <td>1</td>\n",
              "    </tr>\n",
              "    <tr>\n",
              "      <th>1</th>\n",
              "      <td>57fea15e</td>\n",
              "      <td>53</td>\n",
              "      <td>Female</td>\n",
              "      <td>Less than 5L</td>\n",
              "      <td>875572.11</td>\n",
              "      <td>2</td>\n",
              "      <td>1</td>\n",
              "      <td>1</td>\n",
              "      <td>1</td>\n",
              "      <td>Poor</td>\n",
              "      <td>0</td>\n",
              "    </tr>\n",
              "    <tr>\n",
              "      <th>2</th>\n",
              "      <td>8df34ef3</td>\n",
              "      <td>35</td>\n",
              "      <td>Female</td>\n",
              "      <td>More than 15L</td>\n",
              "      <td>701607.06</td>\n",
              "      <td>2</td>\n",
              "      <td>1</td>\n",
              "      <td>2</td>\n",
              "      <td>0</td>\n",
              "      <td>Poor</td>\n",
              "      <td>0</td>\n",
              "    </tr>\n",
              "    <tr>\n",
              "      <th>3</th>\n",
              "      <td>c5c0788b</td>\n",
              "      <td>43</td>\n",
              "      <td>Female</td>\n",
              "      <td>More than 15L</td>\n",
              "      <td>1393922.16</td>\n",
              "      <td>0</td>\n",
              "      <td>1</td>\n",
              "      <td>2</td>\n",
              "      <td>1</td>\n",
              "      <td>Poor</td>\n",
              "      <td>1</td>\n",
              "    </tr>\n",
              "    <tr>\n",
              "      <th>4</th>\n",
              "      <td>951d69c4</td>\n",
              "      <td>39</td>\n",
              "      <td>Female</td>\n",
              "      <td>More than 15L</td>\n",
              "      <td>893146.23</td>\n",
              "      <td>1</td>\n",
              "      <td>1</td>\n",
              "      <td>1</td>\n",
              "      <td>1</td>\n",
              "      <td>Good</td>\n",
              "      <td>1</td>\n",
              "    </tr>\n",
              "  </tbody>\n",
              "</table>\n",
              "</div>\n",
              "      <button class=\"colab-df-convert\" onclick=\"convertToInteractive('df-e1a0c4bd-e3be-476b-8f86-136320112027')\"\n",
              "              title=\"Convert this dataframe to an interactive table.\"\n",
              "              style=\"display:none;\">\n",
              "        \n",
              "  <svg xmlns=\"http://www.w3.org/2000/svg\" height=\"24px\"viewBox=\"0 0 24 24\"\n",
              "       width=\"24px\">\n",
              "    <path d=\"M0 0h24v24H0V0z\" fill=\"none\"/>\n",
              "    <path d=\"M18.56 5.44l.94 2.06.94-2.06 2.06-.94-2.06-.94-.94-2.06-.94 2.06-2.06.94zm-11 1L8.5 8.5l.94-2.06 2.06-.94-2.06-.94L8.5 2.5l-.94 2.06-2.06.94zm10 10l.94 2.06.94-2.06 2.06-.94-2.06-.94-.94-2.06-.94 2.06-2.06.94z\"/><path d=\"M17.41 7.96l-1.37-1.37c-.4-.4-.92-.59-1.43-.59-.52 0-1.04.2-1.43.59L10.3 9.45l-7.72 7.72c-.78.78-.78 2.05 0 2.83L4 21.41c.39.39.9.59 1.41.59.51 0 1.02-.2 1.41-.59l7.78-7.78 2.81-2.81c.8-.78.8-2.07 0-2.86zM5.41 20L4 18.59l7.72-7.72 1.47 1.35L5.41 20z\"/>\n",
              "  </svg>\n",
              "      </button>\n",
              "      \n",
              "  <style>\n",
              "    .colab-df-container {\n",
              "      display:flex;\n",
              "      flex-wrap:wrap;\n",
              "      gap: 12px;\n",
              "    }\n",
              "\n",
              "    .colab-df-convert {\n",
              "      background-color: #E8F0FE;\n",
              "      border: none;\n",
              "      border-radius: 50%;\n",
              "      cursor: pointer;\n",
              "      display: none;\n",
              "      fill: #1967D2;\n",
              "      height: 32px;\n",
              "      padding: 0 0 0 0;\n",
              "      width: 32px;\n",
              "    }\n",
              "\n",
              "    .colab-df-convert:hover {\n",
              "      background-color: #E2EBFA;\n",
              "      box-shadow: 0px 1px 2px rgba(60, 64, 67, 0.3), 0px 1px 3px 1px rgba(60, 64, 67, 0.15);\n",
              "      fill: #174EA6;\n",
              "    }\n",
              "\n",
              "    [theme=dark] .colab-df-convert {\n",
              "      background-color: #3B4455;\n",
              "      fill: #D2E3FC;\n",
              "    }\n",
              "\n",
              "    [theme=dark] .colab-df-convert:hover {\n",
              "      background-color: #434B5C;\n",
              "      box-shadow: 0px 1px 3px 1px rgba(0, 0, 0, 0.15);\n",
              "      filter: drop-shadow(0px 1px 2px rgba(0, 0, 0, 0.3));\n",
              "      fill: #FFFFFF;\n",
              "    }\n",
              "  </style>\n",
              "\n",
              "      <script>\n",
              "        const buttonEl =\n",
              "          document.querySelector('#df-e1a0c4bd-e3be-476b-8f86-136320112027 button.colab-df-convert');\n",
              "        buttonEl.style.display =\n",
              "          google.colab.kernel.accessAllowed ? 'block' : 'none';\n",
              "\n",
              "        async function convertToInteractive(key) {\n",
              "          const element = document.querySelector('#df-e1a0c4bd-e3be-476b-8f86-136320112027');\n",
              "          const dataTable =\n",
              "            await google.colab.kernel.invokeFunction('convertToInteractive',\n",
              "                                                     [key], {});\n",
              "          if (!dataTable) return;\n",
              "\n",
              "          const docLinkHtml = 'Like what you see? Visit the ' +\n",
              "            '<a target=\"_blank\" href=https://colab.research.google.com/notebooks/data_table.ipynb>data table notebook</a>'\n",
              "            + ' to learn more about interactive tables.';\n",
              "          element.innerHTML = '';\n",
              "          dataTable['output_type'] = 'display_data';\n",
              "          await google.colab.output.renderOutput(dataTable, element);\n",
              "          const docLink = document.createElement('div');\n",
              "          docLink.innerHTML = docLinkHtml;\n",
              "          element.appendChild(docLink);\n",
              "        }\n",
              "      </script>\n",
              "    </div>\n",
              "  </div>\n",
              "  "
            ]
          },
          "metadata": {},
          "execution_count": 7
        }
      ]
    },
    {
      "cell_type": "markdown",
      "source": [
        "### 2. Checking the info. about data and columns"
      ],
      "metadata": {
        "id": "0Aynz4yMdKKd"
      }
    },
    {
      "cell_type": "code",
      "source": [
        "print(f' The shape of test data is;{test_df.shape}')\n",
        "print(f' The shape of train data is;{train_df.shape}')"
      ],
      "metadata": {
        "colab": {
          "base_uri": "https://localhost:8080/"
        },
        "id": "vsuFYsAfafDH",
        "outputId": "ce42ca1d-01fe-47fb-f002-7f803e15e4cb"
      },
      "execution_count": 8,
      "outputs": [
        {
          "output_type": "stream",
          "name": "stdout",
          "text": [
            " The shape of test data is;(2851, 10)\n",
            " The shape of train data is;(6650, 11)\n"
          ]
        }
      ]
    },
    {
      "cell_type": "code",
      "source": [
        "train_df.columns"
      ],
      "metadata": {
        "colab": {
          "base_uri": "https://localhost:8080/"
        },
        "id": "DOkZkMvOapCK",
        "outputId": "4bd65928-a1a6-4da9-e1d8-ddf6a412af1c"
      },
      "execution_count": 9,
      "outputs": [
        {
          "output_type": "execute_result",
          "data": {
            "text/plain": [
              "Index(['ID', 'Age', 'Gender', 'Income', 'Balance', 'Vintage',\n",
              "       'Transaction_Status', 'Product_Holdings', 'Credit_Card',\n",
              "       'Credit_Category', 'Is_Churn'],\n",
              "      dtype='object')"
            ]
          },
          "metadata": {},
          "execution_count": 9
        }
      ]
    },
    {
      "cell_type": "code",
      "source": [
        "### checking the quantiy of no.s of zeros and ones in the target column of train_df\n",
        "\n",
        "ax = sns.countplot('Is_Churn', data=train_df)\n",
        "plt.title('Class Distributions \\n (0: No leaving || 1: leaving)') \n",
        "\n",
        "for p in ax.patches:\n",
        "   ax.annotate('{:.1f}'.format(p.get_height()), (p.get_x()+0.25, p.get_height()+0.01))\n",
        "\n",
        "plt.show() "
      ],
      "metadata": {
        "colab": {
          "base_uri": "https://localhost:8080/",
          "height": 311
        },
        "id": "9Mi1fyR4bAt8",
        "outputId": "aa3922fb-eb03-45df-ec03-45a3c915db09"
      },
      "execution_count": 10,
      "outputs": [
        {
          "output_type": "display_data",
          "data": {
            "text/plain": [
              "<Figure size 432x288 with 1 Axes>"
            ],
            "image/png": "[encoded data removed]"
          },
          "metadata": {
            "needs_background": "light"
          }
        }
      ]
    },
    {
      "cell_type": "markdown",
      "source": [
        "As we can see, this is an imbalanced dataset."
      ],
      "metadata": {
        "id": "_eTVRNLKcmPv"
      }
    },
    {
      "cell_type": "code",
      "source": [
        "train_df.info()"
      ],
      "metadata": {
        "colab": {
          "base_uri": "https://localhost:8080/"
        },
        "id": "fmwG1GxMbIy6",
        "outputId": "866037f1-cfe4-4c22-a361-b898370e2b83"
      },
      "execution_count": 11,
      "outputs": [
        {
          "output_type": "stream",
          "name": "stdout",
          "text": [
            "<class 'pandas.core.frame.DataFrame'>\n",
            "RangeIndex: 6650 entries, 0 to 6649\n",
            "Data columns (total 11 columns):\n",
            " #   Column              Non-Null Count  Dtype  \n",
            "---  ------              --------------  -----  \n",
            " 0   ID                  6650 non-null   object \n",
            " 1   Age                 6650 non-null   int64  \n",
            " 2   Gender              6650 non-null   object \n",
            " 3   Income              6650 non-null   object \n",
            " 4   Balance             6650 non-null   float64\n",
            " 5   Vintage             6650 non-null   int64  \n",
            " 6   Transaction_Status  6650 non-null   int64  \n",
            " 7   Product_Holdings    6650 non-null   object \n",
            " 8   Credit_Card         6650 non-null   int64  \n",
            " 9   Credit_Category     6650 non-null   object \n",
            " 10  Is_Churn            6650 non-null   int64  \n",
            "dtypes: float64(1), int64(5), object(5)\n",
            "memory usage: 571.6+ KB\n"
          ]
        }
      ]
    },
    {
      "cell_type": "code",
      "source": [
        "test_df.info()"
      ],
      "metadata": {
        "colab": {
          "base_uri": "https://localhost:8080/"
        },
        "id": "12rdpzO2bxCa",
        "outputId": "eb41732a-5828-455a-da6b-aae28e811197"
      },
      "execution_count": 12,
      "outputs": [
        {
          "output_type": "stream",
          "name": "stdout",
          "text": [
            "<class 'pandas.core.frame.DataFrame'>\n",
            "RangeIndex: 2851 entries, 0 to 2850\n",
            "Data columns (total 10 columns):\n",
            " #   Column              Non-Null Count  Dtype  \n",
            "---  ------              --------------  -----  \n",
            " 0   ID                  2851 non-null   object \n",
            " 1   Age                 2851 non-null   int64  \n",
            " 2   Gender              2851 non-null   object \n",
            " 3   Income              2851 non-null   object \n",
            " 4   Balance             2851 non-null   float64\n",
            " 5   Vintage             2851 non-null   int64  \n",
            " 6   Transaction_Status  2851 non-null   int64  \n",
            " 7   Product_Holdings    2851 non-null   object \n",
            " 8   Credit_Card         2851 non-null   int64  \n",
            " 9   Credit_Category     2851 non-null   object \n",
            "dtypes: float64(1), int64(4), object(5)\n",
            "memory usage: 222.9+ KB\n"
          ]
        }
      ]
    },
    {
      "cell_type": "code",
      "source": [
        "### The column 'ID' is not required for the analysis \n",
        "del train_df['ID']\n",
        "del test_df ['ID']"
      ],
      "metadata": {
        "id": "-XARUs2H82Lu"
      },
      "execution_count": 13,
      "outputs": []
    },
    {
      "cell_type": "code",
      "source": [
        "#### checking the range of details of each featurs in the given train_data\n",
        "train_df.describe(include =['int64','float64'])"
      ],
      "metadata": {
        "colab": {
          "base_uri": "https://localhost:8080/",
          "height": 300
        },
        "id": "yhfrCzwtbgtS",
        "outputId": "af46d60c-b45e-46cd-8cab-39e977f27bae"
      },
      "execution_count": 14,
      "outputs": [
        {
          "output_type": "execute_result",
          "data": {
            "text/plain": [
              "               Age       Balance      Vintage  Transaction_Status  \\\n",
              "count  6650.000000  6.650000e+03  6650.000000         6650.000000   \n",
              "mean     41.130226  8.045954e+05     2.250226            0.515789   \n",
              "std       9.685747  5.157549e+05     1.458795            0.499788   \n",
              "min      21.000000  6.300000e+01     0.000000            0.000000   \n",
              "25%      34.000000  3.922642e+05     1.000000            0.000000   \n",
              "50%      40.000000  7.649386e+05     2.000000            1.000000   \n",
              "75%      47.000000  1.147124e+06     3.000000            1.000000   \n",
              "max      72.000000  2.436616e+06     5.000000            1.000000   \n",
              "\n",
              "       Credit_Card     Is_Churn  \n",
              "count  6650.000000  6650.000000  \n",
              "mean      0.664361     0.231128  \n",
              "std       0.472249     0.421586  \n",
              "min       0.000000     0.000000  \n",
              "25%       0.000000     0.000000  \n",
              "50%       1.000000     0.000000  \n",
              "75%       1.000000     0.000000  \n",
              "max       1.000000     1.000000  "
            ],
            "text/html": [
              "\n",
              "  <div id=\"df-565a6ef6-43f4-4182-b6f2-fa5235d3b996\">\n",
              "    <div class=\"colab-df-container\">\n",
              "      <div>\n",
              "<style scoped>\n",
              "    .dataframe tbody tr th:only-of-type {\n",
              "        vertical-align: middle;\n",
              "    }\n",
              "\n",
              "    .dataframe tbody tr th {\n",
              "        vertical-align: top;\n",
              "    }\n",
              "\n",
              "    .dataframe thead th {\n",
              "        text-align: right;\n",
              "    }\n",
              "</style>\n",
              "<table border=\"1\" class=\"dataframe\">\n",
              "  <thead>\n",
              "    <tr style=\"text-align: right;\">\n",
              "      <th></th>\n",
              "      <th>Age</th>\n",
              "      <th>Balance</th>\n",
              "      <th>Vintage</th>\n",
              "      <th>Transaction_Status</th>\n",
              "      <th>Credit_Card</th>\n",
              "      <th>Is_Churn</th>\n",
              "    </tr>\n",
              "  </thead>\n",
              "  <tbody>\n",
              "    <tr>\n",
              "      <th>count</th>\n",
              "      <td>6650.000000</td>\n",
              "      <td>6.650000e+03</td>\n",
              "      <td>6650.000000</td>\n",
              "      <td>6650.000000</td>\n",
              "      <td>6650.000000</td>\n",
              "      <td>6650.000000</td>\n",
              "    </tr>\n",
              "    <tr>\n",
              "      <th>mean</th>\n",
              "      <td>41.130226</td>\n",
              "      <td>8.045954e+05</td>\n",
              "      <td>2.250226</td>\n",
              "      <td>0.515789</td>\n",
              "      <td>0.664361</td>\n",
              "      <td>0.231128</td>\n",
              "    </tr>\n",
              "    <tr>\n",
              "      <th>std</th>\n",
              "      <td>9.685747</td>\n",
              "      <td>5.157549e+05</td>\n",
              "      <td>1.458795</td>\n",
              "      <td>0.499788</td>\n",
              "      <td>0.472249</td>\n",
              "      <td>0.421586</td>\n",
              "    </tr>\n",
              "    <tr>\n",
              "      <th>min</th>\n",
              "      <td>21.000000</td>\n",
              "      <td>6.300000e+01</td>\n",
              "      <td>0.000000</td>\n",
              "      <td>0.000000</td>\n",
              "      <td>0.000000</td>\n",
              "      <td>0.000000</td>\n",
              "    </tr>\n",
              "    <tr>\n",
              "      <th>25%</th>\n",
              "      <td>34.000000</td>\n",
              "      <td>3.922642e+05</td>\n",
              "      <td>1.000000</td>\n",
              "      <td>0.000000</td>\n",
              "      <td>0.000000</td>\n",
              "      <td>0.000000</td>\n",
              "    </tr>\n",
              "    <tr>\n",
              "      <th>50%</th>\n",
              "      <td>40.000000</td>\n",
              "      <td>7.649386e+05</td>\n",
              "      <td>2.000000</td>\n",
              "      <td>1.000000</td>\n",
              "      <td>1.000000</td>\n",
              "      <td>0.000000</td>\n",
              "    </tr>\n",
              "    <tr>\n",
              "      <th>75%</th>\n",
              "      <td>47.000000</td>\n",
              "      <td>1.147124e+06</td>\n",
              "      <td>3.000000</td>\n",
              "      <td>1.000000</td>\n",
              "      <td>1.000000</td>\n",
              "      <td>0.000000</td>\n",
              "    </tr>\n",
              "    <tr>\n",
              "      <th>max</th>\n",
              "      <td>72.000000</td>\n",
              "      <td>2.436616e+06</td>\n",
              "      <td>5.000000</td>\n",
              "      <td>1.000000</td>\n",
              "      <td>1.000000</td>\n",
              "      <td>1.000000</td>\n",
              "    </tr>\n",
              "  </tbody>\n",
              "</table>\n",
              "</div>\n",
              "      <button class=\"colab-df-convert\" onclick=\"convertToInteractive('df-565a6ef6-43f4-4182-b6f2-fa5235d3b996')\"\n",
              "              title=\"Convert this dataframe to an interactive table.\"\n",
              "              style=\"display:none;\">\n",
              "        \n",
              "  <svg xmlns=\"http://www.w3.org/2000/svg\" height=\"24px\"viewBox=\"0 0 24 24\"\n",
              "       width=\"24px\">\n",
              "    <path d=\"M0 0h24v24H0V0z\" fill=\"none\"/>\n",
              "    <path d=\"M18.56 5.44l.94 2.06.94-2.06 2.06-.94-2.06-.94-.94-2.06-.94 2.06-2.06.94zm-11 1L8.5 8.5l.94-2.06 2.06-.94-2.06-.94L8.5 2.5l-.94 2.06-2.06.94zm10 10l.94 2.06.94-2.06 2.06-.94-2.06-.94-.94-2.06-.94 2.06-2.06.94z\"/><path d=\"M17.41 7.96l-1.37-1.37c-.4-.4-.92-.59-1.43-.59-.52 0-1.04.2-1.43.59L10.3 9.45l-7.72 7.72c-.78.78-.78 2.05 0 2.83L4 21.41c.39.39.9.59 1.41.59.51 0 1.02-.2 1.41-.59l7.78-7.78 2.81-2.81c.8-.78.8-2.07 0-2.86zM5.41 20L4 18.59l7.72-7.72 1.47 1.35L5.41 20z\"/>\n",
              "  </svg>\n",
              "      </button>\n",
              "      \n",
              "  <style>\n",
              "    .colab-df-container {\n",
              "      display:flex;\n",
              "      flex-wrap:wrap;\n",
              "      gap: 12px;\n",
              "    }\n",
              "\n",
              "    .colab-df-convert {\n",
              "      background-color: #E8F0FE;\n",
              "      border: none;\n",
              "      border-radius: 50%;\n",
              "      cursor: pointer;\n",
              "      display: none;\n",
              "      fill: #1967D2;\n",
              "      height: 32px;\n",
              "      padding: 0 0 0 0;\n",
              "      width: 32px;\n",
              "    }\n",
              "\n",
              "    .colab-df-convert:hover {\n",
              "      background-color: #E2EBFA;\n",
              "      box-shadow: 0px 1px 2px rgba(60, 64, 67, 0.3), 0px 1px 3px 1px rgba(60, 64, 67, 0.15);\n",
              "      fill: #174EA6;\n",
              "    }\n",
              "\n",
              "    [theme=dark] .colab-df-convert {\n",
              "      background-color: #3B4455;\n",
              "      fill: #D2E3FC;\n",
              "    }\n",
              "\n",
              "    [theme=dark] .colab-df-convert:hover {\n",
              "      background-color: #434B5C;\n",
              "      box-shadow: 0px 1px 3px 1px rgba(0, 0, 0, 0.15);\n",
              "      filter: drop-shadow(0px 1px 2px rgba(0, 0, 0, 0.3));\n",
              "      fill: #FFFFFF;\n",
              "    }\n",
              "  </style>\n",
              "\n",
              "      <script>\n",
              "        const buttonEl =\n",
              "          document.querySelector('#df-565a6ef6-43f4-4182-b6f2-fa5235d3b996 button.colab-df-convert');\n",
              "        buttonEl.style.display =\n",
              "          google.colab.kernel.accessAllowed ? 'block' : 'none';\n",
              "\n",
              "        async function convertToInteractive(key) {\n",
              "          const element = document.querySelector('#df-565a6ef6-43f4-4182-b6f2-fa5235d3b996');\n",
              "          const dataTable =\n",
              "            await google.colab.kernel.invokeFunction('convertToInteractive',\n",
              "                                                     [key], {});\n",
              "          if (!dataTable) return;\n",
              "\n",
              "          const docLinkHtml = 'Like what you see? Visit the ' +\n",
              "            '<a target=\"_blank\" href=https://colab.research.google.com/notebooks/data_table.ipynb>data table notebook</a>'\n",
              "            + ' to learn more about interactive tables.';\n",
              "          element.innerHTML = '';\n",
              "          dataTable['output_type'] = 'display_data';\n",
              "          await google.colab.output.renderOutput(dataTable, element);\n",
              "          const docLink = document.createElement('div');\n",
              "          docLink.innerHTML = docLinkHtml;\n",
              "          element.appendChild(docLink);\n",
              "        }\n",
              "      </script>\n",
              "    </div>\n",
              "  </div>\n",
              "  "
            ]
          },
          "metadata": {},
          "execution_count": 14
        }
      ]
    },
    {
      "cell_type": "markdown",
      "source": [
        "\n",
        "\n",
        "*  The values in the balance column are high in range comapred to other features\n",
        "*   In the Age column, the The 75% percentile and max value has high difference indicating the presence of outliers in the data. \n",
        "\n"
      ],
      "metadata": {
        "id": "eGXH8HCKM-ar"
      }
    },
    {
      "cell_type": "code",
      "source": [
        "train_df.describe(include =['object'])"
      ],
      "metadata": {
        "colab": {
          "base_uri": "https://localhost:8080/",
          "height": 175
        },
        "id": "Bj3EncR0bmuo",
        "outputId": "c5feaa67-5dca-483c-a821-b97b6fcf5f6e"
      },
      "execution_count": 15,
      "outputs": [
        {
          "output_type": "execute_result",
          "data": {
            "text/plain": [
              "       Gender     Income Product_Holdings Credit_Category\n",
              "count    6650       6650             6650            6650\n",
              "unique      2          4                3               3\n",
              "top      Male  10L - 15L                1            Poor\n",
              "freq     3612       1885             3200            3076"
            ],
            "text/html": [
              "\n",
              "  <div id=\"df-e1fc5eb9-d6e0-4d1d-9e06-ba7f909a17ac\">\n",
              "    <div class=\"colab-df-container\">\n",
              "      <div>\n",
              "<style scoped>\n",
              "    .dataframe tbody tr th:only-of-type {\n",
              "        vertical-align: middle;\n",
              "    }\n",
              "\n",
              "    .dataframe tbody tr th {\n",
              "        vertical-align: top;\n",
              "    }\n",
              "\n",
              "    .dataframe thead th {\n",
              "        text-align: right;\n",
              "    }\n",
              "</style>\n",
              "<table border=\"1\" class=\"dataframe\">\n",
              "  <thead>\n",
              "    <tr style=\"text-align: right;\">\n",
              "      <th></th>\n",
              "      <th>Gender</th>\n",
              "      <th>Income</th>\n",
              "      <th>Product_Holdings</th>\n",
              "      <th>Credit_Category</th>\n",
              "    </tr>\n",
              "  </thead>\n",
              "  <tbody>\n",
              "    <tr>\n",
              "      <th>count</th>\n",
              "      <td>6650</td>\n",
              "      <td>6650</td>\n",
              "      <td>6650</td>\n",
              "      <td>6650</td>\n",
              "    </tr>\n",
              "    <tr>\n",
              "      <th>unique</th>\n",
              "      <td>2</td>\n",
              "      <td>4</td>\n",
              "      <td>3</td>\n",
              "      <td>3</td>\n",
              "    </tr>\n",
              "    <tr>\n",
              "      <th>top</th>\n",
              "      <td>Male</td>\n",
              "      <td>10L - 15L</td>\n",
              "      <td>1</td>\n",
              "      <td>Poor</td>\n",
              "    </tr>\n",
              "    <tr>\n",
              "      <th>freq</th>\n",
              "      <td>3612</td>\n",
              "      <td>1885</td>\n",
              "      <td>3200</td>\n",
              "      <td>3076</td>\n",
              "    </tr>\n",
              "  </tbody>\n",
              "</table>\n",
              "</div>\n",
              "      <button class=\"colab-df-convert\" onclick=\"convertToInteractive('df-e1fc5eb9-d6e0-4d1d-9e06-ba7f909a17ac')\"\n",
              "              title=\"Convert this dataframe to an interactive table.\"\n",
              "              style=\"display:none;\">\n",
              "        \n",
              "  <svg xmlns=\"http://www.w3.org/2000/svg\" height=\"24px\"viewBox=\"0 0 24 24\"\n",
              "       width=\"24px\">\n",
              "    <path d=\"M0 0h24v24H0V0z\" fill=\"none\"/>\n",
              "    <path d=\"M18.56 5.44l.94 2.06.94-2.06 2.06-.94-2.06-.94-.94-2.06-.94 2.06-2.06.94zm-11 1L8.5 8.5l.94-2.06 2.06-.94-2.06-.94L8.5 2.5l-.94 2.06-2.06.94zm10 10l.94 2.06.94-2.06 2.06-.94-2.06-.94-.94-2.06-.94 2.06-2.06.94z\"/><path d=\"M17.41 7.96l-1.37-1.37c-.4-.4-.92-.59-1.43-.59-.52 0-1.04.2-1.43.59L10.3 9.45l-7.72 7.72c-.78.78-.78 2.05 0 2.83L4 21.41c.39.39.9.59 1.41.59.51 0 1.02-.2 1.41-.59l7.78-7.78 2.81-2.81c.8-.78.8-2.07 0-2.86zM5.41 20L4 18.59l7.72-7.72 1.47 1.35L5.41 20z\"/>\n",
              "  </svg>\n",
              "      </button>\n",
              "      \n",
              "  <style>\n",
              "    .colab-df-container {\n",
              "      display:flex;\n",
              "      flex-wrap:wrap;\n",
              "      gap: 12px;\n",
              "    }\n",
              "\n",
              "    .colab-df-convert {\n",
              "      background-color: #E8F0FE;\n",
              "      border: none;\n",
              "      border-radius: 50%;\n",
              "      cursor: pointer;\n",
              "      display: none;\n",
              "      fill: #1967D2;\n",
              "      height: 32px;\n",
              "      padding: 0 0 0 0;\n",
              "      width: 32px;\n",
              "    }\n",
              "\n",
              "    .colab-df-convert:hover {\n",
              "      background-color: #E2EBFA;\n",
              "      box-shadow: 0px 1px 2px rgba(60, 64, 67, 0.3), 0px 1px 3px 1px rgba(60, 64, 67, 0.15);\n",
              "      fill: #174EA6;\n",
              "    }\n",
              "\n",
              "    [theme=dark] .colab-df-convert {\n",
              "      background-color: #3B4455;\n",
              "      fill: #D2E3FC;\n",
              "    }\n",
              "\n",
              "    [theme=dark] .colab-df-convert:hover {\n",
              "      background-color: #434B5C;\n",
              "      box-shadow: 0px 1px 3px 1px rgba(0, 0, 0, 0.15);\n",
              "      filter: drop-shadow(0px 1px 2px rgba(0, 0, 0, 0.3));\n",
              "      fill: #FFFFFF;\n",
              "    }\n",
              "  </style>\n",
              "\n",
              "      <script>\n",
              "        const buttonEl =\n",
              "          document.querySelector('#df-e1fc5eb9-d6e0-4d1d-9e06-ba7f909a17ac button.colab-df-convert');\n",
              "        buttonEl.style.display =\n",
              "          google.colab.kernel.accessAllowed ? 'block' : 'none';\n",
              "\n",
              "        async function convertToInteractive(key) {\n",
              "          const element = document.querySelector('#df-e1fc5eb9-d6e0-4d1d-9e06-ba7f909a17ac');\n",
              "          const dataTable =\n",
              "            await google.colab.kernel.invokeFunction('convertToInteractive',\n",
              "                                                     [key], {});\n",
              "          if (!dataTable) return;\n",
              "\n",
              "          const docLinkHtml = 'Like what you see? Visit the ' +\n",
              "            '<a target=\"_blank\" href=https://colab.research.google.com/notebooks/data_table.ipynb>data table notebook</a>'\n",
              "            + ' to learn more about interactive tables.';\n",
              "          element.innerHTML = '';\n",
              "          dataTable['output_type'] = 'display_data';\n",
              "          await google.colab.output.renderOutput(dataTable, element);\n",
              "          const docLink = document.createElement('div');\n",
              "          docLink.innerHTML = docLinkHtml;\n",
              "          element.appendChild(docLink);\n",
              "        }\n",
              "      </script>\n",
              "    </div>\n",
              "  </div>\n",
              "  "
            ]
          },
          "metadata": {},
          "execution_count": 15
        }
      ]
    },
    {
      "cell_type": "code",
      "source": [
        "### checking the details of test_df\n",
        "test_df.describe(include =['int64','float64'])"
      ],
      "metadata": {
        "colab": {
          "base_uri": "https://localhost:8080/",
          "height": 300
        },
        "id": "LQjXKDwecR6Y",
        "outputId": "765414d7-6fa6-4180-f8a0-9bba871b294c"
      },
      "execution_count": 16,
      "outputs": [
        {
          "output_type": "execute_result",
          "data": {
            "text/plain": [
              "               Age       Balance      Vintage  Transaction_Status  Credit_Card\n",
              "count  2851.000000  2.851000e+03  2851.000000         2851.000000  2851.000000\n",
              "mean     41.252192  8.098990e+05     2.220975            0.506840     0.668888\n",
              "std       9.616756  5.252003e+05     1.489941            0.500041     0.470696\n",
              "min      21.000000  1.503000e+03     0.000000            0.000000     0.000000\n",
              "25%      34.000000  4.009684e+05     1.000000            0.000000     0.000000\n",
              "50%      40.000000  7.659125e+05     2.000000            1.000000     1.000000\n",
              "75%      47.000000  1.154238e+06     3.000000            1.000000     1.000000\n",
              "max      72.000000  2.434834e+06     5.000000            1.000000     1.000000"
            ],
            "text/html": [
              "\n",
              "  <div id=\"df-dad91b86-a0f7-49e7-ac2a-dedf6694a0bd\">\n",
              "    <div class=\"colab-df-container\">\n",
              "      <div>\n",
              "<style scoped>\n",
              "    .dataframe tbody tr th:only-of-type {\n",
              "        vertical-align: middle;\n",
              "    }\n",
              "\n",
              "    .dataframe tbody tr th {\n",
              "        vertical-align: top;\n",
              "    }\n",
              "\n",
              "    .dataframe thead th {\n",
              "        text-align: right;\n",
              "    }\n",
              "</style>\n",
              "<table border=\"1\" class=\"dataframe\">\n",
              "  <thead>\n",
              "    <tr style=\"text-align: right;\">\n",
              "      <th></th>\n",
              "      <th>Age</th>\n",
              "      <th>Balance</th>\n",
              "      <th>Vintage</th>\n",
              "      <th>Transaction_Status</th>\n",
              "      <th>Credit_Card</th>\n",
              "    </tr>\n",
              "  </thead>\n",
              "  <tbody>\n",
              "    <tr>\n",
              "      <th>count</th>\n",
              "      <td>2851.000000</td>\n",
              "      <td>2.851000e+03</td>\n",
              "      <td>2851.000000</td>\n",
              "      <td>2851.000000</td>\n",
              "      <td>2851.000000</td>\n",
              "    </tr>\n",
              "    <tr>\n",
              "      <th>mean</th>\n",
              "      <td>41.252192</td>\n",
              "      <td>8.098990e+05</td>\n",
              "      <td>2.220975</td>\n",
              "      <td>0.506840</td>\n",
              "      <td>0.668888</td>\n",
              "    </tr>\n",
              "    <tr>\n",
              "      <th>std</th>\n",
              "      <td>9.616756</td>\n",
              "      <td>5.252003e+05</td>\n",
              "      <td>1.489941</td>\n",
              "      <td>0.500041</td>\n",
              "      <td>0.470696</td>\n",
              "    </tr>\n",
              "    <tr>\n",
              "      <th>min</th>\n",
              "      <td>21.000000</td>\n",
              "      <td>1.503000e+03</td>\n",
              "      <td>0.000000</td>\n",
              "      <td>0.000000</td>\n",
              "      <td>0.000000</td>\n",
              "    </tr>\n",
              "    <tr>\n",
              "      <th>25%</th>\n",
              "      <td>34.000000</td>\n",
              "      <td>4.009684e+05</td>\n",
              "      <td>1.000000</td>\n",
              "      <td>0.000000</td>\n",
              "      <td>0.000000</td>\n",
              "    </tr>\n",
              "    <tr>\n",
              "      <th>50%</th>\n",
              "      <td>40.000000</td>\n",
              "      <td>7.659125e+05</td>\n",
              "      <td>2.000000</td>\n",
              "      <td>1.000000</td>\n",
              "      <td>1.000000</td>\n",
              "    </tr>\n",
              "    <tr>\n",
              "      <th>75%</th>\n",
              "      <td>47.000000</td>\n",
              "      <td>1.154238e+06</td>\n",
              "      <td>3.000000</td>\n",
              "      <td>1.000000</td>\n",
              "      <td>1.000000</td>\n",
              "    </tr>\n",
              "    <tr>\n",
              "      <th>max</th>\n",
              "      <td>72.000000</td>\n",
              "      <td>2.434834e+06</td>\n",
              "      <td>5.000000</td>\n",
              "      <td>1.000000</td>\n",
              "      <td>1.000000</td>\n",
              "    </tr>\n",
              "  </tbody>\n",
              "</table>\n",
              "</div>\n",
              "      <button class=\"colab-df-convert\" onclick=\"convertToInteractive('df-dad91b86-a0f7-49e7-ac2a-dedf6694a0bd')\"\n",
              "              title=\"Convert this dataframe to an interactive table.\"\n",
              "              style=\"display:none;\">\n",
              "        \n",
              "  <svg xmlns=\"http://www.w3.org/2000/svg\" height=\"24px\"viewBox=\"0 0 24 24\"\n",
              "       width=\"24px\">\n",
              "    <path d=\"M0 0h24v24H0V0z\" fill=\"none\"/>\n",
              "    <path d=\"M18.56 5.44l.94 2.06.94-2.06 2.06-.94-2.06-.94-.94-2.06-.94 2.06-2.06.94zm-11 1L8.5 8.5l.94-2.06 2.06-.94-2.06-.94L8.5 2.5l-.94 2.06-2.06.94zm10 10l.94 2.06.94-2.06 2.06-.94-2.06-.94-.94-2.06-.94 2.06-2.06.94z\"/><path d=\"M17.41 7.96l-1.37-1.37c-.4-.4-.92-.59-1.43-.59-.52 0-1.04.2-1.43.59L10.3 9.45l-7.72 7.72c-.78.78-.78 2.05 0 2.83L4 21.41c.39.39.9.59 1.41.59.51 0 1.02-.2 1.41-.59l7.78-7.78 2.81-2.81c.8-.78.8-2.07 0-2.86zM5.41 20L4 18.59l7.72-7.72 1.47 1.35L5.41 20z\"/>\n",
              "  </svg>\n",
              "      </button>\n",
              "      \n",
              "  <style>\n",
              "    .colab-df-container {\n",
              "      display:flex;\n",
              "      flex-wrap:wrap;\n",
              "      gap: 12px;\n",
              "    }\n",
              "\n",
              "    .colab-df-convert {\n",
              "      background-color: #E8F0FE;\n",
              "      border: none;\n",
              "      border-radius: 50%;\n",
              "      cursor: pointer;\n",
              "      display: none;\n",
              "      fill: #1967D2;\n",
              "      height: 32px;\n",
              "      padding: 0 0 0 0;\n",
              "      width: 32px;\n",
              "    }\n",
              "\n",
              "    .colab-df-convert:hover {\n",
              "      background-color: #E2EBFA;\n",
              "      box-shadow: 0px 1px 2px rgba(60, 64, 67, 0.3), 0px 1px 3px 1px rgba(60, 64, 67, 0.15);\n",
              "      fill: #174EA6;\n",
              "    }\n",
              "\n",
              "    [theme=dark] .colab-df-convert {\n",
              "      background-color: #3B4455;\n",
              "      fill: #D2E3FC;\n",
              "    }\n",
              "\n",
              "    [theme=dark] .colab-df-convert:hover {\n",
              "      background-color: #434B5C;\n",
              "      box-shadow: 0px 1px 3px 1px rgba(0, 0, 0, 0.15);\n",
              "      filter: drop-shadow(0px 1px 2px rgba(0, 0, 0, 0.3));\n",
              "      fill: #FFFFFF;\n",
              "    }\n",
              "  </style>\n",
              "\n",
              "      <script>\n",
              "        const buttonEl =\n",
              "          document.querySelector('#df-dad91b86-a0f7-49e7-ac2a-dedf6694a0bd button.colab-df-convert');\n",
              "        buttonEl.style.display =\n",
              "          google.colab.kernel.accessAllowed ? 'block' : 'none';\n",
              "\n",
              "        async function convertToInteractive(key) {\n",
              "          const element = document.querySelector('#df-dad91b86-a0f7-49e7-ac2a-dedf6694a0bd');\n",
              "          const dataTable =\n",
              "            await google.colab.kernel.invokeFunction('convertToInteractive',\n",
              "                                                     [key], {});\n",
              "          if (!dataTable) return;\n",
              "\n",
              "          const docLinkHtml = 'Like what you see? Visit the ' +\n",
              "            '<a target=\"_blank\" href=https://colab.research.google.com/notebooks/data_table.ipynb>data table notebook</a>'\n",
              "            + ' to learn more about interactive tables.';\n",
              "          element.innerHTML = '';\n",
              "          dataTable['output_type'] = 'display_data';\n",
              "          await google.colab.output.renderOutput(dataTable, element);\n",
              "          const docLink = document.createElement('div');\n",
              "          docLink.innerHTML = docLinkHtml;\n",
              "          element.appendChild(docLink);\n",
              "        }\n",
              "      </script>\n",
              "    </div>\n",
              "  </div>\n",
              "  "
            ]
          },
          "metadata": {},
          "execution_count": 16
        }
      ]
    },
    {
      "cell_type": "code",
      "source": [
        "test_df.describe(include =['object'])"
      ],
      "metadata": {
        "colab": {
          "base_uri": "https://localhost:8080/",
          "height": 175
        },
        "id": "rT-hb5ggcevX",
        "outputId": "8d152c45-824d-452e-93f0-1ad1580fe408"
      },
      "execution_count": 17,
      "outputs": [
        {
          "output_type": "execute_result",
          "data": {
            "text/plain": [
              "       Gender     Income Product_Holdings Credit_Category\n",
              "count    2851       2851             2851            2851\n",
              "unique      2          4                3               3\n",
              "top      Male  10L - 15L                2            Poor\n",
              "freq     1545        844             1359            1270"
            ],
            "text/html": [
              "\n",
              "  <div id=\"df-f5cd2841-95da-46d0-b3a2-7f41eadf67b6\">\n",
              "    <div class=\"colab-df-container\">\n",
              "      <div>\n",
              "<style scoped>\n",
              "    .dataframe tbody tr th:only-of-type {\n",
              "        vertical-align: middle;\n",
              "    }\n",
              "\n",
              "    .dataframe tbody tr th {\n",
              "        vertical-align: top;\n",
              "    }\n",
              "\n",
              "    .dataframe thead th {\n",
              "        text-align: right;\n",
              "    }\n",
              "</style>\n",
              "<table border=\"1\" class=\"dataframe\">\n",
              "  <thead>\n",
              "    <tr style=\"text-align: right;\">\n",
              "      <th></th>\n",
              "      <th>Gender</th>\n",
              "      <th>Income</th>\n",
              "      <th>Product_Holdings</th>\n",
              "      <th>Credit_Category</th>\n",
              "    </tr>\n",
              "  </thead>\n",
              "  <tbody>\n",
              "    <tr>\n",
              "      <th>count</th>\n",
              "      <td>2851</td>\n",
              "      <td>2851</td>\n",
              "      <td>2851</td>\n",
              "      <td>2851</td>\n",
              "    </tr>\n",
              "    <tr>\n",
              "      <th>unique</th>\n",
              "      <td>2</td>\n",
              "      <td>4</td>\n",
              "      <td>3</td>\n",
              "      <td>3</td>\n",
              "    </tr>\n",
              "    <tr>\n",
              "      <th>top</th>\n",
              "      <td>Male</td>\n",
              "      <td>10L - 15L</td>\n",
              "      <td>2</td>\n",
              "      <td>Poor</td>\n",
              "    </tr>\n",
              "    <tr>\n",
              "      <th>freq</th>\n",
              "      <td>1545</td>\n",
              "      <td>844</td>\n",
              "      <td>1359</td>\n",
              "      <td>1270</td>\n",
              "    </tr>\n",
              "  </tbody>\n",
              "</table>\n",
              "</div>\n",
              "      <button class=\"colab-df-convert\" onclick=\"convertToInteractive('df-f5cd2841-95da-46d0-b3a2-7f41eadf67b6')\"\n",
              "              title=\"Convert this dataframe to an interactive table.\"\n",
              "              style=\"display:none;\">\n",
              "        \n",
              "  <svg xmlns=\"http://www.w3.org/2000/svg\" height=\"24px\"viewBox=\"0 0 24 24\"\n",
              "       width=\"24px\">\n",
              "    <path d=\"M0 0h24v24H0V0z\" fill=\"none\"/>\n",
              "    <path d=\"M18.56 5.44l.94 2.06.94-2.06 2.06-.94-2.06-.94-.94-2.06-.94 2.06-2.06.94zm-11 1L8.5 8.5l.94-2.06 2.06-.94-2.06-.94L8.5 2.5l-.94 2.06-2.06.94zm10 10l.94 2.06.94-2.06 2.06-.94-2.06-.94-.94-2.06-.94 2.06-2.06.94z\"/><path d=\"M17.41 7.96l-1.37-1.37c-.4-.4-.92-.59-1.43-.59-.52 0-1.04.2-1.43.59L10.3 9.45l-7.72 7.72c-.78.78-.78 2.05 0 2.83L4 21.41c.39.39.9.59 1.41.59.51 0 1.02-.2 1.41-.59l7.78-7.78 2.81-2.81c.8-.78.8-2.07 0-2.86zM5.41 20L4 18.59l7.72-7.72 1.47 1.35L5.41 20z\"/>\n",
              "  </svg>\n",
              "      </button>\n",
              "      \n",
              "  <style>\n",
              "    .colab-df-container {\n",
              "      display:flex;\n",
              "      flex-wrap:wrap;\n",
              "      gap: 12px;\n",
              "    }\n",
              "\n",
              "    .colab-df-convert {\n",
              "      background-color: #E8F0FE;\n",
              "      border: none;\n",
              "      border-radius: 50%;\n",
              "      cursor: pointer;\n",
              "      display: none;\n",
              "      fill: #1967D2;\n",
              "      height: 32px;\n",
              "      padding: 0 0 0 0;\n",
              "      width: 32px;\n",
              "    }\n",
              "\n",
              "    .colab-df-convert:hover {\n",
              "      background-color: #E2EBFA;\n",
              "      box-shadow: 0px 1px 2px rgba(60, 64, 67, 0.3), 0px 1px 3px 1px rgba(60, 64, 67, 0.15);\n",
              "      fill: #174EA6;\n",
              "    }\n",
              "\n",
              "    [theme=dark] .colab-df-convert {\n",
              "      background-color: #3B4455;\n",
              "      fill: #D2E3FC;\n",
              "    }\n",
              "\n",
              "    [theme=dark] .colab-df-convert:hover {\n",
              "      background-color: #434B5C;\n",
              "      box-shadow: 0px 1px 3px 1px rgba(0, 0, 0, 0.15);\n",
              "      filter: drop-shadow(0px 1px 2px rgba(0, 0, 0, 0.3));\n",
              "      fill: #FFFFFF;\n",
              "    }\n",
              "  </style>\n",
              "\n",
              "      <script>\n",
              "        const buttonEl =\n",
              "          document.querySelector('#df-f5cd2841-95da-46d0-b3a2-7f41eadf67b6 button.colab-df-convert');\n",
              "        buttonEl.style.display =\n",
              "          google.colab.kernel.accessAllowed ? 'block' : 'none';\n",
              "\n",
              "        async function convertToInteractive(key) {\n",
              "          const element = document.querySelector('#df-f5cd2841-95da-46d0-b3a2-7f41eadf67b6');\n",
              "          const dataTable =\n",
              "            await google.colab.kernel.invokeFunction('convertToInteractive',\n",
              "                                                     [key], {});\n",
              "          if (!dataTable) return;\n",
              "\n",
              "          const docLinkHtml = 'Like what you see? Visit the ' +\n",
              "            '<a target=\"_blank\" href=https://colab.research.google.com/notebooks/data_table.ipynb>data table notebook</a>'\n",
              "            + ' to learn more about interactive tables.';\n",
              "          element.innerHTML = '';\n",
              "          dataTable['output_type'] = 'display_data';\n",
              "          await google.colab.output.renderOutput(dataTable, element);\n",
              "          const docLink = document.createElement('div');\n",
              "          docLink.innerHTML = docLinkHtml;\n",
              "          element.appendChild(docLink);\n",
              "        }\n",
              "      </script>\n",
              "    </div>\n",
              "  </div>\n",
              "  "
            ]
          },
          "metadata": {},
          "execution_count": 17
        }
      ]
    },
    {
      "cell_type": "markdown",
      "source": [
        "### Missing Values"
      ],
      "metadata": {
        "id": "EPZ2Mn-dcwve"
      }
    },
    {
      "cell_type": "code",
      "source": [
        "train_df.isna().sum()"
      ],
      "metadata": {
        "colab": {
          "base_uri": "https://localhost:8080/"
        },
        "id": "crGxA5IdcjzF",
        "outputId": "f18a75de-0276-4cb0-9ad7-b7937bb77eda"
      },
      "execution_count": 18,
      "outputs": [
        {
          "output_type": "execute_result",
          "data": {
            "text/plain": [
              "Age                   0\n",
              "Gender                0\n",
              "Income                0\n",
              "Balance               0\n",
              "Vintage               0\n",
              "Transaction_Status    0\n",
              "Product_Holdings      0\n",
              "Credit_Card           0\n",
              "Credit_Category       0\n",
              "Is_Churn              0\n",
              "dtype: int64"
            ]
          },
          "metadata": {},
          "execution_count": 18
        }
      ]
    },
    {
      "cell_type": "code",
      "source": [
        "test_df.isna().sum()"
      ],
      "metadata": {
        "colab": {
          "base_uri": "https://localhost:8080/"
        },
        "id": "qIY1w7FAef52",
        "outputId": "a2bc2ea4-c467-4e5d-cf0a-a7945b8c9955"
      },
      "execution_count": 19,
      "outputs": [
        {
          "output_type": "execute_result",
          "data": {
            "text/plain": [
              "Age                   0\n",
              "Gender                0\n",
              "Income                0\n",
              "Balance               0\n",
              "Vintage               0\n",
              "Transaction_Status    0\n",
              "Product_Holdings      0\n",
              "Credit_Card           0\n",
              "Credit_Category       0\n",
              "dtype: int64"
            ]
          },
          "metadata": {},
          "execution_count": 19
        }
      ]
    },
    {
      "cell_type": "markdown",
      "source": [
        "Great! we don't have any missing values in the given datasets"
      ],
      "metadata": {
        "id": "JHTOIvc1elId"
      }
    },
    {
      "cell_type": "markdown",
      "source": [
        "## **Exploratory Analysis and Visualisation**\n",
        "1. Univariate analysis \n",
        "2. Multivariate Analysis "
      ],
      "metadata": {
        "id": "60XAqLtdf2WV"
      }
    },
    {
      "cell_type": "markdown",
      "source": [
        "#### **Univariate Analysis** "
      ],
      "metadata": {
        "id": "7Q3XMT6PhUq7"
      }
    },
    {
      "cell_type": "code",
      "source": [
        "### plotting the catagorical columns.\n",
        "fig, axs = plt.subplots(nrows = 2 , ncols = 3,figsize=(18, 12))\n",
        "sns.countplot(x= 'Gender', data=train_df, ax = axs[0,0])\n",
        "sns.countplot(x= 'Income', data=train_df, ax = axs[0,1])\n",
        "sns.countplot(x= 'Product_Holdings', data=train_df, ax = axs[0,2])\n",
        "sns.countplot(x= 'Credit_Category', data=train_df, ax = axs[1,0])\n",
        "sns.countplot(x= 'Product_Holdings', data=train_df, ax = axs[1,1])\n",
        "sns.countplot(x= 'Credit_Card', data=train_df, ax = axs[1,2])\n",
        "plt.show()"
      ],
      "metadata": {
        "colab": {
          "base_uri": "https://localhost:8080/",
          "height": 715
        },
        "id": "6AGLo1bUuiZW",
        "outputId": "b4ea206c-8c2f-4665-df6c-e3978bd05173"
      },
      "execution_count": 20,
      "outputs": [
        {
          "output_type": "display_data",
          "data": {
            "text/plain": [
              "<Figure size 1296x864 with 6 Axes>"
            ],
            "image/png": "[encoded data removed]"
          },
          "metadata": {
            "needs_background": "light"
          }
        }
      ]
    },
    {
      "cell_type": "code",
      "source": [
        "### plotting histograms & boxplot for both 'Age'& 'Balance' columns\n",
        "fig, axs = plt.subplots(nrows = 3 , ncols = 2,figsize=(18, 16))\n",
        "sns.histplot(x= 'Age', data=train_df,kde= True , ax = axs[0,0])\n",
        "sns.histplot(x= 'Balance', data=train_df, kde=True,ax = axs[1,0])\n",
        "sns.boxplot (x= 'Age', data=train_df, ax = axs[0,1])\n",
        "sns.boxplot(x= 'Balance', data=train_df, ax = axs[1,1])\n",
        "sns.histplot(x= 'Vintage', data=train_df, ax = axs[2,0],bins = 6)\n",
        "sns.boxplot(x= 'Vintage', data=train_df, ax = axs[2,1])\n",
        "plt.show()"
      ],
      "metadata": {
        "colab": {
          "base_uri": "https://localhost:8080/",
          "height": 932
        },
        "id": "XPTScYi4wudu",
        "outputId": "f4a02a9e-5ebc-486e-8d05-3e44bb3fc7c1"
      },
      "execution_count": 21,
      "outputs": [
        {
          "output_type": "display_data",
          "data": {
            "text/plain": [
              "<Figure size 1296x1152 with 6 Axes>"
            ],
            "image/png": "[encoded data removed]"
          },
          "metadata": {
            "needs_background": "light"
          }
        }
      ]
    },
    {
      "cell_type": "markdown",
      "source": [
        "\n",
        "\n",
        "*  As we can see in the histplot, both the Age and Balance colum consists of outliers in the data.\n",
        "*  The balance column follows right skewed ditribution.\n",
        "*   The Vintage column implies there are very less number of customers who stay in the same bank more than 4 years.\n",
        "\n",
        "\n",
        "\n",
        "\n",
        "\n",
        "### **Bivariate analysis**\n",
        "\n"
      ],
      "metadata": {
        "id": "OQCwj8BIy94a"
      }
    },
    {
      "cell_type": "code",
      "source": [
        "fig, axs = plt.subplots(nrows = 2 , ncols = 3,figsize=(18, 10))\n",
        "sns.countplot(x= 'Gender', hue = 'Is_Churn',data=train_df, ax = axs[0,0])\n",
        "sns.countplot(x= 'Income',hue = 'Is_Churn', data=train_df, ax = axs[0,1])\n",
        "sns.countplot(x= 'Product_Holdings',hue = 'Is_Churn', data=train_df, ax = axs[0,2])\n",
        "sns.countplot(x= 'Credit_Category',hue = 'Is_Churn', data=train_df, ax = axs[1,0])\n",
        "sns.countplot(x= 'Product_Holdings',hue = 'Is_Churn', data=train_df, ax = axs[1,1])\n",
        "sns.countplot(x= 'Credit_Card',hue = 'Is_Churn', data=train_df, ax = axs[1,2])\n",
        "plt.show()"
      ],
      "metadata": {
        "colab": {
          "base_uri": "https://localhost:8080/",
          "height": 606
        },
        "id": "97LZa6Ki0u0P",
        "outputId": "99dd4f8e-786c-466d-eb47-20b9a9a69587"
      },
      "execution_count": 22,
      "outputs": [
        {
          "output_type": "display_data",
          "data": {
            "text/plain": [
              "<Figure size 1296x720 with 6 Axes>"
            ],
            "image/png": "[encoded data removed]"
          },
          "metadata": {
            "needs_background": "light"
          }
        }
      ]
    },
    {
      "cell_type": "markdown",
      "source": [
        "1. In both the gender almost equal amount of employees are likely to leave the Bank. "
      ],
      "metadata": {
        "id": "0D5xpGHo4B_d"
      }
    },
    {
      "cell_type": "code",
      "source": [
        "### plotting histograms & boxplot for both 'Age'& 'Balance' columns\n",
        "fig, axs = plt.subplots(nrows = 1 , ncols = 3,figsize=(23, 6))\n",
        "sns.histplot(x= 'Age',hue = 'Is_Churn', data=train_df,kde= True , ax = axs[0])\n",
        "sns.histplot(x= 'Balance',hue = 'Is_Churn', data=train_df, kde=True,ax = axs[1])\n",
        "sns.histplot(x= 'Vintage',hue = 'Is_Churn', data=train_df,bins = 6,ax = axs[2])\n",
        "plt.show()"
      ],
      "metadata": {
        "colab": {
          "base_uri": "https://localhost:8080/",
          "height": 328
        },
        "id": "bRW65KSs0YRG",
        "outputId": "1cf92fc9-f470-477c-f0f1-c69dc7e7246a"
      },
      "execution_count": 23,
      "outputs": [
        {
          "output_type": "display_data",
          "data": {
            "text/plain": [
              "<Figure size 1656x432 with 3 Axes>"
            ],
            "image/png": "[encoded data removed]"
          },
          "metadata": {
            "needs_background": "light"
          }
        }
      ]
    },
    {
      "cell_type": "markdown",
      "source": [
        "\n",
        "*   The employees who are in between 35-55 range are more likely to leave the bank.  \n",
        "\n"
      ],
      "metadata": {
        "id": "q4vpIu-B37V9"
      }
    },
    {
      "cell_type": "code",
      "source": [
        "### with respect to the 'Is_Churn'column the the boxplot for 'Age' and 'Balance' column\n",
        "list_of_feature = ['Age','Balance']\n",
        "fig, axs = plt.subplots(ncols = 2,figsize=(15, 5))\n",
        "for feature in list_of_feature:\n",
        "    train_df.boxplot(column=feature, by='Is_Churn',ax = axs[list_of_feature.index(feature)])\n",
        "    plt.title(feature)\n",
        "plt.show()"
      ],
      "metadata": {
        "colab": {
          "base_uri": "https://localhost:8080/",
          "height": 362
        },
        "id": "jqrTqE00H7-z",
        "outputId": "035a709c-9f1c-4bcf-c322-bcc998d12313"
      },
      "execution_count": 24,
      "outputs": [
        {
          "output_type": "display_data",
          "data": {
            "text/plain": [
              "<Figure size 1080x360 with 2 Axes>"
            ],
            "image/png": "[encoded data removed]"
          },
          "metadata": {
            "needs_background": "light"
          }
        }
      ]
    },
    {
      "cell_type": "code",
      "source": [
        "### correlation between independent varibles\n",
        "mask = np.zeros_like(train_df.corr(), dtype=np.bool)\n",
        "mask[np.triu_indices_from(mask)] = True\n",
        "plt.figure(figsize=(10,10))\n",
        "Corr = train_df\n",
        "colormap = plt.cm.magma\n",
        "plt.title('HeatMap to show Correlation between Base Stats', y=1.05, size=15)\n",
        "sns.heatmap(Corr.corr(),linewidths=0.1,vmax=1, square=True, cmap=colormap, linecolor='white', annot=True,mask=mask)"
      ],
      "metadata": {
        "colab": {
          "base_uri": "https://localhost:8080/",
          "height": 649
        },
        "id": "fn1DB3-59SNG",
        "outputId": "1d7b792e-d984-4e70-b6d5-a18d64c5751e"
      },
      "execution_count": 25,
      "outputs": [
        {
          "output_type": "execute_result",
          "data": {
            "text/plain": [
              "<matplotlib.axes._subplots.AxesSubplot at 0x7f356888e550>"
            ]
          },
          "metadata": {},
          "execution_count": 25
        },
        {
          "output_type": "display_data",
          "data": {
            "text/plain": [
              "<Figure size 720x720 with 2 Axes>"
            ],
            "image/png": "[encoded data removed]"
          },
          "metadata": {
            "needs_background": "light"
          }
        }
      ]
    },
    {
      "cell_type": "markdown",
      "source": [
        "None of the features are strongly correlated with the target varible 'Is_Churn'."
      ],
      "metadata": {
        "id": "IMMu9q7-WiTm"
      }
    },
    {
      "cell_type": "code",
      "source": [
        "train_df.columns"
      ],
      "metadata": {
        "colab": {
          "base_uri": "https://localhost:8080/"
        },
        "id": "a_O0zv1g7pjQ",
        "outputId": "2f74ed32-f25b-4c42-8758-1bcf6f4d88e8"
      },
      "execution_count": 26,
      "outputs": [
        {
          "output_type": "execute_result",
          "data": {
            "text/plain": [
              "Index(['Age', 'Gender', 'Income', 'Balance', 'Vintage', 'Transaction_Status',\n",
              "       'Product_Holdings', 'Credit_Card', 'Credit_Category', 'Is_Churn'],\n",
              "      dtype='object')"
            ]
          },
          "metadata": {},
          "execution_count": 26
        }
      ]
    },
    {
      "cell_type": "code",
      "source": [
        "#Cheking Multicollinearity\n",
        "from statsmodels.stats.outliers_influence import variance_inflation_factor\n",
        "def calc_vif(X):\n",
        "  \n",
        "    # Calculating VIF\n",
        "    vif = pd.DataFrame()\n",
        "    vif[\"variables\"] = X.columns\n",
        "    vif[\"VIF\"] = [variance_inflation_factor(X.values, i) for i in range(X.shape[1])]\n",
        "\n",
        "    return(vif)"
      ],
      "metadata": {
        "id": "QRPb-uc-7oak"
      },
      "execution_count": 27,
      "outputs": []
    },
    {
      "cell_type": "code",
      "source": [
        "calc_vif(train_df[[i for i in train_df.describe().columns if i not in ['Is_Churn']]])"
      ],
      "metadata": {
        "colab": {
          "base_uri": "https://localhost:8080/",
          "height": 206
        },
        "id": "h_K1L64a7zGp",
        "outputId": "fe7001c8-2397-4cc2-dc9e-e5de5f1702a3"
      },
      "execution_count": 28,
      "outputs": [
        {
          "output_type": "execute_result",
          "data": {
            "text/plain": [
              "            variables       VIF\n",
              "0                 Age  6.579676\n",
              "1             Balance  3.097499\n",
              "2             Vintage  3.088312\n",
              "3  Transaction_Status  2.000456\n",
              "4         Credit_Card  2.765189"
            ],
            "text/html": [
              "\n",
              "  <div id=\"df-41ad4d47-b059-4f49-9de7-390fff2c3758\">\n",
              "    <div class=\"colab-df-container\">\n",
              "      <div>\n",
              "<style scoped>\n",
              "    .dataframe tbody tr th:only-of-type {\n",
              "        vertical-align: middle;\n",
              "    }\n",
              "\n",
              "    .dataframe tbody tr th {\n",
              "        vertical-align: top;\n",
              "    }\n",
              "\n",
              "    .dataframe thead th {\n",
              "        text-align: right;\n",
              "    }\n",
              "</style>\n",
              "<table border=\"1\" class=\"dataframe\">\n",
              "  <thead>\n",
              "    <tr style=\"text-align: right;\">\n",
              "      <th></th>\n",
              "      <th>variables</th>\n",
              "      <th>VIF</th>\n",
              "    </tr>\n",
              "  </thead>\n",
              "  <tbody>\n",
              "    <tr>\n",
              "      <th>0</th>\n",
              "      <td>Age</td>\n",
              "      <td>6.579676</td>\n",
              "    </tr>\n",
              "    <tr>\n",
              "      <th>1</th>\n",
              "      <td>Balance</td>\n",
              "      <td>3.097499</td>\n",
              "    </tr>\n",
              "    <tr>\n",
              "      <th>2</th>\n",
              "      <td>Vintage</td>\n",
              "      <td>3.088312</td>\n",
              "    </tr>\n",
              "    <tr>\n",
              "      <th>3</th>\n",
              "      <td>Transaction_Status</td>\n",
              "      <td>2.000456</td>\n",
              "    </tr>\n",
              "    <tr>\n",
              "      <th>4</th>\n",
              "      <td>Credit_Card</td>\n",
              "      <td>2.765189</td>\n",
              "    </tr>\n",
              "  </tbody>\n",
              "</table>\n",
              "</div>\n",
              "      <button class=\"colab-df-convert\" onclick=\"convertToInteractive('df-41ad4d47-b059-4f49-9de7-390fff2c3758')\"\n",
              "              title=\"Convert this dataframe to an interactive table.\"\n",
              "              style=\"display:none;\">\n",
              "        \n",
              "  <svg xmlns=\"http://www.w3.org/2000/svg\" height=\"24px\"viewBox=\"0 0 24 24\"\n",
              "       width=\"24px\">\n",
              "    <path d=\"M0 0h24v24H0V0z\" fill=\"none\"/>\n",
              "    <path d=\"M18.56 5.44l.94 2.06.94-2.06 2.06-.94-2.06-.94-.94-2.06-.94 2.06-2.06.94zm-11 1L8.5 8.5l.94-2.06 2.06-.94-2.06-.94L8.5 2.5l-.94 2.06-2.06.94zm10 10l.94 2.06.94-2.06 2.06-.94-2.06-.94-.94-2.06-.94 2.06-2.06.94z\"/><path d=\"M17.41 7.96l-1.37-1.37c-.4-.4-.92-.59-1.43-.59-.52 0-1.04.2-1.43.59L10.3 9.45l-7.72 7.72c-.78.78-.78 2.05 0 2.83L4 21.41c.39.39.9.59 1.41.59.51 0 1.02-.2 1.41-.59l7.78-7.78 2.81-2.81c.8-.78.8-2.07 0-2.86zM5.41 20L4 18.59l7.72-7.72 1.47 1.35L5.41 20z\"/>\n",
              "  </svg>\n",
              "      </button>\n",
              "      \n",
              "  <style>\n",
              "    .colab-df-container {\n",
              "      display:flex;\n",
              "      flex-wrap:wrap;\n",
              "      gap: 12px;\n",
              "    }\n",
              "\n",
              "    .colab-df-convert {\n",
              "      background-color: #E8F0FE;\n",
              "      border: none;\n",
              "      border-radius: 50%;\n",
              "      cursor: pointer;\n",
              "      display: none;\n",
              "      fill: #1967D2;\n",
              "      height: 32px;\n",
              "      padding: 0 0 0 0;\n",
              "      width: 32px;\n",
              "    }\n",
              "\n",
              "    .colab-df-convert:hover {\n",
              "      background-color: #E2EBFA;\n",
              "      box-shadow: 0px 1px 2px rgba(60, 64, 67, 0.3), 0px 1px 3px 1px rgba(60, 64, 67, 0.15);\n",
              "      fill: #174EA6;\n",
              "    }\n",
              "\n",
              "    [theme=dark] .colab-df-convert {\n",
              "      background-color: #3B4455;\n",
              "      fill: #D2E3FC;\n",
              "    }\n",
              "\n",
              "    [theme=dark] .colab-df-convert:hover {\n",
              "      background-color: #434B5C;\n",
              "      box-shadow: 0px 1px 3px 1px rgba(0, 0, 0, 0.15);\n",
              "      filter: drop-shadow(0px 1px 2px rgba(0, 0, 0, 0.3));\n",
              "      fill: #FFFFFF;\n",
              "    }\n",
              "  </style>\n",
              "\n",
              "      <script>\n",
              "        const buttonEl =\n",
              "          document.querySelector('#df-41ad4d47-b059-4f49-9de7-390fff2c3758 button.colab-df-convert');\n",
              "        buttonEl.style.display =\n",
              "          google.colab.kernel.accessAllowed ? 'block' : 'none';\n",
              "\n",
              "        async function convertToInteractive(key) {\n",
              "          const element = document.querySelector('#df-41ad4d47-b059-4f49-9de7-390fff2c3758');\n",
              "          const dataTable =\n",
              "            await google.colab.kernel.invokeFunction('convertToInteractive',\n",
              "                                                     [key], {});\n",
              "          if (!dataTable) return;\n",
              "\n",
              "          const docLinkHtml = 'Like what you see? Visit the ' +\n",
              "            '<a target=\"_blank\" href=https://colab.research.google.com/notebooks/data_table.ipynb>data table notebook</a>'\n",
              "            + ' to learn more about interactive tables.';\n",
              "          element.innerHTML = '';\n",
              "          dataTable['output_type'] = 'display_data';\n",
              "          await google.colab.output.renderOutput(dataTable, element);\n",
              "          const docLink = document.createElement('div');\n",
              "          docLink.innerHTML = docLinkHtml;\n",
              "          element.appendChild(docLink);\n",
              "        }\n",
              "      </script>\n",
              "    </div>\n",
              "  </div>\n",
              "  "
            ]
          },
          "metadata": {},
          "execution_count": 28
        }
      ]
    },
    {
      "cell_type": "markdown",
      "source": [
        "VIF values between 1 and 5 suggest that the correlation is not severe enough to warrant corrective measures. VIF value of Age columns is > 5 representing critical levels of multicollinearity where the coefficient estimates may not be trusted and the statistical significance is questionable.<br> \n",
        "So l will be trasnforming the age column by using RobustScaler function."
      ],
      "metadata": {
        "id": "hxsBLZxBAywJ"
      }
    },
    {
      "cell_type": "markdown",
      "source": [
        "### **Outliers Detection & removel**"
      ],
      "metadata": {
        "id": "L2Dxo5h24znl"
      }
    },
    {
      "cell_type": "markdown",
      "source": [
        "Both the Age and Balance column contains outliers. In order to remove the outliers & reduce VIF value in the age columns performing the binning for both the train and test dataset"
      ],
      "metadata": {
        "id": "wS9_fpEb5L9U"
      }
    },
    {
      "cell_type": "code",
      "source": [
        "# ### Performing binning and converting the age column into 10 discrete buckets\n",
        "# train_df['Age_catagory'] = pd.cut(x=train_df['Age'], bins=[1, 25, 30, 35, 40,45,50,55,60,65,80],\n",
        "#                      labels=['lessthan_25', '26-30','31-35','36-40','41 to 45','46-50','51-55','56-60',\n",
        "#                            '61-65'  ,'greaterthan_66'])\n",
        "\n",
        "# ### Performing same actions on test data\n",
        "# test_df['Age_catagory'] = pd.cut(x=test_df['Age'] , bins=[1, 25, 30, 35, 40,45,50,55,60,65,80],\n",
        "#                      labels=['lessthan_25', '26-30','31-35','36-40','41 to 45','46-50','51-55','56-60',\n",
        "#                            '61-65'  ,'greaterthan_66'])"
      ],
      "metadata": {
        "id": "1S5e444K31xH"
      },
      "execution_count": 29,
      "outputs": []
    },
    {
      "cell_type": "code",
      "source": [
        "# train_df['Age_catagory'].dtype"
      ],
      "metadata": {
        "id": "P1J4QbJE7DJm"
      },
      "execution_count": 30,
      "outputs": []
    },
    {
      "cell_type": "code",
      "source": [
        "# ### converting data type of newly created Age_catagory column\n",
        "#train_df['Age_catagory'] = train_df['Age_catagory'].astype('object')\n",
        "# test_df['Age_catagory']  = test_df['Age_catagory'] .astype('object')"
      ],
      "metadata": {
        "id": "tOTq6GBJ5wn6"
      },
      "execution_count": 31,
      "outputs": []
    },
    {
      "cell_type": "code",
      "source": [
        "### Since the range of values in the Balance column is higher comapred to other features I am checking the log trasformation of Balance column.\n",
        "train_df['Log_Balance'] = np.log(train_df['Balance'])\n",
        " \n",
        "fig, axs = plt.subplots(ncols = 2,figsize=(18, 5))\n",
        "sns.histplot(x= 'Balance', data=train_df,kde= True , ax = axs[0])\n",
        "sns.histplot(x= 'Log_Balance', data=train_df, kde=True,ax = axs[1])"
      ],
      "metadata": {
        "colab": {
          "base_uri": "https://localhost:8080/",
          "height": 353
        },
        "id": "T0pGcVksIGT9",
        "outputId": "e9d260f3-be9f-4277-e022-592630f375b1"
      },
      "execution_count": 32,
      "outputs": [
        {
          "output_type": "execute_result",
          "data": {
            "text/plain": [
              "<matplotlib.axes._subplots.AxesSubplot at 0x7f3565cbb050>"
            ]
          },
          "metadata": {},
          "execution_count": 32
        },
        {
          "output_type": "display_data",
          "data": {
            "text/plain": [
              "<Figure size 1296x360 with 2 Axes>"
            ],
            "image/png": "[encoded data removed]"
          },
          "metadata": {
            "needs_background": "light"
          }
        }
      ]
    },
    {
      "cell_type": "code",
      "source": [
        "calc_vif(train_df[[i for i in train_df.describe().columns if i not in ['Is_Churn','Balance']]])"
      ],
      "metadata": {
        "colab": {
          "base_uri": "https://localhost:8080/",
          "height": 206
        },
        "id": "RdF8Uw0AmmX7",
        "outputId": "8c797965-d3a8-4e49-96c9-f9c2a384508e"
      },
      "execution_count": 33,
      "outputs": [
        {
          "output_type": "execute_result",
          "data": {
            "text/plain": [
              "            variables        VIF\n",
              "0                 Age  17.324829\n",
              "1             Vintage   3.323295\n",
              "2  Transaction_Status   2.059435\n",
              "3         Credit_Card   2.934501\n",
              "4         Log_Balance  20.720171"
            ],
            "text/html": [
              "\n",
              "  <div id=\"df-a01d0c14-4a44-40fc-bf1a-f33eb2ff3e90\">\n",
              "    <div class=\"colab-df-container\">\n",
              "      <div>\n",
              "<style scoped>\n",
              "    .dataframe tbody tr th:only-of-type {\n",
              "        vertical-align: middle;\n",
              "    }\n",
              "\n",
              "    .dataframe tbody tr th {\n",
              "        vertical-align: top;\n",
              "    }\n",
              "\n",
              "    .dataframe thead th {\n",
              "        text-align: right;\n",
              "    }\n",
              "</style>\n",
              "<table border=\"1\" class=\"dataframe\">\n",
              "  <thead>\n",
              "    <tr style=\"text-align: right;\">\n",
              "      <th></th>\n",
              "      <th>variables</th>\n",
              "      <th>VIF</th>\n",
              "    </tr>\n",
              "  </thead>\n",
              "  <tbody>\n",
              "    <tr>\n",
              "      <th>0</th>\n",
              "      <td>Age</td>\n",
              "      <td>17.324829</td>\n",
              "    </tr>\n",
              "    <tr>\n",
              "      <th>1</th>\n",
              "      <td>Vintage</td>\n",
              "      <td>3.323295</td>\n",
              "    </tr>\n",
              "    <tr>\n",
              "      <th>2</th>\n",
              "      <td>Transaction_Status</td>\n",
              "      <td>2.059435</td>\n",
              "    </tr>\n",
              "    <tr>\n",
              "      <th>3</th>\n",
              "      <td>Credit_Card</td>\n",
              "      <td>2.934501</td>\n",
              "    </tr>\n",
              "    <tr>\n",
              "      <th>4</th>\n",
              "      <td>Log_Balance</td>\n",
              "      <td>20.720171</td>\n",
              "    </tr>\n",
              "  </tbody>\n",
              "</table>\n",
              "</div>\n",
              "      <button class=\"colab-df-convert\" onclick=\"convertToInteractive('df-a01d0c14-4a44-40fc-bf1a-f33eb2ff3e90')\"\n",
              "              title=\"Convert this dataframe to an interactive table.\"\n",
              "              style=\"display:none;\">\n",
              "        \n",
              "  <svg xmlns=\"http://www.w3.org/2000/svg\" height=\"24px\"viewBox=\"0 0 24 24\"\n",
              "       width=\"24px\">\n",
              "    <path d=\"M0 0h24v24H0V0z\" fill=\"none\"/>\n",
              "    <path d=\"M18.56 5.44l.94 2.06.94-2.06 2.06-.94-2.06-.94-.94-2.06-.94 2.06-2.06.94zm-11 1L8.5 8.5l.94-2.06 2.06-.94-2.06-.94L8.5 2.5l-.94 2.06-2.06.94zm10 10l.94 2.06.94-2.06 2.06-.94-2.06-.94-.94-2.06-.94 2.06-2.06.94z\"/><path d=\"M17.41 7.96l-1.37-1.37c-.4-.4-.92-.59-1.43-.59-.52 0-1.04.2-1.43.59L10.3 9.45l-7.72 7.72c-.78.78-.78 2.05 0 2.83L4 21.41c.39.39.9.59 1.41.59.51 0 1.02-.2 1.41-.59l7.78-7.78 2.81-2.81c.8-.78.8-2.07 0-2.86zM5.41 20L4 18.59l7.72-7.72 1.47 1.35L5.41 20z\"/>\n",
              "  </svg>\n",
              "      </button>\n",
              "      \n",
              "  <style>\n",
              "    .colab-df-container {\n",
              "      display:flex;\n",
              "      flex-wrap:wrap;\n",
              "      gap: 12px;\n",
              "    }\n",
              "\n",
              "    .colab-df-convert {\n",
              "      background-color: #E8F0FE;\n",
              "      border: none;\n",
              "      border-radius: 50%;\n",
              "      cursor: pointer;\n",
              "      display: none;\n",
              "      fill: #1967D2;\n",
              "      height: 32px;\n",
              "      padding: 0 0 0 0;\n",
              "      width: 32px;\n",
              "    }\n",
              "\n",
              "    .colab-df-convert:hover {\n",
              "      background-color: #E2EBFA;\n",
              "      box-shadow: 0px 1px 2px rgba(60, 64, 67, 0.3), 0px 1px 3px 1px rgba(60, 64, 67, 0.15);\n",
              "      fill: #174EA6;\n",
              "    }\n",
              "\n",
              "    [theme=dark] .colab-df-convert {\n",
              "      background-color: #3B4455;\n",
              "      fill: #D2E3FC;\n",
              "    }\n",
              "\n",
              "    [theme=dark] .colab-df-convert:hover {\n",
              "      background-color: #434B5C;\n",
              "      box-shadow: 0px 1px 3px 1px rgba(0, 0, 0, 0.15);\n",
              "      filter: drop-shadow(0px 1px 2px rgba(0, 0, 0, 0.3));\n",
              "      fill: #FFFFFF;\n",
              "    }\n",
              "  </style>\n",
              "\n",
              "      <script>\n",
              "        const buttonEl =\n",
              "          document.querySelector('#df-a01d0c14-4a44-40fc-bf1a-f33eb2ff3e90 button.colab-df-convert');\n",
              "        buttonEl.style.display =\n",
              "          google.colab.kernel.accessAllowed ? 'block' : 'none';\n",
              "\n",
              "        async function convertToInteractive(key) {\n",
              "          const element = document.querySelector('#df-a01d0c14-4a44-40fc-bf1a-f33eb2ff3e90');\n",
              "          const dataTable =\n",
              "            await google.colab.kernel.invokeFunction('convertToInteractive',\n",
              "                                                     [key], {});\n",
              "          if (!dataTable) return;\n",
              "\n",
              "          const docLinkHtml = 'Like what you see? Visit the ' +\n",
              "            '<a target=\"_blank\" href=https://colab.research.google.com/notebooks/data_table.ipynb>data table notebook</a>'\n",
              "            + ' to learn more about interactive tables.';\n",
              "          element.innerHTML = '';\n",
              "          dataTable['output_type'] = 'display_data';\n",
              "          await google.colab.output.renderOutput(dataTable, element);\n",
              "          const docLink = document.createElement('div');\n",
              "          docLink.innerHTML = docLinkHtml;\n",
              "          element.appendChild(docLink);\n",
              "        }\n",
              "      </script>\n",
              "    </div>\n",
              "  </div>\n",
              "  "
            ]
          },
          "metadata": {},
          "execution_count": 33
        }
      ]
    },
    {
      "cell_type": "markdown",
      "source": [
        "The transformaed log column is showing higer VIF value in this data. So instead of transforming the Balance column by log, I will try using RobustScaler which can deal with the outliers in the Balance column."
      ],
      "metadata": {
        "id": "eBz_95IAIk4t"
      }
    },
    {
      "cell_type": "code",
      "source": [
        "### dropping the log transformed column\n",
        "train_df.drop('Log_Balance',axis = 1, inplace = True)"
      ],
      "metadata": {
        "id": "05HXHnlGoAU3"
      },
      "execution_count": 34,
      "outputs": []
    },
    {
      "cell_type": "markdown",
      "source": [
        "### OVERSAMPLING"
      ],
      "metadata": {
        "id": "oOshpSS2d3a2"
      }
    },
    {
      "cell_type": "code",
      "source": [
        "count_class_0, count_class_1 = train_df.Is_Churn.value_counts()"
      ],
      "metadata": {
        "id": "UMvRxh1qdnhN"
      },
      "execution_count": 35,
      "outputs": []
    },
    {
      "cell_type": "code",
      "source": [
        "# Divide by class\n",
        "train_df_class_0 = train_df[train_df['Is_Churn'] == 0]\n",
        "train_df_class_1 = train_df[train_df['Is_Churn'] == 1]"
      ],
      "metadata": {
        "id": "F7j8sdAReEP4"
      },
      "execution_count": 36,
      "outputs": []
    },
    {
      "cell_type": "code",
      "source": [
        "print(train_df_class_0 .shape)\n",
        "print(train_df_class_1 .shape)"
      ],
      "metadata": {
        "colab": {
          "base_uri": "https://localhost:8080/"
        },
        "id": "_bO4U5IyeLXo",
        "outputId": "e01572d3-fd53-4f4a-d330-608ce9207ece"
      },
      "execution_count": 37,
      "outputs": [
        {
          "output_type": "stream",
          "name": "stdout",
          "text": [
            "(5113, 10)\n",
            "(1537, 10)\n"
          ]
        }
      ]
    },
    {
      "cell_type": "code",
      "source": [
        "### Oversample 1-class and concat the DataFrames of both classes\n",
        "train_df_class_1_over = train_df_class_1.sample(count_class_0, replace=True)\n",
        "new_train_df = pd.concat([train_df_class_0, train_df_class_1_over ], axis=0)\n",
        "\n",
        "print('Random over-sampling:')\n",
        "print(new_train_df.Is_Churn.value_counts())"
      ],
      "metadata": {
        "colab": {
          "base_uri": "https://localhost:8080/"
        },
        "id": "tO-iStO7eM6p",
        "outputId": "535df062-51fc-4103-f5b5-3ebe02a0db43"
      },
      "execution_count": 38,
      "outputs": [
        {
          "output_type": "stream",
          "name": "stdout",
          "text": [
            "Random over-sampling:\n",
            "0    5113\n",
            "1    5113\n",
            "Name: Is_Churn, dtype: int64\n"
          ]
        }
      ]
    },
    {
      "cell_type": "code",
      "source": [
        "new_train_df.shape"
      ],
      "metadata": {
        "colab": {
          "base_uri": "https://localhost:8080/"
        },
        "id": "RC5lR64V8FL4",
        "outputId": "4f99fae7-5a65-4ecf-a520-f2438c8b5deb"
      },
      "execution_count": 39,
      "outputs": [
        {
          "output_type": "execute_result",
          "data": {
            "text/plain": [
              "(10226, 10)"
            ]
          },
          "metadata": {},
          "execution_count": 39
        }
      ]
    },
    {
      "cell_type": "code",
      "source": [
        "new_train_df.columns"
      ],
      "metadata": {
        "colab": {
          "base_uri": "https://localhost:8080/"
        },
        "id": "vVDYtDObiqtt",
        "outputId": "b1b7d76d-96df-465e-f408-50a413f96376"
      },
      "execution_count": 40,
      "outputs": [
        {
          "output_type": "execute_result",
          "data": {
            "text/plain": [
              "Index(['Age', 'Gender', 'Income', 'Balance', 'Vintage', 'Transaction_Status',\n",
              "       'Product_Holdings', 'Credit_Card', 'Credit_Category', 'Is_Churn'],\n",
              "      dtype='object')"
            ]
          },
          "metadata": {},
          "execution_count": 40
        }
      ]
    },
    {
      "cell_type": "markdown",
      "source": [
        "### splitting train and test data "
      ],
      "metadata": {
        "id": "Q_tB3AoNP5DX"
      }
    },
    {
      "cell_type": "code",
      "source": [
        "#input_col = [ 'Age_catagory', 'Gender', 'Income', 'log_Balance', 'Vintage','Transaction_Status', 'Product_Holdings', 'Credit_Card','Credit_Category']\n",
        "input_col = ['Age','Gender', 'Income', 'Vintage','Transaction_Status', 'Product_Holdings', 'Credit_Card','Credit_Category','Balance']\n",
        "\n",
        "### Identifying target column\n",
        "target_col = 'Is_Churn'"
      ],
      "metadata": {
        "id": "Zlfj_VFmEww4"
      },
      "execution_count": 41,
      "outputs": []
    },
    {
      "cell_type": "code",
      "source": [
        "#### importing required libraries for Data splitting for training & Validation \n",
        "from sklearn.model_selection import train_test_split\n",
        "\n",
        "### taking 25% of training data as validating data \n",
        "X_train_df , X_val_df = train_test_split(new_train_df, test_size=0.25, random_state=5,stratify =new_train_df['Is_Churn'])"
      ],
      "metadata": {
        "id": "cvqFOX2OjDMU"
      },
      "execution_count": 42,
      "outputs": []
    },
    {
      "cell_type": "code",
      "source": [
        "### Identifying target column\n",
        "target_col = 'Is_Churn'\n",
        "\n",
        "### inputs and targets for the training \n",
        "X_train = X_train_df[input_col]\n",
        "y_train = X_train_df[target_col]\n",
        "\n",
        "### Inputs and targets for the validation\n",
        "X_val = X_val_df[input_col]\n",
        "y_val = X_val_df[target_col]\n",
        "\n",
        "### final testing data \n",
        "X_test = test_df[input_col]"
      ],
      "metadata": {
        "id": "Gg8DTKT1jmUG"
      },
      "execution_count": 43,
      "outputs": []
    },
    {
      "cell_type": "markdown",
      "source": [
        "### **Seperating catagorical and numeric data**"
      ],
      "metadata": {
        "id": "tIVIzjBFFjv6"
      }
    },
    {
      "cell_type": "code",
      "source": [
        "#### Identfying  numerical and categorical columns in the data\n",
        "numeric_cols = train_df[input_col].select_dtypes(include=np.number).columns.tolist()\n",
        "categorical_cols = train_df[input_col].select_dtypes('object').columns.tolist()"
      ],
      "metadata": {
        "id": "zAPPE_fHFgso"
      },
      "execution_count": 44,
      "outputs": []
    },
    {
      "cell_type": "code",
      "source": [
        "train_df[categorical_cols].head()"
      ],
      "metadata": {
        "colab": {
          "base_uri": "https://localhost:8080/",
          "height": 206
        },
        "id": "eUOGoWA8F9Qt",
        "outputId": "48692b42-e9f7-48cc-d0b5-4274edb70e8f"
      },
      "execution_count": 45,
      "outputs": [
        {
          "output_type": "execute_result",
          "data": {
            "text/plain": [
              "   Gender         Income Product_Holdings Credit_Category\n",
              "0  Female       5L - 10L                1         Average\n",
              "1  Female   Less than 5L                1            Poor\n",
              "2  Female  More than 15L                2            Poor\n",
              "3  Female  More than 15L                2            Poor\n",
              "4  Female  More than 15L                1            Good"
            ],
            "text/html": [
              "\n",
              "  <div id=\"df-68d6b808-83da-4d44-ac07-c7f9f5cbec16\">\n",
              "    <div class=\"colab-df-container\">\n",
              "      <div>\n",
              "<style scoped>\n",
              "    .dataframe tbody tr th:only-of-type {\n",
              "        vertical-align: middle;\n",
              "    }\n",
              "\n",
              "    .dataframe tbody tr th {\n",
              "        vertical-align: top;\n",
              "    }\n",
              "\n",
              "    .dataframe thead th {\n",
              "        text-align: right;\n",
              "    }\n",
              "</style>\n",
              "<table border=\"1\" class=\"dataframe\">\n",
              "  <thead>\n",
              "    <tr style=\"text-align: right;\">\n",
              "      <th></th>\n",
              "      <th>Gender</th>\n",
              "      <th>Income</th>\n",
              "      <th>Product_Holdings</th>\n",
              "      <th>Credit_Category</th>\n",
              "    </tr>\n",
              "  </thead>\n",
              "  <tbody>\n",
              "    <tr>\n",
              "      <th>0</th>\n",
              "      <td>Female</td>\n",
              "      <td>5L - 10L</td>\n",
              "      <td>1</td>\n",
              "      <td>Average</td>\n",
              "    </tr>\n",
              "    <tr>\n",
              "      <th>1</th>\n",
              "      <td>Female</td>\n",
              "      <td>Less than 5L</td>\n",
              "      <td>1</td>\n",
              "      <td>Poor</td>\n",
              "    </tr>\n",
              "    <tr>\n",
              "      <th>2</th>\n",
              "      <td>Female</td>\n",
              "      <td>More than 15L</td>\n",
              "      <td>2</td>\n",
              "      <td>Poor</td>\n",
              "    </tr>\n",
              "    <tr>\n",
              "      <th>3</th>\n",
              "      <td>Female</td>\n",
              "      <td>More than 15L</td>\n",
              "      <td>2</td>\n",
              "      <td>Poor</td>\n",
              "    </tr>\n",
              "    <tr>\n",
              "      <th>4</th>\n",
              "      <td>Female</td>\n",
              "      <td>More than 15L</td>\n",
              "      <td>1</td>\n",
              "      <td>Good</td>\n",
              "    </tr>\n",
              "  </tbody>\n",
              "</table>\n",
              "</div>\n",
              "      <button class=\"colab-df-convert\" onclick=\"convertToInteractive('df-68d6b808-83da-4d44-ac07-c7f9f5cbec16')\"\n",
              "              title=\"Convert this dataframe to an interactive table.\"\n",
              "              style=\"display:none;\">\n",
              "        \n",
              "  <svg xmlns=\"http://www.w3.org/2000/svg\" height=\"24px\"viewBox=\"0 0 24 24\"\n",
              "       width=\"24px\">\n",
              "    <path d=\"M0 0h24v24H0V0z\" fill=\"none\"/>\n",
              "    <path d=\"M18.56 5.44l.94 2.06.94-2.06 2.06-.94-2.06-.94-.94-2.06-.94 2.06-2.06.94zm-11 1L8.5 8.5l.94-2.06 2.06-.94-2.06-.94L8.5 2.5l-.94 2.06-2.06.94zm10 10l.94 2.06.94-2.06 2.06-.94-2.06-.94-.94-2.06-.94 2.06-2.06.94z\"/><path d=\"M17.41 7.96l-1.37-1.37c-.4-.4-.92-.59-1.43-.59-.52 0-1.04.2-1.43.59L10.3 9.45l-7.72 7.72c-.78.78-.78 2.05 0 2.83L4 21.41c.39.39.9.59 1.41.59.51 0 1.02-.2 1.41-.59l7.78-7.78 2.81-2.81c.8-.78.8-2.07 0-2.86zM5.41 20L4 18.59l7.72-7.72 1.47 1.35L5.41 20z\"/>\n",
              "  </svg>\n",
              "      </button>\n",
              "      \n",
              "  <style>\n",
              "    .colab-df-container {\n",
              "      display:flex;\n",
              "      flex-wrap:wrap;\n",
              "      gap: 12px;\n",
              "    }\n",
              "\n",
              "    .colab-df-convert {\n",
              "      background-color: #E8F0FE;\n",
              "      border: none;\n",
              "      border-radius: 50%;\n",
              "      cursor: pointer;\n",
              "      display: none;\n",
              "      fill: #1967D2;\n",
              "      height: 32px;\n",
              "      padding: 0 0 0 0;\n",
              "      width: 32px;\n",
              "    }\n",
              "\n",
              "    .colab-df-convert:hover {\n",
              "      background-color: #E2EBFA;\n",
              "      box-shadow: 0px 1px 2px rgba(60, 64, 67, 0.3), 0px 1px 3px 1px rgba(60, 64, 67, 0.15);\n",
              "      fill: #174EA6;\n",
              "    }\n",
              "\n",
              "    [theme=dark] .colab-df-convert {\n",
              "      background-color: #3B4455;\n",
              "      fill: #D2E3FC;\n",
              "    }\n",
              "\n",
              "    [theme=dark] .colab-df-convert:hover {\n",
              "      background-color: #434B5C;\n",
              "      box-shadow: 0px 1px 3px 1px rgba(0, 0, 0, 0.15);\n",
              "      filter: drop-shadow(0px 1px 2px rgba(0, 0, 0, 0.3));\n",
              "      fill: #FFFFFF;\n",
              "    }\n",
              "  </style>\n",
              "\n",
              "      <script>\n",
              "        const buttonEl =\n",
              "          document.querySelector('#df-68d6b808-83da-4d44-ac07-c7f9f5cbec16 button.colab-df-convert');\n",
              "        buttonEl.style.display =\n",
              "          google.colab.kernel.accessAllowed ? 'block' : 'none';\n",
              "\n",
              "        async function convertToInteractive(key) {\n",
              "          const element = document.querySelector('#df-68d6b808-83da-4d44-ac07-c7f9f5cbec16');\n",
              "          const dataTable =\n",
              "            await google.colab.kernel.invokeFunction('convertToInteractive',\n",
              "                                                     [key], {});\n",
              "          if (!dataTable) return;\n",
              "\n",
              "          const docLinkHtml = 'Like what you see? Visit the ' +\n",
              "            '<a target=\"_blank\" href=https://colab.research.google.com/notebooks/data_table.ipynb>data table notebook</a>'\n",
              "            + ' to learn more about interactive tables.';\n",
              "          element.innerHTML = '';\n",
              "          dataTable['output_type'] = 'display_data';\n",
              "          await google.colab.output.renderOutput(dataTable, element);\n",
              "          const docLink = document.createElement('div');\n",
              "          docLink.innerHTML = docLinkHtml;\n",
              "          element.appendChild(docLink);\n",
              "        }\n",
              "      </script>\n",
              "    </div>\n",
              "  </div>\n",
              "  "
            ]
          },
          "metadata": {},
          "execution_count": 45
        }
      ]
    },
    {
      "cell_type": "code",
      "source": [
        "train_df[categorical_cols].nunique()"
      ],
      "metadata": {
        "colab": {
          "base_uri": "https://localhost:8080/"
        },
        "id": "1OwT_hSGk08T",
        "outputId": "cec666de-0ea9-46cc-e9ff-e8d62344f5d6"
      },
      "execution_count": 46,
      "outputs": [
        {
          "output_type": "execute_result",
          "data": {
            "text/plain": [
              "Gender              2\n",
              "Income              4\n",
              "Product_Holdings    3\n",
              "Credit_Category     3\n",
              "dtype: int64"
            ]
          },
          "metadata": {},
          "execution_count": 46
        }
      ]
    },
    {
      "cell_type": "code",
      "source": [
        "train_df[numeric_cols].head()"
      ],
      "metadata": {
        "colab": {
          "base_uri": "https://localhost:8080/",
          "height": 206
        },
        "id": "jeGE3Cv8GRuV",
        "outputId": "9209c10d-9a55-405d-e4b8-c10347f20504"
      },
      "execution_count": 47,
      "outputs": [
        {
          "output_type": "execute_result",
          "data": {
            "text/plain": [
              "   Age  Vintage  Transaction_Status  Credit_Card     Balance\n",
              "0   36        4                   0            0   563266.44\n",
              "1   53        2                   1            1   875572.11\n",
              "2   35        2                   1            0   701607.06\n",
              "3   43        0                   1            1  1393922.16\n",
              "4   39        1                   1            1   893146.23"
            ],
            "text/html": [
              "\n",
              "  <div id=\"df-e2b07d3c-8502-4f6f-a5e3-ca1c959257ff\">\n",
              "    <div class=\"colab-df-container\">\n",
              "      <div>\n",
              "<style scoped>\n",
              "    .dataframe tbody tr th:only-of-type {\n",
              "        vertical-align: middle;\n",
              "    }\n",
              "\n",
              "    .dataframe tbody tr th {\n",
              "        vertical-align: top;\n",
              "    }\n",
              "\n",
              "    .dataframe thead th {\n",
              "        text-align: right;\n",
              "    }\n",
              "</style>\n",
              "<table border=\"1\" class=\"dataframe\">\n",
              "  <thead>\n",
              "    <tr style=\"text-align: right;\">\n",
              "      <th></th>\n",
              "      <th>Age</th>\n",
              "      <th>Vintage</th>\n",
              "      <th>Transaction_Status</th>\n",
              "      <th>Credit_Card</th>\n",
              "      <th>Balance</th>\n",
              "    </tr>\n",
              "  </thead>\n",
              "  <tbody>\n",
              "    <tr>\n",
              "      <th>0</th>\n",
              "      <td>36</td>\n",
              "      <td>4</td>\n",
              "      <td>0</td>\n",
              "      <td>0</td>\n",
              "      <td>563266.44</td>\n",
              "    </tr>\n",
              "    <tr>\n",
              "      <th>1</th>\n",
              "      <td>53</td>\n",
              "      <td>2</td>\n",
              "      <td>1</td>\n",
              "      <td>1</td>\n",
              "      <td>875572.11</td>\n",
              "    </tr>\n",
              "    <tr>\n",
              "      <th>2</th>\n",
              "      <td>35</td>\n",
              "      <td>2</td>\n",
              "      <td>1</td>\n",
              "      <td>0</td>\n",
              "      <td>701607.06</td>\n",
              "    </tr>\n",
              "    <tr>\n",
              "      <th>3</th>\n",
              "      <td>43</td>\n",
              "      <td>0</td>\n",
              "      <td>1</td>\n",
              "      <td>1</td>\n",
              "      <td>1393922.16</td>\n",
              "    </tr>\n",
              "    <tr>\n",
              "      <th>4</th>\n",
              "      <td>39</td>\n",
              "      <td>1</td>\n",
              "      <td>1</td>\n",
              "      <td>1</td>\n",
              "      <td>893146.23</td>\n",
              "    </tr>\n",
              "  </tbody>\n",
              "</table>\n",
              "</div>\n",
              "      <button class=\"colab-df-convert\" onclick=\"convertToInteractive('df-e2b07d3c-8502-4f6f-a5e3-ca1c959257ff')\"\n",
              "              title=\"Convert this dataframe to an interactive table.\"\n",
              "              style=\"display:none;\">\n",
              "        \n",
              "  <svg xmlns=\"http://www.w3.org/2000/svg\" height=\"24px\"viewBox=\"0 0 24 24\"\n",
              "       width=\"24px\">\n",
              "    <path d=\"M0 0h24v24H0V0z\" fill=\"none\"/>\n",
              "    <path d=\"M18.56 5.44l.94 2.06.94-2.06 2.06-.94-2.06-.94-.94-2.06-.94 2.06-2.06.94zm-11 1L8.5 8.5l.94-2.06 2.06-.94-2.06-.94L8.5 2.5l-.94 2.06-2.06.94zm10 10l.94 2.06.94-2.06 2.06-.94-2.06-.94-.94-2.06-.94 2.06-2.06.94z\"/><path d=\"M17.41 7.96l-1.37-1.37c-.4-.4-.92-.59-1.43-.59-.52 0-1.04.2-1.43.59L10.3 9.45l-7.72 7.72c-.78.78-.78 2.05 0 2.83L4 21.41c.39.39.9.59 1.41.59.51 0 1.02-.2 1.41-.59l7.78-7.78 2.81-2.81c.8-.78.8-2.07 0-2.86zM5.41 20L4 18.59l7.72-7.72 1.47 1.35L5.41 20z\"/>\n",
              "  </svg>\n",
              "      </button>\n",
              "      \n",
              "  <style>\n",
              "    .colab-df-container {\n",
              "      display:flex;\n",
              "      flex-wrap:wrap;\n",
              "      gap: 12px;\n",
              "    }\n",
              "\n",
              "    .colab-df-convert {\n",
              "      background-color: #E8F0FE;\n",
              "      border: none;\n",
              "      border-radius: 50%;\n",
              "      cursor: pointer;\n",
              "      display: none;\n",
              "      fill: #1967D2;\n",
              "      height: 32px;\n",
              "      padding: 0 0 0 0;\n",
              "      width: 32px;\n",
              "    }\n",
              "\n",
              "    .colab-df-convert:hover {\n",
              "      background-color: #E2EBFA;\n",
              "      box-shadow: 0px 1px 2px rgba(60, 64, 67, 0.3), 0px 1px 3px 1px rgba(60, 64, 67, 0.15);\n",
              "      fill: #174EA6;\n",
              "    }\n",
              "\n",
              "    [theme=dark] .colab-df-convert {\n",
              "      background-color: #3B4455;\n",
              "      fill: #D2E3FC;\n",
              "    }\n",
              "\n",
              "    [theme=dark] .colab-df-convert:hover {\n",
              "      background-color: #434B5C;\n",
              "      box-shadow: 0px 1px 3px 1px rgba(0, 0, 0, 0.15);\n",
              "      filter: drop-shadow(0px 1px 2px rgba(0, 0, 0, 0.3));\n",
              "      fill: #FFFFFF;\n",
              "    }\n",
              "  </style>\n",
              "\n",
              "      <script>\n",
              "        const buttonEl =\n",
              "          document.querySelector('#df-e2b07d3c-8502-4f6f-a5e3-ca1c959257ff button.colab-df-convert');\n",
              "        buttonEl.style.display =\n",
              "          google.colab.kernel.accessAllowed ? 'block' : 'none';\n",
              "\n",
              "        async function convertToInteractive(key) {\n",
              "          const element = document.querySelector('#df-e2b07d3c-8502-4f6f-a5e3-ca1c959257ff');\n",
              "          const dataTable =\n",
              "            await google.colab.kernel.invokeFunction('convertToInteractive',\n",
              "                                                     [key], {});\n",
              "          if (!dataTable) return;\n",
              "\n",
              "          const docLinkHtml = 'Like what you see? Visit the ' +\n",
              "            '<a target=\"_blank\" href=https://colab.research.google.com/notebooks/data_table.ipynb>data table notebook</a>'\n",
              "            + ' to learn more about interactive tables.';\n",
              "          element.innerHTML = '';\n",
              "          dataTable['output_type'] = 'display_data';\n",
              "          await google.colab.output.renderOutput(dataTable, element);\n",
              "          const docLink = document.createElement('div');\n",
              "          docLink.innerHTML = docLinkHtml;\n",
              "          element.appendChild(docLink);\n",
              "        }\n",
              "      </script>\n",
              "    </div>\n",
              "  </div>\n",
              "  "
            ]
          },
          "metadata": {},
          "execution_count": 47
        }
      ]
    },
    {
      "cell_type": "markdown",
      "source": [
        "### **Scaling Numeric Features**"
      ],
      "metadata": {
        "id": "RzV_opwsJXU4"
      }
    },
    {
      "cell_type": "markdown",
      "source": [
        "Since MinMax Scaler is more sensetive to the outliers present in the features, I am using Robust Scaler for Both the Age and Balance columns. And normal MinMax Scaler for Vintage column which doesnot consists of any outliers."
      ],
      "metadata": {
        "id": "z1IdzSx6hLgW"
      }
    },
    {
      "cell_type": "code",
      "source": [
        "from sklearn.preprocessing import MinMaxScaler\n",
        "scaler = MinMaxScaler()\n",
        "#scaler.fit(train_df[['Age','Vintage','Balance']])\n",
        "scaler.fit(train_df[['Vintage']])"
      ],
      "metadata": {
        "colab": {
          "base_uri": "https://localhost:8080/"
        },
        "id": "toGRhp6xJUXu",
        "outputId": "b0ed8b0a-d666-4da3-b3d1-2433901fa346"
      },
      "execution_count": 48,
      "outputs": [
        {
          "output_type": "execute_result",
          "data": {
            "text/plain": [
              "MinMaxScaler()"
            ]
          },
          "metadata": {},
          "execution_count": 48
        }
      ]
    },
    {
      "cell_type": "code",
      "source": [
        "X_train[['Vintage']] = scaler.transform(X_train[['Vintage']])\n",
        "X_val[['Vintage']] = scaler.transform(X_val[['Vintage']])\n",
        "X_test[['Vintage']] = scaler.transform(X_test[['Vintage']])"
      ],
      "metadata": {
        "id": "-WSNTPiWJcAh"
      },
      "execution_count": 49,
      "outputs": []
    },
    {
      "cell_type": "code",
      "source": [
        "from sklearn.preprocessing import RobustScaler\n",
        "scaler = RobustScaler()\n",
        "scaler.fit(train_df[['Age','Balance']])"
      ],
      "metadata": {
        "colab": {
          "base_uri": "https://localhost:8080/"
        },
        "id": "jf9hzQH0eA7H",
        "outputId": "32674db6-db27-4e32-8c32-35b25f7e258f"
      },
      "execution_count": 50,
      "outputs": [
        {
          "output_type": "execute_result",
          "data": {
            "text/plain": [
              "RobustScaler()"
            ]
          },
          "metadata": {},
          "execution_count": 50
        }
      ]
    },
    {
      "cell_type": "code",
      "source": [
        "X_train[['Age','Balance']] = scaler.transform(X_train[['Age','Balance']])\n",
        "X_val[['Age','Balance']] = scaler.transform(X_val[['Age','Balance']])\n",
        "X_test[['Age','Balance']] = scaler.transform(X_test[['Age','Balance']])"
      ],
      "metadata": {
        "id": "nP2hYNuleSbc"
      },
      "execution_count": 51,
      "outputs": []
    },
    {
      "cell_type": "code",
      "source": [
        "X_train[numeric_cols].describe()"
      ],
      "metadata": {
        "colab": {
          "base_uri": "https://localhost:8080/",
          "height": 300
        },
        "id": "64EUYCnVJzkU",
        "outputId": "52243cc0-5f03-4097-a02e-9618e3dca6e9"
      },
      "execution_count": 52,
      "outputs": [
        {
          "output_type": "execute_result",
          "data": {
            "text/plain": [
              "               Age      Vintage  Transaction_Status  Credit_Card      Balance\n",
              "count  7669.000000  7669.000000         7669.000000  7669.000000  7669.000000\n",
              "mean      0.181610     0.458391            0.485331     0.668796     0.083960\n",
              "std       0.765917     0.291966            0.499817     0.470677     0.690957\n",
              "min      -1.461538     0.000000            0.000000     0.000000    -1.013269\n",
              "25%      -0.384615     0.200000            0.000000     0.000000    -0.447059\n",
              "50%       0.076923     0.400000            0.000000     1.000000     0.026030\n",
              "75%       0.692308     0.800000            1.000000     1.000000     0.544205\n",
              "max       2.461538     1.000000            1.000000     1.000000     2.214554"
            ],
            "text/html": [
              "\n",
              "  <div id=\"df-88b65425-0a21-473d-87d5-ac56f173555b\">\n",
              "    <div class=\"colab-df-container\">\n",
              "      <div>\n",
              "<style scoped>\n",
              "    .dataframe tbody tr th:only-of-type {\n",
              "        vertical-align: middle;\n",
              "    }\n",
              "\n",
              "    .dataframe tbody tr th {\n",
              "        vertical-align: top;\n",
              "    }\n",
              "\n",
              "    .dataframe thead th {\n",
              "        text-align: right;\n",
              "    }\n",
              "</style>\n",
              "<table border=\"1\" class=\"dataframe\">\n",
              "  <thead>\n",
              "    <tr style=\"text-align: right;\">\n",
              "      <th></th>\n",
              "      <th>Age</th>\n",
              "      <th>Vintage</th>\n",
              "      <th>Transaction_Status</th>\n",
              "      <th>Credit_Card</th>\n",
              "      <th>Balance</th>\n",
              "    </tr>\n",
              "  </thead>\n",
              "  <tbody>\n",
              "    <tr>\n",
              "      <th>count</th>\n",
              "      <td>7669.000000</td>\n",
              "      <td>7669.000000</td>\n",
              "      <td>7669.000000</td>\n",
              "      <td>7669.000000</td>\n",
              "      <td>7669.000000</td>\n",
              "    </tr>\n",
              "    <tr>\n",
              "      <th>mean</th>\n",
              "      <td>0.181610</td>\n",
              "      <td>0.458391</td>\n",
              "      <td>0.485331</td>\n",
              "      <td>0.668796</td>\n",
              "      <td>0.083960</td>\n",
              "    </tr>\n",
              "    <tr>\n",
              "      <th>std</th>\n",
              "      <td>0.765917</td>\n",
              "      <td>0.291966</td>\n",
              "      <td>0.499817</td>\n",
              "      <td>0.470677</td>\n",
              "      <td>0.690957</td>\n",
              "    </tr>\n",
              "    <tr>\n",
              "      <th>min</th>\n",
              "      <td>-1.461538</td>\n",
              "      <td>0.000000</td>\n",
              "      <td>0.000000</td>\n",
              "      <td>0.000000</td>\n",
              "      <td>-1.013269</td>\n",
              "    </tr>\n",
              "    <tr>\n",
              "      <th>25%</th>\n",
              "      <td>-0.384615</td>\n",
              "      <td>0.200000</td>\n",
              "      <td>0.000000</td>\n",
              "      <td>0.000000</td>\n",
              "      <td>-0.447059</td>\n",
              "    </tr>\n",
              "    <tr>\n",
              "      <th>50%</th>\n",
              "      <td>0.076923</td>\n",
              "      <td>0.400000</td>\n",
              "      <td>0.000000</td>\n",
              "      <td>1.000000</td>\n",
              "      <td>0.026030</td>\n",
              "    </tr>\n",
              "    <tr>\n",
              "      <th>75%</th>\n",
              "      <td>0.692308</td>\n",
              "      <td>0.800000</td>\n",
              "      <td>1.000000</td>\n",
              "      <td>1.000000</td>\n",
              "      <td>0.544205</td>\n",
              "    </tr>\n",
              "    <tr>\n",
              "      <th>max</th>\n",
              "      <td>2.461538</td>\n",
              "      <td>1.000000</td>\n",
              "      <td>1.000000</td>\n",
              "      <td>1.000000</td>\n",
              "      <td>2.214554</td>\n",
              "    </tr>\n",
              "  </tbody>\n",
              "</table>\n",
              "</div>\n",
              "      <button class=\"colab-df-convert\" onclick=\"convertToInteractive('df-88b65425-0a21-473d-87d5-ac56f173555b')\"\n",
              "              title=\"Convert this dataframe to an interactive table.\"\n",
              "              style=\"display:none;\">\n",
              "        \n",
              "  <svg xmlns=\"http://www.w3.org/2000/svg\" height=\"24px\"viewBox=\"0 0 24 24\"\n",
              "       width=\"24px\">\n",
              "    <path d=\"M0 0h24v24H0V0z\" fill=\"none\"/>\n",
              "    <path d=\"M18.56 5.44l.94 2.06.94-2.06 2.06-.94-2.06-.94-.94-2.06-.94 2.06-2.06.94zm-11 1L8.5 8.5l.94-2.06 2.06-.94-2.06-.94L8.5 2.5l-.94 2.06-2.06.94zm10 10l.94 2.06.94-2.06 2.06-.94-2.06-.94-.94-2.06-.94 2.06-2.06.94z\"/><path d=\"M17.41 7.96l-1.37-1.37c-.4-.4-.92-.59-1.43-.59-.52 0-1.04.2-1.43.59L10.3 9.45l-7.72 7.72c-.78.78-.78 2.05 0 2.83L4 21.41c.39.39.9.59 1.41.59.51 0 1.02-.2 1.41-.59l7.78-7.78 2.81-2.81c.8-.78.8-2.07 0-2.86zM5.41 20L4 18.59l7.72-7.72 1.47 1.35L5.41 20z\"/>\n",
              "  </svg>\n",
              "      </button>\n",
              "      \n",
              "  <style>\n",
              "    .colab-df-container {\n",
              "      display:flex;\n",
              "      flex-wrap:wrap;\n",
              "      gap: 12px;\n",
              "    }\n",
              "\n",
              "    .colab-df-convert {\n",
              "      background-color: #E8F0FE;\n",
              "      border: none;\n",
              "      border-radius: 50%;\n",
              "      cursor: pointer;\n",
              "      display: none;\n",
              "      fill: #1967D2;\n",
              "      height: 32px;\n",
              "      padding: 0 0 0 0;\n",
              "      width: 32px;\n",
              "    }\n",
              "\n",
              "    .colab-df-convert:hover {\n",
              "      background-color: #E2EBFA;\n",
              "      box-shadow: 0px 1px 2px rgba(60, 64, 67, 0.3), 0px 1px 3px 1px rgba(60, 64, 67, 0.15);\n",
              "      fill: #174EA6;\n",
              "    }\n",
              "\n",
              "    [theme=dark] .colab-df-convert {\n",
              "      background-color: #3B4455;\n",
              "      fill: #D2E3FC;\n",
              "    }\n",
              "\n",
              "    [theme=dark] .colab-df-convert:hover {\n",
              "      background-color: #434B5C;\n",
              "      box-shadow: 0px 1px 3px 1px rgba(0, 0, 0, 0.15);\n",
              "      filter: drop-shadow(0px 1px 2px rgba(0, 0, 0, 0.3));\n",
              "      fill: #FFFFFF;\n",
              "    }\n",
              "  </style>\n",
              "\n",
              "      <script>\n",
              "        const buttonEl =\n",
              "          document.querySelector('#df-88b65425-0a21-473d-87d5-ac56f173555b button.colab-df-convert');\n",
              "        buttonEl.style.display =\n",
              "          google.colab.kernel.accessAllowed ? 'block' : 'none';\n",
              "\n",
              "        async function convertToInteractive(key) {\n",
              "          const element = document.querySelector('#df-88b65425-0a21-473d-87d5-ac56f173555b');\n",
              "          const dataTable =\n",
              "            await google.colab.kernel.invokeFunction('convertToInteractive',\n",
              "                                                     [key], {});\n",
              "          if (!dataTable) return;\n",
              "\n",
              "          const docLinkHtml = 'Like what you see? Visit the ' +\n",
              "            '<a target=\"_blank\" href=https://colab.research.google.com/notebooks/data_table.ipynb>data table notebook</a>'\n",
              "            + ' to learn more about interactive tables.';\n",
              "          element.innerHTML = '';\n",
              "          dataTable['output_type'] = 'display_data';\n",
              "          await google.colab.output.renderOutput(dataTable, element);\n",
              "          const docLink = document.createElement('div');\n",
              "          docLink.innerHTML = docLinkHtml;\n",
              "          element.appendChild(docLink);\n",
              "        }\n",
              "      </script>\n",
              "    </div>\n",
              "  </div>\n",
              "  "
            ]
          },
          "metadata": {},
          "execution_count": 52
        }
      ]
    },
    {
      "cell_type": "code",
      "source": [
        "calc_vif(X_train[[i for i in X_train.describe().columns if i not in ['Is_Churn']]])"
      ],
      "metadata": {
        "colab": {
          "base_uri": "https://localhost:8080/",
          "height": 206
        },
        "id": "6XNAs_8IDpSB",
        "outputId": "6559b0fc-ce1a-4ab3-d1d2-9b92ae4572b5"
      },
      "execution_count": 53,
      "outputs": [
        {
          "output_type": "execute_result",
          "data": {
            "text/plain": [
              "            variables       VIF\n",
              "0                 Age  1.054528\n",
              "1             Vintage  2.141501\n",
              "2  Transaction_Status  1.642878\n",
              "3         Credit_Card  2.124213\n",
              "4             Balance  1.011445"
            ],
            "text/html": [
              "\n",
              "  <div id=\"df-4f9d69d1-3f11-42c8-b899-5289b0a8726f\">\n",
              "    <div class=\"colab-df-container\">\n",
              "      <div>\n",
              "<style scoped>\n",
              "    .dataframe tbody tr th:only-of-type {\n",
              "        vertical-align: middle;\n",
              "    }\n",
              "\n",
              "    .dataframe tbody tr th {\n",
              "        vertical-align: top;\n",
              "    }\n",
              "\n",
              "    .dataframe thead th {\n",
              "        text-align: right;\n",
              "    }\n",
              "</style>\n",
              "<table border=\"1\" class=\"dataframe\">\n",
              "  <thead>\n",
              "    <tr style=\"text-align: right;\">\n",
              "      <th></th>\n",
              "      <th>variables</th>\n",
              "      <th>VIF</th>\n",
              "    </tr>\n",
              "  </thead>\n",
              "  <tbody>\n",
              "    <tr>\n",
              "      <th>0</th>\n",
              "      <td>Age</td>\n",
              "      <td>1.054528</td>\n",
              "    </tr>\n",
              "    <tr>\n",
              "      <th>1</th>\n",
              "      <td>Vintage</td>\n",
              "      <td>2.141501</td>\n",
              "    </tr>\n",
              "    <tr>\n",
              "      <th>2</th>\n",
              "      <td>Transaction_Status</td>\n",
              "      <td>1.642878</td>\n",
              "    </tr>\n",
              "    <tr>\n",
              "      <th>3</th>\n",
              "      <td>Credit_Card</td>\n",
              "      <td>2.124213</td>\n",
              "    </tr>\n",
              "    <tr>\n",
              "      <th>4</th>\n",
              "      <td>Balance</td>\n",
              "      <td>1.011445</td>\n",
              "    </tr>\n",
              "  </tbody>\n",
              "</table>\n",
              "</div>\n",
              "      <button class=\"colab-df-convert\" onclick=\"convertToInteractive('df-4f9d69d1-3f11-42c8-b899-5289b0a8726f')\"\n",
              "              title=\"Convert this dataframe to an interactive table.\"\n",
              "              style=\"display:none;\">\n",
              "        \n",
              "  <svg xmlns=\"http://www.w3.org/2000/svg\" height=\"24px\"viewBox=\"0 0 24 24\"\n",
              "       width=\"24px\">\n",
              "    <path d=\"M0 0h24v24H0V0z\" fill=\"none\"/>\n",
              "    <path d=\"M18.56 5.44l.94 2.06.94-2.06 2.06-.94-2.06-.94-.94-2.06-.94 2.06-2.06.94zm-11 1L8.5 8.5l.94-2.06 2.06-.94-2.06-.94L8.5 2.5l-.94 2.06-2.06.94zm10 10l.94 2.06.94-2.06 2.06-.94-2.06-.94-.94-2.06-.94 2.06-2.06.94z\"/><path d=\"M17.41 7.96l-1.37-1.37c-.4-.4-.92-.59-1.43-.59-.52 0-1.04.2-1.43.59L10.3 9.45l-7.72 7.72c-.78.78-.78 2.05 0 2.83L4 21.41c.39.39.9.59 1.41.59.51 0 1.02-.2 1.41-.59l7.78-7.78 2.81-2.81c.8-.78.8-2.07 0-2.86zM5.41 20L4 18.59l7.72-7.72 1.47 1.35L5.41 20z\"/>\n",
              "  </svg>\n",
              "      </button>\n",
              "      \n",
              "  <style>\n",
              "    .colab-df-container {\n",
              "      display:flex;\n",
              "      flex-wrap:wrap;\n",
              "      gap: 12px;\n",
              "    }\n",
              "\n",
              "    .colab-df-convert {\n",
              "      background-color: #E8F0FE;\n",
              "      border: none;\n",
              "      border-radius: 50%;\n",
              "      cursor: pointer;\n",
              "      display: none;\n",
              "      fill: #1967D2;\n",
              "      height: 32px;\n",
              "      padding: 0 0 0 0;\n",
              "      width: 32px;\n",
              "    }\n",
              "\n",
              "    .colab-df-convert:hover {\n",
              "      background-color: #E2EBFA;\n",
              "      box-shadow: 0px 1px 2px rgba(60, 64, 67, 0.3), 0px 1px 3px 1px rgba(60, 64, 67, 0.15);\n",
              "      fill: #174EA6;\n",
              "    }\n",
              "\n",
              "    [theme=dark] .colab-df-convert {\n",
              "      background-color: #3B4455;\n",
              "      fill: #D2E3FC;\n",
              "    }\n",
              "\n",
              "    [theme=dark] .colab-df-convert:hover {\n",
              "      background-color: #434B5C;\n",
              "      box-shadow: 0px 1px 3px 1px rgba(0, 0, 0, 0.15);\n",
              "      filter: drop-shadow(0px 1px 2px rgba(0, 0, 0, 0.3));\n",
              "      fill: #FFFFFF;\n",
              "    }\n",
              "  </style>\n",
              "\n",
              "      <script>\n",
              "        const buttonEl =\n",
              "          document.querySelector('#df-4f9d69d1-3f11-42c8-b899-5289b0a8726f button.colab-df-convert');\n",
              "        buttonEl.style.display =\n",
              "          google.colab.kernel.accessAllowed ? 'block' : 'none';\n",
              "\n",
              "        async function convertToInteractive(key) {\n",
              "          const element = document.querySelector('#df-4f9d69d1-3f11-42c8-b899-5289b0a8726f');\n",
              "          const dataTable =\n",
              "            await google.colab.kernel.invokeFunction('convertToInteractive',\n",
              "                                                     [key], {});\n",
              "          if (!dataTable) return;\n",
              "\n",
              "          const docLinkHtml = 'Like what you see? Visit the ' +\n",
              "            '<a target=\"_blank\" href=https://colab.research.google.com/notebooks/data_table.ipynb>data table notebook</a>'\n",
              "            + ' to learn more about interactive tables.';\n",
              "          element.innerHTML = '';\n",
              "          dataTable['output_type'] = 'display_data';\n",
              "          await google.colab.output.renderOutput(dataTable, element);\n",
              "          const docLink = document.createElement('div');\n",
              "          docLink.innerHTML = docLinkHtml;\n",
              "          element.appendChild(docLink);\n",
              "        }\n",
              "      </script>\n",
              "    </div>\n",
              "  </div>\n",
              "  "
            ]
          },
          "metadata": {},
          "execution_count": 53
        }
      ]
    },
    {
      "cell_type": "markdown",
      "source": [
        "Great! All the VIF values for the numerical columns are <5 "
      ],
      "metadata": {
        "id": "FcWrmkdQolrZ"
      }
    },
    {
      "cell_type": "markdown",
      "source": [
        "### **Encoding Categorical Data**"
      ],
      "metadata": {
        "id": "2r8INQbRKAOi"
      }
    },
    {
      "cell_type": "code",
      "source": [
        "from sklearn.preprocessing import OneHotEncoder\n",
        "encoder = OneHotEncoder(sparse=False)"
      ],
      "metadata": {
        "id": "21wnckYtJ4GO"
      },
      "execution_count": 54,
      "outputs": []
    },
    {
      "cell_type": "code",
      "source": [
        "encoder.fit(train_df[categorical_cols])"
      ],
      "metadata": {
        "colab": {
          "base_uri": "https://localhost:8080/"
        },
        "id": "mVhmonnTKFSH",
        "outputId": "fda98a4d-1245-455c-8149-3c9698076fb6"
      },
      "execution_count": 55,
      "outputs": [
        {
          "output_type": "execute_result",
          "data": {
            "text/plain": [
              "OneHotEncoder(sparse=False)"
            ]
          },
          "metadata": {},
          "execution_count": 55
        }
      ]
    },
    {
      "cell_type": "code",
      "source": [
        "encoder.categories_"
      ],
      "metadata": {
        "colab": {
          "base_uri": "https://localhost:8080/"
        },
        "id": "Q8Z1SlaYKHRa",
        "outputId": "6c586f0d-1d97-4fd6-b65b-df0b4dbea8ac"
      },
      "execution_count": 56,
      "outputs": [
        {
          "output_type": "execute_result",
          "data": {
            "text/plain": [
              "[array(['Female', 'Male'], dtype=object),\n",
              " array(['10L - 15L', '5L - 10L', 'Less than 5L', 'More than 15L'],\n",
              "       dtype=object),\n",
              " array(['1', '2', '3+'], dtype=object),\n",
              " array(['Average', 'Good', 'Poor'], dtype=object)]"
            ]
          },
          "metadata": {},
          "execution_count": 56
        }
      ]
    },
    {
      "cell_type": "code",
      "source": [
        "encoded_cols = list(encoder.get_feature_names(categorical_cols))\n",
        "print(encoded_cols)"
      ],
      "metadata": {
        "colab": {
          "base_uri": "https://localhost:8080/"
        },
        "id": "igTaExJbKJda",
        "outputId": "55a1c9c8-b5d7-4e04-ab83-154c9d36acf3"
      },
      "execution_count": 57,
      "outputs": [
        {
          "output_type": "stream",
          "name": "stdout",
          "text": [
            "['Gender_Female', 'Gender_Male', 'Income_10L - 15L', 'Income_5L - 10L', 'Income_Less than 5L', 'Income_More than 15L', 'Product_Holdings_1', 'Product_Holdings_2', 'Product_Holdings_3+', 'Credit_Category_Average', 'Credit_Category_Good', 'Credit_Category_Poor']\n"
          ]
        }
      ]
    },
    {
      "cell_type": "code",
      "source": [
        "X_train[encoded_cols] = encoder.transform(X_train[categorical_cols])\n",
        "X_val[encoded_cols] = encoder.transform(X_val[categorical_cols])\n",
        "X_test[encoded_cols] = encoder.transform(X_test[categorical_cols])"
      ],
      "metadata": {
        "id": "y7SDoRJ0KRWW"
      },
      "execution_count": 58,
      "outputs": []
    },
    {
      "cell_type": "code",
      "source": [
        "### droping repeating gender columns\n",
        "X_train[encoded_cols].columns"
      ],
      "metadata": {
        "colab": {
          "base_uri": "https://localhost:8080/"
        },
        "id": "FBREAwTkLEek",
        "outputId": "7fd3d48a-b546-4331-adf5-a41bec77561a"
      },
      "execution_count": 59,
      "outputs": [
        {
          "output_type": "execute_result",
          "data": {
            "text/plain": [
              "Index(['Gender_Female', 'Gender_Male', 'Income_10L - 15L', 'Income_5L - 10L',\n",
              "       'Income_Less than 5L', 'Income_More than 15L', 'Product_Holdings_1',\n",
              "       'Product_Holdings_2', 'Product_Holdings_3+', 'Credit_Category_Average',\n",
              "       'Credit_Category_Good', 'Credit_Category_Poor'],\n",
              "      dtype='object')"
            ]
          },
          "metadata": {},
          "execution_count": 59
        }
      ]
    },
    {
      "cell_type": "code",
      "source": [
        "X_train[numeric_cols].columns"
      ],
      "metadata": {
        "colab": {
          "base_uri": "https://localhost:8080/"
        },
        "id": "1q9DhPMeN6eE",
        "outputId": "3acb16ba-9a15-42d8-ce9e-7c2c5ef9aa37"
      },
      "execution_count": 60,
      "outputs": [
        {
          "output_type": "execute_result",
          "data": {
            "text/plain": [
              "Index(['Age', 'Vintage', 'Transaction_Status', 'Credit_Card', 'Balance'], dtype='object')"
            ]
          },
          "metadata": {},
          "execution_count": 60
        }
      ]
    },
    {
      "cell_type": "code",
      "source": [
        "X_train = X_train[numeric_cols + encoded_cols].drop(['Gender_Female'],axis = 1)\n",
        "X_val = X_val[numeric_cols + encoded_cols].drop(['Gender_Female'],axis = 1)\n",
        "X_test = X_test[numeric_cols + encoded_cols].drop(['Gender_Female'],axis = 1)"
      ],
      "metadata": {
        "id": "Dn7bd6NrnNv9"
      },
      "execution_count": 61,
      "outputs": []
    },
    {
      "cell_type": "code",
      "source": [
        "X_train.columns"
      ],
      "metadata": {
        "colab": {
          "base_uri": "https://localhost:8080/"
        },
        "id": "yX9r6p9NFpMu",
        "outputId": "1f6a396c-9258-4fd6-b5bb-08427bd722c8"
      },
      "execution_count": 62,
      "outputs": [
        {
          "output_type": "execute_result",
          "data": {
            "text/plain": [
              "Index(['Age', 'Vintage', 'Transaction_Status', 'Credit_Card', 'Balance',\n",
              "       'Gender_Male', 'Income_10L - 15L', 'Income_5L - 10L',\n",
              "       'Income_Less than 5L', 'Income_More than 15L', 'Product_Holdings_1',\n",
              "       'Product_Holdings_2', 'Product_Holdings_3+', 'Credit_Category_Average',\n",
              "       'Credit_Category_Good', 'Credit_Category_Poor'],\n",
              "      dtype='object')"
            ]
          },
          "metadata": {},
          "execution_count": 62
        }
      ]
    },
    {
      "cell_type": "code",
      "source": [
        "X_train.shape"
      ],
      "metadata": {
        "colab": {
          "base_uri": "https://localhost:8080/"
        },
        "id": "2bGiT091LOlX",
        "outputId": "81045a06-6a93-4d6e-c1cd-524dd824efe8"
      },
      "execution_count": 63,
      "outputs": [
        {
          "output_type": "execute_result",
          "data": {
            "text/plain": [
              "(7669, 16)"
            ]
          },
          "metadata": {},
          "execution_count": 63
        }
      ]
    },
    {
      "cell_type": "code",
      "source": [
        "X_val.shape"
      ],
      "metadata": {
        "colab": {
          "base_uri": "https://localhost:8080/"
        },
        "id": "Rjo0AUt_nuSA",
        "outputId": "abe1ecf8-7387-41f7-a185-ac148d7ef14a"
      },
      "execution_count": 64,
      "outputs": [
        {
          "output_type": "execute_result",
          "data": {
            "text/plain": [
              "(2557, 16)"
            ]
          },
          "metadata": {},
          "execution_count": 64
        }
      ]
    },
    {
      "cell_type": "code",
      "source": [
        "X_test.shape"
      ],
      "metadata": {
        "colab": {
          "base_uri": "https://localhost:8080/"
        },
        "id": "VOPz4OMuLRvN",
        "outputId": "b681408f-076a-440f-f272-e3816156dcb9"
      },
      "execution_count": 65,
      "outputs": [
        {
          "output_type": "execute_result",
          "data": {
            "text/plain": [
              "(2851, 16)"
            ]
          },
          "metadata": {},
          "execution_count": 65
        }
      ]
    },
    {
      "cell_type": "markdown",
      "source": [
        "### **Model Fitting & Model Evaluation**\n",
        "\n",
        "Models used for this data:\n",
        "\n",
        "*   Logistic Regression\n",
        "*   K-Nearest Neighbors (KNN)\n",
        "*   Support Vector Machine\n",
        "*   Decision Tree\n",
        "*   Naive Bayes"
      ],
      "metadata": {
        "id": "7rJCLT-ILet6"
      }
    },
    {
      "cell_type": "code",
      "source": [
        "### Generic function for fitting and checking accuracy by KFold cross validation\n",
        "def modelfit(model, X, y, k, X_val,y_val, X_test):\n",
        "    \n",
        "    ### KFold cross-validation\n",
        "    kf = model_selection.KFold(n_splits=k, random_state=None)\n",
        "    result = cross_val_score(model , X, y, cv = kf , scoring='f1_macro')\n",
        "    \n",
        "    print(\"\\nModel Results\")\n",
        "    print(\"CV Score : Mean - %.3g \\nStd - %.3g \\nMin - %.3g \\nMax- %.3g\" % (np.mean(result),np.std(result),np.min(result),np.max(result)))\n",
        "    \n",
        "    ### Fitting\n",
        "    model.fit(X, y)\n",
        "    \n",
        "    ### Prediction of train data\n",
        "    Y_pred_train = model.predict(X)\n",
        "\n",
        "    ### Model Evaluation Metrics\n",
        "    accuracy_train = accuracy_score(y_train,Y_pred_train)\n",
        "    precision = precision_score(y,Y_pred_train, average='binary')\n",
        "    recall = recall_score(y,Y_pred_train, average='binary')\n",
        "    macro_f1_score = f1_score(y, Y_pred_train, average='macro')\n",
        "    conf_matrix = confusion_matrix(y,Y_pred_train, normalize='true')\n",
        "\n",
        "    print('\\nEvaluation Metrics- training data')\n",
        "    print(f\"Accuracy :{round(accuracy_train,3)} \\nPrecision :{round(precision,3)} \\nRecall : {round(recall,3)} \\nMacro F1 score: {round(macro_f1_score,3)} \\nConfusion matrix: {conf_matrix}\")\n",
        "\n",
        "    ### predicting the validation data \n",
        "    Y_pred_val = model.predict(X_val)\n",
        "\n",
        "    print('\\nEvaluation Metrics- Validating data')\n",
        "    accuracy_val = accuracy_score(y_val,Y_pred_val)\n",
        "    print(f\"Accuracy of validating data :{round(accuracy_val,3)}\")    \n",
        "    ### Predict on testing data:\n",
        "    Y_pred = model.predict(X_test)\n",
        "    return Y_pred"
      ],
      "metadata": {
        "id": "-D177aqRpCXC"
      },
      "execution_count": 66,
      "outputs": []
    },
    {
      "cell_type": "markdown",
      "source": [
        "### Model 1 - Logistic Regression"
      ],
      "metadata": {
        "id": "2gST9OhmnKPc"
      }
    },
    {
      "cell_type": "code",
      "source": [
        "# Logistic Regression \n",
        "Log_reg = LogisticRegression(C = 0.2)\n",
        "Y_pred = modelfit(Log_reg, X_train, y_train, 5,X_val,y_val, X_test)"
      ],
      "metadata": {
        "colab": {
          "base_uri": "https://localhost:8080/"
        },
        "id": "59JSViuCXdrk",
        "outputId": "29dd1855-6fac-4f3e-f6dc-b77c99ee86d3"
      },
      "execution_count": 83,
      "outputs": [
        {
          "output_type": "stream",
          "name": "stdout",
          "text": [
            "\n",
            "Model Results\n",
            "CV Score : Mean - 0.605 \n",
            "Std - 0.0103 \n",
            "Min - 0.594 \n",
            "Max- 0.624\n",
            "\n",
            "Evaluation Metrics- training data\n",
            "Accuracy :0.609 \n",
            "Precision :0.614 \n",
            "Recall : 0.583 \n",
            "Macro F1 score: 0.608 \n",
            "Confusion matrix: [[0.63363755 0.36636245]\n",
            " [0.41653625 0.58346375]]\n",
            "\n",
            "Evaluation Metrics- Validating data\n",
            "Accuracy of validating data :0.608\n"
          ]
        }
      ]
    },
    {
      "cell_type": "code",
      "source": [
        "### Logistic Regression Model - Hyper parameter tuning\n",
        "# defining parameter range\n",
        "param_grid = {'C': np.logspace(-1, 1, 15)} \n",
        "  \n",
        "grid_LR = GridSearchCV(LogisticRegression(), param_grid, verbose = 3,scoring='f1_macro',cv=3)\n",
        "  \n",
        "# fitting the model for grid search\n",
        "grid_LR.fit(X_train, y_train)"
      ],
      "metadata": {
        "colab": {
          "base_uri": "https://localhost:8080/"
        },
        "id": "kx5-j_6yj2ui",
        "outputId": "5e3451e1-7d96-4231-a1e3-38d52d0545fd"
      },
      "execution_count": 68,
      "outputs": [
        {
          "output_type": "stream",
          "name": "stdout",
          "text": [
            "Fitting 3 folds for each of 15 candidates, totalling 45 fits\n",
            "[CV 1/3] END .............................C=0.1;, score=0.607 total time=   0.1s\n",
            "[CV 2/3] END .............................C=0.1;, score=0.604 total time=   0.1s\n",
            "[CV 3/3] END .............................C=0.1;, score=0.597 total time=   0.2s\n",
            "[CV 1/3] END .............C=0.13894954943731375;, score=0.607 total time=   0.1s\n",
            "[CV 2/3] END .............C=0.13894954943731375;, score=0.603 total time=   0.1s\n",
            "[CV 3/3] END .............C=0.13894954943731375;, score=0.597 total time=   0.1s\n",
            "[CV 1/3] END ...............C=0.193069772888325;, score=0.608 total time=   0.1s\n",
            "[CV 2/3] END ...............C=0.193069772888325;, score=0.603 total time=   0.1s\n",
            "[CV 3/3] END ...............C=0.193069772888325;, score=0.597 total time=   0.2s\n",
            "[CV 1/3] END ..............C=0.2682695795279726;, score=0.609 total time=   0.1s\n",
            "[CV 2/3] END ..............C=0.2682695795279726;, score=0.603 total time=   0.1s\n",
            "[CV 3/3] END ..............C=0.2682695795279726;, score=0.597 total time=   0.1s\n",
            "[CV 1/3] END ...............C=0.372759372031494;, score=0.609 total time=   0.1s\n",
            "[CV 2/3] END ...............C=0.372759372031494;, score=0.603 total time=   0.1s\n",
            "[CV 3/3] END ...............C=0.372759372031494;, score=0.597 total time=   0.1s\n",
            "[CV 1/3] END ...............C=0.517947467923121;, score=0.609 total time=   0.2s\n",
            "[CV 2/3] END ...............C=0.517947467923121;, score=0.603 total time=   0.1s\n",
            "[CV 3/3] END ...............C=0.517947467923121;, score=0.596 total time=   0.1s\n",
            "[CV 1/3] END ..............C=0.7196856730011519;, score=0.609 total time=   0.1s\n",
            "[CV 2/3] END ..............C=0.7196856730011519;, score=0.603 total time=   0.1s\n",
            "[CV 3/3] END ..............C=0.7196856730011519;, score=0.596 total time=   0.1s\n",
            "[CV 1/3] END .............................C=1.0;, score=0.609 total time=   0.1s\n",
            "[CV 2/3] END .............................C=1.0;, score=0.602 total time=   0.1s\n",
            "[CV 3/3] END .............................C=1.0;, score=0.596 total time=   0.1s\n",
            "[CV 1/3] END ..............C=1.3894954943731375;, score=0.609 total time=   0.1s\n",
            "[CV 2/3] END ..............C=1.3894954943731375;, score=0.602 total time=   0.1s\n",
            "[CV 3/3] END ..............C=1.3894954943731375;, score=0.595 total time=   0.1s\n",
            "[CV 1/3] END ..............C=1.9306977288832496;, score=0.609 total time=   0.1s\n",
            "[CV 2/3] END ..............C=1.9306977288832496;, score=0.602 total time=   0.1s\n",
            "[CV 3/3] END ..............C=1.9306977288832496;, score=0.595 total time=   0.1s\n",
            "[CV 1/3] END ..............C=2.6826957952797246;, score=0.609 total time=   0.1s\n",
            "[CV 2/3] END ..............C=2.6826957952797246;, score=0.602 total time=   0.1s\n",
            "[CV 3/3] END ..............C=2.6826957952797246;, score=0.595 total time=   0.1s\n",
            "[CV 1/3] END ................C=3.72759372031494;, score=0.609 total time=   0.2s\n",
            "[CV 2/3] END ................C=3.72759372031494;, score=0.602 total time=   0.1s\n",
            "[CV 3/3] END ................C=3.72759372031494;, score=0.595 total time=   0.1s\n",
            "[CV 1/3] END ................C=5.17947467923121;, score=0.609 total time=   0.1s\n",
            "[CV 2/3] END ................C=5.17947467923121;, score=0.602 total time=   0.1s\n",
            "[CV 3/3] END ................C=5.17947467923121;, score=0.595 total time=   0.1s\n",
            "[CV 1/3] END ...............C=7.196856730011517;, score=0.609 total time=   0.1s\n",
            "[CV 2/3] END ...............C=7.196856730011517;, score=0.602 total time=   0.1s\n",
            "[CV 3/3] END ...............C=7.196856730011517;, score=0.595 total time=   0.1s\n",
            "[CV 1/3] END ............................C=10.0;, score=0.609 total time=   0.1s\n",
            "[CV 2/3] END ............................C=10.0;, score=0.602 total time=   0.1s\n",
            "[CV 3/3] END ............................C=10.0;, score=0.596 total time=   0.1s\n"
          ]
        },
        {
          "output_type": "execute_result",
          "data": {
            "text/plain": [
              "GridSearchCV(cv=3, estimator=LogisticRegression(),\n",
              "             param_grid={'C': array([ 0.1       ,  0.13894955,  0.19306977,  0.26826958,  0.37275937,\n",
              "        0.51794747,  0.71968567,  1.        ,  1.38949549,  1.93069773,\n",
              "        2.6826958 ,  3.72759372,  5.17947468,  7.19685673, 10.        ])},\n",
              "             scoring='f1_macro', verbose=3)"
            ]
          },
          "metadata": {},
          "execution_count": 68
        }
      ]
    },
    {
      "cell_type": "code",
      "source": [
        "# print best parameter after tuning\n",
        "print(grid_LR.best_params_)\n",
        "# print how our model looks after hyper-parameter tuning\n",
        "print(grid_LR.best_estimator_)"
      ],
      "metadata": {
        "colab": {
          "base_uri": "https://localhost:8080/"
        },
        "id": "KXBNByCOlwZs",
        "outputId": "5d7601a3-88f4-4659-e9ed-a4e6f6291fbd"
      },
      "execution_count": 69,
      "outputs": [
        {
          "output_type": "stream",
          "name": "stdout",
          "text": [
            "{'C': 0.372759372031494}\n",
            "LogisticRegression(C=0.372759372031494)\n"
          ]
        }
      ]
    },
    {
      "cell_type": "code",
      "source": [
        "# Logistic Regression with L1 regularisation \n",
        "Log_reg_1 = LogisticRegression(C=3.72759372031494,penalty = 'l1',solver='liblinear')\n",
        "Y_pred = modelfit(Log_reg_1, X_train, y_train, 5,X_val,y_val, X_test)"
      ],
      "metadata": {
        "colab": {
          "base_uri": "https://localhost:8080/"
        },
        "id": "zbyfbL9fl_JB",
        "outputId": "c9ed09bb-5622-4d6f-f02c-6ba3aafd2c9d"
      },
      "execution_count": 70,
      "outputs": [
        {
          "output_type": "stream",
          "name": "stdout",
          "text": [
            "\n",
            "Model Results\n",
            "CV Score : Mean - 0.606 \n",
            "Std - 0.0105 \n",
            "Min - 0.594 \n",
            "Max- 0.625\n",
            "\n",
            "Evaluation Metrics- training data\n",
            "Accuracy :0.608 \n",
            "Precision :0.614 \n",
            "Recall : 0.583 \n",
            "Macro F1 score: 0.608 \n",
            "Confusion matrix: [[0.63363755 0.36636245]\n",
            " [0.41679708 0.58320292]]\n",
            "\n",
            "Evaluation Metrics- Validating data\n",
            "Accuracy of validating data :0.608\n"
          ]
        }
      ]
    },
    {
      "cell_type": "code",
      "source": [
        "# Logistic Regression with L1 regularisation \n",
        "Log_reg_1 = LogisticRegression(C=3.72759372031494,penalty = 'l2',solver='liblinear')\n",
        "Y_pred = modelfit(Log_reg_1, X_train, y_train, 5,X_val,y_val, X_test)"
      ],
      "metadata": {
        "colab": {
          "base_uri": "https://localhost:8080/"
        },
        "id": "NXy9GAXdm8lb",
        "outputId": "f231f168-03fe-4aef-edf0-4f77150ef4c1"
      },
      "execution_count": 71,
      "outputs": [
        {
          "output_type": "stream",
          "name": "stdout",
          "text": [
            "\n",
            "Model Results\n",
            "CV Score : Mean - 0.605 \n",
            "Std - 0.011 \n",
            "Min - 0.594 \n",
            "Max- 0.626\n",
            "\n",
            "Evaluation Metrics- training data\n",
            "Accuracy :0.609 \n",
            "Precision :0.614 \n",
            "Recall : 0.585 \n",
            "Macro F1 score: 0.608 \n",
            "Confusion matrix: [[0.63285528 0.36714472]\n",
            " [0.41549296 0.58450704]]\n",
            "\n",
            "Evaluation Metrics- Validating data\n",
            "Accuracy of validating data :0.609\n"
          ]
        }
      ]
    },
    {
      "cell_type": "markdown",
      "source": [
        "### Model 2 - K-Nearest Neighbors (KNN)"
      ],
      "metadata": {
        "id": "b5VqxUcNnXIh"
      }
    },
    {
      "cell_type": "code",
      "source": [
        "### K-Nearest Neighbors (KNN)\n",
        "Knn = KNeighborsClassifier(n_neighbors = 3,metric = 'euclidean',weights='uniform' )\n",
        "Y_pred = modelfit(Knn, X_train, y_train, 5,X_val,y_val, X_test)"
      ],
      "metadata": {
        "colab": {
          "base_uri": "https://localhost:8080/"
        },
        "id": "LAhaxNUBN1c3",
        "outputId": "ccecfca3-6e2c-430b-a300-4a1a24b1195e"
      },
      "execution_count": 72,
      "outputs": [
        {
          "output_type": "stream",
          "name": "stdout",
          "text": [
            "\n",
            "Model Results\n",
            "CV Score : Mean - 0.701 \n",
            "Std - 0.0145 \n",
            "Min - 0.675 \n",
            "Max- 0.718\n",
            "\n",
            "Evaluation Metrics- training data\n",
            "Accuracy :0.87 \n",
            "Precision :0.817 \n",
            "Recall : 0.955 \n",
            "Macro F1 score: 0.869 \n",
            "Confusion matrix: [[0.78591917 0.21408083]\n",
            " [0.04512259 0.95487741]]\n",
            "\n",
            "Evaluation Metrics- Validating data\n",
            "Accuracy of validating data :0.726\n"
          ]
        }
      ]
    },
    {
      "cell_type": "markdown",
      "source": [
        "### Model 3 - Support Vector Machine"
      ],
      "metadata": {
        "id": "xuO8U-7_rk5Y"
      }
    },
    {
      "cell_type": "code",
      "source": [
        "### Support Vector Machine - Hyper paramter tuning\n",
        "# defining parameter range\n",
        "param_grid = {'C': [0.1, 1, 10], \n",
        "              'gamma': [1, 0.1, 0.01, 0.001, 0.0001],\n",
        "              'kernel': ['linear']} \n",
        "  \n",
        "grid = GridSearchCV(SVC(), param_grid, refit = True, verbose = 3,scoring='f1_macro',cv=3)\n",
        "  \n",
        "# fitting the model for grid search\n",
        "grid.fit(X_train, y_train)"
      ],
      "metadata": {
        "colab": {
          "base_uri": "https://localhost:8080/"
        },
        "id": "ynYA1IFNfvnp",
        "outputId": "c8f96df5-faf3-4e7c-8e93-71b13d6f6450"
      },
      "execution_count": 73,
      "outputs": [
        {
          "output_type": "stream",
          "name": "stdout",
          "text": [
            "Fitting 3 folds for each of 15 candidates, totalling 45 fits\n",
            "[CV 1/3] END .....C=0.1, gamma=1, kernel=linear;, score=0.609 total time=   2.9s\n",
            "[CV 2/3] END .....C=0.1, gamma=1, kernel=linear;, score=0.598 total time=   1.5s\n",
            "[CV 3/3] END .....C=0.1, gamma=1, kernel=linear;, score=0.602 total time=   1.2s\n",
            "[CV 1/3] END ...C=0.1, gamma=0.1, kernel=linear;, score=0.609 total time=   1.2s\n",
            "[CV 2/3] END ...C=0.1, gamma=0.1, kernel=linear;, score=0.598 total time=   1.2s\n",
            "[CV 3/3] END ...C=0.1, gamma=0.1, kernel=linear;, score=0.602 total time=   1.1s\n",
            "[CV 1/3] END ..C=0.1, gamma=0.01, kernel=linear;, score=0.609 total time=   1.2s\n",
            "[CV 2/3] END ..C=0.1, gamma=0.01, kernel=linear;, score=0.598 total time=   1.2s\n",
            "[CV 3/3] END ..C=0.1, gamma=0.01, kernel=linear;, score=0.602 total time=   1.2s\n",
            "[CV 1/3] END .C=0.1, gamma=0.001, kernel=linear;, score=0.609 total time=   1.2s\n",
            "[CV 2/3] END .C=0.1, gamma=0.001, kernel=linear;, score=0.598 total time=   1.2s\n",
            "[CV 3/3] END .C=0.1, gamma=0.001, kernel=linear;, score=0.602 total time=   1.2s\n",
            "[CV 1/3] END C=0.1, gamma=0.0001, kernel=linear;, score=0.609 total time=   1.2s\n",
            "[CV 2/3] END C=0.1, gamma=0.0001, kernel=linear;, score=0.598 total time=   1.2s\n",
            "[CV 3/3] END C=0.1, gamma=0.0001, kernel=linear;, score=0.602 total time=   1.2s\n",
            "[CV 1/3] END .......C=1, gamma=1, kernel=linear;, score=0.611 total time=   1.4s\n",
            "[CV 2/3] END .......C=1, gamma=1, kernel=linear;, score=0.600 total time=   1.4s\n",
            "[CV 3/3] END .......C=1, gamma=1, kernel=linear;, score=0.601 total time=   1.4s\n",
            "[CV 1/3] END .....C=1, gamma=0.1, kernel=linear;, score=0.611 total time=   1.4s\n",
            "[CV 2/3] END .....C=1, gamma=0.1, kernel=linear;, score=0.600 total time=   1.4s\n",
            "[CV 3/3] END .....C=1, gamma=0.1, kernel=linear;, score=0.601 total time=   1.4s\n",
            "[CV 1/3] END ....C=1, gamma=0.01, kernel=linear;, score=0.611 total time=   1.4s\n",
            "[CV 2/3] END ....C=1, gamma=0.01, kernel=linear;, score=0.600 total time=   1.4s\n",
            "[CV 3/3] END ....C=1, gamma=0.01, kernel=linear;, score=0.601 total time=   1.4s\n",
            "[CV 1/3] END ...C=1, gamma=0.001, kernel=linear;, score=0.611 total time=   1.4s\n",
            "[CV 2/3] END ...C=1, gamma=0.001, kernel=linear;, score=0.600 total time=   1.4s\n",
            "[CV 3/3] END ...C=1, gamma=0.001, kernel=linear;, score=0.601 total time=   1.4s\n",
            "[CV 1/3] END ..C=1, gamma=0.0001, kernel=linear;, score=0.611 total time=   1.4s\n",
            "[CV 2/3] END ..C=1, gamma=0.0001, kernel=linear;, score=0.600 total time=   1.4s\n",
            "[CV 3/3] END ..C=1, gamma=0.0001, kernel=linear;, score=0.601 total time=   1.4s\n",
            "[CV 1/3] END ......C=10, gamma=1, kernel=linear;, score=0.611 total time=   2.9s\n",
            "[CV 2/3] END ......C=10, gamma=1, kernel=linear;, score=0.600 total time=   2.7s\n",
            "[CV 3/3] END ......C=10, gamma=1, kernel=linear;, score=0.601 total time=   2.7s\n",
            "[CV 1/3] END ....C=10, gamma=0.1, kernel=linear;, score=0.611 total time=   2.8s\n",
            "[CV 2/3] END ....C=10, gamma=0.1, kernel=linear;, score=0.600 total time=   2.7s\n",
            "[CV 3/3] END ....C=10, gamma=0.1, kernel=linear;, score=0.601 total time=   2.7s\n",
            "[CV 1/3] END ...C=10, gamma=0.01, kernel=linear;, score=0.611 total time=   2.9s\n",
            "[CV 2/3] END ...C=10, gamma=0.01, kernel=linear;, score=0.600 total time=   2.7s\n",
            "[CV 3/3] END ...C=10, gamma=0.01, kernel=linear;, score=0.601 total time=   2.7s\n",
            "[CV 1/3] END ..C=10, gamma=0.001, kernel=linear;, score=0.611 total time=   2.9s\n",
            "[CV 2/3] END ..C=10, gamma=0.001, kernel=linear;, score=0.600 total time=   2.7s\n",
            "[CV 3/3] END ..C=10, gamma=0.001, kernel=linear;, score=0.601 total time=   2.8s\n",
            "[CV 1/3] END .C=10, gamma=0.0001, kernel=linear;, score=0.611 total time=   3.4s\n",
            "[CV 2/3] END .C=10, gamma=0.0001, kernel=linear;, score=0.600 total time=   2.7s\n",
            "[CV 3/3] END .C=10, gamma=0.0001, kernel=linear;, score=0.601 total time=   2.7s\n"
          ]
        },
        {
          "output_type": "execute_result",
          "data": {
            "text/plain": [
              "GridSearchCV(cv=3, estimator=SVC(),\n",
              "             param_grid={'C': [0.1, 1, 10],\n",
              "                         'gamma': [1, 0.1, 0.01, 0.001, 0.0001],\n",
              "                         'kernel': ['linear']},\n",
              "             scoring='f1_macro', verbose=3)"
            ]
          },
          "metadata": {},
          "execution_count": 73
        }
      ]
    },
    {
      "cell_type": "code",
      "source": [
        "# print best parameter after tuning\n",
        "print(grid.best_params_)\n",
        "  \n",
        "# print how our model looks after hyper-parameter tuning\n",
        "print(grid.best_estimator_)"
      ],
      "metadata": {
        "colab": {
          "base_uri": "https://localhost:8080/"
        },
        "id": "v9GYvpaRjIM1",
        "outputId": "a9517401-8e51-46f9-be45-0ff7d1a2d3de"
      },
      "execution_count": 74,
      "outputs": [
        {
          "output_type": "stream",
          "name": "stdout",
          "text": [
            "{'C': 1, 'gamma': 1, 'kernel': 'linear'}\n",
            "SVC(C=1, gamma=1, kernel='linear')\n"
          ]
        }
      ]
    },
    {
      "cell_type": "code",
      "source": [
        "### Support Vector Machine with tuned parameters\n",
        "from sklearn import svm\n",
        "svc = grid.best_estimator_\n",
        "Y_pred1 = modelfit(svc, X_train, y_train, 5,X_val,y_val, X_test)"
      ],
      "metadata": {
        "colab": {
          "base_uri": "https://localhost:8080/"
        },
        "id": "dF0DdKVCjQy-",
        "outputId": "c48d587a-ae0f-4357-8e84-4f9e0342254a"
      },
      "execution_count": 75,
      "outputs": [
        {
          "output_type": "stream",
          "name": "stdout",
          "text": [
            "\n",
            "Model Results\n",
            "CV Score : Mean - 0.605 \n",
            "Std - 0.0112 \n",
            "Min - 0.593 \n",
            "Max- 0.625\n",
            "\n",
            "Evaluation Metrics- training data\n",
            "Accuracy :0.605 \n",
            "Precision :0.615 \n",
            "Recall : 0.56 \n",
            "Macro F1 score: 0.604 \n",
            "Confusion matrix: [[0.64928292 0.35071708]\n",
            " [0.44027126 0.55972874]]\n",
            "\n",
            "Evaluation Metrics- Validating data\n",
            "Accuracy of validating data :0.599\n"
          ]
        }
      ]
    },
    {
      "cell_type": "markdown",
      "source": [
        "### Model 4 -Decision Tree "
      ],
      "metadata": {
        "id": "ED9UNjCjruht"
      }
    },
    {
      "cell_type": "code",
      "source": [
        "# from sklearn.tree import DecisionTreeClassifier\n",
        "# # defining parameter range\n",
        "# param_grid =  {'splitter' : ['best', 'random'],\n",
        "# 'criterion' : ['gini', 'entropy'],\n",
        "# 'max_features': ['log2', 'sqrt','auto'],\n",
        "# 'max_depth': [2, 3, 5, 10, 17],\n",
        "# 'min_samples_split': [2, 3, 5, 7, 9],\n",
        "# 'min_samples_leaf': [1,5,8,11],\n",
        "# 'random_state' : [0,1,2,3,4,5]\n",
        "# }\n",
        "  \n",
        "# grid = GridSearchCV(DecisionTreeClassifier(), param_grid, refit = True, verbose = 3,scoring='f1_macro',cv=3)\n",
        "  \n",
        "# # fitting the model for grid search\n",
        "# grid.fit(X_train, y_train)"
      ],
      "metadata": {
        "id": "7IqgKRXdgEKZ"
      },
      "execution_count": 76,
      "outputs": []
    },
    {
      "cell_type": "code",
      "source": [
        "# # print best parameter after tuning\n",
        "# print(grid.best_params_)\n",
        "  \n",
        "# # print how our model looks after hyper-parameter tuning\n",
        "# print(grid.best_estimator_)"
      ],
      "metadata": {
        "id": "0tsS1z9ng86V"
      },
      "execution_count": 77,
      "outputs": []
    },
    {
      "cell_type": "markdown",
      "source": [
        "But I am not using this parameters since I found that this parameters result in overfitting the model"
      ],
      "metadata": {
        "id": "hVriLgG8ki4v"
      }
    },
    {
      "cell_type": "code",
      "source": [
        "# Decision Tree Classifier\n",
        "from sklearn.tree import DecisionTreeClassifier  \n",
        "classifier_DT= DecisionTreeClassifier(random_state=5, max_depth= 9, max_features=\"auto\", min_samples_split= 4, class_weight={0:0.3, 1:0.7},splitter='best') \n",
        "Y_pred = modelfit(classifier_DT, X_train, y_train, 5,X_val,y_val, X_test)"
      ],
      "metadata": {
        "colab": {
          "base_uri": "https://localhost:8080/"
        },
        "id": "WGPT9LKM59U9",
        "outputId": "5b622bac-df75-4579-ccf4-984150095c63"
      },
      "execution_count": 78,
      "outputs": [
        {
          "output_type": "stream",
          "name": "stdout",
          "text": [
            "\n",
            "Model Results\n",
            "CV Score : Mean - 0.561 \n",
            "Std - 0.0281 \n",
            "Min - 0.507 \n",
            "Max- 0.584\n",
            "\n",
            "Evaluation Metrics- training data\n",
            "Accuracy :0.659 \n",
            "Precision :0.599 \n",
            "Recall : 0.961 \n",
            "Macro F1 score: 0.624 \n",
            "Confusion matrix: [[0.3559322  0.6440678 ]\n",
            " [0.03860198 0.96139802]]\n",
            "\n",
            "Evaluation Metrics- Validating data\n",
            "Accuracy of validating data :0.619\n"
          ]
        }
      ]
    },
    {
      "cell_type": "code",
      "source": [
        "# Decision Tree Classifier with different hyper paramters \n",
        "from sklearn.tree import DecisionTreeClassifier  \n",
        "classifier_DT_1= DecisionTreeClassifier(criterion='gini', max_depth=7, random_state=0,class_weight={0:0.7, 1:0.7}) \n",
        "Y_pred = modelfit(classifier_DT_1, X_train, y_train, 5,X_val,y_val, X_test)"
      ],
      "metadata": {
        "colab": {
          "base_uri": "https://localhost:8080/"
        },
        "id": "RxwNnGBBZfU4",
        "outputId": "58b7e5ce-7beb-4461-99cb-8d33089802cd"
      },
      "execution_count": 79,
      "outputs": [
        {
          "output_type": "stream",
          "name": "stdout",
          "text": [
            "\n",
            "Model Results\n",
            "CV Score : Mean - 0.619 \n",
            "Std - 0.015 \n",
            "Min - 0.599 \n",
            "Max- 0.637\n",
            "\n",
            "Evaluation Metrics- training data\n",
            "Accuracy :0.66 \n",
            "Precision :0.648 \n",
            "Recall : 0.701 \n",
            "Macro F1 score: 0.659 \n",
            "Confusion matrix: [[0.61929596 0.38070404]\n",
            " [0.29916536 0.70083464]]\n",
            "\n",
            "Evaluation Metrics- Validating data\n",
            "Accuracy of validating data :0.61\n"
          ]
        }
      ]
    },
    {
      "cell_type": "code",
      "source": [
        "# Decision Tree Classifier with different hyper paramters \n",
        "from sklearn.tree import DecisionTreeClassifier  \n",
        "classifier_DT_1= DecisionTreeClassifier(criterion='entropy', max_depth=7, random_state=0,class_weight={0:0.7, 1:0.7}) \n",
        "Y_pred = modelfit(classifier_DT_1, X_train, y_train, 5,X_val,y_val, X_test)"
      ],
      "metadata": {
        "id": "WEyPyZk76jM3",
        "outputId": "7b1d6a15-57a2-44b9-96a6-e83061f841ab",
        "colab": {
          "base_uri": "https://localhost:8080/"
        }
      },
      "execution_count": 84,
      "outputs": [
        {
          "output_type": "stream",
          "name": "stdout",
          "text": [
            "\n",
            "Model Results\n",
            "CV Score : Mean - 0.618 \n",
            "Std - 0.012 \n",
            "Min - 0.6 \n",
            "Max- 0.632\n",
            "\n",
            "Evaluation Metrics- training data\n",
            "Accuracy :0.653 \n",
            "Precision :0.648 \n",
            "Recall : 0.671 \n",
            "Macro F1 score: 0.653 \n",
            "Confusion matrix: [[0.63520209 0.36479791]\n",
            " [0.32916015 0.67083985]]\n",
            "\n",
            "Evaluation Metrics- Validating data\n",
            "Accuracy of validating data :0.601\n"
          ]
        }
      ]
    },
    {
      "cell_type": "markdown",
      "source": [
        "### Model 5 - Naive Bayes"
      ],
      "metadata": {
        "id": "oMBJuOTtwtx_"
      }
    },
    {
      "cell_type": "code",
      "source": [
        "# Naive Bayes\n",
        "from sklearn.naive_bayes import GaussianNB, MultinomialNB\n",
        "gaussian = GaussianNB()\n",
        "Y_pred = modelfit(gaussian, X_train, y_train, 5,X_val,y_val, X_test)"
      ],
      "metadata": {
        "colab": {
          "base_uri": "https://localhost:8080/"
        },
        "id": "WZc0GAzGS_v4",
        "outputId": "9045c9be-6446-4004-8541-186be84ef601"
      },
      "execution_count": 80,
      "outputs": [
        {
          "output_type": "stream",
          "name": "stdout",
          "text": [
            "\n",
            "Model Results\n",
            "CV Score : Mean - 0.593 \n",
            "Std - 0.00644 \n",
            "Min - 0.587 \n",
            "Max- 0.605\n",
            "\n",
            "Evaluation Metrics- training data\n",
            "Accuracy :0.598 \n",
            "Precision :0.604 \n",
            "Recall : 0.57 \n",
            "Macro F1 score: 0.598 \n",
            "Confusion matrix: [[0.62685789 0.37314211]\n",
            " [0.43009911 0.56990089]]\n",
            "\n",
            "Evaluation Metrics- Validating data\n",
            "Accuracy of validating data :0.596\n"
          ]
        }
      ]
    },
    {
      "cell_type": "code",
      "source": [],
      "metadata": {
        "id": "psYcFCdB9jyr"
      },
      "execution_count": null,
      "outputs": []
    }
  ]
}